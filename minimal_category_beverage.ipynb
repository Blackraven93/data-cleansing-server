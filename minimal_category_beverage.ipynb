{
 "cells": [
  {
   "cell_type": "code",
   "execution_count": 2968,
   "outputs": [],
   "source": [
    "import pandas as pd\n",
    "import numpy as np\n",
    "import pprint as pp"
   ],
   "metadata": {
    "collapsed": false,
    "pycharm": {
     "name": "#%%\n"
    }
   }
  },
  {
   "cell_type": "code",
   "execution_count": 2969,
   "outputs": [],
   "source": [
    "sheet = pd.read_csv(\"/Users/raven/Desktop/programming/테스트(final).csv\")"
   ],
   "metadata": {
    "collapsed": false,
    "pycharm": {
     "name": "#%%\n"
    }
   }
  },
  {
   "cell_type": "code",
   "execution_count": 2970,
   "outputs": [],
   "source": [
    "sheet = sheet.drop('Unnamed: 0', axis=1)"
   ],
   "metadata": {
    "collapsed": false,
    "pycharm": {
     "name": "#%%\n"
    }
   }
  },
  {
   "cell_type": "code",
   "execution_count": 2971,
   "outputs": [
    {
     "name": "stdout",
     "output_type": "stream",
     "text": [
      "<class 'pandas.core.frame.DataFrame'>\n",
      "RangeIndex: 37353 entries, 0 to 37352\n",
      "Data columns (total 12 columns):\n",
      " #   Column         Non-Null Count  Dtype  \n",
      "---  ------         --------------  -----  \n",
      " 0   No             37353 non-null  int64  \n",
      " 1   식품명            37353 non-null  object \n",
      " 2   대분류            37353 non-null  object \n",
      " 3   중분류            37353 non-null  object \n",
      " 4   소분류            37353 non-null  object \n",
      " 5   1회 제공량         37353 non-null  int64  \n",
      " 6   용량             37353 non-null  object \n",
      " 7   총내용량(g)        37353 non-null  object \n",
      " 8   총내용량(ml)       37353 non-null  object \n",
      " 9   총당류(g)         37353 non-null  float64\n",
      " 10  총내용량           37353 non-null  float64\n",
      " 11  단위용량 대비 설탕 비율  37353 non-null  float64\n",
      "dtypes: float64(3), int64(2), object(7)\n",
      "memory usage: 3.4+ MB\n"
     ]
    }
   ],
   "source": [
    "sheet.info()"
   ],
   "metadata": {
    "collapsed": false,
    "pycharm": {
     "name": "#%%\n"
    }
   }
  },
  {
   "cell_type": "code",
   "execution_count": 2972,
   "outputs": [],
   "source": [
    "def seperated_category(middle_category, category_dictionary, *conditions):\n",
    "    for item in category_dictionary.items():\n",
    "        key = item[0]\n",
    "        value = item[1]\n",
    "        if conditions:\n",
    "            for category in value:\n",
    "                sheet.loc[\n",
    "                    (sheet['중분류'] == middle_category) &\n",
    "                    (sheet['식품명'].str.contains(category)) &\n",
    "                    conditions[0]\n",
    "                    , '소분류'] = key\n",
    "        else:\n",
    "            for category in value:\n",
    "                sheet.loc[\n",
    "                    (sheet['중분류'] == middle_category) &\n",
    "                    (sheet['식품명'].str.contains(category))\n",
    "                    , '소분류'] = key\n",
    "\n",
    "# ex) seperated_category('차', 차종류, (sheet['소분류'] != '분말'))"
   ],
   "metadata": {
    "collapsed": false,
    "pycharm": {
     "name": "#%%\n"
    }
   }
  },
  {
   "cell_type": "code",
   "execution_count": 2973,
   "outputs": [],
   "source": [
    "sheet.loc[sheet['대분류'] == '음료', :]\n",
    "sheet.loc[(sheet['대분류'] == '음료') & (sheet['중분류'] == '과/채음료'), '중분류'] = '과·채음료'"
   ],
   "metadata": {
    "collapsed": false,
    "pycharm": {
     "name": "#%%\n"
    }
   }
  },
  {
   "cell_type": "code",
   "execution_count": 2974,
   "outputs": [
    {
     "name": "stdout",
     "output_type": "stream",
     "text": [
      "'음료 : 9035'\n",
      "'유가공품 : 2306'\n",
      "'과자 : 7054'\n",
      "'빵 : 8811'\n",
      "'캔디, 초콜릿, 젤리, 캐러멜, 양갱 : 6459'\n",
      "'떡, 시리얼, 견과류 : 105'\n",
      "'아이스크림 : 3583'\n"
     ]
    }
   ],
   "source": [
    "for value in list(sheet['대분류'].unique()):\n",
    "    pp.pprint(f\"{value} : {len(sheet.loc[sheet['대분류'] == value, :])}\")"
   ],
   "metadata": {
    "collapsed": false,
    "pycharm": {
     "name": "#%%\n"
    }
   }
  },
  {
   "cell_type": "code",
   "execution_count": 2975,
   "outputs": [
    {
     "name": "stdout",
     "output_type": "stream",
     "text": [
      "음료\n",
      "유가공품\n",
      "과자\n",
      "빵\n",
      "초콜릿, 카라멜\n",
      "젤리\n",
      "캔디, 양갱\n",
      "떡, 시리얼, 견과류\n",
      "아이스크림\n"
     ]
    }
   ],
   "source": [
    "# sheet[sheet['식품명'].str.contains('젤리')] 866\n",
    "# sheet[sheet['중분류'] == '캔디'] 1447\n",
    "# sheet[sheet['중분류'] == '양갱'] 219\n",
    "# sheet[sheet['중분류'] == '캐러멜'] 143\n",
    "# sheet[sheet['중분류'] == '초콜릿'] 3457\n",
    "# sheet[sheet['중분류'] == '젤리'] 1306\n",
    "\n",
    "for value in ['음료', '유가공품', '과자', '빵', '초콜릿, 카라멜', '젤리', '캔디, 양갱', '떡, 시리얼, 견과류', '아이스크림']:\n",
    "    print(value)"
   ],
   "metadata": {
    "collapsed": false,
    "pycharm": {
     "name": "#%%\n"
    }
   }
  },
  {
   "cell_type": "code",
   "execution_count": 2976,
   "outputs": [
    {
     "data": {
      "text/plain": "array(['음료', '유가공품', '과자', '빵', '캔디, 초콜릿, 젤리, 캐러멜, 양갱', '떡, 시리얼, 견과류',\n       '아이스크림'], dtype=object)"
     },
     "execution_count": 2976,
     "metadata": {},
     "output_type": "execute_result"
    }
   ],
   "source": [
    "sheet['대분류'].unique()"
   ],
   "metadata": {
    "collapsed": false,
    "pycharm": {
     "name": "#%%\n"
    }
   }
  },
  {
   "cell_type": "code",
   "execution_count": 2977,
   "outputs": [],
   "source": [
    "# 음료\n",
    "sheet.loc[((sheet[\"식품명\"].str.contains('젤리')) & (sheet[\"대분류\"] == '음료')), '중분류'] = '젤리'\n",
    "sheet.loc[((sheet[\"식품명\"].str.contains('두유')) & (sheet[\"대분류\"] == '음료')), '중분류'] = '두유'"
   ],
   "metadata": {
    "collapsed": false,
    "pycharm": {
     "name": "#%%\n"
    }
   }
  },
  {
   "cell_type": "code",
   "execution_count": 2978,
   "outputs": [
    {
     "data": {
      "text/plain": "         No                      식품명 대분류    중분류    소분류  1회 제공량  용량 총내용량(g)  \\\n2546  14784  100% 유기농 야채농장 유기농 과일,야채  음료  과·채음료  과/채주스     190  mL       -   \n2750  28887  100% 유기농 야채농장 유기농 과일,야채  음료  과·채음료  과/채주스     190  mL     190   \n3910  49121  100% 유기농 야채농장 유기농 과일,야채  음료  과·채음료  과/채주스    1190   g    1190   \n\n     총내용량(ml)  총당류(g)    총내용량  단위용량 대비 설탕 비율  \n2546      190    16.0   190.0            8.4  \n2750        -    16.0   190.0            8.4  \n3910        -    16.0  1190.0            1.3  ",
      "text/html": "<div>\n<style scoped>\n    .dataframe tbody tr th:only-of-type {\n        vertical-align: middle;\n    }\n\n    .dataframe tbody tr th {\n        vertical-align: top;\n    }\n\n    .dataframe thead th {\n        text-align: right;\n    }\n</style>\n<table border=\"1\" class=\"dataframe\">\n  <thead>\n    <tr style=\"text-align: right;\">\n      <th></th>\n      <th>No</th>\n      <th>식품명</th>\n      <th>대분류</th>\n      <th>중분류</th>\n      <th>소분류</th>\n      <th>1회 제공량</th>\n      <th>용량</th>\n      <th>총내용량(g)</th>\n      <th>총내용량(ml)</th>\n      <th>총당류(g)</th>\n      <th>총내용량</th>\n      <th>단위용량 대비 설탕 비율</th>\n    </tr>\n  </thead>\n  <tbody>\n    <tr>\n      <th>2546</th>\n      <td>14784</td>\n      <td>100% 유기농 야채농장 유기농 과일,야채</td>\n      <td>음료</td>\n      <td>과·채음료</td>\n      <td>과/채주스</td>\n      <td>190</td>\n      <td>mL</td>\n      <td>-</td>\n      <td>190</td>\n      <td>16.0</td>\n      <td>190.0</td>\n      <td>8.4</td>\n    </tr>\n    <tr>\n      <th>2750</th>\n      <td>28887</td>\n      <td>100% 유기농 야채농장 유기농 과일,야채</td>\n      <td>음료</td>\n      <td>과·채음료</td>\n      <td>과/채주스</td>\n      <td>190</td>\n      <td>mL</td>\n      <td>190</td>\n      <td>-</td>\n      <td>16.0</td>\n      <td>190.0</td>\n      <td>8.4</td>\n    </tr>\n    <tr>\n      <th>3910</th>\n      <td>49121</td>\n      <td>100% 유기농 야채농장 유기농 과일,야채</td>\n      <td>음료</td>\n      <td>과·채음료</td>\n      <td>과/채주스</td>\n      <td>1190</td>\n      <td>g</td>\n      <td>1190</td>\n      <td>-</td>\n      <td>16.0</td>\n      <td>1190.0</td>\n      <td>1.3</td>\n    </tr>\n  </tbody>\n</table>\n</div>"
     },
     "execution_count": 2978,
     "metadata": {},
     "output_type": "execute_result"
    }
   ],
   "source": [
    "sheet.loc[(sheet['대분류'] == '음료') & (sheet['식품명'] == '100% 유기농 야채농장 유기농 과일,야채'), :]"
   ],
   "metadata": {
    "collapsed": false,
    "pycharm": {
     "name": "#%%\n"
    }
   }
  },
  {
   "cell_type": "code",
   "execution_count": 2979,
   "outputs": [
    {
     "data": {
      "text/plain": "          No               식품명 대분류 중분류    소분류  1회 제공량  용량 총내용량(g) 총내용량(ml)  \\\n1077   16132       쁘띠첼 워터젤리 포도  음료  젤리  과/채음료     130  mL       -      130   \n1095   16152      쁘띠첼 워터젤리 복숭아  음료  젤리  과/채음료     130  mL       -      130   \n1113   16170          워터젤리 청포도  음료  젤리  과/채음료     170  mL       -      170   \n1117   16174   쁘띠첼 워터젤리 플러스 포도  음료  젤리  과/채음료     170  mL       -      170   \n1129   16187       쁘띠첼 워터젤리 사과  음료  젤리  과/채음료     130  mL       -      130   \n...      ...               ...  ..  ..    ...     ...  ..     ...      ...   \n36796  60918            타트체리젤리  음료  젤리   혼합음료      20   g     600        -   \n37028  65559  몸이 반한 곤약 젤리 청포도맛  음료  젤리   혼합음료     130   g     130        -   \n37029  65563   몸이반한 곤약젤리(복숭아맛)  음료  젤리   혼합음료     130   g     130        -   \n37030  65564    몸이반한 곤약젤리(사과맛)  음료  젤리   혼합음료     130   g     130        -   \n37031  65569       감귤이 반한 곤약젤리  음료  젤리   혼합음료     130   g     130        -   \n\n       총당류(g)   총내용량  단위용량 대비 설탕 비율  \n1077     13.0  130.0           10.0  \n1095     15.0  130.0           11.5  \n1113     30.0  170.0           17.6  \n1117     19.0  170.0           11.2  \n1129     12.0  130.0            9.2  \n...       ...    ...            ...  \n36796     5.5  600.0           27.5  \n37028     7.0  130.0            5.4  \n37029     7.0  130.0            5.4  \n37030     7.0  130.0            5.4  \n37031     4.0  130.0            3.1  \n\n[866 rows x 12 columns]",
      "text/html": "<div>\n<style scoped>\n    .dataframe tbody tr th:only-of-type {\n        vertical-align: middle;\n    }\n\n    .dataframe tbody tr th {\n        vertical-align: top;\n    }\n\n    .dataframe thead th {\n        text-align: right;\n    }\n</style>\n<table border=\"1\" class=\"dataframe\">\n  <thead>\n    <tr style=\"text-align: right;\">\n      <th></th>\n      <th>No</th>\n      <th>식품명</th>\n      <th>대분류</th>\n      <th>중분류</th>\n      <th>소분류</th>\n      <th>1회 제공량</th>\n      <th>용량</th>\n      <th>총내용량(g)</th>\n      <th>총내용량(ml)</th>\n      <th>총당류(g)</th>\n      <th>총내용량</th>\n      <th>단위용량 대비 설탕 비율</th>\n    </tr>\n  </thead>\n  <tbody>\n    <tr>\n      <th>1077</th>\n      <td>16132</td>\n      <td>쁘띠첼 워터젤리 포도</td>\n      <td>음료</td>\n      <td>젤리</td>\n      <td>과/채음료</td>\n      <td>130</td>\n      <td>mL</td>\n      <td>-</td>\n      <td>130</td>\n      <td>13.0</td>\n      <td>130.0</td>\n      <td>10.0</td>\n    </tr>\n    <tr>\n      <th>1095</th>\n      <td>16152</td>\n      <td>쁘띠첼 워터젤리 복숭아</td>\n      <td>음료</td>\n      <td>젤리</td>\n      <td>과/채음료</td>\n      <td>130</td>\n      <td>mL</td>\n      <td>-</td>\n      <td>130</td>\n      <td>15.0</td>\n      <td>130.0</td>\n      <td>11.5</td>\n    </tr>\n    <tr>\n      <th>1113</th>\n      <td>16170</td>\n      <td>워터젤리 청포도</td>\n      <td>음료</td>\n      <td>젤리</td>\n      <td>과/채음료</td>\n      <td>170</td>\n      <td>mL</td>\n      <td>-</td>\n      <td>170</td>\n      <td>30.0</td>\n      <td>170.0</td>\n      <td>17.6</td>\n    </tr>\n    <tr>\n      <th>1117</th>\n      <td>16174</td>\n      <td>쁘띠첼 워터젤리 플러스 포도</td>\n      <td>음료</td>\n      <td>젤리</td>\n      <td>과/채음료</td>\n      <td>170</td>\n      <td>mL</td>\n      <td>-</td>\n      <td>170</td>\n      <td>19.0</td>\n      <td>170.0</td>\n      <td>11.2</td>\n    </tr>\n    <tr>\n      <th>1129</th>\n      <td>16187</td>\n      <td>쁘띠첼 워터젤리 사과</td>\n      <td>음료</td>\n      <td>젤리</td>\n      <td>과/채음료</td>\n      <td>130</td>\n      <td>mL</td>\n      <td>-</td>\n      <td>130</td>\n      <td>12.0</td>\n      <td>130.0</td>\n      <td>9.2</td>\n    </tr>\n    <tr>\n      <th>...</th>\n      <td>...</td>\n      <td>...</td>\n      <td>...</td>\n      <td>...</td>\n      <td>...</td>\n      <td>...</td>\n      <td>...</td>\n      <td>...</td>\n      <td>...</td>\n      <td>...</td>\n      <td>...</td>\n      <td>...</td>\n    </tr>\n    <tr>\n      <th>36796</th>\n      <td>60918</td>\n      <td>타트체리젤리</td>\n      <td>음료</td>\n      <td>젤리</td>\n      <td>혼합음료</td>\n      <td>20</td>\n      <td>g</td>\n      <td>600</td>\n      <td>-</td>\n      <td>5.5</td>\n      <td>600.0</td>\n      <td>27.5</td>\n    </tr>\n    <tr>\n      <th>37028</th>\n      <td>65559</td>\n      <td>몸이 반한 곤약 젤리 청포도맛</td>\n      <td>음료</td>\n      <td>젤리</td>\n      <td>혼합음료</td>\n      <td>130</td>\n      <td>g</td>\n      <td>130</td>\n      <td>-</td>\n      <td>7.0</td>\n      <td>130.0</td>\n      <td>5.4</td>\n    </tr>\n    <tr>\n      <th>37029</th>\n      <td>65563</td>\n      <td>몸이반한 곤약젤리(복숭아맛)</td>\n      <td>음료</td>\n      <td>젤리</td>\n      <td>혼합음료</td>\n      <td>130</td>\n      <td>g</td>\n      <td>130</td>\n      <td>-</td>\n      <td>7.0</td>\n      <td>130.0</td>\n      <td>5.4</td>\n    </tr>\n    <tr>\n      <th>37030</th>\n      <td>65564</td>\n      <td>몸이반한 곤약젤리(사과맛)</td>\n      <td>음료</td>\n      <td>젤리</td>\n      <td>혼합음료</td>\n      <td>130</td>\n      <td>g</td>\n      <td>130</td>\n      <td>-</td>\n      <td>7.0</td>\n      <td>130.0</td>\n      <td>5.4</td>\n    </tr>\n    <tr>\n      <th>37031</th>\n      <td>65569</td>\n      <td>감귤이 반한 곤약젤리</td>\n      <td>음료</td>\n      <td>젤리</td>\n      <td>혼합음료</td>\n      <td>130</td>\n      <td>g</td>\n      <td>130</td>\n      <td>-</td>\n      <td>4.0</td>\n      <td>130.0</td>\n      <td>3.1</td>\n    </tr>\n  </tbody>\n</table>\n<p>866 rows × 12 columns</p>\n</div>"
     },
     "execution_count": 2979,
     "metadata": {},
     "output_type": "execute_result"
    }
   ],
   "source": [
    "sheet.loc[sheet[\"식품명\"].str.contains('젤리'), :]"
   ],
   "metadata": {
    "collapsed": false,
    "pycharm": {
     "name": "#%%\n"
    }
   }
  },
  {
   "cell_type": "code",
   "execution_count": 2980,
   "outputs": [],
   "source": [
    "sheet = sheet.drop(3910, axis=0)"
   ],
   "metadata": {
    "collapsed": false,
    "pycharm": {
     "name": "#%%\n"
    }
   }
  },
  {
   "cell_type": "code",
   "execution_count": 2981,
   "outputs": [
    {
     "data": {
      "text/plain": "         No                      식품명 대분류    중분류    소분류  1회 제공량  용량 총내용량(g)  \\\n2546  14784  100% 유기농 야채농장 유기농 과일,야채  음료  과·채음료  과/채주스     190  mL       -   \n2750  28887  100% 유기농 야채농장 유기농 과일,야채  음료  과·채음료  과/채주스     190  mL     190   \n\n     총내용량(ml)  총당류(g)   총내용량  단위용량 대비 설탕 비율  \n2546      190    16.0  190.0            8.4  \n2750        -    16.0  190.0            8.4  ",
      "text/html": "<div>\n<style scoped>\n    .dataframe tbody tr th:only-of-type {\n        vertical-align: middle;\n    }\n\n    .dataframe tbody tr th {\n        vertical-align: top;\n    }\n\n    .dataframe thead th {\n        text-align: right;\n    }\n</style>\n<table border=\"1\" class=\"dataframe\">\n  <thead>\n    <tr style=\"text-align: right;\">\n      <th></th>\n      <th>No</th>\n      <th>식품명</th>\n      <th>대분류</th>\n      <th>중분류</th>\n      <th>소분류</th>\n      <th>1회 제공량</th>\n      <th>용량</th>\n      <th>총내용량(g)</th>\n      <th>총내용량(ml)</th>\n      <th>총당류(g)</th>\n      <th>총내용량</th>\n      <th>단위용량 대비 설탕 비율</th>\n    </tr>\n  </thead>\n  <tbody>\n    <tr>\n      <th>2546</th>\n      <td>14784</td>\n      <td>100% 유기농 야채농장 유기농 과일,야채</td>\n      <td>음료</td>\n      <td>과·채음료</td>\n      <td>과/채주스</td>\n      <td>190</td>\n      <td>mL</td>\n      <td>-</td>\n      <td>190</td>\n      <td>16.0</td>\n      <td>190.0</td>\n      <td>8.4</td>\n    </tr>\n    <tr>\n      <th>2750</th>\n      <td>28887</td>\n      <td>100% 유기농 야채농장 유기농 과일,야채</td>\n      <td>음료</td>\n      <td>과·채음료</td>\n      <td>과/채주스</td>\n      <td>190</td>\n      <td>mL</td>\n      <td>190</td>\n      <td>-</td>\n      <td>16.0</td>\n      <td>190.0</td>\n      <td>8.4</td>\n    </tr>\n  </tbody>\n</table>\n</div>"
     },
     "execution_count": 2981,
     "metadata": {},
     "output_type": "execute_result"
    }
   ],
   "source": [
    "sheet.loc[(sheet['대분류'] == '음료') & (sheet['식품명'] == '100% 유기농 야채농장 유기농 과일,야채'), :]"
   ],
   "metadata": {
    "collapsed": false,
    "pycharm": {
     "name": "#%%\n"
    }
   }
  },
  {
   "cell_type": "code",
   "execution_count": 2982,
   "outputs": [],
   "source": [
    "sheet.loc[(sheet['대분류'] == '음료') & (sheet['식품명'] == '제주사랑감귤사랑'), '1회 제공량'] = 200"
   ],
   "metadata": {
    "collapsed": false,
    "pycharm": {
     "name": "#%%\n"
    }
   }
  },
  {
   "cell_type": "code",
   "execution_count": 2983,
   "outputs": [
    {
     "data": {
      "text/plain": "         No       식품명 대분류    중분류    소분류  1회 제공량  용량 총내용량(g) 총내용량(ml)  총당류(g)  \\\n955   15924  제주사랑감귤사랑  음료  과·채음료  과/채음료     200  mL       -     1500     9.0   \n1754  31871  제주사랑감귤사랑  음료  과·채음료  과/채음료     200  mL    1200        -     8.0   \n2323  63193  제주사랑감귤사랑  음료  과·채음료  과/채음료     200  mL       -     1200     8.0   \n\n        총내용량  단위용량 대비 설탕 비율  \n955   1500.0            9.0  \n1754  1200.0            8.0  \n2323  1200.0            8.0  ",
      "text/html": "<div>\n<style scoped>\n    .dataframe tbody tr th:only-of-type {\n        vertical-align: middle;\n    }\n\n    .dataframe tbody tr th {\n        vertical-align: top;\n    }\n\n    .dataframe thead th {\n        text-align: right;\n    }\n</style>\n<table border=\"1\" class=\"dataframe\">\n  <thead>\n    <tr style=\"text-align: right;\">\n      <th></th>\n      <th>No</th>\n      <th>식품명</th>\n      <th>대분류</th>\n      <th>중분류</th>\n      <th>소분류</th>\n      <th>1회 제공량</th>\n      <th>용량</th>\n      <th>총내용량(g)</th>\n      <th>총내용량(ml)</th>\n      <th>총당류(g)</th>\n      <th>총내용량</th>\n      <th>단위용량 대비 설탕 비율</th>\n    </tr>\n  </thead>\n  <tbody>\n    <tr>\n      <th>955</th>\n      <td>15924</td>\n      <td>제주사랑감귤사랑</td>\n      <td>음료</td>\n      <td>과·채음료</td>\n      <td>과/채음료</td>\n      <td>200</td>\n      <td>mL</td>\n      <td>-</td>\n      <td>1500</td>\n      <td>9.0</td>\n      <td>1500.0</td>\n      <td>9.0</td>\n    </tr>\n    <tr>\n      <th>1754</th>\n      <td>31871</td>\n      <td>제주사랑감귤사랑</td>\n      <td>음료</td>\n      <td>과·채음료</td>\n      <td>과/채음료</td>\n      <td>200</td>\n      <td>mL</td>\n      <td>1200</td>\n      <td>-</td>\n      <td>8.0</td>\n      <td>1200.0</td>\n      <td>8.0</td>\n    </tr>\n    <tr>\n      <th>2323</th>\n      <td>63193</td>\n      <td>제주사랑감귤사랑</td>\n      <td>음료</td>\n      <td>과·채음료</td>\n      <td>과/채음료</td>\n      <td>200</td>\n      <td>mL</td>\n      <td>-</td>\n      <td>1200</td>\n      <td>8.0</td>\n      <td>1200.0</td>\n      <td>8.0</td>\n    </tr>\n  </tbody>\n</table>\n</div>"
     },
     "execution_count": 2983,
     "metadata": {},
     "output_type": "execute_result"
    }
   ],
   "source": [
    "sheet.loc[(sheet['대분류'] == '음료') & (sheet['식품명'] == '제주사랑감귤사랑'), :]"
   ],
   "metadata": {
    "collapsed": false,
    "pycharm": {
     "name": "#%%\n"
    }
   }
  },
  {
   "cell_type": "code",
   "execution_count": 2984,
   "outputs": [],
   "source": [
    "sheet = sheet.drop(955, axis=0)"
   ],
   "metadata": {
    "collapsed": false,
    "pycharm": {
     "name": "#%%\n"
    }
   }
  },
  {
   "cell_type": "code",
   "execution_count": 2985,
   "outputs": [],
   "source": [
    "# sheet.loc[((sheet[\"식품명\"].str.contains('스틱')) & (sheet[\"대분류\"] == ' 음료')), :] # 64rows\n",
    "# sheet.loc[((sheet[\"식품명\"].str.contains('젤리')) & (sheet[\"대분류\"] == '음료')), :] # 113rows"
   ],
   "metadata": {
    "collapsed": false,
    "pycharm": {
     "name": "#%%\n"
    }
   }
  },
  {
   "cell_type": "code",
   "execution_count": 2986,
   "outputs": [
    {
     "data": {
      "text/plain": "          No                식품명 대분류      중분류    소분류  1회 제공량  용량 총내용량(g)  \\\n1209   29041        깔라만시 클렌즈 스틱  음료    과·채음료  과/채음료     280  mL     280   \n1364   29851          아로니아 홍삼스틱  음료  인삼/홍삼음료  과/채음료     100  mL     100   \n1498   30629      데일리 아로니아 골드스틱  음료     활력음료  과/채음료      10  mL     300   \n1569   31033             배도라지스틱  음료    과·채음료  과/채음료      10  mL     300   \n1654   31354        탱글콜라겐석류젤리스틱  음료       젤리  과/채음료      20  mL     300   \n...      ...                ...  ..      ...    ...     ...  ..     ...   \n37056  65640        저분자 석류콜라겐스틱  음료     활력음료   혼합음료      20   g     200   \n37057  65641  쥬씨헬씨 엘라스틴 석류콜라겐스틱  음료     활력음료   혼합음료      20   g     300   \n37063  65647      탱글 ABC주스콜라겐스틱  음료     활력음료   혼합음료      20   g     300   \n37065  65649       탱글 콜라겐 석류 스틱  음료     활력음료   혼합음료      20   g     300   \n37066  65650  탱글콜라겐 몽모랑시타트체리 스틱  음료     활력음료   혼합음료      20   g     300   \n\n      총내용량(ml)  총당류(g)   총내용량  단위용량 대비 설탕 비율  \n1209         -     5.0  280.0            1.8  \n1364         -     2.0  100.0            2.0  \n1498         -     4.0  300.0           40.0  \n1569         -     3.0  300.0           30.0  \n1654         -     2.0  300.0           10.0  \n...        ...     ...    ...            ...  \n37056        -     2.0  200.0           10.0  \n37057        -     2.0  300.0           10.0  \n37063        -     5.0  300.0           25.0  \n37065        -     2.0  300.0           10.0  \n37066        -     4.0  300.0           20.0  \n\n[64 rows x 12 columns]",
      "text/html": "<div>\n<style scoped>\n    .dataframe tbody tr th:only-of-type {\n        vertical-align: middle;\n    }\n\n    .dataframe tbody tr th {\n        vertical-align: top;\n    }\n\n    .dataframe thead th {\n        text-align: right;\n    }\n</style>\n<table border=\"1\" class=\"dataframe\">\n  <thead>\n    <tr style=\"text-align: right;\">\n      <th></th>\n      <th>No</th>\n      <th>식품명</th>\n      <th>대분류</th>\n      <th>중분류</th>\n      <th>소분류</th>\n      <th>1회 제공량</th>\n      <th>용량</th>\n      <th>총내용량(g)</th>\n      <th>총내용량(ml)</th>\n      <th>총당류(g)</th>\n      <th>총내용량</th>\n      <th>단위용량 대비 설탕 비율</th>\n    </tr>\n  </thead>\n  <tbody>\n    <tr>\n      <th>1209</th>\n      <td>29041</td>\n      <td>깔라만시 클렌즈 스틱</td>\n      <td>음료</td>\n      <td>과·채음료</td>\n      <td>과/채음료</td>\n      <td>280</td>\n      <td>mL</td>\n      <td>280</td>\n      <td>-</td>\n      <td>5.0</td>\n      <td>280.0</td>\n      <td>1.8</td>\n    </tr>\n    <tr>\n      <th>1364</th>\n      <td>29851</td>\n      <td>아로니아 홍삼스틱</td>\n      <td>음료</td>\n      <td>인삼/홍삼음료</td>\n      <td>과/채음료</td>\n      <td>100</td>\n      <td>mL</td>\n      <td>100</td>\n      <td>-</td>\n      <td>2.0</td>\n      <td>100.0</td>\n      <td>2.0</td>\n    </tr>\n    <tr>\n      <th>1498</th>\n      <td>30629</td>\n      <td>데일리 아로니아 골드스틱</td>\n      <td>음료</td>\n      <td>활력음료</td>\n      <td>과/채음료</td>\n      <td>10</td>\n      <td>mL</td>\n      <td>300</td>\n      <td>-</td>\n      <td>4.0</td>\n      <td>300.0</td>\n      <td>40.0</td>\n    </tr>\n    <tr>\n      <th>1569</th>\n      <td>31033</td>\n      <td>배도라지스틱</td>\n      <td>음료</td>\n      <td>과·채음료</td>\n      <td>과/채음료</td>\n      <td>10</td>\n      <td>mL</td>\n      <td>300</td>\n      <td>-</td>\n      <td>3.0</td>\n      <td>300.0</td>\n      <td>30.0</td>\n    </tr>\n    <tr>\n      <th>1654</th>\n      <td>31354</td>\n      <td>탱글콜라겐석류젤리스틱</td>\n      <td>음료</td>\n      <td>젤리</td>\n      <td>과/채음료</td>\n      <td>20</td>\n      <td>mL</td>\n      <td>300</td>\n      <td>-</td>\n      <td>2.0</td>\n      <td>300.0</td>\n      <td>10.0</td>\n    </tr>\n    <tr>\n      <th>...</th>\n      <td>...</td>\n      <td>...</td>\n      <td>...</td>\n      <td>...</td>\n      <td>...</td>\n      <td>...</td>\n      <td>...</td>\n      <td>...</td>\n      <td>...</td>\n      <td>...</td>\n      <td>...</td>\n      <td>...</td>\n    </tr>\n    <tr>\n      <th>37056</th>\n      <td>65640</td>\n      <td>저분자 석류콜라겐스틱</td>\n      <td>음료</td>\n      <td>활력음료</td>\n      <td>혼합음료</td>\n      <td>20</td>\n      <td>g</td>\n      <td>200</td>\n      <td>-</td>\n      <td>2.0</td>\n      <td>200.0</td>\n      <td>10.0</td>\n    </tr>\n    <tr>\n      <th>37057</th>\n      <td>65641</td>\n      <td>쥬씨헬씨 엘라스틴 석류콜라겐스틱</td>\n      <td>음료</td>\n      <td>활력음료</td>\n      <td>혼합음료</td>\n      <td>20</td>\n      <td>g</td>\n      <td>300</td>\n      <td>-</td>\n      <td>2.0</td>\n      <td>300.0</td>\n      <td>10.0</td>\n    </tr>\n    <tr>\n      <th>37063</th>\n      <td>65647</td>\n      <td>탱글 ABC주스콜라겐스틱</td>\n      <td>음료</td>\n      <td>활력음료</td>\n      <td>혼합음료</td>\n      <td>20</td>\n      <td>g</td>\n      <td>300</td>\n      <td>-</td>\n      <td>5.0</td>\n      <td>300.0</td>\n      <td>25.0</td>\n    </tr>\n    <tr>\n      <th>37065</th>\n      <td>65649</td>\n      <td>탱글 콜라겐 석류 스틱</td>\n      <td>음료</td>\n      <td>활력음료</td>\n      <td>혼합음료</td>\n      <td>20</td>\n      <td>g</td>\n      <td>300</td>\n      <td>-</td>\n      <td>2.0</td>\n      <td>300.0</td>\n      <td>10.0</td>\n    </tr>\n    <tr>\n      <th>37066</th>\n      <td>65650</td>\n      <td>탱글콜라겐 몽모랑시타트체리 스틱</td>\n      <td>음료</td>\n      <td>활력음료</td>\n      <td>혼합음료</td>\n      <td>20</td>\n      <td>g</td>\n      <td>300</td>\n      <td>-</td>\n      <td>4.0</td>\n      <td>300.0</td>\n      <td>20.0</td>\n    </tr>\n  </tbody>\n</table>\n<p>64 rows × 12 columns</p>\n</div>"
     },
     "execution_count": 2986,
     "metadata": {},
     "output_type": "execute_result"
    }
   ],
   "source": [
    "sheet.loc[((sheet[\"식품명\"].str.contains('스틱')) & (sheet[\"대분류\"] == '음료')), :]"
   ],
   "metadata": {
    "collapsed": false,
    "pycharm": {
     "name": "#%%\n"
    }
   }
  },
  {
   "cell_type": "code",
   "execution_count": 2987,
   "outputs": [
    {
     "data": {
      "text/plain": "          No               식품명 대분류 중분류    소분류  1회 제공량  용량 총내용량(g) 총내용량(ml)  \\\n1077   16132       쁘띠첼 워터젤리 포도  음료  젤리  과/채음료     130  mL       -      130   \n1095   16152      쁘띠첼 워터젤리 복숭아  음료  젤리  과/채음료     130  mL       -      130   \n1113   16170          워터젤리 청포도  음료  젤리  과/채음료     170  mL       -      170   \n1117   16174   쁘띠첼 워터젤리 플러스 포도  음료  젤리  과/채음료     170  mL       -      170   \n1129   16187       쁘띠첼 워터젤리 사과  음료  젤리  과/채음료     130  mL       -      130   \n...      ...               ...  ..  ..    ...     ...  ..     ...      ...   \n36796  60918            타트체리젤리  음료  젤리   혼합음료      20   g     600        -   \n37028  65559  몸이 반한 곤약 젤리 청포도맛  음료  젤리   혼합음료     130   g     130        -   \n37029  65563   몸이반한 곤약젤리(복숭아맛)  음료  젤리   혼합음료     130   g     130        -   \n37030  65564    몸이반한 곤약젤리(사과맛)  음료  젤리   혼합음료     130   g     130        -   \n37031  65569       감귤이 반한 곤약젤리  음료  젤리   혼합음료     130   g     130        -   \n\n       총당류(g)   총내용량  단위용량 대비 설탕 비율  \n1077     13.0  130.0           10.0  \n1095     15.0  130.0           11.5  \n1113     30.0  170.0           17.6  \n1117     19.0  170.0           11.2  \n1129     12.0  130.0            9.2  \n...       ...    ...            ...  \n36796     5.5  600.0           27.5  \n37028     7.0  130.0            5.4  \n37029     7.0  130.0            5.4  \n37030     7.0  130.0            5.4  \n37031     4.0  130.0            3.1  \n\n[113 rows x 12 columns]",
      "text/html": "<div>\n<style scoped>\n    .dataframe tbody tr th:only-of-type {\n        vertical-align: middle;\n    }\n\n    .dataframe tbody tr th {\n        vertical-align: top;\n    }\n\n    .dataframe thead th {\n        text-align: right;\n    }\n</style>\n<table border=\"1\" class=\"dataframe\">\n  <thead>\n    <tr style=\"text-align: right;\">\n      <th></th>\n      <th>No</th>\n      <th>식품명</th>\n      <th>대분류</th>\n      <th>중분류</th>\n      <th>소분류</th>\n      <th>1회 제공량</th>\n      <th>용량</th>\n      <th>총내용량(g)</th>\n      <th>총내용량(ml)</th>\n      <th>총당류(g)</th>\n      <th>총내용량</th>\n      <th>단위용량 대비 설탕 비율</th>\n    </tr>\n  </thead>\n  <tbody>\n    <tr>\n      <th>1077</th>\n      <td>16132</td>\n      <td>쁘띠첼 워터젤리 포도</td>\n      <td>음료</td>\n      <td>젤리</td>\n      <td>과/채음료</td>\n      <td>130</td>\n      <td>mL</td>\n      <td>-</td>\n      <td>130</td>\n      <td>13.0</td>\n      <td>130.0</td>\n      <td>10.0</td>\n    </tr>\n    <tr>\n      <th>1095</th>\n      <td>16152</td>\n      <td>쁘띠첼 워터젤리 복숭아</td>\n      <td>음료</td>\n      <td>젤리</td>\n      <td>과/채음료</td>\n      <td>130</td>\n      <td>mL</td>\n      <td>-</td>\n      <td>130</td>\n      <td>15.0</td>\n      <td>130.0</td>\n      <td>11.5</td>\n    </tr>\n    <tr>\n      <th>1113</th>\n      <td>16170</td>\n      <td>워터젤리 청포도</td>\n      <td>음료</td>\n      <td>젤리</td>\n      <td>과/채음료</td>\n      <td>170</td>\n      <td>mL</td>\n      <td>-</td>\n      <td>170</td>\n      <td>30.0</td>\n      <td>170.0</td>\n      <td>17.6</td>\n    </tr>\n    <tr>\n      <th>1117</th>\n      <td>16174</td>\n      <td>쁘띠첼 워터젤리 플러스 포도</td>\n      <td>음료</td>\n      <td>젤리</td>\n      <td>과/채음료</td>\n      <td>170</td>\n      <td>mL</td>\n      <td>-</td>\n      <td>170</td>\n      <td>19.0</td>\n      <td>170.0</td>\n      <td>11.2</td>\n    </tr>\n    <tr>\n      <th>1129</th>\n      <td>16187</td>\n      <td>쁘띠첼 워터젤리 사과</td>\n      <td>음료</td>\n      <td>젤리</td>\n      <td>과/채음료</td>\n      <td>130</td>\n      <td>mL</td>\n      <td>-</td>\n      <td>130</td>\n      <td>12.0</td>\n      <td>130.0</td>\n      <td>9.2</td>\n    </tr>\n    <tr>\n      <th>...</th>\n      <td>...</td>\n      <td>...</td>\n      <td>...</td>\n      <td>...</td>\n      <td>...</td>\n      <td>...</td>\n      <td>...</td>\n      <td>...</td>\n      <td>...</td>\n      <td>...</td>\n      <td>...</td>\n      <td>...</td>\n    </tr>\n    <tr>\n      <th>36796</th>\n      <td>60918</td>\n      <td>타트체리젤리</td>\n      <td>음료</td>\n      <td>젤리</td>\n      <td>혼합음료</td>\n      <td>20</td>\n      <td>g</td>\n      <td>600</td>\n      <td>-</td>\n      <td>5.5</td>\n      <td>600.0</td>\n      <td>27.5</td>\n    </tr>\n    <tr>\n      <th>37028</th>\n      <td>65559</td>\n      <td>몸이 반한 곤약 젤리 청포도맛</td>\n      <td>음료</td>\n      <td>젤리</td>\n      <td>혼합음료</td>\n      <td>130</td>\n      <td>g</td>\n      <td>130</td>\n      <td>-</td>\n      <td>7.0</td>\n      <td>130.0</td>\n      <td>5.4</td>\n    </tr>\n    <tr>\n      <th>37029</th>\n      <td>65563</td>\n      <td>몸이반한 곤약젤리(복숭아맛)</td>\n      <td>음료</td>\n      <td>젤리</td>\n      <td>혼합음료</td>\n      <td>130</td>\n      <td>g</td>\n      <td>130</td>\n      <td>-</td>\n      <td>7.0</td>\n      <td>130.0</td>\n      <td>5.4</td>\n    </tr>\n    <tr>\n      <th>37030</th>\n      <td>65564</td>\n      <td>몸이반한 곤약젤리(사과맛)</td>\n      <td>음료</td>\n      <td>젤리</td>\n      <td>혼합음료</td>\n      <td>130</td>\n      <td>g</td>\n      <td>130</td>\n      <td>-</td>\n      <td>7.0</td>\n      <td>130.0</td>\n      <td>5.4</td>\n    </tr>\n    <tr>\n      <th>37031</th>\n      <td>65569</td>\n      <td>감귤이 반한 곤약젤리</td>\n      <td>음료</td>\n      <td>젤리</td>\n      <td>혼합음료</td>\n      <td>130</td>\n      <td>g</td>\n      <td>130</td>\n      <td>-</td>\n      <td>4.0</td>\n      <td>130.0</td>\n      <td>3.1</td>\n    </tr>\n  </tbody>\n</table>\n<p>113 rows × 12 columns</p>\n</div>"
     },
     "execution_count": 2987,
     "metadata": {},
     "output_type": "execute_result"
    }
   ],
   "source": [
    "sheet.loc[((sheet[\"식품명\"].str.contains('젤리')) & (sheet[\"대분류\"] == '음료')), :] # 113rows"
   ],
   "metadata": {
    "collapsed": false,
    "pycharm": {
     "name": "#%%\n"
    }
   }
  },
  {
   "cell_type": "code",
   "execution_count": 2988,
   "outputs": [
    {
     "data": {
      "text/plain": "['두유',\n '유제품',\n '과·채음료',\n '차',\n '활력음료',\n '인삼/홍삼음료',\n '커피류',\n '탄산음료',\n '젤리',\n '발효음료',\n '스무디',\n '이온음료']"
     },
     "execution_count": 2988,
     "metadata": {},
     "output_type": "execute_result"
    }
   ],
   "source": [
    "beverage_category = list(sheet.loc[sheet['대분류'] == '음료', '중분류'].unique())\n",
    "beverage_category"
   ],
   "metadata": {
    "collapsed": false,
    "pycharm": {
     "name": "#%%\n"
    }
   }
  },
  {
   "cell_type": "code",
   "execution_count": 2989,
   "outputs": [],
   "source": [
    "dict = {}\n",
    "len(sheet.loc[(sheet['대분류'] == '음료') & (sheet['중분류'] == beverage_category[0]), :])\n",
    "for value in beverage_category:\n",
    "    dict[value] = len(sheet.loc[(sheet['대분류'] == '음료') & (sheet['중분류'] == value), :])"
   ],
   "metadata": {
    "collapsed": false,
    "pycharm": {
     "name": "#%%\n"
    }
   }
  },
  {
   "cell_type": "code",
   "execution_count": 2990,
   "outputs": [
    {
     "name": "stdout",
     "output_type": "stream",
     "text": [
      "{'과·채음료': 4749,\n",
      " '두유': 126,\n",
      " '발효음료': 396,\n",
      " '스무디': 246,\n",
      " '유제품': 698,\n",
      " '이온음료': 164,\n",
      " '인삼/홍삼음료': 102,\n",
      " '젤리': 113,\n",
      " '차': 176,\n",
      " '커피류': 458,\n",
      " '탄산음료': 1258,\n",
      " '활력음료': 547}\n"
     ]
    }
   ],
   "source": [
    "pp.pprint(dict)"
   ],
   "metadata": {
    "collapsed": false,
    "pycharm": {
     "name": "#%%\n"
    }
   }
  },
  {
   "cell_type": "code",
   "execution_count": 2991,
   "outputs": [
    {
     "data": {
      "text/plain": "         No            식품명 대분류   중분류    소분류  1회 제공량  용량 총내용량(g) 총내용량(ml)  \\\n1289  29455  미인을 위한 상쾌한 변화  음료  활력음료  과/채음료     120  mL     120        -   \n2119  56668  미인을 위한 상쾌한 변화  음료  활력음료  과/채음료     120   g     120        -   \n\n      총당류(g)   총내용량  단위용량 대비 설탕 비율  \n1289    45.0  120.0           37.5  \n2119    45.0  120.0           37.5  ",
      "text/html": "<div>\n<style scoped>\n    .dataframe tbody tr th:only-of-type {\n        vertical-align: middle;\n    }\n\n    .dataframe tbody tr th {\n        vertical-align: top;\n    }\n\n    .dataframe thead th {\n        text-align: right;\n    }\n</style>\n<table border=\"1\" class=\"dataframe\">\n  <thead>\n    <tr style=\"text-align: right;\">\n      <th></th>\n      <th>No</th>\n      <th>식품명</th>\n      <th>대분류</th>\n      <th>중분류</th>\n      <th>소분류</th>\n      <th>1회 제공량</th>\n      <th>용량</th>\n      <th>총내용량(g)</th>\n      <th>총내용량(ml)</th>\n      <th>총당류(g)</th>\n      <th>총내용량</th>\n      <th>단위용량 대비 설탕 비율</th>\n    </tr>\n  </thead>\n  <tbody>\n    <tr>\n      <th>1289</th>\n      <td>29455</td>\n      <td>미인을 위한 상쾌한 변화</td>\n      <td>음료</td>\n      <td>활력음료</td>\n      <td>과/채음료</td>\n      <td>120</td>\n      <td>mL</td>\n      <td>120</td>\n      <td>-</td>\n      <td>45.0</td>\n      <td>120.0</td>\n      <td>37.5</td>\n    </tr>\n    <tr>\n      <th>2119</th>\n      <td>56668</td>\n      <td>미인을 위한 상쾌한 변화</td>\n      <td>음료</td>\n      <td>활력음료</td>\n      <td>과/채음료</td>\n      <td>120</td>\n      <td>g</td>\n      <td>120</td>\n      <td>-</td>\n      <td>45.0</td>\n      <td>120.0</td>\n      <td>37.5</td>\n    </tr>\n  </tbody>\n</table>\n</div>"
     },
     "execution_count": 2991,
     "metadata": {},
     "output_type": "execute_result"
    }
   ],
   "source": [
    "sheet.loc[(sheet['대분류'] == '음료') & (sheet['식품명'] == '미인을 위한 상쾌한 변화'), :]"
   ],
   "metadata": {
    "collapsed": false,
    "pycharm": {
     "name": "#%%\n"
    }
   }
  },
  {
   "cell_type": "code",
   "execution_count": 2992,
   "outputs": [],
   "source": [
    "sheet = sheet.drop(1289, axis=0)\n",
    "sheet = sheet.drop(2119, axis=0)"
   ],
   "metadata": {
    "collapsed": false,
    "pycharm": {
     "name": "#%%\n"
    }
   }
  },
  {
   "cell_type": "code",
   "execution_count": 2993,
   "outputs": [
    {
     "data": {
      "text/plain": "Empty DataFrame\nColumns: [No, 식품명, 대분류, 중분류, 소분류, 1회 제공량, 용량, 총내용량(g), 총내용량(ml), 총당류(g), 총내용량, 단위용량 대비 설탕 비율]\nIndex: []",
      "text/html": "<div>\n<style scoped>\n    .dataframe tbody tr th:only-of-type {\n        vertical-align: middle;\n    }\n\n    .dataframe tbody tr th {\n        vertical-align: top;\n    }\n\n    .dataframe thead th {\n        text-align: right;\n    }\n</style>\n<table border=\"1\" class=\"dataframe\">\n  <thead>\n    <tr style=\"text-align: right;\">\n      <th></th>\n      <th>No</th>\n      <th>식품명</th>\n      <th>대분류</th>\n      <th>중분류</th>\n      <th>소분류</th>\n      <th>1회 제공량</th>\n      <th>용량</th>\n      <th>총내용량(g)</th>\n      <th>총내용량(ml)</th>\n      <th>총당류(g)</th>\n      <th>총내용량</th>\n      <th>단위용량 대비 설탕 비율</th>\n    </tr>\n  </thead>\n  <tbody>\n  </tbody>\n</table>\n</div>"
     },
     "execution_count": 2993,
     "metadata": {},
     "output_type": "execute_result"
    }
   ],
   "source": [
    "sheet.loc[(sheet['대분류'] == '음료') & (sheet['식품명'] == '미인을 위한 상쾌한 변화'), :]"
   ],
   "metadata": {
    "collapsed": false,
    "pycharm": {
     "name": "#%%\n"
    }
   }
  },
  {
   "cell_type": "code",
   "execution_count": 2994,
   "outputs": [
    {
     "data": {
      "text/plain": "          No                 식품명 대분류    중분류    소분류  1회 제공량  용량 총내용량(g)  \\\n2853   29334         맑은내일 통도라지배즙  음료  과·채음료  과/채주스      80  mL      80   \n2854   29335            맑은내일 통배즙  음료  과·채음료  과/채주스      80  mL      80   \n2855   29336           맑은내일 통사과즙  음료  과·채음료  과/채주스      80  mL      80   \n2856   29338           맑은내일 통호박즙  음료  과·채음료  과/채주스      80  mL      80   \n2857   29339          맑은내일통레드비트즙  음료  과·채음료  과/채주스      80  mL      80   \n2858   29340            맑은내일통석류즙  음료  과·채음료  과/채주스      80  mL      80   \n3384   31561         맑은내일 깔라만시원액  음료  과·채음료  과/채주스     100  mL    1000   \n3385   31563            맑은내일 석류즙  음료  과·채음료  과/채주스     100  mL    1000   \n3386   31565  맑은내일 착즙한 유기농 레드비트즙  음료  과·채음료  과/채주스     100  mL    1000   \n3387   31566      맑은내일 착즙한유기농석류즙  음료  과·채음료  과/채주스     100  mL    1000   \n3388   31568         맑은내일유기농레드비트  음료  과·채음료  과/채주스     100  mL    1000   \n4440   57060      맑은내일 통양배추브로콜리즙  음료  과·채음료  과/채주스      80   g      80   \n4444   57064          맑은내일통레드비트즙  음료  과·채음료  과/채주스      80   g      80   \n4445   57065           맑은내일 통호박즙  음료  과·채음료  과/채주스      80   g      80   \n4446   57066         맑은내일 깔라만시원액  음료  과·채음료  과/채주스     100   g    1000   \n4450   57072         맑은내일 통도라지배즙  음료  과·채음료  과/채주스      80   g    2400   \n4453   57075            맑은내일 석류즙  음료  과·채음료  과/채주스     100   g    1000   \n4454   57076         맑은내일유기농레드비트  음료  과·채음료  과/채주스     100   g    1000   \n4457   57079            맑은내일통석류즙  음료  과·채음료  과/채주스      80   g      80   \n4458   57080           맑은내일 통사과즙  음료  과·채음료  과/채주스      80   g      80   \n4463   57088            맑은내일 통배즙  음료  과·채음료  과/채주스      80   g      80   \n36102  31562           맑은내일 발효식혜  음료   발효음료   혼합음료     100  mL     500   \n\n      총내용량(ml)  총당류(g)    총내용량  단위용량 대비 설탕 비율  \n2853         -     9.0    80.0           11.2  \n2854         -     7.0    80.0            8.8  \n2855         -     8.0    80.0           10.0  \n2856         -     3.0    80.0            3.8  \n2857         -     4.0    80.0            5.0  \n2858         -     8.0    80.0           10.0  \n3384         -     2.0  1000.0            2.0  \n3385         -    13.0  1000.0           13.0  \n3386         -     4.0  1000.0            4.0  \n3387         -     9.0  1000.0            9.0  \n3388         -     6.0  1000.0            6.0  \n4440         -     3.0    80.0            3.8  \n4444         -     4.0    80.0            5.0  \n4445         -     3.0    80.0            3.8  \n4446         -     2.0  1000.0            2.0  \n4450         -     9.0  2400.0           11.2  \n4453         -    13.0  1000.0           13.0  \n4454         -    13.0  1000.0           13.0  \n4457         -     8.0    80.0           10.0  \n4458         -     8.0    80.0           10.0  \n4463         -     7.0    80.0            8.8  \n36102        -     6.0   500.0            6.0  ",
      "text/html": "<div>\n<style scoped>\n    .dataframe tbody tr th:only-of-type {\n        vertical-align: middle;\n    }\n\n    .dataframe tbody tr th {\n        vertical-align: top;\n    }\n\n    .dataframe thead th {\n        text-align: right;\n    }\n</style>\n<table border=\"1\" class=\"dataframe\">\n  <thead>\n    <tr style=\"text-align: right;\">\n      <th></th>\n      <th>No</th>\n      <th>식품명</th>\n      <th>대분류</th>\n      <th>중분류</th>\n      <th>소분류</th>\n      <th>1회 제공량</th>\n      <th>용량</th>\n      <th>총내용량(g)</th>\n      <th>총내용량(ml)</th>\n      <th>총당류(g)</th>\n      <th>총내용량</th>\n      <th>단위용량 대비 설탕 비율</th>\n    </tr>\n  </thead>\n  <tbody>\n    <tr>\n      <th>2853</th>\n      <td>29334</td>\n      <td>맑은내일 통도라지배즙</td>\n      <td>음료</td>\n      <td>과·채음료</td>\n      <td>과/채주스</td>\n      <td>80</td>\n      <td>mL</td>\n      <td>80</td>\n      <td>-</td>\n      <td>9.0</td>\n      <td>80.0</td>\n      <td>11.2</td>\n    </tr>\n    <tr>\n      <th>2854</th>\n      <td>29335</td>\n      <td>맑은내일 통배즙</td>\n      <td>음료</td>\n      <td>과·채음료</td>\n      <td>과/채주스</td>\n      <td>80</td>\n      <td>mL</td>\n      <td>80</td>\n      <td>-</td>\n      <td>7.0</td>\n      <td>80.0</td>\n      <td>8.8</td>\n    </tr>\n    <tr>\n      <th>2855</th>\n      <td>29336</td>\n      <td>맑은내일 통사과즙</td>\n      <td>음료</td>\n      <td>과·채음료</td>\n      <td>과/채주스</td>\n      <td>80</td>\n      <td>mL</td>\n      <td>80</td>\n      <td>-</td>\n      <td>8.0</td>\n      <td>80.0</td>\n      <td>10.0</td>\n    </tr>\n    <tr>\n      <th>2856</th>\n      <td>29338</td>\n      <td>맑은내일 통호박즙</td>\n      <td>음료</td>\n      <td>과·채음료</td>\n      <td>과/채주스</td>\n      <td>80</td>\n      <td>mL</td>\n      <td>80</td>\n      <td>-</td>\n      <td>3.0</td>\n      <td>80.0</td>\n      <td>3.8</td>\n    </tr>\n    <tr>\n      <th>2857</th>\n      <td>29339</td>\n      <td>맑은내일통레드비트즙</td>\n      <td>음료</td>\n      <td>과·채음료</td>\n      <td>과/채주스</td>\n      <td>80</td>\n      <td>mL</td>\n      <td>80</td>\n      <td>-</td>\n      <td>4.0</td>\n      <td>80.0</td>\n      <td>5.0</td>\n    </tr>\n    <tr>\n      <th>2858</th>\n      <td>29340</td>\n      <td>맑은내일통석류즙</td>\n      <td>음료</td>\n      <td>과·채음료</td>\n      <td>과/채주스</td>\n      <td>80</td>\n      <td>mL</td>\n      <td>80</td>\n      <td>-</td>\n      <td>8.0</td>\n      <td>80.0</td>\n      <td>10.0</td>\n    </tr>\n    <tr>\n      <th>3384</th>\n      <td>31561</td>\n      <td>맑은내일 깔라만시원액</td>\n      <td>음료</td>\n      <td>과·채음료</td>\n      <td>과/채주스</td>\n      <td>100</td>\n      <td>mL</td>\n      <td>1000</td>\n      <td>-</td>\n      <td>2.0</td>\n      <td>1000.0</td>\n      <td>2.0</td>\n    </tr>\n    <tr>\n      <th>3385</th>\n      <td>31563</td>\n      <td>맑은내일 석류즙</td>\n      <td>음료</td>\n      <td>과·채음료</td>\n      <td>과/채주스</td>\n      <td>100</td>\n      <td>mL</td>\n      <td>1000</td>\n      <td>-</td>\n      <td>13.0</td>\n      <td>1000.0</td>\n      <td>13.0</td>\n    </tr>\n    <tr>\n      <th>3386</th>\n      <td>31565</td>\n      <td>맑은내일 착즙한 유기농 레드비트즙</td>\n      <td>음료</td>\n      <td>과·채음료</td>\n      <td>과/채주스</td>\n      <td>100</td>\n      <td>mL</td>\n      <td>1000</td>\n      <td>-</td>\n      <td>4.0</td>\n      <td>1000.0</td>\n      <td>4.0</td>\n    </tr>\n    <tr>\n      <th>3387</th>\n      <td>31566</td>\n      <td>맑은내일 착즙한유기농석류즙</td>\n      <td>음료</td>\n      <td>과·채음료</td>\n      <td>과/채주스</td>\n      <td>100</td>\n      <td>mL</td>\n      <td>1000</td>\n      <td>-</td>\n      <td>9.0</td>\n      <td>1000.0</td>\n      <td>9.0</td>\n    </tr>\n    <tr>\n      <th>3388</th>\n      <td>31568</td>\n      <td>맑은내일유기농레드비트</td>\n      <td>음료</td>\n      <td>과·채음료</td>\n      <td>과/채주스</td>\n      <td>100</td>\n      <td>mL</td>\n      <td>1000</td>\n      <td>-</td>\n      <td>6.0</td>\n      <td>1000.0</td>\n      <td>6.0</td>\n    </tr>\n    <tr>\n      <th>4440</th>\n      <td>57060</td>\n      <td>맑은내일 통양배추브로콜리즙</td>\n      <td>음료</td>\n      <td>과·채음료</td>\n      <td>과/채주스</td>\n      <td>80</td>\n      <td>g</td>\n      <td>80</td>\n      <td>-</td>\n      <td>3.0</td>\n      <td>80.0</td>\n      <td>3.8</td>\n    </tr>\n    <tr>\n      <th>4444</th>\n      <td>57064</td>\n      <td>맑은내일통레드비트즙</td>\n      <td>음료</td>\n      <td>과·채음료</td>\n      <td>과/채주스</td>\n      <td>80</td>\n      <td>g</td>\n      <td>80</td>\n      <td>-</td>\n      <td>4.0</td>\n      <td>80.0</td>\n      <td>5.0</td>\n    </tr>\n    <tr>\n      <th>4445</th>\n      <td>57065</td>\n      <td>맑은내일 통호박즙</td>\n      <td>음료</td>\n      <td>과·채음료</td>\n      <td>과/채주스</td>\n      <td>80</td>\n      <td>g</td>\n      <td>80</td>\n      <td>-</td>\n      <td>3.0</td>\n      <td>80.0</td>\n      <td>3.8</td>\n    </tr>\n    <tr>\n      <th>4446</th>\n      <td>57066</td>\n      <td>맑은내일 깔라만시원액</td>\n      <td>음료</td>\n      <td>과·채음료</td>\n      <td>과/채주스</td>\n      <td>100</td>\n      <td>g</td>\n      <td>1000</td>\n      <td>-</td>\n      <td>2.0</td>\n      <td>1000.0</td>\n      <td>2.0</td>\n    </tr>\n    <tr>\n      <th>4450</th>\n      <td>57072</td>\n      <td>맑은내일 통도라지배즙</td>\n      <td>음료</td>\n      <td>과·채음료</td>\n      <td>과/채주스</td>\n      <td>80</td>\n      <td>g</td>\n      <td>2400</td>\n      <td>-</td>\n      <td>9.0</td>\n      <td>2400.0</td>\n      <td>11.2</td>\n    </tr>\n    <tr>\n      <th>4453</th>\n      <td>57075</td>\n      <td>맑은내일 석류즙</td>\n      <td>음료</td>\n      <td>과·채음료</td>\n      <td>과/채주스</td>\n      <td>100</td>\n      <td>g</td>\n      <td>1000</td>\n      <td>-</td>\n      <td>13.0</td>\n      <td>1000.0</td>\n      <td>13.0</td>\n    </tr>\n    <tr>\n      <th>4454</th>\n      <td>57076</td>\n      <td>맑은내일유기농레드비트</td>\n      <td>음료</td>\n      <td>과·채음료</td>\n      <td>과/채주스</td>\n      <td>100</td>\n      <td>g</td>\n      <td>1000</td>\n      <td>-</td>\n      <td>13.0</td>\n      <td>1000.0</td>\n      <td>13.0</td>\n    </tr>\n    <tr>\n      <th>4457</th>\n      <td>57079</td>\n      <td>맑은내일통석류즙</td>\n      <td>음료</td>\n      <td>과·채음료</td>\n      <td>과/채주스</td>\n      <td>80</td>\n      <td>g</td>\n      <td>80</td>\n      <td>-</td>\n      <td>8.0</td>\n      <td>80.0</td>\n      <td>10.0</td>\n    </tr>\n    <tr>\n      <th>4458</th>\n      <td>57080</td>\n      <td>맑은내일 통사과즙</td>\n      <td>음료</td>\n      <td>과·채음료</td>\n      <td>과/채주스</td>\n      <td>80</td>\n      <td>g</td>\n      <td>80</td>\n      <td>-</td>\n      <td>8.0</td>\n      <td>80.0</td>\n      <td>10.0</td>\n    </tr>\n    <tr>\n      <th>4463</th>\n      <td>57088</td>\n      <td>맑은내일 통배즙</td>\n      <td>음료</td>\n      <td>과·채음료</td>\n      <td>과/채주스</td>\n      <td>80</td>\n      <td>g</td>\n      <td>80</td>\n      <td>-</td>\n      <td>7.0</td>\n      <td>80.0</td>\n      <td>8.8</td>\n    </tr>\n    <tr>\n      <th>36102</th>\n      <td>31562</td>\n      <td>맑은내일 발효식혜</td>\n      <td>음료</td>\n      <td>발효음료</td>\n      <td>혼합음료</td>\n      <td>100</td>\n      <td>mL</td>\n      <td>500</td>\n      <td>-</td>\n      <td>6.0</td>\n      <td>500.0</td>\n      <td>6.0</td>\n    </tr>\n  </tbody>\n</table>\n</div>"
     },
     "execution_count": 2994,
     "metadata": {},
     "output_type": "execute_result"
    }
   ],
   "source": [
    "sheet.loc[((sheet[\"식품명\"].str.contains('맑은내일')) & (sheet[\"대분류\"] == '음료')), :]"
   ],
   "metadata": {
    "collapsed": false,
    "pycharm": {
     "name": "#%%\n"
    }
   }
  },
  {
   "cell_type": "code",
   "execution_count": 2995,
   "outputs": [
    {
     "data": {
      "text/plain": "        No          식품명 대분류    중분류  소분류  1회 제공량 용량 총내용량(g) 총내용량(ml)  총당류(g)  \\\n944  16644     녹차라떼(봉지)  음료    유제품  고형차      15  g     300        -     8.0   \n946  16647  복분자아이스티(봉지)  음료      차  고형차      20  g     400        -    18.0   \n947  16648  복숭아아이스티(봉지)  음료  과·채음료  고형차      20  g     400        -    19.0   \n949  16651      율무차(봉지)  음료      차  고형차      18  g     400        -     5.0   \n\n      총내용량  단위용량 대비 설탕 비율  \n944  300.0           53.3  \n946  400.0           90.0  \n947  400.0           95.0  \n949  400.0           27.8  ",
      "text/html": "<div>\n<style scoped>\n    .dataframe tbody tr th:only-of-type {\n        vertical-align: middle;\n    }\n\n    .dataframe tbody tr th {\n        vertical-align: top;\n    }\n\n    .dataframe thead th {\n        text-align: right;\n    }\n</style>\n<table border=\"1\" class=\"dataframe\">\n  <thead>\n    <tr style=\"text-align: right;\">\n      <th></th>\n      <th>No</th>\n      <th>식품명</th>\n      <th>대분류</th>\n      <th>중분류</th>\n      <th>소분류</th>\n      <th>1회 제공량</th>\n      <th>용량</th>\n      <th>총내용량(g)</th>\n      <th>총내용량(ml)</th>\n      <th>총당류(g)</th>\n      <th>총내용량</th>\n      <th>단위용량 대비 설탕 비율</th>\n    </tr>\n  </thead>\n  <tbody>\n    <tr>\n      <th>944</th>\n      <td>16644</td>\n      <td>녹차라떼(봉지)</td>\n      <td>음료</td>\n      <td>유제품</td>\n      <td>고형차</td>\n      <td>15</td>\n      <td>g</td>\n      <td>300</td>\n      <td>-</td>\n      <td>8.0</td>\n      <td>300.0</td>\n      <td>53.3</td>\n    </tr>\n    <tr>\n      <th>946</th>\n      <td>16647</td>\n      <td>복분자아이스티(봉지)</td>\n      <td>음료</td>\n      <td>차</td>\n      <td>고형차</td>\n      <td>20</td>\n      <td>g</td>\n      <td>400</td>\n      <td>-</td>\n      <td>18.0</td>\n      <td>400.0</td>\n      <td>90.0</td>\n    </tr>\n    <tr>\n      <th>947</th>\n      <td>16648</td>\n      <td>복숭아아이스티(봉지)</td>\n      <td>음료</td>\n      <td>과·채음료</td>\n      <td>고형차</td>\n      <td>20</td>\n      <td>g</td>\n      <td>400</td>\n      <td>-</td>\n      <td>19.0</td>\n      <td>400.0</td>\n      <td>95.0</td>\n    </tr>\n    <tr>\n      <th>949</th>\n      <td>16651</td>\n      <td>율무차(봉지)</td>\n      <td>음료</td>\n      <td>차</td>\n      <td>고형차</td>\n      <td>18</td>\n      <td>g</td>\n      <td>400</td>\n      <td>-</td>\n      <td>5.0</td>\n      <td>400.0</td>\n      <td>27.8</td>\n    </tr>\n  </tbody>\n</table>\n</div>"
     },
     "execution_count": 2995,
     "metadata": {},
     "output_type": "execute_result"
    }
   ],
   "source": [
    "sheet.loc[((sheet[\"식품명\"].str.contains('봉지')) & (sheet[\"대분류\"] == '음료')), :]"
   ],
   "metadata": {
    "collapsed": false,
    "pycharm": {
     "name": "#%%\n"
    }
   }
  },
  {
   "cell_type": "code",
   "execution_count": 2996,
   "outputs": [
    {
     "data": {
      "text/plain": "          No                 식품명 대분류   중분류   소분류  1회 제공량  용량 총내용량(g) 총내용량(ml)  \\\n0      10397           삼육두유검은콩칼슘  음료    두유  가공두유     190  mL       -      190   \n1      10398         베지밀검은콩두유고칼슘  음료    두유  가공두유     190  mL       -      190   \n2      10399             달콤한베지밀비  음료   유제품  가공두유     100  mL       -      950   \n3      10400       삼육두유검은콩호두와아몬드  음료    두유  가공두유     140  mL       -      140   \n4      10401            담백한베지밀에이  음료   유제품  가공두유     190  mL       -      190   \n...      ...                 ...  ..   ...   ...     ...  ..     ...      ...   \n37216  68091       유기농 햇살깃든 현미식혜  음료  발효음료  혼합음료     100  mL       -      340   \n37217  68092  유기농 햇살깃든 현미자색고구마식혜  음료  발효음료  혼합음료     100  mL       -      340   \n37218  68099                 비타업  음료  활력음료  혼합음료     100   g     100        -   \n37219  68100            아로골드D플러스  음료  활력음료  혼합음료     100   g    1000        -   \n37220  68152        유믹스 모히또맛 에이드  음료  탄산음료  혼합음료     100   g    1000        -   \n\n       총당류(g)    총내용량  단위용량 대비 설탕 비율  \n0        10.0   190.0            5.3  \n1        10.0   190.0            5.3  \n2         5.0   950.0            5.0  \n3        10.0   140.0            7.1  \n4         6.0   190.0            3.2  \n...       ...     ...            ...  \n37216    12.2   340.0           12.2  \n37217    11.0   340.0           11.0  \n37218     9.0   100.0            9.0  \n37219     4.0  1000.0            4.0  \n37220    11.0  1000.0           11.0  \n\n[9031 rows x 12 columns]",
      "text/html": "<div>\n<style scoped>\n    .dataframe tbody tr th:only-of-type {\n        vertical-align: middle;\n    }\n\n    .dataframe tbody tr th {\n        vertical-align: top;\n    }\n\n    .dataframe thead th {\n        text-align: right;\n    }\n</style>\n<table border=\"1\" class=\"dataframe\">\n  <thead>\n    <tr style=\"text-align: right;\">\n      <th></th>\n      <th>No</th>\n      <th>식품명</th>\n      <th>대분류</th>\n      <th>중분류</th>\n      <th>소분류</th>\n      <th>1회 제공량</th>\n      <th>용량</th>\n      <th>총내용량(g)</th>\n      <th>총내용량(ml)</th>\n      <th>총당류(g)</th>\n      <th>총내용량</th>\n      <th>단위용량 대비 설탕 비율</th>\n    </tr>\n  </thead>\n  <tbody>\n    <tr>\n      <th>0</th>\n      <td>10397</td>\n      <td>삼육두유검은콩칼슘</td>\n      <td>음료</td>\n      <td>두유</td>\n      <td>가공두유</td>\n      <td>190</td>\n      <td>mL</td>\n      <td>-</td>\n      <td>190</td>\n      <td>10.0</td>\n      <td>190.0</td>\n      <td>5.3</td>\n    </tr>\n    <tr>\n      <th>1</th>\n      <td>10398</td>\n      <td>베지밀검은콩두유고칼슘</td>\n      <td>음료</td>\n      <td>두유</td>\n      <td>가공두유</td>\n      <td>190</td>\n      <td>mL</td>\n      <td>-</td>\n      <td>190</td>\n      <td>10.0</td>\n      <td>190.0</td>\n      <td>5.3</td>\n    </tr>\n    <tr>\n      <th>2</th>\n      <td>10399</td>\n      <td>달콤한베지밀비</td>\n      <td>음료</td>\n      <td>유제품</td>\n      <td>가공두유</td>\n      <td>100</td>\n      <td>mL</td>\n      <td>-</td>\n      <td>950</td>\n      <td>5.0</td>\n      <td>950.0</td>\n      <td>5.0</td>\n    </tr>\n    <tr>\n      <th>3</th>\n      <td>10400</td>\n      <td>삼육두유검은콩호두와아몬드</td>\n      <td>음료</td>\n      <td>두유</td>\n      <td>가공두유</td>\n      <td>140</td>\n      <td>mL</td>\n      <td>-</td>\n      <td>140</td>\n      <td>10.0</td>\n      <td>140.0</td>\n      <td>7.1</td>\n    </tr>\n    <tr>\n      <th>4</th>\n      <td>10401</td>\n      <td>담백한베지밀에이</td>\n      <td>음료</td>\n      <td>유제품</td>\n      <td>가공두유</td>\n      <td>190</td>\n      <td>mL</td>\n      <td>-</td>\n      <td>190</td>\n      <td>6.0</td>\n      <td>190.0</td>\n      <td>3.2</td>\n    </tr>\n    <tr>\n      <th>...</th>\n      <td>...</td>\n      <td>...</td>\n      <td>...</td>\n      <td>...</td>\n      <td>...</td>\n      <td>...</td>\n      <td>...</td>\n      <td>...</td>\n      <td>...</td>\n      <td>...</td>\n      <td>...</td>\n      <td>...</td>\n    </tr>\n    <tr>\n      <th>37216</th>\n      <td>68091</td>\n      <td>유기농 햇살깃든 현미식혜</td>\n      <td>음료</td>\n      <td>발효음료</td>\n      <td>혼합음료</td>\n      <td>100</td>\n      <td>mL</td>\n      <td>-</td>\n      <td>340</td>\n      <td>12.2</td>\n      <td>340.0</td>\n      <td>12.2</td>\n    </tr>\n    <tr>\n      <th>37217</th>\n      <td>68092</td>\n      <td>유기농 햇살깃든 현미자색고구마식혜</td>\n      <td>음료</td>\n      <td>발효음료</td>\n      <td>혼합음료</td>\n      <td>100</td>\n      <td>mL</td>\n      <td>-</td>\n      <td>340</td>\n      <td>11.0</td>\n      <td>340.0</td>\n      <td>11.0</td>\n    </tr>\n    <tr>\n      <th>37218</th>\n      <td>68099</td>\n      <td>비타업</td>\n      <td>음료</td>\n      <td>활력음료</td>\n      <td>혼합음료</td>\n      <td>100</td>\n      <td>g</td>\n      <td>100</td>\n      <td>-</td>\n      <td>9.0</td>\n      <td>100.0</td>\n      <td>9.0</td>\n    </tr>\n    <tr>\n      <th>37219</th>\n      <td>68100</td>\n      <td>아로골드D플러스</td>\n      <td>음료</td>\n      <td>활력음료</td>\n      <td>혼합음료</td>\n      <td>100</td>\n      <td>g</td>\n      <td>1000</td>\n      <td>-</td>\n      <td>4.0</td>\n      <td>1000.0</td>\n      <td>4.0</td>\n    </tr>\n    <tr>\n      <th>37220</th>\n      <td>68152</td>\n      <td>유믹스 모히또맛 에이드</td>\n      <td>음료</td>\n      <td>탄산음료</td>\n      <td>혼합음료</td>\n      <td>100</td>\n      <td>g</td>\n      <td>1000</td>\n      <td>-</td>\n      <td>11.0</td>\n      <td>1000.0</td>\n      <td>11.0</td>\n    </tr>\n  </tbody>\n</table>\n<p>9031 rows × 12 columns</p>\n</div>"
     },
     "execution_count": 2996,
     "metadata": {},
     "output_type": "execute_result"
    }
   ],
   "source": [
    "sheet.loc[sheet['대분류'] == '음료', :]"
   ],
   "metadata": {
    "collapsed": false,
    "pycharm": {
     "name": "#%%\n"
    }
   }
  },
  {
   "cell_type": "code",
   "execution_count": 2997,
   "outputs": [
    {
     "data": {
      "text/plain": "array(['음료', '유가공품', '과자', '빵', '캔디, 초콜릿, 젤리, 캐러멜, 양갱', '떡, 시리얼, 견과류',\n       '아이스크림'], dtype=object)"
     },
     "execution_count": 2997,
     "metadata": {},
     "output_type": "execute_result"
    }
   ],
   "source": [
    "sheet['대분류'].unique()"
   ],
   "metadata": {
    "collapsed": false,
    "pycharm": {
     "name": "#%%\n"
    }
   }
  },
  {
   "cell_type": "code",
   "execution_count": 2998,
   "outputs": [
    {
     "data": {
      "text/plain": "          No        식품명                   대분류 중분류    소분류  1회 제공량 용량 총내용량(g)  \\\n11764  45748       아젤리아  캔디, 초콜릿, 젤리, 캐러멜, 양갱  젤리  밀크초콜릿     100  g    3000   \n11765  45779       아젤리아  캔디, 초콜릿, 젤리, 캐러멜, 양갱  젤리  밀크초콜릿     100  g    3000   \n11804  58121    젤로미스노우C  캔디, 초콜릿, 젤리, 캐러멜, 양갱  젤리  밀크초콜릿      20  g      20   \n11805  58122     젤로미윈터C  캔디, 초콜릿, 젤리, 캐러멜, 양갱  젤리  밀크초콜릿      20  g      20   \n11806  58123    젤로미코코몽C  캔디, 초콜릿, 젤리, 캐러멜, 양갱  젤리  밀크초콜릿      20  g      20   \n...      ...        ...                   ...  ..    ...     ... ..     ...   \n30401  55056   오쉐프 자몽푸딩  캔디, 초콜릿, 젤리, 캐러멜, 양갱  젤리    캔디류     100  g    1000   \n30402  66980  한살림과일푸딩포도  캔디, 초콜릿, 젤리, 캐러멜, 양갱  젤리    캔디류     110  g     110   \n30403  66981  한살림과일푸딩딸기  캔디, 초콜릿, 젤리, 캐러멜, 양갱  젤리    캔디류     110  g     110   \n30404  66982  한살림과일푸딩감귤  캔디, 초콜릿, 젤리, 캐러멜, 양갱  젤리    캔디류     110  g     110   \n30405  66983  한살림과일푸딩사과  캔디, 초콜릿, 젤리, 캐러멜, 양갱  젤리    캔디류     110  g     110   \n\n      총내용량(ml)  총당류(g)    총내용량  단위용량 대비 설탕 비율  \n11764        -    39.0  3000.0           39.0  \n11765        -    39.0  3000.0           39.0  \n11804        -     9.0    20.0           45.0  \n11805        -     9.0    20.0           45.0  \n11806        -     9.0    20.0           45.0  \n...        ...     ...     ...            ...  \n30401        -    24.0  1000.0           24.0  \n30402        -    16.0   110.0           14.5  \n30403        -    11.0   110.0           10.0  \n30404        -    12.0   110.0           10.9  \n30405        -    12.0   110.0           10.9  \n\n[1193 rows x 12 columns]",
      "text/html": "<div>\n<style scoped>\n    .dataframe tbody tr th:only-of-type {\n        vertical-align: middle;\n    }\n\n    .dataframe tbody tr th {\n        vertical-align: top;\n    }\n\n    .dataframe thead th {\n        text-align: right;\n    }\n</style>\n<table border=\"1\" class=\"dataframe\">\n  <thead>\n    <tr style=\"text-align: right;\">\n      <th></th>\n      <th>No</th>\n      <th>식품명</th>\n      <th>대분류</th>\n      <th>중분류</th>\n      <th>소분류</th>\n      <th>1회 제공량</th>\n      <th>용량</th>\n      <th>총내용량(g)</th>\n      <th>총내용량(ml)</th>\n      <th>총당류(g)</th>\n      <th>총내용량</th>\n      <th>단위용량 대비 설탕 비율</th>\n    </tr>\n  </thead>\n  <tbody>\n    <tr>\n      <th>11764</th>\n      <td>45748</td>\n      <td>아젤리아</td>\n      <td>캔디, 초콜릿, 젤리, 캐러멜, 양갱</td>\n      <td>젤리</td>\n      <td>밀크초콜릿</td>\n      <td>100</td>\n      <td>g</td>\n      <td>3000</td>\n      <td>-</td>\n      <td>39.0</td>\n      <td>3000.0</td>\n      <td>39.0</td>\n    </tr>\n    <tr>\n      <th>11765</th>\n      <td>45779</td>\n      <td>아젤리아</td>\n      <td>캔디, 초콜릿, 젤리, 캐러멜, 양갱</td>\n      <td>젤리</td>\n      <td>밀크초콜릿</td>\n      <td>100</td>\n      <td>g</td>\n      <td>3000</td>\n      <td>-</td>\n      <td>39.0</td>\n      <td>3000.0</td>\n      <td>39.0</td>\n    </tr>\n    <tr>\n      <th>11804</th>\n      <td>58121</td>\n      <td>젤로미스노우C</td>\n      <td>캔디, 초콜릿, 젤리, 캐러멜, 양갱</td>\n      <td>젤리</td>\n      <td>밀크초콜릿</td>\n      <td>20</td>\n      <td>g</td>\n      <td>20</td>\n      <td>-</td>\n      <td>9.0</td>\n      <td>20.0</td>\n      <td>45.0</td>\n    </tr>\n    <tr>\n      <th>11805</th>\n      <td>58122</td>\n      <td>젤로미윈터C</td>\n      <td>캔디, 초콜릿, 젤리, 캐러멜, 양갱</td>\n      <td>젤리</td>\n      <td>밀크초콜릿</td>\n      <td>20</td>\n      <td>g</td>\n      <td>20</td>\n      <td>-</td>\n      <td>9.0</td>\n      <td>20.0</td>\n      <td>45.0</td>\n    </tr>\n    <tr>\n      <th>11806</th>\n      <td>58123</td>\n      <td>젤로미코코몽C</td>\n      <td>캔디, 초콜릿, 젤리, 캐러멜, 양갱</td>\n      <td>젤리</td>\n      <td>밀크초콜릿</td>\n      <td>20</td>\n      <td>g</td>\n      <td>20</td>\n      <td>-</td>\n      <td>9.0</td>\n      <td>20.0</td>\n      <td>45.0</td>\n    </tr>\n    <tr>\n      <th>...</th>\n      <td>...</td>\n      <td>...</td>\n      <td>...</td>\n      <td>...</td>\n      <td>...</td>\n      <td>...</td>\n      <td>...</td>\n      <td>...</td>\n      <td>...</td>\n      <td>...</td>\n      <td>...</td>\n      <td>...</td>\n    </tr>\n    <tr>\n      <th>30401</th>\n      <td>55056</td>\n      <td>오쉐프 자몽푸딩</td>\n      <td>캔디, 초콜릿, 젤리, 캐러멜, 양갱</td>\n      <td>젤리</td>\n      <td>캔디류</td>\n      <td>100</td>\n      <td>g</td>\n      <td>1000</td>\n      <td>-</td>\n      <td>24.0</td>\n      <td>1000.0</td>\n      <td>24.0</td>\n    </tr>\n    <tr>\n      <th>30402</th>\n      <td>66980</td>\n      <td>한살림과일푸딩포도</td>\n      <td>캔디, 초콜릿, 젤리, 캐러멜, 양갱</td>\n      <td>젤리</td>\n      <td>캔디류</td>\n      <td>110</td>\n      <td>g</td>\n      <td>110</td>\n      <td>-</td>\n      <td>16.0</td>\n      <td>110.0</td>\n      <td>14.5</td>\n    </tr>\n    <tr>\n      <th>30403</th>\n      <td>66981</td>\n      <td>한살림과일푸딩딸기</td>\n      <td>캔디, 초콜릿, 젤리, 캐러멜, 양갱</td>\n      <td>젤리</td>\n      <td>캔디류</td>\n      <td>110</td>\n      <td>g</td>\n      <td>110</td>\n      <td>-</td>\n      <td>11.0</td>\n      <td>110.0</td>\n      <td>10.0</td>\n    </tr>\n    <tr>\n      <th>30404</th>\n      <td>66982</td>\n      <td>한살림과일푸딩감귤</td>\n      <td>캔디, 초콜릿, 젤리, 캐러멜, 양갱</td>\n      <td>젤리</td>\n      <td>캔디류</td>\n      <td>110</td>\n      <td>g</td>\n      <td>110</td>\n      <td>-</td>\n      <td>12.0</td>\n      <td>110.0</td>\n      <td>10.9</td>\n    </tr>\n    <tr>\n      <th>30405</th>\n      <td>66983</td>\n      <td>한살림과일푸딩사과</td>\n      <td>캔디, 초콜릿, 젤리, 캐러멜, 양갱</td>\n      <td>젤리</td>\n      <td>캔디류</td>\n      <td>110</td>\n      <td>g</td>\n      <td>110</td>\n      <td>-</td>\n      <td>12.0</td>\n      <td>110.0</td>\n      <td>10.9</td>\n    </tr>\n  </tbody>\n</table>\n<p>1193 rows × 12 columns</p>\n</div>"
     },
     "execution_count": 2998,
     "metadata": {},
     "output_type": "execute_result"
    }
   ],
   "source": [
    "sheet.loc[(sheet['대분류'] == '캔디, 초콜릿, 젤리, 캐러멜, 양갱') & (sheet['중분류'] == '젤리'), :]"
   ],
   "metadata": {
    "collapsed": false,
    "pycharm": {
     "name": "#%%\n"
    }
   }
  },
  {
   "cell_type": "code",
   "execution_count": 2999,
   "outputs": [
    {
     "data": {
      "text/plain": "array(['두유', '유제품', '과·채음료', '우유', '발효유', '차', '활력음료', '인삼/홍삼음료', '커피류',\n       '탄산음료', '젤리', '발효음료', '스무디', '이온음료', '기성품', '마카롱', '곡류&견과류', '파이',\n       '쿠키', '팝콘', '빵류', '스틱', '에그디쉬', '번', '티라미수', '샌디', '와플', '난', '콘',\n       '핫도그', '토스트', '페스츄리', '슈', '포카챠', '타르트', '브라우니', '슈케트', '브리오슈',\n       '크럼블', '비스코티', '소보루', '바게뜨', '꽈배기', '호떡', '고로케', '파니니', '앙버터',\n       '또띠아', '쇼콜라', '트위스트', '초콜릿', '캔디', '캐러멜', '파운드', '머핀', '마들렌',\n       '크로플', '크레이', '샌드위치', '다쿠아즈', '샌드', '무스', '만쥬', '월병', '쉬폰', '베이글',\n       '모나카', '카스타드', '수플레', '전병', '휘낭시에', '바움쿠헨', '빨미까레', '까눌레', '멜츠',\n       '크레페', '도넛', '케이크', '케익', '크루와상', '견과류', '떡', '빙과', '빙수', '카스테',\n       '프레즐', '샤베트', '시리얼', '유지방아이스크림', '양갱'], dtype=object)"
     },
     "execution_count": 2999,
     "metadata": {},
     "output_type": "execute_result"
    }
   ],
   "source": [
    "sheet['중분류'].unique()"
   ],
   "metadata": {
    "collapsed": false,
    "pycharm": {
     "name": "#%%\n"
    }
   }
  },
  {
   "cell_type": "code",
   "execution_count": 3000,
   "outputs": [
    {
     "data": {
      "text/plain": "          No             식품명 대분류  중분류     소분류  1회 제공량  용량 총내용량(g) 총내용량(ml)  \\\n921    10873    까로망 녹차라떼 파우더  음료  유제품     고형차      30   g     500        -   \n944    16644        녹차라떼(봉지)  음료  유제품     고형차      15   g     300        -   \n8294   79782          녹차라떼 R  음료  유제품  기타 음료류     263  mL       -    262.5   \n8295   79783          녹차라떼 L  음료  유제품  기타 음료류     330  mL       -      330   \n8357   82074       녹차라떼(HOT)  음료  유제품  기타 음료류     325  mL       -      325   \n8358   82075      녹차라떼(ICED)  음료  유제품  기타 음료류     550  mL       -      550   \n8384   83051           녹차 라떼  음료  유제품  기타 음료류     220  mL       -      220   \n8402   84375         녹차라떼HOT  음료  유제품  기타 음료류     567   g     567        -   \n8408   84382         녹차라떼ICE  음료  유제품  기타 음료류     567   g     567        -   \n23907  17158         제주 녹차라떼  음료  유제품     액상차     250  mL       -      250   \n26078  81666            녹차라떼  음료  유제품      차류     355  mL       -      355   \n26079  81667         아이스녹차라떼  음료  유제품      차류     456  mL       -      456   \n26080  81688            녹차라떼  음료  유제품      차류     100  mL       -      100   \n26102  81805      ICED 녹차 라떼  음료  유제품      차류     400  mL       -      400   \n26103  81806       HOT 녹차 라떼  음료  유제품      차류     370  mL       -      370   \n26104  81807  (EX)IXED 녹차 라떼  음료  유제품      차류     630  mL       -      630   \n26105  81808   (EX)HOT 녹차 라떼  음료  유제품      차류     630  mL       -      630   \n\n       총당류(g)   총내용량  단위용량 대비 설탕 비율  \n921     25.00  500.0           83.3  \n944      8.00  300.0           53.3  \n8294    27.30  262.5           10.4  \n8295    35.50  330.0           10.8  \n8357    51.00  325.0           15.7  \n8358    33.00  550.0            6.0  \n8384    26.00  220.0           11.8  \n8402    28.50  567.0            5.0  \n8408    28.50  567.0            5.0  \n23907   24.00  250.0            9.6  \n26078   41.00  355.0           11.5  \n26079   49.00  456.0           10.7  \n26080    8.75  100.0            8.8  \n26102   24.00  400.0            6.0  \n26103   28.00  370.0            7.6  \n26104   45.00  630.0            7.1  \n26105   54.00  630.0            8.6  ",
      "text/html": "<div>\n<style scoped>\n    .dataframe tbody tr th:only-of-type {\n        vertical-align: middle;\n    }\n\n    .dataframe tbody tr th {\n        vertical-align: top;\n    }\n\n    .dataframe thead th {\n        text-align: right;\n    }\n</style>\n<table border=\"1\" class=\"dataframe\">\n  <thead>\n    <tr style=\"text-align: right;\">\n      <th></th>\n      <th>No</th>\n      <th>식품명</th>\n      <th>대분류</th>\n      <th>중분류</th>\n      <th>소분류</th>\n      <th>1회 제공량</th>\n      <th>용량</th>\n      <th>총내용량(g)</th>\n      <th>총내용량(ml)</th>\n      <th>총당류(g)</th>\n      <th>총내용량</th>\n      <th>단위용량 대비 설탕 비율</th>\n    </tr>\n  </thead>\n  <tbody>\n    <tr>\n      <th>921</th>\n      <td>10873</td>\n      <td>까로망 녹차라떼 파우더</td>\n      <td>음료</td>\n      <td>유제품</td>\n      <td>고형차</td>\n      <td>30</td>\n      <td>g</td>\n      <td>500</td>\n      <td>-</td>\n      <td>25.00</td>\n      <td>500.0</td>\n      <td>83.3</td>\n    </tr>\n    <tr>\n      <th>944</th>\n      <td>16644</td>\n      <td>녹차라떼(봉지)</td>\n      <td>음료</td>\n      <td>유제품</td>\n      <td>고형차</td>\n      <td>15</td>\n      <td>g</td>\n      <td>300</td>\n      <td>-</td>\n      <td>8.00</td>\n      <td>300.0</td>\n      <td>53.3</td>\n    </tr>\n    <tr>\n      <th>8294</th>\n      <td>79782</td>\n      <td>녹차라떼 R</td>\n      <td>음료</td>\n      <td>유제품</td>\n      <td>기타 음료류</td>\n      <td>263</td>\n      <td>mL</td>\n      <td>-</td>\n      <td>262.5</td>\n      <td>27.30</td>\n      <td>262.5</td>\n      <td>10.4</td>\n    </tr>\n    <tr>\n      <th>8295</th>\n      <td>79783</td>\n      <td>녹차라떼 L</td>\n      <td>음료</td>\n      <td>유제품</td>\n      <td>기타 음료류</td>\n      <td>330</td>\n      <td>mL</td>\n      <td>-</td>\n      <td>330</td>\n      <td>35.50</td>\n      <td>330.0</td>\n      <td>10.8</td>\n    </tr>\n    <tr>\n      <th>8357</th>\n      <td>82074</td>\n      <td>녹차라떼(HOT)</td>\n      <td>음료</td>\n      <td>유제품</td>\n      <td>기타 음료류</td>\n      <td>325</td>\n      <td>mL</td>\n      <td>-</td>\n      <td>325</td>\n      <td>51.00</td>\n      <td>325.0</td>\n      <td>15.7</td>\n    </tr>\n    <tr>\n      <th>8358</th>\n      <td>82075</td>\n      <td>녹차라떼(ICED)</td>\n      <td>음료</td>\n      <td>유제품</td>\n      <td>기타 음료류</td>\n      <td>550</td>\n      <td>mL</td>\n      <td>-</td>\n      <td>550</td>\n      <td>33.00</td>\n      <td>550.0</td>\n      <td>6.0</td>\n    </tr>\n    <tr>\n      <th>8384</th>\n      <td>83051</td>\n      <td>녹차 라떼</td>\n      <td>음료</td>\n      <td>유제품</td>\n      <td>기타 음료류</td>\n      <td>220</td>\n      <td>mL</td>\n      <td>-</td>\n      <td>220</td>\n      <td>26.00</td>\n      <td>220.0</td>\n      <td>11.8</td>\n    </tr>\n    <tr>\n      <th>8402</th>\n      <td>84375</td>\n      <td>녹차라떼HOT</td>\n      <td>음료</td>\n      <td>유제품</td>\n      <td>기타 음료류</td>\n      <td>567</td>\n      <td>g</td>\n      <td>567</td>\n      <td>-</td>\n      <td>28.50</td>\n      <td>567.0</td>\n      <td>5.0</td>\n    </tr>\n    <tr>\n      <th>8408</th>\n      <td>84382</td>\n      <td>녹차라떼ICE</td>\n      <td>음료</td>\n      <td>유제품</td>\n      <td>기타 음료류</td>\n      <td>567</td>\n      <td>g</td>\n      <td>567</td>\n      <td>-</td>\n      <td>28.50</td>\n      <td>567.0</td>\n      <td>5.0</td>\n    </tr>\n    <tr>\n      <th>23907</th>\n      <td>17158</td>\n      <td>제주 녹차라떼</td>\n      <td>음료</td>\n      <td>유제품</td>\n      <td>액상차</td>\n      <td>250</td>\n      <td>mL</td>\n      <td>-</td>\n      <td>250</td>\n      <td>24.00</td>\n      <td>250.0</td>\n      <td>9.6</td>\n    </tr>\n    <tr>\n      <th>26078</th>\n      <td>81666</td>\n      <td>녹차라떼</td>\n      <td>음료</td>\n      <td>유제품</td>\n      <td>차류</td>\n      <td>355</td>\n      <td>mL</td>\n      <td>-</td>\n      <td>355</td>\n      <td>41.00</td>\n      <td>355.0</td>\n      <td>11.5</td>\n    </tr>\n    <tr>\n      <th>26079</th>\n      <td>81667</td>\n      <td>아이스녹차라떼</td>\n      <td>음료</td>\n      <td>유제품</td>\n      <td>차류</td>\n      <td>456</td>\n      <td>mL</td>\n      <td>-</td>\n      <td>456</td>\n      <td>49.00</td>\n      <td>456.0</td>\n      <td>10.7</td>\n    </tr>\n    <tr>\n      <th>26080</th>\n      <td>81688</td>\n      <td>녹차라떼</td>\n      <td>음료</td>\n      <td>유제품</td>\n      <td>차류</td>\n      <td>100</td>\n      <td>mL</td>\n      <td>-</td>\n      <td>100</td>\n      <td>8.75</td>\n      <td>100.0</td>\n      <td>8.8</td>\n    </tr>\n    <tr>\n      <th>26102</th>\n      <td>81805</td>\n      <td>ICED 녹차 라떼</td>\n      <td>음료</td>\n      <td>유제품</td>\n      <td>차류</td>\n      <td>400</td>\n      <td>mL</td>\n      <td>-</td>\n      <td>400</td>\n      <td>24.00</td>\n      <td>400.0</td>\n      <td>6.0</td>\n    </tr>\n    <tr>\n      <th>26103</th>\n      <td>81806</td>\n      <td>HOT 녹차 라떼</td>\n      <td>음료</td>\n      <td>유제품</td>\n      <td>차류</td>\n      <td>370</td>\n      <td>mL</td>\n      <td>-</td>\n      <td>370</td>\n      <td>28.00</td>\n      <td>370.0</td>\n      <td>7.6</td>\n    </tr>\n    <tr>\n      <th>26104</th>\n      <td>81807</td>\n      <td>(EX)IXED 녹차 라떼</td>\n      <td>음료</td>\n      <td>유제품</td>\n      <td>차류</td>\n      <td>630</td>\n      <td>mL</td>\n      <td>-</td>\n      <td>630</td>\n      <td>45.00</td>\n      <td>630.0</td>\n      <td>7.1</td>\n    </tr>\n    <tr>\n      <th>26105</th>\n      <td>81808</td>\n      <td>(EX)HOT 녹차 라떼</td>\n      <td>음료</td>\n      <td>유제품</td>\n      <td>차류</td>\n      <td>630</td>\n      <td>mL</td>\n      <td>-</td>\n      <td>630</td>\n      <td>54.00</td>\n      <td>630.0</td>\n      <td>8.6</td>\n    </tr>\n  </tbody>\n</table>\n</div>"
     },
     "execution_count": 3000,
     "metadata": {},
     "output_type": "execute_result"
    }
   ],
   "source": [
    "sheet.loc[(sheet['중분류'] == '유제품') & (sheet['식품명'].str.contains('녹차')), :]"
   ],
   "metadata": {
    "collapsed": false,
    "pycharm": {
     "name": "#%%\n"
    }
   }
  },
  {
   "cell_type": "code",
   "execution_count": 3001,
   "outputs": [
    {
     "data": {
      "text/plain": "1297          젤리\n1298          젤리\n2059          젤리\n2060          젤리\n2537       과·채음료\n3095       과·채음료\n3922       과·채음료\n24523      과·채음료\n24747    인삼/홍삼음료\n24749    인삼/홍삼음료\n24760    인삼/홍삼음료\n35367        유제품\n35369      과·채음료\n35401      과·채음료\n35432      과·채음료\n35531      과·채음료\n35532        유제품\n35533      과·채음료\n35534      과·채음료\n35535      과·채음료\n35672       활력음료\n35673       활력음료\n35674       활력음료\n36238       활력음료\n36239       활력음료\n36240       활력음료\n37110        유제품\n37111      과·채음료\n37112      과·채음료\n37113      과·채음료\n37114      과·채음료\n37150      과·채음료\nName: 중분류, dtype: object"
     },
     "execution_count": 3001,
     "metadata": {},
     "output_type": "execute_result"
    }
   ],
   "source": [
    "sheet.loc[(sheet['대분류'] == '음료') & (sheet['식품명'].str.contains('뽀로로')), '중분류']"
   ],
   "metadata": {
    "collapsed": false,
    "pycharm": {
     "name": "#%%\n"
    }
   }
  },
  {
   "cell_type": "code",
   "execution_count": 3001,
   "outputs": [],
   "source": [],
   "metadata": {
    "collapsed": false,
    "pycharm": {
     "name": "#%%\n"
    }
   }
  },
  {
   "cell_type": "code",
   "execution_count": 3001,
   "outputs": [],
   "source": [],
   "metadata": {
    "collapsed": false,
    "pycharm": {
     "name": "#%%\n"
    }
   }
  },
  {
   "cell_type": "code",
   "execution_count": 3001,
   "outputs": [],
   "source": [],
   "metadata": {
    "collapsed": false,
    "pycharm": {
     "name": "#%%\n"
    }
   }
  },
  {
   "cell_type": "code",
   "execution_count": 3001,
   "outputs": [],
   "source": [],
   "metadata": {
    "collapsed": false,
    "pycharm": {
     "name": "#%%\n"
    }
   }
  },
  {
   "cell_type": "code",
   "execution_count": 3002,
   "outputs": [
    {
     "data": {
      "text/plain": "          No              식품명 대분류  중분류   소분류  1회 제공량  용량 총내용량(g) 총내용량(ml)  \\\n2      10399          달콤한베지밀비  음료  유제품  가공두유     100  mL       -      950   \n4      10401         담백한베지밀에이  음료  유제품  가공두유     190  mL       -      190   \n859    10808       호두,아몬드,율무차  음료  유제품   고형차      18   g     900        -   \n861    10810    호두,아몬드,율무차(컵)  음료  유제품   고형차      20   g      20        -   \n869    10818        아몬드잣호두율무차  음료  유제품   고형차      18   g     270        -   \n...      ...              ...  ..  ...   ...     ...  ..     ...      ...   \n37022  65023      하이뮨 프로틴 밸런스  음료  유제품  혼합음료     125   g     125        -   \n37084  66212     발소이아 아몬드 드링크  음료  유제품  혼합음료     100   g    1000        -   \n37110  66533  귀여운 내친구 뽀로로 밀크맛  음료  유제품  혼합음료     235   g     235        -   \n37185  67256         헬로카봇 밀크맛  음료  유제품  혼합음료     240   g     240        -   \n37197  67705      리얼 아몬드 95.5  음료  유제품  혼합음료     190   g    4560        -   \n\n       총당류(g)    총내용량  단위용량 대비 설탕 비율  \n2         5.0   950.0            5.0  \n4         6.0   190.0            3.2  \n859       6.0   900.0           33.3  \n861       6.0    20.0           30.0  \n869       6.0   270.0           33.3  \n...       ...     ...            ...  \n37022     7.5   125.0            6.0  \n37084     3.0  1000.0            3.0  \n37110    13.0   235.0            5.5  \n37185    15.0   240.0            6.2  \n37197     3.0  4560.0            1.6  \n\n[698 rows x 12 columns]",
      "text/html": "<div>\n<style scoped>\n    .dataframe tbody tr th:only-of-type {\n        vertical-align: middle;\n    }\n\n    .dataframe tbody tr th {\n        vertical-align: top;\n    }\n\n    .dataframe thead th {\n        text-align: right;\n    }\n</style>\n<table border=\"1\" class=\"dataframe\">\n  <thead>\n    <tr style=\"text-align: right;\">\n      <th></th>\n      <th>No</th>\n      <th>식품명</th>\n      <th>대분류</th>\n      <th>중분류</th>\n      <th>소분류</th>\n      <th>1회 제공량</th>\n      <th>용량</th>\n      <th>총내용량(g)</th>\n      <th>총내용량(ml)</th>\n      <th>총당류(g)</th>\n      <th>총내용량</th>\n      <th>단위용량 대비 설탕 비율</th>\n    </tr>\n  </thead>\n  <tbody>\n    <tr>\n      <th>2</th>\n      <td>10399</td>\n      <td>달콤한베지밀비</td>\n      <td>음료</td>\n      <td>유제품</td>\n      <td>가공두유</td>\n      <td>100</td>\n      <td>mL</td>\n      <td>-</td>\n      <td>950</td>\n      <td>5.0</td>\n      <td>950.0</td>\n      <td>5.0</td>\n    </tr>\n    <tr>\n      <th>4</th>\n      <td>10401</td>\n      <td>담백한베지밀에이</td>\n      <td>음료</td>\n      <td>유제품</td>\n      <td>가공두유</td>\n      <td>190</td>\n      <td>mL</td>\n      <td>-</td>\n      <td>190</td>\n      <td>6.0</td>\n      <td>190.0</td>\n      <td>3.2</td>\n    </tr>\n    <tr>\n      <th>859</th>\n      <td>10808</td>\n      <td>호두,아몬드,율무차</td>\n      <td>음료</td>\n      <td>유제품</td>\n      <td>고형차</td>\n      <td>18</td>\n      <td>g</td>\n      <td>900</td>\n      <td>-</td>\n      <td>6.0</td>\n      <td>900.0</td>\n      <td>33.3</td>\n    </tr>\n    <tr>\n      <th>861</th>\n      <td>10810</td>\n      <td>호두,아몬드,율무차(컵)</td>\n      <td>음료</td>\n      <td>유제품</td>\n      <td>고형차</td>\n      <td>20</td>\n      <td>g</td>\n      <td>20</td>\n      <td>-</td>\n      <td>6.0</td>\n      <td>20.0</td>\n      <td>30.0</td>\n    </tr>\n    <tr>\n      <th>869</th>\n      <td>10818</td>\n      <td>아몬드잣호두율무차</td>\n      <td>음료</td>\n      <td>유제품</td>\n      <td>고형차</td>\n      <td>18</td>\n      <td>g</td>\n      <td>270</td>\n      <td>-</td>\n      <td>6.0</td>\n      <td>270.0</td>\n      <td>33.3</td>\n    </tr>\n    <tr>\n      <th>...</th>\n      <td>...</td>\n      <td>...</td>\n      <td>...</td>\n      <td>...</td>\n      <td>...</td>\n      <td>...</td>\n      <td>...</td>\n      <td>...</td>\n      <td>...</td>\n      <td>...</td>\n      <td>...</td>\n      <td>...</td>\n    </tr>\n    <tr>\n      <th>37022</th>\n      <td>65023</td>\n      <td>하이뮨 프로틴 밸런스</td>\n      <td>음료</td>\n      <td>유제품</td>\n      <td>혼합음료</td>\n      <td>125</td>\n      <td>g</td>\n      <td>125</td>\n      <td>-</td>\n      <td>7.5</td>\n      <td>125.0</td>\n      <td>6.0</td>\n    </tr>\n    <tr>\n      <th>37084</th>\n      <td>66212</td>\n      <td>발소이아 아몬드 드링크</td>\n      <td>음료</td>\n      <td>유제품</td>\n      <td>혼합음료</td>\n      <td>100</td>\n      <td>g</td>\n      <td>1000</td>\n      <td>-</td>\n      <td>3.0</td>\n      <td>1000.0</td>\n      <td>3.0</td>\n    </tr>\n    <tr>\n      <th>37110</th>\n      <td>66533</td>\n      <td>귀여운 내친구 뽀로로 밀크맛</td>\n      <td>음료</td>\n      <td>유제품</td>\n      <td>혼합음료</td>\n      <td>235</td>\n      <td>g</td>\n      <td>235</td>\n      <td>-</td>\n      <td>13.0</td>\n      <td>235.0</td>\n      <td>5.5</td>\n    </tr>\n    <tr>\n      <th>37185</th>\n      <td>67256</td>\n      <td>헬로카봇 밀크맛</td>\n      <td>음료</td>\n      <td>유제품</td>\n      <td>혼합음료</td>\n      <td>240</td>\n      <td>g</td>\n      <td>240</td>\n      <td>-</td>\n      <td>15.0</td>\n      <td>240.0</td>\n      <td>6.2</td>\n    </tr>\n    <tr>\n      <th>37197</th>\n      <td>67705</td>\n      <td>리얼 아몬드 95.5</td>\n      <td>음료</td>\n      <td>유제품</td>\n      <td>혼합음료</td>\n      <td>190</td>\n      <td>g</td>\n      <td>4560</td>\n      <td>-</td>\n      <td>3.0</td>\n      <td>4560.0</td>\n      <td>1.6</td>\n    </tr>\n  </tbody>\n</table>\n<p>698 rows × 12 columns</p>\n</div>"
     },
     "execution_count": 3002,
     "metadata": {},
     "output_type": "execute_result"
    }
   ],
   "source": [
    "sheet.loc[(sheet['대분류'] == '음료') & (sheet['중분류'] == '유제품'), :]"
   ],
   "metadata": {
    "collapsed": false,
    "pycharm": {
     "name": "#%%\n"
    }
   }
  },
  {
   "cell_type": "code",
   "execution_count": 3003,
   "outputs": [],
   "source": [
    "# = [견과, 분말, 과일, 초콜릿, 채소, 녹차, ]\n",
    "# 식품명 : 두유분말 => 분말로 소분류전환\n",
    "# 두유랑 견과및곡류 채소 ?\n",
    "두유 = ['두유', '베지밀']\n",
    "견과및곡류 = ['토피넛', '토피 넛', '귀리', '오트밀', '미숫가루', '검은콩', '아몬드', '아침햇살', '라이스', '땅콩', '캐슈넛', '블랙빈', '오곡', '바밤', '흑임자', '인절미']\n",
    "분말 = []\n",
    "과일 = ['복숭아', '베리', '코코넛', '바나나', '딸기', '망고', '멜론', '홍시']\n",
    "초콜릿 = ['초코', '쿠앤크', '쵸코', '초콜릿', '까망']\n",
    "밀크티 = ['블랙펄', '밀크티', '블랙티', '밀크폼', '차이', '흑당', '밀크 티', '홍차', '버블']\n",
    "우유 = ['우유']\n",
    "어린이제품 = ['뽀로로', '헬로카봇', '리틀라이언', '오라떼']\n",
    "프로틴 = ['프로틴']\n",
    "커피 = ['카라멜', '카페', '헤이즐넛', '바닐라', '아메', '라떼']\n",
    "채소 = ['고구마', '쑥', '단호박']\n",
    "\n",
    "유제품종류 = []\n",
    "\n",
    "sheet.loc[sheet['중분류'] == '유제품', '소분류'] = ''"
   ],
   "metadata": {
    "collapsed": false,
    "pycharm": {
     "name": "#%%\n"
    }
   }
  },
  {
   "cell_type": "code",
   "execution_count": 3004,
   "outputs": [],
   "source": [
    "# seperated_category('유제품', 유제품종류)\n",
    "\n"
   ],
   "metadata": {
    "collapsed": false,
    "pycharm": {
     "name": "#%%\n"
    }
   }
  },
  {
   "cell_type": "code",
   "execution_count": 3005,
   "outputs": [],
   "source": [
    "erase = list(sheet.loc[(sheet['중분류'] == '유제품') & (sheet['소분류'] == ''), :].index)"
   ],
   "metadata": {
    "collapsed": false,
    "pycharm": {
     "name": "#%%\n"
    }
   }
  },
  {
   "cell_type": "code",
   "execution_count": 3006,
   "outputs": [],
   "source": [
    "for value in erase:\n",
    "    sheet = sheet.drop(value, axis=0)"
   ],
   "metadata": {
    "collapsed": false,
    "pycharm": {
     "name": "#%%\n"
    }
   }
  },
  {
   "cell_type": "code",
   "execution_count": 3007,
   "outputs": [
    {
     "name": "stdout",
     "output_type": "stream",
     "text": [
      "{}\n"
     ]
    }
   ],
   "source": [
    "minimal_beverage_category = list(sheet.loc[sheet['중분류'] == '유제품', '소분류'].unique())\n",
    "b_dict = {}\n",
    "for value in minimal_beverage_category:\n",
    "    b_dict[value] = len(sheet.loc[(sheet['중분류'] == '유제품') & (sheet['소분류'] == value), :])\n",
    "pp.pprint(b_dict)"
   ],
   "metadata": {
    "collapsed": false,
    "pycharm": {
     "name": "#%%\n"
    }
   }
  },
  {
   "cell_type": "code",
   "execution_count": 3008,
   "outputs": [
    {
     "data": {
      "text/plain": "          No            식품명 대분류 중분류   소분류  1회 제공량  용량 총내용량(g) 총내용량(ml)  \\\n0      10397      삼육두유검은콩칼슘  음료  두유  가공두유     190  mL       -      190   \n1      10398    베지밀검은콩두유고칼슘  음료  두유  가공두유     190  mL       -      190   \n3      10400  삼육두유검은콩호두와아몬드  음료  두유  가공두유     140  mL       -      140   \n5      10402          삼육두유A  음료  두유  가공두유     190  mL       -      190   \n6      10403    베지밀아몬드와호두두유  음료  두유  가공두유     190  mL       -      190   \n...      ...            ...  ..  ..   ...     ...  ..     ...      ...   \n24335  15279         검은콩두유1  음료  두유  원액두유     195  mL       -     3120   \n24336  15281          검은콩두유  음료  두유  원액두유     195  mL       -     3120   \n24337  15283           유기두유  음료  두유  원액두유     170  mL       -     2040   \n24338  15287      달콤한검정약콩두유  음료  두유  원액두유     170  mL       -     2040   \n24339  15291        달콤한유기두유  음료  두유  원액두유     170  mL       -     2040   \n\n       총당류(g)    총내용량  단위용량 대비 설탕 비율  \n0        10.0   190.0            5.3  \n1        10.0   190.0            5.3  \n3        10.0   140.0            7.1  \n5         6.0   190.0            3.2  \n6         8.5   190.0            4.5  \n...       ...     ...            ...  \n24335     3.0  3120.0            1.5  \n24336     4.0  3120.0            2.1  \n24337     4.0  2040.0            2.4  \n24338     4.0  2040.0            2.4  \n24339     5.0  2040.0            2.9  \n\n[126 rows x 12 columns]",
      "text/html": "<div>\n<style scoped>\n    .dataframe tbody tr th:only-of-type {\n        vertical-align: middle;\n    }\n\n    .dataframe tbody tr th {\n        vertical-align: top;\n    }\n\n    .dataframe thead th {\n        text-align: right;\n    }\n</style>\n<table border=\"1\" class=\"dataframe\">\n  <thead>\n    <tr style=\"text-align: right;\">\n      <th></th>\n      <th>No</th>\n      <th>식품명</th>\n      <th>대분류</th>\n      <th>중분류</th>\n      <th>소분류</th>\n      <th>1회 제공량</th>\n      <th>용량</th>\n      <th>총내용량(g)</th>\n      <th>총내용량(ml)</th>\n      <th>총당류(g)</th>\n      <th>총내용량</th>\n      <th>단위용량 대비 설탕 비율</th>\n    </tr>\n  </thead>\n  <tbody>\n    <tr>\n      <th>0</th>\n      <td>10397</td>\n      <td>삼육두유검은콩칼슘</td>\n      <td>음료</td>\n      <td>두유</td>\n      <td>가공두유</td>\n      <td>190</td>\n      <td>mL</td>\n      <td>-</td>\n      <td>190</td>\n      <td>10.0</td>\n      <td>190.0</td>\n      <td>5.3</td>\n    </tr>\n    <tr>\n      <th>1</th>\n      <td>10398</td>\n      <td>베지밀검은콩두유고칼슘</td>\n      <td>음료</td>\n      <td>두유</td>\n      <td>가공두유</td>\n      <td>190</td>\n      <td>mL</td>\n      <td>-</td>\n      <td>190</td>\n      <td>10.0</td>\n      <td>190.0</td>\n      <td>5.3</td>\n    </tr>\n    <tr>\n      <th>3</th>\n      <td>10400</td>\n      <td>삼육두유검은콩호두와아몬드</td>\n      <td>음료</td>\n      <td>두유</td>\n      <td>가공두유</td>\n      <td>140</td>\n      <td>mL</td>\n      <td>-</td>\n      <td>140</td>\n      <td>10.0</td>\n      <td>140.0</td>\n      <td>7.1</td>\n    </tr>\n    <tr>\n      <th>5</th>\n      <td>10402</td>\n      <td>삼육두유A</td>\n      <td>음료</td>\n      <td>두유</td>\n      <td>가공두유</td>\n      <td>190</td>\n      <td>mL</td>\n      <td>-</td>\n      <td>190</td>\n      <td>6.0</td>\n      <td>190.0</td>\n      <td>3.2</td>\n    </tr>\n    <tr>\n      <th>6</th>\n      <td>10403</td>\n      <td>베지밀아몬드와호두두유</td>\n      <td>음료</td>\n      <td>두유</td>\n      <td>가공두유</td>\n      <td>190</td>\n      <td>mL</td>\n      <td>-</td>\n      <td>190</td>\n      <td>8.5</td>\n      <td>190.0</td>\n      <td>4.5</td>\n    </tr>\n    <tr>\n      <th>...</th>\n      <td>...</td>\n      <td>...</td>\n      <td>...</td>\n      <td>...</td>\n      <td>...</td>\n      <td>...</td>\n      <td>...</td>\n      <td>...</td>\n      <td>...</td>\n      <td>...</td>\n      <td>...</td>\n      <td>...</td>\n    </tr>\n    <tr>\n      <th>24335</th>\n      <td>15279</td>\n      <td>검은콩두유1</td>\n      <td>음료</td>\n      <td>두유</td>\n      <td>원액두유</td>\n      <td>195</td>\n      <td>mL</td>\n      <td>-</td>\n      <td>3120</td>\n      <td>3.0</td>\n      <td>3120.0</td>\n      <td>1.5</td>\n    </tr>\n    <tr>\n      <th>24336</th>\n      <td>15281</td>\n      <td>검은콩두유</td>\n      <td>음료</td>\n      <td>두유</td>\n      <td>원액두유</td>\n      <td>195</td>\n      <td>mL</td>\n      <td>-</td>\n      <td>3120</td>\n      <td>4.0</td>\n      <td>3120.0</td>\n      <td>2.1</td>\n    </tr>\n    <tr>\n      <th>24337</th>\n      <td>15283</td>\n      <td>유기두유</td>\n      <td>음료</td>\n      <td>두유</td>\n      <td>원액두유</td>\n      <td>170</td>\n      <td>mL</td>\n      <td>-</td>\n      <td>2040</td>\n      <td>4.0</td>\n      <td>2040.0</td>\n      <td>2.4</td>\n    </tr>\n    <tr>\n      <th>24338</th>\n      <td>15287</td>\n      <td>달콤한검정약콩두유</td>\n      <td>음료</td>\n      <td>두유</td>\n      <td>원액두유</td>\n      <td>170</td>\n      <td>mL</td>\n      <td>-</td>\n      <td>2040</td>\n      <td>4.0</td>\n      <td>2040.0</td>\n      <td>2.4</td>\n    </tr>\n    <tr>\n      <th>24339</th>\n      <td>15291</td>\n      <td>달콤한유기두유</td>\n      <td>음료</td>\n      <td>두유</td>\n      <td>원액두유</td>\n      <td>170</td>\n      <td>mL</td>\n      <td>-</td>\n      <td>2040</td>\n      <td>5.0</td>\n      <td>2040.0</td>\n      <td>2.9</td>\n    </tr>\n  </tbody>\n</table>\n<p>126 rows × 12 columns</p>\n</div>"
     },
     "execution_count": 3008,
     "metadata": {},
     "output_type": "execute_result"
    }
   ],
   "source": [
    "sheet.loc[(sheet[\"대분류\"] == '음료') & (sheet['식품명'].str.contains('두유')), :]"
   ],
   "metadata": {
    "collapsed": false,
    "pycharm": {
     "name": "#%%\n"
    }
   }
  },
  {
   "cell_type": "code",
   "execution_count": 3009,
   "outputs": [],
   "source": [
    "# sheet['총당류(g)'] / sheet['1회 제공량'] 이거 다더함 / 전체양, 소수 둘째,"
   ],
   "metadata": {
    "collapsed": false,
    "pycharm": {
     "name": "#%%\n"
    }
   }
  },
  {
   "cell_type": "code",
   "execution_count": 3010,
   "outputs": [],
   "source": [
    "\n",
    "\n",
    "def average_ratio(sheet):\n",
    "    return round(sum(sheet) / len(sheet), 2)"
   ],
   "metadata": {
    "collapsed": false,
    "pycharm": {
     "name": "#%%\n"
    }
   }
  },
  {
   "cell_type": "code",
   "execution_count": 3011,
   "outputs": [
    {
     "data": {
      "text/plain": "Empty DataFrame\nColumns: [No, 식품명, 대분류, 중분류, 소분류, 1회 제공량, 용량, 총내용량(g), 총내용량(ml), 총당류(g), 총내용량, 단위용량 대비 설탕 비율]\nIndex: []",
      "text/html": "<div>\n<style scoped>\n    .dataframe tbody tr th:only-of-type {\n        vertical-align: middle;\n    }\n\n    .dataframe tbody tr th {\n        vertical-align: top;\n    }\n\n    .dataframe thead th {\n        text-align: right;\n    }\n</style>\n<table border=\"1\" class=\"dataframe\">\n  <thead>\n    <tr style=\"text-align: right;\">\n      <th></th>\n      <th>No</th>\n      <th>식품명</th>\n      <th>대분류</th>\n      <th>중분류</th>\n      <th>소분류</th>\n      <th>1회 제공량</th>\n      <th>용량</th>\n      <th>총내용량(g)</th>\n      <th>총내용량(ml)</th>\n      <th>총당류(g)</th>\n      <th>총내용량</th>\n      <th>단위용량 대비 설탕 비율</th>\n    </tr>\n  </thead>\n  <tbody>\n  </tbody>\n</table>\n</div>"
     },
     "execution_count": 3011,
     "metadata": {},
     "output_type": "execute_result"
    }
   ],
   "source": [
    "sheet.loc[(sheet['대분류'] == '음료') & (sheet['중분류'] == '유제품'), :]"
   ],
   "metadata": {
    "collapsed": false,
    "pycharm": {
     "name": "#%%\n"
    }
   }
  },
  {
   "cell_type": "code",
   "execution_count": 3012,
   "outputs": [
    {
     "name": "stderr",
     "output_type": "stream",
     "text": [
      "/var/folders/5z/5rdp8_657ln18qfy3d9fxjtm0000gq/T/ipykernel_48211/2221404589.py:6: UserWarning: This pattern is interpreted as a regular expression, and has match groups. To actually get the groups, use str.extract.\n",
      "  sheet.loc[(sheet['중분류'] == '유제품') & (sheet['식품명'].str.contains(value)), '소분류'] = '분말'\n"
     ]
    }
   ],
   "source": [
    "분말 = ['호두,아몬드,율무차', '호두 아몬드 율무차', '녹차라떼(봉지)', '호두아몬드곡물라떼', '호두 아몬드 율무차', '시리얼 귀리 오곡들깨차', '매일매일 으라차차 귀리 안동참마차', '까로망 녹차라떼 파우더', '호두,아몬드,율무차(컵)', '아몬드잣호두율무차', '호두 아몬드 율무차', '호두.아몬드.마.밤.율무차', 'Homeplus 호두 아몬드 잣 율무차', '호두아몬드율무차', '호두아몬드율무차(TEA)',\n",
    "'호두아몬드율무차', '시리얼 귀리 호박차', '콘플레이크아몬드천마차', '아몬드,호두,율무차', '매일매일 으라차차 귀리 아몬드  율무차', '후디스 호두,아몬드, 해바라기, 잣 율무차', '호두,아몬드,율무차',\n",
    "'쌀눈이 들어 있는 호두아몬드율무차', '시리얼귀리안동참마차', '아몬드호두율무차', '호두아몬드마차', '매일매일 으라차차 귀리 안동참마차', '까로망 녹차라떼 파우더', '시리얼 귀리 오곡들깨차', '아몬드호두율무차', '호두 아몬드 율무차', '호두아몬드곡물라떼', '밀크티 파우더', '골든 밀크티', '인젠 식물성프로틴 멀티그레인']\n",
    "\n",
    "for value in 분말:\n",
    "    sheet.loc[(sheet['중분류'] == '유제품') & (sheet['식품명'].str.contains(value)), '소분류'] = '분말'"
   ],
   "metadata": {
    "collapsed": false,
    "pycharm": {
     "name": "#%%\n"
    }
   }
  },
  {
   "cell_type": "code",
   "execution_count": 3013,
   "outputs": [
    {
     "data": {
      "text/plain": "Empty DataFrame\nColumns: [No, 식품명, 대분류, 중분류, 소분류, 1회 제공량, 용량, 총내용량(g), 총내용량(ml), 총당류(g), 총내용량, 단위용량 대비 설탕 비율]\nIndex: []",
      "text/html": "<div>\n<style scoped>\n    .dataframe tbody tr th:only-of-type {\n        vertical-align: middle;\n    }\n\n    .dataframe tbody tr th {\n        vertical-align: top;\n    }\n\n    .dataframe thead th {\n        text-align: right;\n    }\n</style>\n<table border=\"1\" class=\"dataframe\">\n  <thead>\n    <tr style=\"text-align: right;\">\n      <th></th>\n      <th>No</th>\n      <th>식품명</th>\n      <th>대분류</th>\n      <th>중분류</th>\n      <th>소분류</th>\n      <th>1회 제공량</th>\n      <th>용량</th>\n      <th>총내용량(g)</th>\n      <th>총내용량(ml)</th>\n      <th>총당류(g)</th>\n      <th>총내용량</th>\n      <th>단위용량 대비 설탕 비율</th>\n    </tr>\n  </thead>\n  <tbody>\n  </tbody>\n</table>\n</div>"
     },
     "execution_count": 3013,
     "metadata": {},
     "output_type": "execute_result"
    }
   ],
   "source": [
    "sheet.loc[(sheet['중분류'] == '유제품') & (sheet['대분류'] == '음료'), :]"
   ],
   "metadata": {
    "collapsed": false,
    "pycharm": {
     "name": "#%%\n"
    }
   }
  },
  {
   "cell_type": "code",
   "execution_count": 3013,
   "outputs": [],
   "source": [],
   "metadata": {
    "collapsed": false,
    "pycharm": {
     "name": "#%%\n"
    }
   }
  },
  {
   "cell_type": "code",
   "execution_count": 3014,
   "outputs": [
    {
     "data": {
      "text/plain": "Empty DataFrame\nColumns: [No, 식품명, 대분류, 중분류, 소분류, 1회 제공량, 용량, 총내용량(g), 총내용량(ml), 총당류(g), 총내용량, 단위용량 대비 설탕 비율]\nIndex: []",
      "text/html": "<div>\n<style scoped>\n    .dataframe tbody tr th:only-of-type {\n        vertical-align: middle;\n    }\n\n    .dataframe tbody tr th {\n        vertical-align: top;\n    }\n\n    .dataframe thead th {\n        text-align: right;\n    }\n</style>\n<table border=\"1\" class=\"dataframe\">\n  <thead>\n    <tr style=\"text-align: right;\">\n      <th></th>\n      <th>No</th>\n      <th>식품명</th>\n      <th>대분류</th>\n      <th>중분류</th>\n      <th>소분류</th>\n      <th>1회 제공량</th>\n      <th>용량</th>\n      <th>총내용량(g)</th>\n      <th>총내용량(ml)</th>\n      <th>총당류(g)</th>\n      <th>총내용량</th>\n      <th>단위용량 대비 설탕 비율</th>\n    </tr>\n  </thead>\n  <tbody>\n  </tbody>\n</table>\n</div>"
     },
     "execution_count": 3014,
     "metadata": {},
     "output_type": "execute_result"
    }
   ],
   "source": [
    "sheet.loc[(sheet['대분류'] == '음료') & (sheet['중분류'] == '유제품'), :]"
   ],
   "metadata": {
    "collapsed": false,
    "pycharm": {
     "name": "#%%\n"
    }
   }
  },
  {
   "cell_type": "code",
   "execution_count": 3015,
   "outputs": [
    {
     "data": {
      "text/plain": "['두유',\n '유제품',\n '과·채음료',\n '차',\n '활력음료',\n '인삼/홍삼음료',\n '커피류',\n '탄산음료',\n '젤리',\n '발효음료',\n '스무디',\n '이온음료']"
     },
     "execution_count": 3015,
     "metadata": {},
     "output_type": "execute_result"
    }
   ],
   "source": [
    "beverage_category"
   ],
   "metadata": {
    "collapsed": false,
    "pycharm": {
     "name": "#%%\n"
    }
   }
  },
  {
   "cell_type": "code",
   "execution_count": 3016,
   "outputs": [],
   "source": [
    "# 과/채음료"
   ],
   "metadata": {
    "collapsed": false,
    "pycharm": {
     "name": "#%%\n"
    }
   }
  },
  {
   "cell_type": "code",
   "execution_count": 3017,
   "outputs": [
    {
     "data": {
      "text/plain": "Empty DataFrame\nColumns: [No, 식품명, 대분류, 중분류, 소분류, 1회 제공량, 용량, 총내용량(g), 총내용량(ml), 총당류(g), 총내용량, 단위용량 대비 설탕 비율]\nIndex: []",
      "text/html": "<div>\n<style scoped>\n    .dataframe tbody tr th:only-of-type {\n        vertical-align: middle;\n    }\n\n    .dataframe tbody tr th {\n        vertical-align: top;\n    }\n\n    .dataframe thead th {\n        text-align: right;\n    }\n</style>\n<table border=\"1\" class=\"dataframe\">\n  <thead>\n    <tr style=\"text-align: right;\">\n      <th></th>\n      <th>No</th>\n      <th>식품명</th>\n      <th>대분류</th>\n      <th>중분류</th>\n      <th>소분류</th>\n      <th>1회 제공량</th>\n      <th>용량</th>\n      <th>총내용량(g)</th>\n      <th>총내용량(ml)</th>\n      <th>총당류(g)</th>\n      <th>총내용량</th>\n      <th>단위용량 대비 설탕 비율</th>\n    </tr>\n  </thead>\n  <tbody>\n  </tbody>\n</table>\n</div>"
     },
     "execution_count": 3017,
     "metadata": {},
     "output_type": "execute_result"
    }
   ],
   "source": [
    "sheet[sheet['중분류'] == '과/채음료']"
   ],
   "metadata": {
    "collapsed": false,
    "pycharm": {
     "name": "#%%\n"
    }
   }
  },
  {
   "cell_type": "code",
   "execution_count": 3018,
   "outputs": [],
   "source": [
    "# 고형차 분말로\n",
    "비율시트 = sheet.loc[(sheet['중분류'] == '과/채음료') & (sheet['소분류'] == '고형차'), :]['단위용량 대비 설탕 비율']\n",
    "sheet.loc[(sheet['소분류'] == '고형차') & (sheet['중분류'] == '과/채음료'), '소분류'] = '분말'"
   ],
   "metadata": {
    "collapsed": false,
    "pycharm": {
     "name": "#%%\n"
    }
   }
  },
  {
   "cell_type": "code",
   "execution_count": 3019,
   "outputs": [
    {
     "data": {
      "text/plain": "Empty DataFrame\nColumns: [No, 식품명, 대분류, 중분류, 소분류, 1회 제공량, 용량, 총내용량(g), 총내용량(ml), 총당류(g), 총내용량, 단위용량 대비 설탕 비율]\nIndex: []",
      "text/html": "<div>\n<style scoped>\n    .dataframe tbody tr th:only-of-type {\n        vertical-align: middle;\n    }\n\n    .dataframe tbody tr th {\n        vertical-align: top;\n    }\n\n    .dataframe thead th {\n        text-align: right;\n    }\n</style>\n<table border=\"1\" class=\"dataframe\">\n  <thead>\n    <tr style=\"text-align: right;\">\n      <th></th>\n      <th>No</th>\n      <th>식품명</th>\n      <th>대분류</th>\n      <th>중분류</th>\n      <th>소분류</th>\n      <th>1회 제공량</th>\n      <th>용량</th>\n      <th>총내용량(g)</th>\n      <th>총내용량(ml)</th>\n      <th>총당류(g)</th>\n      <th>총내용량</th>\n      <th>단위용량 대비 설탕 비율</th>\n    </tr>\n  </thead>\n  <tbody>\n  </tbody>\n</table>\n</div>"
     },
     "execution_count": 3019,
     "metadata": {},
     "output_type": "execute_result"
    }
   ],
   "source": [
    "sheet[sheet['중분류'] == '과/채음료']"
   ],
   "metadata": {
    "collapsed": false,
    "pycharm": {
     "name": "#%%\n"
    }
   }
  },
  {
   "cell_type": "code",
   "execution_count": 3020,
   "outputs": [
    {
     "data": {
      "text/plain": "Empty DataFrame\nColumns: [No, 식품명, 대분류, 중분류, 소분류, 1회 제공량, 용량, 총내용량(g), 총내용량(ml), 총당류(g), 총내용량, 단위용량 대비 설탕 비율]\nIndex: []",
      "text/html": "<div>\n<style scoped>\n    .dataframe tbody tr th:only-of-type {\n        vertical-align: middle;\n    }\n\n    .dataframe tbody tr th {\n        vertical-align: top;\n    }\n\n    .dataframe thead th {\n        text-align: right;\n    }\n</style>\n<table border=\"1\" class=\"dataframe\">\n  <thead>\n    <tr style=\"text-align: right;\">\n      <th></th>\n      <th>No</th>\n      <th>식품명</th>\n      <th>대분류</th>\n      <th>중분류</th>\n      <th>소분류</th>\n      <th>1회 제공량</th>\n      <th>용량</th>\n      <th>총내용량(g)</th>\n      <th>총내용량(ml)</th>\n      <th>총당류(g)</th>\n      <th>총내용량</th>\n      <th>단위용량 대비 설탕 비율</th>\n    </tr>\n  </thead>\n  <tbody>\n  </tbody>\n</table>\n</div>"
     },
     "execution_count": 3020,
     "metadata": {},
     "output_type": "execute_result"
    }
   ],
   "source": [
    "# 중분류 = 과/채음료\n",
    "\n",
    "# 중분류 = 차\n",
    "# 과일 = 레모네이드, 카프리썬, 썬키스트, 피나콜라다 빼고 다 ‘주스’ 붙이기\n",
    "\n",
    "고구마음료 = ['고구마']\n",
    "호박주스 = ['호박']\n",
    "비트주스 = ['비트']\n",
    "당근주스 = ['당근']\n",
    "야채주스 = ['야채']\n",
    "양파주스 = ['양파']\n",
    "도라지주스 = ['도라지']\n",
    "양배추주스 = ['양배추']\n",
    "바질주스 = ['바질']\n",
    "시금치주스 = ['시금치']\n",
    "쑥주스 = ['쑥']\n",
    "노니주스 = ['노니']\n",
    "토마토주스 = ['토마토', '토마도']\n",
    "알로에주스 = ['알로에']\n",
    "녹즙 = ['녹즙']\n",
    "비트주스 = []\n",
    "복숭아주스 = ['복숭아', '피치']\n",
    "매실주스 = ['매실']\n",
    "석류주스 = ['석류']\n",
    "자몽주스 = ['자몽']\n",
    "오렌지주스 = ['오렌지', 'Orange']\n",
    "망고주스 = ['망고']\n",
    "배주스 = ['배']\n",
    "매실주스 = ['매실']\n",
    "감귤주스 = ['감귤']\n",
    "바나나주스 = ['바나나']\n",
    "살구주스 = ['살구']\n",
    "복분자주스 = ['복분실', '복분자']\n",
    "키위주스 = ['키위']\n",
    "블루베리주스 = ['블루베리']\n",
    "홍시주스 = ['홍시']\n",
    "깔라만시주스 = ['깔라만시']\n",
    "크랜베리주스 = ['크랜베리']\n",
    "체리주스 = ['체리']\n",
    "수박주스 = ['수박']\n",
    "무화과주스 = ['무화과']\n",
    "프룬주스 = ['푸룬', '프룬']\n",
    "아로니아주스 = ['아로니아']\n",
    "유자주스 = ['유자']\n",
    "레몬주스 = ['레몬']\n",
    "자두주스 = ['자두']\n",
    "리치주스 = ['리치']\n",
    "오미자주스 = ['오미자']\n",
    "포도주스 = ['포도']\n",
    "카프리썬 = ['카프리썬']\n",
    "딸기주스 = ['딸기', '스트로베리']\n",
    "사과주스 = ['사과', '애플']\n",
    "코코넛주스 = ['코코넛']\n",
    "청포도주스 = ['청포도']\n",
    "비트주스 = ['비트']\n",
    "\n",
    "과채음료종류 = {\n",
    "\"고구마음료\":고구마음료,\n",
    "\"호박주스\":호박주스,\n",
    "\"비트주스\":비트주스,\n",
    "\"당근주스\":당근주스,\n",
    "\"야채주스\":야채주스,\n",
    "\"양파주스\":양파주스,\n",
    "\"도라지주스\":도라지주스,\n",
    "\"양배추주스\":양배추주스,\n",
    "\"바질주스\":바질주스,\n",
    "\"시금치주스\":시금치주스,\n",
    "\"쑥주스\":쑥주스,\n",
    "\"노니주스\":노니주스,\n",
    "\"토마토주스\":토마토주스,\n",
    "\"알로에주스\":알로에주스,\n",
    "\"녹즙\":녹즙,\n",
    "\"비트주스\":비트주스,\n",
    "\"복숭아주스\":복숭아주스,\n",
    "\"매실주스\":매실주스,\n",
    "\"석류주스\":석류주스,\n",
    "\"자몽주스\":자몽주스,\n",
    "\"오렌지주스\":오렌지주스,\n",
    "\"망고주스\":망고주스,\n",
    "\"배주스\":배주스,\n",
    "\"매실주스\":매실주스,\n",
    "\"감귤주스\":감귤주스,\n",
    "\"바나나주스\":바나나주스,\n",
    "\"살구주스\":살구주스,\n",
    "\"복분자주스\":복분자주스,\n",
    "\"키위주스\":키위주스,\n",
    "\"블루베리주스\":블루베리주스,\n",
    "\"홍시주스\":홍시주스,\n",
    "\"깔라만시주스\":깔라만시주스,\n",
    "\"크랜베리주스\":크랜베리주스,\n",
    "\"체리주스\":체리주스,\n",
    "\"수박주스\":수박주스,\n",
    "\"무화과주스\":무화과주스,\n",
    "\"프룬주스\":프룬주스,\n",
    "\"아로니아주스\":아로니아주스,\n",
    "\"유자주스\":유자주스,\n",
    "\"레몬주스\":레몬주스,\n",
    "\"자두주스\":자두주스,\n",
    "\"리치주스\":리치주스,\n",
    "\"오미자주스\":오미자주스,\n",
    "\"포도주스\":포도주스,\n",
    "\"카프리썬\":카프리썬,\n",
    "\"딸기주스\":딸기주스,\n",
    "\"사과주스\":사과주스,\n",
    "\"코코넛주스\":코코넛주스,\n",
    "\"청포도주스\":청포도주스,\n",
    "\"비트주스\":비트주스,\n",
    "}\n",
    "\n",
    "seperated_category('과·채음료', 과채음료종류)\n",
    "\n",
    "sheet[(sheet['중분류'] == '과·채음료') & (sheet['소분류'] == \"\")]"
   ],
   "metadata": {
    "collapsed": false,
    "pycharm": {
     "name": "#%%\n"
    }
   }
  },
  {
   "cell_type": "code",
   "execution_count": 3021,
   "outputs": [
    {
     "data": {
      "text/plain": "          No                                       식품명 대분류    중분류    소분류  \\\n82     10481                              고구마, 호박에게바나나  음료  과·채음료  바나나주스   \n858    10807  립톤 아이스티믹스 복숭아맛(Lipton Ice Tea Mix Peach)  음료  과·채음료  복숭아주스   \n860    10809                             네스티 복숭아맛 아이스티  음료  과·채음료  복숭아주스   \n862    10811   립톤 아이스티믹스 레몬맛(Lipton Ice Tea Mix Lemon)  음료  과·채음료   레몬주스   \n864    10813                                티오아이스티복숭아맛  음료  과·채음료  복숭아주스   \n...      ...                                       ...  ..    ...    ...   \n37207  67960                                썬키스트 폴리 딸기  음료  과·채음료   딸기주스   \n37208  67961                                   오렌지 드링크  음료  과·채음료  오렌지주스   \n37209  67962                              코코팜 피치핑크 복숭아  음료  과·채음료  복숭아주스   \n37210  67963                                     코코팜포도  음료  과·채음료   포도주스   \n37211  67964                            해태 코코팜피치핑크 복숭아  음료  과·채음료  복숭아주스   \n\n       1회 제공량  용량 총내용량(g) 총내용량(ml)  총당류(g)    총내용량  단위용량 대비 설탕 비율  \n82        190  mL       -      190    12.0   190.0            6.3  \n858       100   g     770        -    96.0   770.0           96.0  \n860        12   g    1000        -    12.0  1000.0          100.0  \n862       100   g    1200        -    96.0  1200.0           96.0  \n864        13   g    1690        -    11.7  1690.0           90.0  \n...       ...  ..     ...      ...     ...     ...            ...  \n37207     210   g     210        -    16.0   210.0            7.6  \n37208     175   g     175        -    11.0   175.0            6.3  \n37209     340   g     340        -    41.0   340.0           12.1  \n37210     340   g     340        -    38.0   340.0           11.2  \n37211    1000   g    1000        -    29.0  1000.0            2.9  \n\n[4749 rows x 12 columns]",
      "text/html": "<div>\n<style scoped>\n    .dataframe tbody tr th:only-of-type {\n        vertical-align: middle;\n    }\n\n    .dataframe tbody tr th {\n        vertical-align: top;\n    }\n\n    .dataframe thead th {\n        text-align: right;\n    }\n</style>\n<table border=\"1\" class=\"dataframe\">\n  <thead>\n    <tr style=\"text-align: right;\">\n      <th></th>\n      <th>No</th>\n      <th>식품명</th>\n      <th>대분류</th>\n      <th>중분류</th>\n      <th>소분류</th>\n      <th>1회 제공량</th>\n      <th>용량</th>\n      <th>총내용량(g)</th>\n      <th>총내용량(ml)</th>\n      <th>총당류(g)</th>\n      <th>총내용량</th>\n      <th>단위용량 대비 설탕 비율</th>\n    </tr>\n  </thead>\n  <tbody>\n    <tr>\n      <th>82</th>\n      <td>10481</td>\n      <td>고구마, 호박에게바나나</td>\n      <td>음료</td>\n      <td>과·채음료</td>\n      <td>바나나주스</td>\n      <td>190</td>\n      <td>mL</td>\n      <td>-</td>\n      <td>190</td>\n      <td>12.0</td>\n      <td>190.0</td>\n      <td>6.3</td>\n    </tr>\n    <tr>\n      <th>858</th>\n      <td>10807</td>\n      <td>립톤 아이스티믹스 복숭아맛(Lipton Ice Tea Mix Peach)</td>\n      <td>음료</td>\n      <td>과·채음료</td>\n      <td>복숭아주스</td>\n      <td>100</td>\n      <td>g</td>\n      <td>770</td>\n      <td>-</td>\n      <td>96.0</td>\n      <td>770.0</td>\n      <td>96.0</td>\n    </tr>\n    <tr>\n      <th>860</th>\n      <td>10809</td>\n      <td>네스티 복숭아맛 아이스티</td>\n      <td>음료</td>\n      <td>과·채음료</td>\n      <td>복숭아주스</td>\n      <td>12</td>\n      <td>g</td>\n      <td>1000</td>\n      <td>-</td>\n      <td>12.0</td>\n      <td>1000.0</td>\n      <td>100.0</td>\n    </tr>\n    <tr>\n      <th>862</th>\n      <td>10811</td>\n      <td>립톤 아이스티믹스 레몬맛(Lipton Ice Tea Mix Lemon)</td>\n      <td>음료</td>\n      <td>과·채음료</td>\n      <td>레몬주스</td>\n      <td>100</td>\n      <td>g</td>\n      <td>1200</td>\n      <td>-</td>\n      <td>96.0</td>\n      <td>1200.0</td>\n      <td>96.0</td>\n    </tr>\n    <tr>\n      <th>864</th>\n      <td>10813</td>\n      <td>티오아이스티복숭아맛</td>\n      <td>음료</td>\n      <td>과·채음료</td>\n      <td>복숭아주스</td>\n      <td>13</td>\n      <td>g</td>\n      <td>1690</td>\n      <td>-</td>\n      <td>11.7</td>\n      <td>1690.0</td>\n      <td>90.0</td>\n    </tr>\n    <tr>\n      <th>...</th>\n      <td>...</td>\n      <td>...</td>\n      <td>...</td>\n      <td>...</td>\n      <td>...</td>\n      <td>...</td>\n      <td>...</td>\n      <td>...</td>\n      <td>...</td>\n      <td>...</td>\n      <td>...</td>\n      <td>...</td>\n    </tr>\n    <tr>\n      <th>37207</th>\n      <td>67960</td>\n      <td>썬키스트 폴리 딸기</td>\n      <td>음료</td>\n      <td>과·채음료</td>\n      <td>딸기주스</td>\n      <td>210</td>\n      <td>g</td>\n      <td>210</td>\n      <td>-</td>\n      <td>16.0</td>\n      <td>210.0</td>\n      <td>7.6</td>\n    </tr>\n    <tr>\n      <th>37208</th>\n      <td>67961</td>\n      <td>오렌지 드링크</td>\n      <td>음료</td>\n      <td>과·채음료</td>\n      <td>오렌지주스</td>\n      <td>175</td>\n      <td>g</td>\n      <td>175</td>\n      <td>-</td>\n      <td>11.0</td>\n      <td>175.0</td>\n      <td>6.3</td>\n    </tr>\n    <tr>\n      <th>37209</th>\n      <td>67962</td>\n      <td>코코팜 피치핑크 복숭아</td>\n      <td>음료</td>\n      <td>과·채음료</td>\n      <td>복숭아주스</td>\n      <td>340</td>\n      <td>g</td>\n      <td>340</td>\n      <td>-</td>\n      <td>41.0</td>\n      <td>340.0</td>\n      <td>12.1</td>\n    </tr>\n    <tr>\n      <th>37210</th>\n      <td>67963</td>\n      <td>코코팜포도</td>\n      <td>음료</td>\n      <td>과·채음료</td>\n      <td>포도주스</td>\n      <td>340</td>\n      <td>g</td>\n      <td>340</td>\n      <td>-</td>\n      <td>38.0</td>\n      <td>340.0</td>\n      <td>11.2</td>\n    </tr>\n    <tr>\n      <th>37211</th>\n      <td>67964</td>\n      <td>해태 코코팜피치핑크 복숭아</td>\n      <td>음료</td>\n      <td>과·채음료</td>\n      <td>복숭아주스</td>\n      <td>1000</td>\n      <td>g</td>\n      <td>1000</td>\n      <td>-</td>\n      <td>29.0</td>\n      <td>1000.0</td>\n      <td>2.9</td>\n    </tr>\n  </tbody>\n</table>\n<p>4749 rows × 12 columns</p>\n</div>"
     },
     "execution_count": 3021,
     "metadata": {},
     "output_type": "execute_result"
    }
   ],
   "source": [
    "sheet[(sheet['중분류'] == '과·채음료')]"
   ],
   "metadata": {
    "collapsed": false,
    "pycharm": {
     "name": "#%%\n"
    }
   }
  },
  {
   "cell_type": "code",
   "execution_count": 3022,
   "outputs": [
    {
     "data": {
      "text/plain": "          No                                       식품명 대분류    중분류    소분류  \\\n82     10481                              고구마, 호박에게바나나  음료  과·채음료  바나나주스   \n858    10807  립톤 아이스티믹스 복숭아맛(Lipton Ice Tea Mix Peach)  음료  과·채음료  복숭아주스   \n860    10809                             네스티 복숭아맛 아이스티  음료  과·채음료  복숭아주스   \n862    10811   립톤 아이스티믹스 레몬맛(Lipton Ice Tea Mix Lemon)  음료  과·채음료   레몬주스   \n864    10813                                티오아이스티복숭아맛  음료  과·채음료  복숭아주스   \n...      ...                                       ...  ..    ...    ...   \n37207  67960                                썬키스트 폴리 딸기  음료  과·채음료   딸기주스   \n37208  67961                                   오렌지 드링크  음료  과·채음료  오렌지주스   \n37209  67962                              코코팜 피치핑크 복숭아  음료  과·채음료  복숭아주스   \n37210  67963                                     코코팜포도  음료  과·채음료   포도주스   \n37211  67964                            해태 코코팜피치핑크 복숭아  음료  과·채음료  복숭아주스   \n\n       1회 제공량  용량 총내용량(g) 총내용량(ml)  총당류(g)    총내용량  단위용량 대비 설탕 비율  \n82        190  mL       -      190    12.0   190.0            6.3  \n858       100   g     770        -    96.0   770.0           96.0  \n860        12   g    1000        -    12.0  1000.0          100.0  \n862       100   g    1200        -    96.0  1200.0           96.0  \n864        13   g    1690        -    11.7  1690.0           90.0  \n...       ...  ..     ...      ...     ...     ...            ...  \n37207     210   g     210        -    16.0   210.0            7.6  \n37208     175   g     175        -    11.0   175.0            6.3  \n37209     340   g     340        -    41.0   340.0           12.1  \n37210     340   g     340        -    38.0   340.0           11.2  \n37211    1000   g    1000        -    29.0  1000.0            2.9  \n\n[4749 rows x 12 columns]",
      "text/html": "<div>\n<style scoped>\n    .dataframe tbody tr th:only-of-type {\n        vertical-align: middle;\n    }\n\n    .dataframe tbody tr th {\n        vertical-align: top;\n    }\n\n    .dataframe thead th {\n        text-align: right;\n    }\n</style>\n<table border=\"1\" class=\"dataframe\">\n  <thead>\n    <tr style=\"text-align: right;\">\n      <th></th>\n      <th>No</th>\n      <th>식품명</th>\n      <th>대분류</th>\n      <th>중분류</th>\n      <th>소분류</th>\n      <th>1회 제공량</th>\n      <th>용량</th>\n      <th>총내용량(g)</th>\n      <th>총내용량(ml)</th>\n      <th>총당류(g)</th>\n      <th>총내용량</th>\n      <th>단위용량 대비 설탕 비율</th>\n    </tr>\n  </thead>\n  <tbody>\n    <tr>\n      <th>82</th>\n      <td>10481</td>\n      <td>고구마, 호박에게바나나</td>\n      <td>음료</td>\n      <td>과·채음료</td>\n      <td>바나나주스</td>\n      <td>190</td>\n      <td>mL</td>\n      <td>-</td>\n      <td>190</td>\n      <td>12.0</td>\n      <td>190.0</td>\n      <td>6.3</td>\n    </tr>\n    <tr>\n      <th>858</th>\n      <td>10807</td>\n      <td>립톤 아이스티믹스 복숭아맛(Lipton Ice Tea Mix Peach)</td>\n      <td>음료</td>\n      <td>과·채음료</td>\n      <td>복숭아주스</td>\n      <td>100</td>\n      <td>g</td>\n      <td>770</td>\n      <td>-</td>\n      <td>96.0</td>\n      <td>770.0</td>\n      <td>96.0</td>\n    </tr>\n    <tr>\n      <th>860</th>\n      <td>10809</td>\n      <td>네스티 복숭아맛 아이스티</td>\n      <td>음료</td>\n      <td>과·채음료</td>\n      <td>복숭아주스</td>\n      <td>12</td>\n      <td>g</td>\n      <td>1000</td>\n      <td>-</td>\n      <td>12.0</td>\n      <td>1000.0</td>\n      <td>100.0</td>\n    </tr>\n    <tr>\n      <th>862</th>\n      <td>10811</td>\n      <td>립톤 아이스티믹스 레몬맛(Lipton Ice Tea Mix Lemon)</td>\n      <td>음료</td>\n      <td>과·채음료</td>\n      <td>레몬주스</td>\n      <td>100</td>\n      <td>g</td>\n      <td>1200</td>\n      <td>-</td>\n      <td>96.0</td>\n      <td>1200.0</td>\n      <td>96.0</td>\n    </tr>\n    <tr>\n      <th>864</th>\n      <td>10813</td>\n      <td>티오아이스티복숭아맛</td>\n      <td>음료</td>\n      <td>과·채음료</td>\n      <td>복숭아주스</td>\n      <td>13</td>\n      <td>g</td>\n      <td>1690</td>\n      <td>-</td>\n      <td>11.7</td>\n      <td>1690.0</td>\n      <td>90.0</td>\n    </tr>\n    <tr>\n      <th>...</th>\n      <td>...</td>\n      <td>...</td>\n      <td>...</td>\n      <td>...</td>\n      <td>...</td>\n      <td>...</td>\n      <td>...</td>\n      <td>...</td>\n      <td>...</td>\n      <td>...</td>\n      <td>...</td>\n      <td>...</td>\n    </tr>\n    <tr>\n      <th>37207</th>\n      <td>67960</td>\n      <td>썬키스트 폴리 딸기</td>\n      <td>음료</td>\n      <td>과·채음료</td>\n      <td>딸기주스</td>\n      <td>210</td>\n      <td>g</td>\n      <td>210</td>\n      <td>-</td>\n      <td>16.0</td>\n      <td>210.0</td>\n      <td>7.6</td>\n    </tr>\n    <tr>\n      <th>37208</th>\n      <td>67961</td>\n      <td>오렌지 드링크</td>\n      <td>음료</td>\n      <td>과·채음료</td>\n      <td>오렌지주스</td>\n      <td>175</td>\n      <td>g</td>\n      <td>175</td>\n      <td>-</td>\n      <td>11.0</td>\n      <td>175.0</td>\n      <td>6.3</td>\n    </tr>\n    <tr>\n      <th>37209</th>\n      <td>67962</td>\n      <td>코코팜 피치핑크 복숭아</td>\n      <td>음료</td>\n      <td>과·채음료</td>\n      <td>복숭아주스</td>\n      <td>340</td>\n      <td>g</td>\n      <td>340</td>\n      <td>-</td>\n      <td>41.0</td>\n      <td>340.0</td>\n      <td>12.1</td>\n    </tr>\n    <tr>\n      <th>37210</th>\n      <td>67963</td>\n      <td>코코팜포도</td>\n      <td>음료</td>\n      <td>과·채음료</td>\n      <td>포도주스</td>\n      <td>340</td>\n      <td>g</td>\n      <td>340</td>\n      <td>-</td>\n      <td>38.0</td>\n      <td>340.0</td>\n      <td>11.2</td>\n    </tr>\n    <tr>\n      <th>37211</th>\n      <td>67964</td>\n      <td>해태 코코팜피치핑크 복숭아</td>\n      <td>음료</td>\n      <td>과·채음료</td>\n      <td>복숭아주스</td>\n      <td>1000</td>\n      <td>g</td>\n      <td>1000</td>\n      <td>-</td>\n      <td>29.0</td>\n      <td>1000.0</td>\n      <td>2.9</td>\n    </tr>\n  </tbody>\n</table>\n<p>4749 rows × 12 columns</p>\n</div>"
     },
     "execution_count": 3022,
     "metadata": {},
     "output_type": "execute_result"
    }
   ],
   "source": [
    "erase = list(sheet.loc[(sheet['중분류'] == '유제품') & (sheet['소분류'] == ''), :].index)\n",
    "sheet.loc[(sheet['중분류'] == '과·채음료') & (sheet['소분류'] != '채소') & (sheet['소분류'] != '과일'), :]"
   ],
   "metadata": {
    "collapsed": false,
    "pycharm": {
     "name": "#%%\n"
    }
   }
  },
  {
   "cell_type": "code",
   "execution_count": 3023,
   "outputs": [
    {
     "data": {
      "text/plain": "          No                                       식품명 대분류    중분류    소분류  \\\n82     10481                              고구마, 호박에게바나나  음료  과·채음료  바나나주스   \n858    10807  립톤 아이스티믹스 복숭아맛(Lipton Ice Tea Mix Peach)  음료  과·채음료  복숭아주스   \n860    10809                             네스티 복숭아맛 아이스티  음료  과·채음료  복숭아주스   \n862    10811   립톤 아이스티믹스 레몬맛(Lipton Ice Tea Mix Lemon)  음료  과·채음료   레몬주스   \n864    10813                                티오아이스티복숭아맛  음료  과·채음료  복숭아주스   \n...      ...                                       ...  ..    ...    ...   \n37207  67960                                썬키스트 폴리 딸기  음료  과·채음료   딸기주스   \n37208  67961                                   오렌지 드링크  음료  과·채음료  오렌지주스   \n37209  67962                              코코팜 피치핑크 복숭아  음료  과·채음료  복숭아주스   \n37210  67963                                     코코팜포도  음료  과·채음료   포도주스   \n37211  67964                            해태 코코팜피치핑크 복숭아  음료  과·채음료  복숭아주스   \n\n       1회 제공량  용량 총내용량(g) 총내용량(ml)  총당류(g)    총내용량  단위용량 대비 설탕 비율  \n82        190  mL       -      190    12.0   190.0            6.3  \n858       100   g     770        -    96.0   770.0           96.0  \n860        12   g    1000        -    12.0  1000.0          100.0  \n862       100   g    1200        -    96.0  1200.0           96.0  \n864        13   g    1690        -    11.7  1690.0           90.0  \n...       ...  ..     ...      ...     ...     ...            ...  \n37207     210   g     210        -    16.0   210.0            7.6  \n37208     175   g     175        -    11.0   175.0            6.3  \n37209     340   g     340        -    41.0   340.0           12.1  \n37210     340   g     340        -    38.0   340.0           11.2  \n37211    1000   g    1000        -    29.0  1000.0            2.9  \n\n[4749 rows x 12 columns]",
      "text/html": "<div>\n<style scoped>\n    .dataframe tbody tr th:only-of-type {\n        vertical-align: middle;\n    }\n\n    .dataframe tbody tr th {\n        vertical-align: top;\n    }\n\n    .dataframe thead th {\n        text-align: right;\n    }\n</style>\n<table border=\"1\" class=\"dataframe\">\n  <thead>\n    <tr style=\"text-align: right;\">\n      <th></th>\n      <th>No</th>\n      <th>식품명</th>\n      <th>대분류</th>\n      <th>중분류</th>\n      <th>소분류</th>\n      <th>1회 제공량</th>\n      <th>용량</th>\n      <th>총내용량(g)</th>\n      <th>총내용량(ml)</th>\n      <th>총당류(g)</th>\n      <th>총내용량</th>\n      <th>단위용량 대비 설탕 비율</th>\n    </tr>\n  </thead>\n  <tbody>\n    <tr>\n      <th>82</th>\n      <td>10481</td>\n      <td>고구마, 호박에게바나나</td>\n      <td>음료</td>\n      <td>과·채음료</td>\n      <td>바나나주스</td>\n      <td>190</td>\n      <td>mL</td>\n      <td>-</td>\n      <td>190</td>\n      <td>12.0</td>\n      <td>190.0</td>\n      <td>6.3</td>\n    </tr>\n    <tr>\n      <th>858</th>\n      <td>10807</td>\n      <td>립톤 아이스티믹스 복숭아맛(Lipton Ice Tea Mix Peach)</td>\n      <td>음료</td>\n      <td>과·채음료</td>\n      <td>복숭아주스</td>\n      <td>100</td>\n      <td>g</td>\n      <td>770</td>\n      <td>-</td>\n      <td>96.0</td>\n      <td>770.0</td>\n      <td>96.0</td>\n    </tr>\n    <tr>\n      <th>860</th>\n      <td>10809</td>\n      <td>네스티 복숭아맛 아이스티</td>\n      <td>음료</td>\n      <td>과·채음료</td>\n      <td>복숭아주스</td>\n      <td>12</td>\n      <td>g</td>\n      <td>1000</td>\n      <td>-</td>\n      <td>12.0</td>\n      <td>1000.0</td>\n      <td>100.0</td>\n    </tr>\n    <tr>\n      <th>862</th>\n      <td>10811</td>\n      <td>립톤 아이스티믹스 레몬맛(Lipton Ice Tea Mix Lemon)</td>\n      <td>음료</td>\n      <td>과·채음료</td>\n      <td>레몬주스</td>\n      <td>100</td>\n      <td>g</td>\n      <td>1200</td>\n      <td>-</td>\n      <td>96.0</td>\n      <td>1200.0</td>\n      <td>96.0</td>\n    </tr>\n    <tr>\n      <th>864</th>\n      <td>10813</td>\n      <td>티오아이스티복숭아맛</td>\n      <td>음료</td>\n      <td>과·채음료</td>\n      <td>복숭아주스</td>\n      <td>13</td>\n      <td>g</td>\n      <td>1690</td>\n      <td>-</td>\n      <td>11.7</td>\n      <td>1690.0</td>\n      <td>90.0</td>\n    </tr>\n    <tr>\n      <th>...</th>\n      <td>...</td>\n      <td>...</td>\n      <td>...</td>\n      <td>...</td>\n      <td>...</td>\n      <td>...</td>\n      <td>...</td>\n      <td>...</td>\n      <td>...</td>\n      <td>...</td>\n      <td>...</td>\n      <td>...</td>\n    </tr>\n    <tr>\n      <th>37207</th>\n      <td>67960</td>\n      <td>썬키스트 폴리 딸기</td>\n      <td>음료</td>\n      <td>과·채음료</td>\n      <td>딸기주스</td>\n      <td>210</td>\n      <td>g</td>\n      <td>210</td>\n      <td>-</td>\n      <td>16.0</td>\n      <td>210.0</td>\n      <td>7.6</td>\n    </tr>\n    <tr>\n      <th>37208</th>\n      <td>67961</td>\n      <td>오렌지 드링크</td>\n      <td>음료</td>\n      <td>과·채음료</td>\n      <td>오렌지주스</td>\n      <td>175</td>\n      <td>g</td>\n      <td>175</td>\n      <td>-</td>\n      <td>11.0</td>\n      <td>175.0</td>\n      <td>6.3</td>\n    </tr>\n    <tr>\n      <th>37209</th>\n      <td>67962</td>\n      <td>코코팜 피치핑크 복숭아</td>\n      <td>음료</td>\n      <td>과·채음료</td>\n      <td>복숭아주스</td>\n      <td>340</td>\n      <td>g</td>\n      <td>340</td>\n      <td>-</td>\n      <td>41.0</td>\n      <td>340.0</td>\n      <td>12.1</td>\n    </tr>\n    <tr>\n      <th>37210</th>\n      <td>67963</td>\n      <td>코코팜포도</td>\n      <td>음료</td>\n      <td>과·채음료</td>\n      <td>포도주스</td>\n      <td>340</td>\n      <td>g</td>\n      <td>340</td>\n      <td>-</td>\n      <td>38.0</td>\n      <td>340.0</td>\n      <td>11.2</td>\n    </tr>\n    <tr>\n      <th>37211</th>\n      <td>67964</td>\n      <td>해태 코코팜피치핑크 복숭아</td>\n      <td>음료</td>\n      <td>과·채음료</td>\n      <td>복숭아주스</td>\n      <td>1000</td>\n      <td>g</td>\n      <td>1000</td>\n      <td>-</td>\n      <td>29.0</td>\n      <td>1000.0</td>\n      <td>2.9</td>\n    </tr>\n  </tbody>\n</table>\n<p>4749 rows × 12 columns</p>\n</div>"
     },
     "execution_count": 3023,
     "metadata": {},
     "output_type": "execute_result"
    }
   ],
   "source": [
    "sheet[sheet['중분류'] == '과·채음료']"
   ],
   "metadata": {
    "collapsed": false,
    "pycharm": {
     "name": "#%%\n"
    }
   }
  },
  {
   "cell_type": "code",
   "execution_count": 3024,
   "outputs": [
    {
     "data": {
      "text/plain": "                 식품명    소분류  단위용량 대비 설탕 비율\n1530    차그림 프리미엄 딸기5   딸기주스           27.5\n1634    차그림 프리미엄 바나나  바나나주스           30.0\n1635   차그림 프리미엄 살구-5   살구주스           30.0\n1636   차그림 프리미엄 오렌지5  오렌지주스           27.5\n1637      차그림프리미엄포도7   포도주스           27.5\n1736   차그림 프리미엄 망고F4   망고주스           31.0\n1737    차그림 프리미엄 복숭아  복숭아주스           30.0\n1738    차그림 프리미엄 자몽9   자몽주스           26.0\n1739    차그림 프리미엄 키위7   키위주스           37.0\n1740  차그림 프리미엄 파인애플7   사과주스           47.0\n2392    차그림 프리미엄 키위7   키위주스           37.0\n2393    차그림 프리미엄 딸기5   딸기주스           46.0\n2394  차그림 프리미엄 파인애플7   사과주스           47.0\n2395   차그림 프리미엄 오렌지5  오렌지주스           28.0\n2396    차그림 프리미엄 자몽9   자몽주스           26.0\n2397   차그림 프리미엄 망고F4   망고주스           31.0\n2398   차그림 프리미엄 살구-5   살구주스           31.0\n2399    차그림 프리미엄 바나나  바나나주스           30.0",
      "text/html": "<div>\n<style scoped>\n    .dataframe tbody tr th:only-of-type {\n        vertical-align: middle;\n    }\n\n    .dataframe tbody tr th {\n        vertical-align: top;\n    }\n\n    .dataframe thead th {\n        text-align: right;\n    }\n</style>\n<table border=\"1\" class=\"dataframe\">\n  <thead>\n    <tr style=\"text-align: right;\">\n      <th></th>\n      <th>식품명</th>\n      <th>소분류</th>\n      <th>단위용량 대비 설탕 비율</th>\n    </tr>\n  </thead>\n  <tbody>\n    <tr>\n      <th>1530</th>\n      <td>차그림 프리미엄 딸기5</td>\n      <td>딸기주스</td>\n      <td>27.5</td>\n    </tr>\n    <tr>\n      <th>1634</th>\n      <td>차그림 프리미엄 바나나</td>\n      <td>바나나주스</td>\n      <td>30.0</td>\n    </tr>\n    <tr>\n      <th>1635</th>\n      <td>차그림 프리미엄 살구-5</td>\n      <td>살구주스</td>\n      <td>30.0</td>\n    </tr>\n    <tr>\n      <th>1636</th>\n      <td>차그림 프리미엄 오렌지5</td>\n      <td>오렌지주스</td>\n      <td>27.5</td>\n    </tr>\n    <tr>\n      <th>1637</th>\n      <td>차그림프리미엄포도7</td>\n      <td>포도주스</td>\n      <td>27.5</td>\n    </tr>\n    <tr>\n      <th>1736</th>\n      <td>차그림 프리미엄 망고F4</td>\n      <td>망고주스</td>\n      <td>31.0</td>\n    </tr>\n    <tr>\n      <th>1737</th>\n      <td>차그림 프리미엄 복숭아</td>\n      <td>복숭아주스</td>\n      <td>30.0</td>\n    </tr>\n    <tr>\n      <th>1738</th>\n      <td>차그림 프리미엄 자몽9</td>\n      <td>자몽주스</td>\n      <td>26.0</td>\n    </tr>\n    <tr>\n      <th>1739</th>\n      <td>차그림 프리미엄 키위7</td>\n      <td>키위주스</td>\n      <td>37.0</td>\n    </tr>\n    <tr>\n      <th>1740</th>\n      <td>차그림 프리미엄 파인애플7</td>\n      <td>사과주스</td>\n      <td>47.0</td>\n    </tr>\n    <tr>\n      <th>2392</th>\n      <td>차그림 프리미엄 키위7</td>\n      <td>키위주스</td>\n      <td>37.0</td>\n    </tr>\n    <tr>\n      <th>2393</th>\n      <td>차그림 프리미엄 딸기5</td>\n      <td>딸기주스</td>\n      <td>46.0</td>\n    </tr>\n    <tr>\n      <th>2394</th>\n      <td>차그림 프리미엄 파인애플7</td>\n      <td>사과주스</td>\n      <td>47.0</td>\n    </tr>\n    <tr>\n      <th>2395</th>\n      <td>차그림 프리미엄 오렌지5</td>\n      <td>오렌지주스</td>\n      <td>28.0</td>\n    </tr>\n    <tr>\n      <th>2396</th>\n      <td>차그림 프리미엄 자몽9</td>\n      <td>자몽주스</td>\n      <td>26.0</td>\n    </tr>\n    <tr>\n      <th>2397</th>\n      <td>차그림 프리미엄 망고F4</td>\n      <td>망고주스</td>\n      <td>31.0</td>\n    </tr>\n    <tr>\n      <th>2398</th>\n      <td>차그림 프리미엄 살구-5</td>\n      <td>살구주스</td>\n      <td>31.0</td>\n    </tr>\n    <tr>\n      <th>2399</th>\n      <td>차그림 프리미엄 바나나</td>\n      <td>바나나주스</td>\n      <td>30.0</td>\n    </tr>\n  </tbody>\n</table>\n</div>"
     },
     "execution_count": 3024,
     "metadata": {},
     "output_type": "execute_result"
    }
   ],
   "source": [
    "# 젤리 = ['THE 진한 유기농 석류젤리']\n",
    "# 스틱 = ['푸룬앤유산균', '간편하게 짜먹는 석류앤유산균', '참진한 석류스틱', ']\n",
    "# 농축액 = ['자연오미자', '자연석류', '세븐석류', '세븐블루베리', '자연블루베리', '자연크랜베리', '세븐아로니아', '자연아로니아', '세븐크랜베리', '차전오미자마을',\n",
    "# \"다미즐 봉밀 유자차\", '꿀유자차S', '고흥플러스꿀유자차', '자일 꿀레몬차', '꿀유자차A']\n",
    "sheet.loc[(sheet['중분류'] == '과·채음료') & (sheet['식품명'].str.contains('차그림')), ['식품명', '소분류', '단위용량 대비 설탕 비율']]"
   ],
   "metadata": {
    "collapsed": false,
    "pycharm": {
     "name": "#%%\n"
    }
   }
  },
  {
   "cell_type": "code",
   "execution_count": 3025,
   "outputs": [],
   "source": [
    "sheet = sheet.drop(1711, axis=0)\n",
    "sheet = sheet.drop(1712, axis=0)\n",
    "sheet = sheet.drop(2399, axis=0) # 차그림 키\n",
    "sheet = sheet.drop(2398, axis=0) # 차그림 딸기\n",
    "sheet = sheet.drop(2397, axis=0) # 차그림 파인애플\n",
    "sheet = sheet.drop(2396, axis=0) # 차그림 오렌지\n",
    "sheet = sheet.drop(2395, axis=0) # 차그림 자몽\n",
    "sheet = sheet.drop(2394, axis=0) # 차그림 망고\n",
    "sheet = sheet.drop(2393, axis=0) # 차그림 살구\n",
    "sheet = sheet.drop(2392, axis=0) # 차그림 바나나\n",
    "sheet = sheet.drop(10588, axis=0) # 단양아로니아농축액65\n",
    "sheet = sheet.drop(35477, axis=0)\n",
    "sheet = sheet.drop(36792, axis=0) # 상아데일리도라지배정"
   ],
   "metadata": {
    "collapsed": false,
    "pycharm": {
     "name": "#%%\n"
    }
   }
  },
  {
   "cell_type": "code",
   "execution_count": 3025,
   "outputs": [],
   "source": [],
   "metadata": {
    "collapsed": false,
    "pycharm": {
     "name": "#%%\n"
    }
   }
  },
  {
   "cell_type": "code",
   "execution_count": 3026,
   "outputs": [
    {
     "data": {
      "text/plain": "array([], dtype=object)"
     },
     "execution_count": 3026,
     "metadata": {},
     "output_type": "execute_result"
    }
   ],
   "source": [
    "sheet[sheet['중분류'] == '과/채음료']['소분류'].unique()"
   ],
   "metadata": {
    "collapsed": false,
    "pycharm": {
     "name": "#%%\n"
    }
   }
  },
  {
   "cell_type": "code",
   "execution_count": 3027,
   "outputs": [
    {
     "data": {
      "text/plain": "          No               식품명 대분류 중분류   소분류  1회 제공량 용량 총내용량(g) 총내용량(ml)  \\\n863    10812          콘후레이크천마차  음료   차   고형차      20  g    2200        -   \n865    10814          잣,호두,율무차  음료   차   고형차      18  g     270        -   \n866    10815            생강차플러스  음료   차   고형차      15  g    1050        -   \n868    10817              궁중한차  음료   차   고형차      18  g     270        -   \n870    10819       콘푸레이크포테이토마차  음료   차   고형차      22  g     880        -   \n...      ...               ...  ..  ..   ...     ... ..     ...      ...   \n37003  64987         뷰티에너지 필라틴  음료   차  혼합음료     180  g     180        -   \n37078  65772  소스로 데보툴 자스민티(1L)  음료   차  혼합음료     100  g    1000        -   \n37143  66744           태웅 아이스티  음료   차  혼합음료     190  g     190        -   \n37164  67230       Haewon 해조8차  음료   차  혼합음료     200  g     500        -   \n37198  67706       잇츠온 케어온 엑티브  음료   차  혼합음료     200  g    4000        -   \n\n       총당류(g)    총내용량  단위용량 대비 설탕 비율  \n863       6.0  2200.0           30.0  \n865       6.0   270.0           33.3  \n866       9.0  1050.0           60.0  \n868       9.0   270.0           50.0  \n870       5.0   880.0           22.7  \n...       ...     ...            ...  \n37003     2.9   180.0            1.6  \n37078     7.2  1000.0            7.2  \n37143    31.0   190.0           16.3  \n37164    11.0   500.0            5.5  \n37198    10.0  4000.0            5.0  \n\n[176 rows x 12 columns]",
      "text/html": "<div>\n<style scoped>\n    .dataframe tbody tr th:only-of-type {\n        vertical-align: middle;\n    }\n\n    .dataframe tbody tr th {\n        vertical-align: top;\n    }\n\n    .dataframe thead th {\n        text-align: right;\n    }\n</style>\n<table border=\"1\" class=\"dataframe\">\n  <thead>\n    <tr style=\"text-align: right;\">\n      <th></th>\n      <th>No</th>\n      <th>식품명</th>\n      <th>대분류</th>\n      <th>중분류</th>\n      <th>소분류</th>\n      <th>1회 제공량</th>\n      <th>용량</th>\n      <th>총내용량(g)</th>\n      <th>총내용량(ml)</th>\n      <th>총당류(g)</th>\n      <th>총내용량</th>\n      <th>단위용량 대비 설탕 비율</th>\n    </tr>\n  </thead>\n  <tbody>\n    <tr>\n      <th>863</th>\n      <td>10812</td>\n      <td>콘후레이크천마차</td>\n      <td>음료</td>\n      <td>차</td>\n      <td>고형차</td>\n      <td>20</td>\n      <td>g</td>\n      <td>2200</td>\n      <td>-</td>\n      <td>6.0</td>\n      <td>2200.0</td>\n      <td>30.0</td>\n    </tr>\n    <tr>\n      <th>865</th>\n      <td>10814</td>\n      <td>잣,호두,율무차</td>\n      <td>음료</td>\n      <td>차</td>\n      <td>고형차</td>\n      <td>18</td>\n      <td>g</td>\n      <td>270</td>\n      <td>-</td>\n      <td>6.0</td>\n      <td>270.0</td>\n      <td>33.3</td>\n    </tr>\n    <tr>\n      <th>866</th>\n      <td>10815</td>\n      <td>생강차플러스</td>\n      <td>음료</td>\n      <td>차</td>\n      <td>고형차</td>\n      <td>15</td>\n      <td>g</td>\n      <td>1050</td>\n      <td>-</td>\n      <td>9.0</td>\n      <td>1050.0</td>\n      <td>60.0</td>\n    </tr>\n    <tr>\n      <th>868</th>\n      <td>10817</td>\n      <td>궁중한차</td>\n      <td>음료</td>\n      <td>차</td>\n      <td>고형차</td>\n      <td>18</td>\n      <td>g</td>\n      <td>270</td>\n      <td>-</td>\n      <td>9.0</td>\n      <td>270.0</td>\n      <td>50.0</td>\n    </tr>\n    <tr>\n      <th>870</th>\n      <td>10819</td>\n      <td>콘푸레이크포테이토마차</td>\n      <td>음료</td>\n      <td>차</td>\n      <td>고형차</td>\n      <td>22</td>\n      <td>g</td>\n      <td>880</td>\n      <td>-</td>\n      <td>5.0</td>\n      <td>880.0</td>\n      <td>22.7</td>\n    </tr>\n    <tr>\n      <th>...</th>\n      <td>...</td>\n      <td>...</td>\n      <td>...</td>\n      <td>...</td>\n      <td>...</td>\n      <td>...</td>\n      <td>...</td>\n      <td>...</td>\n      <td>...</td>\n      <td>...</td>\n      <td>...</td>\n      <td>...</td>\n    </tr>\n    <tr>\n      <th>37003</th>\n      <td>64987</td>\n      <td>뷰티에너지 필라틴</td>\n      <td>음료</td>\n      <td>차</td>\n      <td>혼합음료</td>\n      <td>180</td>\n      <td>g</td>\n      <td>180</td>\n      <td>-</td>\n      <td>2.9</td>\n      <td>180.0</td>\n      <td>1.6</td>\n    </tr>\n    <tr>\n      <th>37078</th>\n      <td>65772</td>\n      <td>소스로 데보툴 자스민티(1L)</td>\n      <td>음료</td>\n      <td>차</td>\n      <td>혼합음료</td>\n      <td>100</td>\n      <td>g</td>\n      <td>1000</td>\n      <td>-</td>\n      <td>7.2</td>\n      <td>1000.0</td>\n      <td>7.2</td>\n    </tr>\n    <tr>\n      <th>37143</th>\n      <td>66744</td>\n      <td>태웅 아이스티</td>\n      <td>음료</td>\n      <td>차</td>\n      <td>혼합음료</td>\n      <td>190</td>\n      <td>g</td>\n      <td>190</td>\n      <td>-</td>\n      <td>31.0</td>\n      <td>190.0</td>\n      <td>16.3</td>\n    </tr>\n    <tr>\n      <th>37164</th>\n      <td>67230</td>\n      <td>Haewon 해조8차</td>\n      <td>음료</td>\n      <td>차</td>\n      <td>혼합음료</td>\n      <td>200</td>\n      <td>g</td>\n      <td>500</td>\n      <td>-</td>\n      <td>11.0</td>\n      <td>500.0</td>\n      <td>5.5</td>\n    </tr>\n    <tr>\n      <th>37198</th>\n      <td>67706</td>\n      <td>잇츠온 케어온 엑티브</td>\n      <td>음료</td>\n      <td>차</td>\n      <td>혼합음료</td>\n      <td>200</td>\n      <td>g</td>\n      <td>4000</td>\n      <td>-</td>\n      <td>10.0</td>\n      <td>4000.0</td>\n      <td>5.0</td>\n    </tr>\n  </tbody>\n</table>\n<p>176 rows × 12 columns</p>\n</div>"
     },
     "execution_count": 3027,
     "metadata": {},
     "output_type": "execute_result"
    }
   ],
   "source": [
    "sheet[sheet['중분류'] == '차']"
   ],
   "metadata": {
    "collapsed": false,
    "pycharm": {
     "name": "#%%\n"
    }
   }
  },
  {
   "cell_type": "code",
   "execution_count": 3028,
   "outputs": [
    {
     "ename": "KeyError",
     "evalue": "'[66744] not found in axis'",
     "output_type": "error",
     "traceback": [
      "\u001B[0;31m---------------------------------------------------------------------------\u001B[0m",
      "\u001B[0;31mKeyError\u001B[0m                                  Traceback (most recent call last)",
      "Input \u001B[0;32mIn [3028]\u001B[0m, in \u001B[0;36m<cell line: 4>\u001B[0;34m()\u001B[0m\n\u001B[1;32m      2\u001B[0m sheet \u001B[38;5;241m=\u001B[39m sheet\u001B[38;5;241m.\u001B[39mdrop(\u001B[38;5;241m20944\u001B[39m, axis\u001B[38;5;241m=\u001B[39m\u001B[38;5;241m0\u001B[39m) \u001B[38;5;66;03m# 스무디\u001B[39;00m\n\u001B[1;32m      3\u001B[0m sheet \u001B[38;5;241m=\u001B[39m sheet\u001B[38;5;241m.\u001B[39mdrop(\u001B[38;5;241m20969\u001B[39m, axis\u001B[38;5;241m=\u001B[39m\u001B[38;5;241m0\u001B[39m) \u001B[38;5;66;03m# 스무디\u001B[39;00m\n\u001B[0;32m----> 4\u001B[0m sheet \u001B[38;5;241m=\u001B[39m \u001B[43msheet\u001B[49m\u001B[38;5;241;43m.\u001B[39;49m\u001B[43mdrop\u001B[49m\u001B[43m(\u001B[49m\u001B[38;5;241;43m66744\u001B[39;49m\u001B[43m,\u001B[49m\u001B[43m \u001B[49m\u001B[43maxis\u001B[49m\u001B[38;5;241;43m=\u001B[39;49m\u001B[38;5;241;43m0\u001B[39;49m\u001B[43m)\u001B[49m \u001B[38;5;66;03m# 아이스티\u001B[39;00m\n\u001B[1;32m      5\u001B[0m sheet \u001B[38;5;241m=\u001B[39m sheet\u001B[38;5;241m.\u001B[39mdrop(\u001B[38;5;241m30441\u001B[39m, axis\u001B[38;5;241m=\u001B[39m\u001B[38;5;241m0\u001B[39m) \u001B[38;5;66;03m# 아포가토\u001B[39;00m\n\u001B[1;32m      6\u001B[0m sheet \u001B[38;5;241m=\u001B[39m sheet\u001B[38;5;241m.\u001B[39mdrop(\u001B[38;5;241m25970\u001B[39m, axis\u001B[38;5;241m=\u001B[39m\u001B[38;5;241m0\u001B[39m) \u001B[38;5;66;03m# 아이스티\u001B[39;00m\n",
      "File \u001B[0;32m/opt/homebrew/Cellar/jupyterlab/3.3.2/libexec/lib/python3.9/site-packages/pandas/util/_decorators.py:311\u001B[0m, in \u001B[0;36mdeprecate_nonkeyword_arguments.<locals>.decorate.<locals>.wrapper\u001B[0;34m(*args, **kwargs)\u001B[0m\n\u001B[1;32m    305\u001B[0m \u001B[38;5;28;01mif\u001B[39;00m \u001B[38;5;28mlen\u001B[39m(args) \u001B[38;5;241m>\u001B[39m num_allow_args:\n\u001B[1;32m    306\u001B[0m     warnings\u001B[38;5;241m.\u001B[39mwarn(\n\u001B[1;32m    307\u001B[0m         msg\u001B[38;5;241m.\u001B[39mformat(arguments\u001B[38;5;241m=\u001B[39marguments),\n\u001B[1;32m    308\u001B[0m         \u001B[38;5;167;01mFutureWarning\u001B[39;00m,\n\u001B[1;32m    309\u001B[0m         stacklevel\u001B[38;5;241m=\u001B[39mstacklevel,\n\u001B[1;32m    310\u001B[0m     )\n\u001B[0;32m--> 311\u001B[0m \u001B[38;5;28;01mreturn\u001B[39;00m \u001B[43mfunc\u001B[49m\u001B[43m(\u001B[49m\u001B[38;5;241;43m*\u001B[39;49m\u001B[43margs\u001B[49m\u001B[43m,\u001B[49m\u001B[43m \u001B[49m\u001B[38;5;241;43m*\u001B[39;49m\u001B[38;5;241;43m*\u001B[39;49m\u001B[43mkwargs\u001B[49m\u001B[43m)\u001B[49m\n",
      "File \u001B[0;32m/opt/homebrew/Cellar/jupyterlab/3.3.2/libexec/lib/python3.9/site-packages/pandas/core/frame.py:4954\u001B[0m, in \u001B[0;36mDataFrame.drop\u001B[0;34m(self, labels, axis, index, columns, level, inplace, errors)\u001B[0m\n\u001B[1;32m   4806\u001B[0m \u001B[38;5;129m@deprecate_nonkeyword_arguments\u001B[39m(version\u001B[38;5;241m=\u001B[39m\u001B[38;5;28;01mNone\u001B[39;00m, allowed_args\u001B[38;5;241m=\u001B[39m[\u001B[38;5;124m\"\u001B[39m\u001B[38;5;124mself\u001B[39m\u001B[38;5;124m\"\u001B[39m, \u001B[38;5;124m\"\u001B[39m\u001B[38;5;124mlabels\u001B[39m\u001B[38;5;124m\"\u001B[39m])\n\u001B[1;32m   4807\u001B[0m \u001B[38;5;28;01mdef\u001B[39;00m \u001B[38;5;21mdrop\u001B[39m(\n\u001B[1;32m   4808\u001B[0m     \u001B[38;5;28mself\u001B[39m,\n\u001B[0;32m   (...)\u001B[0m\n\u001B[1;32m   4815\u001B[0m     errors: \u001B[38;5;28mstr\u001B[39m \u001B[38;5;241m=\u001B[39m \u001B[38;5;124m\"\u001B[39m\u001B[38;5;124mraise\u001B[39m\u001B[38;5;124m\"\u001B[39m,\n\u001B[1;32m   4816\u001B[0m ):\n\u001B[1;32m   4817\u001B[0m     \u001B[38;5;124;03m\"\"\"\u001B[39;00m\n\u001B[1;32m   4818\u001B[0m \u001B[38;5;124;03m    Drop specified labels from rows or columns.\u001B[39;00m\n\u001B[1;32m   4819\u001B[0m \n\u001B[0;32m   (...)\u001B[0m\n\u001B[1;32m   4952\u001B[0m \u001B[38;5;124;03m            weight  1.0     0.8\u001B[39;00m\n\u001B[1;32m   4953\u001B[0m \u001B[38;5;124;03m    \"\"\"\u001B[39;00m\n\u001B[0;32m-> 4954\u001B[0m     \u001B[38;5;28;01mreturn\u001B[39;00m \u001B[38;5;28;43msuper\u001B[39;49m\u001B[43m(\u001B[49m\u001B[43m)\u001B[49m\u001B[38;5;241;43m.\u001B[39;49m\u001B[43mdrop\u001B[49m\u001B[43m(\u001B[49m\n\u001B[1;32m   4955\u001B[0m \u001B[43m        \u001B[49m\u001B[43mlabels\u001B[49m\u001B[38;5;241;43m=\u001B[39;49m\u001B[43mlabels\u001B[49m\u001B[43m,\u001B[49m\n\u001B[1;32m   4956\u001B[0m \u001B[43m        \u001B[49m\u001B[43maxis\u001B[49m\u001B[38;5;241;43m=\u001B[39;49m\u001B[43maxis\u001B[49m\u001B[43m,\u001B[49m\n\u001B[1;32m   4957\u001B[0m \u001B[43m        \u001B[49m\u001B[43mindex\u001B[49m\u001B[38;5;241;43m=\u001B[39;49m\u001B[43mindex\u001B[49m\u001B[43m,\u001B[49m\n\u001B[1;32m   4958\u001B[0m \u001B[43m        \u001B[49m\u001B[43mcolumns\u001B[49m\u001B[38;5;241;43m=\u001B[39;49m\u001B[43mcolumns\u001B[49m\u001B[43m,\u001B[49m\n\u001B[1;32m   4959\u001B[0m \u001B[43m        \u001B[49m\u001B[43mlevel\u001B[49m\u001B[38;5;241;43m=\u001B[39;49m\u001B[43mlevel\u001B[49m\u001B[43m,\u001B[49m\n\u001B[1;32m   4960\u001B[0m \u001B[43m        \u001B[49m\u001B[43minplace\u001B[49m\u001B[38;5;241;43m=\u001B[39;49m\u001B[43minplace\u001B[49m\u001B[43m,\u001B[49m\n\u001B[1;32m   4961\u001B[0m \u001B[43m        \u001B[49m\u001B[43merrors\u001B[49m\u001B[38;5;241;43m=\u001B[39;49m\u001B[43merrors\u001B[49m\u001B[43m,\u001B[49m\n\u001B[1;32m   4962\u001B[0m \u001B[43m    \u001B[49m\u001B[43m)\u001B[49m\n",
      "File \u001B[0;32m/opt/homebrew/Cellar/jupyterlab/3.3.2/libexec/lib/python3.9/site-packages/pandas/core/generic.py:4267\u001B[0m, in \u001B[0;36mNDFrame.drop\u001B[0;34m(self, labels, axis, index, columns, level, inplace, errors)\u001B[0m\n\u001B[1;32m   4265\u001B[0m \u001B[38;5;28;01mfor\u001B[39;00m axis, labels \u001B[38;5;129;01min\u001B[39;00m axes\u001B[38;5;241m.\u001B[39mitems():\n\u001B[1;32m   4266\u001B[0m     \u001B[38;5;28;01mif\u001B[39;00m labels \u001B[38;5;129;01mis\u001B[39;00m \u001B[38;5;129;01mnot\u001B[39;00m \u001B[38;5;28;01mNone\u001B[39;00m:\n\u001B[0;32m-> 4267\u001B[0m         obj \u001B[38;5;241m=\u001B[39m \u001B[43mobj\u001B[49m\u001B[38;5;241;43m.\u001B[39;49m\u001B[43m_drop_axis\u001B[49m\u001B[43m(\u001B[49m\u001B[43mlabels\u001B[49m\u001B[43m,\u001B[49m\u001B[43m \u001B[49m\u001B[43maxis\u001B[49m\u001B[43m,\u001B[49m\u001B[43m \u001B[49m\u001B[43mlevel\u001B[49m\u001B[38;5;241;43m=\u001B[39;49m\u001B[43mlevel\u001B[49m\u001B[43m,\u001B[49m\u001B[43m \u001B[49m\u001B[43merrors\u001B[49m\u001B[38;5;241;43m=\u001B[39;49m\u001B[43merrors\u001B[49m\u001B[43m)\u001B[49m\n\u001B[1;32m   4269\u001B[0m \u001B[38;5;28;01mif\u001B[39;00m inplace:\n\u001B[1;32m   4270\u001B[0m     \u001B[38;5;28mself\u001B[39m\u001B[38;5;241m.\u001B[39m_update_inplace(obj)\n",
      "File \u001B[0;32m/opt/homebrew/Cellar/jupyterlab/3.3.2/libexec/lib/python3.9/site-packages/pandas/core/generic.py:4311\u001B[0m, in \u001B[0;36mNDFrame._drop_axis\u001B[0;34m(self, labels, axis, level, errors, consolidate, only_slice)\u001B[0m\n\u001B[1;32m   4309\u001B[0m         new_axis \u001B[38;5;241m=\u001B[39m axis\u001B[38;5;241m.\u001B[39mdrop(labels, level\u001B[38;5;241m=\u001B[39mlevel, errors\u001B[38;5;241m=\u001B[39merrors)\n\u001B[1;32m   4310\u001B[0m     \u001B[38;5;28;01melse\u001B[39;00m:\n\u001B[0;32m-> 4311\u001B[0m         new_axis \u001B[38;5;241m=\u001B[39m \u001B[43maxis\u001B[49m\u001B[38;5;241;43m.\u001B[39;49m\u001B[43mdrop\u001B[49m\u001B[43m(\u001B[49m\u001B[43mlabels\u001B[49m\u001B[43m,\u001B[49m\u001B[43m \u001B[49m\u001B[43merrors\u001B[49m\u001B[38;5;241;43m=\u001B[39;49m\u001B[43merrors\u001B[49m\u001B[43m)\u001B[49m\n\u001B[1;32m   4312\u001B[0m     indexer \u001B[38;5;241m=\u001B[39m axis\u001B[38;5;241m.\u001B[39mget_indexer(new_axis)\n\u001B[1;32m   4314\u001B[0m \u001B[38;5;66;03m# Case for non-unique axis\u001B[39;00m\n\u001B[1;32m   4315\u001B[0m \u001B[38;5;28;01melse\u001B[39;00m:\n",
      "File \u001B[0;32m/opt/homebrew/Cellar/jupyterlab/3.3.2/libexec/lib/python3.9/site-packages/pandas/core/indexes/base.py:6644\u001B[0m, in \u001B[0;36mIndex.drop\u001B[0;34m(self, labels, errors)\u001B[0m\n\u001B[1;32m   6642\u001B[0m \u001B[38;5;28;01mif\u001B[39;00m mask\u001B[38;5;241m.\u001B[39many():\n\u001B[1;32m   6643\u001B[0m     \u001B[38;5;28;01mif\u001B[39;00m errors \u001B[38;5;241m!=\u001B[39m \u001B[38;5;124m\"\u001B[39m\u001B[38;5;124mignore\u001B[39m\u001B[38;5;124m\"\u001B[39m:\n\u001B[0;32m-> 6644\u001B[0m         \u001B[38;5;28;01mraise\u001B[39;00m \u001B[38;5;167;01mKeyError\u001B[39;00m(\u001B[38;5;124mf\u001B[39m\u001B[38;5;124m\"\u001B[39m\u001B[38;5;132;01m{\u001B[39;00m\u001B[38;5;28mlist\u001B[39m(labels[mask])\u001B[38;5;132;01m}\u001B[39;00m\u001B[38;5;124m not found in axis\u001B[39m\u001B[38;5;124m\"\u001B[39m)\n\u001B[1;32m   6645\u001B[0m     indexer \u001B[38;5;241m=\u001B[39m indexer[\u001B[38;5;241m~\u001B[39mmask]\n\u001B[1;32m   6646\u001B[0m \u001B[38;5;28;01mreturn\u001B[39;00m \u001B[38;5;28mself\u001B[39m\u001B[38;5;241m.\u001B[39mdelete(indexer)\n",
      "\u001B[0;31mKeyError\u001B[0m: '[66744] not found in axis'"
     ]
    }
   ],
   "source": [
    "sheet = sheet.drop(20903, axis=0) # 스무디\n",
    "sheet = sheet.drop(20944, axis=0) # 스무디\n",
    "sheet = sheet.drop(20969, axis=0) # 스무디\n",
    "sheet = sheet.drop(66744, axis=0) # 아이스티\n",
    "sheet = sheet.drop(30441, axis=0) # 아포가토\n",
    "sheet = sheet.drop(25970, axis=0) # 아이스티\n",
    "sheet = sheet.drop(26064, axis=0)\n",
    "sheet = sheet.drop(26065, axis=0)\n",
    "sheet = sheet.drop(26081, axis=0)\n",
    "sheet = sheet.drop(26130, axis=0)\n",
    "sheet = sheet.drop(26190, axis=0)\n",
    "sheet = sheet.drop(946, axis=0) # 복분자 아이스티\n",
    "sheet = sheet.drop(945, axis=0)\n",
    "sheet = sheet.drop(8324, axis=0)\n",
    "sheet = sheet.drop(8325, axis=0)\n",
    "sheet = sheet.drop(8328, axis=0)"
   ],
   "metadata": {
    "collapsed": false,
    "pycharm": {
     "name": "#%%\n"
    }
   }
  },
  {
   "cell_type": "code",
   "execution_count": 3029,
   "outputs": [],
   "source": [
    "sheet.loc[(sheet['대분류'] == '음료') & (sheet['중분류'] == '차') & (sheet['소분류'] != '고형차'), '소분류'] = \"\""
   ],
   "metadata": {
    "collapsed": false,
    "pycharm": {
     "name": "#%%\n"
    }
   }
  },
  {
   "cell_type": "code",
   "execution_count": 3030,
   "outputs": [],
   "source": [
    "비율시트 = sheet.loc[(sheet['중분류'] == '차') & (sheet['소분류'] == '고형차'), :]['단위용량 대비 설탕 비율']\n",
    "sheet.loc[(sheet['소분류'] == '고형차') & (sheet['중분류'] == '차'), '소분류'] = '분말'"
   ],
   "metadata": {
    "collapsed": false,
    "pycharm": {
     "name": "#%%\n"
    }
   }
  },
  {
   "cell_type": "code",
   "execution_count": 3031,
   "outputs": [
    {
     "data": {
      "text/plain": "          No               식품명 대분류 중분류 소분류  1회 제공량 용량 총내용량(g) 총내용량(ml)  \\\n863    10812          콘후레이크천마차  음료   차  분말      20  g    2200        -   \n865    10814          잣,호두,율무차  음료   차  분말      18  g     270        -   \n866    10815            생강차플러스  음료   차  분말      15  g    1050        -   \n868    10817              궁중한차  음료   차  분말      18  g     270        -   \n870    10819       콘푸레이크포테이토마차  음료   차  분말      22  g     880        -   \n...      ...               ...  ..  ..  ..     ... ..     ...      ...   \n37003  64987         뷰티에너지 필라틴  음료   차         180  g     180        -   \n37078  65772  소스로 데보툴 자스민티(1L)  음료   차         100  g    1000        -   \n37143  66744           태웅 아이스티  음료   차         190  g     190        -   \n37164  67230       Haewon 해조8차  음료   차         200  g     500        -   \n37198  67706       잇츠온 케어온 엑티브  음료   차         200  g    4000        -   \n\n       총당류(g)    총내용량  단위용량 대비 설탕 비율  \n863       6.0  2200.0           30.0  \n865       6.0   270.0           33.3  \n866       9.0  1050.0           60.0  \n868       9.0   270.0           50.0  \n870       5.0   880.0           22.7  \n...       ...     ...            ...  \n37003     2.9   180.0            1.6  \n37078     7.2  1000.0            7.2  \n37143    31.0   190.0           16.3  \n37164    11.0   500.0            5.5  \n37198    10.0  4000.0            5.0  \n\n[173 rows x 12 columns]",
      "text/html": "<div>\n<style scoped>\n    .dataframe tbody tr th:only-of-type {\n        vertical-align: middle;\n    }\n\n    .dataframe tbody tr th {\n        vertical-align: top;\n    }\n\n    .dataframe thead th {\n        text-align: right;\n    }\n</style>\n<table border=\"1\" class=\"dataframe\">\n  <thead>\n    <tr style=\"text-align: right;\">\n      <th></th>\n      <th>No</th>\n      <th>식품명</th>\n      <th>대분류</th>\n      <th>중분류</th>\n      <th>소분류</th>\n      <th>1회 제공량</th>\n      <th>용량</th>\n      <th>총내용량(g)</th>\n      <th>총내용량(ml)</th>\n      <th>총당류(g)</th>\n      <th>총내용량</th>\n      <th>단위용량 대비 설탕 비율</th>\n    </tr>\n  </thead>\n  <tbody>\n    <tr>\n      <th>863</th>\n      <td>10812</td>\n      <td>콘후레이크천마차</td>\n      <td>음료</td>\n      <td>차</td>\n      <td>분말</td>\n      <td>20</td>\n      <td>g</td>\n      <td>2200</td>\n      <td>-</td>\n      <td>6.0</td>\n      <td>2200.0</td>\n      <td>30.0</td>\n    </tr>\n    <tr>\n      <th>865</th>\n      <td>10814</td>\n      <td>잣,호두,율무차</td>\n      <td>음료</td>\n      <td>차</td>\n      <td>분말</td>\n      <td>18</td>\n      <td>g</td>\n      <td>270</td>\n      <td>-</td>\n      <td>6.0</td>\n      <td>270.0</td>\n      <td>33.3</td>\n    </tr>\n    <tr>\n      <th>866</th>\n      <td>10815</td>\n      <td>생강차플러스</td>\n      <td>음료</td>\n      <td>차</td>\n      <td>분말</td>\n      <td>15</td>\n      <td>g</td>\n      <td>1050</td>\n      <td>-</td>\n      <td>9.0</td>\n      <td>1050.0</td>\n      <td>60.0</td>\n    </tr>\n    <tr>\n      <th>868</th>\n      <td>10817</td>\n      <td>궁중한차</td>\n      <td>음료</td>\n      <td>차</td>\n      <td>분말</td>\n      <td>18</td>\n      <td>g</td>\n      <td>270</td>\n      <td>-</td>\n      <td>9.0</td>\n      <td>270.0</td>\n      <td>50.0</td>\n    </tr>\n    <tr>\n      <th>870</th>\n      <td>10819</td>\n      <td>콘푸레이크포테이토마차</td>\n      <td>음료</td>\n      <td>차</td>\n      <td>분말</td>\n      <td>22</td>\n      <td>g</td>\n      <td>880</td>\n      <td>-</td>\n      <td>5.0</td>\n      <td>880.0</td>\n      <td>22.7</td>\n    </tr>\n    <tr>\n      <th>...</th>\n      <td>...</td>\n      <td>...</td>\n      <td>...</td>\n      <td>...</td>\n      <td>...</td>\n      <td>...</td>\n      <td>...</td>\n      <td>...</td>\n      <td>...</td>\n      <td>...</td>\n      <td>...</td>\n      <td>...</td>\n    </tr>\n    <tr>\n      <th>37003</th>\n      <td>64987</td>\n      <td>뷰티에너지 필라틴</td>\n      <td>음료</td>\n      <td>차</td>\n      <td></td>\n      <td>180</td>\n      <td>g</td>\n      <td>180</td>\n      <td>-</td>\n      <td>2.9</td>\n      <td>180.0</td>\n      <td>1.6</td>\n    </tr>\n    <tr>\n      <th>37078</th>\n      <td>65772</td>\n      <td>소스로 데보툴 자스민티(1L)</td>\n      <td>음료</td>\n      <td>차</td>\n      <td></td>\n      <td>100</td>\n      <td>g</td>\n      <td>1000</td>\n      <td>-</td>\n      <td>7.2</td>\n      <td>1000.0</td>\n      <td>7.2</td>\n    </tr>\n    <tr>\n      <th>37143</th>\n      <td>66744</td>\n      <td>태웅 아이스티</td>\n      <td>음료</td>\n      <td>차</td>\n      <td></td>\n      <td>190</td>\n      <td>g</td>\n      <td>190</td>\n      <td>-</td>\n      <td>31.0</td>\n      <td>190.0</td>\n      <td>16.3</td>\n    </tr>\n    <tr>\n      <th>37164</th>\n      <td>67230</td>\n      <td>Haewon 해조8차</td>\n      <td>음료</td>\n      <td>차</td>\n      <td></td>\n      <td>200</td>\n      <td>g</td>\n      <td>500</td>\n      <td>-</td>\n      <td>11.0</td>\n      <td>500.0</td>\n      <td>5.5</td>\n    </tr>\n    <tr>\n      <th>37198</th>\n      <td>67706</td>\n      <td>잇츠온 케어온 엑티브</td>\n      <td>음료</td>\n      <td>차</td>\n      <td></td>\n      <td>200</td>\n      <td>g</td>\n      <td>4000</td>\n      <td>-</td>\n      <td>10.0</td>\n      <td>4000.0</td>\n      <td>5.0</td>\n    </tr>\n  </tbody>\n</table>\n<p>173 rows × 12 columns</p>\n</div>"
     },
     "execution_count": 3031,
     "metadata": {},
     "output_type": "execute_result"
    }
   ],
   "source": [
    "sheet[sheet['중분류'] == '차']"
   ],
   "metadata": {
    "collapsed": false,
    "pycharm": {
     "name": "#%%\n"
    }
   }
  },
  {
   "cell_type": "code",
   "execution_count": 3032,
   "outputs": [
    {
     "name": "stdout",
     "output_type": "stream",
     "text": [
      "array(['두유', '과·채음료', '차', '활력음료', '인삼/홍삼음료', '커피류', '탄산음료', '젤리', '발효음료',\n",
      "       '스무디', '이온음료'], dtype=object)\n"
     ]
    }
   ],
   "source": [
    "pp.pprint(sheet.loc[(sheet['대분류'] == '음료'), '중분류'].unique())"
   ],
   "metadata": {
    "collapsed": false,
    "pycharm": {
     "name": "#%%\n"
    }
   }
  },
  {
   "cell_type": "code",
   "execution_count": 3033,
   "outputs": [],
   "source": [
    "sheet = sheet.drop(30441, axis=0)"
   ],
   "metadata": {
    "collapsed": false,
    "pycharm": {
     "name": "#%%\n"
    }
   }
  },
  {
   "cell_type": "code",
   "execution_count": 3033,
   "outputs": [],
   "source": [],
   "metadata": {
    "collapsed": false,
    "pycharm": {
     "name": "#%%\n"
    }
   }
  },
  {
   "cell_type": "code",
   "execution_count": 3034,
   "outputs": [],
   "source": [
    "# 중분류 = 차\n",
    "대추차 = ['대추']\n",
    "생강차 = ['생강']\n",
    "국화차 = ['국화']\n",
    "히비스커스차 = ['히비스커스']\n",
    "루이보스차 = ['루이보스']\n",
    "캐모마일차 = ['캐모마일']\n",
    "홍차 = ['홍차', '블랙티']\n",
    "자스민차 = ['자스민']\n",
    "녹차 = ['그린', '녹차']\n",
    "모과차 = ['모과']\n",
    "오미자차 = ['오미자']\n",
    "한라봉차 = ['한라']\n",
    "복숭아차 = ['복숭아', '피치']\n",
    "머스캣차 = ['머스캣']\n",
    "산수유차 = ['산수유']\n",
    "콤부차 = ['콤부', '콤푸']\n",
    "라임차 = ['라임']\n",
    "\n",
    "차종류 = {\n",
    "    \"대추차\":대추차,\n",
    "    \"생강차\":생강차,\n",
    "    \"국화차\":국화차,\n",
    "    \"히비스커스차\":히비스커스차,\n",
    "    \"루이보스차\":루이보스차,\n",
    "    \"캐모마일차\":캐모마일차,\n",
    "    \"홍차\":홍차,\n",
    "    \"자스민차\":자스민차,\n",
    "    \"녹차\":녹차,\n",
    "    \"모과차\":모과차,\n",
    "    \"오미자차\":오미자차,\n",
    "    \"한라봉차\":한라봉차,\n",
    "    \"복숭아차\":복숭아차,\n",
    "    \"머스캣차\":머스캣차,\n",
    "    \"라임차\":라임차,\n",
    "    \"산수유차\":산수유차,\n",
    "    \"콤부차\":콤부차\n",
    "}"
   ],
   "metadata": {
    "collapsed": false,
    "pycharm": {
     "name": "#%%\n"
    }
   }
  },
  {
   "cell_type": "code",
   "execution_count": 3035,
   "outputs": [],
   "source": [
    "seperated_category('차', 차종류, (sheet['소분류'] != '분말'))"
   ],
   "metadata": {
    "collapsed": false,
    "pycharm": {
     "name": "#%%\n"
    }
   }
  },
  {
   "cell_type": "code",
   "execution_count": 3035,
   "outputs": [],
   "source": [],
   "metadata": {
    "collapsed": false,
    "pycharm": {
     "name": "#%%\n"
    }
   }
  },
  {
   "cell_type": "code",
   "execution_count": 3036,
   "outputs": [
    {
     "data": {
      "text/plain": "          No                  식품명 대분류 중분류 소분류  1회 제공량  용량 총내용량(g) 총내용량(ml)  \\\n1807   43415    소프트서브믹스 셀렉티드스트로베리  음료   차         100  mL       -     1000   \n1816   43927              멀티후르트넥타  음료   차         100  mL       -     1000   \n1836   45218             모나비  액티브  음료   차         100  mL       -      750   \n1838   45241                 미스티카  음료   차         100  mL       -      730   \n2440   66205     바이오아이스 유기농 멀티후르티  음료   차         400   g     400        -   \n2455   66484                 옵티헤파  음료   차          25   g      25        -   \n2813   29145                 닥터뷰티  음료   차         190  mL     190        -   \n2883   29489              보름차 플러스  음료   차          80  mL      80        -   \n2986   29903            아임리얼 베리뷰티  음료   차         190  mL     190        -   \n3665   42977            아티초크 추출원액  음료   차         100  mL    5000        -   \n3677   43577              타히티안클래식  음료   차         100  mL       -     1000   \n3739   44799       마르티넬리 스파클링 블러시  음료   차         100  mL       -      750   \n4238   53703  파너 유기농 멀티 로쏘 주스(1L)  음료   차         200   g    1000        -   \n4464   57089              보름차 플러스  음료   차          80   g      80        -   \n4767   64229     [휠링거]유기농 멀티선셋 주스  음료   차         100   g    1000        -   \n4796   65087                 닥터뷰티  음료   차         190   g     190        -   \n8324   80287    하동 말차 펌 크림티(ICED)  음료   차         380  mL       -      380   \n8325   80288     하동 말차 펌 크림티(HOT)  음료   차         310  mL       -      310   \n8601   12150            패스티안티 베이스  음료   차          40  mL       -      720   \n23890   9259           썬키스트 곶감계피차  음료   차         180  mL       -      180   \n23914  43118   리틀미러클 유기농 화이트티(백차)  음료   차         330  mL       -      330   \n23915  43660                아티초크차  음료   차         100  mL       -     1000   \n25890  79159           아이스 상그리아 티  음료   차         360  mL       -      360   \n25891  79160               상그리아 티  음료   차         360  mL       -      360   \n25922  79615         아카시아 꿀차 tall  음료   차         369  mL       -      369   \n25923  79616      아카시아 꿀차 grande   음료   차         510  mL       -      510   \n25924  79617       아카시아 꿀차 venti   음료   차         680  mL       -      680   \n25933  79901              깔라봉 차 R  음료   차         310  mL       -      310   \n25934  79902              깔라봉 차 L  음료   차         495  mL       -      495   \n25970  80892                 아이스티  음료   차         310  mL       -      310   \n26062  81426             가드닝 블랙 티  음료   차         355  mL       -      355   \n26081  81714                 아이스티  음료   차         100  mL       -      100   \n26130  82283             아이스티 ICE  음료   차         467   g     467        -   \n26170  83816       제주 청귤 블렌딩 티(S)  음료   차         330  mL       -      330   \n26190  84397                 아이스티  음료   차         680   g     680        -   \n35562  29127              뉴케어 액티브  음료   차         200  mL     200        -   \n35598  29329             마이밀 핏 말차  음료   차         300  mL     300        -   \n35847  30278              태웅 아이스티  음료   차         190  mL     190        -   \n35975  30840          Haewon 해조8차  음료   차         200  mL     500        -   \n36111  31606                  비움티  음료   차         100  mL    2400        -   \n36205  46034             액티브레벤포르테  음료   차          15  mL       -      450   \n36319  48711        액티브 아르기닌 3000  음료   차          20   g     300        -   \n36323  48719             유한m 뷰티-씨  음료   차          15   g     450        -   \n36456  51270                  아해티  음료   차          30   g      30        -   \n36457  51271               아해티아우룸  음료   차          30   g      30        -   \n36510  52904              돌핀 폴라레티  음료   차         400   g     400        -   \n36511  52905         돌핀 폴라레티 트로피칼  음료   차          40   g     400        -   \n36512  52906         돌핀 폴라레티 헬로썸머  음료   차          40   g     400        -   \n36513  52920          유기농 돌핀 폴라레티  음료   차          40   g     400        -   \n36580  55418                뷰티솔루션  음료   차          10   g     140        -   \n36672  57317                 에너티브  음료   차         150   g     150        -   \n36690  57906        뉴케어 액티브 골든밸런스  음료   차         200   g     200        -   \n36712  58364      플래티넘 L아르기닌 5000  음료   차          20   g     300        -   \n37003  64987            뷰티에너지 필라틴  음료   차         180   g     180        -   \n37143  66744              태웅 아이스티  음료   차         190   g     190        -   \n37164  67230          Haewon 해조8차  음료   차         200   g     500        -   \n37198  67706          잇츠온 케어온 엑티브  음료   차         200   g    4000        -   \n\n       총당류(g)    총내용량  단위용량 대비 설탕 비율  \n1807     5.00  1000.0            5.0  \n1816     9.00  1000.0            9.0  \n1836    11.00   750.0           11.0  \n1838    10.00   730.0           10.0  \n2440    76.00   400.0           19.0  \n2455     3.00    25.0           12.0  \n2813    17.00   190.0            8.9  \n2883     5.00    80.0            6.2  \n2986    22.00   190.0           11.6  \n3665    26.00  5000.0           26.0  \n3677     7.00  1000.0            7.0  \n3739    11.00   750.0           11.0  \n4238    22.00  1000.0           11.0  \n4464     5.00    80.0            6.2  \n4767     9.90  1000.0            9.9  \n4796    17.00   190.0            8.9  \n8324    35.00   380.0            9.2  \n8325    38.10   310.0           12.3  \n8601    10.48   720.0           26.2  \n23890   19.00   180.0           10.6  \n23914   11.00   330.0            3.3  \n23915    6.50  1000.0            6.5  \n25890   34.00   360.0            9.4  \n25891   34.00   360.0            9.4  \n25922   21.81   369.0            5.9  \n25923   26.81   510.0            5.3  \n25924   31.81   680.0            4.7  \n25933   34.60   310.0           11.2  \n25934   51.80   495.0           10.5  \n25970   39.00   310.0           12.6  \n26062   29.00   355.0            8.2  \n26081   12.10   100.0           12.1  \n26130   53.00   467.0           11.3  \n26170   43.00   330.0           13.0  \n26190   10.10   680.0            1.5  \n35562    8.00   200.0            4.0  \n35598    4.00   300.0            1.3  \n35847   32.00   190.0           16.8  \n35975   11.00   500.0            5.5  \n36111    6.00  2400.0            6.0  \n36205    2.20   450.0           14.7  \n36319    2.00   300.0           10.0  \n36323    3.00   450.0           20.0  \n36456    3.00    30.0           10.0  \n36457    3.00    30.0           10.0  \n36510   76.00   400.0           19.0  \n36511    6.80   400.0           17.0  \n36512    6.80   400.0           17.0  \n36513    6.40   400.0           16.0  \n36580    2.20   140.0           22.0  \n36672   17.00   150.0           11.3  \n36690    8.00   200.0            4.0  \n36712    4.00   300.0           20.0  \n37003    2.90   180.0            1.6  \n37143   31.00   190.0           16.3  \n37164   11.00   500.0            5.5  \n37198   10.00  4000.0            5.0  ",
      "text/html": "<div>\n<style scoped>\n    .dataframe tbody tr th:only-of-type {\n        vertical-align: middle;\n    }\n\n    .dataframe tbody tr th {\n        vertical-align: top;\n    }\n\n    .dataframe thead th {\n        text-align: right;\n    }\n</style>\n<table border=\"1\" class=\"dataframe\">\n  <thead>\n    <tr style=\"text-align: right;\">\n      <th></th>\n      <th>No</th>\n      <th>식품명</th>\n      <th>대분류</th>\n      <th>중분류</th>\n      <th>소분류</th>\n      <th>1회 제공량</th>\n      <th>용량</th>\n      <th>총내용량(g)</th>\n      <th>총내용량(ml)</th>\n      <th>총당류(g)</th>\n      <th>총내용량</th>\n      <th>단위용량 대비 설탕 비율</th>\n    </tr>\n  </thead>\n  <tbody>\n    <tr>\n      <th>1807</th>\n      <td>43415</td>\n      <td>소프트서브믹스 셀렉티드스트로베리</td>\n      <td>음료</td>\n      <td>차</td>\n      <td></td>\n      <td>100</td>\n      <td>mL</td>\n      <td>-</td>\n      <td>1000</td>\n      <td>5.00</td>\n      <td>1000.0</td>\n      <td>5.0</td>\n    </tr>\n    <tr>\n      <th>1816</th>\n      <td>43927</td>\n      <td>멀티후르트넥타</td>\n      <td>음료</td>\n      <td>차</td>\n      <td></td>\n      <td>100</td>\n      <td>mL</td>\n      <td>-</td>\n      <td>1000</td>\n      <td>9.00</td>\n      <td>1000.0</td>\n      <td>9.0</td>\n    </tr>\n    <tr>\n      <th>1836</th>\n      <td>45218</td>\n      <td>모나비  액티브</td>\n      <td>음료</td>\n      <td>차</td>\n      <td></td>\n      <td>100</td>\n      <td>mL</td>\n      <td>-</td>\n      <td>750</td>\n      <td>11.00</td>\n      <td>750.0</td>\n      <td>11.0</td>\n    </tr>\n    <tr>\n      <th>1838</th>\n      <td>45241</td>\n      <td>미스티카</td>\n      <td>음료</td>\n      <td>차</td>\n      <td></td>\n      <td>100</td>\n      <td>mL</td>\n      <td>-</td>\n      <td>730</td>\n      <td>10.00</td>\n      <td>730.0</td>\n      <td>10.0</td>\n    </tr>\n    <tr>\n      <th>2440</th>\n      <td>66205</td>\n      <td>바이오아이스 유기농 멀티후르티</td>\n      <td>음료</td>\n      <td>차</td>\n      <td></td>\n      <td>400</td>\n      <td>g</td>\n      <td>400</td>\n      <td>-</td>\n      <td>76.00</td>\n      <td>400.0</td>\n      <td>19.0</td>\n    </tr>\n    <tr>\n      <th>2455</th>\n      <td>66484</td>\n      <td>옵티헤파</td>\n      <td>음료</td>\n      <td>차</td>\n      <td></td>\n      <td>25</td>\n      <td>g</td>\n      <td>25</td>\n      <td>-</td>\n      <td>3.00</td>\n      <td>25.0</td>\n      <td>12.0</td>\n    </tr>\n    <tr>\n      <th>2813</th>\n      <td>29145</td>\n      <td>닥터뷰티</td>\n      <td>음료</td>\n      <td>차</td>\n      <td></td>\n      <td>190</td>\n      <td>mL</td>\n      <td>190</td>\n      <td>-</td>\n      <td>17.00</td>\n      <td>190.0</td>\n      <td>8.9</td>\n    </tr>\n    <tr>\n      <th>2883</th>\n      <td>29489</td>\n      <td>보름차 플러스</td>\n      <td>음료</td>\n      <td>차</td>\n      <td></td>\n      <td>80</td>\n      <td>mL</td>\n      <td>80</td>\n      <td>-</td>\n      <td>5.00</td>\n      <td>80.0</td>\n      <td>6.2</td>\n    </tr>\n    <tr>\n      <th>2986</th>\n      <td>29903</td>\n      <td>아임리얼 베리뷰티</td>\n      <td>음료</td>\n      <td>차</td>\n      <td></td>\n      <td>190</td>\n      <td>mL</td>\n      <td>190</td>\n      <td>-</td>\n      <td>22.00</td>\n      <td>190.0</td>\n      <td>11.6</td>\n    </tr>\n    <tr>\n      <th>3665</th>\n      <td>42977</td>\n      <td>아티초크 추출원액</td>\n      <td>음료</td>\n      <td>차</td>\n      <td></td>\n      <td>100</td>\n      <td>mL</td>\n      <td>5000</td>\n      <td>-</td>\n      <td>26.00</td>\n      <td>5000.0</td>\n      <td>26.0</td>\n    </tr>\n    <tr>\n      <th>3677</th>\n      <td>43577</td>\n      <td>타히티안클래식</td>\n      <td>음료</td>\n      <td>차</td>\n      <td></td>\n      <td>100</td>\n      <td>mL</td>\n      <td>-</td>\n      <td>1000</td>\n      <td>7.00</td>\n      <td>1000.0</td>\n      <td>7.0</td>\n    </tr>\n    <tr>\n      <th>3739</th>\n      <td>44799</td>\n      <td>마르티넬리 스파클링 블러시</td>\n      <td>음료</td>\n      <td>차</td>\n      <td></td>\n      <td>100</td>\n      <td>mL</td>\n      <td>-</td>\n      <td>750</td>\n      <td>11.00</td>\n      <td>750.0</td>\n      <td>11.0</td>\n    </tr>\n    <tr>\n      <th>4238</th>\n      <td>53703</td>\n      <td>파너 유기농 멀티 로쏘 주스(1L)</td>\n      <td>음료</td>\n      <td>차</td>\n      <td></td>\n      <td>200</td>\n      <td>g</td>\n      <td>1000</td>\n      <td>-</td>\n      <td>22.00</td>\n      <td>1000.0</td>\n      <td>11.0</td>\n    </tr>\n    <tr>\n      <th>4464</th>\n      <td>57089</td>\n      <td>보름차 플러스</td>\n      <td>음료</td>\n      <td>차</td>\n      <td></td>\n      <td>80</td>\n      <td>g</td>\n      <td>80</td>\n      <td>-</td>\n      <td>5.00</td>\n      <td>80.0</td>\n      <td>6.2</td>\n    </tr>\n    <tr>\n      <th>4767</th>\n      <td>64229</td>\n      <td>[휠링거]유기농 멀티선셋 주스</td>\n      <td>음료</td>\n      <td>차</td>\n      <td></td>\n      <td>100</td>\n      <td>g</td>\n      <td>1000</td>\n      <td>-</td>\n      <td>9.90</td>\n      <td>1000.0</td>\n      <td>9.9</td>\n    </tr>\n    <tr>\n      <th>4796</th>\n      <td>65087</td>\n      <td>닥터뷰티</td>\n      <td>음료</td>\n      <td>차</td>\n      <td></td>\n      <td>190</td>\n      <td>g</td>\n      <td>190</td>\n      <td>-</td>\n      <td>17.00</td>\n      <td>190.0</td>\n      <td>8.9</td>\n    </tr>\n    <tr>\n      <th>8324</th>\n      <td>80287</td>\n      <td>하동 말차 펌 크림티(ICED)</td>\n      <td>음료</td>\n      <td>차</td>\n      <td></td>\n      <td>380</td>\n      <td>mL</td>\n      <td>-</td>\n      <td>380</td>\n      <td>35.00</td>\n      <td>380.0</td>\n      <td>9.2</td>\n    </tr>\n    <tr>\n      <th>8325</th>\n      <td>80288</td>\n      <td>하동 말차 펌 크림티(HOT)</td>\n      <td>음료</td>\n      <td>차</td>\n      <td></td>\n      <td>310</td>\n      <td>mL</td>\n      <td>-</td>\n      <td>310</td>\n      <td>38.10</td>\n      <td>310.0</td>\n      <td>12.3</td>\n    </tr>\n    <tr>\n      <th>8601</th>\n      <td>12150</td>\n      <td>패스티안티 베이스</td>\n      <td>음료</td>\n      <td>차</td>\n      <td></td>\n      <td>40</td>\n      <td>mL</td>\n      <td>-</td>\n      <td>720</td>\n      <td>10.48</td>\n      <td>720.0</td>\n      <td>26.2</td>\n    </tr>\n    <tr>\n      <th>23890</th>\n      <td>9259</td>\n      <td>썬키스트 곶감계피차</td>\n      <td>음료</td>\n      <td>차</td>\n      <td></td>\n      <td>180</td>\n      <td>mL</td>\n      <td>-</td>\n      <td>180</td>\n      <td>19.00</td>\n      <td>180.0</td>\n      <td>10.6</td>\n    </tr>\n    <tr>\n      <th>23914</th>\n      <td>43118</td>\n      <td>리틀미러클 유기농 화이트티(백차)</td>\n      <td>음료</td>\n      <td>차</td>\n      <td></td>\n      <td>330</td>\n      <td>mL</td>\n      <td>-</td>\n      <td>330</td>\n      <td>11.00</td>\n      <td>330.0</td>\n      <td>3.3</td>\n    </tr>\n    <tr>\n      <th>23915</th>\n      <td>43660</td>\n      <td>아티초크차</td>\n      <td>음료</td>\n      <td>차</td>\n      <td></td>\n      <td>100</td>\n      <td>mL</td>\n      <td>-</td>\n      <td>1000</td>\n      <td>6.50</td>\n      <td>1000.0</td>\n      <td>6.5</td>\n    </tr>\n    <tr>\n      <th>25890</th>\n      <td>79159</td>\n      <td>아이스 상그리아 티</td>\n      <td>음료</td>\n      <td>차</td>\n      <td></td>\n      <td>360</td>\n      <td>mL</td>\n      <td>-</td>\n      <td>360</td>\n      <td>34.00</td>\n      <td>360.0</td>\n      <td>9.4</td>\n    </tr>\n    <tr>\n      <th>25891</th>\n      <td>79160</td>\n      <td>상그리아 티</td>\n      <td>음료</td>\n      <td>차</td>\n      <td></td>\n      <td>360</td>\n      <td>mL</td>\n      <td>-</td>\n      <td>360</td>\n      <td>34.00</td>\n      <td>360.0</td>\n      <td>9.4</td>\n    </tr>\n    <tr>\n      <th>25922</th>\n      <td>79615</td>\n      <td>아카시아 꿀차 tall</td>\n      <td>음료</td>\n      <td>차</td>\n      <td></td>\n      <td>369</td>\n      <td>mL</td>\n      <td>-</td>\n      <td>369</td>\n      <td>21.81</td>\n      <td>369.0</td>\n      <td>5.9</td>\n    </tr>\n    <tr>\n      <th>25923</th>\n      <td>79616</td>\n      <td>아카시아 꿀차 grande</td>\n      <td>음료</td>\n      <td>차</td>\n      <td></td>\n      <td>510</td>\n      <td>mL</td>\n      <td>-</td>\n      <td>510</td>\n      <td>26.81</td>\n      <td>510.0</td>\n      <td>5.3</td>\n    </tr>\n    <tr>\n      <th>25924</th>\n      <td>79617</td>\n      <td>아카시아 꿀차 venti</td>\n      <td>음료</td>\n      <td>차</td>\n      <td></td>\n      <td>680</td>\n      <td>mL</td>\n      <td>-</td>\n      <td>680</td>\n      <td>31.81</td>\n      <td>680.0</td>\n      <td>4.7</td>\n    </tr>\n    <tr>\n      <th>25933</th>\n      <td>79901</td>\n      <td>깔라봉 차 R</td>\n      <td>음료</td>\n      <td>차</td>\n      <td></td>\n      <td>310</td>\n      <td>mL</td>\n      <td>-</td>\n      <td>310</td>\n      <td>34.60</td>\n      <td>310.0</td>\n      <td>11.2</td>\n    </tr>\n    <tr>\n      <th>25934</th>\n      <td>79902</td>\n      <td>깔라봉 차 L</td>\n      <td>음료</td>\n      <td>차</td>\n      <td></td>\n      <td>495</td>\n      <td>mL</td>\n      <td>-</td>\n      <td>495</td>\n      <td>51.80</td>\n      <td>495.0</td>\n      <td>10.5</td>\n    </tr>\n    <tr>\n      <th>25970</th>\n      <td>80892</td>\n      <td>아이스티</td>\n      <td>음료</td>\n      <td>차</td>\n      <td></td>\n      <td>310</td>\n      <td>mL</td>\n      <td>-</td>\n      <td>310</td>\n      <td>39.00</td>\n      <td>310.0</td>\n      <td>12.6</td>\n    </tr>\n    <tr>\n      <th>26062</th>\n      <td>81426</td>\n      <td>가드닝 블랙 티</td>\n      <td>음료</td>\n      <td>차</td>\n      <td></td>\n      <td>355</td>\n      <td>mL</td>\n      <td>-</td>\n      <td>355</td>\n      <td>29.00</td>\n      <td>355.0</td>\n      <td>8.2</td>\n    </tr>\n    <tr>\n      <th>26081</th>\n      <td>81714</td>\n      <td>아이스티</td>\n      <td>음료</td>\n      <td>차</td>\n      <td></td>\n      <td>100</td>\n      <td>mL</td>\n      <td>-</td>\n      <td>100</td>\n      <td>12.10</td>\n      <td>100.0</td>\n      <td>12.1</td>\n    </tr>\n    <tr>\n      <th>26130</th>\n      <td>82283</td>\n      <td>아이스티 ICE</td>\n      <td>음료</td>\n      <td>차</td>\n      <td></td>\n      <td>467</td>\n      <td>g</td>\n      <td>467</td>\n      <td>-</td>\n      <td>53.00</td>\n      <td>467.0</td>\n      <td>11.3</td>\n    </tr>\n    <tr>\n      <th>26170</th>\n      <td>83816</td>\n      <td>제주 청귤 블렌딩 티(S)</td>\n      <td>음료</td>\n      <td>차</td>\n      <td></td>\n      <td>330</td>\n      <td>mL</td>\n      <td>-</td>\n      <td>330</td>\n      <td>43.00</td>\n      <td>330.0</td>\n      <td>13.0</td>\n    </tr>\n    <tr>\n      <th>26190</th>\n      <td>84397</td>\n      <td>아이스티</td>\n      <td>음료</td>\n      <td>차</td>\n      <td></td>\n      <td>680</td>\n      <td>g</td>\n      <td>680</td>\n      <td>-</td>\n      <td>10.10</td>\n      <td>680.0</td>\n      <td>1.5</td>\n    </tr>\n    <tr>\n      <th>35562</th>\n      <td>29127</td>\n      <td>뉴케어 액티브</td>\n      <td>음료</td>\n      <td>차</td>\n      <td></td>\n      <td>200</td>\n      <td>mL</td>\n      <td>200</td>\n      <td>-</td>\n      <td>8.00</td>\n      <td>200.0</td>\n      <td>4.0</td>\n    </tr>\n    <tr>\n      <th>35598</th>\n      <td>29329</td>\n      <td>마이밀 핏 말차</td>\n      <td>음료</td>\n      <td>차</td>\n      <td></td>\n      <td>300</td>\n      <td>mL</td>\n      <td>300</td>\n      <td>-</td>\n      <td>4.00</td>\n      <td>300.0</td>\n      <td>1.3</td>\n    </tr>\n    <tr>\n      <th>35847</th>\n      <td>30278</td>\n      <td>태웅 아이스티</td>\n      <td>음료</td>\n      <td>차</td>\n      <td></td>\n      <td>190</td>\n      <td>mL</td>\n      <td>190</td>\n      <td>-</td>\n      <td>32.00</td>\n      <td>190.0</td>\n      <td>16.8</td>\n    </tr>\n    <tr>\n      <th>35975</th>\n      <td>30840</td>\n      <td>Haewon 해조8차</td>\n      <td>음료</td>\n      <td>차</td>\n      <td></td>\n      <td>200</td>\n      <td>mL</td>\n      <td>500</td>\n      <td>-</td>\n      <td>11.00</td>\n      <td>500.0</td>\n      <td>5.5</td>\n    </tr>\n    <tr>\n      <th>36111</th>\n      <td>31606</td>\n      <td>비움티</td>\n      <td>음료</td>\n      <td>차</td>\n      <td></td>\n      <td>100</td>\n      <td>mL</td>\n      <td>2400</td>\n      <td>-</td>\n      <td>6.00</td>\n      <td>2400.0</td>\n      <td>6.0</td>\n    </tr>\n    <tr>\n      <th>36205</th>\n      <td>46034</td>\n      <td>액티브레벤포르테</td>\n      <td>음료</td>\n      <td>차</td>\n      <td></td>\n      <td>15</td>\n      <td>mL</td>\n      <td>-</td>\n      <td>450</td>\n      <td>2.20</td>\n      <td>450.0</td>\n      <td>14.7</td>\n    </tr>\n    <tr>\n      <th>36319</th>\n      <td>48711</td>\n      <td>액티브 아르기닌 3000</td>\n      <td>음료</td>\n      <td>차</td>\n      <td></td>\n      <td>20</td>\n      <td>g</td>\n      <td>300</td>\n      <td>-</td>\n      <td>2.00</td>\n      <td>300.0</td>\n      <td>10.0</td>\n    </tr>\n    <tr>\n      <th>36323</th>\n      <td>48719</td>\n      <td>유한m 뷰티-씨</td>\n      <td>음료</td>\n      <td>차</td>\n      <td></td>\n      <td>15</td>\n      <td>g</td>\n      <td>450</td>\n      <td>-</td>\n      <td>3.00</td>\n      <td>450.0</td>\n      <td>20.0</td>\n    </tr>\n    <tr>\n      <th>36456</th>\n      <td>51270</td>\n      <td>아해티</td>\n      <td>음료</td>\n      <td>차</td>\n      <td></td>\n      <td>30</td>\n      <td>g</td>\n      <td>30</td>\n      <td>-</td>\n      <td>3.00</td>\n      <td>30.0</td>\n      <td>10.0</td>\n    </tr>\n    <tr>\n      <th>36457</th>\n      <td>51271</td>\n      <td>아해티아우룸</td>\n      <td>음료</td>\n      <td>차</td>\n      <td></td>\n      <td>30</td>\n      <td>g</td>\n      <td>30</td>\n      <td>-</td>\n      <td>3.00</td>\n      <td>30.0</td>\n      <td>10.0</td>\n    </tr>\n    <tr>\n      <th>36510</th>\n      <td>52904</td>\n      <td>돌핀 폴라레티</td>\n      <td>음료</td>\n      <td>차</td>\n      <td></td>\n      <td>400</td>\n      <td>g</td>\n      <td>400</td>\n      <td>-</td>\n      <td>76.00</td>\n      <td>400.0</td>\n      <td>19.0</td>\n    </tr>\n    <tr>\n      <th>36511</th>\n      <td>52905</td>\n      <td>돌핀 폴라레티 트로피칼</td>\n      <td>음료</td>\n      <td>차</td>\n      <td></td>\n      <td>40</td>\n      <td>g</td>\n      <td>400</td>\n      <td>-</td>\n      <td>6.80</td>\n      <td>400.0</td>\n      <td>17.0</td>\n    </tr>\n    <tr>\n      <th>36512</th>\n      <td>52906</td>\n      <td>돌핀 폴라레티 헬로썸머</td>\n      <td>음료</td>\n      <td>차</td>\n      <td></td>\n      <td>40</td>\n      <td>g</td>\n      <td>400</td>\n      <td>-</td>\n      <td>6.80</td>\n      <td>400.0</td>\n      <td>17.0</td>\n    </tr>\n    <tr>\n      <th>36513</th>\n      <td>52920</td>\n      <td>유기농 돌핀 폴라레티</td>\n      <td>음료</td>\n      <td>차</td>\n      <td></td>\n      <td>40</td>\n      <td>g</td>\n      <td>400</td>\n      <td>-</td>\n      <td>6.40</td>\n      <td>400.0</td>\n      <td>16.0</td>\n    </tr>\n    <tr>\n      <th>36580</th>\n      <td>55418</td>\n      <td>뷰티솔루션</td>\n      <td>음료</td>\n      <td>차</td>\n      <td></td>\n      <td>10</td>\n      <td>g</td>\n      <td>140</td>\n      <td>-</td>\n      <td>2.20</td>\n      <td>140.0</td>\n      <td>22.0</td>\n    </tr>\n    <tr>\n      <th>36672</th>\n      <td>57317</td>\n      <td>에너티브</td>\n      <td>음료</td>\n      <td>차</td>\n      <td></td>\n      <td>150</td>\n      <td>g</td>\n      <td>150</td>\n      <td>-</td>\n      <td>17.00</td>\n      <td>150.0</td>\n      <td>11.3</td>\n    </tr>\n    <tr>\n      <th>36690</th>\n      <td>57906</td>\n      <td>뉴케어 액티브 골든밸런스</td>\n      <td>음료</td>\n      <td>차</td>\n      <td></td>\n      <td>200</td>\n      <td>g</td>\n      <td>200</td>\n      <td>-</td>\n      <td>8.00</td>\n      <td>200.0</td>\n      <td>4.0</td>\n    </tr>\n    <tr>\n      <th>36712</th>\n      <td>58364</td>\n      <td>플래티넘 L아르기닌 5000</td>\n      <td>음료</td>\n      <td>차</td>\n      <td></td>\n      <td>20</td>\n      <td>g</td>\n      <td>300</td>\n      <td>-</td>\n      <td>4.00</td>\n      <td>300.0</td>\n      <td>20.0</td>\n    </tr>\n    <tr>\n      <th>37003</th>\n      <td>64987</td>\n      <td>뷰티에너지 필라틴</td>\n      <td>음료</td>\n      <td>차</td>\n      <td></td>\n      <td>180</td>\n      <td>g</td>\n      <td>180</td>\n      <td>-</td>\n      <td>2.90</td>\n      <td>180.0</td>\n      <td>1.6</td>\n    </tr>\n    <tr>\n      <th>37143</th>\n      <td>66744</td>\n      <td>태웅 아이스티</td>\n      <td>음료</td>\n      <td>차</td>\n      <td></td>\n      <td>190</td>\n      <td>g</td>\n      <td>190</td>\n      <td>-</td>\n      <td>31.00</td>\n      <td>190.0</td>\n      <td>16.3</td>\n    </tr>\n    <tr>\n      <th>37164</th>\n      <td>67230</td>\n      <td>Haewon 해조8차</td>\n      <td>음료</td>\n      <td>차</td>\n      <td></td>\n      <td>200</td>\n      <td>g</td>\n      <td>500</td>\n      <td>-</td>\n      <td>11.00</td>\n      <td>500.0</td>\n      <td>5.5</td>\n    </tr>\n    <tr>\n      <th>37198</th>\n      <td>67706</td>\n      <td>잇츠온 케어온 엑티브</td>\n      <td>음료</td>\n      <td>차</td>\n      <td></td>\n      <td>200</td>\n      <td>g</td>\n      <td>4000</td>\n      <td>-</td>\n      <td>10.00</td>\n      <td>4000.0</td>\n      <td>5.0</td>\n    </tr>\n  </tbody>\n</table>\n</div>"
     },
     "execution_count": 3036,
     "metadata": {},
     "output_type": "execute_result"
    }
   ],
   "source": [
    "sheet[(sheet['중분류'] == '차') & (sheet['소분류'] == \"\")]"
   ],
   "metadata": {
    "collapsed": false,
    "pycharm": {
     "name": "#%%\n"
    }
   }
  },
  {
   "cell_type": "code",
   "execution_count": 3037,
   "outputs": [
    {
     "name": "stdout",
     "output_type": "stream",
     "text": [
      "{'국화차': 1,\n",
      " '녹차': 7,\n",
      " '대추차': 10,\n",
      " '라임차': 3,\n",
      " '루이보스차': 2,\n",
      " '머스캣차': 1,\n",
      " '모과차': 11,\n",
      " '복숭아차': 4,\n",
      " '분말': 30,\n",
      " '산수유차': 2,\n",
      " '생강차': 4,\n",
      " '자스민차': 2,\n",
      " '캐모마일차': 3,\n",
      " '콤부차': 19,\n",
      " '한라봉차': 2,\n",
      " '홍차': 10,\n",
      " '히비스커스차': 4}\n"
     ]
    }
   ],
   "source": [
    "erase = list(sheet.loc[(sheet['중분류'] == '차') & (sheet['소분류'] == ''), :].index)\n",
    "\n",
    "for value in erase:\n",
    "    sheet = sheet.drop(value, axis=0)\n",
    "\n",
    "minimal_tea_category = list(sheet.loc[sheet['중분류'] == '차', '소분류'].unique())\n",
    "b_dict = {}\n",
    "for value in minimal_tea_category:\n",
    "    b_dict[value] = len(sheet.loc[(sheet['중분류'] == '차') & (sheet['소분류'] == value), :])\n",
    "\n",
    "pp.pprint(b_dict)"
   ],
   "metadata": {
    "collapsed": false,
    "pycharm": {
     "name": "#%%\n"
    }
   }
  },
  {
   "cell_type": "code",
   "execution_count": 3038,
   "outputs": [
    {
     "data": {
      "text/plain": "Empty DataFrame\nColumns: [No, 식품명, 대분류, 중분류, 소분류, 1회 제공량, 용량, 총내용량(g), 총내용량(ml), 총당류(g), 총내용량, 단위용량 대비 설탕 비율]\nIndex: []",
      "text/html": "<div>\n<style scoped>\n    .dataframe tbody tr th:only-of-type {\n        vertical-align: middle;\n    }\n\n    .dataframe tbody tr th {\n        vertical-align: top;\n    }\n\n    .dataframe thead th {\n        text-align: right;\n    }\n</style>\n<table border=\"1\" class=\"dataframe\">\n  <thead>\n    <tr style=\"text-align: right;\">\n      <th></th>\n      <th>No</th>\n      <th>식품명</th>\n      <th>대분류</th>\n      <th>중분류</th>\n      <th>소분류</th>\n      <th>1회 제공량</th>\n      <th>용량</th>\n      <th>총내용량(g)</th>\n      <th>총내용량(ml)</th>\n      <th>총당류(g)</th>\n      <th>총내용량</th>\n      <th>단위용량 대비 설탕 비율</th>\n    </tr>\n  </thead>\n  <tbody>\n  </tbody>\n</table>\n</div>"
     },
     "execution_count": 3038,
     "metadata": {},
     "output_type": "execute_result"
    }
   ],
   "source": [
    "sheet.loc[(sheet['중분류'] == '차') & (sheet['소분류'] == ''), :]"
   ],
   "metadata": {
    "collapsed": false,
    "pycharm": {
     "name": "#%%\n"
    }
   }
  },
  {
   "cell_type": "code",
   "execution_count": 3039,
   "outputs": [
    {
     "data": {
      "text/plain": "          No            식품명 대분류 중분류   소분류  1회 제공량  용량 총내용량(g) 총내용량(ml)  \\\n0      10397      삼육두유검은콩칼슘  음료  두유  가공두유     190  mL       -      190   \n1      10398    베지밀검은콩두유고칼슘  음료  두유  가공두유     190  mL       -      190   \n3      10400  삼육두유검은콩호두와아몬드  음료  두유  가공두유     140  mL       -      140   \n5      10402          삼육두유A  음료  두유  가공두유     190  mL       -      190   \n6      10403    베지밀아몬드와호두두유  음료  두유  가공두유     190  mL       -      190   \n...      ...            ...  ..  ..   ...     ...  ..     ...      ...   \n24335  15279         검은콩두유1  음료  두유  원액두유     195  mL       -     3120   \n24336  15281          검은콩두유  음료  두유  원액두유     195  mL       -     3120   \n24337  15283           유기두유  음료  두유  원액두유     170  mL       -     2040   \n24338  15287      달콤한검정약콩두유  음료  두유  원액두유     170  mL       -     2040   \n24339  15291        달콤한유기두유  음료  두유  원액두유     170  mL       -     2040   \n\n       총당류(g)    총내용량  단위용량 대비 설탕 비율  \n0        10.0   190.0            5.3  \n1        10.0   190.0            5.3  \n3        10.0   140.0            7.1  \n5         6.0   190.0            3.2  \n6         8.5   190.0            4.5  \n...       ...     ...            ...  \n24335     3.0  3120.0            1.5  \n24336     4.0  3120.0            2.1  \n24337     4.0  2040.0            2.4  \n24338     4.0  2040.0            2.4  \n24339     5.0  2040.0            2.9  \n\n[126 rows x 12 columns]",
      "text/html": "<div>\n<style scoped>\n    .dataframe tbody tr th:only-of-type {\n        vertical-align: middle;\n    }\n\n    .dataframe tbody tr th {\n        vertical-align: top;\n    }\n\n    .dataframe thead th {\n        text-align: right;\n    }\n</style>\n<table border=\"1\" class=\"dataframe\">\n  <thead>\n    <tr style=\"text-align: right;\">\n      <th></th>\n      <th>No</th>\n      <th>식품명</th>\n      <th>대분류</th>\n      <th>중분류</th>\n      <th>소분류</th>\n      <th>1회 제공량</th>\n      <th>용량</th>\n      <th>총내용량(g)</th>\n      <th>총내용량(ml)</th>\n      <th>총당류(g)</th>\n      <th>총내용량</th>\n      <th>단위용량 대비 설탕 비율</th>\n    </tr>\n  </thead>\n  <tbody>\n    <tr>\n      <th>0</th>\n      <td>10397</td>\n      <td>삼육두유검은콩칼슘</td>\n      <td>음료</td>\n      <td>두유</td>\n      <td>가공두유</td>\n      <td>190</td>\n      <td>mL</td>\n      <td>-</td>\n      <td>190</td>\n      <td>10.0</td>\n      <td>190.0</td>\n      <td>5.3</td>\n    </tr>\n    <tr>\n      <th>1</th>\n      <td>10398</td>\n      <td>베지밀검은콩두유고칼슘</td>\n      <td>음료</td>\n      <td>두유</td>\n      <td>가공두유</td>\n      <td>190</td>\n      <td>mL</td>\n      <td>-</td>\n      <td>190</td>\n      <td>10.0</td>\n      <td>190.0</td>\n      <td>5.3</td>\n    </tr>\n    <tr>\n      <th>3</th>\n      <td>10400</td>\n      <td>삼육두유검은콩호두와아몬드</td>\n      <td>음료</td>\n      <td>두유</td>\n      <td>가공두유</td>\n      <td>140</td>\n      <td>mL</td>\n      <td>-</td>\n      <td>140</td>\n      <td>10.0</td>\n      <td>140.0</td>\n      <td>7.1</td>\n    </tr>\n    <tr>\n      <th>5</th>\n      <td>10402</td>\n      <td>삼육두유A</td>\n      <td>음료</td>\n      <td>두유</td>\n      <td>가공두유</td>\n      <td>190</td>\n      <td>mL</td>\n      <td>-</td>\n      <td>190</td>\n      <td>6.0</td>\n      <td>190.0</td>\n      <td>3.2</td>\n    </tr>\n    <tr>\n      <th>6</th>\n      <td>10403</td>\n      <td>베지밀아몬드와호두두유</td>\n      <td>음료</td>\n      <td>두유</td>\n      <td>가공두유</td>\n      <td>190</td>\n      <td>mL</td>\n      <td>-</td>\n      <td>190</td>\n      <td>8.5</td>\n      <td>190.0</td>\n      <td>4.5</td>\n    </tr>\n    <tr>\n      <th>...</th>\n      <td>...</td>\n      <td>...</td>\n      <td>...</td>\n      <td>...</td>\n      <td>...</td>\n      <td>...</td>\n      <td>...</td>\n      <td>...</td>\n      <td>...</td>\n      <td>...</td>\n      <td>...</td>\n      <td>...</td>\n    </tr>\n    <tr>\n      <th>24335</th>\n      <td>15279</td>\n      <td>검은콩두유1</td>\n      <td>음료</td>\n      <td>두유</td>\n      <td>원액두유</td>\n      <td>195</td>\n      <td>mL</td>\n      <td>-</td>\n      <td>3120</td>\n      <td>3.0</td>\n      <td>3120.0</td>\n      <td>1.5</td>\n    </tr>\n    <tr>\n      <th>24336</th>\n      <td>15281</td>\n      <td>검은콩두유</td>\n      <td>음료</td>\n      <td>두유</td>\n      <td>원액두유</td>\n      <td>195</td>\n      <td>mL</td>\n      <td>-</td>\n      <td>3120</td>\n      <td>4.0</td>\n      <td>3120.0</td>\n      <td>2.1</td>\n    </tr>\n    <tr>\n      <th>24337</th>\n      <td>15283</td>\n      <td>유기두유</td>\n      <td>음료</td>\n      <td>두유</td>\n      <td>원액두유</td>\n      <td>170</td>\n      <td>mL</td>\n      <td>-</td>\n      <td>2040</td>\n      <td>4.0</td>\n      <td>2040.0</td>\n      <td>2.4</td>\n    </tr>\n    <tr>\n      <th>24338</th>\n      <td>15287</td>\n      <td>달콤한검정약콩두유</td>\n      <td>음료</td>\n      <td>두유</td>\n      <td>원액두유</td>\n      <td>170</td>\n      <td>mL</td>\n      <td>-</td>\n      <td>2040</td>\n      <td>4.0</td>\n      <td>2040.0</td>\n      <td>2.4</td>\n    </tr>\n    <tr>\n      <th>24339</th>\n      <td>15291</td>\n      <td>달콤한유기두유</td>\n      <td>음료</td>\n      <td>두유</td>\n      <td>원액두유</td>\n      <td>170</td>\n      <td>mL</td>\n      <td>-</td>\n      <td>2040</td>\n      <td>5.0</td>\n      <td>2040.0</td>\n      <td>2.9</td>\n    </tr>\n  </tbody>\n</table>\n<p>126 rows × 12 columns</p>\n</div>"
     },
     "execution_count": 3039,
     "metadata": {},
     "output_type": "execute_result"
    }
   ],
   "source": [
    "sheet[sheet['중분류'] == '두유']"
   ],
   "metadata": {
    "collapsed": false,
    "pycharm": {
     "name": "#%%\n"
    }
   }
  },
  {
   "cell_type": "code",
   "execution_count": 3040,
   "outputs": [],
   "source": [
    "sheet = sheet.drop(117, axis=0)"
   ],
   "metadata": {
    "collapsed": false,
    "pycharm": {
     "name": "#%%\n"
    }
   }
  },
  {
   "cell_type": "code",
   "execution_count": 3041,
   "outputs": [
    {
     "data": {
      "text/plain": "          No                 식품명 대분류   중분류    소분류  1회 제공량  용량 총내용량(g)  \\\n1290   29458             민들레발효녹즙  음료  발효음료  과/채음료     120  mL     120   \n1553   30927     그라비올라 새싹보리 발효녹즙  음료  발효음료  과/채음료     120  mL     120   \n1678   31419           통짜발효 배도라지  음료  발효음료  과/채음료      90  mL    2700   \n1679   31420             통짜발효 석류  음료  발효음료  과/채음료      90  mL    2700   \n1680   31421            통짜발효 양배추  음료  발효음료  과/채음료      90  mL    2700   \n...      ...                 ...  ..   ...    ...     ...  ..     ...   \n37213  68088      유기농 햇살깃든 단호박식혜  음료  발효음료   혼합음료     100  mL       -   \n37214  68089      유기농 햇살깃든 오미자식혜  음료  발효음료   혼합음료     100  mL       -   \n37215  68090       유기농 햇살깃든 일반식혜  음료  발효음료   혼합음료     100  mL       -   \n37216  68091       유기농 햇살깃든 현미식혜  음료  발효음료   혼합음료     100  mL       -   \n37217  68092  유기농 햇살깃든 현미자색고구마식혜  음료  발효음료   혼합음료     100  mL       -   \n\n      총내용량(ml)  총당류(g)    총내용량  단위용량 대비 설탕 비율  \n1290         -    10.0   120.0            8.3  \n1553         -     9.0   120.0            7.5  \n1678         -     4.0  2700.0            4.4  \n1679         -     7.0  2700.0            7.8  \n1680         -     3.0  2700.0            3.3  \n...        ...     ...     ...            ...  \n37213      340    10.2   340.0           10.2  \n37214      340    12.8   340.0           12.8  \n37215      340    12.2   340.0           12.2  \n37216      340    12.2   340.0           12.2  \n37217      340    11.0   340.0           11.0  \n\n[396 rows x 12 columns]",
      "text/html": "<div>\n<style scoped>\n    .dataframe tbody tr th:only-of-type {\n        vertical-align: middle;\n    }\n\n    .dataframe tbody tr th {\n        vertical-align: top;\n    }\n\n    .dataframe thead th {\n        text-align: right;\n    }\n</style>\n<table border=\"1\" class=\"dataframe\">\n  <thead>\n    <tr style=\"text-align: right;\">\n      <th></th>\n      <th>No</th>\n      <th>식품명</th>\n      <th>대분류</th>\n      <th>중분류</th>\n      <th>소분류</th>\n      <th>1회 제공량</th>\n      <th>용량</th>\n      <th>총내용량(g)</th>\n      <th>총내용량(ml)</th>\n      <th>총당류(g)</th>\n      <th>총내용량</th>\n      <th>단위용량 대비 설탕 비율</th>\n    </tr>\n  </thead>\n  <tbody>\n    <tr>\n      <th>1290</th>\n      <td>29458</td>\n      <td>민들레발효녹즙</td>\n      <td>음료</td>\n      <td>발효음료</td>\n      <td>과/채음료</td>\n      <td>120</td>\n      <td>mL</td>\n      <td>120</td>\n      <td>-</td>\n      <td>10.0</td>\n      <td>120.0</td>\n      <td>8.3</td>\n    </tr>\n    <tr>\n      <th>1553</th>\n      <td>30927</td>\n      <td>그라비올라 새싹보리 발효녹즙</td>\n      <td>음료</td>\n      <td>발효음료</td>\n      <td>과/채음료</td>\n      <td>120</td>\n      <td>mL</td>\n      <td>120</td>\n      <td>-</td>\n      <td>9.0</td>\n      <td>120.0</td>\n      <td>7.5</td>\n    </tr>\n    <tr>\n      <th>1678</th>\n      <td>31419</td>\n      <td>통짜발효 배도라지</td>\n      <td>음료</td>\n      <td>발효음료</td>\n      <td>과/채음료</td>\n      <td>90</td>\n      <td>mL</td>\n      <td>2700</td>\n      <td>-</td>\n      <td>4.0</td>\n      <td>2700.0</td>\n      <td>4.4</td>\n    </tr>\n    <tr>\n      <th>1679</th>\n      <td>31420</td>\n      <td>통짜발효 석류</td>\n      <td>음료</td>\n      <td>발효음료</td>\n      <td>과/채음료</td>\n      <td>90</td>\n      <td>mL</td>\n      <td>2700</td>\n      <td>-</td>\n      <td>7.0</td>\n      <td>2700.0</td>\n      <td>7.8</td>\n    </tr>\n    <tr>\n      <th>1680</th>\n      <td>31421</td>\n      <td>통짜발효 양배추</td>\n      <td>음료</td>\n      <td>발효음료</td>\n      <td>과/채음료</td>\n      <td>90</td>\n      <td>mL</td>\n      <td>2700</td>\n      <td>-</td>\n      <td>3.0</td>\n      <td>2700.0</td>\n      <td>3.3</td>\n    </tr>\n    <tr>\n      <th>...</th>\n      <td>...</td>\n      <td>...</td>\n      <td>...</td>\n      <td>...</td>\n      <td>...</td>\n      <td>...</td>\n      <td>...</td>\n      <td>...</td>\n      <td>...</td>\n      <td>...</td>\n      <td>...</td>\n      <td>...</td>\n    </tr>\n    <tr>\n      <th>37213</th>\n      <td>68088</td>\n      <td>유기농 햇살깃든 단호박식혜</td>\n      <td>음료</td>\n      <td>발효음료</td>\n      <td>혼합음료</td>\n      <td>100</td>\n      <td>mL</td>\n      <td>-</td>\n      <td>340</td>\n      <td>10.2</td>\n      <td>340.0</td>\n      <td>10.2</td>\n    </tr>\n    <tr>\n      <th>37214</th>\n      <td>68089</td>\n      <td>유기농 햇살깃든 오미자식혜</td>\n      <td>음료</td>\n      <td>발효음료</td>\n      <td>혼합음료</td>\n      <td>100</td>\n      <td>mL</td>\n      <td>-</td>\n      <td>340</td>\n      <td>12.8</td>\n      <td>340.0</td>\n      <td>12.8</td>\n    </tr>\n    <tr>\n      <th>37215</th>\n      <td>68090</td>\n      <td>유기농 햇살깃든 일반식혜</td>\n      <td>음료</td>\n      <td>발효음료</td>\n      <td>혼합음료</td>\n      <td>100</td>\n      <td>mL</td>\n      <td>-</td>\n      <td>340</td>\n      <td>12.2</td>\n      <td>340.0</td>\n      <td>12.2</td>\n    </tr>\n    <tr>\n      <th>37216</th>\n      <td>68091</td>\n      <td>유기농 햇살깃든 현미식혜</td>\n      <td>음료</td>\n      <td>발효음료</td>\n      <td>혼합음료</td>\n      <td>100</td>\n      <td>mL</td>\n      <td>-</td>\n      <td>340</td>\n      <td>12.2</td>\n      <td>340.0</td>\n      <td>12.2</td>\n    </tr>\n    <tr>\n      <th>37217</th>\n      <td>68092</td>\n      <td>유기농 햇살깃든 현미자색고구마식혜</td>\n      <td>음료</td>\n      <td>발효음료</td>\n      <td>혼합음료</td>\n      <td>100</td>\n      <td>mL</td>\n      <td>-</td>\n      <td>340</td>\n      <td>11.0</td>\n      <td>340.0</td>\n      <td>11.0</td>\n    </tr>\n  </tbody>\n</table>\n<p>396 rows × 12 columns</p>\n</div>"
     },
     "execution_count": 3041,
     "metadata": {},
     "output_type": "execute_result"
    }
   ],
   "source": [
    "# 발효음료\n",
    "sheet[sheet['중분류'] == '발효음료']"
   ],
   "metadata": {
    "collapsed": false,
    "pycharm": {
     "name": "#%%\n"
    }
   }
  },
  {
   "cell_type": "code",
   "execution_count": 3042,
   "outputs": [
    {
     "data": {
      "text/plain": "          No                    식품명 대분류   중분류 소분류  1회 제공량  용량 총내용량(g)  \\\n3448   31725    유산균으로 12시간 발효 ABC주스  음료  발효음료         100  mL     100   \n4157   52441    유산균으로 12시간 발효 ABC주스  음료  발효음료         100   g    2000   \n8570   12084         모링가 멀티유산균 발효원액  음료  발효음료         100  mL       -   \n8573   12093  멀티유산균 날띤(thin)발효 프로젝트  음료  발효음료         100  mL       -   \n8580   12102                 팔보발효원액  음료  발효음료         100  mL       -   \n8581   12106            내 몸의 산야초발효액  음료  발효음료         100  mL       -   \n8585   12115       너와셰프 머루와인발효 식초음료  음료  발효음료         100  mL       -   \n8588   12120             유기농 발효수수 참  음료  발효음료         150  mL       -   \n8594   12139                 곰피 발효액  음료  발효음료         100  mL       -   \n8598   12145              치아씨드 발효음료  음료  발효음료         130  mL       -   \n8599   12148                 발효 콤부차  음료  발효음료          30  mL       -   \n8604   12153               편한 밤 발효티  음료  발효음료          30  mL       -   \n8611   12161                 산국발효꽃초  음료  발효음료          30  mL       -   \n8613   12163             친환경 수세미발효액  음료  발효음료         100  mL       -   \n8614   12167               혈락기락 발효수  음료  발효음료         100  mL       -   \n24539  15023              청인오미자발효진액  음료  발효음료         100  mL       -   \n24617  31315              청인오미자발효진액  음료  발효음료         100  mL     100   \n24701  61427                  발효특공대  음료  발효음료          80   g    1000   \n24715  65860              청인오미자발효진액  음료  발효음료         100   g     100   \n35983  30886                감발효초버몬트  음료  발효음료         100  mL    5000   \n36179  43005            발효히비스커스 100  음료  발효음료         100  mL       -   \n36599  55926                감발효초버몬트  음료  발효음료         100   g    5000   \n\n      총내용량(ml)  총당류(g)    총내용량  단위용량 대비 설탕 비율  \n3448         -   10.00   100.0           10.0  \n4157         -   10.00  2000.0           10.0  \n8570      1000    2.00  1000.0            2.0  \n8573      1000    2.00  1000.0            2.0  \n8580       700   47.20   700.0           47.2  \n8581       700   38.74   700.0           38.7  \n8585      1200   15.00  1200.0           15.0  \n8588       150   22.00   150.0           14.7  \n8594       100   50.37   100.0           50.4  \n8598       130    8.00   130.0            6.2  \n8599      1000    2.00  1000.0            6.7  \n8604       900    7.80   900.0           26.0  \n8611       375   11.00   375.0           36.7  \n8613       100   37.28   100.0           37.3  \n8614      1000    2.00  1000.0            2.0  \n24539      100    8.20   100.0            8.2  \n24617        -    8.20   100.0            8.2  \n24701        -    3.00  1000.0            3.8  \n24715        -    8.20   100.0            8.2  \n35983        -   12.00  5000.0           12.0  \n36179     1000    6.30  1000.0            6.3  \n36599        -   12.00  5000.0           12.0  ",
      "text/html": "<div>\n<style scoped>\n    .dataframe tbody tr th:only-of-type {\n        vertical-align: middle;\n    }\n\n    .dataframe tbody tr th {\n        vertical-align: top;\n    }\n\n    .dataframe thead th {\n        text-align: right;\n    }\n</style>\n<table border=\"1\" class=\"dataframe\">\n  <thead>\n    <tr style=\"text-align: right;\">\n      <th></th>\n      <th>No</th>\n      <th>식품명</th>\n      <th>대분류</th>\n      <th>중분류</th>\n      <th>소분류</th>\n      <th>1회 제공량</th>\n      <th>용량</th>\n      <th>총내용량(g)</th>\n      <th>총내용량(ml)</th>\n      <th>총당류(g)</th>\n      <th>총내용량</th>\n      <th>단위용량 대비 설탕 비율</th>\n    </tr>\n  </thead>\n  <tbody>\n    <tr>\n      <th>3448</th>\n      <td>31725</td>\n      <td>유산균으로 12시간 발효 ABC주스</td>\n      <td>음료</td>\n      <td>발효음료</td>\n      <td></td>\n      <td>100</td>\n      <td>mL</td>\n      <td>100</td>\n      <td>-</td>\n      <td>10.00</td>\n      <td>100.0</td>\n      <td>10.0</td>\n    </tr>\n    <tr>\n      <th>4157</th>\n      <td>52441</td>\n      <td>유산균으로 12시간 발효 ABC주스</td>\n      <td>음료</td>\n      <td>발효음료</td>\n      <td></td>\n      <td>100</td>\n      <td>g</td>\n      <td>2000</td>\n      <td>-</td>\n      <td>10.00</td>\n      <td>2000.0</td>\n      <td>10.0</td>\n    </tr>\n    <tr>\n      <th>8570</th>\n      <td>12084</td>\n      <td>모링가 멀티유산균 발효원액</td>\n      <td>음료</td>\n      <td>발효음료</td>\n      <td></td>\n      <td>100</td>\n      <td>mL</td>\n      <td>-</td>\n      <td>1000</td>\n      <td>2.00</td>\n      <td>1000.0</td>\n      <td>2.0</td>\n    </tr>\n    <tr>\n      <th>8573</th>\n      <td>12093</td>\n      <td>멀티유산균 날띤(thin)발효 프로젝트</td>\n      <td>음료</td>\n      <td>발효음료</td>\n      <td></td>\n      <td>100</td>\n      <td>mL</td>\n      <td>-</td>\n      <td>1000</td>\n      <td>2.00</td>\n      <td>1000.0</td>\n      <td>2.0</td>\n    </tr>\n    <tr>\n      <th>8580</th>\n      <td>12102</td>\n      <td>팔보발효원액</td>\n      <td>음료</td>\n      <td>발효음료</td>\n      <td></td>\n      <td>100</td>\n      <td>mL</td>\n      <td>-</td>\n      <td>700</td>\n      <td>47.20</td>\n      <td>700.0</td>\n      <td>47.2</td>\n    </tr>\n    <tr>\n      <th>8581</th>\n      <td>12106</td>\n      <td>내 몸의 산야초발효액</td>\n      <td>음료</td>\n      <td>발효음료</td>\n      <td></td>\n      <td>100</td>\n      <td>mL</td>\n      <td>-</td>\n      <td>700</td>\n      <td>38.74</td>\n      <td>700.0</td>\n      <td>38.7</td>\n    </tr>\n    <tr>\n      <th>8585</th>\n      <td>12115</td>\n      <td>너와셰프 머루와인발효 식초음료</td>\n      <td>음료</td>\n      <td>발효음료</td>\n      <td></td>\n      <td>100</td>\n      <td>mL</td>\n      <td>-</td>\n      <td>1200</td>\n      <td>15.00</td>\n      <td>1200.0</td>\n      <td>15.0</td>\n    </tr>\n    <tr>\n      <th>8588</th>\n      <td>12120</td>\n      <td>유기농 발효수수 참</td>\n      <td>음료</td>\n      <td>발효음료</td>\n      <td></td>\n      <td>150</td>\n      <td>mL</td>\n      <td>-</td>\n      <td>150</td>\n      <td>22.00</td>\n      <td>150.0</td>\n      <td>14.7</td>\n    </tr>\n    <tr>\n      <th>8594</th>\n      <td>12139</td>\n      <td>곰피 발효액</td>\n      <td>음료</td>\n      <td>발효음료</td>\n      <td></td>\n      <td>100</td>\n      <td>mL</td>\n      <td>-</td>\n      <td>100</td>\n      <td>50.37</td>\n      <td>100.0</td>\n      <td>50.4</td>\n    </tr>\n    <tr>\n      <th>8598</th>\n      <td>12145</td>\n      <td>치아씨드 발효음료</td>\n      <td>음료</td>\n      <td>발효음료</td>\n      <td></td>\n      <td>130</td>\n      <td>mL</td>\n      <td>-</td>\n      <td>130</td>\n      <td>8.00</td>\n      <td>130.0</td>\n      <td>6.2</td>\n    </tr>\n    <tr>\n      <th>8599</th>\n      <td>12148</td>\n      <td>발효 콤부차</td>\n      <td>음료</td>\n      <td>발효음료</td>\n      <td></td>\n      <td>30</td>\n      <td>mL</td>\n      <td>-</td>\n      <td>1000</td>\n      <td>2.00</td>\n      <td>1000.0</td>\n      <td>6.7</td>\n    </tr>\n    <tr>\n      <th>8604</th>\n      <td>12153</td>\n      <td>편한 밤 발효티</td>\n      <td>음료</td>\n      <td>발효음료</td>\n      <td></td>\n      <td>30</td>\n      <td>mL</td>\n      <td>-</td>\n      <td>900</td>\n      <td>7.80</td>\n      <td>900.0</td>\n      <td>26.0</td>\n    </tr>\n    <tr>\n      <th>8611</th>\n      <td>12161</td>\n      <td>산국발효꽃초</td>\n      <td>음료</td>\n      <td>발효음료</td>\n      <td></td>\n      <td>30</td>\n      <td>mL</td>\n      <td>-</td>\n      <td>375</td>\n      <td>11.00</td>\n      <td>375.0</td>\n      <td>36.7</td>\n    </tr>\n    <tr>\n      <th>8613</th>\n      <td>12163</td>\n      <td>친환경 수세미발효액</td>\n      <td>음료</td>\n      <td>발효음료</td>\n      <td></td>\n      <td>100</td>\n      <td>mL</td>\n      <td>-</td>\n      <td>100</td>\n      <td>37.28</td>\n      <td>100.0</td>\n      <td>37.3</td>\n    </tr>\n    <tr>\n      <th>8614</th>\n      <td>12167</td>\n      <td>혈락기락 발효수</td>\n      <td>음료</td>\n      <td>발효음료</td>\n      <td></td>\n      <td>100</td>\n      <td>mL</td>\n      <td>-</td>\n      <td>1000</td>\n      <td>2.00</td>\n      <td>1000.0</td>\n      <td>2.0</td>\n    </tr>\n    <tr>\n      <th>24539</th>\n      <td>15023</td>\n      <td>청인오미자발효진액</td>\n      <td>음료</td>\n      <td>발효음료</td>\n      <td></td>\n      <td>100</td>\n      <td>mL</td>\n      <td>-</td>\n      <td>100</td>\n      <td>8.20</td>\n      <td>100.0</td>\n      <td>8.2</td>\n    </tr>\n    <tr>\n      <th>24617</th>\n      <td>31315</td>\n      <td>청인오미자발효진액</td>\n      <td>음료</td>\n      <td>발효음료</td>\n      <td></td>\n      <td>100</td>\n      <td>mL</td>\n      <td>100</td>\n      <td>-</td>\n      <td>8.20</td>\n      <td>100.0</td>\n      <td>8.2</td>\n    </tr>\n    <tr>\n      <th>24701</th>\n      <td>61427</td>\n      <td>발효특공대</td>\n      <td>음료</td>\n      <td>발효음료</td>\n      <td></td>\n      <td>80</td>\n      <td>g</td>\n      <td>1000</td>\n      <td>-</td>\n      <td>3.00</td>\n      <td>1000.0</td>\n      <td>3.8</td>\n    </tr>\n    <tr>\n      <th>24715</th>\n      <td>65860</td>\n      <td>청인오미자발효진액</td>\n      <td>음료</td>\n      <td>발효음료</td>\n      <td></td>\n      <td>100</td>\n      <td>g</td>\n      <td>100</td>\n      <td>-</td>\n      <td>8.20</td>\n      <td>100.0</td>\n      <td>8.2</td>\n    </tr>\n    <tr>\n      <th>35983</th>\n      <td>30886</td>\n      <td>감발효초버몬트</td>\n      <td>음료</td>\n      <td>발효음료</td>\n      <td></td>\n      <td>100</td>\n      <td>mL</td>\n      <td>5000</td>\n      <td>-</td>\n      <td>12.00</td>\n      <td>5000.0</td>\n      <td>12.0</td>\n    </tr>\n    <tr>\n      <th>36179</th>\n      <td>43005</td>\n      <td>발효히비스커스 100</td>\n      <td>음료</td>\n      <td>발효음료</td>\n      <td></td>\n      <td>100</td>\n      <td>mL</td>\n      <td>-</td>\n      <td>1000</td>\n      <td>6.30</td>\n      <td>1000.0</td>\n      <td>6.3</td>\n    </tr>\n    <tr>\n      <th>36599</th>\n      <td>55926</td>\n      <td>감발효초버몬트</td>\n      <td>음료</td>\n      <td>발효음료</td>\n      <td></td>\n      <td>100</td>\n      <td>g</td>\n      <td>5000</td>\n      <td>-</td>\n      <td>12.00</td>\n      <td>5000.0</td>\n      <td>12.0</td>\n    </tr>\n  </tbody>\n</table>\n</div>"
     },
     "execution_count": 3042,
     "metadata": {},
     "output_type": "execute_result"
    }
   ],
   "source": [
    "sheet.loc[(sheet['대분류'] == '음료') & (sheet['중분류'] == '발효음료'), '소분류'] = \"\"\n",
    "\n",
    "식혜음료 = ['식혜']\n",
    "보리음료 = ['새싹보리']\n",
    "콩음료 = ['콩']\n",
    "대추음료 = ['대추']\n",
    "민들레음료 = ['민들레']\n",
    "진달래음료 = ['진달래']\n",
    "천년초음료 = ['천년초']\n",
    "산수유음료 = ['산수유']\n",
    "어성초음료 = ['어성초']\n",
    "함초음료 = ['함초']\n",
    "도라지음료 = ['배도라지', '도라지']\n",
    "양배추음료 = ['양배추']\n",
    "부추음료 = ['부추']\n",
    "흑마늘음료 = ['흑마늘']\n",
    "수정과 = ['수정과']\n",
    "당근음료 = ['당근']\n",
    "야채음료 = ['야채']\n",
    "칡음료 = ['칡']\n",
    "단호박음료 = ['단호박']\n",
    "오디음료 =  ['오디']\n",
    "쑥음료 = ['쑥']\n",
    "생강음료 = ['생강']\n",
    "갈근음료 = ['갈근']\n",
    "노니음료 = ['노니']\n",
    "배음료 = ['배']\n",
    "라임음료 = ['라임']\n",
    "자몽음료 = ['자몽']\n",
    "함초음료 = ['함초']\n",
    "베리음료 = ['베리']\n",
    "사과음료 = ['사과', '애플']\n",
    "아로니아음료 = ['아로니아']\n",
    "복분자음료 = ['복분자']\n",
    "바나나음료 = ['바나나']\n",
    "체리음료 = ['체리']\n",
    "석류음료 = ['석류']\n",
    "매실음료 = ['매실']\n",
    "포도음료 = ['포도']\n",
    "\n",
    "\n",
    "발효음료종류 = {\n",
    "\"식혜음료\": 식혜음료,\n",
    "\"보리음료\": 보리음료,\n",
    "\"콩음료\": 콩음료,\n",
    "\"대추음료\": 대추음료,\n",
    "\"민들레음료\": 민들레음료,\n",
    "\"진달래음료\": 진달래음료,\n",
    "\"천년초음료\": 천년초음료,\n",
    "\"산수유음료\": 산수유음료,\n",
    "\"어성초음료\": 어성초음료,\n",
    "\"함초음료\": 함초음료,\n",
    "\"도라지음료\": 도라지음료,\n",
    "\"양배추음료\": 양배추음료,\n",
    "\"부추음료\": 부추음료,\n",
    "\"흑마늘음료\": 흑마늘음료,\n",
    "\"수정과\" :수정과,\n",
    "\"당근음료\": 당근음료,\n",
    "\"야채음료\": 야채음료,\n",
    "\"칡음료\" :칡음료,\n",
    "\"단호박음료\": 단호박음료,\n",
    "\"오디음료\": 오디음료,\n",
    "\"쑥음료\" :쑥음료,\n",
    "\"생강음료\": 생강음료,\n",
    "\"갈근음료\": 갈근음료,\n",
    "\"노니음료\": 노니음료,\n",
    "\"배음료\" :배음료,\n",
    "\"라임음료\": 라임음료,\n",
    "\"자몽음료\": 자몽음료,\n",
    "\"함초음료\": 함초음료,\n",
    "\"베리음료\": 베리음료,\n",
    "\"사과음료\": 사과음료,\n",
    "\"아로니아음료\": 아로니아음료,\n",
    "\"복분자음료\": 복분자음료,\n",
    "\"바나나음료\": 바나나음료,\n",
    "\"체리음료\": 체리음료,\n",
    "\"석류음료\": 석류음료,\n",
    "\"매실음료\": 매실음료,\n",
    "\"포도음료\": 포도음료,\n",
    "}\n",
    "\n",
    "seperated_category('발효음료', 발효음료종류)\n",
    "\n",
    "sheet[(sheet['중분류'] == '발효음료') & (sheet['소분류'] == \"\")]"
   ],
   "metadata": {
    "collapsed": false,
    "pycharm": {
     "name": "#%%\n"
    }
   }
  },
  {
   "cell_type": "code",
   "execution_count": 3043,
   "outputs": [
    {
     "name": "stdout",
     "output_type": "stream",
     "text": [
      "{'갈근음료': 3,\n",
      " '노니음료': 19,\n",
      " '단호박음료': 25,\n",
      " '당근음료': 2,\n",
      " '대추음료': 4,\n",
      " '도라지음료': 4,\n",
      " '라임음료': 3,\n",
      " '매실음료': 1,\n",
      " '민들레음료': 3,\n",
      " '바나나음료': 6,\n",
      " '배음료': 9,\n",
      " '베리음료': 6,\n",
      " '보리음료': 2,\n",
      " '복분자음료': 5,\n",
      " '부추음료': 2,\n",
      " '사과음료': 5,\n",
      " '산수유음료': 5,\n",
      " '생강음료': 12,\n",
      " '석류음료': 7,\n",
      " '수정과': 32,\n",
      " '식혜음료': 183,\n",
      " '쑥음료': 1,\n",
      " '아로니아음료': 6,\n",
      " '야채음료': 2,\n",
      " '어성초음료': 3,\n",
      " '오디음료': 2,\n",
      " '자몽음료': 1,\n",
      " '진달래음료': 1,\n",
      " '천년초음료': 3,\n",
      " '체리음료': 1,\n",
      " '칡음료': 2,\n",
      " '콩음료': 6,\n",
      " '포도음료': 2,\n",
      " '함초음료': 1,\n",
      " '흑마늘음료': 5}\n"
     ]
    }
   ],
   "source": [
    "erase = list(sheet.loc[(sheet['중분류'] == '발효음료') & (sheet['소분류'] == ''), :].index)\n",
    "\n",
    "for value in erase:\n",
    "    sheet = sheet.drop(value, axis=0)\n",
    "\n",
    "minimal_enz_category = list(sheet.loc[sheet['중분류'] == '발효음료', '소분류'].unique())\n",
    "b_dict = {}\n",
    "for value in minimal_enz_category:\n",
    "    b_dict[value] = len(sheet.loc[(sheet['중분류'] == '발효음료') & (sheet['소분류'] == value), :])\n",
    "\n",
    "pp.pprint(b_dict)"
   ],
   "metadata": {
    "collapsed": false,
    "pycharm": {
     "name": "#%%\n"
    }
   }
  },
  {
   "cell_type": "code",
   "execution_count": 3044,
   "outputs": [
    {
     "data": {
      "text/plain": "          No                 식품명 대분류   중분류    소분류  1회 제공량  용량 총내용량(g)  \\\n1290   29458             민들레발효녹즙  음료  발효음료  민들레음료     120  mL     120   \n1553   30927     그라비올라 새싹보리 발효녹즙  음료  발효음료   보리음료     120  mL     120   \n1678   31419           통짜발효 배도라지  음료  발효음료    배음료      90  mL    2700   \n1679   31420             통짜발효 석류  음료  발효음료   석류음료      90  mL    2700   \n1680   31421            통짜발효 양배추  음료  발효음료    배음료      90  mL    2700   \n...      ...                 ...  ..   ...    ...     ...  ..     ...   \n37213  68088      유기농 햇살깃든 단호박식혜  음료  발효음료  단호박음료     100  mL       -   \n37214  68089      유기농 햇살깃든 오미자식혜  음료  발효음료   식혜음료     100  mL       -   \n37215  68090       유기농 햇살깃든 일반식혜  음료  발효음료   식혜음료     100  mL       -   \n37216  68091       유기농 햇살깃든 현미식혜  음료  발효음료   식혜음료     100  mL       -   \n37217  68092  유기농 햇살깃든 현미자색고구마식혜  음료  발효음료   식혜음료     100  mL       -   \n\n      총내용량(ml)  총당류(g)    총내용량  단위용량 대비 설탕 비율  \n1290         -    10.0   120.0            8.3  \n1553         -     9.0   120.0            7.5  \n1678         -     4.0  2700.0            4.4  \n1679         -     7.0  2700.0            7.8  \n1680         -     3.0  2700.0            3.3  \n...        ...     ...     ...            ...  \n37213      340    10.2   340.0           10.2  \n37214      340    12.8   340.0           12.8  \n37215      340    12.2   340.0           12.2  \n37216      340    12.2   340.0           12.2  \n37217      340    11.0   340.0           11.0  \n\n[374 rows x 12 columns]",
      "text/html": "<div>\n<style scoped>\n    .dataframe tbody tr th:only-of-type {\n        vertical-align: middle;\n    }\n\n    .dataframe tbody tr th {\n        vertical-align: top;\n    }\n\n    .dataframe thead th {\n        text-align: right;\n    }\n</style>\n<table border=\"1\" class=\"dataframe\">\n  <thead>\n    <tr style=\"text-align: right;\">\n      <th></th>\n      <th>No</th>\n      <th>식품명</th>\n      <th>대분류</th>\n      <th>중분류</th>\n      <th>소분류</th>\n      <th>1회 제공량</th>\n      <th>용량</th>\n      <th>총내용량(g)</th>\n      <th>총내용량(ml)</th>\n      <th>총당류(g)</th>\n      <th>총내용량</th>\n      <th>단위용량 대비 설탕 비율</th>\n    </tr>\n  </thead>\n  <tbody>\n    <tr>\n      <th>1290</th>\n      <td>29458</td>\n      <td>민들레발효녹즙</td>\n      <td>음료</td>\n      <td>발효음료</td>\n      <td>민들레음료</td>\n      <td>120</td>\n      <td>mL</td>\n      <td>120</td>\n      <td>-</td>\n      <td>10.0</td>\n      <td>120.0</td>\n      <td>8.3</td>\n    </tr>\n    <tr>\n      <th>1553</th>\n      <td>30927</td>\n      <td>그라비올라 새싹보리 발효녹즙</td>\n      <td>음료</td>\n      <td>발효음료</td>\n      <td>보리음료</td>\n      <td>120</td>\n      <td>mL</td>\n      <td>120</td>\n      <td>-</td>\n      <td>9.0</td>\n      <td>120.0</td>\n      <td>7.5</td>\n    </tr>\n    <tr>\n      <th>1678</th>\n      <td>31419</td>\n      <td>통짜발효 배도라지</td>\n      <td>음료</td>\n      <td>발효음료</td>\n      <td>배음료</td>\n      <td>90</td>\n      <td>mL</td>\n      <td>2700</td>\n      <td>-</td>\n      <td>4.0</td>\n      <td>2700.0</td>\n      <td>4.4</td>\n    </tr>\n    <tr>\n      <th>1679</th>\n      <td>31420</td>\n      <td>통짜발효 석류</td>\n      <td>음료</td>\n      <td>발효음료</td>\n      <td>석류음료</td>\n      <td>90</td>\n      <td>mL</td>\n      <td>2700</td>\n      <td>-</td>\n      <td>7.0</td>\n      <td>2700.0</td>\n      <td>7.8</td>\n    </tr>\n    <tr>\n      <th>1680</th>\n      <td>31421</td>\n      <td>통짜발효 양배추</td>\n      <td>음료</td>\n      <td>발효음료</td>\n      <td>배음료</td>\n      <td>90</td>\n      <td>mL</td>\n      <td>2700</td>\n      <td>-</td>\n      <td>3.0</td>\n      <td>2700.0</td>\n      <td>3.3</td>\n    </tr>\n    <tr>\n      <th>...</th>\n      <td>...</td>\n      <td>...</td>\n      <td>...</td>\n      <td>...</td>\n      <td>...</td>\n      <td>...</td>\n      <td>...</td>\n      <td>...</td>\n      <td>...</td>\n      <td>...</td>\n      <td>...</td>\n      <td>...</td>\n    </tr>\n    <tr>\n      <th>37213</th>\n      <td>68088</td>\n      <td>유기농 햇살깃든 단호박식혜</td>\n      <td>음료</td>\n      <td>발효음료</td>\n      <td>단호박음료</td>\n      <td>100</td>\n      <td>mL</td>\n      <td>-</td>\n      <td>340</td>\n      <td>10.2</td>\n      <td>340.0</td>\n      <td>10.2</td>\n    </tr>\n    <tr>\n      <th>37214</th>\n      <td>68089</td>\n      <td>유기농 햇살깃든 오미자식혜</td>\n      <td>음료</td>\n      <td>발효음료</td>\n      <td>식혜음료</td>\n      <td>100</td>\n      <td>mL</td>\n      <td>-</td>\n      <td>340</td>\n      <td>12.8</td>\n      <td>340.0</td>\n      <td>12.8</td>\n    </tr>\n    <tr>\n      <th>37215</th>\n      <td>68090</td>\n      <td>유기농 햇살깃든 일반식혜</td>\n      <td>음료</td>\n      <td>발효음료</td>\n      <td>식혜음료</td>\n      <td>100</td>\n      <td>mL</td>\n      <td>-</td>\n      <td>340</td>\n      <td>12.2</td>\n      <td>340.0</td>\n      <td>12.2</td>\n    </tr>\n    <tr>\n      <th>37216</th>\n      <td>68091</td>\n      <td>유기농 햇살깃든 현미식혜</td>\n      <td>음료</td>\n      <td>발효음료</td>\n      <td>식혜음료</td>\n      <td>100</td>\n      <td>mL</td>\n      <td>-</td>\n      <td>340</td>\n      <td>12.2</td>\n      <td>340.0</td>\n      <td>12.2</td>\n    </tr>\n    <tr>\n      <th>37217</th>\n      <td>68092</td>\n      <td>유기농 햇살깃든 현미자색고구마식혜</td>\n      <td>음료</td>\n      <td>발효음료</td>\n      <td>식혜음료</td>\n      <td>100</td>\n      <td>mL</td>\n      <td>-</td>\n      <td>340</td>\n      <td>11.0</td>\n      <td>340.0</td>\n      <td>11.0</td>\n    </tr>\n  </tbody>\n</table>\n<p>374 rows × 12 columns</p>\n</div>"
     },
     "execution_count": 3044,
     "metadata": {},
     "output_type": "execute_result"
    }
   ],
   "source": [
    "sheet[(sheet['중분류'] == '발효음료')]"
   ],
   "metadata": {
    "collapsed": false,
    "pycharm": {
     "name": "#%%\n"
    }
   }
  },
  {
   "cell_type": "code",
   "execution_count": 3045,
   "outputs": [
    {
     "data": {
      "text/plain": "          No                식품명 대분류  중분류    소분류  1회 제공량  용량 총내용량(g) 총내용량(ml)  \\\n1332   29679        성수동 스무디 카카오  음료  스무디  과/채음료     230  mL     230        -   \n1722   31660  아임리얼 스무디 마이 스트로베리  음료  스무디  과/채음료     100  mL     700        -   \n1769   40381  쏘머 내츄럴스 브렉퍼스트 스무디  음료  스무디  과/채음료     300  mL       -      300   \n2070   54979  아임리얼 스무디 마이 스트로베리  음료  스무디  과/채음료     190   g     190        -   \n2192   57576        성수동 스무디 카카오  음료  스무디  과/채음료     230   g     230        -   \n...      ...                ...  ..  ...    ...     ...  ..     ...      ...   \n36873  63017             스무디 레드  음료  스무디   혼합음료     350   g     350        -   \n36874  63018            스무디 옐로우  음료  스무디   혼합음료     350   g     350        -   \n36886  63032            옐로우 스무디  음료  스무디   혼합음료     350   g     350        -   \n37001  64983     퍼펙트 파워쉐이크 바닐라향  음료  스무디   혼합음료     275   g     275        -   \n37002  64984   퍼펙트 파워쉐이크 초코바나나맛  음료  스무디   혼합음료     275   g     275        -   \n\n       총당류(g)   총내용량  단위용량 대비 설탕 비율  \n1332     15.0  230.0            6.5  \n1722     10.0  700.0           10.0  \n1769     38.2  300.0           12.7  \n2070     18.0  190.0            9.5  \n2192     15.0  230.0            6.5  \n...       ...    ...            ...  \n36873    39.0  350.0           11.1  \n36874    43.0  350.0           12.3  \n36886    43.0  350.0           12.3  \n37001    13.0  275.0            4.7  \n37002    12.0  275.0            4.4  \n\n[246 rows x 12 columns]",
      "text/html": "<div>\n<style scoped>\n    .dataframe tbody tr th:only-of-type {\n        vertical-align: middle;\n    }\n\n    .dataframe tbody tr th {\n        vertical-align: top;\n    }\n\n    .dataframe thead th {\n        text-align: right;\n    }\n</style>\n<table border=\"1\" class=\"dataframe\">\n  <thead>\n    <tr style=\"text-align: right;\">\n      <th></th>\n      <th>No</th>\n      <th>식품명</th>\n      <th>대분류</th>\n      <th>중분류</th>\n      <th>소분류</th>\n      <th>1회 제공량</th>\n      <th>용량</th>\n      <th>총내용량(g)</th>\n      <th>총내용량(ml)</th>\n      <th>총당류(g)</th>\n      <th>총내용량</th>\n      <th>단위용량 대비 설탕 비율</th>\n    </tr>\n  </thead>\n  <tbody>\n    <tr>\n      <th>1332</th>\n      <td>29679</td>\n      <td>성수동 스무디 카카오</td>\n      <td>음료</td>\n      <td>스무디</td>\n      <td>과/채음료</td>\n      <td>230</td>\n      <td>mL</td>\n      <td>230</td>\n      <td>-</td>\n      <td>15.0</td>\n      <td>230.0</td>\n      <td>6.5</td>\n    </tr>\n    <tr>\n      <th>1722</th>\n      <td>31660</td>\n      <td>아임리얼 스무디 마이 스트로베리</td>\n      <td>음료</td>\n      <td>스무디</td>\n      <td>과/채음료</td>\n      <td>100</td>\n      <td>mL</td>\n      <td>700</td>\n      <td>-</td>\n      <td>10.0</td>\n      <td>700.0</td>\n      <td>10.0</td>\n    </tr>\n    <tr>\n      <th>1769</th>\n      <td>40381</td>\n      <td>쏘머 내츄럴스 브렉퍼스트 스무디</td>\n      <td>음료</td>\n      <td>스무디</td>\n      <td>과/채음료</td>\n      <td>300</td>\n      <td>mL</td>\n      <td>-</td>\n      <td>300</td>\n      <td>38.2</td>\n      <td>300.0</td>\n      <td>12.7</td>\n    </tr>\n    <tr>\n      <th>2070</th>\n      <td>54979</td>\n      <td>아임리얼 스무디 마이 스트로베리</td>\n      <td>음료</td>\n      <td>스무디</td>\n      <td>과/채음료</td>\n      <td>190</td>\n      <td>g</td>\n      <td>190</td>\n      <td>-</td>\n      <td>18.0</td>\n      <td>190.0</td>\n      <td>9.5</td>\n    </tr>\n    <tr>\n      <th>2192</th>\n      <td>57576</td>\n      <td>성수동 스무디 카카오</td>\n      <td>음료</td>\n      <td>스무디</td>\n      <td>과/채음료</td>\n      <td>230</td>\n      <td>g</td>\n      <td>230</td>\n      <td>-</td>\n      <td>15.0</td>\n      <td>230.0</td>\n      <td>6.5</td>\n    </tr>\n    <tr>\n      <th>...</th>\n      <td>...</td>\n      <td>...</td>\n      <td>...</td>\n      <td>...</td>\n      <td>...</td>\n      <td>...</td>\n      <td>...</td>\n      <td>...</td>\n      <td>...</td>\n      <td>...</td>\n      <td>...</td>\n      <td>...</td>\n    </tr>\n    <tr>\n      <th>36873</th>\n      <td>63017</td>\n      <td>스무디 레드</td>\n      <td>음료</td>\n      <td>스무디</td>\n      <td>혼합음료</td>\n      <td>350</td>\n      <td>g</td>\n      <td>350</td>\n      <td>-</td>\n      <td>39.0</td>\n      <td>350.0</td>\n      <td>11.1</td>\n    </tr>\n    <tr>\n      <th>36874</th>\n      <td>63018</td>\n      <td>스무디 옐로우</td>\n      <td>음료</td>\n      <td>스무디</td>\n      <td>혼합음료</td>\n      <td>350</td>\n      <td>g</td>\n      <td>350</td>\n      <td>-</td>\n      <td>43.0</td>\n      <td>350.0</td>\n      <td>12.3</td>\n    </tr>\n    <tr>\n      <th>36886</th>\n      <td>63032</td>\n      <td>옐로우 스무디</td>\n      <td>음료</td>\n      <td>스무디</td>\n      <td>혼합음료</td>\n      <td>350</td>\n      <td>g</td>\n      <td>350</td>\n      <td>-</td>\n      <td>43.0</td>\n      <td>350.0</td>\n      <td>12.3</td>\n    </tr>\n    <tr>\n      <th>37001</th>\n      <td>64983</td>\n      <td>퍼펙트 파워쉐이크 바닐라향</td>\n      <td>음료</td>\n      <td>스무디</td>\n      <td>혼합음료</td>\n      <td>275</td>\n      <td>g</td>\n      <td>275</td>\n      <td>-</td>\n      <td>13.0</td>\n      <td>275.0</td>\n      <td>4.7</td>\n    </tr>\n    <tr>\n      <th>37002</th>\n      <td>64984</td>\n      <td>퍼펙트 파워쉐이크 초코바나나맛</td>\n      <td>음료</td>\n      <td>스무디</td>\n      <td>혼합음료</td>\n      <td>275</td>\n      <td>g</td>\n      <td>275</td>\n      <td>-</td>\n      <td>12.0</td>\n      <td>275.0</td>\n      <td>4.4</td>\n    </tr>\n  </tbody>\n</table>\n<p>246 rows × 12 columns</p>\n</div>"
     },
     "execution_count": 3045,
     "metadata": {},
     "output_type": "execute_result"
    }
   ],
   "source": [
    "# 스무디\n",
    "sheet[sheet['중분류'] == '스무디']"
   ],
   "metadata": {
    "collapsed": false,
    "pycharm": {
     "name": "#%%\n"
    }
   }
  },
  {
   "cell_type": "code",
   "execution_count": 3046,
   "outputs": [],
   "source": [
    "sheet = sheet.drop(2290, axis=0)\n",
    "sheet = sheet.drop(2427, axis=0)\n",
    "sheet = sheet.drop(1769, axis=0)\n"
   ],
   "metadata": {
    "collapsed": false,
    "pycharm": {
     "name": "#%%\n"
    }
   }
  },
  {
   "cell_type": "code",
   "execution_count": 3047,
   "outputs": [
    {
     "data": {
      "text/plain": "          No                             식품명 대분류  중분류 소분류  1회 제공량  용량 총내용량(g)  \\\n2571   14813                       슈퍼스무디 옐로우  음료  스무디         250  mL       -   \n2668   14929                    덴마크 슈퍼스무디 퍼플  음료  스무디         250  mL       -   \n2929   29675                    성수동 스무디 베리베리  음료  스무디         230  mL     230   \n2955   29740                       슈퍼스무디 옐로우  음료  스무디         250  mL     250   \n4116   52393                           해오스무디  음료  스무디         100   g    2000   \n4533   57591                    성수동 스무디 베리베리  음료  스무디         230   g     230   \n20668  78942                         젤라또 쉐이크  음료  스무디         485  mL       -   \n20678  79094                        바삭 콘 프라페  음료  스무디         360  mL       -   \n20715  79214                       블랙빈 밀크프라페  음료  스무디         360  mL       -   \n20736  79406                       옐로우파인 스무디  음료  스무디         360  mL       -   \n20811  79825                    타로 버블 프로스트 R  음료  스무디         383  mL       -   \n20812  79826                    타로 버블 프로스트 L  음료  스무디         464  mL       -   \n20829  79843                      화이트 프로스트 R  음료  스무디         374  mL       -   \n20830  79844                      화이트 프로스트 L  음료  스무디         477  mL       -   \n20841  79855                     믹스베리 프로스트 R  음료  스무디         395  mL       -   \n20842  79856                     믹스베리 프로스트 L  음료  스무디         520  mL       -   \n20851  80031                      로얄 밀크티 쉐이크  음료  스무디         395  mL       -   \n20856  80072                        요거 프라페 R  음료  스무디         420  mL       -   \n20857  80073                        요거 프라페 L  음료  스무디         480  mL       -   \n20864  80280                         마녀 그라니따  음료  스무디         374  mL       -   \n20866  80291                    흑당 펄 밀크 그라니따  음료  스무디         430  mL       -   \n20882  81048                          밀크 쉐이크  음료  스무디         300  mL       -   \n20886  81097                         와츄원 쉐이크  음료  스무디         300  mL       -   \n20905  81309                   타로 스무디 (ice)L  음료  스무디         454  mL       -   \n20915  81385                  제주 까망 크림 프라푸치노  음료  스무디         355  mL       -   \n20917  81387                  제주 쑥떡 크림 프라푸치노  음료  스무디         355  mL       -   \n20921  81391                   화이트 타이거 프라푸치노  음료  스무디         355  mL       -   \n20926  81396                     익스트림 티 블렌디드  음료  스무디         355  mL       -   \n20930  81698                           폭탄프라페  음료  스무디         100  mL       -   \n20937  81738                      버블 밀크티 쉐이크  음료  스무디         400  mL       -   \n20938  81739                       버블 베리 쉐이크  음료  스무디         400  mL       -   \n20949  81853                         오리진 쉐이크  음료  스무디         400  mL       -   \n20958  82108                   원조빽스치노(BASIC)  음료  스무디         625  mL       -   \n20959  82109                    원조빽스치노(SOFT)  음료  스무디         765  mL       -   \n35581  29256                          레드 스무디  음료  스무디         350  mL     350   \n35756  29969                         옐로우 스무디  음료  스무디         350  mL     350   \n36443  50408  베어벨스(BAREBELLS) 프로틴 밀크쉐이크 바나나향  음료  스무디         330   g     330   \n36648  56888                           넛츠쉐이크  음료  스무디         180   g     180   \n36849  62988                          레드 스무디  음료  스무디         350   g     350   \n36873  63017                          스무디 레드  음료  스무디         350   g     350   \n36874  63018                         스무디 옐로우  음료  스무디         350   g     350   \n36886  63032                         옐로우 스무디  음료  스무디         350   g     350   \n\n      총내용량(ml)  총당류(g)    총내용량  단위용량 대비 설탕 비율  \n2571       250    35.0   250.0           14.0  \n2668       250    27.0   250.0           10.8  \n2929         -    23.0   230.0           10.0  \n2955         -    35.0   250.0           14.0  \n4116         -     8.0  2000.0            8.0  \n4533         -    23.0   230.0           10.0  \n20668      485    73.9   485.0           15.2  \n20678      360    40.0   360.0           11.1  \n20715      360    50.0   360.0           13.9  \n20736      360    70.0   360.0           19.4  \n20811      383    45.8   383.0           12.0  \n20812    463.5    79.4   463.5           17.1  \n20829      374    71.3   374.0           19.1  \n20830    476.5    82.6   476.5           17.3  \n20841      395    62.5   395.0           15.8  \n20842      520    88.1   520.0           16.9  \n20851      395    33.0   395.0            8.4  \n20856      420    43.0   420.0           10.2  \n20857      480    49.0   480.0           10.2  \n20864      374    62.9   374.0           16.8  \n20866      430    59.3   430.0           13.8  \n20882      300    36.0   300.0           12.0  \n20886      300    48.0   300.0           16.0  \n20905      454    45.9   454.0           10.1  \n20915      355    79.0   355.0           22.3  \n20917      355    57.0   355.0           16.1  \n20921      355    57.0   355.0           16.1  \n20926      355    45.0   355.0           12.7  \n20930      100    13.6   100.0           13.6  \n20937      400    52.0   400.0           13.0  \n20938      400    50.0   400.0           12.5  \n20949      400    42.0   400.0           10.5  \n20958      625    72.0   625.0           11.5  \n20959      765    85.0   765.0           11.1  \n35581        -    39.0   350.0           11.1  \n35756        -    43.0   350.0           12.3  \n36443        -    12.0   330.0            3.6  \n36648        -     6.0   180.0            3.3  \n36849        -    43.0   350.0           12.3  \n36873        -    39.0   350.0           11.1  \n36874        -    43.0   350.0           12.3  \n36886        -    43.0   350.0           12.3  ",
      "text/html": "<div>\n<style scoped>\n    .dataframe tbody tr th:only-of-type {\n        vertical-align: middle;\n    }\n\n    .dataframe tbody tr th {\n        vertical-align: top;\n    }\n\n    .dataframe thead th {\n        text-align: right;\n    }\n</style>\n<table border=\"1\" class=\"dataframe\">\n  <thead>\n    <tr style=\"text-align: right;\">\n      <th></th>\n      <th>No</th>\n      <th>식품명</th>\n      <th>대분류</th>\n      <th>중분류</th>\n      <th>소분류</th>\n      <th>1회 제공량</th>\n      <th>용량</th>\n      <th>총내용량(g)</th>\n      <th>총내용량(ml)</th>\n      <th>총당류(g)</th>\n      <th>총내용량</th>\n      <th>단위용량 대비 설탕 비율</th>\n    </tr>\n  </thead>\n  <tbody>\n    <tr>\n      <th>2571</th>\n      <td>14813</td>\n      <td>슈퍼스무디 옐로우</td>\n      <td>음료</td>\n      <td>스무디</td>\n      <td></td>\n      <td>250</td>\n      <td>mL</td>\n      <td>-</td>\n      <td>250</td>\n      <td>35.0</td>\n      <td>250.0</td>\n      <td>14.0</td>\n    </tr>\n    <tr>\n      <th>2668</th>\n      <td>14929</td>\n      <td>덴마크 슈퍼스무디 퍼플</td>\n      <td>음료</td>\n      <td>스무디</td>\n      <td></td>\n      <td>250</td>\n      <td>mL</td>\n      <td>-</td>\n      <td>250</td>\n      <td>27.0</td>\n      <td>250.0</td>\n      <td>10.8</td>\n    </tr>\n    <tr>\n      <th>2929</th>\n      <td>29675</td>\n      <td>성수동 스무디 베리베리</td>\n      <td>음료</td>\n      <td>스무디</td>\n      <td></td>\n      <td>230</td>\n      <td>mL</td>\n      <td>230</td>\n      <td>-</td>\n      <td>23.0</td>\n      <td>230.0</td>\n      <td>10.0</td>\n    </tr>\n    <tr>\n      <th>2955</th>\n      <td>29740</td>\n      <td>슈퍼스무디 옐로우</td>\n      <td>음료</td>\n      <td>스무디</td>\n      <td></td>\n      <td>250</td>\n      <td>mL</td>\n      <td>250</td>\n      <td>-</td>\n      <td>35.0</td>\n      <td>250.0</td>\n      <td>14.0</td>\n    </tr>\n    <tr>\n      <th>4116</th>\n      <td>52393</td>\n      <td>해오스무디</td>\n      <td>음료</td>\n      <td>스무디</td>\n      <td></td>\n      <td>100</td>\n      <td>g</td>\n      <td>2000</td>\n      <td>-</td>\n      <td>8.0</td>\n      <td>2000.0</td>\n      <td>8.0</td>\n    </tr>\n    <tr>\n      <th>4533</th>\n      <td>57591</td>\n      <td>성수동 스무디 베리베리</td>\n      <td>음료</td>\n      <td>스무디</td>\n      <td></td>\n      <td>230</td>\n      <td>g</td>\n      <td>230</td>\n      <td>-</td>\n      <td>23.0</td>\n      <td>230.0</td>\n      <td>10.0</td>\n    </tr>\n    <tr>\n      <th>20668</th>\n      <td>78942</td>\n      <td>젤라또 쉐이크</td>\n      <td>음료</td>\n      <td>스무디</td>\n      <td></td>\n      <td>485</td>\n      <td>mL</td>\n      <td>-</td>\n      <td>485</td>\n      <td>73.9</td>\n      <td>485.0</td>\n      <td>15.2</td>\n    </tr>\n    <tr>\n      <th>20678</th>\n      <td>79094</td>\n      <td>바삭 콘 프라페</td>\n      <td>음료</td>\n      <td>스무디</td>\n      <td></td>\n      <td>360</td>\n      <td>mL</td>\n      <td>-</td>\n      <td>360</td>\n      <td>40.0</td>\n      <td>360.0</td>\n      <td>11.1</td>\n    </tr>\n    <tr>\n      <th>20715</th>\n      <td>79214</td>\n      <td>블랙빈 밀크프라페</td>\n      <td>음료</td>\n      <td>스무디</td>\n      <td></td>\n      <td>360</td>\n      <td>mL</td>\n      <td>-</td>\n      <td>360</td>\n      <td>50.0</td>\n      <td>360.0</td>\n      <td>13.9</td>\n    </tr>\n    <tr>\n      <th>20736</th>\n      <td>79406</td>\n      <td>옐로우파인 스무디</td>\n      <td>음료</td>\n      <td>스무디</td>\n      <td></td>\n      <td>360</td>\n      <td>mL</td>\n      <td>-</td>\n      <td>360</td>\n      <td>70.0</td>\n      <td>360.0</td>\n      <td>19.4</td>\n    </tr>\n    <tr>\n      <th>20811</th>\n      <td>79825</td>\n      <td>타로 버블 프로스트 R</td>\n      <td>음료</td>\n      <td>스무디</td>\n      <td></td>\n      <td>383</td>\n      <td>mL</td>\n      <td>-</td>\n      <td>383</td>\n      <td>45.8</td>\n      <td>383.0</td>\n      <td>12.0</td>\n    </tr>\n    <tr>\n      <th>20812</th>\n      <td>79826</td>\n      <td>타로 버블 프로스트 L</td>\n      <td>음료</td>\n      <td>스무디</td>\n      <td></td>\n      <td>464</td>\n      <td>mL</td>\n      <td>-</td>\n      <td>463.5</td>\n      <td>79.4</td>\n      <td>463.5</td>\n      <td>17.1</td>\n    </tr>\n    <tr>\n      <th>20829</th>\n      <td>79843</td>\n      <td>화이트 프로스트 R</td>\n      <td>음료</td>\n      <td>스무디</td>\n      <td></td>\n      <td>374</td>\n      <td>mL</td>\n      <td>-</td>\n      <td>374</td>\n      <td>71.3</td>\n      <td>374.0</td>\n      <td>19.1</td>\n    </tr>\n    <tr>\n      <th>20830</th>\n      <td>79844</td>\n      <td>화이트 프로스트 L</td>\n      <td>음료</td>\n      <td>스무디</td>\n      <td></td>\n      <td>477</td>\n      <td>mL</td>\n      <td>-</td>\n      <td>476.5</td>\n      <td>82.6</td>\n      <td>476.5</td>\n      <td>17.3</td>\n    </tr>\n    <tr>\n      <th>20841</th>\n      <td>79855</td>\n      <td>믹스베리 프로스트 R</td>\n      <td>음료</td>\n      <td>스무디</td>\n      <td></td>\n      <td>395</td>\n      <td>mL</td>\n      <td>-</td>\n      <td>395</td>\n      <td>62.5</td>\n      <td>395.0</td>\n      <td>15.8</td>\n    </tr>\n    <tr>\n      <th>20842</th>\n      <td>79856</td>\n      <td>믹스베리 프로스트 L</td>\n      <td>음료</td>\n      <td>스무디</td>\n      <td></td>\n      <td>520</td>\n      <td>mL</td>\n      <td>-</td>\n      <td>520</td>\n      <td>88.1</td>\n      <td>520.0</td>\n      <td>16.9</td>\n    </tr>\n    <tr>\n      <th>20851</th>\n      <td>80031</td>\n      <td>로얄 밀크티 쉐이크</td>\n      <td>음료</td>\n      <td>스무디</td>\n      <td></td>\n      <td>395</td>\n      <td>mL</td>\n      <td>-</td>\n      <td>395</td>\n      <td>33.0</td>\n      <td>395.0</td>\n      <td>8.4</td>\n    </tr>\n    <tr>\n      <th>20856</th>\n      <td>80072</td>\n      <td>요거 프라페 R</td>\n      <td>음료</td>\n      <td>스무디</td>\n      <td></td>\n      <td>420</td>\n      <td>mL</td>\n      <td>-</td>\n      <td>420</td>\n      <td>43.0</td>\n      <td>420.0</td>\n      <td>10.2</td>\n    </tr>\n    <tr>\n      <th>20857</th>\n      <td>80073</td>\n      <td>요거 프라페 L</td>\n      <td>음료</td>\n      <td>스무디</td>\n      <td></td>\n      <td>480</td>\n      <td>mL</td>\n      <td>-</td>\n      <td>480</td>\n      <td>49.0</td>\n      <td>480.0</td>\n      <td>10.2</td>\n    </tr>\n    <tr>\n      <th>20864</th>\n      <td>80280</td>\n      <td>마녀 그라니따</td>\n      <td>음료</td>\n      <td>스무디</td>\n      <td></td>\n      <td>374</td>\n      <td>mL</td>\n      <td>-</td>\n      <td>374</td>\n      <td>62.9</td>\n      <td>374.0</td>\n      <td>16.8</td>\n    </tr>\n    <tr>\n      <th>20866</th>\n      <td>80291</td>\n      <td>흑당 펄 밀크 그라니따</td>\n      <td>음료</td>\n      <td>스무디</td>\n      <td></td>\n      <td>430</td>\n      <td>mL</td>\n      <td>-</td>\n      <td>430</td>\n      <td>59.3</td>\n      <td>430.0</td>\n      <td>13.8</td>\n    </tr>\n    <tr>\n      <th>20882</th>\n      <td>81048</td>\n      <td>밀크 쉐이크</td>\n      <td>음료</td>\n      <td>스무디</td>\n      <td></td>\n      <td>300</td>\n      <td>mL</td>\n      <td>-</td>\n      <td>300</td>\n      <td>36.0</td>\n      <td>300.0</td>\n      <td>12.0</td>\n    </tr>\n    <tr>\n      <th>20886</th>\n      <td>81097</td>\n      <td>와츄원 쉐이크</td>\n      <td>음료</td>\n      <td>스무디</td>\n      <td></td>\n      <td>300</td>\n      <td>mL</td>\n      <td>-</td>\n      <td>300</td>\n      <td>48.0</td>\n      <td>300.0</td>\n      <td>16.0</td>\n    </tr>\n    <tr>\n      <th>20905</th>\n      <td>81309</td>\n      <td>타로 스무디 (ice)L</td>\n      <td>음료</td>\n      <td>스무디</td>\n      <td></td>\n      <td>454</td>\n      <td>mL</td>\n      <td>-</td>\n      <td>454</td>\n      <td>45.9</td>\n      <td>454.0</td>\n      <td>10.1</td>\n    </tr>\n    <tr>\n      <th>20915</th>\n      <td>81385</td>\n      <td>제주 까망 크림 프라푸치노</td>\n      <td>음료</td>\n      <td>스무디</td>\n      <td></td>\n      <td>355</td>\n      <td>mL</td>\n      <td>-</td>\n      <td>355</td>\n      <td>79.0</td>\n      <td>355.0</td>\n      <td>22.3</td>\n    </tr>\n    <tr>\n      <th>20917</th>\n      <td>81387</td>\n      <td>제주 쑥떡 크림 프라푸치노</td>\n      <td>음료</td>\n      <td>스무디</td>\n      <td></td>\n      <td>355</td>\n      <td>mL</td>\n      <td>-</td>\n      <td>355</td>\n      <td>57.0</td>\n      <td>355.0</td>\n      <td>16.1</td>\n    </tr>\n    <tr>\n      <th>20921</th>\n      <td>81391</td>\n      <td>화이트 타이거 프라푸치노</td>\n      <td>음료</td>\n      <td>스무디</td>\n      <td></td>\n      <td>355</td>\n      <td>mL</td>\n      <td>-</td>\n      <td>355</td>\n      <td>57.0</td>\n      <td>355.0</td>\n      <td>16.1</td>\n    </tr>\n    <tr>\n      <th>20926</th>\n      <td>81396</td>\n      <td>익스트림 티 블렌디드</td>\n      <td>음료</td>\n      <td>스무디</td>\n      <td></td>\n      <td>355</td>\n      <td>mL</td>\n      <td>-</td>\n      <td>355</td>\n      <td>45.0</td>\n      <td>355.0</td>\n      <td>12.7</td>\n    </tr>\n    <tr>\n      <th>20930</th>\n      <td>81698</td>\n      <td>폭탄프라페</td>\n      <td>음료</td>\n      <td>스무디</td>\n      <td></td>\n      <td>100</td>\n      <td>mL</td>\n      <td>-</td>\n      <td>100</td>\n      <td>13.6</td>\n      <td>100.0</td>\n      <td>13.6</td>\n    </tr>\n    <tr>\n      <th>20937</th>\n      <td>81738</td>\n      <td>버블 밀크티 쉐이크</td>\n      <td>음료</td>\n      <td>스무디</td>\n      <td></td>\n      <td>400</td>\n      <td>mL</td>\n      <td>-</td>\n      <td>400</td>\n      <td>52.0</td>\n      <td>400.0</td>\n      <td>13.0</td>\n    </tr>\n    <tr>\n      <th>20938</th>\n      <td>81739</td>\n      <td>버블 베리 쉐이크</td>\n      <td>음료</td>\n      <td>스무디</td>\n      <td></td>\n      <td>400</td>\n      <td>mL</td>\n      <td>-</td>\n      <td>400</td>\n      <td>50.0</td>\n      <td>400.0</td>\n      <td>12.5</td>\n    </tr>\n    <tr>\n      <th>20949</th>\n      <td>81853</td>\n      <td>오리진 쉐이크</td>\n      <td>음료</td>\n      <td>스무디</td>\n      <td></td>\n      <td>400</td>\n      <td>mL</td>\n      <td>-</td>\n      <td>400</td>\n      <td>42.0</td>\n      <td>400.0</td>\n      <td>10.5</td>\n    </tr>\n    <tr>\n      <th>20958</th>\n      <td>82108</td>\n      <td>원조빽스치노(BASIC)</td>\n      <td>음료</td>\n      <td>스무디</td>\n      <td></td>\n      <td>625</td>\n      <td>mL</td>\n      <td>-</td>\n      <td>625</td>\n      <td>72.0</td>\n      <td>625.0</td>\n      <td>11.5</td>\n    </tr>\n    <tr>\n      <th>20959</th>\n      <td>82109</td>\n      <td>원조빽스치노(SOFT)</td>\n      <td>음료</td>\n      <td>스무디</td>\n      <td></td>\n      <td>765</td>\n      <td>mL</td>\n      <td>-</td>\n      <td>765</td>\n      <td>85.0</td>\n      <td>765.0</td>\n      <td>11.1</td>\n    </tr>\n    <tr>\n      <th>35581</th>\n      <td>29256</td>\n      <td>레드 스무디</td>\n      <td>음료</td>\n      <td>스무디</td>\n      <td></td>\n      <td>350</td>\n      <td>mL</td>\n      <td>350</td>\n      <td>-</td>\n      <td>39.0</td>\n      <td>350.0</td>\n      <td>11.1</td>\n    </tr>\n    <tr>\n      <th>35756</th>\n      <td>29969</td>\n      <td>옐로우 스무디</td>\n      <td>음료</td>\n      <td>스무디</td>\n      <td></td>\n      <td>350</td>\n      <td>mL</td>\n      <td>350</td>\n      <td>-</td>\n      <td>43.0</td>\n      <td>350.0</td>\n      <td>12.3</td>\n    </tr>\n    <tr>\n      <th>36443</th>\n      <td>50408</td>\n      <td>베어벨스(BAREBELLS) 프로틴 밀크쉐이크 바나나향</td>\n      <td>음료</td>\n      <td>스무디</td>\n      <td></td>\n      <td>330</td>\n      <td>g</td>\n      <td>330</td>\n      <td>-</td>\n      <td>12.0</td>\n      <td>330.0</td>\n      <td>3.6</td>\n    </tr>\n    <tr>\n      <th>36648</th>\n      <td>56888</td>\n      <td>넛츠쉐이크</td>\n      <td>음료</td>\n      <td>스무디</td>\n      <td></td>\n      <td>180</td>\n      <td>g</td>\n      <td>180</td>\n      <td>-</td>\n      <td>6.0</td>\n      <td>180.0</td>\n      <td>3.3</td>\n    </tr>\n    <tr>\n      <th>36849</th>\n      <td>62988</td>\n      <td>레드 스무디</td>\n      <td>음료</td>\n      <td>스무디</td>\n      <td></td>\n      <td>350</td>\n      <td>g</td>\n      <td>350</td>\n      <td>-</td>\n      <td>43.0</td>\n      <td>350.0</td>\n      <td>12.3</td>\n    </tr>\n    <tr>\n      <th>36873</th>\n      <td>63017</td>\n      <td>스무디 레드</td>\n      <td>음료</td>\n      <td>스무디</td>\n      <td></td>\n      <td>350</td>\n      <td>g</td>\n      <td>350</td>\n      <td>-</td>\n      <td>39.0</td>\n      <td>350.0</td>\n      <td>11.1</td>\n    </tr>\n    <tr>\n      <th>36874</th>\n      <td>63018</td>\n      <td>스무디 옐로우</td>\n      <td>음료</td>\n      <td>스무디</td>\n      <td></td>\n      <td>350</td>\n      <td>g</td>\n      <td>350</td>\n      <td>-</td>\n      <td>43.0</td>\n      <td>350.0</td>\n      <td>12.3</td>\n    </tr>\n    <tr>\n      <th>36886</th>\n      <td>63032</td>\n      <td>옐로우 스무디</td>\n      <td>음료</td>\n      <td>스무디</td>\n      <td></td>\n      <td>350</td>\n      <td>g</td>\n      <td>350</td>\n      <td>-</td>\n      <td>43.0</td>\n      <td>350.0</td>\n      <td>12.3</td>\n    </tr>\n  </tbody>\n</table>\n</div>"
     },
     "execution_count": 3047,
     "metadata": {},
     "output_type": "execute_result"
    }
   ],
   "source": [
    "sheet.loc[(sheet['대분류'] == '음료') & (sheet['중분류'] == '스무디'), '소분류'] = \"\"\n",
    "\n",
    "카카오스무디 = ['카카오']\n",
    "바닐라스무디 = ['바닐라']\n",
    "딸기스무디 = ['딸기', '스트로베리']\n",
    "망고스무디 = ['망고']\n",
    "베리스무디 = ['크랜베리', '블루베리']\n",
    "아보카도스무디 = ['아보카도']\n",
    "멜론스무디 = ['멜론', '메론']\n",
    "복숭아스무디 = ['복숭아', '피치']\n",
    "수박스무디 = ['수박']\n",
    "청포도스무디 = ['청포도']\n",
    "깔라만시스무디 = ['깔라만시']\n",
    "유자스무디 = ['유자']\n",
    "키위스무디 = ['키위']\n",
    "자몽스무디 = ['자몽']\n",
    "자바칩스무디 = ['자바칩', '자바 칩']\n",
    "쿠앤크스무디 = ['쿠앤크', '오레오', '쿠키']\n",
    "초코스무디 = ['초코', '초콜릿']\n",
    "카라멜스무디 = ['카라멜', '캬라멜']\n",
    "오곡스무디 = ['오곡']\n",
    "쌀스무디 = ['쌀']\n",
    "피넛버터스무디 = ['피넛', '피넛버터', '피넛 버터']\n",
    "피스타치오스무디 = ['피스타치오']\n",
    "녹차스무디 = ['말차', '녹차', '그린티', '그린 티', '그린']\n",
    "커피스무디 = ['에스프레소', '커피']\n",
    "민트스무디 = ['민트']\n",
    "고구마스무디 = ['고구마']\n",
    "요거트스무디 = ['플레인', '요거트']\n",
    "치즈스무디 = ['치즈']\n",
    "\n",
    "스무디종류 = {\n",
    "\"카카오스무디\": 카카오스무디,\n",
    "\"바닐라스무디\": 바닐라스무디,\n",
    "\"딸기스무디\": 딸기스무디,\n",
    "\"망고스무디\": 망고스무디,\n",
    "\"베리스무디\": 베리스무디,\n",
    "\"아보카도스무디\": 아보카도스무디,\n",
    "\"멜론스무디\": 멜론스무디,\n",
    "\"복숭아스무디\": 복숭아스무디,\n",
    "\"수박스무디\": 수박스무디,\n",
    "\"청포도스무디\": 청포도스무디,\n",
    "\"깔라만시스무디\": 깔라만시스무디,\n",
    "\"유자스무디\": 유자스무디,\n",
    "\"키위스무디\": 키위스무디,\n",
    "\"자몽스무디\": 자몽스무디,\n",
    "\"자바칩스무디\": 자바칩스무디,\n",
    "\"쿠앤크스무디\": 쿠앤크스무디,\n",
    "\"카라멜스무디\": 카라멜스무디,\n",
    "\"오곡스무디\": 오곡스무디,\n",
    "\"쌀스무디\": 쌀스무디,\n",
    "\"피넛버터스무디\": 피넛버터스무디,\n",
    "\"피스타치오스무디\": 피스타치오스무디,\n",
    "\"녹차스무디\": 녹차스무디,\n",
    "\"커피스무디\": 커피스무디,\n",
    "\"민트스무디\": 민트스무디,\n",
    "\"고구마스무디\": 고구마스무디,\n",
    "\"요거트스무디\": 요거트스무디,\n",
    "\"초코스무디\":초코스무디,\n",
    "\"치즈스무디\":치즈스무디\n",
    "}\n",
    "\n",
    "seperated_category('스무디', 스무디종류)\n",
    "\n",
    "sheet[(sheet['중분류'] == '스무디') & (sheet['소분류'] == \"\")]"
   ],
   "metadata": {
    "collapsed": false,
    "pycharm": {
     "name": "#%%\n"
    }
   }
  },
  {
   "cell_type": "code",
   "execution_count": 3048,
   "outputs": [
    {
     "name": "stdout",
     "output_type": "stream",
     "text": [
      "{'고구마스무디': 2,\n",
      " '깔라만시스무디': 2,\n",
      " '녹차스무디': 23,\n",
      " '딸기스무디': 19,\n",
      " '망고스무디': 10,\n",
      " '민트스무디': 3,\n",
      " '바닐라스무디': 11,\n",
      " '베리스무디': 3,\n",
      " '복숭아스무디': 4,\n",
      " '수박스무디': 2,\n",
      " '쌀스무디': 1,\n",
      " '아보카도스무디': 2,\n",
      " '오곡스무디': 3,\n",
      " '요거트스무디': 38,\n",
      " '유자스무디': 2,\n",
      " '자몽스무디': 1,\n",
      " '자바칩스무디': 6,\n",
      " '청포도스무디': 2,\n",
      " '초코스무디': 25,\n",
      " '치즈스무디': 9,\n",
      " '카라멜스무디': 10,\n",
      " '카카오스무디': 2,\n",
      " '커피스무디': 10,\n",
      " '쿠앤크스무디': 4,\n",
      " '키위스무디': 2,\n",
      " '피넛버터스무디': 3,\n",
      " '피스타치오스무디': 2}\n"
     ]
    }
   ],
   "source": [
    "erase = list(sheet.loc[(sheet['중분류'] == '스무디') & (sheet['소분류'] == ''), :].index)\n",
    "\n",
    "for value in erase:\n",
    "    sheet = sheet.drop(value, axis=0)\n",
    "\n",
    "minimal_smoo_category = list(sheet.loc[sheet['중분류'] == '스무디', '소분류'].unique())\n",
    "b_dict = {}\n",
    "for value in minimal_smoo_category:\n",
    "    b_dict[value] = len(sheet.loc[(sheet['중분류'] == '스무디') & (sheet['소분류'] == value), :])\n",
    "\n",
    "pp.pprint(b_dict)"
   ],
   "metadata": {
    "collapsed": false,
    "pycharm": {
     "name": "#%%\n"
    }
   }
  },
  {
   "cell_type": "code",
   "execution_count": 3049,
   "outputs": [
    {
     "name": "stdout",
     "output_type": "stream",
     "text": [
      "'카카오스무디 : 6.5'\n",
      "'딸기스무디 : 13.65'\n",
      "'녹차스무디 : 10.02'\n",
      "'망고스무디 : 13.77'\n",
      "'아보카도스무디 : 7.8'\n",
      "'요거트스무디 : 13.72'\n",
      "'카라멜스무디 : 11.11'\n",
      "'초코스무디 : 9.35'\n",
      "'피넛버터스무디 : 11.1'\n",
      "'치즈스무디 : 11.91'\n",
      "'쿠앤크스무디 : 12.43'\n",
      "'오곡스무디 : 13.33'\n",
      "'커피스무디 : 7.84'\n",
      "'복숭아스무디 : 14.68'\n",
      "'바닐라스무디 : 9.43'\n",
      "'자바칩스무디 : 12.98'\n",
      "'수박스무디 : 36.95'\n",
      "'청포도스무디 : 20.6'\n",
      "'깔라만시스무디 : 15.8'\n",
      "'베리스무디 : 13.37'\n",
      "'고구마스무디 : 11.8'\n",
      "'유자스무디 : 16.55'\n",
      "'키위스무디 : 15.95'\n",
      "'민트스무디 : 13.97'\n",
      "'쌀스무디 : 9.3'\n",
      "'자몽스무디 : 14.4'\n",
      "'피스타치오스무디 : 2.5'\n"
     ]
    }
   ],
   "source": [
    "스무디_카테고리 = list(b_dict)\n",
    "\n",
    "for 카테고리 in 스무디_카테고리:\n",
    "    비율시트 = sheet.loc[(sheet['중분류'] == '스무디') & (sheet['소분류'] == 카테고리), :]['단위용량 대비 설탕 비율']\n",
    "\n",
    "\n",
    "    pp.pprint(f'{카테고리} : {average_ratio(비율시트)}')"
   ],
   "metadata": {
    "collapsed": false,
    "pycharm": {
     "name": "#%%\n"
    }
   }
  },
  {
   "cell_type": "code",
   "execution_count": 3050,
   "outputs": [
    {
     "data": {
      "text/plain": "          No                식품명 대분류  중분류     소분류  1회 제공량  용량 총내용량(g) 총내용량(ml)  \\\n1332   29679        성수동 스무디 카카오  음료  스무디  카카오스무디     230  mL     230        -   \n1722   31660  아임리얼 스무디 마이 스트로베리  음료  스무디   딸기스무디     100  mL     700        -   \n2070   54979  아임리얼 스무디 마이 스트로베리  음료  스무디   딸기스무디     190   g     190        -   \n2192   57576        성수동 스무디 카카오  음료  스무디  카카오스무디     230   g     230        -   \n2568   14809           슈퍼스무디 그린  음료  스무디   녹차스무디     250  mL       -      250   \n...      ...                ...  ..  ...     ...     ...  ..     ...      ...   \n36647  56887          넛츠 쉐이크 초코  음료  스무디   초코스무디     180   g     180        -   \n36861  63001              그린스무디  음료  스무디   녹차스무디     350   g     350        -   \n36872  63016             스무디 그린  음료  스무디   녹차스무디     350   g     350        -   \n37001  64983     퍼펙트 파워쉐이크 바닐라향  음료  스무디  바닐라스무디     275   g     275        -   \n37002  64984   퍼펙트 파워쉐이크 초코바나나맛  음료  스무디   초코스무디     275   g     275        -   \n\n       총당류(g)   총내용량  단위용량 대비 설탕 비율  \n1332     15.0  230.0            6.5  \n1722     10.0  700.0           10.0  \n2070     18.0  190.0            9.5  \n2192     15.0  230.0            6.5  \n2568     33.0  250.0           13.2  \n...       ...    ...            ...  \n36647     9.0  180.0            5.0  \n36861    31.0  350.0            8.9  \n36872    43.0  350.0           12.3  \n37001    13.0  275.0            4.7  \n37002    12.0  275.0            4.4  \n\n[201 rows x 12 columns]",
      "text/html": "<div>\n<style scoped>\n    .dataframe tbody tr th:only-of-type {\n        vertical-align: middle;\n    }\n\n    .dataframe tbody tr th {\n        vertical-align: top;\n    }\n\n    .dataframe thead th {\n        text-align: right;\n    }\n</style>\n<table border=\"1\" class=\"dataframe\">\n  <thead>\n    <tr style=\"text-align: right;\">\n      <th></th>\n      <th>No</th>\n      <th>식품명</th>\n      <th>대분류</th>\n      <th>중분류</th>\n      <th>소분류</th>\n      <th>1회 제공량</th>\n      <th>용량</th>\n      <th>총내용량(g)</th>\n      <th>총내용량(ml)</th>\n      <th>총당류(g)</th>\n      <th>총내용량</th>\n      <th>단위용량 대비 설탕 비율</th>\n    </tr>\n  </thead>\n  <tbody>\n    <tr>\n      <th>1332</th>\n      <td>29679</td>\n      <td>성수동 스무디 카카오</td>\n      <td>음료</td>\n      <td>스무디</td>\n      <td>카카오스무디</td>\n      <td>230</td>\n      <td>mL</td>\n      <td>230</td>\n      <td>-</td>\n      <td>15.0</td>\n      <td>230.0</td>\n      <td>6.5</td>\n    </tr>\n    <tr>\n      <th>1722</th>\n      <td>31660</td>\n      <td>아임리얼 스무디 마이 스트로베리</td>\n      <td>음료</td>\n      <td>스무디</td>\n      <td>딸기스무디</td>\n      <td>100</td>\n      <td>mL</td>\n      <td>700</td>\n      <td>-</td>\n      <td>10.0</td>\n      <td>700.0</td>\n      <td>10.0</td>\n    </tr>\n    <tr>\n      <th>2070</th>\n      <td>54979</td>\n      <td>아임리얼 스무디 마이 스트로베리</td>\n      <td>음료</td>\n      <td>스무디</td>\n      <td>딸기스무디</td>\n      <td>190</td>\n      <td>g</td>\n      <td>190</td>\n      <td>-</td>\n      <td>18.0</td>\n      <td>190.0</td>\n      <td>9.5</td>\n    </tr>\n    <tr>\n      <th>2192</th>\n      <td>57576</td>\n      <td>성수동 스무디 카카오</td>\n      <td>음료</td>\n      <td>스무디</td>\n      <td>카카오스무디</td>\n      <td>230</td>\n      <td>g</td>\n      <td>230</td>\n      <td>-</td>\n      <td>15.0</td>\n      <td>230.0</td>\n      <td>6.5</td>\n    </tr>\n    <tr>\n      <th>2568</th>\n      <td>14809</td>\n      <td>슈퍼스무디 그린</td>\n      <td>음료</td>\n      <td>스무디</td>\n      <td>녹차스무디</td>\n      <td>250</td>\n      <td>mL</td>\n      <td>-</td>\n      <td>250</td>\n      <td>33.0</td>\n      <td>250.0</td>\n      <td>13.2</td>\n    </tr>\n    <tr>\n      <th>...</th>\n      <td>...</td>\n      <td>...</td>\n      <td>...</td>\n      <td>...</td>\n      <td>...</td>\n      <td>...</td>\n      <td>...</td>\n      <td>...</td>\n      <td>...</td>\n      <td>...</td>\n      <td>...</td>\n      <td>...</td>\n    </tr>\n    <tr>\n      <th>36647</th>\n      <td>56887</td>\n      <td>넛츠 쉐이크 초코</td>\n      <td>음료</td>\n      <td>스무디</td>\n      <td>초코스무디</td>\n      <td>180</td>\n      <td>g</td>\n      <td>180</td>\n      <td>-</td>\n      <td>9.0</td>\n      <td>180.0</td>\n      <td>5.0</td>\n    </tr>\n    <tr>\n      <th>36861</th>\n      <td>63001</td>\n      <td>그린스무디</td>\n      <td>음료</td>\n      <td>스무디</td>\n      <td>녹차스무디</td>\n      <td>350</td>\n      <td>g</td>\n      <td>350</td>\n      <td>-</td>\n      <td>31.0</td>\n      <td>350.0</td>\n      <td>8.9</td>\n    </tr>\n    <tr>\n      <th>36872</th>\n      <td>63016</td>\n      <td>스무디 그린</td>\n      <td>음료</td>\n      <td>스무디</td>\n      <td>녹차스무디</td>\n      <td>350</td>\n      <td>g</td>\n      <td>350</td>\n      <td>-</td>\n      <td>43.0</td>\n      <td>350.0</td>\n      <td>12.3</td>\n    </tr>\n    <tr>\n      <th>37001</th>\n      <td>64983</td>\n      <td>퍼펙트 파워쉐이크 바닐라향</td>\n      <td>음료</td>\n      <td>스무디</td>\n      <td>바닐라스무디</td>\n      <td>275</td>\n      <td>g</td>\n      <td>275</td>\n      <td>-</td>\n      <td>13.0</td>\n      <td>275.0</td>\n      <td>4.7</td>\n    </tr>\n    <tr>\n      <th>37002</th>\n      <td>64984</td>\n      <td>퍼펙트 파워쉐이크 초코바나나맛</td>\n      <td>음료</td>\n      <td>스무디</td>\n      <td>초코스무디</td>\n      <td>275</td>\n      <td>g</td>\n      <td>275</td>\n      <td>-</td>\n      <td>12.0</td>\n      <td>275.0</td>\n      <td>4.4</td>\n    </tr>\n  </tbody>\n</table>\n<p>201 rows × 12 columns</p>\n</div>"
     },
     "execution_count": 3050,
     "metadata": {},
     "output_type": "execute_result"
    }
   ],
   "source": [
    "sheet[sheet['중분류'] == '스무디']"
   ],
   "metadata": {
    "collapsed": false,
    "pycharm": {
     "name": "#%%\n"
    }
   }
  },
  {
   "cell_type": "code",
   "execution_count": 3051,
   "outputs": [
    {
     "data": {
      "text/plain": "          No             식품명 대분류   중분류    소분류  1회 제공량  용량 총내용량(g) 총내용량(ml)  \\\n1367   29874   아이밀 유기농 이온의 샘  음료  이온음료  과/채음료     140  mL     140        -   \n1413   30121     자연은 워터젤로 딸기  음료  이온음료  과/채음료     100  mL     100        -   \n1414   30122     자연은 워터젤로 망고  음료  이온음료  과/채음료     100  mL     100        -   \n1768   40148       크랜베리워터드링크  음료  이온음료  과/채음료     100  mL       -     1000   \n1846   45696        코코넛워터 망고  음료  이온음료  과/채음료     100  mL       -     1000   \n...      ...             ...  ..   ...    ...     ...  ..     ...      ...   \n37162  67228     데일리라이프 이온워터  음료  이온음료   혼합음료     200   g    1500        -   \n37166  67232          마일드 워터  음료  이온음료   혼합음료     200   g    1500        -   \n37172  67239  소프트 워터 상큼한 복숭아  음료  이온음료   혼합음료     200   g     500        -   \n37175  67244        에너지워터 레몬  음료  이온음료   혼합음료     200   g     500        -   \n37206  67959       썬키스트 레몬워터  음료  이온음료   혼합음료     500   g     500        -   \n\n       총당류(g)    총내용량  단위용량 대비 설탕 비율  \n1367     11.0   140.0            7.9  \n1413     11.0   100.0           11.0  \n1414     11.0   100.0           11.0  \n1768     11.5  1000.0           11.5  \n1846      5.0  1000.0            5.0  \n...       ...     ...            ...  \n37162    15.0  1500.0            7.5  \n37166    12.0  1500.0            6.0  \n37172    14.0   500.0            7.0  \n37175    11.0   500.0            5.5  \n37206    17.0   500.0            3.4  \n\n[164 rows x 12 columns]",
      "text/html": "<div>\n<style scoped>\n    .dataframe tbody tr th:only-of-type {\n        vertical-align: middle;\n    }\n\n    .dataframe tbody tr th {\n        vertical-align: top;\n    }\n\n    .dataframe thead th {\n        text-align: right;\n    }\n</style>\n<table border=\"1\" class=\"dataframe\">\n  <thead>\n    <tr style=\"text-align: right;\">\n      <th></th>\n      <th>No</th>\n      <th>식품명</th>\n      <th>대분류</th>\n      <th>중분류</th>\n      <th>소분류</th>\n      <th>1회 제공량</th>\n      <th>용량</th>\n      <th>총내용량(g)</th>\n      <th>총내용량(ml)</th>\n      <th>총당류(g)</th>\n      <th>총내용량</th>\n      <th>단위용량 대비 설탕 비율</th>\n    </tr>\n  </thead>\n  <tbody>\n    <tr>\n      <th>1367</th>\n      <td>29874</td>\n      <td>아이밀 유기농 이온의 샘</td>\n      <td>음료</td>\n      <td>이온음료</td>\n      <td>과/채음료</td>\n      <td>140</td>\n      <td>mL</td>\n      <td>140</td>\n      <td>-</td>\n      <td>11.0</td>\n      <td>140.0</td>\n      <td>7.9</td>\n    </tr>\n    <tr>\n      <th>1413</th>\n      <td>30121</td>\n      <td>자연은 워터젤로 딸기</td>\n      <td>음료</td>\n      <td>이온음료</td>\n      <td>과/채음료</td>\n      <td>100</td>\n      <td>mL</td>\n      <td>100</td>\n      <td>-</td>\n      <td>11.0</td>\n      <td>100.0</td>\n      <td>11.0</td>\n    </tr>\n    <tr>\n      <th>1414</th>\n      <td>30122</td>\n      <td>자연은 워터젤로 망고</td>\n      <td>음료</td>\n      <td>이온음료</td>\n      <td>과/채음료</td>\n      <td>100</td>\n      <td>mL</td>\n      <td>100</td>\n      <td>-</td>\n      <td>11.0</td>\n      <td>100.0</td>\n      <td>11.0</td>\n    </tr>\n    <tr>\n      <th>1768</th>\n      <td>40148</td>\n      <td>크랜베리워터드링크</td>\n      <td>음료</td>\n      <td>이온음료</td>\n      <td>과/채음료</td>\n      <td>100</td>\n      <td>mL</td>\n      <td>-</td>\n      <td>1000</td>\n      <td>11.5</td>\n      <td>1000.0</td>\n      <td>11.5</td>\n    </tr>\n    <tr>\n      <th>1846</th>\n      <td>45696</td>\n      <td>코코넛워터 망고</td>\n      <td>음료</td>\n      <td>이온음료</td>\n      <td>과/채음료</td>\n      <td>100</td>\n      <td>mL</td>\n      <td>-</td>\n      <td>1000</td>\n      <td>5.0</td>\n      <td>1000.0</td>\n      <td>5.0</td>\n    </tr>\n    <tr>\n      <th>...</th>\n      <td>...</td>\n      <td>...</td>\n      <td>...</td>\n      <td>...</td>\n      <td>...</td>\n      <td>...</td>\n      <td>...</td>\n      <td>...</td>\n      <td>...</td>\n      <td>...</td>\n      <td>...</td>\n      <td>...</td>\n    </tr>\n    <tr>\n      <th>37162</th>\n      <td>67228</td>\n      <td>데일리라이프 이온워터</td>\n      <td>음료</td>\n      <td>이온음료</td>\n      <td>혼합음료</td>\n      <td>200</td>\n      <td>g</td>\n      <td>1500</td>\n      <td>-</td>\n      <td>15.0</td>\n      <td>1500.0</td>\n      <td>7.5</td>\n    </tr>\n    <tr>\n      <th>37166</th>\n      <td>67232</td>\n      <td>마일드 워터</td>\n      <td>음료</td>\n      <td>이온음료</td>\n      <td>혼합음료</td>\n      <td>200</td>\n      <td>g</td>\n      <td>1500</td>\n      <td>-</td>\n      <td>12.0</td>\n      <td>1500.0</td>\n      <td>6.0</td>\n    </tr>\n    <tr>\n      <th>37172</th>\n      <td>67239</td>\n      <td>소프트 워터 상큼한 복숭아</td>\n      <td>음료</td>\n      <td>이온음료</td>\n      <td>혼합음료</td>\n      <td>200</td>\n      <td>g</td>\n      <td>500</td>\n      <td>-</td>\n      <td>14.0</td>\n      <td>500.0</td>\n      <td>7.0</td>\n    </tr>\n    <tr>\n      <th>37175</th>\n      <td>67244</td>\n      <td>에너지워터 레몬</td>\n      <td>음료</td>\n      <td>이온음료</td>\n      <td>혼합음료</td>\n      <td>200</td>\n      <td>g</td>\n      <td>500</td>\n      <td>-</td>\n      <td>11.0</td>\n      <td>500.0</td>\n      <td>5.5</td>\n    </tr>\n    <tr>\n      <th>37206</th>\n      <td>67959</td>\n      <td>썬키스트 레몬워터</td>\n      <td>음료</td>\n      <td>이온음료</td>\n      <td>혼합음료</td>\n      <td>500</td>\n      <td>g</td>\n      <td>500</td>\n      <td>-</td>\n      <td>17.0</td>\n      <td>500.0</td>\n      <td>3.4</td>\n    </tr>\n  </tbody>\n</table>\n<p>164 rows × 12 columns</p>\n</div>"
     },
     "execution_count": 3051,
     "metadata": {},
     "output_type": "execute_result"
    }
   ],
   "source": [
    "sheet[sheet['중분류'] == '이온음료']"
   ],
   "metadata": {
    "collapsed": false,
    "pycharm": {
     "name": "#%%\n"
    }
   }
  },
  {
   "cell_type": "code",
   "execution_count": 3052,
   "outputs": [
    {
     "data": {
      "text/plain": "          No             식품명 대분류   중분류 소분류  1회 제공량  용량 총내용량(g) 총내용량(ml)  \\\n1367   29874   아이밀 유기농 이온의 샘  음료  이온음료         140  mL     140        -   \n1768   40148       크랜베리워터드링크  음료  이온음료         100  mL       -     1000   \n5030   83580        슈퍼베리워터주스  음료  이온음료         300  mL       -      300   \n24506  14964        밀키스요하이워터  음료  이온음료         500  mL       -      500   \n35353   8870          포카리스웨트  음료  이온음료         200  mL       -      500   \n...      ...             ...  ..   ...  ..     ...  ..     ...      ...   \n37159  67225  데일리라이프 이온워터 블루  음료  이온음료         200   g    1500        -   \n37162  67228     데일리라이프 이온워터  음료  이온음료         200   g    1500        -   \n37166  67232          마일드 워터  음료  이온음료         200   g    1500        -   \n37175  67244        에너지워터 레몬  음료  이온음료         200   g     500        -   \n37206  67959       썬키스트 레몬워터  음료  이온음료         500   g     500        -   \n\n       총당류(g)    총내용량  단위용량 대비 설탕 비율  \n1367     11.0   140.0            7.9  \n1768     11.5  1000.0           11.5  \n5030     15.0   300.0            5.0  \n24506    37.0   500.0            7.4  \n35353    12.0   500.0            6.0  \n...       ...     ...            ...  \n37159    11.0  1500.0            5.5  \n37162    15.0  1500.0            7.5  \n37166    12.0  1500.0            6.0  \n37175    11.0   500.0            5.5  \n37206    17.0   500.0            3.4  \n\n[88 rows x 12 columns]",
      "text/html": "<div>\n<style scoped>\n    .dataframe tbody tr th:only-of-type {\n        vertical-align: middle;\n    }\n\n    .dataframe tbody tr th {\n        vertical-align: top;\n    }\n\n    .dataframe thead th {\n        text-align: right;\n    }\n</style>\n<table border=\"1\" class=\"dataframe\">\n  <thead>\n    <tr style=\"text-align: right;\">\n      <th></th>\n      <th>No</th>\n      <th>식품명</th>\n      <th>대분류</th>\n      <th>중분류</th>\n      <th>소분류</th>\n      <th>1회 제공량</th>\n      <th>용량</th>\n      <th>총내용량(g)</th>\n      <th>총내용량(ml)</th>\n      <th>총당류(g)</th>\n      <th>총내용량</th>\n      <th>단위용량 대비 설탕 비율</th>\n    </tr>\n  </thead>\n  <tbody>\n    <tr>\n      <th>1367</th>\n      <td>29874</td>\n      <td>아이밀 유기농 이온의 샘</td>\n      <td>음료</td>\n      <td>이온음료</td>\n      <td></td>\n      <td>140</td>\n      <td>mL</td>\n      <td>140</td>\n      <td>-</td>\n      <td>11.0</td>\n      <td>140.0</td>\n      <td>7.9</td>\n    </tr>\n    <tr>\n      <th>1768</th>\n      <td>40148</td>\n      <td>크랜베리워터드링크</td>\n      <td>음료</td>\n      <td>이온음료</td>\n      <td></td>\n      <td>100</td>\n      <td>mL</td>\n      <td>-</td>\n      <td>1000</td>\n      <td>11.5</td>\n      <td>1000.0</td>\n      <td>11.5</td>\n    </tr>\n    <tr>\n      <th>5030</th>\n      <td>83580</td>\n      <td>슈퍼베리워터주스</td>\n      <td>음료</td>\n      <td>이온음료</td>\n      <td></td>\n      <td>300</td>\n      <td>mL</td>\n      <td>-</td>\n      <td>300</td>\n      <td>15.0</td>\n      <td>300.0</td>\n      <td>5.0</td>\n    </tr>\n    <tr>\n      <th>24506</th>\n      <td>14964</td>\n      <td>밀키스요하이워터</td>\n      <td>음료</td>\n      <td>이온음료</td>\n      <td></td>\n      <td>500</td>\n      <td>mL</td>\n      <td>-</td>\n      <td>500</td>\n      <td>37.0</td>\n      <td>500.0</td>\n      <td>7.4</td>\n    </tr>\n    <tr>\n      <th>35353</th>\n      <td>8870</td>\n      <td>포카리스웨트</td>\n      <td>음료</td>\n      <td>이온음료</td>\n      <td></td>\n      <td>200</td>\n      <td>mL</td>\n      <td>-</td>\n      <td>500</td>\n      <td>12.0</td>\n      <td>500.0</td>\n      <td>6.0</td>\n    </tr>\n    <tr>\n      <th>...</th>\n      <td>...</td>\n      <td>...</td>\n      <td>...</td>\n      <td>...</td>\n      <td>...</td>\n      <td>...</td>\n      <td>...</td>\n      <td>...</td>\n      <td>...</td>\n      <td>...</td>\n      <td>...</td>\n      <td>...</td>\n    </tr>\n    <tr>\n      <th>37159</th>\n      <td>67225</td>\n      <td>데일리라이프 이온워터 블루</td>\n      <td>음료</td>\n      <td>이온음료</td>\n      <td></td>\n      <td>200</td>\n      <td>g</td>\n      <td>1500</td>\n      <td>-</td>\n      <td>11.0</td>\n      <td>1500.0</td>\n      <td>5.5</td>\n    </tr>\n    <tr>\n      <th>37162</th>\n      <td>67228</td>\n      <td>데일리라이프 이온워터</td>\n      <td>음료</td>\n      <td>이온음료</td>\n      <td></td>\n      <td>200</td>\n      <td>g</td>\n      <td>1500</td>\n      <td>-</td>\n      <td>15.0</td>\n      <td>1500.0</td>\n      <td>7.5</td>\n    </tr>\n    <tr>\n      <th>37166</th>\n      <td>67232</td>\n      <td>마일드 워터</td>\n      <td>음료</td>\n      <td>이온음료</td>\n      <td></td>\n      <td>200</td>\n      <td>g</td>\n      <td>1500</td>\n      <td>-</td>\n      <td>12.0</td>\n      <td>1500.0</td>\n      <td>6.0</td>\n    </tr>\n    <tr>\n      <th>37175</th>\n      <td>67244</td>\n      <td>에너지워터 레몬</td>\n      <td>음료</td>\n      <td>이온음료</td>\n      <td></td>\n      <td>200</td>\n      <td>g</td>\n      <td>500</td>\n      <td>-</td>\n      <td>11.0</td>\n      <td>500.0</td>\n      <td>5.5</td>\n    </tr>\n    <tr>\n      <th>37206</th>\n      <td>67959</td>\n      <td>썬키스트 레몬워터</td>\n      <td>음료</td>\n      <td>이온음료</td>\n      <td></td>\n      <td>500</td>\n      <td>g</td>\n      <td>500</td>\n      <td>-</td>\n      <td>17.0</td>\n      <td>500.0</td>\n      <td>3.4</td>\n    </tr>\n  </tbody>\n</table>\n<p>88 rows × 12 columns</p>\n</div>"
     },
     "execution_count": 3052,
     "metadata": {},
     "output_type": "execute_result"
    }
   ],
   "source": [
    "sheet.loc[(sheet['대분류'] == '음료') & (sheet['중분류'] == '이온음료'), '소분류'] = \"\"\n",
    "\n",
    "과일 = ['딸기', '망고', '크렌베리', '코코넛', '멜론', '망고', '사과', '애플', '오렌지', '창포도', '포도', '복숭아']\n",
    "기성품 = ['이프로', '포카리', '토레타', '비타민', '워터', '아쿠아', '이온', '아미노']\n",
    "\n",
    "딸기이온음료 = ['딸기', '스트로베리']\n",
    "망고이온음료 = ['망고']\n",
    "크랜베리이온음료 = ['크렌베리']\n",
    "블루베리이온음료 = ['블루베리']\n",
    "코코넛이온음료 = ['코코넛']\n",
    "멜론이온음료 = ['멜론']\n",
    "망고이온음료 = ['망고']\n",
    "사과이온음료 = ['사과', '애플']\n",
    "오렌지이온음료 = ['오렌지']\n",
    "청포도이온음료 = ['청포도']\n",
    "포도이온음료  = ['포도']\n",
    "복숭아이온음료 = ['복숭아', '피치']\n",
    "\n",
    "이온음료종류 = {\n",
    "\"딸기이온음료\":딸기이온음료,\n",
    "\"망고이온음료\":망고이온음료,\n",
    "\"크랜베리이온음료\":크랜베리이온음료,\n",
    "\"블루베리이온음료\":블루베리이온음료,\n",
    "\"코코넛이온음료\":코코넛이온음료,\n",
    "\"멜론이온음료\":멜론이온음료,\n",
    "\"망고이온음료\":망고이온음료,\n",
    "\"사과이온음료\":사과이온음료,\n",
    "\"오렌지이온음료\":오렌지이온음료,\n",
    "\"청포도이온음료\":청포도이온음료,\n",
    "\"포도이온음료\":포도이온음료,\n",
    "\"복숭아이온음료\":복숭아이온음료,\n",
    "}\n",
    "\n",
    "seperated_category('이온음료', 이온음료종류)\n",
    "\n",
    "sheet[(sheet['중분류'] == '이온음료') & (sheet['소분류'] == \"\")]"
   ],
   "metadata": {
    "collapsed": false,
    "pycharm": {
     "name": "#%%\n"
    }
   }
  },
  {
   "cell_type": "code",
   "execution_count": 3053,
   "outputs": [
    {
     "data": {
      "text/plain": "          No                  식품명 대분류      중분류    소분류  1회 제공량 용량 총내용량(g)  \\\n877    10826               고려원인삼차  음료  인삼/홍삼음료    고형차       3  g     300   \n904    10853                  인삼차  음료  인삼/홍삼음료    고형차       3  g     300   \n905    10854           시리얼 홍삼 천마차  음료  인삼/홍삼음료    고형차      20  g     200   \n1169   17275     터닝메카드음료(사과&배,홍삼)  음료  인삼/홍삼음료  과/채음료     220  g     220   \n1170   17276  터닝메카드음료(블루베리&포도,홍삼)  음료  인삼/홍삼음료  과/채음료     220  g     220   \n...      ...                  ...  ..      ...    ...     ... ..     ...   \n36924  63271         Woongjin 꿀홍삼  음료  인삼/홍삼음료   혼합음료     180  g     180   \n37048  65632          엘뉴트리 키즈홍삼스틱  음료  인삼/홍삼음료   혼합음료      20  g     600   \n37130  66726               궁중발효홍삼  음료  인삼/홍삼음료   혼합음료     100  g     100   \n37131  66727             6년근고려진홍삼  음료  인삼/홍삼음료   혼합음료      70  g      70   \n37134  66731                고려진홍삼  음료  인삼/홍삼음료   혼합음료      60  g      60   \n\n      총내용량(ml)  총당류(g)   총내용량  단위용량 대비 설탕 비율  \n877          -    2.85  300.0           95.0  \n904          -    2.70  300.0           90.0  \n905          -    2.00  200.0           10.0  \n1169         -   28.00  220.0           12.7  \n1170         -   26.00  220.0           11.8  \n...        ...     ...    ...            ...  \n36924        -   33.00  180.0           18.3  \n37048        -    3.00  600.0           15.0  \n37130        -    4.00  100.0            4.0  \n37131        -    6.00   70.0            8.6  \n37134        -    5.00   60.0            8.3  \n\n[102 rows x 12 columns]",
      "text/html": "<div>\n<style scoped>\n    .dataframe tbody tr th:only-of-type {\n        vertical-align: middle;\n    }\n\n    .dataframe tbody tr th {\n        vertical-align: top;\n    }\n\n    .dataframe thead th {\n        text-align: right;\n    }\n</style>\n<table border=\"1\" class=\"dataframe\">\n  <thead>\n    <tr style=\"text-align: right;\">\n      <th></th>\n      <th>No</th>\n      <th>식품명</th>\n      <th>대분류</th>\n      <th>중분류</th>\n      <th>소분류</th>\n      <th>1회 제공량</th>\n      <th>용량</th>\n      <th>총내용량(g)</th>\n      <th>총내용량(ml)</th>\n      <th>총당류(g)</th>\n      <th>총내용량</th>\n      <th>단위용량 대비 설탕 비율</th>\n    </tr>\n  </thead>\n  <tbody>\n    <tr>\n      <th>877</th>\n      <td>10826</td>\n      <td>고려원인삼차</td>\n      <td>음료</td>\n      <td>인삼/홍삼음료</td>\n      <td>고형차</td>\n      <td>3</td>\n      <td>g</td>\n      <td>300</td>\n      <td>-</td>\n      <td>2.85</td>\n      <td>300.0</td>\n      <td>95.0</td>\n    </tr>\n    <tr>\n      <th>904</th>\n      <td>10853</td>\n      <td>인삼차</td>\n      <td>음료</td>\n      <td>인삼/홍삼음료</td>\n      <td>고형차</td>\n      <td>3</td>\n      <td>g</td>\n      <td>300</td>\n      <td>-</td>\n      <td>2.70</td>\n      <td>300.0</td>\n      <td>90.0</td>\n    </tr>\n    <tr>\n      <th>905</th>\n      <td>10854</td>\n      <td>시리얼 홍삼 천마차</td>\n      <td>음료</td>\n      <td>인삼/홍삼음료</td>\n      <td>고형차</td>\n      <td>20</td>\n      <td>g</td>\n      <td>200</td>\n      <td>-</td>\n      <td>2.00</td>\n      <td>200.0</td>\n      <td>10.0</td>\n    </tr>\n    <tr>\n      <th>1169</th>\n      <td>17275</td>\n      <td>터닝메카드음료(사과&amp;배,홍삼)</td>\n      <td>음료</td>\n      <td>인삼/홍삼음료</td>\n      <td>과/채음료</td>\n      <td>220</td>\n      <td>g</td>\n      <td>220</td>\n      <td>-</td>\n      <td>28.00</td>\n      <td>220.0</td>\n      <td>12.7</td>\n    </tr>\n    <tr>\n      <th>1170</th>\n      <td>17276</td>\n      <td>터닝메카드음료(블루베리&amp;포도,홍삼)</td>\n      <td>음료</td>\n      <td>인삼/홍삼음료</td>\n      <td>과/채음료</td>\n      <td>220</td>\n      <td>g</td>\n      <td>220</td>\n      <td>-</td>\n      <td>26.00</td>\n      <td>220.0</td>\n      <td>11.8</td>\n    </tr>\n    <tr>\n      <th>...</th>\n      <td>...</td>\n      <td>...</td>\n      <td>...</td>\n      <td>...</td>\n      <td>...</td>\n      <td>...</td>\n      <td>...</td>\n      <td>...</td>\n      <td>...</td>\n      <td>...</td>\n      <td>...</td>\n      <td>...</td>\n    </tr>\n    <tr>\n      <th>36924</th>\n      <td>63271</td>\n      <td>Woongjin 꿀홍삼</td>\n      <td>음료</td>\n      <td>인삼/홍삼음료</td>\n      <td>혼합음료</td>\n      <td>180</td>\n      <td>g</td>\n      <td>180</td>\n      <td>-</td>\n      <td>33.00</td>\n      <td>180.0</td>\n      <td>18.3</td>\n    </tr>\n    <tr>\n      <th>37048</th>\n      <td>65632</td>\n      <td>엘뉴트리 키즈홍삼스틱</td>\n      <td>음료</td>\n      <td>인삼/홍삼음료</td>\n      <td>혼합음료</td>\n      <td>20</td>\n      <td>g</td>\n      <td>600</td>\n      <td>-</td>\n      <td>3.00</td>\n      <td>600.0</td>\n      <td>15.0</td>\n    </tr>\n    <tr>\n      <th>37130</th>\n      <td>66726</td>\n      <td>궁중발효홍삼</td>\n      <td>음료</td>\n      <td>인삼/홍삼음료</td>\n      <td>혼합음료</td>\n      <td>100</td>\n      <td>g</td>\n      <td>100</td>\n      <td>-</td>\n      <td>4.00</td>\n      <td>100.0</td>\n      <td>4.0</td>\n    </tr>\n    <tr>\n      <th>37131</th>\n      <td>66727</td>\n      <td>6년근고려진홍삼</td>\n      <td>음료</td>\n      <td>인삼/홍삼음료</td>\n      <td>혼합음료</td>\n      <td>70</td>\n      <td>g</td>\n      <td>70</td>\n      <td>-</td>\n      <td>6.00</td>\n      <td>70.0</td>\n      <td>8.6</td>\n    </tr>\n    <tr>\n      <th>37134</th>\n      <td>66731</td>\n      <td>고려진홍삼</td>\n      <td>음료</td>\n      <td>인삼/홍삼음료</td>\n      <td>혼합음료</td>\n      <td>60</td>\n      <td>g</td>\n      <td>60</td>\n      <td>-</td>\n      <td>5.00</td>\n      <td>60.0</td>\n      <td>8.3</td>\n    </tr>\n  </tbody>\n</table>\n<p>102 rows × 12 columns</p>\n</div>"
     },
     "execution_count": 3053,
     "metadata": {},
     "output_type": "execute_result"
    }
   ],
   "source": [
    "sheet[sheet['중분류'] == '인삼/홍삼음료']"
   ],
   "metadata": {
    "collapsed": false,
    "pycharm": {
     "name": "#%%\n"
    }
   }
  },
  {
   "cell_type": "code",
   "execution_count": 3054,
   "outputs": [],
   "source": [
    "비율시트 = sheet.loc[(sheet['중분류'] == '인삼/홍삼음료') & (sheet['소분류'] == '고형차'), :]['단위용량 대비 설탕 비율']\n",
    "sheet.loc[(sheet['소분류'] == '고형차') & (sheet['중분류'] == '인삼/홍삼음료'), '소분류'] = '분말'\n",
    "sheet.loc[(sheet['대분류'] == '음료') & (sheet['중분류'] == '인삼/홍삼음료'), '소분류'] = \"\"\n",
    "# sheet.loc[(sheet['소분류'] == '고형차') & (sheet['중분류'] == '과/채음료'), '설탕비율의 소분류 평균값'] = average_ratio(비율시트)"
   ],
   "metadata": {
    "collapsed": false,
    "pycharm": {
     "name": "#%%\n"
    }
   }
  },
  {
   "cell_type": "code",
   "execution_count": 3055,
   "outputs": [
    {
     "data": {
      "text/plain": "Empty DataFrame\nColumns: [No, 식품명, 대분류, 중분류, 소분류, 1회 제공량, 용량, 총내용량(g), 총내용량(ml), 총당류(g), 총내용량, 단위용량 대비 설탕 비율]\nIndex: []",
      "text/html": "<div>\n<style scoped>\n    .dataframe tbody tr th:only-of-type {\n        vertical-align: middle;\n    }\n\n    .dataframe tbody tr th {\n        vertical-align: top;\n    }\n\n    .dataframe thead th {\n        text-align: right;\n    }\n</style>\n<table border=\"1\" class=\"dataframe\">\n  <thead>\n    <tr style=\"text-align: right;\">\n      <th></th>\n      <th>No</th>\n      <th>식품명</th>\n      <th>대분류</th>\n      <th>중분류</th>\n      <th>소분류</th>\n      <th>1회 제공량</th>\n      <th>용량</th>\n      <th>총내용량(g)</th>\n      <th>총내용량(ml)</th>\n      <th>총당류(g)</th>\n      <th>총내용량</th>\n      <th>단위용량 대비 설탕 비율</th>\n    </tr>\n  </thead>\n  <tbody>\n  </tbody>\n</table>\n</div>"
     },
     "execution_count": 3055,
     "metadata": {},
     "output_type": "execute_result"
    }
   ],
   "source": [
    "인삼음료 = ['인삼']\n",
    "홍삼음료 = ['홍삼', '활기력']\n",
    "\n",
    "인삼홍삼음료종류 = {\n",
    "    \"인삼음료\":인삼음료,\n",
    "    \"홍삼음료\":홍삼음료,\n",
    "}\n",
    "\n",
    "seperated_category('인삼/홍삼음료', 인삼홍삼음료종류, (sheet['소분류'] != '분말'))\n",
    "\n",
    "sheet[(sheet['중분류'] == '인삼/홍삼음료') & (sheet['소분류'] == \"\")]"
   ],
   "metadata": {
    "collapsed": false,
    "pycharm": {
     "name": "#%%\n"
    }
   }
  },
  {
   "cell_type": "code",
   "execution_count": 3056,
   "outputs": [
    {
     "name": "stdout",
     "output_type": "stream",
     "text": [
      "{'인삼음료': 6, '홍삼음료': 96}\n"
     ]
    }
   ],
   "source": [
    "minimal_zin_category = list(sheet.loc[sheet['중분류'] == '인삼/홍삼음료', '소분류'].unique())\n",
    "b_dict = {}\n",
    "for value in minimal_zin_category:\n",
    "    b_dict[value] = len(sheet.loc[(sheet['중분류'] == '인삼/홍삼음료') & (sheet['소분류'] == value), :])\n",
    "\n",
    "pp.pprint(b_dict)"
   ],
   "metadata": {
    "collapsed": false,
    "pycharm": {
     "name": "#%%\n"
    }
   }
  },
  {
   "cell_type": "code",
   "execution_count": 3057,
   "outputs": [
    {
     "data": {
      "text/plain": "          No               식품명 대분류 중분류    소분류  1회 제공량  용량 총내용량(g) 총내용량(ml)  \\\n1077   16132       쁘띠첼 워터젤리 포도  음료  젤리  과/채음료     130  mL       -      130   \n1095   16152      쁘띠첼 워터젤리 복숭아  음료  젤리  과/채음료     130  mL       -      130   \n1113   16170          워터젤리 청포도  음료  젤리  과/채음료     170  mL       -      170   \n1117   16174   쁘띠첼 워터젤리 플러스 포도  음료  젤리  과/채음료     170  mL       -      170   \n1129   16187       쁘띠첼 워터젤리 사과  음료  젤리  과/채음료     130  mL       -      130   \n...      ...               ...  ..  ..    ...     ...  ..     ...      ...   \n36796  60918            타트체리젤리  음료  젤리   혼합음료      20   g     600        -   \n37028  65559  몸이 반한 곤약 젤리 청포도맛  음료  젤리   혼합음료     130   g     130        -   \n37029  65563   몸이반한 곤약젤리(복숭아맛)  음료  젤리   혼합음료     130   g     130        -   \n37030  65564    몸이반한 곤약젤리(사과맛)  음료  젤리   혼합음료     130   g     130        -   \n37031  65569       감귤이 반한 곤약젤리  음료  젤리   혼합음료     130   g     130        -   \n\n       총당류(g)   총내용량  단위용량 대비 설탕 비율  \n1077     13.0  130.0           10.0  \n1095     15.0  130.0           11.5  \n1113     30.0  170.0           17.6  \n1117     19.0  170.0           11.2  \n1129     12.0  130.0            9.2  \n...       ...    ...            ...  \n36796     5.5  600.0           27.5  \n37028     7.0  130.0            5.4  \n37029     7.0  130.0            5.4  \n37030     7.0  130.0            5.4  \n37031     4.0  130.0            3.1  \n\n[113 rows x 12 columns]",
      "text/html": "<div>\n<style scoped>\n    .dataframe tbody tr th:only-of-type {\n        vertical-align: middle;\n    }\n\n    .dataframe tbody tr th {\n        vertical-align: top;\n    }\n\n    .dataframe thead th {\n        text-align: right;\n    }\n</style>\n<table border=\"1\" class=\"dataframe\">\n  <thead>\n    <tr style=\"text-align: right;\">\n      <th></th>\n      <th>No</th>\n      <th>식품명</th>\n      <th>대분류</th>\n      <th>중분류</th>\n      <th>소분류</th>\n      <th>1회 제공량</th>\n      <th>용량</th>\n      <th>총내용량(g)</th>\n      <th>총내용량(ml)</th>\n      <th>총당류(g)</th>\n      <th>총내용량</th>\n      <th>단위용량 대비 설탕 비율</th>\n    </tr>\n  </thead>\n  <tbody>\n    <tr>\n      <th>1077</th>\n      <td>16132</td>\n      <td>쁘띠첼 워터젤리 포도</td>\n      <td>음료</td>\n      <td>젤리</td>\n      <td>과/채음료</td>\n      <td>130</td>\n      <td>mL</td>\n      <td>-</td>\n      <td>130</td>\n      <td>13.0</td>\n      <td>130.0</td>\n      <td>10.0</td>\n    </tr>\n    <tr>\n      <th>1095</th>\n      <td>16152</td>\n      <td>쁘띠첼 워터젤리 복숭아</td>\n      <td>음료</td>\n      <td>젤리</td>\n      <td>과/채음료</td>\n      <td>130</td>\n      <td>mL</td>\n      <td>-</td>\n      <td>130</td>\n      <td>15.0</td>\n      <td>130.0</td>\n      <td>11.5</td>\n    </tr>\n    <tr>\n      <th>1113</th>\n      <td>16170</td>\n      <td>워터젤리 청포도</td>\n      <td>음료</td>\n      <td>젤리</td>\n      <td>과/채음료</td>\n      <td>170</td>\n      <td>mL</td>\n      <td>-</td>\n      <td>170</td>\n      <td>30.0</td>\n      <td>170.0</td>\n      <td>17.6</td>\n    </tr>\n    <tr>\n      <th>1117</th>\n      <td>16174</td>\n      <td>쁘띠첼 워터젤리 플러스 포도</td>\n      <td>음료</td>\n      <td>젤리</td>\n      <td>과/채음료</td>\n      <td>170</td>\n      <td>mL</td>\n      <td>-</td>\n      <td>170</td>\n      <td>19.0</td>\n      <td>170.0</td>\n      <td>11.2</td>\n    </tr>\n    <tr>\n      <th>1129</th>\n      <td>16187</td>\n      <td>쁘띠첼 워터젤리 사과</td>\n      <td>음료</td>\n      <td>젤리</td>\n      <td>과/채음료</td>\n      <td>130</td>\n      <td>mL</td>\n      <td>-</td>\n      <td>130</td>\n      <td>12.0</td>\n      <td>130.0</td>\n      <td>9.2</td>\n    </tr>\n    <tr>\n      <th>...</th>\n      <td>...</td>\n      <td>...</td>\n      <td>...</td>\n      <td>...</td>\n      <td>...</td>\n      <td>...</td>\n      <td>...</td>\n      <td>...</td>\n      <td>...</td>\n      <td>...</td>\n      <td>...</td>\n      <td>...</td>\n    </tr>\n    <tr>\n      <th>36796</th>\n      <td>60918</td>\n      <td>타트체리젤리</td>\n      <td>음료</td>\n      <td>젤리</td>\n      <td>혼합음료</td>\n      <td>20</td>\n      <td>g</td>\n      <td>600</td>\n      <td>-</td>\n      <td>5.5</td>\n      <td>600.0</td>\n      <td>27.5</td>\n    </tr>\n    <tr>\n      <th>37028</th>\n      <td>65559</td>\n      <td>몸이 반한 곤약 젤리 청포도맛</td>\n      <td>음료</td>\n      <td>젤리</td>\n      <td>혼합음료</td>\n      <td>130</td>\n      <td>g</td>\n      <td>130</td>\n      <td>-</td>\n      <td>7.0</td>\n      <td>130.0</td>\n      <td>5.4</td>\n    </tr>\n    <tr>\n      <th>37029</th>\n      <td>65563</td>\n      <td>몸이반한 곤약젤리(복숭아맛)</td>\n      <td>음료</td>\n      <td>젤리</td>\n      <td>혼합음료</td>\n      <td>130</td>\n      <td>g</td>\n      <td>130</td>\n      <td>-</td>\n      <td>7.0</td>\n      <td>130.0</td>\n      <td>5.4</td>\n    </tr>\n    <tr>\n      <th>37030</th>\n      <td>65564</td>\n      <td>몸이반한 곤약젤리(사과맛)</td>\n      <td>음료</td>\n      <td>젤리</td>\n      <td>혼합음료</td>\n      <td>130</td>\n      <td>g</td>\n      <td>130</td>\n      <td>-</td>\n      <td>7.0</td>\n      <td>130.0</td>\n      <td>5.4</td>\n    </tr>\n    <tr>\n      <th>37031</th>\n      <td>65569</td>\n      <td>감귤이 반한 곤약젤리</td>\n      <td>음료</td>\n      <td>젤리</td>\n      <td>혼합음료</td>\n      <td>130</td>\n      <td>g</td>\n      <td>130</td>\n      <td>-</td>\n      <td>4.0</td>\n      <td>130.0</td>\n      <td>3.1</td>\n    </tr>\n  </tbody>\n</table>\n<p>113 rows × 12 columns</p>\n</div>"
     },
     "execution_count": 3057,
     "metadata": {},
     "output_type": "execute_result"
    }
   ],
   "source": [
    "sheet[(sheet['중분류'] == '젤리') & (sheet['대분류'] == '음료')]"
   ],
   "metadata": {
    "collapsed": false,
    "pycharm": {
     "name": "#%%\n"
    }
   }
  },
  {
   "cell_type": "code",
   "execution_count": 3058,
   "outputs": [
    {
     "data": {
      "text/plain": "          No              식품명 대분류 중분류 소분류  1회 제공량  용량 총내용량(g) 총내용량(ml)  \\\n1445   30382   프레시워터젤리 푸룬&화이바  음료  젤리         130  mL     130        -   \n2088   55247   프레시워터젤리 푸룬&화이바  음료  젤리         130   g     130        -   \n35872  30395  플래티넘 비트콜라겐 젤리스틱  음료  젤리          20  mL      20        -   \n35929  30681        리얼히비스커스젤리  음료  젤리          20  mL     600        -   \n36245  46703    유기농 ABC 뷰티 젤리  음료  젤리          25   g     350        -   \n36475  51639  플래티넘 비트콜라겐 젤리스틱  음료  젤리          30   g     600        -   \n36793  60915        상아탱탱콜라겐젤리  음료  젤리          20   g     600        -   \n36796  60918           타트체리젤리  음료  젤리          20   g     600        -   \n\n       총당류(g)   총내용량  단위용량 대비 설탕 비율  \n1445     2.00  130.0            1.5  \n2088     2.00  130.0            1.5  \n35872    4.08   20.0           20.4  \n35929    4.00  600.0           20.0  \n36245   11.00  350.0           44.0  \n36475    4.08  600.0           13.6  \n36793    3.68  600.0           18.4  \n36796    5.50  600.0           27.5  ",
      "text/html": "<div>\n<style scoped>\n    .dataframe tbody tr th:only-of-type {\n        vertical-align: middle;\n    }\n\n    .dataframe tbody tr th {\n        vertical-align: top;\n    }\n\n    .dataframe thead th {\n        text-align: right;\n    }\n</style>\n<table border=\"1\" class=\"dataframe\">\n  <thead>\n    <tr style=\"text-align: right;\">\n      <th></th>\n      <th>No</th>\n      <th>식품명</th>\n      <th>대분류</th>\n      <th>중분류</th>\n      <th>소분류</th>\n      <th>1회 제공량</th>\n      <th>용량</th>\n      <th>총내용량(g)</th>\n      <th>총내용량(ml)</th>\n      <th>총당류(g)</th>\n      <th>총내용량</th>\n      <th>단위용량 대비 설탕 비율</th>\n    </tr>\n  </thead>\n  <tbody>\n    <tr>\n      <th>1445</th>\n      <td>30382</td>\n      <td>프레시워터젤리 푸룬&amp;화이바</td>\n      <td>음료</td>\n      <td>젤리</td>\n      <td></td>\n      <td>130</td>\n      <td>mL</td>\n      <td>130</td>\n      <td>-</td>\n      <td>2.00</td>\n      <td>130.0</td>\n      <td>1.5</td>\n    </tr>\n    <tr>\n      <th>2088</th>\n      <td>55247</td>\n      <td>프레시워터젤리 푸룬&amp;화이바</td>\n      <td>음료</td>\n      <td>젤리</td>\n      <td></td>\n      <td>130</td>\n      <td>g</td>\n      <td>130</td>\n      <td>-</td>\n      <td>2.00</td>\n      <td>130.0</td>\n      <td>1.5</td>\n    </tr>\n    <tr>\n      <th>35872</th>\n      <td>30395</td>\n      <td>플래티넘 비트콜라겐 젤리스틱</td>\n      <td>음료</td>\n      <td>젤리</td>\n      <td></td>\n      <td>20</td>\n      <td>mL</td>\n      <td>20</td>\n      <td>-</td>\n      <td>4.08</td>\n      <td>20.0</td>\n      <td>20.4</td>\n    </tr>\n    <tr>\n      <th>35929</th>\n      <td>30681</td>\n      <td>리얼히비스커스젤리</td>\n      <td>음료</td>\n      <td>젤리</td>\n      <td></td>\n      <td>20</td>\n      <td>mL</td>\n      <td>600</td>\n      <td>-</td>\n      <td>4.00</td>\n      <td>600.0</td>\n      <td>20.0</td>\n    </tr>\n    <tr>\n      <th>36245</th>\n      <td>46703</td>\n      <td>유기농 ABC 뷰티 젤리</td>\n      <td>음료</td>\n      <td>젤리</td>\n      <td></td>\n      <td>25</td>\n      <td>g</td>\n      <td>350</td>\n      <td>-</td>\n      <td>11.00</td>\n      <td>350.0</td>\n      <td>44.0</td>\n    </tr>\n    <tr>\n      <th>36475</th>\n      <td>51639</td>\n      <td>플래티넘 비트콜라겐 젤리스틱</td>\n      <td>음료</td>\n      <td>젤리</td>\n      <td></td>\n      <td>30</td>\n      <td>g</td>\n      <td>600</td>\n      <td>-</td>\n      <td>4.08</td>\n      <td>600.0</td>\n      <td>13.6</td>\n    </tr>\n    <tr>\n      <th>36793</th>\n      <td>60915</td>\n      <td>상아탱탱콜라겐젤리</td>\n      <td>음료</td>\n      <td>젤리</td>\n      <td></td>\n      <td>20</td>\n      <td>g</td>\n      <td>600</td>\n      <td>-</td>\n      <td>3.68</td>\n      <td>600.0</td>\n      <td>18.4</td>\n    </tr>\n    <tr>\n      <th>36796</th>\n      <td>60918</td>\n      <td>타트체리젤리</td>\n      <td>음료</td>\n      <td>젤리</td>\n      <td></td>\n      <td>20</td>\n      <td>g</td>\n      <td>600</td>\n      <td>-</td>\n      <td>5.50</td>\n      <td>600.0</td>\n      <td>27.5</td>\n    </tr>\n  </tbody>\n</table>\n</div>"
     },
     "execution_count": 3058,
     "metadata": {},
     "output_type": "execute_result"
    }
   ],
   "source": [
    "sheet.loc[(sheet['대분류'] == '음료') & (sheet['중분류'] == '젤리'), '소분류'] = \"\"\n",
    "\n",
    "딸기젤리음료 = [\"딸기\", '스트로베리']\n",
    "망고젤리음료 = ['망고']\n",
    "크렌베리젤리음료 = ['크랜베리']\n",
    "코코넛젤리음료 = ['코코넛']\n",
    "멜론젤리음료 = ['멜론']\n",
    "사과젤리음료 = ['사과', '애플']\n",
    "오렌지젤리음료 = ['오렌지']\n",
    "포도젤리음료 = ['포도']\n",
    "청포도젤리음료 = ['청포도']\n",
    "복숭아젤리음료 = ['복숭아', '피치']\n",
    "감젤리음료 = ['밀감', '감']\n",
    "자몽젤리음료 = ['자몽']\n",
    "석류젤리음료 = ['석류']\n",
    "자두젤리음료 = ['자두']\n",
    "곤약음료 = ['곤약']\n",
    "\n",
    "젤리음료종류 = {\n",
    "    \"딸기젤리음료\":딸기젤리음료,\n",
    "    \"망고젤리음료\":망고젤리음료,\n",
    "    \"크렌베리젤리음료\":크렌베리젤리음료,\n",
    "    \"코코넛젤리음료\":코코넛젤리음료,\n",
    "    \"멜론젤리음료\":멜론젤리음료,\n",
    "    \"사과젤리음료\":사과젤리음료,\n",
    "    \"오렌지젤리음료\":오렌지젤리음료,\n",
    "    \"포도젤리음료\":포도젤리음료,\n",
    "    \"청포도젤리음료\":청포도젤리음료,\n",
    "    \"복숭아젤리음료\":복숭아젤리음료,\n",
    "    \"감젤리음료\":감젤리음료,\n",
    "    \"자몽젤리음료\":자몽젤리음료,\n",
    "    \"석류젤리음료\":석류젤리음료,\n",
    "    \"자두젤리음료\":자두젤리음료,\n",
    "    \"곤약음료\":곤약음료,\n",
    "}\n",
    "\n",
    "seperated_category('젤리', 젤리음료종류)\n",
    "\n",
    "sheet[(sheet['중분류'] == '젤리') & (sheet['소분류'] == \"\")]"
   ],
   "metadata": {
    "collapsed": false,
    "pycharm": {
     "name": "#%%\n"
    }
   }
  },
  {
   "cell_type": "code",
   "execution_count": 3059,
   "outputs": [
    {
     "name": "stdout",
     "output_type": "stream",
     "text": [
      "{'감젤리음료': 51,\n",
      " '곤약음료': 36,\n",
      " '딸기젤리음료': 67,\n",
      " '망고젤리음료': 57,\n",
      " '복숭아젤리음료': 88,\n",
      " '사과젤리음료': 84,\n",
      " '석류젤리음료': 33,\n",
      " '오렌지젤리음료': 24,\n",
      " '자두젤리음료': 6,\n",
      " '자몽젤리음료': 17,\n",
      " '청포도젤리음료': 17,\n",
      " '포도젤리음료': 75}\n"
     ]
    }
   ],
   "source": [
    "erase = list(sheet.loc[(sheet['중분류'] == '젤리') & (sheet['소분류'] == ''), :].index)\n",
    "\n",
    "for value in erase:\n",
    "    sheet = sheet.drop(value, axis=0)\n",
    "\n",
    "minimal_j_category = list(sheet.loc[(sheet['중분류'] == '젤리') & (sheet['대분류'] == '음료'), '소분류'].unique())\n",
    "j_dict = {}\n",
    "for value in minimal_j_category:\n",
    "    j_dict[value] = len(sheet.loc[(sheet['중분류'] == '젤리') & (sheet['소분류'] == value), :])\n",
    "\n",
    "pp.pprint(j_dict)"
   ],
   "metadata": {
    "collapsed": false,
    "pycharm": {
     "name": "#%%\n"
    }
   }
  },
  {
   "cell_type": "code",
   "execution_count": 3060,
   "outputs": [
    {
     "data": {
      "text/plain": "          No               식품명 대분류 중분류      소분류  1회 제공량  용량 총내용량(g) 총내용량(ml)  \\\n1077   16132       쁘띠첼 워터젤리 포도  음료  젤리   포도젤리음료     130  mL       -      130   \n1095   16152      쁘띠첼 워터젤리 복숭아  음료  젤리  복숭아젤리음료     130  mL       -      130   \n1113   16170          워터젤리 청포도  음료  젤리  청포도젤리음료     170  mL       -      170   \n1117   16174   쁘띠첼 워터젤리 플러스 포도  음료  젤리   포도젤리음료     170  mL       -      170   \n1129   16187       쁘띠첼 워터젤리 사과  음료  젤리   사과젤리음료     130  mL       -      130   \n...      ...               ...  ..  ..      ...     ...  ..     ...      ...   \n36790  60910         미스핏상아석류젤리  음료  젤리   석류젤리음료      20   g     600        -   \n37028  65559  몸이 반한 곤약 젤리 청포도맛  음료  젤리     곤약음료     130   g     130        -   \n37029  65563   몸이반한 곤약젤리(복숭아맛)  음료  젤리     곤약음료     130   g     130        -   \n37030  65564    몸이반한 곤약젤리(사과맛)  음료  젤리     곤약음료     130   g     130        -   \n37031  65569       감귤이 반한 곤약젤리  음료  젤리     곤약음료     130   g     130        -   \n\n       총당류(g)   총내용량  단위용량 대비 설탕 비율  \n1077    13.00  130.0           10.0  \n1095    15.00  130.0           11.5  \n1113    30.00  170.0           17.6  \n1117    19.00  170.0           11.2  \n1129    12.00  130.0            9.2  \n...       ...    ...            ...  \n36790    3.68  600.0           18.4  \n37028    7.00  130.0            5.4  \n37029    7.00  130.0            5.4  \n37030    7.00  130.0            5.4  \n37031    4.00  130.0            3.1  \n\n[105 rows x 12 columns]",
      "text/html": "<div>\n<style scoped>\n    .dataframe tbody tr th:only-of-type {\n        vertical-align: middle;\n    }\n\n    .dataframe tbody tr th {\n        vertical-align: top;\n    }\n\n    .dataframe thead th {\n        text-align: right;\n    }\n</style>\n<table border=\"1\" class=\"dataframe\">\n  <thead>\n    <tr style=\"text-align: right;\">\n      <th></th>\n      <th>No</th>\n      <th>식품명</th>\n      <th>대분류</th>\n      <th>중분류</th>\n      <th>소분류</th>\n      <th>1회 제공량</th>\n      <th>용량</th>\n      <th>총내용량(g)</th>\n      <th>총내용량(ml)</th>\n      <th>총당류(g)</th>\n      <th>총내용량</th>\n      <th>단위용량 대비 설탕 비율</th>\n    </tr>\n  </thead>\n  <tbody>\n    <tr>\n      <th>1077</th>\n      <td>16132</td>\n      <td>쁘띠첼 워터젤리 포도</td>\n      <td>음료</td>\n      <td>젤리</td>\n      <td>포도젤리음료</td>\n      <td>130</td>\n      <td>mL</td>\n      <td>-</td>\n      <td>130</td>\n      <td>13.00</td>\n      <td>130.0</td>\n      <td>10.0</td>\n    </tr>\n    <tr>\n      <th>1095</th>\n      <td>16152</td>\n      <td>쁘띠첼 워터젤리 복숭아</td>\n      <td>음료</td>\n      <td>젤리</td>\n      <td>복숭아젤리음료</td>\n      <td>130</td>\n      <td>mL</td>\n      <td>-</td>\n      <td>130</td>\n      <td>15.00</td>\n      <td>130.0</td>\n      <td>11.5</td>\n    </tr>\n    <tr>\n      <th>1113</th>\n      <td>16170</td>\n      <td>워터젤리 청포도</td>\n      <td>음료</td>\n      <td>젤리</td>\n      <td>청포도젤리음료</td>\n      <td>170</td>\n      <td>mL</td>\n      <td>-</td>\n      <td>170</td>\n      <td>30.00</td>\n      <td>170.0</td>\n      <td>17.6</td>\n    </tr>\n    <tr>\n      <th>1117</th>\n      <td>16174</td>\n      <td>쁘띠첼 워터젤리 플러스 포도</td>\n      <td>음료</td>\n      <td>젤리</td>\n      <td>포도젤리음료</td>\n      <td>170</td>\n      <td>mL</td>\n      <td>-</td>\n      <td>170</td>\n      <td>19.00</td>\n      <td>170.0</td>\n      <td>11.2</td>\n    </tr>\n    <tr>\n      <th>1129</th>\n      <td>16187</td>\n      <td>쁘띠첼 워터젤리 사과</td>\n      <td>음료</td>\n      <td>젤리</td>\n      <td>사과젤리음료</td>\n      <td>130</td>\n      <td>mL</td>\n      <td>-</td>\n      <td>130</td>\n      <td>12.00</td>\n      <td>130.0</td>\n      <td>9.2</td>\n    </tr>\n    <tr>\n      <th>...</th>\n      <td>...</td>\n      <td>...</td>\n      <td>...</td>\n      <td>...</td>\n      <td>...</td>\n      <td>...</td>\n      <td>...</td>\n      <td>...</td>\n      <td>...</td>\n      <td>...</td>\n      <td>...</td>\n      <td>...</td>\n    </tr>\n    <tr>\n      <th>36790</th>\n      <td>60910</td>\n      <td>미스핏상아석류젤리</td>\n      <td>음료</td>\n      <td>젤리</td>\n      <td>석류젤리음료</td>\n      <td>20</td>\n      <td>g</td>\n      <td>600</td>\n      <td>-</td>\n      <td>3.68</td>\n      <td>600.0</td>\n      <td>18.4</td>\n    </tr>\n    <tr>\n      <th>37028</th>\n      <td>65559</td>\n      <td>몸이 반한 곤약 젤리 청포도맛</td>\n      <td>음료</td>\n      <td>젤리</td>\n      <td>곤약음료</td>\n      <td>130</td>\n      <td>g</td>\n      <td>130</td>\n      <td>-</td>\n      <td>7.00</td>\n      <td>130.0</td>\n      <td>5.4</td>\n    </tr>\n    <tr>\n      <th>37029</th>\n      <td>65563</td>\n      <td>몸이반한 곤약젤리(복숭아맛)</td>\n      <td>음료</td>\n      <td>젤리</td>\n      <td>곤약음료</td>\n      <td>130</td>\n      <td>g</td>\n      <td>130</td>\n      <td>-</td>\n      <td>7.00</td>\n      <td>130.0</td>\n      <td>5.4</td>\n    </tr>\n    <tr>\n      <th>37030</th>\n      <td>65564</td>\n      <td>몸이반한 곤약젤리(사과맛)</td>\n      <td>음료</td>\n      <td>젤리</td>\n      <td>곤약음료</td>\n      <td>130</td>\n      <td>g</td>\n      <td>130</td>\n      <td>-</td>\n      <td>7.00</td>\n      <td>130.0</td>\n      <td>5.4</td>\n    </tr>\n    <tr>\n      <th>37031</th>\n      <td>65569</td>\n      <td>감귤이 반한 곤약젤리</td>\n      <td>음료</td>\n      <td>젤리</td>\n      <td>곤약음료</td>\n      <td>130</td>\n      <td>g</td>\n      <td>130</td>\n      <td>-</td>\n      <td>4.00</td>\n      <td>130.0</td>\n      <td>3.1</td>\n    </tr>\n  </tbody>\n</table>\n<p>105 rows × 12 columns</p>\n</div>"
     },
     "execution_count": 3060,
     "metadata": {},
     "output_type": "execute_result"
    }
   ],
   "source": [
    "sheet.loc[(sheet['중분류'] == '젤리') & (sheet['대분류'] == '음료'), :]"
   ],
   "metadata": {
    "collapsed": false,
    "pycharm": {
     "name": "#%%\n"
    }
   }
  },
  {
   "cell_type": "code",
   "execution_count": 3061,
   "outputs": [
    {
     "data": {
      "text/plain": "          No               식품명 대분류  중분류    소분류  1회 제공량  용량 총내용량(g) 총내용량(ml)  \\\n880    10829          모카복숭아맛홍차  음료  커피류    고형차     100   g     800        -   \n1770   40703               브루스  음료  커피류  과/채음료     100  mL       -      500   \n2493   67849               브루스  음료  커피류  과/채음료     500   g     500        -   \n20672  78946       아이스 모카 블렌디모  음료  커피류   스무디류     415  mL       -      415   \n20677  78951     아이스 민트모카 블렌디모  음료  커피류   스무디류     350  mL       -      350   \n...      ...               ...  ..  ...    ...     ...  ..     ...      ...   \n35600  29332  마이카페라떼 말차 아몬드브리즈  음료  커피류   혼합음료     220  mL     220        -   \n35626  29465        바닐라 라떼 아이스  음료  커피류   혼합음료     130  mL     130        -   \n36209  46194        바닐라 라떼 아이스  음료  커피류   혼합음료     130   g     130        -   \n36755  59664  마이카페라떼 말차 아몬드브리즈  음료  커피류   혼합음료     220   g     220        -   \n37142  66743           카페라떼 시럽  음료  커피류   혼합음료      40   g      40        -   \n\n       총당류(g)   총내용량  단위용량 대비 설탕 비율  \n880     90.43  800.0           90.4  \n1770     6.00  500.0            6.0  \n2493    30.00  500.0            6.0  \n20672   44.50  415.0           10.7  \n20677   23.20  350.0            6.6  \n...       ...    ...            ...  \n35600   15.00  220.0            6.8  \n35626   20.00  130.0           15.4  \n36209   20.00  130.0           15.4  \n36755   15.00  220.0            6.8  \n37142   13.00   40.0           32.5  \n\n[458 rows x 12 columns]",
      "text/html": "<div>\n<style scoped>\n    .dataframe tbody tr th:only-of-type {\n        vertical-align: middle;\n    }\n\n    .dataframe tbody tr th {\n        vertical-align: top;\n    }\n\n    .dataframe thead th {\n        text-align: right;\n    }\n</style>\n<table border=\"1\" class=\"dataframe\">\n  <thead>\n    <tr style=\"text-align: right;\">\n      <th></th>\n      <th>No</th>\n      <th>식품명</th>\n      <th>대분류</th>\n      <th>중분류</th>\n      <th>소분류</th>\n      <th>1회 제공량</th>\n      <th>용량</th>\n      <th>총내용량(g)</th>\n      <th>총내용량(ml)</th>\n      <th>총당류(g)</th>\n      <th>총내용량</th>\n      <th>단위용량 대비 설탕 비율</th>\n    </tr>\n  </thead>\n  <tbody>\n    <tr>\n      <th>880</th>\n      <td>10829</td>\n      <td>모카복숭아맛홍차</td>\n      <td>음료</td>\n      <td>커피류</td>\n      <td>고형차</td>\n      <td>100</td>\n      <td>g</td>\n      <td>800</td>\n      <td>-</td>\n      <td>90.43</td>\n      <td>800.0</td>\n      <td>90.4</td>\n    </tr>\n    <tr>\n      <th>1770</th>\n      <td>40703</td>\n      <td>브루스</td>\n      <td>음료</td>\n      <td>커피류</td>\n      <td>과/채음료</td>\n      <td>100</td>\n      <td>mL</td>\n      <td>-</td>\n      <td>500</td>\n      <td>6.00</td>\n      <td>500.0</td>\n      <td>6.0</td>\n    </tr>\n    <tr>\n      <th>2493</th>\n      <td>67849</td>\n      <td>브루스</td>\n      <td>음료</td>\n      <td>커피류</td>\n      <td>과/채음료</td>\n      <td>500</td>\n      <td>g</td>\n      <td>500</td>\n      <td>-</td>\n      <td>30.00</td>\n      <td>500.0</td>\n      <td>6.0</td>\n    </tr>\n    <tr>\n      <th>20672</th>\n      <td>78946</td>\n      <td>아이스 모카 블렌디모</td>\n      <td>음료</td>\n      <td>커피류</td>\n      <td>스무디류</td>\n      <td>415</td>\n      <td>mL</td>\n      <td>-</td>\n      <td>415</td>\n      <td>44.50</td>\n      <td>415.0</td>\n      <td>10.7</td>\n    </tr>\n    <tr>\n      <th>20677</th>\n      <td>78951</td>\n      <td>아이스 민트모카 블렌디모</td>\n      <td>음료</td>\n      <td>커피류</td>\n      <td>스무디류</td>\n      <td>350</td>\n      <td>mL</td>\n      <td>-</td>\n      <td>350</td>\n      <td>23.20</td>\n      <td>350.0</td>\n      <td>6.6</td>\n    </tr>\n    <tr>\n      <th>...</th>\n      <td>...</td>\n      <td>...</td>\n      <td>...</td>\n      <td>...</td>\n      <td>...</td>\n      <td>...</td>\n      <td>...</td>\n      <td>...</td>\n      <td>...</td>\n      <td>...</td>\n      <td>...</td>\n      <td>...</td>\n    </tr>\n    <tr>\n      <th>35600</th>\n      <td>29332</td>\n      <td>마이카페라떼 말차 아몬드브리즈</td>\n      <td>음료</td>\n      <td>커피류</td>\n      <td>혼합음료</td>\n      <td>220</td>\n      <td>mL</td>\n      <td>220</td>\n      <td>-</td>\n      <td>15.00</td>\n      <td>220.0</td>\n      <td>6.8</td>\n    </tr>\n    <tr>\n      <th>35626</th>\n      <td>29465</td>\n      <td>바닐라 라떼 아이스</td>\n      <td>음료</td>\n      <td>커피류</td>\n      <td>혼합음료</td>\n      <td>130</td>\n      <td>mL</td>\n      <td>130</td>\n      <td>-</td>\n      <td>20.00</td>\n      <td>130.0</td>\n      <td>15.4</td>\n    </tr>\n    <tr>\n      <th>36209</th>\n      <td>46194</td>\n      <td>바닐라 라떼 아이스</td>\n      <td>음료</td>\n      <td>커피류</td>\n      <td>혼합음료</td>\n      <td>130</td>\n      <td>g</td>\n      <td>130</td>\n      <td>-</td>\n      <td>20.00</td>\n      <td>130.0</td>\n      <td>15.4</td>\n    </tr>\n    <tr>\n      <th>36755</th>\n      <td>59664</td>\n      <td>마이카페라떼 말차 아몬드브리즈</td>\n      <td>음료</td>\n      <td>커피류</td>\n      <td>혼합음료</td>\n      <td>220</td>\n      <td>g</td>\n      <td>220</td>\n      <td>-</td>\n      <td>15.00</td>\n      <td>220.0</td>\n      <td>6.8</td>\n    </tr>\n    <tr>\n      <th>37142</th>\n      <td>66743</td>\n      <td>카페라떼 시럽</td>\n      <td>음료</td>\n      <td>커피류</td>\n      <td>혼합음료</td>\n      <td>40</td>\n      <td>g</td>\n      <td>40</td>\n      <td>-</td>\n      <td>13.00</td>\n      <td>40.0</td>\n      <td>32.5</td>\n    </tr>\n  </tbody>\n</table>\n<p>458 rows × 12 columns</p>\n</div>"
     },
     "execution_count": 3061,
     "metadata": {},
     "output_type": "execute_result"
    }
   ],
   "source": [
    "sheet[sheet['중분류'] == '커피류']"
   ],
   "metadata": {
    "collapsed": false,
    "pycharm": {
     "name": "#%%\n"
    }
   }
  },
  {
   "cell_type": "code",
   "execution_count": 3062,
   "outputs": [
    {
     "ename": "KeyError",
     "evalue": "'[1770] not found in axis'",
     "output_type": "error",
     "traceback": [
      "\u001B[0;31m---------------------------------------------------------------------------\u001B[0m",
      "\u001B[0;31mKeyError\u001B[0m                                  Traceback (most recent call last)",
      "Input \u001B[0;32mIn [3062]\u001B[0m, in \u001B[0;36m<cell line: 2>\u001B[0;34m()\u001B[0m\n\u001B[1;32m      1\u001B[0m delete \u001B[38;5;241m=\u001B[39m [\u001B[38;5;241m1770\u001B[39m, \u001B[38;5;241m2493\u001B[39m, \u001B[38;5;241m24664\u001B[39m, \u001B[38;5;241m30566\u001B[39m, \u001B[38;5;241m30567\u001B[39m, \u001B[38;5;241m30581\u001B[39m, \u001B[38;5;241m30582\u001B[39m, \u001B[38;5;241m880\u001B[39m, \u001B[38;5;241m1770\u001B[39m, \u001B[38;5;241m2493\u001B[39m, \u001B[38;5;241m52153\u001B[39m]\n\u001B[1;32m      2\u001B[0m \u001B[38;5;28;01mfor\u001B[39;00m value \u001B[38;5;129;01min\u001B[39;00m delete:\n\u001B[0;32m----> 3\u001B[0m     sheet \u001B[38;5;241m=\u001B[39m \u001B[43msheet\u001B[49m\u001B[38;5;241;43m.\u001B[39;49m\u001B[43mdrop\u001B[49m\u001B[43m(\u001B[49m\u001B[43mvalue\u001B[49m\u001B[43m,\u001B[49m\u001B[43m \u001B[49m\u001B[43maxis\u001B[49m\u001B[38;5;241;43m=\u001B[39;49m\u001B[38;5;241;43m0\u001B[39;49m\u001B[43m)\u001B[49m\n",
      "File \u001B[0;32m/opt/homebrew/Cellar/jupyterlab/3.3.2/libexec/lib/python3.9/site-packages/pandas/util/_decorators.py:311\u001B[0m, in \u001B[0;36mdeprecate_nonkeyword_arguments.<locals>.decorate.<locals>.wrapper\u001B[0;34m(*args, **kwargs)\u001B[0m\n\u001B[1;32m    305\u001B[0m \u001B[38;5;28;01mif\u001B[39;00m \u001B[38;5;28mlen\u001B[39m(args) \u001B[38;5;241m>\u001B[39m num_allow_args:\n\u001B[1;32m    306\u001B[0m     warnings\u001B[38;5;241m.\u001B[39mwarn(\n\u001B[1;32m    307\u001B[0m         msg\u001B[38;5;241m.\u001B[39mformat(arguments\u001B[38;5;241m=\u001B[39marguments),\n\u001B[1;32m    308\u001B[0m         \u001B[38;5;167;01mFutureWarning\u001B[39;00m,\n\u001B[1;32m    309\u001B[0m         stacklevel\u001B[38;5;241m=\u001B[39mstacklevel,\n\u001B[1;32m    310\u001B[0m     )\n\u001B[0;32m--> 311\u001B[0m \u001B[38;5;28;01mreturn\u001B[39;00m \u001B[43mfunc\u001B[49m\u001B[43m(\u001B[49m\u001B[38;5;241;43m*\u001B[39;49m\u001B[43margs\u001B[49m\u001B[43m,\u001B[49m\u001B[43m \u001B[49m\u001B[38;5;241;43m*\u001B[39;49m\u001B[38;5;241;43m*\u001B[39;49m\u001B[43mkwargs\u001B[49m\u001B[43m)\u001B[49m\n",
      "File \u001B[0;32m/opt/homebrew/Cellar/jupyterlab/3.3.2/libexec/lib/python3.9/site-packages/pandas/core/frame.py:4954\u001B[0m, in \u001B[0;36mDataFrame.drop\u001B[0;34m(self, labels, axis, index, columns, level, inplace, errors)\u001B[0m\n\u001B[1;32m   4806\u001B[0m \u001B[38;5;129m@deprecate_nonkeyword_arguments\u001B[39m(version\u001B[38;5;241m=\u001B[39m\u001B[38;5;28;01mNone\u001B[39;00m, allowed_args\u001B[38;5;241m=\u001B[39m[\u001B[38;5;124m\"\u001B[39m\u001B[38;5;124mself\u001B[39m\u001B[38;5;124m\"\u001B[39m, \u001B[38;5;124m\"\u001B[39m\u001B[38;5;124mlabels\u001B[39m\u001B[38;5;124m\"\u001B[39m])\n\u001B[1;32m   4807\u001B[0m \u001B[38;5;28;01mdef\u001B[39;00m \u001B[38;5;21mdrop\u001B[39m(\n\u001B[1;32m   4808\u001B[0m     \u001B[38;5;28mself\u001B[39m,\n\u001B[0;32m   (...)\u001B[0m\n\u001B[1;32m   4815\u001B[0m     errors: \u001B[38;5;28mstr\u001B[39m \u001B[38;5;241m=\u001B[39m \u001B[38;5;124m\"\u001B[39m\u001B[38;5;124mraise\u001B[39m\u001B[38;5;124m\"\u001B[39m,\n\u001B[1;32m   4816\u001B[0m ):\n\u001B[1;32m   4817\u001B[0m     \u001B[38;5;124;03m\"\"\"\u001B[39;00m\n\u001B[1;32m   4818\u001B[0m \u001B[38;5;124;03m    Drop specified labels from rows or columns.\u001B[39;00m\n\u001B[1;32m   4819\u001B[0m \n\u001B[0;32m   (...)\u001B[0m\n\u001B[1;32m   4952\u001B[0m \u001B[38;5;124;03m            weight  1.0     0.8\u001B[39;00m\n\u001B[1;32m   4953\u001B[0m \u001B[38;5;124;03m    \"\"\"\u001B[39;00m\n\u001B[0;32m-> 4954\u001B[0m     \u001B[38;5;28;01mreturn\u001B[39;00m \u001B[38;5;28;43msuper\u001B[39;49m\u001B[43m(\u001B[49m\u001B[43m)\u001B[49m\u001B[38;5;241;43m.\u001B[39;49m\u001B[43mdrop\u001B[49m\u001B[43m(\u001B[49m\n\u001B[1;32m   4955\u001B[0m \u001B[43m        \u001B[49m\u001B[43mlabels\u001B[49m\u001B[38;5;241;43m=\u001B[39;49m\u001B[43mlabels\u001B[49m\u001B[43m,\u001B[49m\n\u001B[1;32m   4956\u001B[0m \u001B[43m        \u001B[49m\u001B[43maxis\u001B[49m\u001B[38;5;241;43m=\u001B[39;49m\u001B[43maxis\u001B[49m\u001B[43m,\u001B[49m\n\u001B[1;32m   4957\u001B[0m \u001B[43m        \u001B[49m\u001B[43mindex\u001B[49m\u001B[38;5;241;43m=\u001B[39;49m\u001B[43mindex\u001B[49m\u001B[43m,\u001B[49m\n\u001B[1;32m   4958\u001B[0m \u001B[43m        \u001B[49m\u001B[43mcolumns\u001B[49m\u001B[38;5;241;43m=\u001B[39;49m\u001B[43mcolumns\u001B[49m\u001B[43m,\u001B[49m\n\u001B[1;32m   4959\u001B[0m \u001B[43m        \u001B[49m\u001B[43mlevel\u001B[49m\u001B[38;5;241;43m=\u001B[39;49m\u001B[43mlevel\u001B[49m\u001B[43m,\u001B[49m\n\u001B[1;32m   4960\u001B[0m \u001B[43m        \u001B[49m\u001B[43minplace\u001B[49m\u001B[38;5;241;43m=\u001B[39;49m\u001B[43minplace\u001B[49m\u001B[43m,\u001B[49m\n\u001B[1;32m   4961\u001B[0m \u001B[43m        \u001B[49m\u001B[43merrors\u001B[49m\u001B[38;5;241;43m=\u001B[39;49m\u001B[43merrors\u001B[49m\u001B[43m,\u001B[49m\n\u001B[1;32m   4962\u001B[0m \u001B[43m    \u001B[49m\u001B[43m)\u001B[49m\n",
      "File \u001B[0;32m/opt/homebrew/Cellar/jupyterlab/3.3.2/libexec/lib/python3.9/site-packages/pandas/core/generic.py:4267\u001B[0m, in \u001B[0;36mNDFrame.drop\u001B[0;34m(self, labels, axis, index, columns, level, inplace, errors)\u001B[0m\n\u001B[1;32m   4265\u001B[0m \u001B[38;5;28;01mfor\u001B[39;00m axis, labels \u001B[38;5;129;01min\u001B[39;00m axes\u001B[38;5;241m.\u001B[39mitems():\n\u001B[1;32m   4266\u001B[0m     \u001B[38;5;28;01mif\u001B[39;00m labels \u001B[38;5;129;01mis\u001B[39;00m \u001B[38;5;129;01mnot\u001B[39;00m \u001B[38;5;28;01mNone\u001B[39;00m:\n\u001B[0;32m-> 4267\u001B[0m         obj \u001B[38;5;241m=\u001B[39m \u001B[43mobj\u001B[49m\u001B[38;5;241;43m.\u001B[39;49m\u001B[43m_drop_axis\u001B[49m\u001B[43m(\u001B[49m\u001B[43mlabels\u001B[49m\u001B[43m,\u001B[49m\u001B[43m \u001B[49m\u001B[43maxis\u001B[49m\u001B[43m,\u001B[49m\u001B[43m \u001B[49m\u001B[43mlevel\u001B[49m\u001B[38;5;241;43m=\u001B[39;49m\u001B[43mlevel\u001B[49m\u001B[43m,\u001B[49m\u001B[43m \u001B[49m\u001B[43merrors\u001B[49m\u001B[38;5;241;43m=\u001B[39;49m\u001B[43merrors\u001B[49m\u001B[43m)\u001B[49m\n\u001B[1;32m   4269\u001B[0m \u001B[38;5;28;01mif\u001B[39;00m inplace:\n\u001B[1;32m   4270\u001B[0m     \u001B[38;5;28mself\u001B[39m\u001B[38;5;241m.\u001B[39m_update_inplace(obj)\n",
      "File \u001B[0;32m/opt/homebrew/Cellar/jupyterlab/3.3.2/libexec/lib/python3.9/site-packages/pandas/core/generic.py:4311\u001B[0m, in \u001B[0;36mNDFrame._drop_axis\u001B[0;34m(self, labels, axis, level, errors, consolidate, only_slice)\u001B[0m\n\u001B[1;32m   4309\u001B[0m         new_axis \u001B[38;5;241m=\u001B[39m axis\u001B[38;5;241m.\u001B[39mdrop(labels, level\u001B[38;5;241m=\u001B[39mlevel, errors\u001B[38;5;241m=\u001B[39merrors)\n\u001B[1;32m   4310\u001B[0m     \u001B[38;5;28;01melse\u001B[39;00m:\n\u001B[0;32m-> 4311\u001B[0m         new_axis \u001B[38;5;241m=\u001B[39m \u001B[43maxis\u001B[49m\u001B[38;5;241;43m.\u001B[39;49m\u001B[43mdrop\u001B[49m\u001B[43m(\u001B[49m\u001B[43mlabels\u001B[49m\u001B[43m,\u001B[49m\u001B[43m \u001B[49m\u001B[43merrors\u001B[49m\u001B[38;5;241;43m=\u001B[39;49m\u001B[43merrors\u001B[49m\u001B[43m)\u001B[49m\n\u001B[1;32m   4312\u001B[0m     indexer \u001B[38;5;241m=\u001B[39m axis\u001B[38;5;241m.\u001B[39mget_indexer(new_axis)\n\u001B[1;32m   4314\u001B[0m \u001B[38;5;66;03m# Case for non-unique axis\u001B[39;00m\n\u001B[1;32m   4315\u001B[0m \u001B[38;5;28;01melse\u001B[39;00m:\n",
      "File \u001B[0;32m/opt/homebrew/Cellar/jupyterlab/3.3.2/libexec/lib/python3.9/site-packages/pandas/core/indexes/base.py:6644\u001B[0m, in \u001B[0;36mIndex.drop\u001B[0;34m(self, labels, errors)\u001B[0m\n\u001B[1;32m   6642\u001B[0m \u001B[38;5;28;01mif\u001B[39;00m mask\u001B[38;5;241m.\u001B[39many():\n\u001B[1;32m   6643\u001B[0m     \u001B[38;5;28;01mif\u001B[39;00m errors \u001B[38;5;241m!=\u001B[39m \u001B[38;5;124m\"\u001B[39m\u001B[38;5;124mignore\u001B[39m\u001B[38;5;124m\"\u001B[39m:\n\u001B[0;32m-> 6644\u001B[0m         \u001B[38;5;28;01mraise\u001B[39;00m \u001B[38;5;167;01mKeyError\u001B[39;00m(\u001B[38;5;124mf\u001B[39m\u001B[38;5;124m\"\u001B[39m\u001B[38;5;132;01m{\u001B[39;00m\u001B[38;5;28mlist\u001B[39m(labels[mask])\u001B[38;5;132;01m}\u001B[39;00m\u001B[38;5;124m not found in axis\u001B[39m\u001B[38;5;124m\"\u001B[39m)\n\u001B[1;32m   6645\u001B[0m     indexer \u001B[38;5;241m=\u001B[39m indexer[\u001B[38;5;241m~\u001B[39mmask]\n\u001B[1;32m   6646\u001B[0m \u001B[38;5;28;01mreturn\u001B[39;00m \u001B[38;5;28mself\u001B[39m\u001B[38;5;241m.\u001B[39mdelete(indexer)\n",
      "\u001B[0;31mKeyError\u001B[0m: '[1770] not found in axis'"
     ]
    }
   ],
   "source": [
    "delete = [1770, 2493, 24664, 30566, 30567, 30581, 30582, 880, 1770, 2493, 52153]\n",
    "for value in delete:\n",
    "    sheet = sheet.drop(value, axis=0)"
   ],
   "metadata": {
    "collapsed": false,
    "pycharm": {
     "name": "#%%\n"
    }
   }
  },
  {
   "cell_type": "code",
   "execution_count": 3063,
   "outputs": [
    {
     "data": {
      "text/plain": "Empty DataFrame\nColumns: [No, 식품명, 대분류, 중분류, 소분류, 1회 제공량, 용량, 총내용량(g), 총내용량(ml), 총당류(g), 총내용량, 단위용량 대비 설탕 비율]\nIndex: []",
      "text/html": "<div>\n<style scoped>\n    .dataframe tbody tr th:only-of-type {\n        vertical-align: middle;\n    }\n\n    .dataframe tbody tr th {\n        vertical-align: top;\n    }\n\n    .dataframe thead th {\n        text-align: right;\n    }\n</style>\n<table border=\"1\" class=\"dataframe\">\n  <thead>\n    <tr style=\"text-align: right;\">\n      <th></th>\n      <th>No</th>\n      <th>식품명</th>\n      <th>대분류</th>\n      <th>중분류</th>\n      <th>소분류</th>\n      <th>1회 제공량</th>\n      <th>용량</th>\n      <th>총내용량(g)</th>\n      <th>총내용량(ml)</th>\n      <th>총당류(g)</th>\n      <th>총내용량</th>\n      <th>단위용량 대비 설탕 비율</th>\n    </tr>\n  </thead>\n  <tbody>\n  </tbody>\n</table>\n</div>"
     },
     "execution_count": 3063,
     "metadata": {},
     "output_type": "execute_result"
    }
   ],
   "source": [
    "sheet.loc[(sheet['대분류'] == '음료') & (sheet['중분류'] == '커피류'), '소분류'] = \"\"\n",
    "\n",
    "아메리카노 = ['아메리카노']\n",
    "콜드브루 = ['콜드브루', '더치', '콜드', '브루']\n",
    "초코라떼 = ['초콜릿']\n",
    "카라멜라떼 = ['카라멜', '캬라멜']\n",
    "바닐라라떼 = ['바닐라']\n",
    "연유라떼 = ['연유', '연']\n",
    "카페라떼 = ['카페라떼']\n",
    "진저라떼 = ['진저']\n",
    "모카라떼 = ['모카']\n",
    "카푸치노 = ['카푸치노']\n",
    "아인슈페너 = ['아인슈페너']\n",
    "아포가토 = ['아포가토']\n",
    "\n",
    "커피음료종류 = {\n",
    "\"아메리카노\":아메리카노,\n",
    "\"콜드브루\":콜드브루,\n",
    "\"초코라떼\":초코라떼,\n",
    "\"카라멜라떼\":카라멜라떼,\n",
    "\"바닐라라떼\":바닐라라떼,\n",
    "\"연유라떼\":연유라떼,\n",
    "\"카페라떼\":카페라떼,\n",
    "\"진저라떼\":진저라떼,\n",
    "\"모카라떼\":모카라떼,\n",
    "\"카푸치노\":카푸치노,\n",
    "\"아인슈페너\":아인슈페너,\n",
    "\"아포가토\":아포가토,\n",
    "}\n",
    "\n",
    "seperated_category('커피류', 커피음료종류)\n",
    "\n",
    "sheet[(sheet['중분류'] == '커피류') & (sheet['소분류'] == \"\")]"
   ],
   "metadata": {
    "collapsed": false,
    "pycharm": {
     "name": "#%%\n"
    }
   }
  },
  {
   "cell_type": "code",
   "execution_count": 3064,
   "outputs": [
    {
     "name": "stdout",
     "output_type": "stream",
     "text": [
      "{'모카라떼': 145,\n",
      " '바닐라라떼': 52,\n",
      " '아메리카노': 6,\n",
      " '아인슈페너': 4,\n",
      " '아포가토': 13,\n",
      " '연유라떼': 10,\n",
      " '진저라떼': 2,\n",
      " '초코라떼': 4,\n",
      " '카라멜라떼': 55,\n",
      " '카페라떼': 74,\n",
      " '카푸치노': 44,\n",
      " '콜드브루': 41}\n"
     ]
    }
   ],
   "source": [
    "minimal_coffee_category = list(sheet.loc[(sheet['중분류'] == '커피류') & (sheet['대분류'] == '음료'), '소분류'].unique())\n",
    "coffee_dict = {}\n",
    "for value in minimal_coffee_category:\n",
    "    coffee_dict[value] = len(sheet.loc[(sheet['중분류'] == '커피류') & (sheet['소분류'] == value), :])\n",
    "\n",
    "pp.pprint(coffee_dict)"
   ],
   "metadata": {
    "collapsed": false,
    "pycharm": {
     "name": "#%%\n"
    }
   }
  },
  {
   "cell_type": "code",
   "execution_count": 3065,
   "outputs": [
    {
     "data": {
      "text/plain": "          No                식품명 대분류   중분류    소분류  1회 제공량  용량 총내용량(g) 총내용량(ml)  \\\n959    15933          썬키스트레몬에이드  음료  탄산음료  과/채음료     350  mL       -      350   \n984    15988        델몬트스퀴즈사과에이드  음료  탄산음료  과/채음료     240  mL       -      240   \n1015   16050        델몬트스퀴즈포도에이드  음료  탄산음료  과/채음료     240  mL       -      240   \n1022   16064      썬키스트 스위티블루에이드  음료  탄산음료  과/채음료     350  mL       -      350   \n1033   16086    쟈뎅 까페리얼 블루레몬에이드  음료  탄산음료  과/채음료     190  mL       -      190   \n...      ...                ...  ..   ...    ...     ...  ..     ...      ...   \n37193  67581     칼립소 오리지날 레몬에이드  음료  탄산음료   혼합음료     473   g     473        -   \n37194  67582    칼립소 오션 블루 레몬에이드  음료  탄산음료   혼합음료     473   g     473        -   \n37195  67583  칼립소 파인애플 피치 라임에이드  음료  탄산음료   혼합음료     473   g     473        -   \n37196  67584   칼립소 핑크 구아바 라임에이드  음료  탄산음료   혼합음료     473   g     473        -   \n37220  68152       유믹스 모히또맛 에이드  음료  탄산음료   혼합음료     100   g    1000        -   \n\n       총당류(g)    총내용량  단위용량 대비 설탕 비율  \n959      35.0   350.0           10.0  \n984      28.0   240.0           11.7  \n1015     28.0   240.0           11.7  \n1022     37.0   350.0           10.6  \n1033     20.0   190.0           10.5  \n...       ...     ...            ...  \n37193    53.0   473.0           11.2  \n37194    50.0   473.0           10.6  \n37195    46.0   473.0            9.7  \n37196    46.0   473.0            9.7  \n37220    11.0  1000.0           11.0  \n\n[1258 rows x 12 columns]",
      "text/html": "<div>\n<style scoped>\n    .dataframe tbody tr th:only-of-type {\n        vertical-align: middle;\n    }\n\n    .dataframe tbody tr th {\n        vertical-align: top;\n    }\n\n    .dataframe thead th {\n        text-align: right;\n    }\n</style>\n<table border=\"1\" class=\"dataframe\">\n  <thead>\n    <tr style=\"text-align: right;\">\n      <th></th>\n      <th>No</th>\n      <th>식품명</th>\n      <th>대분류</th>\n      <th>중분류</th>\n      <th>소분류</th>\n      <th>1회 제공량</th>\n      <th>용량</th>\n      <th>총내용량(g)</th>\n      <th>총내용량(ml)</th>\n      <th>총당류(g)</th>\n      <th>총내용량</th>\n      <th>단위용량 대비 설탕 비율</th>\n    </tr>\n  </thead>\n  <tbody>\n    <tr>\n      <th>959</th>\n      <td>15933</td>\n      <td>썬키스트레몬에이드</td>\n      <td>음료</td>\n      <td>탄산음료</td>\n      <td>과/채음료</td>\n      <td>350</td>\n      <td>mL</td>\n      <td>-</td>\n      <td>350</td>\n      <td>35.0</td>\n      <td>350.0</td>\n      <td>10.0</td>\n    </tr>\n    <tr>\n      <th>984</th>\n      <td>15988</td>\n      <td>델몬트스퀴즈사과에이드</td>\n      <td>음료</td>\n      <td>탄산음료</td>\n      <td>과/채음료</td>\n      <td>240</td>\n      <td>mL</td>\n      <td>-</td>\n      <td>240</td>\n      <td>28.0</td>\n      <td>240.0</td>\n      <td>11.7</td>\n    </tr>\n    <tr>\n      <th>1015</th>\n      <td>16050</td>\n      <td>델몬트스퀴즈포도에이드</td>\n      <td>음료</td>\n      <td>탄산음료</td>\n      <td>과/채음료</td>\n      <td>240</td>\n      <td>mL</td>\n      <td>-</td>\n      <td>240</td>\n      <td>28.0</td>\n      <td>240.0</td>\n      <td>11.7</td>\n    </tr>\n    <tr>\n      <th>1022</th>\n      <td>16064</td>\n      <td>썬키스트 스위티블루에이드</td>\n      <td>음료</td>\n      <td>탄산음료</td>\n      <td>과/채음료</td>\n      <td>350</td>\n      <td>mL</td>\n      <td>-</td>\n      <td>350</td>\n      <td>37.0</td>\n      <td>350.0</td>\n      <td>10.6</td>\n    </tr>\n    <tr>\n      <th>1033</th>\n      <td>16086</td>\n      <td>쟈뎅 까페리얼 블루레몬에이드</td>\n      <td>음료</td>\n      <td>탄산음료</td>\n      <td>과/채음료</td>\n      <td>190</td>\n      <td>mL</td>\n      <td>-</td>\n      <td>190</td>\n      <td>20.0</td>\n      <td>190.0</td>\n      <td>10.5</td>\n    </tr>\n    <tr>\n      <th>...</th>\n      <td>...</td>\n      <td>...</td>\n      <td>...</td>\n      <td>...</td>\n      <td>...</td>\n      <td>...</td>\n      <td>...</td>\n      <td>...</td>\n      <td>...</td>\n      <td>...</td>\n      <td>...</td>\n      <td>...</td>\n    </tr>\n    <tr>\n      <th>37193</th>\n      <td>67581</td>\n      <td>칼립소 오리지날 레몬에이드</td>\n      <td>음료</td>\n      <td>탄산음료</td>\n      <td>혼합음료</td>\n      <td>473</td>\n      <td>g</td>\n      <td>473</td>\n      <td>-</td>\n      <td>53.0</td>\n      <td>473.0</td>\n      <td>11.2</td>\n    </tr>\n    <tr>\n      <th>37194</th>\n      <td>67582</td>\n      <td>칼립소 오션 블루 레몬에이드</td>\n      <td>음료</td>\n      <td>탄산음료</td>\n      <td>혼합음료</td>\n      <td>473</td>\n      <td>g</td>\n      <td>473</td>\n      <td>-</td>\n      <td>50.0</td>\n      <td>473.0</td>\n      <td>10.6</td>\n    </tr>\n    <tr>\n      <th>37195</th>\n      <td>67583</td>\n      <td>칼립소 파인애플 피치 라임에이드</td>\n      <td>음료</td>\n      <td>탄산음료</td>\n      <td>혼합음료</td>\n      <td>473</td>\n      <td>g</td>\n      <td>473</td>\n      <td>-</td>\n      <td>46.0</td>\n      <td>473.0</td>\n      <td>9.7</td>\n    </tr>\n    <tr>\n      <th>37196</th>\n      <td>67584</td>\n      <td>칼립소 핑크 구아바 라임에이드</td>\n      <td>음료</td>\n      <td>탄산음료</td>\n      <td>혼합음료</td>\n      <td>473</td>\n      <td>g</td>\n      <td>473</td>\n      <td>-</td>\n      <td>46.0</td>\n      <td>473.0</td>\n      <td>9.7</td>\n    </tr>\n    <tr>\n      <th>37220</th>\n      <td>68152</td>\n      <td>유믹스 모히또맛 에이드</td>\n      <td>음료</td>\n      <td>탄산음료</td>\n      <td>혼합음료</td>\n      <td>100</td>\n      <td>g</td>\n      <td>1000</td>\n      <td>-</td>\n      <td>11.0</td>\n      <td>1000.0</td>\n      <td>11.0</td>\n    </tr>\n  </tbody>\n</table>\n<p>1258 rows × 12 columns</p>\n</div>"
     },
     "execution_count": 3065,
     "metadata": {},
     "output_type": "execute_result"
    }
   ],
   "source": [
    "sheet[sheet['중분류'] == '탄산음료']"
   ],
   "metadata": {
    "collapsed": false,
    "pycharm": {
     "name": "#%%\n"
    }
   }
  },
  {
   "cell_type": "code",
   "execution_count": 3066,
   "outputs": [],
   "source": [
    "delete = [1022, 1356]\n",
    "for value in delete:\n",
    "    sheet = sheet.drop(value, axis=0)"
   ],
   "metadata": {
    "collapsed": false,
    "pycharm": {
     "name": "#%%\n"
    }
   }
  },
  {
   "cell_type": "code",
   "execution_count": 3067,
   "outputs": [
    {
     "data": {
      "text/plain": "          No                 식품명 대분류   중분류 소분류  1회 제공량  용량 총내용량(g) 총내용량(ml)  \\\n1851   46296    유어스 AOC(에이오씨)에이드  음료  탄산음료         230   g     230        -   \n1924   48737          유어스 ABC에이드  음료  탄산음료         230   g     230        -   \n1980   51736          세븐베리믹스 에이드  음료  탄산음료         100   g     100        -   \n24527  15001   바디에이드 요구르트 드링크 피치  음료  탄산음료         195  mL       -      195   \n24529  15003  바디에이드 요구르트 드링크 플레인  음료  탄산음료         195  mL       -      195   \n...      ...                 ...  ..   ...  ..     ...  ..     ...      ...   \n37081  65789       파워에이드 마운틴블라스트  음료  탄산음료         100  mL       -     1500   \n37117  66562          파워에이드 메가볼츠  음료  탄산음료         600   g     600        -   \n37118  66563          파워에이드 스파클링  음료  탄산음료         355   g     355        -   \n37119  66564         파워에이드 퍼플 스톰  음료  탄산음료         600   g     600        -   \n37220  68152        유믹스 모히또맛 에이드  음료  탄산음료         100   g    1000        -   \n\n       총당류(g)    총내용량  단위용량 대비 설탕 비율  \n1851     29.0   230.0           12.6  \n1924     19.0   230.0            8.3  \n1980     11.0   100.0           11.0  \n24527    24.0   195.0           12.3  \n24529    23.0   195.0           11.8  \n...       ...     ...            ...  \n37081     2.5  1500.0            2.5  \n37117    16.0   600.0            2.7  \n37118    14.0   355.0            3.9  \n37119    16.0   600.0            2.7  \n37220    11.0  1000.0           11.0  \n\n[304 rows x 12 columns]",
      "text/html": "<div>\n<style scoped>\n    .dataframe tbody tr th:only-of-type {\n        vertical-align: middle;\n    }\n\n    .dataframe tbody tr th {\n        vertical-align: top;\n    }\n\n    .dataframe thead th {\n        text-align: right;\n    }\n</style>\n<table border=\"1\" class=\"dataframe\">\n  <thead>\n    <tr style=\"text-align: right;\">\n      <th></th>\n      <th>No</th>\n      <th>식품명</th>\n      <th>대분류</th>\n      <th>중분류</th>\n      <th>소분류</th>\n      <th>1회 제공량</th>\n      <th>용량</th>\n      <th>총내용량(g)</th>\n      <th>총내용량(ml)</th>\n      <th>총당류(g)</th>\n      <th>총내용량</th>\n      <th>단위용량 대비 설탕 비율</th>\n    </tr>\n  </thead>\n  <tbody>\n    <tr>\n      <th>1851</th>\n      <td>46296</td>\n      <td>유어스 AOC(에이오씨)에이드</td>\n      <td>음료</td>\n      <td>탄산음료</td>\n      <td></td>\n      <td>230</td>\n      <td>g</td>\n      <td>230</td>\n      <td>-</td>\n      <td>29.0</td>\n      <td>230.0</td>\n      <td>12.6</td>\n    </tr>\n    <tr>\n      <th>1924</th>\n      <td>48737</td>\n      <td>유어스 ABC에이드</td>\n      <td>음료</td>\n      <td>탄산음료</td>\n      <td></td>\n      <td>230</td>\n      <td>g</td>\n      <td>230</td>\n      <td>-</td>\n      <td>19.0</td>\n      <td>230.0</td>\n      <td>8.3</td>\n    </tr>\n    <tr>\n      <th>1980</th>\n      <td>51736</td>\n      <td>세븐베리믹스 에이드</td>\n      <td>음료</td>\n      <td>탄산음료</td>\n      <td></td>\n      <td>100</td>\n      <td>g</td>\n      <td>100</td>\n      <td>-</td>\n      <td>11.0</td>\n      <td>100.0</td>\n      <td>11.0</td>\n    </tr>\n    <tr>\n      <th>24527</th>\n      <td>15001</td>\n      <td>바디에이드 요구르트 드링크 피치</td>\n      <td>음료</td>\n      <td>탄산음료</td>\n      <td></td>\n      <td>195</td>\n      <td>mL</td>\n      <td>-</td>\n      <td>195</td>\n      <td>24.0</td>\n      <td>195.0</td>\n      <td>12.3</td>\n    </tr>\n    <tr>\n      <th>24529</th>\n      <td>15003</td>\n      <td>바디에이드 요구르트 드링크 플레인</td>\n      <td>음료</td>\n      <td>탄산음료</td>\n      <td></td>\n      <td>195</td>\n      <td>mL</td>\n      <td>-</td>\n      <td>195</td>\n      <td>23.0</td>\n      <td>195.0</td>\n      <td>11.8</td>\n    </tr>\n    <tr>\n      <th>...</th>\n      <td>...</td>\n      <td>...</td>\n      <td>...</td>\n      <td>...</td>\n      <td>...</td>\n      <td>...</td>\n      <td>...</td>\n      <td>...</td>\n      <td>...</td>\n      <td>...</td>\n      <td>...</td>\n      <td>...</td>\n    </tr>\n    <tr>\n      <th>37081</th>\n      <td>65789</td>\n      <td>파워에이드 마운틴블라스트</td>\n      <td>음료</td>\n      <td>탄산음료</td>\n      <td></td>\n      <td>100</td>\n      <td>mL</td>\n      <td>-</td>\n      <td>1500</td>\n      <td>2.5</td>\n      <td>1500.0</td>\n      <td>2.5</td>\n    </tr>\n    <tr>\n      <th>37117</th>\n      <td>66562</td>\n      <td>파워에이드 메가볼츠</td>\n      <td>음료</td>\n      <td>탄산음료</td>\n      <td></td>\n      <td>600</td>\n      <td>g</td>\n      <td>600</td>\n      <td>-</td>\n      <td>16.0</td>\n      <td>600.0</td>\n      <td>2.7</td>\n    </tr>\n    <tr>\n      <th>37118</th>\n      <td>66563</td>\n      <td>파워에이드 스파클링</td>\n      <td>음료</td>\n      <td>탄산음료</td>\n      <td></td>\n      <td>355</td>\n      <td>g</td>\n      <td>355</td>\n      <td>-</td>\n      <td>14.0</td>\n      <td>355.0</td>\n      <td>3.9</td>\n    </tr>\n    <tr>\n      <th>37119</th>\n      <td>66564</td>\n      <td>파워에이드 퍼플 스톰</td>\n      <td>음료</td>\n      <td>탄산음료</td>\n      <td></td>\n      <td>600</td>\n      <td>g</td>\n      <td>600</td>\n      <td>-</td>\n      <td>16.0</td>\n      <td>600.0</td>\n      <td>2.7</td>\n    </tr>\n    <tr>\n      <th>37220</th>\n      <td>68152</td>\n      <td>유믹스 모히또맛 에이드</td>\n      <td>음료</td>\n      <td>탄산음료</td>\n      <td></td>\n      <td>100</td>\n      <td>g</td>\n      <td>1000</td>\n      <td>-</td>\n      <td>11.0</td>\n      <td>1000.0</td>\n      <td>11.0</td>\n    </tr>\n  </tbody>\n</table>\n<p>304 rows × 12 columns</p>\n</div>"
     },
     "execution_count": 3067,
     "metadata": {},
     "output_type": "execute_result"
    }
   ],
   "source": [
    "sheet.loc[(sheet['대분류'] == '음료') & (sheet['중분류'] == '탄산음료'), '소분류'] = \"\"\n",
    "\n",
    "콜라 = ['콜라', '펩시', '코카콜라']\n",
    "사이다 = ['사이다', '스프라이트', '칠성']\n",
    "오렌지에이드 = ['오렌지', 'Orange']\n",
    "망고에이드 = ['망고']\n",
    "배에이드 = ['배']\n",
    "매실에이드 = ['매실']\n",
    "감귤에이드 = ['감귤']\n",
    "레모네이드 = ['레모네이드', '레몬']\n",
    "바나나에이드 = ['바나나']\n",
    "살구에이드 = ['살구']\n",
    "복분자에이드 = ['복분실', '복분자']\n",
    "키위에이드 = ['키위']\n",
    "블루베리에이드 = ['블루베리']\n",
    "홍시에이드 = ['홍시']\n",
    "깔라만시에이드 = ['깔라만시']\n",
    "크랜베리에이드 = ['크랜베리']\n",
    "체리에이드 = ['체리']\n",
    "수박에이드 = ['수박']\n",
    "무화과에이드 = ['무화과']\n",
    "푸룬에이드 = ['푸룬', '프룬']\n",
    "아로니아에이드 = ['아로니아']\n",
    "코코넛에이드 = ['코코']\n",
    "유자에이드 = ['유자']\n",
    "자두에이드 = ['자두']\n",
    "리치에이드 = ['리치']\n",
    "오미자에이드 = ['오미자']\n",
    "포도에이드 = ['포도']\n",
    "카프리썬 = ['카프리썬']\n",
    "딸기에이드 = ['딸기', '스트로베리']\n",
    "사과에이드 = ['사과', '애플']\n",
    "복숭아에이드 = ['복숭아']\n",
    "청포도에이드 = ['청포도']\n",
    "매실에이드 = ['매실']\n",
    "석류에이드 = ['석류']\n",
    "자몽에이드 = ['자몽']\n",
    "청귤에이드 = ['청귤']\n",
    "트로피컬에이드 = ['열대과일', '열대', '트로피칼']\n",
    "피나콜라다 = ['피나콜라다']\n",
    "한라봉에이드 = ['한라봉']\n",
    "썬키스트 = ['썬키스트']\n",
    "라임에이드 = ['라임']\n",
    "토닉워터 = ['토닉']\n",
    "\n",
    "탄산음료종류 = {\n",
    "\"콜라\":콜라,\n",
    "\"사이다\":사이다,\n",
    "\"오렌지에이드\":오렌지에이드,\n",
    "\"망고에이드\":망고에이드,\n",
    "\"배에이드\":배에이드,\n",
    "\"매실에이드\":매실에이드,\n",
    "\"감귤에이드\":감귤에이드,\n",
    "\"레모네이드\":레모네이드,\n",
    "\"바나나에이드\":바나나에이드,\n",
    "\"살구에이드\":살구에이드,\n",
    "\"복분자에이드\":복분자에이드,\n",
    "\"키위에이드\":키위에이드,\n",
    "\"블루베리에이드\":블루베리에이드,\n",
    "\"홍시에이드\":홍시에이드,\n",
    "\"깔라만시에이드\":깔라만시에이드,\n",
    "\"크랜베리에이드\":크랜베리에이드,\n",
    "\"체리에이드\":체리에이드,\n",
    "\"수박에이드\":수박에이드,\n",
    "\"무화과에이드\":무화과에이드,\n",
    "\"푸룬에이드\":푸룬에이드,\n",
    "\"아로니아에이드\":아로니아에이드,\n",
    "\"코코넛에이드\":코코넛에이드,\n",
    "\"유자에이드\":유자에이드,\n",
    "\"자두에이드\":자두에이드,\n",
    "\"리치에이드\":리치에이드,\n",
    "\"오미자에이드\":오미자에이드,\n",
    "\"포도에이드\":포도에이드,\n",
    "\"카프리썬\":카프리썬,\n",
    "\"스트로베리에이드\":스트로베리에이드,\n",
    "\"사과에이드\":사과에이드,\n",
    "\"복숭아에이드\":복숭아에이드,\n",
    "\"청포도에이드\":청포도에이드,\n",
    "\"매실에이드\":매실에이드,\n",
    "\"석류에이드\":석류에이드,\n",
    "\"자몽에이드\":자몽에이드,\n",
    "\"청귤에이드\":청귤에이드,\n",
    "\"트로피컬에이드\":트로피컬에이드,\n",
    "\"피나콜라다\":피나콜라다,\n",
    "\"한라봉에이드\":한라봉에이드,\n",
    "\"썬키스트\":썬키스트,\n",
    "\"라임에이드\":라임에이드,\n",
    "\"토닉워터\":토닉워터,\n",
    "}\n",
    "\n",
    "seperated_category('탄산음료', 탄산음료종류)\n",
    "\n",
    "sheet[(sheet['중분류'] == '탄산음료') & (sheet['소분류'] == \"\")]"
   ],
   "metadata": {
    "collapsed": false,
    "pycharm": {
     "name": "#%%\n"
    }
   }
  },
  {
   "cell_type": "code",
   "execution_count": 3068,
   "outputs": [],
   "source": [
    "delete = sheet[(sheet['중분류'] == '탄산음료') & (sheet['소분류'] == \"\")].index\n",
    "for value in delete:\n",
    "    sheet = sheet.drop(value, axis=0)"
   ],
   "metadata": {
    "collapsed": false,
    "pycharm": {
     "name": "#%%\n"
    }
   }
  },
  {
   "cell_type": "code",
   "execution_count": 3069,
   "outputs": [
    {
     "data": {
      "text/plain": "          No                식품명 대분류   중분류    소분류  1회 제공량  용량 총내용량(g) 총내용량(ml)  \\\n959    15933          썬키스트레몬에이드  음료  탄산음료   썬키스트     350  mL       -      350   \n984    15988        델몬트스퀴즈사과에이드  음료  탄산음료  사과에이드     240  mL       -      240   \n1015   16050        델몬트스퀴즈포도에이드  음료  탄산음료  포도에이드     240  mL       -      240   \n1033   16086    쟈뎅 까페리얼 블루레몬에이드  음료  탄산음료  레모네이드     190  mL       -      190   \n1055   16110        델몬트스퀴즈레몬에이드  음료  탄산음료  레모네이드     240  mL       -      240   \n...      ...                ...  ..   ...    ...     ...  ..     ...      ...   \n37173  67242     스타일리쉬 에이드 블루레몬  음료  탄산음료  레모네이드     200   g     340        -   \n37193  67581     칼립소 오리지날 레몬에이드  음료  탄산음료  레모네이드     473   g     473        -   \n37194  67582    칼립소 오션 블루 레몬에이드  음료  탄산음료  레모네이드     473   g     473        -   \n37195  67583  칼립소 파인애플 피치 라임에이드  음료  탄산음료  라임에이드     473   g     473        -   \n37196  67584   칼립소 핑크 구아바 라임에이드  음료  탄산음료  라임에이드     473   g     473        -   \n\n       총당류(g)   총내용량  단위용량 대비 설탕 비율  \n959      35.0  350.0           10.0  \n984      28.0  240.0           11.7  \n1015     28.0  240.0           11.7  \n1033     20.0  190.0           10.5  \n1055     16.0  240.0            6.7  \n...       ...    ...            ...  \n37173    16.0  340.0            8.0  \n37193    53.0  473.0           11.2  \n37194    50.0  473.0           10.6  \n37195    46.0  473.0            9.7  \n37196    46.0  473.0            9.7  \n\n[952 rows x 12 columns]",
      "text/html": "<div>\n<style scoped>\n    .dataframe tbody tr th:only-of-type {\n        vertical-align: middle;\n    }\n\n    .dataframe tbody tr th {\n        vertical-align: top;\n    }\n\n    .dataframe thead th {\n        text-align: right;\n    }\n</style>\n<table border=\"1\" class=\"dataframe\">\n  <thead>\n    <tr style=\"text-align: right;\">\n      <th></th>\n      <th>No</th>\n      <th>식품명</th>\n      <th>대분류</th>\n      <th>중분류</th>\n      <th>소분류</th>\n      <th>1회 제공량</th>\n      <th>용량</th>\n      <th>총내용량(g)</th>\n      <th>총내용량(ml)</th>\n      <th>총당류(g)</th>\n      <th>총내용량</th>\n      <th>단위용량 대비 설탕 비율</th>\n    </tr>\n  </thead>\n  <tbody>\n    <tr>\n      <th>959</th>\n      <td>15933</td>\n      <td>썬키스트레몬에이드</td>\n      <td>음료</td>\n      <td>탄산음료</td>\n      <td>썬키스트</td>\n      <td>350</td>\n      <td>mL</td>\n      <td>-</td>\n      <td>350</td>\n      <td>35.0</td>\n      <td>350.0</td>\n      <td>10.0</td>\n    </tr>\n    <tr>\n      <th>984</th>\n      <td>15988</td>\n      <td>델몬트스퀴즈사과에이드</td>\n      <td>음료</td>\n      <td>탄산음료</td>\n      <td>사과에이드</td>\n      <td>240</td>\n      <td>mL</td>\n      <td>-</td>\n      <td>240</td>\n      <td>28.0</td>\n      <td>240.0</td>\n      <td>11.7</td>\n    </tr>\n    <tr>\n      <th>1015</th>\n      <td>16050</td>\n      <td>델몬트스퀴즈포도에이드</td>\n      <td>음료</td>\n      <td>탄산음료</td>\n      <td>포도에이드</td>\n      <td>240</td>\n      <td>mL</td>\n      <td>-</td>\n      <td>240</td>\n      <td>28.0</td>\n      <td>240.0</td>\n      <td>11.7</td>\n    </tr>\n    <tr>\n      <th>1033</th>\n      <td>16086</td>\n      <td>쟈뎅 까페리얼 블루레몬에이드</td>\n      <td>음료</td>\n      <td>탄산음료</td>\n      <td>레모네이드</td>\n      <td>190</td>\n      <td>mL</td>\n      <td>-</td>\n      <td>190</td>\n      <td>20.0</td>\n      <td>190.0</td>\n      <td>10.5</td>\n    </tr>\n    <tr>\n      <th>1055</th>\n      <td>16110</td>\n      <td>델몬트스퀴즈레몬에이드</td>\n      <td>음료</td>\n      <td>탄산음료</td>\n      <td>레모네이드</td>\n      <td>240</td>\n      <td>mL</td>\n      <td>-</td>\n      <td>240</td>\n      <td>16.0</td>\n      <td>240.0</td>\n      <td>6.7</td>\n    </tr>\n    <tr>\n      <th>...</th>\n      <td>...</td>\n      <td>...</td>\n      <td>...</td>\n      <td>...</td>\n      <td>...</td>\n      <td>...</td>\n      <td>...</td>\n      <td>...</td>\n      <td>...</td>\n      <td>...</td>\n      <td>...</td>\n      <td>...</td>\n    </tr>\n    <tr>\n      <th>37173</th>\n      <td>67242</td>\n      <td>스타일리쉬 에이드 블루레몬</td>\n      <td>음료</td>\n      <td>탄산음료</td>\n      <td>레모네이드</td>\n      <td>200</td>\n      <td>g</td>\n      <td>340</td>\n      <td>-</td>\n      <td>16.0</td>\n      <td>340.0</td>\n      <td>8.0</td>\n    </tr>\n    <tr>\n      <th>37193</th>\n      <td>67581</td>\n      <td>칼립소 오리지날 레몬에이드</td>\n      <td>음료</td>\n      <td>탄산음료</td>\n      <td>레모네이드</td>\n      <td>473</td>\n      <td>g</td>\n      <td>473</td>\n      <td>-</td>\n      <td>53.0</td>\n      <td>473.0</td>\n      <td>11.2</td>\n    </tr>\n    <tr>\n      <th>37194</th>\n      <td>67582</td>\n      <td>칼립소 오션 블루 레몬에이드</td>\n      <td>음료</td>\n      <td>탄산음료</td>\n      <td>레모네이드</td>\n      <td>473</td>\n      <td>g</td>\n      <td>473</td>\n      <td>-</td>\n      <td>50.0</td>\n      <td>473.0</td>\n      <td>10.6</td>\n    </tr>\n    <tr>\n      <th>37195</th>\n      <td>67583</td>\n      <td>칼립소 파인애플 피치 라임에이드</td>\n      <td>음료</td>\n      <td>탄산음료</td>\n      <td>라임에이드</td>\n      <td>473</td>\n      <td>g</td>\n      <td>473</td>\n      <td>-</td>\n      <td>46.0</td>\n      <td>473.0</td>\n      <td>9.7</td>\n    </tr>\n    <tr>\n      <th>37196</th>\n      <td>67584</td>\n      <td>칼립소 핑크 구아바 라임에이드</td>\n      <td>음료</td>\n      <td>탄산음료</td>\n      <td>라임에이드</td>\n      <td>473</td>\n      <td>g</td>\n      <td>473</td>\n      <td>-</td>\n      <td>46.0</td>\n      <td>473.0</td>\n      <td>9.7</td>\n    </tr>\n  </tbody>\n</table>\n<p>952 rows × 12 columns</p>\n</div>"
     },
     "execution_count": 3069,
     "metadata": {},
     "output_type": "execute_result"
    }
   ],
   "source": [
    "sheet[sheet['중분류'] == '탄산음료']"
   ],
   "metadata": {
    "collapsed": false,
    "pycharm": {
     "name": "#%%\n"
    }
   }
  },
  {
   "cell_type": "code",
   "execution_count": 3070,
   "outputs": [
    {
     "name": "stdout",
     "output_type": "stream",
     "text": [
      "{'감귤에이드': 5,\n",
      " '깔라만시에이드': 19,\n",
      " '라임에이드': 30,\n",
      " '레모네이드': 150,\n",
      " '리치에이드': 7,\n",
      " '망고에이드': 20,\n",
      " '매실에이드': 4,\n",
      " '바나나에이드': 1,\n",
      " '배에이드': 7,\n",
      " '복숭아에이드': 42,\n",
      " '블루베리에이드': 15,\n",
      " '사과에이드': 106,\n",
      " '사이다': 74,\n",
      " '살구에이드': 2,\n",
      " '석류에이드': 10,\n",
      " '수박에이드': 18,\n",
      " '스트로베리에이드': 28,\n",
      " '썬키스트': 11,\n",
      " '오렌지에이드': 60,\n",
      " '오미자에이드': 4,\n",
      " '유자에이드': 9,\n",
      " '자두에이드': 19,\n",
      " '자몽에이드': 69,\n",
      " '청귤에이드': 8,\n",
      " '청포도에이드': 62,\n",
      " '체리에이드': 19,\n",
      " '코코넛에이드': 3,\n",
      " '콜라': 64,\n",
      " '키위에이드': 8,\n",
      " '토닉워터': 27,\n",
      " '트로피컬에이드': 3,\n",
      " '포도에이드': 35,\n",
      " '피나콜라다': 1,\n",
      " '한라봉에이드': 12}\n"
     ]
    }
   ],
   "source": [
    "minimal_spark_category = list(sheet.loc[(sheet['중분류'] == '탄산음료') & (sheet['대분류'] == '음료'), '소분류'].unique())\n",
    "spark_dict = {}\n",
    "for value in minimal_spark_category:\n",
    "    spark_dict[value] = len(sheet.loc[(sheet['중분류'] == '탄산음료') & (sheet['소분류'] == value), :])\n",
    "\n",
    "pp.pprint(spark_dict)"
   ],
   "metadata": {
    "collapsed": false,
    "pycharm": {
     "name": "#%%\n"
    }
   }
  },
  {
   "cell_type": "code",
   "execution_count": 3071,
   "outputs": [
    {
     "data": {
      "text/plain": "          No        식품명 대분류   중분류    소분류  1회 제공량  용량 총내용량(g) 총내용량(ml)  총당류(g)  \\\n867    10816     쌍화차플러스  음료  활력음료    고형차      15   g     750        -     6.0   \n906    10855        쌍화차  음료  활력음료    고형차      13   g     195        -    11.0   \n923    10875      생강차골드  음료  활력음료    고형차      13   g     195        -    12.0   \n927    10879      쌍화차골드  음료  활력음료    고형차      13   g     195        -    12.0   \n1010   16040  카프리썬멀티비타민  음료  활력음료  과/채음료     200  mL       -      200    15.0   \n...      ...        ...  ..   ...    ...     ...  ..     ...      ...     ...   \n37182  67253  퓨어플러스 비타씨  음료  활력음료   혼합음료     100   g     100        -     6.0   \n37183  67254     헛개땡큐골드  음료  활력음료   혼합음료     100   g     100        -     9.0   \n37187  67259     황제생강쌍화  음료  활력음료   혼합음료     120   g    1200        -    11.0   \n37218  68099        비타업  음료  활력음료   혼합음료     100   g     100        -     9.0   \n37219  68100   아로골드D플러스  음료  활력음료   혼합음료     100   g    1000        -     4.0   \n\n         총내용량  단위용량 대비 설탕 비율  \n867     750.0           40.0  \n906     195.0           84.6  \n923     195.0           92.3  \n927     195.0           92.3  \n1010    200.0            7.5  \n...       ...            ...  \n37182   100.0            6.0  \n37183   100.0            9.0  \n37187  1200.0            9.2  \n37218   100.0            9.0  \n37219  1000.0            4.0  \n\n[545 rows x 12 columns]",
      "text/html": "<div>\n<style scoped>\n    .dataframe tbody tr th:only-of-type {\n        vertical-align: middle;\n    }\n\n    .dataframe tbody tr th {\n        vertical-align: top;\n    }\n\n    .dataframe thead th {\n        text-align: right;\n    }\n</style>\n<table border=\"1\" class=\"dataframe\">\n  <thead>\n    <tr style=\"text-align: right;\">\n      <th></th>\n      <th>No</th>\n      <th>식품명</th>\n      <th>대분류</th>\n      <th>중분류</th>\n      <th>소분류</th>\n      <th>1회 제공량</th>\n      <th>용량</th>\n      <th>총내용량(g)</th>\n      <th>총내용량(ml)</th>\n      <th>총당류(g)</th>\n      <th>총내용량</th>\n      <th>단위용량 대비 설탕 비율</th>\n    </tr>\n  </thead>\n  <tbody>\n    <tr>\n      <th>867</th>\n      <td>10816</td>\n      <td>쌍화차플러스</td>\n      <td>음료</td>\n      <td>활력음료</td>\n      <td>고형차</td>\n      <td>15</td>\n      <td>g</td>\n      <td>750</td>\n      <td>-</td>\n      <td>6.0</td>\n      <td>750.0</td>\n      <td>40.0</td>\n    </tr>\n    <tr>\n      <th>906</th>\n      <td>10855</td>\n      <td>쌍화차</td>\n      <td>음료</td>\n      <td>활력음료</td>\n      <td>고형차</td>\n      <td>13</td>\n      <td>g</td>\n      <td>195</td>\n      <td>-</td>\n      <td>11.0</td>\n      <td>195.0</td>\n      <td>84.6</td>\n    </tr>\n    <tr>\n      <th>923</th>\n      <td>10875</td>\n      <td>생강차골드</td>\n      <td>음료</td>\n      <td>활력음료</td>\n      <td>고형차</td>\n      <td>13</td>\n      <td>g</td>\n      <td>195</td>\n      <td>-</td>\n      <td>12.0</td>\n      <td>195.0</td>\n      <td>92.3</td>\n    </tr>\n    <tr>\n      <th>927</th>\n      <td>10879</td>\n      <td>쌍화차골드</td>\n      <td>음료</td>\n      <td>활력음료</td>\n      <td>고형차</td>\n      <td>13</td>\n      <td>g</td>\n      <td>195</td>\n      <td>-</td>\n      <td>12.0</td>\n      <td>195.0</td>\n      <td>92.3</td>\n    </tr>\n    <tr>\n      <th>1010</th>\n      <td>16040</td>\n      <td>카프리썬멀티비타민</td>\n      <td>음료</td>\n      <td>활력음료</td>\n      <td>과/채음료</td>\n      <td>200</td>\n      <td>mL</td>\n      <td>-</td>\n      <td>200</td>\n      <td>15.0</td>\n      <td>200.0</td>\n      <td>7.5</td>\n    </tr>\n    <tr>\n      <th>...</th>\n      <td>...</td>\n      <td>...</td>\n      <td>...</td>\n      <td>...</td>\n      <td>...</td>\n      <td>...</td>\n      <td>...</td>\n      <td>...</td>\n      <td>...</td>\n      <td>...</td>\n      <td>...</td>\n      <td>...</td>\n    </tr>\n    <tr>\n      <th>37182</th>\n      <td>67253</td>\n      <td>퓨어플러스 비타씨</td>\n      <td>음료</td>\n      <td>활력음료</td>\n      <td>혼합음료</td>\n      <td>100</td>\n      <td>g</td>\n      <td>100</td>\n      <td>-</td>\n      <td>6.0</td>\n      <td>100.0</td>\n      <td>6.0</td>\n    </tr>\n    <tr>\n      <th>37183</th>\n      <td>67254</td>\n      <td>헛개땡큐골드</td>\n      <td>음료</td>\n      <td>활력음료</td>\n      <td>혼합음료</td>\n      <td>100</td>\n      <td>g</td>\n      <td>100</td>\n      <td>-</td>\n      <td>9.0</td>\n      <td>100.0</td>\n      <td>9.0</td>\n    </tr>\n    <tr>\n      <th>37187</th>\n      <td>67259</td>\n      <td>황제생강쌍화</td>\n      <td>음료</td>\n      <td>활력음료</td>\n      <td>혼합음료</td>\n      <td>120</td>\n      <td>g</td>\n      <td>1200</td>\n      <td>-</td>\n      <td>11.0</td>\n      <td>1200.0</td>\n      <td>9.2</td>\n    </tr>\n    <tr>\n      <th>37218</th>\n      <td>68099</td>\n      <td>비타업</td>\n      <td>음료</td>\n      <td>활력음료</td>\n      <td>혼합음료</td>\n      <td>100</td>\n      <td>g</td>\n      <td>100</td>\n      <td>-</td>\n      <td>9.0</td>\n      <td>100.0</td>\n      <td>9.0</td>\n    </tr>\n    <tr>\n      <th>37219</th>\n      <td>68100</td>\n      <td>아로골드D플러스</td>\n      <td>음료</td>\n      <td>활력음료</td>\n      <td>혼합음료</td>\n      <td>100</td>\n      <td>g</td>\n      <td>1000</td>\n      <td>-</td>\n      <td>4.0</td>\n      <td>1000.0</td>\n      <td>4.0</td>\n    </tr>\n  </tbody>\n</table>\n<p>545 rows × 12 columns</p>\n</div>"
     },
     "execution_count": 3071,
     "metadata": {},
     "output_type": "execute_result"
    }
   ],
   "source": [
    "sheet[sheet['중분류'] == '활력음료']"
   ],
   "metadata": {
    "collapsed": false,
    "pycharm": {
     "name": "#%%\n"
    }
   }
  },
  {
   "cell_type": "code",
   "execution_count": 3072,
   "outputs": [
    {
     "ename": "KeyError",
     "evalue": "'[1356] not found in axis'",
     "output_type": "error",
     "traceback": [
      "\u001B[0;31m---------------------------------------------------------------------------\u001B[0m",
      "\u001B[0;31mKeyError\u001B[0m                                  Traceback (most recent call last)",
      "Input \u001B[0;32mIn [3072]\u001B[0m, in \u001B[0;36m<cell line: 2>\u001B[0;34m()\u001B[0m\n\u001B[1;32m      1\u001B[0m delete \u001B[38;5;241m=\u001B[39m [\u001B[38;5;241m1072\u001B[39m, \u001B[38;5;241m1356\u001B[39m, \u001B[38;5;241m16040\u001B[39m, \u001B[38;5;241m1330\u001B[39m, \u001B[38;5;241m1338\u001B[39m, \u001B[38;5;241m1339\u001B[39m, \u001B[38;5;241m1355\u001B[39m]\n\u001B[1;32m      2\u001B[0m \u001B[38;5;28;01mfor\u001B[39;00m value \u001B[38;5;129;01min\u001B[39;00m delete:\n\u001B[0;32m----> 3\u001B[0m     sheet \u001B[38;5;241m=\u001B[39m \u001B[43msheet\u001B[49m\u001B[38;5;241;43m.\u001B[39;49m\u001B[43mdrop\u001B[49m\u001B[43m(\u001B[49m\u001B[43mvalue\u001B[49m\u001B[43m,\u001B[49m\u001B[43m \u001B[49m\u001B[43maxis\u001B[49m\u001B[38;5;241;43m=\u001B[39;49m\u001B[38;5;241;43m0\u001B[39;49m\u001B[43m)\u001B[49m\n",
      "File \u001B[0;32m/opt/homebrew/Cellar/jupyterlab/3.3.2/libexec/lib/python3.9/site-packages/pandas/util/_decorators.py:311\u001B[0m, in \u001B[0;36mdeprecate_nonkeyword_arguments.<locals>.decorate.<locals>.wrapper\u001B[0;34m(*args, **kwargs)\u001B[0m\n\u001B[1;32m    305\u001B[0m \u001B[38;5;28;01mif\u001B[39;00m \u001B[38;5;28mlen\u001B[39m(args) \u001B[38;5;241m>\u001B[39m num_allow_args:\n\u001B[1;32m    306\u001B[0m     warnings\u001B[38;5;241m.\u001B[39mwarn(\n\u001B[1;32m    307\u001B[0m         msg\u001B[38;5;241m.\u001B[39mformat(arguments\u001B[38;5;241m=\u001B[39marguments),\n\u001B[1;32m    308\u001B[0m         \u001B[38;5;167;01mFutureWarning\u001B[39;00m,\n\u001B[1;32m    309\u001B[0m         stacklevel\u001B[38;5;241m=\u001B[39mstacklevel,\n\u001B[1;32m    310\u001B[0m     )\n\u001B[0;32m--> 311\u001B[0m \u001B[38;5;28;01mreturn\u001B[39;00m \u001B[43mfunc\u001B[49m\u001B[43m(\u001B[49m\u001B[38;5;241;43m*\u001B[39;49m\u001B[43margs\u001B[49m\u001B[43m,\u001B[49m\u001B[43m \u001B[49m\u001B[38;5;241;43m*\u001B[39;49m\u001B[38;5;241;43m*\u001B[39;49m\u001B[43mkwargs\u001B[49m\u001B[43m)\u001B[49m\n",
      "File \u001B[0;32m/opt/homebrew/Cellar/jupyterlab/3.3.2/libexec/lib/python3.9/site-packages/pandas/core/frame.py:4954\u001B[0m, in \u001B[0;36mDataFrame.drop\u001B[0;34m(self, labels, axis, index, columns, level, inplace, errors)\u001B[0m\n\u001B[1;32m   4806\u001B[0m \u001B[38;5;129m@deprecate_nonkeyword_arguments\u001B[39m(version\u001B[38;5;241m=\u001B[39m\u001B[38;5;28;01mNone\u001B[39;00m, allowed_args\u001B[38;5;241m=\u001B[39m[\u001B[38;5;124m\"\u001B[39m\u001B[38;5;124mself\u001B[39m\u001B[38;5;124m\"\u001B[39m, \u001B[38;5;124m\"\u001B[39m\u001B[38;5;124mlabels\u001B[39m\u001B[38;5;124m\"\u001B[39m])\n\u001B[1;32m   4807\u001B[0m \u001B[38;5;28;01mdef\u001B[39;00m \u001B[38;5;21mdrop\u001B[39m(\n\u001B[1;32m   4808\u001B[0m     \u001B[38;5;28mself\u001B[39m,\n\u001B[0;32m   (...)\u001B[0m\n\u001B[1;32m   4815\u001B[0m     errors: \u001B[38;5;28mstr\u001B[39m \u001B[38;5;241m=\u001B[39m \u001B[38;5;124m\"\u001B[39m\u001B[38;5;124mraise\u001B[39m\u001B[38;5;124m\"\u001B[39m,\n\u001B[1;32m   4816\u001B[0m ):\n\u001B[1;32m   4817\u001B[0m     \u001B[38;5;124;03m\"\"\"\u001B[39;00m\n\u001B[1;32m   4818\u001B[0m \u001B[38;5;124;03m    Drop specified labels from rows or columns.\u001B[39;00m\n\u001B[1;32m   4819\u001B[0m \n\u001B[0;32m   (...)\u001B[0m\n\u001B[1;32m   4952\u001B[0m \u001B[38;5;124;03m            weight  1.0     0.8\u001B[39;00m\n\u001B[1;32m   4953\u001B[0m \u001B[38;5;124;03m    \"\"\"\u001B[39;00m\n\u001B[0;32m-> 4954\u001B[0m     \u001B[38;5;28;01mreturn\u001B[39;00m \u001B[38;5;28;43msuper\u001B[39;49m\u001B[43m(\u001B[49m\u001B[43m)\u001B[49m\u001B[38;5;241;43m.\u001B[39;49m\u001B[43mdrop\u001B[49m\u001B[43m(\u001B[49m\n\u001B[1;32m   4955\u001B[0m \u001B[43m        \u001B[49m\u001B[43mlabels\u001B[49m\u001B[38;5;241;43m=\u001B[39;49m\u001B[43mlabels\u001B[49m\u001B[43m,\u001B[49m\n\u001B[1;32m   4956\u001B[0m \u001B[43m        \u001B[49m\u001B[43maxis\u001B[49m\u001B[38;5;241;43m=\u001B[39;49m\u001B[43maxis\u001B[49m\u001B[43m,\u001B[49m\n\u001B[1;32m   4957\u001B[0m \u001B[43m        \u001B[49m\u001B[43mindex\u001B[49m\u001B[38;5;241;43m=\u001B[39;49m\u001B[43mindex\u001B[49m\u001B[43m,\u001B[49m\n\u001B[1;32m   4958\u001B[0m \u001B[43m        \u001B[49m\u001B[43mcolumns\u001B[49m\u001B[38;5;241;43m=\u001B[39;49m\u001B[43mcolumns\u001B[49m\u001B[43m,\u001B[49m\n\u001B[1;32m   4959\u001B[0m \u001B[43m        \u001B[49m\u001B[43mlevel\u001B[49m\u001B[38;5;241;43m=\u001B[39;49m\u001B[43mlevel\u001B[49m\u001B[43m,\u001B[49m\n\u001B[1;32m   4960\u001B[0m \u001B[43m        \u001B[49m\u001B[43minplace\u001B[49m\u001B[38;5;241;43m=\u001B[39;49m\u001B[43minplace\u001B[49m\u001B[43m,\u001B[49m\n\u001B[1;32m   4961\u001B[0m \u001B[43m        \u001B[49m\u001B[43merrors\u001B[49m\u001B[38;5;241;43m=\u001B[39;49m\u001B[43merrors\u001B[49m\u001B[43m,\u001B[49m\n\u001B[1;32m   4962\u001B[0m \u001B[43m    \u001B[49m\u001B[43m)\u001B[49m\n",
      "File \u001B[0;32m/opt/homebrew/Cellar/jupyterlab/3.3.2/libexec/lib/python3.9/site-packages/pandas/core/generic.py:4267\u001B[0m, in \u001B[0;36mNDFrame.drop\u001B[0;34m(self, labels, axis, index, columns, level, inplace, errors)\u001B[0m\n\u001B[1;32m   4265\u001B[0m \u001B[38;5;28;01mfor\u001B[39;00m axis, labels \u001B[38;5;129;01min\u001B[39;00m axes\u001B[38;5;241m.\u001B[39mitems():\n\u001B[1;32m   4266\u001B[0m     \u001B[38;5;28;01mif\u001B[39;00m labels \u001B[38;5;129;01mis\u001B[39;00m \u001B[38;5;129;01mnot\u001B[39;00m \u001B[38;5;28;01mNone\u001B[39;00m:\n\u001B[0;32m-> 4267\u001B[0m         obj \u001B[38;5;241m=\u001B[39m \u001B[43mobj\u001B[49m\u001B[38;5;241;43m.\u001B[39;49m\u001B[43m_drop_axis\u001B[49m\u001B[43m(\u001B[49m\u001B[43mlabels\u001B[49m\u001B[43m,\u001B[49m\u001B[43m \u001B[49m\u001B[43maxis\u001B[49m\u001B[43m,\u001B[49m\u001B[43m \u001B[49m\u001B[43mlevel\u001B[49m\u001B[38;5;241;43m=\u001B[39;49m\u001B[43mlevel\u001B[49m\u001B[43m,\u001B[49m\u001B[43m \u001B[49m\u001B[43merrors\u001B[49m\u001B[38;5;241;43m=\u001B[39;49m\u001B[43merrors\u001B[49m\u001B[43m)\u001B[49m\n\u001B[1;32m   4269\u001B[0m \u001B[38;5;28;01mif\u001B[39;00m inplace:\n\u001B[1;32m   4270\u001B[0m     \u001B[38;5;28mself\u001B[39m\u001B[38;5;241m.\u001B[39m_update_inplace(obj)\n",
      "File \u001B[0;32m/opt/homebrew/Cellar/jupyterlab/3.3.2/libexec/lib/python3.9/site-packages/pandas/core/generic.py:4311\u001B[0m, in \u001B[0;36mNDFrame._drop_axis\u001B[0;34m(self, labels, axis, level, errors, consolidate, only_slice)\u001B[0m\n\u001B[1;32m   4309\u001B[0m         new_axis \u001B[38;5;241m=\u001B[39m axis\u001B[38;5;241m.\u001B[39mdrop(labels, level\u001B[38;5;241m=\u001B[39mlevel, errors\u001B[38;5;241m=\u001B[39merrors)\n\u001B[1;32m   4310\u001B[0m     \u001B[38;5;28;01melse\u001B[39;00m:\n\u001B[0;32m-> 4311\u001B[0m         new_axis \u001B[38;5;241m=\u001B[39m \u001B[43maxis\u001B[49m\u001B[38;5;241;43m.\u001B[39;49m\u001B[43mdrop\u001B[49m\u001B[43m(\u001B[49m\u001B[43mlabels\u001B[49m\u001B[43m,\u001B[49m\u001B[43m \u001B[49m\u001B[43merrors\u001B[49m\u001B[38;5;241;43m=\u001B[39;49m\u001B[43merrors\u001B[49m\u001B[43m)\u001B[49m\n\u001B[1;32m   4312\u001B[0m     indexer \u001B[38;5;241m=\u001B[39m axis\u001B[38;5;241m.\u001B[39mget_indexer(new_axis)\n\u001B[1;32m   4314\u001B[0m \u001B[38;5;66;03m# Case for non-unique axis\u001B[39;00m\n\u001B[1;32m   4315\u001B[0m \u001B[38;5;28;01melse\u001B[39;00m:\n",
      "File \u001B[0;32m/opt/homebrew/Cellar/jupyterlab/3.3.2/libexec/lib/python3.9/site-packages/pandas/core/indexes/base.py:6644\u001B[0m, in \u001B[0;36mIndex.drop\u001B[0;34m(self, labels, errors)\u001B[0m\n\u001B[1;32m   6642\u001B[0m \u001B[38;5;28;01mif\u001B[39;00m mask\u001B[38;5;241m.\u001B[39many():\n\u001B[1;32m   6643\u001B[0m     \u001B[38;5;28;01mif\u001B[39;00m errors \u001B[38;5;241m!=\u001B[39m \u001B[38;5;124m\"\u001B[39m\u001B[38;5;124mignore\u001B[39m\u001B[38;5;124m\"\u001B[39m:\n\u001B[0;32m-> 6644\u001B[0m         \u001B[38;5;28;01mraise\u001B[39;00m \u001B[38;5;167;01mKeyError\u001B[39;00m(\u001B[38;5;124mf\u001B[39m\u001B[38;5;124m\"\u001B[39m\u001B[38;5;132;01m{\u001B[39;00m\u001B[38;5;28mlist\u001B[39m(labels[mask])\u001B[38;5;132;01m}\u001B[39;00m\u001B[38;5;124m not found in axis\u001B[39m\u001B[38;5;124m\"\u001B[39m)\n\u001B[1;32m   6645\u001B[0m     indexer \u001B[38;5;241m=\u001B[39m indexer[\u001B[38;5;241m~\u001B[39mmask]\n\u001B[1;32m   6646\u001B[0m \u001B[38;5;28;01mreturn\u001B[39;00m \u001B[38;5;28mself\u001B[39m\u001B[38;5;241m.\u001B[39mdelete(indexer)\n",
      "\u001B[0;31mKeyError\u001B[0m: '[1356] not found in axis'"
     ]
    }
   ],
   "source": [
    "delete = [1072, 1356, 16040, 1330, 1338, 1339, 1355]\n",
    "for value in delete:\n",
    "    sheet = sheet.drop(value, axis=0)"
   ],
   "metadata": {
    "collapsed": false,
    "pycharm": {
     "name": "#%%\n"
    }
   }
  },
  {
   "cell_type": "code",
   "execution_count": 3073,
   "outputs": [
    {
     "data": {
      "text/plain": "array(['두유', '과·채음료', '차', '활력음료', '인삼/홍삼음료', '탄산음료', '젤리', '발효음료', '스무디',\n       '이온음료', '커피류'], dtype=object)"
     },
     "execution_count": 3073,
     "metadata": {},
     "output_type": "execute_result"
    }
   ],
   "source": [
    "\n",
    "sheet.loc[(sheet['대분류'] == '음료'), '중분류'].unique()"
   ],
   "metadata": {
    "collapsed": false,
    "pycharm": {
     "name": "#%%\n"
    }
   }
  },
  {
   "cell_type": "code",
   "execution_count": 3074,
   "outputs": [
    {
     "data": {
      "text/plain": "          No              식품명 대분류   중분류 소분류  1회 제공량  용량 총내용량(g) 총내용량(ml)  \\\n1330   29671         선셋골드 달란단  음료  활력음료         340  mL     340        -   \n1973   51729       선셋골드 패션후르츠  음료  활력음료         340   g     340        -   \n2771   28999       광동진(眞)노니골드  음료  활력음료         320  mL     320        -   \n3519   40348   골드라벨 프리미엄 노니주스  음료  활력음료         100  mL       -     1000   \n3682   43640  골드라이프 100% 노니주스  음료  활력음료         100  mL       -     1000   \n...      ...              ...  ..   ...  ..     ...  ..     ...      ...   \n37132  66729         고려흑삼진액골드  음료  활력음료          60   g      60        -   \n37133  66730            녹용톤골드  음료  활력음료          60   g    1800        -   \n37141  66742            침향총기원  음료  활력음료          15   g      15        -   \n37181  67252         풀린애 녹용골드  음료  활력음료         100   g     100        -   \n37219  68100         아로골드D플러스  음료  활력음료         100   g    1000        -   \n\n       총당류(g)    총내용량  단위용량 대비 설탕 비율  \n1330     58.0   340.0           17.1  \n1973     55.0   340.0           16.2  \n2771     23.0   320.0            7.2  \n3519      9.0  1000.0            9.0  \n3682      8.5  1000.0            8.5  \n...       ...     ...            ...  \n37132     6.0    60.0           10.0  \n37133     6.0  1800.0           10.0  \n37141     4.0    15.0           26.7  \n37181    11.0   100.0           11.0  \n37219     4.0  1000.0            4.0  \n\n[108 rows x 12 columns]",
      "text/html": "<div>\n<style scoped>\n    .dataframe tbody tr th:only-of-type {\n        vertical-align: middle;\n    }\n\n    .dataframe tbody tr th {\n        vertical-align: top;\n    }\n\n    .dataframe thead th {\n        text-align: right;\n    }\n</style>\n<table border=\"1\" class=\"dataframe\">\n  <thead>\n    <tr style=\"text-align: right;\">\n      <th></th>\n      <th>No</th>\n      <th>식품명</th>\n      <th>대분류</th>\n      <th>중분류</th>\n      <th>소분류</th>\n      <th>1회 제공량</th>\n      <th>용량</th>\n      <th>총내용량(g)</th>\n      <th>총내용량(ml)</th>\n      <th>총당류(g)</th>\n      <th>총내용량</th>\n      <th>단위용량 대비 설탕 비율</th>\n    </tr>\n  </thead>\n  <tbody>\n    <tr>\n      <th>1330</th>\n      <td>29671</td>\n      <td>선셋골드 달란단</td>\n      <td>음료</td>\n      <td>활력음료</td>\n      <td></td>\n      <td>340</td>\n      <td>mL</td>\n      <td>340</td>\n      <td>-</td>\n      <td>58.0</td>\n      <td>340.0</td>\n      <td>17.1</td>\n    </tr>\n    <tr>\n      <th>1973</th>\n      <td>51729</td>\n      <td>선셋골드 패션후르츠</td>\n      <td>음료</td>\n      <td>활력음료</td>\n      <td></td>\n      <td>340</td>\n      <td>g</td>\n      <td>340</td>\n      <td>-</td>\n      <td>55.0</td>\n      <td>340.0</td>\n      <td>16.2</td>\n    </tr>\n    <tr>\n      <th>2771</th>\n      <td>28999</td>\n      <td>광동진(眞)노니골드</td>\n      <td>음료</td>\n      <td>활력음료</td>\n      <td></td>\n      <td>320</td>\n      <td>mL</td>\n      <td>320</td>\n      <td>-</td>\n      <td>23.0</td>\n      <td>320.0</td>\n      <td>7.2</td>\n    </tr>\n    <tr>\n      <th>3519</th>\n      <td>40348</td>\n      <td>골드라벨 프리미엄 노니주스</td>\n      <td>음료</td>\n      <td>활력음료</td>\n      <td></td>\n      <td>100</td>\n      <td>mL</td>\n      <td>-</td>\n      <td>1000</td>\n      <td>9.0</td>\n      <td>1000.0</td>\n      <td>9.0</td>\n    </tr>\n    <tr>\n      <th>3682</th>\n      <td>43640</td>\n      <td>골드라이프 100% 노니주스</td>\n      <td>음료</td>\n      <td>활력음료</td>\n      <td></td>\n      <td>100</td>\n      <td>mL</td>\n      <td>-</td>\n      <td>1000</td>\n      <td>8.5</td>\n      <td>1000.0</td>\n      <td>8.5</td>\n    </tr>\n    <tr>\n      <th>...</th>\n      <td>...</td>\n      <td>...</td>\n      <td>...</td>\n      <td>...</td>\n      <td>...</td>\n      <td>...</td>\n      <td>...</td>\n      <td>...</td>\n      <td>...</td>\n      <td>...</td>\n      <td>...</td>\n      <td>...</td>\n    </tr>\n    <tr>\n      <th>37132</th>\n      <td>66729</td>\n      <td>고려흑삼진액골드</td>\n      <td>음료</td>\n      <td>활력음료</td>\n      <td></td>\n      <td>60</td>\n      <td>g</td>\n      <td>60</td>\n      <td>-</td>\n      <td>6.0</td>\n      <td>60.0</td>\n      <td>10.0</td>\n    </tr>\n    <tr>\n      <th>37133</th>\n      <td>66730</td>\n      <td>녹용톤골드</td>\n      <td>음료</td>\n      <td>활력음료</td>\n      <td></td>\n      <td>60</td>\n      <td>g</td>\n      <td>1800</td>\n      <td>-</td>\n      <td>6.0</td>\n      <td>1800.0</td>\n      <td>10.0</td>\n    </tr>\n    <tr>\n      <th>37141</th>\n      <td>66742</td>\n      <td>침향총기원</td>\n      <td>음료</td>\n      <td>활력음료</td>\n      <td></td>\n      <td>15</td>\n      <td>g</td>\n      <td>15</td>\n      <td>-</td>\n      <td>4.0</td>\n      <td>15.0</td>\n      <td>26.7</td>\n    </tr>\n    <tr>\n      <th>37181</th>\n      <td>67252</td>\n      <td>풀린애 녹용골드</td>\n      <td>음료</td>\n      <td>활력음료</td>\n      <td></td>\n      <td>100</td>\n      <td>g</td>\n      <td>100</td>\n      <td>-</td>\n      <td>11.0</td>\n      <td>100.0</td>\n      <td>11.0</td>\n    </tr>\n    <tr>\n      <th>37219</th>\n      <td>68100</td>\n      <td>아로골드D플러스</td>\n      <td>음료</td>\n      <td>활력음료</td>\n      <td></td>\n      <td>100</td>\n      <td>g</td>\n      <td>1000</td>\n      <td>-</td>\n      <td>4.0</td>\n      <td>1000.0</td>\n      <td>4.0</td>\n    </tr>\n  </tbody>\n</table>\n<p>108 rows × 12 columns</p>\n</div>"
     },
     "execution_count": 3074,
     "metadata": {},
     "output_type": "execute_result"
    }
   ],
   "source": [
    "sheet.loc[(sheet['대분류'] == '음료') & (sheet['중분류'] == '활력음료') & (sheet['소분류'] != '고형차'), '소분류'] = \"\"\n",
    "sheet.loc[(sheet['소분류'] == '고형차') & (sheet['중분류'] == '활력음료'), '소분류'] = '분말'\n",
    "\n",
    "\n",
    "# 다 ‘활력음료’ 붙이기\n",
    "# -> 오렌지 orange 합치기\n",
    "# -> 코코넛 코코 합치기\n",
    "# -> 유어스 삭제\n",
    "\n",
    "\n",
    "오렌지활력음료 = ['오렌지', 'Orange']\n",
    "토마토활력음료 = ['토마토']\n",
    "도라지활력음료 = ['도라지']\n",
    "콜라겐활력음료 = ['콜라겐']\n",
    "망고활력음료 = ['망고']\n",
    "배활력음료 = ['배']\n",
    "매실활력음료 = ['매실']\n",
    "감귤활력음료 = ['감귤']\n",
    "바나나활력음료 = ['바나나']\n",
    "살구활력음료 = ['살구']\n",
    "복분자활력음료 = ['복분자', '복분실']\n",
    "키위활력음료 = ['키위']\n",
    "베리활력음료 = ['블루베리', '크랜베리']\n",
    "홍시활력음료 = ['홍시']\n",
    "깔라만시활력음료 = ['깔라만시']\n",
    "체리활력음료 = ['체리']\n",
    "수박활력음료 = ['수박']\n",
    "무화과활력음료 = ['무화과']\n",
    "아로니아활력음료 = ['아로니아']\n",
    "푸룬활력음료 = ['푸룬', '푸른']\n",
    "코코넛활력음료 = ['코코']\n",
    "유자활력음료 = ['유자']\n",
    "자두활력음료 = ['자두']\n",
    "배활력음료 = ['배']\n",
    "리치활력음료 = ['리치']\n",
    "오미자활력음료 = ['오미자']\n",
    "포도활력음료 = ['포도']\n",
    "사과활력음료 = ['사과', '애플']\n",
    "복숭아활력음료 = ['복숭아', '피치']\n",
    "청포도활력음료 = ['청포도']\n",
    "석류활력음료 = ['석류']\n",
    "쌍화차 = ['쌍화', '생강']\n",
    "비타민활력음료 = ['비타민', '비타']\n",
    "헛개활력음료 = ['헛개', '모닝케어']\n",
    "녹용활력음료 = ['녹용']\n",
    "\n",
    "\n",
    "활력음료종류 = {\n",
    "\"오렌지활력음료\":오렌지활력음료,\n",
    "\"토마토활력음료\":토마토활력음료,\n",
    "\"도라지활력음료\":도라지활력음료,\n",
    "\"콜라겐활력음료\":콜라겐활력음료,\n",
    "\"망고활력음료\":망고활력음료,\n",
    "\"배활력음료\":배활력음료,\n",
    "\"매실활력음료\":매실활력음료,\n",
    "\"감귤활력음료\":감귤활력음료,\n",
    "\"바나나활력음료\":바나나활력음료,\n",
    "\"살구활력음료\":살구활력음료,\n",
    "\"복분자활력음료\":복분자활력음료,\n",
    "\"키위활력음료\":키위활력음료,\n",
    "\"베리활력음료\":베리활력음료,\n",
    "\"홍시활력음료\":홍시활력음료,\n",
    "\"깔라만시활력음료\":깔라만시활력음료,\n",
    "\"체리활력음료\":체리활력음료,\n",
    "\"수박활력음료\":수박활력음료,\n",
    "\"무화과활력음료\":무화과활력음료,\n",
    "\"아로니아활력음료\":아로니아활력음료,\n",
    "\"푸룬활력음료\":푸룬활력음료,\n",
    "\"코코넛활력음료\":코코넛활력음료,\n",
    "\"유자활력음료\":유자활력음료,\n",
    "\"자두활력음료\":자두활력음료,\n",
    "\"배활력음료\":배활력음료,\n",
    "\"리치활력음료\":리치활력음료,\n",
    "\"오미자활력음료\":오미자활력음료,\n",
    "\"포도활력음료\":포도활력음료,\n",
    "\"사과활력음료\":사과활력음료,\n",
    "\"복숭아활력음료\":복숭아활력음료,\n",
    "\"청포도활력음료\":청포도활력음료,\n",
    "\"석류활력음료\":석류활력음료,\n",
    "    \"쌍화차\":쌍화차,\n",
    "    \"비타민활력음료\":비타민활력음료,\n",
    "    \"헛개활력음료\":헛개활력음료\n",
    "}\n",
    "\n",
    "seperated_category('활력음료', 활력음료종류, (sheet['소분류'] != '분말'))\n",
    "\n",
    "sheet[(sheet['중분류'] == '활력음료') & (sheet['소분류'] == \"\")]"
   ],
   "metadata": {
    "collapsed": false,
    "pycharm": {
     "name": "#%%\n"
    }
   }
  },
  {
   "cell_type": "code",
   "execution_count": 3075,
   "outputs": [],
   "source": [
    "delete = sheet[(sheet['중분류'] == '활력음료') & (sheet['소분류'] == \"\")].index\n",
    "for value in delete:\n",
    "    sheet = sheet.drop(value, axis=0)"
   ],
   "metadata": {
    "collapsed": false,
    "pycharm": {
     "name": "#%%\n"
    }
   }
  },
  {
   "cell_type": "code",
   "execution_count": 3076,
   "outputs": [
    {
     "name": "stdout",
     "output_type": "stream",
     "text": [
      "{'깔라만시활력음료': 1,\n",
      " '망고활력음료': 1,\n",
      " '매실활력음료': 2,\n",
      " '바나나활력음료': 1,\n",
      " '배활력음료': 3,\n",
      " '베리활력음료': 4,\n",
      " '복분자활력음료': 2,\n",
      " '복숭아활력음료': 1,\n",
      " '분말': 4,\n",
      " '비타민활력음료': 150,\n",
      " '사과활력음료': 7,\n",
      " '석류활력음료': 79,\n",
      " '쌍화차': 27,\n",
      " '아로니아활력음료': 5,\n",
      " '오렌지활력음료': 4,\n",
      " '유자활력음료': 1,\n",
      " '청포도활력음료': 1,\n",
      " '체리활력음료': 17,\n",
      " '콜라겐활력음료': 70,\n",
      " '키위활력음료': 9,\n",
      " '토마토활력음료': 3,\n",
      " '포도활력음료': 1,\n",
      " '푸룬활력음료': 1,\n",
      " '헛개활력음료': 42}\n"
     ]
    }
   ],
   "source": [
    "minimal_vitality_category = list(sheet.loc[(sheet['중분류'] == '활력음료') & (sheet['대분류'] == '음료'), '소분류'].unique())\n",
    "vitality_dict = {}\n",
    "for value in minimal_vitality_category:\n",
    "    vitality_dict[value] = len(sheet.loc[(sheet['중분류'] == '활력음료') & (sheet['소분류'] == value), :])\n",
    "\n",
    "pp.pprint(vitality_dict)"
   ],
   "metadata": {
    "collapsed": false,
    "pycharm": {
     "name": "#%%\n"
    }
   }
  },
  {
   "cell_type": "code",
   "execution_count": 3077,
   "outputs": [
    {
     "data": {
      "text/plain": "          No                 식품명                   대분류    중분류     소분류  1회 제공량  \\\n633    51212            호지오렌지밀크티                  유가공품     우유     가공유     100   \n953     6749          카프리썬 오렌지망고                    음료  과·채음료    카프리썬     200   \n961    15937           카프리썬오렌지망고                    음료  과·채음료    카프리썬     200   \n965    15945      미닛메이드 오리지널 오렌지                    음료  과·채음료   오렌지주스     350   \n967    15949             카프리썬오렌지                    음료  과·채음료    카프리썬     200   \n...      ...                 ...                   ...    ...     ...     ...   \n37148  66757      오렌지 트위스트 앤 드링크                    음료  과·채음료   오렌지주스     200   \n37208  67961             오렌지 드링크                    음료  과·채음료   오렌지주스     175   \n37237  40511         칼레 오렌지향 초콜릿  캔디, 초콜릿, 젤리, 캐러멜, 양갱    초콜릿  화이트초콜릿     100   \n37305  44717  나마초콜릿 원료조각- 오렌지&망고  캔디, 초콜릿, 젤리, 캐러멜, 양갱    초콜릿  화이트초콜릿     100   \n37307  44728  로이즈 나마초콜릿 - 오렌지&망고  캔디, 초콜릿, 젤리, 캐러멜, 양갱    초콜릿  화이트초콜릿     100   \n\n       용량 총내용량(g) 총내용량(ml)  총당류(g)     총내용량  단위용량 대비 설탕 비율  \n633    mL       -      300    10.2    300.0           10.2  \n953    mL       -      200    15.0    200.0            7.5  \n961    mL       -      200    15.0    200.0            7.5  \n965    mL       -      350    26.0    350.0            7.4  \n967    mL       -      200    15.0    200.0            7.5  \n...    ..     ...      ...     ...      ...            ...  \n37148   g     200        -    18.4    200.0            9.2  \n37208   g     175        -    11.0    175.0            6.3  \n37237   g    2500        -    55.0   2500.0           55.0  \n37305   g   10000        -    31.6  10000.0           31.6  \n37307   g     125        -    31.6    125.0           31.6  \n\n[565 rows x 12 columns]",
      "text/html": "<div>\n<style scoped>\n    .dataframe tbody tr th:only-of-type {\n        vertical-align: middle;\n    }\n\n    .dataframe tbody tr th {\n        vertical-align: top;\n    }\n\n    .dataframe thead th {\n        text-align: right;\n    }\n</style>\n<table border=\"1\" class=\"dataframe\">\n  <thead>\n    <tr style=\"text-align: right;\">\n      <th></th>\n      <th>No</th>\n      <th>식품명</th>\n      <th>대분류</th>\n      <th>중분류</th>\n      <th>소분류</th>\n      <th>1회 제공량</th>\n      <th>용량</th>\n      <th>총내용량(g)</th>\n      <th>총내용량(ml)</th>\n      <th>총당류(g)</th>\n      <th>총내용량</th>\n      <th>단위용량 대비 설탕 비율</th>\n    </tr>\n  </thead>\n  <tbody>\n    <tr>\n      <th>633</th>\n      <td>51212</td>\n      <td>호지오렌지밀크티</td>\n      <td>유가공품</td>\n      <td>우유</td>\n      <td>가공유</td>\n      <td>100</td>\n      <td>mL</td>\n      <td>-</td>\n      <td>300</td>\n      <td>10.2</td>\n      <td>300.0</td>\n      <td>10.2</td>\n    </tr>\n    <tr>\n      <th>953</th>\n      <td>6749</td>\n      <td>카프리썬 오렌지망고</td>\n      <td>음료</td>\n      <td>과·채음료</td>\n      <td>카프리썬</td>\n      <td>200</td>\n      <td>mL</td>\n      <td>-</td>\n      <td>200</td>\n      <td>15.0</td>\n      <td>200.0</td>\n      <td>7.5</td>\n    </tr>\n    <tr>\n      <th>961</th>\n      <td>15937</td>\n      <td>카프리썬오렌지망고</td>\n      <td>음료</td>\n      <td>과·채음료</td>\n      <td>카프리썬</td>\n      <td>200</td>\n      <td>mL</td>\n      <td>-</td>\n      <td>200</td>\n      <td>15.0</td>\n      <td>200.0</td>\n      <td>7.5</td>\n    </tr>\n    <tr>\n      <th>965</th>\n      <td>15945</td>\n      <td>미닛메이드 오리지널 오렌지</td>\n      <td>음료</td>\n      <td>과·채음료</td>\n      <td>오렌지주스</td>\n      <td>350</td>\n      <td>mL</td>\n      <td>-</td>\n      <td>350</td>\n      <td>26.0</td>\n      <td>350.0</td>\n      <td>7.4</td>\n    </tr>\n    <tr>\n      <th>967</th>\n      <td>15949</td>\n      <td>카프리썬오렌지</td>\n      <td>음료</td>\n      <td>과·채음료</td>\n      <td>카프리썬</td>\n      <td>200</td>\n      <td>mL</td>\n      <td>-</td>\n      <td>200</td>\n      <td>15.0</td>\n      <td>200.0</td>\n      <td>7.5</td>\n    </tr>\n    <tr>\n      <th>...</th>\n      <td>...</td>\n      <td>...</td>\n      <td>...</td>\n      <td>...</td>\n      <td>...</td>\n      <td>...</td>\n      <td>...</td>\n      <td>...</td>\n      <td>...</td>\n      <td>...</td>\n      <td>...</td>\n      <td>...</td>\n    </tr>\n    <tr>\n      <th>37148</th>\n      <td>66757</td>\n      <td>오렌지 트위스트 앤 드링크</td>\n      <td>음료</td>\n      <td>과·채음료</td>\n      <td>오렌지주스</td>\n      <td>200</td>\n      <td>g</td>\n      <td>200</td>\n      <td>-</td>\n      <td>18.4</td>\n      <td>200.0</td>\n      <td>9.2</td>\n    </tr>\n    <tr>\n      <th>37208</th>\n      <td>67961</td>\n      <td>오렌지 드링크</td>\n      <td>음료</td>\n      <td>과·채음료</td>\n      <td>오렌지주스</td>\n      <td>175</td>\n      <td>g</td>\n      <td>175</td>\n      <td>-</td>\n      <td>11.0</td>\n      <td>175.0</td>\n      <td>6.3</td>\n    </tr>\n    <tr>\n      <th>37237</th>\n      <td>40511</td>\n      <td>칼레 오렌지향 초콜릿</td>\n      <td>캔디, 초콜릿, 젤리, 캐러멜, 양갱</td>\n      <td>초콜릿</td>\n      <td>화이트초콜릿</td>\n      <td>100</td>\n      <td>g</td>\n      <td>2500</td>\n      <td>-</td>\n      <td>55.0</td>\n      <td>2500.0</td>\n      <td>55.0</td>\n    </tr>\n    <tr>\n      <th>37305</th>\n      <td>44717</td>\n      <td>나마초콜릿 원료조각- 오렌지&amp;망고</td>\n      <td>캔디, 초콜릿, 젤리, 캐러멜, 양갱</td>\n      <td>초콜릿</td>\n      <td>화이트초콜릿</td>\n      <td>100</td>\n      <td>g</td>\n      <td>10000</td>\n      <td>-</td>\n      <td>31.6</td>\n      <td>10000.0</td>\n      <td>31.6</td>\n    </tr>\n    <tr>\n      <th>37307</th>\n      <td>44728</td>\n      <td>로이즈 나마초콜릿 - 오렌지&amp;망고</td>\n      <td>캔디, 초콜릿, 젤리, 캐러멜, 양갱</td>\n      <td>초콜릿</td>\n      <td>화이트초콜릿</td>\n      <td>100</td>\n      <td>g</td>\n      <td>125</td>\n      <td>-</td>\n      <td>31.6</td>\n      <td>125.0</td>\n      <td>31.6</td>\n    </tr>\n  </tbody>\n</table>\n<p>565 rows × 12 columns</p>\n</div>"
     },
     "execution_count": 3077,
     "metadata": {},
     "output_type": "execute_result"
    }
   ],
   "source": [
    "sheet.loc[(sheet['식품명'].str.contains('오렌지')) & (sheet['소분류'] != '분말'), :]"
   ],
   "metadata": {
    "collapsed": false,
    "pycharm": {
     "name": "#%%\n"
    }
   }
  },
  {
   "cell_type": "code",
   "execution_count": 3078,
   "outputs": [
    {
     "name": "stderr",
     "output_type": "stream",
     "text": [
      "/opt/homebrew/Cellar/jupyterlab/3.3.2/libexec/lib/python3.9/site-packages/IPython/core/displayhook.py:275: UserWarning: Output cache limit (currently 1000 entries) hit.\n",
      "Flushing oldest 200 entries.\n",
      "  warn('Output cache limit (currently {sz} entries) hit.\\n'\n"
     ]
    },
    {
     "data": {
      "text/plain": "          No                 식품명 대분류   중분류      소분류  1회 제공량  용량 총내용량(g)  \\\n0      10397           삼육두유검은콩칼슘  음료    두유     가공두유     190  mL       -   \n1      10398         베지밀검은콩두유고칼슘  음료    두유     가공두유     190  mL       -   \n3      10400       삼육두유검은콩호두와아몬드  음료    두유     가공두유     140  mL       -   \n5      10402               삼육두유A  음료    두유     가공두유     190  mL       -   \n6      10403         베지밀아몬드와호두두유  음료    두유     가공두유     190  mL       -   \n...      ...                 ...  ..   ...      ...     ...  ..     ...   \n37214  68089      유기농 햇살깃든 오미자식혜  음료  발효음료     식혜음료     100  mL       -   \n37215  68090       유기농 햇살깃든 일반식혜  음료  발효음료     식혜음료     100  mL       -   \n37216  68091       유기농 햇살깃든 현미식혜  음료  발효음료     식혜음료     100  mL       -   \n37217  68092  유기농 햇살깃든 현미자색고구마식혜  음료  발효음료     식혜음료     100  mL       -   \n37218  68099                 비타업  음료  활력음료  비타민활력음료     100   g     100   \n\n      총내용량(ml)  총당류(g)   총내용량  단위용량 대비 설탕 비율  \n0          190    10.0  190.0            5.3  \n1          190    10.0  190.0            5.3  \n3          140    10.0  140.0            7.1  \n5          190     6.0  190.0            3.2  \n6          190     8.5  190.0            4.5  \n...        ...     ...    ...            ...  \n37214      340    12.8  340.0           12.8  \n37215      340    12.2  340.0           12.2  \n37216      340    12.2  340.0           12.2  \n37217      340    11.0  340.0           11.0  \n37218        -     9.0  100.0            9.0  \n\n[7760 rows x 12 columns]",
      "text/html": "<div>\n<style scoped>\n    .dataframe tbody tr th:only-of-type {\n        vertical-align: middle;\n    }\n\n    .dataframe tbody tr th {\n        vertical-align: top;\n    }\n\n    .dataframe thead th {\n        text-align: right;\n    }\n</style>\n<table border=\"1\" class=\"dataframe\">\n  <thead>\n    <tr style=\"text-align: right;\">\n      <th></th>\n      <th>No</th>\n      <th>식품명</th>\n      <th>대분류</th>\n      <th>중분류</th>\n      <th>소분류</th>\n      <th>1회 제공량</th>\n      <th>용량</th>\n      <th>총내용량(g)</th>\n      <th>총내용량(ml)</th>\n      <th>총당류(g)</th>\n      <th>총내용량</th>\n      <th>단위용량 대비 설탕 비율</th>\n    </tr>\n  </thead>\n  <tbody>\n    <tr>\n      <th>0</th>\n      <td>10397</td>\n      <td>삼육두유검은콩칼슘</td>\n      <td>음료</td>\n      <td>두유</td>\n      <td>가공두유</td>\n      <td>190</td>\n      <td>mL</td>\n      <td>-</td>\n      <td>190</td>\n      <td>10.0</td>\n      <td>190.0</td>\n      <td>5.3</td>\n    </tr>\n    <tr>\n      <th>1</th>\n      <td>10398</td>\n      <td>베지밀검은콩두유고칼슘</td>\n      <td>음료</td>\n      <td>두유</td>\n      <td>가공두유</td>\n      <td>190</td>\n      <td>mL</td>\n      <td>-</td>\n      <td>190</td>\n      <td>10.0</td>\n      <td>190.0</td>\n      <td>5.3</td>\n    </tr>\n    <tr>\n      <th>3</th>\n      <td>10400</td>\n      <td>삼육두유검은콩호두와아몬드</td>\n      <td>음료</td>\n      <td>두유</td>\n      <td>가공두유</td>\n      <td>140</td>\n      <td>mL</td>\n      <td>-</td>\n      <td>140</td>\n      <td>10.0</td>\n      <td>140.0</td>\n      <td>7.1</td>\n    </tr>\n    <tr>\n      <th>5</th>\n      <td>10402</td>\n      <td>삼육두유A</td>\n      <td>음료</td>\n      <td>두유</td>\n      <td>가공두유</td>\n      <td>190</td>\n      <td>mL</td>\n      <td>-</td>\n      <td>190</td>\n      <td>6.0</td>\n      <td>190.0</td>\n      <td>3.2</td>\n    </tr>\n    <tr>\n      <th>6</th>\n      <td>10403</td>\n      <td>베지밀아몬드와호두두유</td>\n      <td>음료</td>\n      <td>두유</td>\n      <td>가공두유</td>\n      <td>190</td>\n      <td>mL</td>\n      <td>-</td>\n      <td>190</td>\n      <td>8.5</td>\n      <td>190.0</td>\n      <td>4.5</td>\n    </tr>\n    <tr>\n      <th>...</th>\n      <td>...</td>\n      <td>...</td>\n      <td>...</td>\n      <td>...</td>\n      <td>...</td>\n      <td>...</td>\n      <td>...</td>\n      <td>...</td>\n      <td>...</td>\n      <td>...</td>\n      <td>...</td>\n      <td>...</td>\n    </tr>\n    <tr>\n      <th>37214</th>\n      <td>68089</td>\n      <td>유기농 햇살깃든 오미자식혜</td>\n      <td>음료</td>\n      <td>발효음료</td>\n      <td>식혜음료</td>\n      <td>100</td>\n      <td>mL</td>\n      <td>-</td>\n      <td>340</td>\n      <td>12.8</td>\n      <td>340.0</td>\n      <td>12.8</td>\n    </tr>\n    <tr>\n      <th>37215</th>\n      <td>68090</td>\n      <td>유기농 햇살깃든 일반식혜</td>\n      <td>음료</td>\n      <td>발효음료</td>\n      <td>식혜음료</td>\n      <td>100</td>\n      <td>mL</td>\n      <td>-</td>\n      <td>340</td>\n      <td>12.2</td>\n      <td>340.0</td>\n      <td>12.2</td>\n    </tr>\n    <tr>\n      <th>37216</th>\n      <td>68091</td>\n      <td>유기농 햇살깃든 현미식혜</td>\n      <td>음료</td>\n      <td>발효음료</td>\n      <td>식혜음료</td>\n      <td>100</td>\n      <td>mL</td>\n      <td>-</td>\n      <td>340</td>\n      <td>12.2</td>\n      <td>340.0</td>\n      <td>12.2</td>\n    </tr>\n    <tr>\n      <th>37217</th>\n      <td>68092</td>\n      <td>유기농 햇살깃든 현미자색고구마식혜</td>\n      <td>음료</td>\n      <td>발효음료</td>\n      <td>식혜음료</td>\n      <td>100</td>\n      <td>mL</td>\n      <td>-</td>\n      <td>340</td>\n      <td>11.0</td>\n      <td>340.0</td>\n      <td>11.0</td>\n    </tr>\n    <tr>\n      <th>37218</th>\n      <td>68099</td>\n      <td>비타업</td>\n      <td>음료</td>\n      <td>활력음료</td>\n      <td>비타민활력음료</td>\n      <td>100</td>\n      <td>g</td>\n      <td>100</td>\n      <td>-</td>\n      <td>9.0</td>\n      <td>100.0</td>\n      <td>9.0</td>\n    </tr>\n  </tbody>\n</table>\n<p>7760 rows × 12 columns</p>\n</div>"
     },
     "execution_count": 3078,
     "metadata": {},
     "output_type": "execute_result"
    }
   ],
   "source": [
    "sheet.loc[(sheet['대분류'] == '음료'), :]"
   ],
   "metadata": {
    "collapsed": false,
    "pycharm": {
     "name": "#%%\n"
    }
   }
  },
  {
   "cell_type": "code",
   "execution_count": 3079,
   "outputs": [
    {
     "data": {
      "text/plain": "          No            식품명 대분류 중분류   소분류  1회 제공량  용량 총내용량(g) 총내용량(ml)  \\\n0      10397      삼육두유검은콩칼슘  음료  두유  가공두유     190  mL       -      190   \n1      10398    베지밀검은콩두유고칼슘  음료  두유  가공두유     190  mL       -      190   \n3      10400  삼육두유검은콩호두와아몬드  음료  두유  가공두유     140  mL       -      140   \n5      10402          삼육두유A  음료  두유  가공두유     190  mL       -      190   \n6      10403    베지밀아몬드와호두두유  음료  두유  가공두유     190  mL       -      190   \n...      ...            ...  ..  ..   ...     ...  ..     ...      ...   \n24335  15279         검은콩두유1  음료  두유  원액두유     195  mL       -     3120   \n24336  15281          검은콩두유  음료  두유  원액두유     195  mL       -     3120   \n24337  15283           유기두유  음료  두유  원액두유     170  mL       -     2040   \n24338  15287      달콤한검정약콩두유  음료  두유  원액두유     170  mL       -     2040   \n24339  15291        달콤한유기두유  음료  두유  원액두유     170  mL       -     2040   \n\n       총당류(g)    총내용량  단위용량 대비 설탕 비율  \n0        10.0   190.0            5.3  \n1        10.0   190.0            5.3  \n3        10.0   140.0            7.1  \n5         6.0   190.0            3.2  \n6         8.5   190.0            4.5  \n...       ...     ...            ...  \n24335     3.0  3120.0            1.5  \n24336     4.0  3120.0            2.1  \n24337     4.0  2040.0            2.4  \n24338     4.0  2040.0            2.4  \n24339     5.0  2040.0            2.9  \n\n[125 rows x 12 columns]",
      "text/html": "<div>\n<style scoped>\n    .dataframe tbody tr th:only-of-type {\n        vertical-align: middle;\n    }\n\n    .dataframe tbody tr th {\n        vertical-align: top;\n    }\n\n    .dataframe thead th {\n        text-align: right;\n    }\n</style>\n<table border=\"1\" class=\"dataframe\">\n  <thead>\n    <tr style=\"text-align: right;\">\n      <th></th>\n      <th>No</th>\n      <th>식품명</th>\n      <th>대분류</th>\n      <th>중분류</th>\n      <th>소분류</th>\n      <th>1회 제공량</th>\n      <th>용량</th>\n      <th>총내용량(g)</th>\n      <th>총내용량(ml)</th>\n      <th>총당류(g)</th>\n      <th>총내용량</th>\n      <th>단위용량 대비 설탕 비율</th>\n    </tr>\n  </thead>\n  <tbody>\n    <tr>\n      <th>0</th>\n      <td>10397</td>\n      <td>삼육두유검은콩칼슘</td>\n      <td>음료</td>\n      <td>두유</td>\n      <td>가공두유</td>\n      <td>190</td>\n      <td>mL</td>\n      <td>-</td>\n      <td>190</td>\n      <td>10.0</td>\n      <td>190.0</td>\n      <td>5.3</td>\n    </tr>\n    <tr>\n      <th>1</th>\n      <td>10398</td>\n      <td>베지밀검은콩두유고칼슘</td>\n      <td>음료</td>\n      <td>두유</td>\n      <td>가공두유</td>\n      <td>190</td>\n      <td>mL</td>\n      <td>-</td>\n      <td>190</td>\n      <td>10.0</td>\n      <td>190.0</td>\n      <td>5.3</td>\n    </tr>\n    <tr>\n      <th>3</th>\n      <td>10400</td>\n      <td>삼육두유검은콩호두와아몬드</td>\n      <td>음료</td>\n      <td>두유</td>\n      <td>가공두유</td>\n      <td>140</td>\n      <td>mL</td>\n      <td>-</td>\n      <td>140</td>\n      <td>10.0</td>\n      <td>140.0</td>\n      <td>7.1</td>\n    </tr>\n    <tr>\n      <th>5</th>\n      <td>10402</td>\n      <td>삼육두유A</td>\n      <td>음료</td>\n      <td>두유</td>\n      <td>가공두유</td>\n      <td>190</td>\n      <td>mL</td>\n      <td>-</td>\n      <td>190</td>\n      <td>6.0</td>\n      <td>190.0</td>\n      <td>3.2</td>\n    </tr>\n    <tr>\n      <th>6</th>\n      <td>10403</td>\n      <td>베지밀아몬드와호두두유</td>\n      <td>음료</td>\n      <td>두유</td>\n      <td>가공두유</td>\n      <td>190</td>\n      <td>mL</td>\n      <td>-</td>\n      <td>190</td>\n      <td>8.5</td>\n      <td>190.0</td>\n      <td>4.5</td>\n    </tr>\n    <tr>\n      <th>...</th>\n      <td>...</td>\n      <td>...</td>\n      <td>...</td>\n      <td>...</td>\n      <td>...</td>\n      <td>...</td>\n      <td>...</td>\n      <td>...</td>\n      <td>...</td>\n      <td>...</td>\n      <td>...</td>\n      <td>...</td>\n    </tr>\n    <tr>\n      <th>24335</th>\n      <td>15279</td>\n      <td>검은콩두유1</td>\n      <td>음료</td>\n      <td>두유</td>\n      <td>원액두유</td>\n      <td>195</td>\n      <td>mL</td>\n      <td>-</td>\n      <td>3120</td>\n      <td>3.0</td>\n      <td>3120.0</td>\n      <td>1.5</td>\n    </tr>\n    <tr>\n      <th>24336</th>\n      <td>15281</td>\n      <td>검은콩두유</td>\n      <td>음료</td>\n      <td>두유</td>\n      <td>원액두유</td>\n      <td>195</td>\n      <td>mL</td>\n      <td>-</td>\n      <td>3120</td>\n      <td>4.0</td>\n      <td>3120.0</td>\n      <td>2.1</td>\n    </tr>\n    <tr>\n      <th>24337</th>\n      <td>15283</td>\n      <td>유기두유</td>\n      <td>음료</td>\n      <td>두유</td>\n      <td>원액두유</td>\n      <td>170</td>\n      <td>mL</td>\n      <td>-</td>\n      <td>2040</td>\n      <td>4.0</td>\n      <td>2040.0</td>\n      <td>2.4</td>\n    </tr>\n    <tr>\n      <th>24338</th>\n      <td>15287</td>\n      <td>달콤한검정약콩두유</td>\n      <td>음료</td>\n      <td>두유</td>\n      <td>원액두유</td>\n      <td>170</td>\n      <td>mL</td>\n      <td>-</td>\n      <td>2040</td>\n      <td>4.0</td>\n      <td>2040.0</td>\n      <td>2.4</td>\n    </tr>\n    <tr>\n      <th>24339</th>\n      <td>15291</td>\n      <td>달콤한유기두유</td>\n      <td>음료</td>\n      <td>두유</td>\n      <td>원액두유</td>\n      <td>170</td>\n      <td>mL</td>\n      <td>-</td>\n      <td>2040</td>\n      <td>5.0</td>\n      <td>2040.0</td>\n      <td>2.9</td>\n    </tr>\n  </tbody>\n</table>\n<p>125 rows × 12 columns</p>\n</div>"
     },
     "execution_count": 3079,
     "metadata": {},
     "output_type": "execute_result"
    }
   ],
   "source": [
    "sheet.loc[sheet['중분류'] == '두유', :]"
   ],
   "metadata": {
    "collapsed": false,
    "pycharm": {
     "name": "#%%\n"
    }
   }
  },
  {
   "cell_type": "code",
   "execution_count": 3080,
   "outputs": [
    {
     "data": {
      "text/plain": "          No               식품명 대분류  중분류    소분류  1회 제공량  용량 총내용량(g) 총내용량(ml)  \\\n20672  78946       아이스 모카 블렌디모  음료  커피류   모카라떼     415  mL       -      415   \n20677  78951     아이스 민트모카 블렌디모  음료  커피류   모카라떼     350  mL       -      350   \n20683  79119           모카 요프치노  음료  커피류   모카라떼     360  mL       -      360   \n20718  79357        콜드브루프라페노 R  음료  커피류   콜드브루     360  mL       -      360   \n20719  79358         콜드브루프라페노L  음료  커피류   콜드브루     450  mL       -      450   \n...      ...               ...  ..  ...    ...     ...  ..     ...      ...   \n35600  29332  마이카페라떼 말차 아몬드브리즈  음료  커피류   카페라떼     220  mL     220        -   \n35626  29465        바닐라 라떼 아이스  음료  커피류  바닐라라떼     130  mL     130        -   \n36209  46194        바닐라 라떼 아이스  음료  커피류  바닐라라떼     130   g     130        -   \n36755  59664  마이카페라떼 말차 아몬드브리즈  음료  커피류   카페라떼     220   g     220        -   \n37142  66743           카페라떼 시럽  음료  커피류   카페라떼      40   g      40        -   \n\n       총당류(g)   총내용량  단위용량 대비 설탕 비율  \n20672    44.5  415.0           10.7  \n20677    23.2  350.0            6.6  \n20683    22.0  360.0            6.1  \n20718    38.0  360.0           10.6  \n20719    47.0  450.0           10.4  \n...       ...    ...            ...  \n35600    15.0  220.0            6.8  \n35626    20.0  130.0           15.4  \n36209    20.0  130.0           15.4  \n36755    15.0  220.0            6.8  \n37142    13.0   40.0           32.5  \n\n[450 rows x 12 columns]",
      "text/html": "<div>\n<style scoped>\n    .dataframe tbody tr th:only-of-type {\n        vertical-align: middle;\n    }\n\n    .dataframe tbody tr th {\n        vertical-align: top;\n    }\n\n    .dataframe thead th {\n        text-align: right;\n    }\n</style>\n<table border=\"1\" class=\"dataframe\">\n  <thead>\n    <tr style=\"text-align: right;\">\n      <th></th>\n      <th>No</th>\n      <th>식품명</th>\n      <th>대분류</th>\n      <th>중분류</th>\n      <th>소분류</th>\n      <th>1회 제공량</th>\n      <th>용량</th>\n      <th>총내용량(g)</th>\n      <th>총내용량(ml)</th>\n      <th>총당류(g)</th>\n      <th>총내용량</th>\n      <th>단위용량 대비 설탕 비율</th>\n    </tr>\n  </thead>\n  <tbody>\n    <tr>\n      <th>20672</th>\n      <td>78946</td>\n      <td>아이스 모카 블렌디모</td>\n      <td>음료</td>\n      <td>커피류</td>\n      <td>모카라떼</td>\n      <td>415</td>\n      <td>mL</td>\n      <td>-</td>\n      <td>415</td>\n      <td>44.5</td>\n      <td>415.0</td>\n      <td>10.7</td>\n    </tr>\n    <tr>\n      <th>20677</th>\n      <td>78951</td>\n      <td>아이스 민트모카 블렌디모</td>\n      <td>음료</td>\n      <td>커피류</td>\n      <td>모카라떼</td>\n      <td>350</td>\n      <td>mL</td>\n      <td>-</td>\n      <td>350</td>\n      <td>23.2</td>\n      <td>350.0</td>\n      <td>6.6</td>\n    </tr>\n    <tr>\n      <th>20683</th>\n      <td>79119</td>\n      <td>모카 요프치노</td>\n      <td>음료</td>\n      <td>커피류</td>\n      <td>모카라떼</td>\n      <td>360</td>\n      <td>mL</td>\n      <td>-</td>\n      <td>360</td>\n      <td>22.0</td>\n      <td>360.0</td>\n      <td>6.1</td>\n    </tr>\n    <tr>\n      <th>20718</th>\n      <td>79357</td>\n      <td>콜드브루프라페노 R</td>\n      <td>음료</td>\n      <td>커피류</td>\n      <td>콜드브루</td>\n      <td>360</td>\n      <td>mL</td>\n      <td>-</td>\n      <td>360</td>\n      <td>38.0</td>\n      <td>360.0</td>\n      <td>10.6</td>\n    </tr>\n    <tr>\n      <th>20719</th>\n      <td>79358</td>\n      <td>콜드브루프라페노L</td>\n      <td>음료</td>\n      <td>커피류</td>\n      <td>콜드브루</td>\n      <td>450</td>\n      <td>mL</td>\n      <td>-</td>\n      <td>450</td>\n      <td>47.0</td>\n      <td>450.0</td>\n      <td>10.4</td>\n    </tr>\n    <tr>\n      <th>...</th>\n      <td>...</td>\n      <td>...</td>\n      <td>...</td>\n      <td>...</td>\n      <td>...</td>\n      <td>...</td>\n      <td>...</td>\n      <td>...</td>\n      <td>...</td>\n      <td>...</td>\n      <td>...</td>\n      <td>...</td>\n    </tr>\n    <tr>\n      <th>35600</th>\n      <td>29332</td>\n      <td>마이카페라떼 말차 아몬드브리즈</td>\n      <td>음료</td>\n      <td>커피류</td>\n      <td>카페라떼</td>\n      <td>220</td>\n      <td>mL</td>\n      <td>220</td>\n      <td>-</td>\n      <td>15.0</td>\n      <td>220.0</td>\n      <td>6.8</td>\n    </tr>\n    <tr>\n      <th>35626</th>\n      <td>29465</td>\n      <td>바닐라 라떼 아이스</td>\n      <td>음료</td>\n      <td>커피류</td>\n      <td>바닐라라떼</td>\n      <td>130</td>\n      <td>mL</td>\n      <td>130</td>\n      <td>-</td>\n      <td>20.0</td>\n      <td>130.0</td>\n      <td>15.4</td>\n    </tr>\n    <tr>\n      <th>36209</th>\n      <td>46194</td>\n      <td>바닐라 라떼 아이스</td>\n      <td>음료</td>\n      <td>커피류</td>\n      <td>바닐라라떼</td>\n      <td>130</td>\n      <td>g</td>\n      <td>130</td>\n      <td>-</td>\n      <td>20.0</td>\n      <td>130.0</td>\n      <td>15.4</td>\n    </tr>\n    <tr>\n      <th>36755</th>\n      <td>59664</td>\n      <td>마이카페라떼 말차 아몬드브리즈</td>\n      <td>음료</td>\n      <td>커피류</td>\n      <td>카페라떼</td>\n      <td>220</td>\n      <td>g</td>\n      <td>220</td>\n      <td>-</td>\n      <td>15.0</td>\n      <td>220.0</td>\n      <td>6.8</td>\n    </tr>\n    <tr>\n      <th>37142</th>\n      <td>66743</td>\n      <td>카페라떼 시럽</td>\n      <td>음료</td>\n      <td>커피류</td>\n      <td>카페라떼</td>\n      <td>40</td>\n      <td>g</td>\n      <td>40</td>\n      <td>-</td>\n      <td>13.0</td>\n      <td>40.0</td>\n      <td>32.5</td>\n    </tr>\n  </tbody>\n</table>\n<p>450 rows × 12 columns</p>\n</div>"
     },
     "execution_count": 3080,
     "metadata": {},
     "output_type": "execute_result"
    }
   ],
   "source": [
    "sheet.loc[(sheet['대분류'] == '음료') & (sheet['중분류'] == '커피류'), :]"
   ],
   "metadata": {
    "collapsed": false,
    "pycharm": {
     "name": "#%%\n"
    }
   }
  },
  {
   "cell_type": "code",
   "execution_count": 3081,
   "outputs": [
    {
     "data": {
      "text/plain": "Empty DataFrame\nColumns: [No, 식품명, 대분류, 중분류, 소분류, 1회 제공량, 용량, 총내용량(g), 총내용량(ml), 총당류(g), 총내용량, 단위용량 대비 설탕 비율]\nIndex: []",
      "text/html": "<div>\n<style scoped>\n    .dataframe tbody tr th:only-of-type {\n        vertical-align: middle;\n    }\n\n    .dataframe tbody tr th {\n        vertical-align: top;\n    }\n\n    .dataframe thead th {\n        text-align: right;\n    }\n</style>\n<table border=\"1\" class=\"dataframe\">\n  <thead>\n    <tr style=\"text-align: right;\">\n      <th></th>\n      <th>No</th>\n      <th>식품명</th>\n      <th>대분류</th>\n      <th>중분류</th>\n      <th>소분류</th>\n      <th>1회 제공량</th>\n      <th>용량</th>\n      <th>총내용량(g)</th>\n      <th>총내용량(ml)</th>\n      <th>총당류(g)</th>\n      <th>총내용량</th>\n      <th>단위용량 대비 설탕 비율</th>\n    </tr>\n  </thead>\n  <tbody>\n  </tbody>\n</table>\n</div>"
     },
     "execution_count": 3081,
     "metadata": {},
     "output_type": "execute_result"
    }
   ],
   "source": [
    "sheet.loc[(sheet['대분류'] == '음료') & (sheet['소분류'] == '커피'), :]"
   ],
   "metadata": {
    "collapsed": false,
    "pycharm": {
     "name": "#%%\n"
    }
   }
  },
  {
   "cell_type": "code",
   "execution_count": 3082,
   "outputs": [],
   "source": [
    "# 어린이 음료, 이온 음료, 홍삼/인삼 음료, 프로틴 음료\n",
    "def change_category(contain_name, middle_category, last_category):\n",
    "    sheet.loc[(sheet['대분류'] == '음료') & (sheet['식품명'].str.contains(contain_name)), '중분류'] = middle_category\n",
    "    sheet.loc[(sheet['대분류'] == '음료') & (sheet['식품명'].str.contains(contain_name)), '소분류'] = last_category"
   ],
   "metadata": {
    "collapsed": false,
    "pycharm": {
     "name": "#%%\n"
    }
   }
  },
  {
   "cell_type": "code",
   "execution_count": 3083,
   "outputs": [],
   "source": [
    "어린이음료 = ['뽀로로', '헬로카봇', '리틀라이언', '오라떼']\n",
    "홍삼인삼음료 = ['홍삼', '인삼']\n",
    "프로틴음료 = ['프로틴']\n",
    "\n",
    "\n",
    "for value in 어린이음료:\n",
    "    change_category(value, '기타', '어린이음료')\n",
    "for value in 프로틴음료:\n",
    "    change_category(value, '기타', '프로틴음료')\n",
    "for value in 홍삼인삼음료:\n",
    "    change_category(value, '기타', '홍삼·인삼음료')\n",
    "\n",
    "sheet.loc[(sheet['대분류'] == '음료') & (sheet['중분류'] == '이온음료'), '소분류'] = '이온음료'\n",
    "sheet.loc[(sheet['대분류'] == '음료') & (sheet['소분류'] == '이온음료'), '중분류'] = '기타'\n",
    "sheet.loc[(sheet['대분류'] == '음료') & (sheet['소분류'] == '이온음료'), '중분류'] = '기타'\n",
    "sheet.loc[(sheet['대분류'] == '음료') & (sheet['소분류'] == '이온음료'), '소분류'] = '이온음료'"
   ],
   "metadata": {
    "collapsed": false,
    "pycharm": {
     "name": "#%%\n"
    }
   }
  },
  {
   "cell_type": "code",
   "execution_count": 3084,
   "outputs": [
    {
     "data": {
      "text/plain": "          No                 식품명 대분류   중분류      소분류  1회 제공량  용량 총내용량(g)  \\\n0      10397           삼육두유검은콩칼슘  음료    두유     가공두유     190  mL       -   \n1      10398         베지밀검은콩두유고칼슘  음료    두유     가공두유     190  mL       -   \n3      10400       삼육두유검은콩호두와아몬드  음료    두유     가공두유     140  mL       -   \n5      10402               삼육두유A  음료    두유     가공두유     190  mL       -   \n6      10403         베지밀아몬드와호두두유  음료    두유     가공두유     190  mL       -   \n...      ...                 ...  ..   ...      ...     ...  ..     ...   \n37214  68089      유기농 햇살깃든 오미자식혜  음료  발효음료     식혜음료     100  mL       -   \n37215  68090       유기농 햇살깃든 일반식혜  음료  발효음료     식혜음료     100  mL       -   \n37216  68091       유기농 햇살깃든 현미식혜  음료  발효음료     식혜음료     100  mL       -   \n37217  68092  유기농 햇살깃든 현미자색고구마식혜  음료  발효음료     식혜음료     100  mL       -   \n37218  68099                 비타업  음료  활력음료  비타민활력음료     100   g     100   \n\n      총내용량(ml)  총당류(g)   총내용량  단위용량 대비 설탕 비율  \n0          190    10.0  190.0            5.3  \n1          190    10.0  190.0            5.3  \n3          140    10.0  140.0            7.1  \n5          190     6.0  190.0            3.2  \n6          190     8.5  190.0            4.5  \n...        ...     ...    ...            ...  \n37214      340    12.8  340.0           12.8  \n37215      340    12.2  340.0           12.2  \n37216      340    12.2  340.0           12.2  \n37217      340    11.0  340.0           11.0  \n37218        -     9.0  100.0            9.0  \n\n[7760 rows x 12 columns]",
      "text/html": "<div>\n<style scoped>\n    .dataframe tbody tr th:only-of-type {\n        vertical-align: middle;\n    }\n\n    .dataframe tbody tr th {\n        vertical-align: top;\n    }\n\n    .dataframe thead th {\n        text-align: right;\n    }\n</style>\n<table border=\"1\" class=\"dataframe\">\n  <thead>\n    <tr style=\"text-align: right;\">\n      <th></th>\n      <th>No</th>\n      <th>식품명</th>\n      <th>대분류</th>\n      <th>중분류</th>\n      <th>소분류</th>\n      <th>1회 제공량</th>\n      <th>용량</th>\n      <th>총내용량(g)</th>\n      <th>총내용량(ml)</th>\n      <th>총당류(g)</th>\n      <th>총내용량</th>\n      <th>단위용량 대비 설탕 비율</th>\n    </tr>\n  </thead>\n  <tbody>\n    <tr>\n      <th>0</th>\n      <td>10397</td>\n      <td>삼육두유검은콩칼슘</td>\n      <td>음료</td>\n      <td>두유</td>\n      <td>가공두유</td>\n      <td>190</td>\n      <td>mL</td>\n      <td>-</td>\n      <td>190</td>\n      <td>10.0</td>\n      <td>190.0</td>\n      <td>5.3</td>\n    </tr>\n    <tr>\n      <th>1</th>\n      <td>10398</td>\n      <td>베지밀검은콩두유고칼슘</td>\n      <td>음료</td>\n      <td>두유</td>\n      <td>가공두유</td>\n      <td>190</td>\n      <td>mL</td>\n      <td>-</td>\n      <td>190</td>\n      <td>10.0</td>\n      <td>190.0</td>\n      <td>5.3</td>\n    </tr>\n    <tr>\n      <th>3</th>\n      <td>10400</td>\n      <td>삼육두유검은콩호두와아몬드</td>\n      <td>음료</td>\n      <td>두유</td>\n      <td>가공두유</td>\n      <td>140</td>\n      <td>mL</td>\n      <td>-</td>\n      <td>140</td>\n      <td>10.0</td>\n      <td>140.0</td>\n      <td>7.1</td>\n    </tr>\n    <tr>\n      <th>5</th>\n      <td>10402</td>\n      <td>삼육두유A</td>\n      <td>음료</td>\n      <td>두유</td>\n      <td>가공두유</td>\n      <td>190</td>\n      <td>mL</td>\n      <td>-</td>\n      <td>190</td>\n      <td>6.0</td>\n      <td>190.0</td>\n      <td>3.2</td>\n    </tr>\n    <tr>\n      <th>6</th>\n      <td>10403</td>\n      <td>베지밀아몬드와호두두유</td>\n      <td>음료</td>\n      <td>두유</td>\n      <td>가공두유</td>\n      <td>190</td>\n      <td>mL</td>\n      <td>-</td>\n      <td>190</td>\n      <td>8.5</td>\n      <td>190.0</td>\n      <td>4.5</td>\n    </tr>\n    <tr>\n      <th>...</th>\n      <td>...</td>\n      <td>...</td>\n      <td>...</td>\n      <td>...</td>\n      <td>...</td>\n      <td>...</td>\n      <td>...</td>\n      <td>...</td>\n      <td>...</td>\n      <td>...</td>\n      <td>...</td>\n      <td>...</td>\n    </tr>\n    <tr>\n      <th>37214</th>\n      <td>68089</td>\n      <td>유기농 햇살깃든 오미자식혜</td>\n      <td>음료</td>\n      <td>발효음료</td>\n      <td>식혜음료</td>\n      <td>100</td>\n      <td>mL</td>\n      <td>-</td>\n      <td>340</td>\n      <td>12.8</td>\n      <td>340.0</td>\n      <td>12.8</td>\n    </tr>\n    <tr>\n      <th>37215</th>\n      <td>68090</td>\n      <td>유기농 햇살깃든 일반식혜</td>\n      <td>음료</td>\n      <td>발효음료</td>\n      <td>식혜음료</td>\n      <td>100</td>\n      <td>mL</td>\n      <td>-</td>\n      <td>340</td>\n      <td>12.2</td>\n      <td>340.0</td>\n      <td>12.2</td>\n    </tr>\n    <tr>\n      <th>37216</th>\n      <td>68091</td>\n      <td>유기농 햇살깃든 현미식혜</td>\n      <td>음료</td>\n      <td>발효음료</td>\n      <td>식혜음료</td>\n      <td>100</td>\n      <td>mL</td>\n      <td>-</td>\n      <td>340</td>\n      <td>12.2</td>\n      <td>340.0</td>\n      <td>12.2</td>\n    </tr>\n    <tr>\n      <th>37217</th>\n      <td>68092</td>\n      <td>유기농 햇살깃든 현미자색고구마식혜</td>\n      <td>음료</td>\n      <td>발효음료</td>\n      <td>식혜음료</td>\n      <td>100</td>\n      <td>mL</td>\n      <td>-</td>\n      <td>340</td>\n      <td>11.0</td>\n      <td>340.0</td>\n      <td>11.0</td>\n    </tr>\n    <tr>\n      <th>37218</th>\n      <td>68099</td>\n      <td>비타업</td>\n      <td>음료</td>\n      <td>활력음료</td>\n      <td>비타민활력음료</td>\n      <td>100</td>\n      <td>g</td>\n      <td>100</td>\n      <td>-</td>\n      <td>9.0</td>\n      <td>100.0</td>\n      <td>9.0</td>\n    </tr>\n  </tbody>\n</table>\n<p>7760 rows × 12 columns</p>\n</div>"
     },
     "execution_count": 3084,
     "metadata": {},
     "output_type": "execute_result"
    }
   ],
   "source": [
    "sheet.loc[sheet['대분류'] == '음료', :]"
   ],
   "metadata": {
    "collapsed": false,
    "pycharm": {
     "name": "#%%\n"
    }
   }
  },
  {
   "cell_type": "code",
   "execution_count": 3085,
   "outputs": [],
   "source": [
    "sheet.loc[(sheet['대분류'] == '음료') & (sheet['중분류'] == '두유'), '소분류'] = '두유'\n",
    "sheet.loc[(sheet['대분류'] == '음료') & (sheet['소분류'] == '두유'), '중분류'] = '유제품'\n",
    "sheet.loc[(sheet['대분류'] == '음료') & (sheet['소분류'] == '두유'), '대분류'] = '유가공품'\n",
    "\n",
    "sheet.loc[(sheet['대분류'] == '음료') & (sheet['중분류'] == '유제품'), '대분류'] = '유가공품'\n",
    "\n",
    "# 중분류 => 유제품, 두유"
   ],
   "metadata": {
    "collapsed": false,
    "pycharm": {
     "name": "#%%\n"
    }
   }
  },
  {
   "cell_type": "code",
   "execution_count": 3086,
   "outputs": [
    {
     "data": {
      "text/plain": "          No                                       식품명 대분류    중분류      소분류  \\\n82     10481                              고구마, 호박에게바나나  음료  과·채음료    바나나주스   \n858    10807  립톤 아이스티믹스 복숭아맛(Lipton Ice Tea Mix Peach)  음료  과·채음료    복숭아주스   \n860    10809                             네스티 복숭아맛 아이스티  음료  과·채음료    복숭아주스   \n862    10811   립톤 아이스티믹스 레몬맛(Lipton Ice Tea Mix Lemon)  음료  과·채음료     레몬주스   \n863    10812                                  콘후레이크천마차  음료      차       분말   \n...      ...                                       ...  ..    ...      ...   \n37214  68089                            유기농 햇살깃든 오미자식혜  음료   발효음료     식혜음료   \n37215  68090                             유기농 햇살깃든 일반식혜  음료   발효음료     식혜음료   \n37216  68091                             유기농 햇살깃든 현미식혜  음료   발효음료     식혜음료   \n37217  68092                        유기농 햇살깃든 현미자색고구마식혜  음료   발효음료     식혜음료   \n37218  68099                                       비타업  음료   활력음료  비타민활력음료   \n\n       1회 제공량  용량 총내용량(g) 총내용량(ml)  총당류(g)    총내용량  단위용량 대비 설탕 비율  \n82        190  mL       -      190    12.0   190.0            6.3  \n858       100   g     770        -    96.0   770.0           96.0  \n860        12   g    1000        -    12.0  1000.0          100.0  \n862       100   g    1200        -    96.0  1200.0           96.0  \n863        20   g    2200        -     6.0  2200.0           30.0  \n...       ...  ..     ...      ...     ...     ...            ...  \n37214     100  mL       -      340    12.8   340.0           12.8  \n37215     100  mL       -      340    12.2   340.0           12.2  \n37216     100  mL       -      340    12.2   340.0           12.2  \n37217     100  mL       -      340    11.0   340.0           11.0  \n37218     100   g     100        -     9.0   100.0            9.0  \n\n[7635 rows x 12 columns]",
      "text/html": "<div>\n<style scoped>\n    .dataframe tbody tr th:only-of-type {\n        vertical-align: middle;\n    }\n\n    .dataframe tbody tr th {\n        vertical-align: top;\n    }\n\n    .dataframe thead th {\n        text-align: right;\n    }\n</style>\n<table border=\"1\" class=\"dataframe\">\n  <thead>\n    <tr style=\"text-align: right;\">\n      <th></th>\n      <th>No</th>\n      <th>식품명</th>\n      <th>대분류</th>\n      <th>중분류</th>\n      <th>소분류</th>\n      <th>1회 제공량</th>\n      <th>용량</th>\n      <th>총내용량(g)</th>\n      <th>총내용량(ml)</th>\n      <th>총당류(g)</th>\n      <th>총내용량</th>\n      <th>단위용량 대비 설탕 비율</th>\n    </tr>\n  </thead>\n  <tbody>\n    <tr>\n      <th>82</th>\n      <td>10481</td>\n      <td>고구마, 호박에게바나나</td>\n      <td>음료</td>\n      <td>과·채음료</td>\n      <td>바나나주스</td>\n      <td>190</td>\n      <td>mL</td>\n      <td>-</td>\n      <td>190</td>\n      <td>12.0</td>\n      <td>190.0</td>\n      <td>6.3</td>\n    </tr>\n    <tr>\n      <th>858</th>\n      <td>10807</td>\n      <td>립톤 아이스티믹스 복숭아맛(Lipton Ice Tea Mix Peach)</td>\n      <td>음료</td>\n      <td>과·채음료</td>\n      <td>복숭아주스</td>\n      <td>100</td>\n      <td>g</td>\n      <td>770</td>\n      <td>-</td>\n      <td>96.0</td>\n      <td>770.0</td>\n      <td>96.0</td>\n    </tr>\n    <tr>\n      <th>860</th>\n      <td>10809</td>\n      <td>네스티 복숭아맛 아이스티</td>\n      <td>음료</td>\n      <td>과·채음료</td>\n      <td>복숭아주스</td>\n      <td>12</td>\n      <td>g</td>\n      <td>1000</td>\n      <td>-</td>\n      <td>12.0</td>\n      <td>1000.0</td>\n      <td>100.0</td>\n    </tr>\n    <tr>\n      <th>862</th>\n      <td>10811</td>\n      <td>립톤 아이스티믹스 레몬맛(Lipton Ice Tea Mix Lemon)</td>\n      <td>음료</td>\n      <td>과·채음료</td>\n      <td>레몬주스</td>\n      <td>100</td>\n      <td>g</td>\n      <td>1200</td>\n      <td>-</td>\n      <td>96.0</td>\n      <td>1200.0</td>\n      <td>96.0</td>\n    </tr>\n    <tr>\n      <th>863</th>\n      <td>10812</td>\n      <td>콘후레이크천마차</td>\n      <td>음료</td>\n      <td>차</td>\n      <td>분말</td>\n      <td>20</td>\n      <td>g</td>\n      <td>2200</td>\n      <td>-</td>\n      <td>6.0</td>\n      <td>2200.0</td>\n      <td>30.0</td>\n    </tr>\n    <tr>\n      <th>...</th>\n      <td>...</td>\n      <td>...</td>\n      <td>...</td>\n      <td>...</td>\n      <td>...</td>\n      <td>...</td>\n      <td>...</td>\n      <td>...</td>\n      <td>...</td>\n      <td>...</td>\n      <td>...</td>\n      <td>...</td>\n    </tr>\n    <tr>\n      <th>37214</th>\n      <td>68089</td>\n      <td>유기농 햇살깃든 오미자식혜</td>\n      <td>음료</td>\n      <td>발효음료</td>\n      <td>식혜음료</td>\n      <td>100</td>\n      <td>mL</td>\n      <td>-</td>\n      <td>340</td>\n      <td>12.8</td>\n      <td>340.0</td>\n      <td>12.8</td>\n    </tr>\n    <tr>\n      <th>37215</th>\n      <td>68090</td>\n      <td>유기농 햇살깃든 일반식혜</td>\n      <td>음료</td>\n      <td>발효음료</td>\n      <td>식혜음료</td>\n      <td>100</td>\n      <td>mL</td>\n      <td>-</td>\n      <td>340</td>\n      <td>12.2</td>\n      <td>340.0</td>\n      <td>12.2</td>\n    </tr>\n    <tr>\n      <th>37216</th>\n      <td>68091</td>\n      <td>유기농 햇살깃든 현미식혜</td>\n      <td>음료</td>\n      <td>발효음료</td>\n      <td>식혜음료</td>\n      <td>100</td>\n      <td>mL</td>\n      <td>-</td>\n      <td>340</td>\n      <td>12.2</td>\n      <td>340.0</td>\n      <td>12.2</td>\n    </tr>\n    <tr>\n      <th>37217</th>\n      <td>68092</td>\n      <td>유기농 햇살깃든 현미자색고구마식혜</td>\n      <td>음료</td>\n      <td>발효음료</td>\n      <td>식혜음료</td>\n      <td>100</td>\n      <td>mL</td>\n      <td>-</td>\n      <td>340</td>\n      <td>11.0</td>\n      <td>340.0</td>\n      <td>11.0</td>\n    </tr>\n    <tr>\n      <th>37218</th>\n      <td>68099</td>\n      <td>비타업</td>\n      <td>음료</td>\n      <td>활력음료</td>\n      <td>비타민활력음료</td>\n      <td>100</td>\n      <td>g</td>\n      <td>100</td>\n      <td>-</td>\n      <td>9.0</td>\n      <td>100.0</td>\n      <td>9.0</td>\n    </tr>\n  </tbody>\n</table>\n<p>7635 rows × 12 columns</p>\n</div>"
     },
     "execution_count": 3086,
     "metadata": {},
     "output_type": "execute_result"
    }
   ],
   "source": [
    "sheet.loc[sheet['대분류'] == '음료', :]"
   ],
   "metadata": {
    "collapsed": false,
    "pycharm": {
     "name": "#%%\n"
    }
   }
  },
  {
   "cell_type": "code",
   "execution_count": 3086,
   "outputs": [],
   "source": [],
   "metadata": {
    "collapsed": false,
    "pycharm": {
     "name": "#%%\n"
    }
   }
  },
  {
   "cell_type": "code",
   "execution_count": 3086,
   "outputs": [],
   "source": [],
   "metadata": {
    "collapsed": false,
    "pycharm": {
     "name": "#%%\n"
    }
   }
  },
  {
   "cell_type": "code",
   "execution_count": 3087,
   "outputs": [],
   "source": [
    "sheet.to_csv('../../음료정제(final).csv')"
   ],
   "metadata": {
    "collapsed": false,
    "pycharm": {
     "name": "#%%\n"
    }
   }
  },
  {
   "cell_type": "code",
   "execution_count": null,
   "outputs": [],
   "source": [],
   "metadata": {
    "collapsed": false,
    "pycharm": {
     "name": "#%%\n"
    }
   }
  },
  {
   "cell_type": "code",
   "execution_count": null,
   "outputs": [],
   "source": [],
   "metadata": {
    "collapsed": false,
    "pycharm": {
     "name": "#%%\n"
    }
   }
  },
  {
   "cell_type": "code",
   "execution_count": null,
   "outputs": [],
   "source": [],
   "metadata": {
    "collapsed": false,
    "pycharm": {
     "name": "#%%\n"
    }
   }
  },
  {
   "cell_type": "code",
   "execution_count": null,
   "outputs": [],
   "source": [],
   "metadata": {
    "collapsed": false,
    "pycharm": {
     "name": "#%%\n"
    }
   }
  },
  {
   "cell_type": "code",
   "execution_count": null,
   "outputs": [],
   "source": [],
   "metadata": {
    "collapsed": false,
    "pycharm": {
     "name": "#%%\n"
    }
   }
  },
  {
   "cell_type": "code",
   "execution_count": null,
   "outputs": [],
   "source": [],
   "metadata": {
    "collapsed": false,
    "pycharm": {
     "name": "#%%\n"
    }
   }
  },
  {
   "cell_type": "code",
   "execution_count": null,
   "outputs": [],
   "source": [],
   "metadata": {
    "collapsed": false,
    "pycharm": {
     "name": "#%%\n"
    }
   }
  }
 ],
 "metadata": {
  "kernelspec": {
   "display_name": "Python 3",
   "language": "python",
   "name": "python3"
  },
  "language_info": {
   "codemirror_mode": {
    "name": "ipython",
    "version": 2
   },
   "file_extension": ".py",
   "mimetype": "text/x-python",
   "name": "python",
   "nbconvert_exporter": "python",
   "pygments_lexer": "ipython2",
   "version": "2.7.6"
  }
 },
 "nbformat": 4,
 "nbformat_minor": 0
}