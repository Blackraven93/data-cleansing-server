{
 "cells": [
  {
   "cell_type": "code",
   "execution_count": 708,
   "outputs": [
    {
     "name": "stdout",
     "output_type": "stream",
     "text": [
      "Requirement already satisfied: pandas in /opt/homebrew/Cellar/jupyterlab/3.3.2/libexec/lib/python3.9/site-packages (1.4.2)\r\n",
      "Requirement already satisfied: python-dateutil>=2.8.1 in /opt/homebrew/Cellar/jupyterlab/3.3.2/libexec/lib/python3.9/site-packages (from pandas) (2.8.2)\r\n",
      "Requirement already satisfied: numpy>=1.20.0 in /opt/homebrew/Cellar/jupyterlab/3.3.2/libexec/lib/python3.9/site-packages (from pandas) (1.22.4)\r\n",
      "Requirement already satisfied: pytz>=2020.1 in /opt/homebrew/Cellar/jupyterlab/3.3.2/libexec/lib/python3.9/site-packages (from pandas) (2022.1)\r\n",
      "Requirement already satisfied: six>=1.5 in /opt/homebrew/Cellar/six/1.16.0_2/lib/python3.9/site-packages (from python-dateutil>=2.8.1->pandas) (1.16.0)\r\n",
      "\u001B[33mWARNING: You are using pip version 21.3.1; however, version 22.1.2 is available.\r\n",
      "You should consider upgrading via the '/opt/homebrew/Cellar/jupyterlab/3.3.2/libexec/bin/python3.9 -m pip install --upgrade pip' command.\u001B[0m\r\n",
      "Note: you may need to restart the kernel to use updated packages.\n"
     ]
    }
   ],
   "source": [
    "pip install pandas"
   ],
   "metadata": {
    "collapsed": false,
    "pycharm": {
     "name": "#%%\n"
    }
   }
  },
  {
   "cell_type": "code",
   "execution_count": 709,
   "outputs": [
    {
     "name": "stdout",
     "output_type": "stream",
     "text": [
      "Requirement already satisfied: openpyxl in /opt/homebrew/Cellar/jupyterlab/3.3.2/libexec/lib/python3.9/site-packages (3.0.10)\r\n",
      "Requirement already satisfied: et-xmlfile in /opt/homebrew/Cellar/jupyterlab/3.3.2/libexec/lib/python3.9/site-packages (from openpyxl) (1.1.0)\r\n",
      "\u001B[33mWARNING: You are using pip version 21.3.1; however, version 22.1.2 is available.\r\n",
      "You should consider upgrading via the '/opt/homebrew/Cellar/jupyterlab/3.3.2/libexec/bin/python3.9 -m pip install --upgrade pip' command.\u001B[0m\r\n",
      "Note: you may need to restart the kernel to use updated packages.\n"
     ]
    }
   ],
   "source": [
    "pip install openpyxl"
   ],
   "metadata": {
    "collapsed": false,
    "pycharm": {
     "name": "#%%\n"
    }
   }
  },
  {
   "cell_type": "code",
   "execution_count": 710,
   "outputs": [
    {
     "name": "stdout",
     "output_type": "stream",
     "text": [
      "Requirement already satisfied: numpy in /opt/homebrew/Cellar/jupyterlab/3.3.2/libexec/lib/python3.9/site-packages (1.22.4)\r\n",
      "\u001B[33mWARNING: You are using pip version 21.3.1; however, version 22.1.2 is available.\r\n",
      "You should consider upgrading via the '/opt/homebrew/Cellar/jupyterlab/3.3.2/libexec/bin/python3.9 -m pip install --upgrade pip' command.\u001B[0m\r\n",
      "Note: you may need to restart the kernel to use updated packages.\n"
     ]
    }
   ],
   "source": [
    "pip install numpy"
   ],
   "metadata": {
    "collapsed": false,
    "pycharm": {
     "name": "#%%\n"
    }
   }
  },
  {
   "cell_type": "code",
   "execution_count": 180,
   "outputs": [],
   "source": [
    "import pandas as pd"
   ],
   "metadata": {
    "collapsed": false,
    "pycharm": {
     "name": "#%%\n"
    }
   }
  },
  {
   "cell_type": "code",
   "execution_count": 181,
   "outputs": [],
   "source": [
    "import numpy as np"
   ],
   "metadata": {
    "collapsed": false,
    "pycharm": {
     "name": "#%%\n"
    }
   }
  },
  {
   "cell_type": "code",
   "execution_count": 182,
   "outputs": [
    {
     "name": "stderr",
     "output_type": "stream",
     "text": [
      "/var/folders/5z/5rdp8_657ln18qfy3d9fxjtm0000gq/T/ipykernel_92588/1601173874.py:1: DtypeWarning: Columns (0,5) have mixed types. Specify dtype option on import or set low_memory=False.\n",
      "  sugar_sheet = pd.read_csv(\"/Users/raven/Desktop/final_sugar_data.csv\")\n"
     ]
    }
   ],
   "source": [
    "sugar_sheet = pd.read_csv(\"/Users/raven/Desktop/final_sugar_data.csv\")"
   ],
   "metadata": {
    "collapsed": false,
    "pycharm": {
     "name": "#%%\n"
    }
   }
  },
  {
   "cell_type": "code",
   "execution_count": 183,
   "outputs": [
    {
     "data": {
      "text/plain": "     No      식품명  대분류   중분류   소분류 1회 제공량 용량 총내용량(g) 총내용량(ml) 총당류(g)\n0  1211  선 냉동 유부  NaN  가공두부  가공두부     10  g       -        -      0\n1  1755   두부봉 치즈  NaN  가공두부  가공두부    180  g       -        -      7\n2  1756      두부봉  NaN  가공두부  가공두부    180  g       -        -      8\n3  1766      클래식  NaN  가공두부  가공두부    114  g       -        -    1미만\n4  5468       유부  NaN  가공두부  가공두부     80  g       -        -      0",
      "text/html": "<div>\n<style scoped>\n    .dataframe tbody tr th:only-of-type {\n        vertical-align: middle;\n    }\n\n    .dataframe tbody tr th {\n        vertical-align: top;\n    }\n\n    .dataframe thead th {\n        text-align: right;\n    }\n</style>\n<table border=\"1\" class=\"dataframe\">\n  <thead>\n    <tr style=\"text-align: right;\">\n      <th></th>\n      <th>No</th>\n      <th>식품명</th>\n      <th>대분류</th>\n      <th>중분류</th>\n      <th>소분류</th>\n      <th>1회 제공량</th>\n      <th>용량</th>\n      <th>총내용량(g)</th>\n      <th>총내용량(ml)</th>\n      <th>총당류(g)</th>\n    </tr>\n  </thead>\n  <tbody>\n    <tr>\n      <th>0</th>\n      <td>1211</td>\n      <td>선 냉동 유부</td>\n      <td>NaN</td>\n      <td>가공두부</td>\n      <td>가공두부</td>\n      <td>10</td>\n      <td>g</td>\n      <td>-</td>\n      <td>-</td>\n      <td>0</td>\n    </tr>\n    <tr>\n      <th>1</th>\n      <td>1755</td>\n      <td>두부봉 치즈</td>\n      <td>NaN</td>\n      <td>가공두부</td>\n      <td>가공두부</td>\n      <td>180</td>\n      <td>g</td>\n      <td>-</td>\n      <td>-</td>\n      <td>7</td>\n    </tr>\n    <tr>\n      <th>2</th>\n      <td>1756</td>\n      <td>두부봉</td>\n      <td>NaN</td>\n      <td>가공두부</td>\n      <td>가공두부</td>\n      <td>180</td>\n      <td>g</td>\n      <td>-</td>\n      <td>-</td>\n      <td>8</td>\n    </tr>\n    <tr>\n      <th>3</th>\n      <td>1766</td>\n      <td>클래식</td>\n      <td>NaN</td>\n      <td>가공두부</td>\n      <td>가공두부</td>\n      <td>114</td>\n      <td>g</td>\n      <td>-</td>\n      <td>-</td>\n      <td>1미만</td>\n    </tr>\n    <tr>\n      <th>4</th>\n      <td>5468</td>\n      <td>유부</td>\n      <td>NaN</td>\n      <td>가공두부</td>\n      <td>가공두부</td>\n      <td>80</td>\n      <td>g</td>\n      <td>-</td>\n      <td>-</td>\n      <td>0</td>\n    </tr>\n  </tbody>\n</table>\n</div>"
     },
     "execution_count": 183,
     "metadata": {},
     "output_type": "execute_result"
    }
   ],
   "source": [
    "sugar_sheet.head()"
   ],
   "metadata": {
    "collapsed": false,
    "pycharm": {
     "name": "#%%\n"
    }
   }
  },
  {
   "cell_type": "code",
   "execution_count": 184,
   "outputs": [],
   "source": [
    "sheet = pd.DataFrame(sugar_sheet)"
   ],
   "metadata": {
    "collapsed": false,
    "pycharm": {
     "name": "#%%\n"
    }
   }
  },
  {
   "cell_type": "code",
   "execution_count": 185,
   "outputs": [
    {
     "name": "stdout",
     "output_type": "stream",
     "text": [
      "<class 'pandas.core.frame.DataFrame'>\n",
      "RangeIndex: 83825 entries, 0 to 83824\n",
      "Data columns (total 10 columns):\n",
      " #   Column    Non-Null Count  Dtype  \n",
      "---  ------    --------------  -----  \n",
      " 0   No        83825 non-null  object \n",
      " 1   식품명       83825 non-null  object \n",
      " 2   대분류       0 non-null      float64\n",
      " 3   중분류       83825 non-null  object \n",
      " 4   소분류       83825 non-null  object \n",
      " 5   1회 제공량    83825 non-null  object \n",
      " 6   용량        82863 non-null  object \n",
      " 7   총내용량(g)   83825 non-null  object \n",
      " 8   총내용량(ml)  83825 non-null  object \n",
      " 9   총당류(g)    83825 non-null  object \n",
      "dtypes: float64(1), object(9)\n",
      "memory usage: 6.4+ MB\n"
     ]
    }
   ],
   "source": [
    "sheet.info()"
   ],
   "metadata": {
    "collapsed": false,
    "pycharm": {
     "name": "#%%\n"
    }
   }
  },
  {
   "cell_type": "code",
   "execution_count": 186,
   "outputs": [
    {
     "data": {
      "text/plain": "                  식품명  대분류   중분류   소분류 1회 제공량  용량 총내용량(g) 총내용량(ml) 총당류(g)\nNo                                                                       \n1211          선 냉동 유부  NaN  가공두부  가공두부     10   g       -        -      0\n1755           두부봉 치즈  NaN  가공두부  가공두부    180   g       -        -      7\n1756              두부봉  NaN  가공두부  가공두부    180   g       -        -      8\n1766              클래식  NaN  가공두부  가공두부    114   g       -        -    1미만\n5468               유부  NaN  가공두부  가공두부     80   g       -        -      0\n...               ...  ...   ...   ...    ...  ..     ...      ...    ...\n77843              물회  NaN    회류    회류    700   g       -        -     20\n77844            생선물회  NaN    회류    회류    800   g       -        -     52\n84962              육회  NaN    회류    회류    150   g       -        -   7.93\n40744  마이셀 무알콜 (330병)  NaN  효모음료  효모음료    100  mL       -      330   0.71\n40803         핫 터닙 주스  NaN  효모음료  효모음료    100   g       -      250      0\n\n[83825 rows x 9 columns]",
      "text/html": "<div>\n<style scoped>\n    .dataframe tbody tr th:only-of-type {\n        vertical-align: middle;\n    }\n\n    .dataframe tbody tr th {\n        vertical-align: top;\n    }\n\n    .dataframe thead th {\n        text-align: right;\n    }\n</style>\n<table border=\"1\" class=\"dataframe\">\n  <thead>\n    <tr style=\"text-align: right;\">\n      <th></th>\n      <th>식품명</th>\n      <th>대분류</th>\n      <th>중분류</th>\n      <th>소분류</th>\n      <th>1회 제공량</th>\n      <th>용량</th>\n      <th>총내용량(g)</th>\n      <th>총내용량(ml)</th>\n      <th>총당류(g)</th>\n    </tr>\n    <tr>\n      <th>No</th>\n      <th></th>\n      <th></th>\n      <th></th>\n      <th></th>\n      <th></th>\n      <th></th>\n      <th></th>\n      <th></th>\n      <th></th>\n    </tr>\n  </thead>\n  <tbody>\n    <tr>\n      <th>1211</th>\n      <td>선 냉동 유부</td>\n      <td>NaN</td>\n      <td>가공두부</td>\n      <td>가공두부</td>\n      <td>10</td>\n      <td>g</td>\n      <td>-</td>\n      <td>-</td>\n      <td>0</td>\n    </tr>\n    <tr>\n      <th>1755</th>\n      <td>두부봉 치즈</td>\n      <td>NaN</td>\n      <td>가공두부</td>\n      <td>가공두부</td>\n      <td>180</td>\n      <td>g</td>\n      <td>-</td>\n      <td>-</td>\n      <td>7</td>\n    </tr>\n    <tr>\n      <th>1756</th>\n      <td>두부봉</td>\n      <td>NaN</td>\n      <td>가공두부</td>\n      <td>가공두부</td>\n      <td>180</td>\n      <td>g</td>\n      <td>-</td>\n      <td>-</td>\n      <td>8</td>\n    </tr>\n    <tr>\n      <th>1766</th>\n      <td>클래식</td>\n      <td>NaN</td>\n      <td>가공두부</td>\n      <td>가공두부</td>\n      <td>114</td>\n      <td>g</td>\n      <td>-</td>\n      <td>-</td>\n      <td>1미만</td>\n    </tr>\n    <tr>\n      <th>5468</th>\n      <td>유부</td>\n      <td>NaN</td>\n      <td>가공두부</td>\n      <td>가공두부</td>\n      <td>80</td>\n      <td>g</td>\n      <td>-</td>\n      <td>-</td>\n      <td>0</td>\n    </tr>\n    <tr>\n      <th>...</th>\n      <td>...</td>\n      <td>...</td>\n      <td>...</td>\n      <td>...</td>\n      <td>...</td>\n      <td>...</td>\n      <td>...</td>\n      <td>...</td>\n      <td>...</td>\n    </tr>\n    <tr>\n      <th>77843</th>\n      <td>물회</td>\n      <td>NaN</td>\n      <td>회류</td>\n      <td>회류</td>\n      <td>700</td>\n      <td>g</td>\n      <td>-</td>\n      <td>-</td>\n      <td>20</td>\n    </tr>\n    <tr>\n      <th>77844</th>\n      <td>생선물회</td>\n      <td>NaN</td>\n      <td>회류</td>\n      <td>회류</td>\n      <td>800</td>\n      <td>g</td>\n      <td>-</td>\n      <td>-</td>\n      <td>52</td>\n    </tr>\n    <tr>\n      <th>84962</th>\n      <td>육회</td>\n      <td>NaN</td>\n      <td>회류</td>\n      <td>회류</td>\n      <td>150</td>\n      <td>g</td>\n      <td>-</td>\n      <td>-</td>\n      <td>7.93</td>\n    </tr>\n    <tr>\n      <th>40744</th>\n      <td>마이셀 무알콜 (330병)</td>\n      <td>NaN</td>\n      <td>효모음료</td>\n      <td>효모음료</td>\n      <td>100</td>\n      <td>mL</td>\n      <td>-</td>\n      <td>330</td>\n      <td>0.71</td>\n    </tr>\n    <tr>\n      <th>40803</th>\n      <td>핫 터닙 주스</td>\n      <td>NaN</td>\n      <td>효모음료</td>\n      <td>효모음료</td>\n      <td>100</td>\n      <td>g</td>\n      <td>-</td>\n      <td>250</td>\n      <td>0</td>\n    </tr>\n  </tbody>\n</table>\n<p>83825 rows × 9 columns</p>\n</div>"
     },
     "execution_count": 186,
     "metadata": {},
     "output_type": "execute_result"
    }
   ],
   "source": [
    "sheet.set_index('No')"
   ],
   "metadata": {
    "collapsed": false,
    "pycharm": {
     "name": "#%%\n"
    }
   }
  },
  {
   "cell_type": "code",
   "execution_count": 187,
   "outputs": [
    {
     "data": {
      "text/plain": "9451          -\n69155         -\n69156         -\n69168         -\n69169         -\n          ...  \n40439        99\n47244        99\n70171      99.5\n70170      99.8\n37605    총당류(g)\nName: 총당류(g), Length: 83825, dtype: object"
     },
     "execution_count": 187,
     "metadata": {},
     "output_type": "execute_result"
    }
   ],
   "source": [
    "sheet[\"총당류(g)\"].sort_values()"
   ],
   "metadata": {
    "collapsed": false,
    "pycharm": {
     "name": "#%%\n"
    }
   }
  },
  {
   "cell_type": "code",
   "execution_count": 188,
   "outputs": [
    {
     "data": {
      "text/plain": "7.93        1\n28.06       1\n141.6       1\n292         1\n321.8       1\n         ... \n5        3033\n4        3091\n3        3143\n2        3406\n0        8390\nName: 총당류(g), Length: 2905, dtype: int64"
     },
     "execution_count": 188,
     "metadata": {},
     "output_type": "execute_result"
    }
   ],
   "source": [
    "sheet[\"총당류(g)\"].value_counts().sort_values()"
   ],
   "metadata": {
    "collapsed": false,
    "pycharm": {
     "name": "#%%\n"
    }
   }
  },
  {
   "cell_type": "code",
   "execution_count": 189,
   "outputs": [],
   "source": [
    "# condition1 = (sheet[\"총당류(g)\"] <= 1)"
   ],
   "metadata": {
    "collapsed": false,
    "pycharm": {
     "name": "#%%\n"
    }
   }
  },
  {
   "cell_type": "code",
   "execution_count": 190,
   "outputs": [],
   "source": [
    "condition2 = (sheet[\"총당류(g)\"] == \"1미만\")"
   ],
   "metadata": {
    "collapsed": false,
    "pycharm": {
     "name": "#%%\n"
    }
   }
  },
  {
   "cell_type": "code",
   "execution_count": 191,
   "outputs": [],
   "source": [
    "delete_condition = sheet[\"총당류(g)\"].loc[condition2].index"
   ],
   "metadata": {
    "collapsed": false,
    "pycharm": {
     "name": "#%%\n"
    }
   }
  },
  {
   "cell_type": "code",
   "execution_count": 192,
   "outputs": [
    {
     "data": {
      "text/plain": "Int64Index([    3,  1670,  1674, 20512, 20516, 20521, 42039, 52323, 52332,\n            52339, 52342, 52353, 52355, 52363, 55934],\n           dtype='int64')"
     },
     "execution_count": 192,
     "metadata": {},
     "output_type": "execute_result"
    }
   ],
   "source": [
    "delete_condition"
   ],
   "metadata": {
    "collapsed": false,
    "pycharm": {
     "name": "#%%\n"
    }
   }
  },
  {
   "cell_type": "code",
   "execution_count": 193,
   "outputs": [],
   "source": [
    "sheet = sheet.drop(delete_condition)"
   ],
   "metadata": {
    "collapsed": false,
    "pycharm": {
     "name": "#%%\n"
    }
   }
  },
  {
   "cell_type": "code",
   "execution_count": 194,
   "outputs": [],
   "source": [
    "condition3 = sheet[\"총당류(g)\"] == \"-\""
   ],
   "metadata": {
    "collapsed": false,
    "pycharm": {
     "name": "#%%\n"
    }
   }
  },
  {
   "cell_type": "code",
   "execution_count": 195,
   "outputs": [],
   "source": [
    "sheet = sheet.drop(sheet[\"총당류(g)\"].loc[condition3].index)"
   ],
   "metadata": {
    "collapsed": false,
    "pycharm": {
     "name": "#%%\n"
    }
   }
  },
  {
   "cell_type": "code",
   "execution_count": 196,
   "outputs": [
    {
     "data": {
      "text/plain": "      총당류(g)             식품명\n0          0         선 냉동 유부\n1          7          두부봉 치즈\n2          8             두부봉\n4          0              유부\n5          0              유부\n...      ...             ...\n83820     20              물회\n83821     52            생선물회\n83822   7.93              육회\n83823   0.71  마이셀 무알콜 (330병)\n83824      0         핫 터닙 주스\n\n[82375 rows x 2 columns]",
      "text/html": "<div>\n<style scoped>\n    .dataframe tbody tr th:only-of-type {\n        vertical-align: middle;\n    }\n\n    .dataframe tbody tr th {\n        vertical-align: top;\n    }\n\n    .dataframe thead th {\n        text-align: right;\n    }\n</style>\n<table border=\"1\" class=\"dataframe\">\n  <thead>\n    <tr style=\"text-align: right;\">\n      <th></th>\n      <th>총당류(g)</th>\n      <th>식품명</th>\n    </tr>\n  </thead>\n  <tbody>\n    <tr>\n      <th>0</th>\n      <td>0</td>\n      <td>선 냉동 유부</td>\n    </tr>\n    <tr>\n      <th>1</th>\n      <td>7</td>\n      <td>두부봉 치즈</td>\n    </tr>\n    <tr>\n      <th>2</th>\n      <td>8</td>\n      <td>두부봉</td>\n    </tr>\n    <tr>\n      <th>4</th>\n      <td>0</td>\n      <td>유부</td>\n    </tr>\n    <tr>\n      <th>5</th>\n      <td>0</td>\n      <td>유부</td>\n    </tr>\n    <tr>\n      <th>...</th>\n      <td>...</td>\n      <td>...</td>\n    </tr>\n    <tr>\n      <th>83820</th>\n      <td>20</td>\n      <td>물회</td>\n    </tr>\n    <tr>\n      <th>83821</th>\n      <td>52</td>\n      <td>생선물회</td>\n    </tr>\n    <tr>\n      <th>83822</th>\n      <td>7.93</td>\n      <td>육회</td>\n    </tr>\n    <tr>\n      <th>83823</th>\n      <td>0.71</td>\n      <td>마이셀 무알콜 (330병)</td>\n    </tr>\n    <tr>\n      <th>83824</th>\n      <td>0</td>\n      <td>핫 터닙 주스</td>\n    </tr>\n  </tbody>\n</table>\n<p>82375 rows × 2 columns</p>\n</div>"
     },
     "execution_count": 196,
     "metadata": {},
     "output_type": "execute_result"
    }
   ],
   "source": [
    "sheet[[\"총당류(g)\", \"식품명\"]]"
   ],
   "metadata": {
    "collapsed": false,
    "pycharm": {
     "name": "#%%\n"
    }
   }
  },
  {
   "cell_type": "code",
   "execution_count": 197,
   "outputs": [],
   "source": [
    "delete_condition = sheet.loc[sheet[\"총당류(g)\"] == \"1g미만\"]"
   ],
   "metadata": {
    "collapsed": false,
    "pycharm": {
     "name": "#%%\n"
    }
   }
  },
  {
   "cell_type": "code",
   "execution_count": 198,
   "outputs": [],
   "source": [
    "sheet = sheet.drop(delete_condition.index)"
   ],
   "metadata": {
    "collapsed": false,
    "pycharm": {
     "name": "#%%\n"
    }
   }
  },
  {
   "cell_type": "code",
   "execution_count": 199,
   "outputs": [],
   "source": [
    "sugar_index = sheet[\"총당류(g)\"].value_counts().index"
   ],
   "metadata": {
    "collapsed": false,
    "pycharm": {
     "name": "#%%\n"
    }
   }
  },
  {
   "cell_type": "code",
   "execution_count": 200,
   "outputs": [
    {
     "ename": "ValueError",
     "evalue": "could not convert string to float: '1g 미만'",
     "output_type": "error",
     "traceback": [
      "\u001B[0;31m---------------------------------------------------------------------------\u001B[0m",
      "\u001B[0;31mValueError\u001B[0m                                Traceback (most recent call last)",
      "Input \u001B[0;32mIn [200]\u001B[0m, in \u001B[0;36m<cell line: 1>\u001B[0;34m()\u001B[0m\n\u001B[1;32m      1\u001B[0m \u001B[38;5;28;01mfor\u001B[39;00m index \u001B[38;5;129;01min\u001B[39;00m sugar_index:\n\u001B[0;32m----> 2\u001B[0m     \u001B[38;5;28;43mfloat\u001B[39;49m\u001B[43m(\u001B[49m\u001B[43mindex\u001B[49m\u001B[43m)\u001B[49m\n",
      "\u001B[0;31mValueError\u001B[0m: could not convert string to float: '1g 미만'"
     ]
    }
   ],
   "source": [
    "for index in sugar_index:\n",
    "    float(index)"
   ],
   "metadata": {
    "collapsed": false,
    "pycharm": {
     "name": "#%%\n"
    }
   }
  },
  {
   "cell_type": "code",
   "execution_count": 201,
   "outputs": [],
   "source": [
    "delete_condition = sheet.loc[sheet[\"총당류(g)\"] == \"1g 미만\"]"
   ],
   "metadata": {
    "collapsed": false,
    "pycharm": {
     "name": "#%%\n"
    }
   }
  },
  {
   "cell_type": "code",
   "execution_count": 202,
   "outputs": [],
   "source": [
    "sheet = sheet.drop(delete_condition.index)"
   ],
   "metadata": {
    "collapsed": false,
    "pycharm": {
     "name": "#%%\n"
    }
   }
  },
  {
   "cell_type": "code",
   "execution_count": 203,
   "outputs": [],
   "source": [
    "delete_condition = sheet.loc[sheet[\"총당류(g)\"] == \"0.5g 미만\"]"
   ],
   "metadata": {
    "collapsed": false,
    "pycharm": {
     "name": "#%%\n"
    }
   }
  },
  {
   "cell_type": "code",
   "execution_count": 204,
   "outputs": [],
   "source": [
    "sheet = sheet.drop(delete_condition.index)"
   ],
   "metadata": {
    "collapsed": false,
    "pycharm": {
     "name": "#%%\n"
    }
   }
  },
  {
   "cell_type": "code",
   "execution_count": 205,
   "outputs": [],
   "source": [
    "delete_condition = sheet.loc[sheet[\"총당류(g)\"] == \"0.5g미만\"]"
   ],
   "metadata": {
    "collapsed": false,
    "pycharm": {
     "name": "#%%\n"
    }
   }
  },
  {
   "cell_type": "code",
   "execution_count": 206,
   "outputs": [],
   "source": [
    "sheet = sheet.drop(delete_condition.index)"
   ],
   "metadata": {
    "collapsed": false,
    "pycharm": {
     "name": "#%%\n"
    }
   }
  },
  {
   "cell_type": "code",
   "execution_count": 207,
   "outputs": [],
   "source": [
    "delete_condition = sheet.loc[sheet[\"총당류(g)\"] == \"11 미만\"]"
   ],
   "metadata": {
    "collapsed": false,
    "pycharm": {
     "name": "#%%\n"
    }
   }
  },
  {
   "cell_type": "code",
   "execution_count": 208,
   "outputs": [],
   "source": [
    "sheet = sheet.drop(delete_condition.index)"
   ],
   "metadata": {
    "collapsed": false,
    "pycharm": {
     "name": "#%%\n"
    }
   }
  },
  {
   "cell_type": "code",
   "execution_count": 209,
   "outputs": [],
   "source": [
    "delete_condition = sheet.loc[sheet[\"총당류(g)\"] == \"2미만\"]"
   ],
   "metadata": {
    "collapsed": false,
    "pycharm": {
     "name": "#%%\n"
    }
   }
  },
  {
   "cell_type": "code",
   "execution_count": 210,
   "outputs": [],
   "source": [
    "sheet = sheet.drop(delete_condition.index)"
   ],
   "metadata": {
    "collapsed": false,
    "pycharm": {
     "name": "#%%\n"
    }
   }
  },
  {
   "cell_type": "code",
   "execution_count": 211,
   "outputs": [],
   "source": [
    "delete_condition = sheet.loc[sheet[\"총당류(g)\"] == \"13미만\"]"
   ],
   "metadata": {
    "collapsed": false,
    "pycharm": {
     "name": "#%%\n"
    }
   }
  },
  {
   "cell_type": "code",
   "execution_count": 212,
   "outputs": [],
   "source": [
    "sheet = sheet.drop(delete_condition.index)"
   ],
   "metadata": {
    "collapsed": false,
    "pycharm": {
     "name": "#%%\n"
    }
   }
  },
  {
   "cell_type": "code",
   "execution_count": 213,
   "outputs": [],
   "source": [
    "delete_condition = sheet.loc[sheet[\"총당류(g)\"] == \"1 g 미만\"]"
   ],
   "metadata": {
    "collapsed": false,
    "pycharm": {
     "name": "#%%\n"
    }
   }
  },
  {
   "cell_type": "code",
   "execution_count": 214,
   "outputs": [],
   "source": [
    "sheet = sheet.drop(delete_condition.index)"
   ],
   "metadata": {
    "collapsed": false,
    "pycharm": {
     "name": "#%%\n"
    }
   }
  },
  {
   "cell_type": "code",
   "execution_count": 215,
   "outputs": [],
   "source": [
    "delete_condition = sheet.loc[sheet[\"총당류(g)\"] == \"1 미만\"]"
   ],
   "metadata": {
    "collapsed": false,
    "pycharm": {
     "name": "#%%\n"
    }
   }
  },
  {
   "cell_type": "code",
   "execution_count": 216,
   "outputs": [],
   "source": [
    "sheet = sheet.drop(delete_condition.index)"
   ],
   "metadata": {
    "collapsed": false,
    "pycharm": {
     "name": "#%%\n"
    }
   }
  },
  {
   "cell_type": "code",
   "execution_count": 217,
   "outputs": [],
   "source": [
    "delete_condition = sheet.loc[sheet[\"총당류(g)\"] == \"총당류(g)\"]"
   ],
   "metadata": {
    "collapsed": false,
    "pycharm": {
     "name": "#%%\n"
    }
   }
  },
  {
   "cell_type": "code",
   "execution_count": 218,
   "outputs": [],
   "source": [
    "sheet = sheet.drop(delete_condition.index)"
   ],
   "metadata": {
    "collapsed": false,
    "pycharm": {
     "name": "#%%\n"
    }
   }
  },
  {
   "cell_type": "code",
   "execution_count": 219,
   "outputs": [],
   "source": [
    "delete_condition = sheet.loc[sheet[\"총당류(g)\"] == \"3g미만\"]"
   ],
   "metadata": {
    "collapsed": false,
    "pycharm": {
     "name": "#%%\n"
    }
   }
  },
  {
   "cell_type": "code",
   "execution_count": 220,
   "outputs": [],
   "source": [
    "sheet = sheet.drop(delete_condition.index)"
   ],
   "metadata": {
    "collapsed": false,
    "pycharm": {
     "name": "#%%\n"
    }
   }
  },
  {
   "cell_type": "code",
   "execution_count": 221,
   "outputs": [
    {
     "data": {
      "text/plain": "     No      식품명  대분류   중분류   소분류 1회 제공량 용량 총내용량(g) 총내용량(ml) 총당류(g)\n0  1211  선 냉동 유부  NaN  가공두부  가공두부     10  g       -        -      0\n1  1755   두부봉 치즈  NaN  가공두부  가공두부    180  g       -        -      7\n2  1756      두부봉  NaN  가공두부  가공두부    180  g       -        -      8\n4  5468       유부  NaN  가공두부  가공두부     80  g       -        -      0\n5  5469       유부  NaN  가공두부  가공두부     80  g       -        -      0",
      "text/html": "<div>\n<style scoped>\n    .dataframe tbody tr th:only-of-type {\n        vertical-align: middle;\n    }\n\n    .dataframe tbody tr th {\n        vertical-align: top;\n    }\n\n    .dataframe thead th {\n        text-align: right;\n    }\n</style>\n<table border=\"1\" class=\"dataframe\">\n  <thead>\n    <tr style=\"text-align: right;\">\n      <th></th>\n      <th>No</th>\n      <th>식품명</th>\n      <th>대분류</th>\n      <th>중분류</th>\n      <th>소분류</th>\n      <th>1회 제공량</th>\n      <th>용량</th>\n      <th>총내용량(g)</th>\n      <th>총내용량(ml)</th>\n      <th>총당류(g)</th>\n    </tr>\n  </thead>\n  <tbody>\n    <tr>\n      <th>0</th>\n      <td>1211</td>\n      <td>선 냉동 유부</td>\n      <td>NaN</td>\n      <td>가공두부</td>\n      <td>가공두부</td>\n      <td>10</td>\n      <td>g</td>\n      <td>-</td>\n      <td>-</td>\n      <td>0</td>\n    </tr>\n    <tr>\n      <th>1</th>\n      <td>1755</td>\n      <td>두부봉 치즈</td>\n      <td>NaN</td>\n      <td>가공두부</td>\n      <td>가공두부</td>\n      <td>180</td>\n      <td>g</td>\n      <td>-</td>\n      <td>-</td>\n      <td>7</td>\n    </tr>\n    <tr>\n      <th>2</th>\n      <td>1756</td>\n      <td>두부봉</td>\n      <td>NaN</td>\n      <td>가공두부</td>\n      <td>가공두부</td>\n      <td>180</td>\n      <td>g</td>\n      <td>-</td>\n      <td>-</td>\n      <td>8</td>\n    </tr>\n    <tr>\n      <th>4</th>\n      <td>5468</td>\n      <td>유부</td>\n      <td>NaN</td>\n      <td>가공두부</td>\n      <td>가공두부</td>\n      <td>80</td>\n      <td>g</td>\n      <td>-</td>\n      <td>-</td>\n      <td>0</td>\n    </tr>\n    <tr>\n      <th>5</th>\n      <td>5469</td>\n      <td>유부</td>\n      <td>NaN</td>\n      <td>가공두부</td>\n      <td>가공두부</td>\n      <td>80</td>\n      <td>g</td>\n      <td>-</td>\n      <td>-</td>\n      <td>0</td>\n    </tr>\n  </tbody>\n</table>\n</div>"
     },
     "execution_count": 221,
     "metadata": {},
     "output_type": "execute_result"
    }
   ],
   "source": [
    "sheet.head()"
   ],
   "metadata": {
    "collapsed": false,
    "pycharm": {
     "name": "#%%\n"
    }
   }
  },
  {
   "cell_type": "code",
   "execution_count": 222,
   "outputs": [],
   "source": [
    "sheet = sheet.drop(sheet.loc[sheet[\"총당류(g)\"] == 0].index)"
   ],
   "metadata": {
    "collapsed": false,
    "pycharm": {
     "name": "#%%\n"
    }
   }
  },
  {
   "cell_type": "code",
   "execution_count": 223,
   "outputs": [],
   "source": [
    "delete_condition = sheet.loc[sheet[\"총당류(g)\"] == \"1 미만\"]"
   ],
   "metadata": {
    "collapsed": false,
    "pycharm": {
     "name": "#%%\n"
    }
   }
  },
  {
   "cell_type": "markdown",
   "source": [],
   "metadata": {
    "collapsed": false,
    "pycharm": {
     "name": "#%% md\n"
    }
   }
  },
  {
   "cell_type": "code",
   "execution_count": 224,
   "outputs": [],
   "source": [
    "sheet = sheet.drop(delete_condition.index)"
   ],
   "metadata": {
    "collapsed": false,
    "pycharm": {
     "name": "#%%\n"
    }
   }
  },
  {
   "cell_type": "code",
   "execution_count": 225,
   "outputs": [],
   "source": [
    "delete_condition = sheet.loc[sheet[\"총당류(g)\"].astype(float) <= 1]"
   ],
   "metadata": {
    "collapsed": false,
    "pycharm": {
     "name": "#%%\n"
    }
   }
  },
  {
   "cell_type": "code",
   "execution_count": 226,
   "outputs": [],
   "source": [
    "sheet = sheet.drop(delete_condition.index)"
   ],
   "metadata": {
    "collapsed": false,
    "pycharm": {
     "name": "#%%\n"
    }
   }
  },
  {
   "cell_type": "code",
   "execution_count": 227,
   "outputs": [
    {
     "name": "stdout",
     "output_type": "stream",
     "text": [
      "<class 'pandas.core.frame.DataFrame'>\n",
      "Int64Index: 67654 entries, 1 to 83822\n",
      "Data columns (total 10 columns):\n",
      " #   Column    Non-Null Count  Dtype  \n",
      "---  ------    --------------  -----  \n",
      " 0   No        67654 non-null  object \n",
      " 1   식품명       67654 non-null  object \n",
      " 2   대분류       0 non-null      float64\n",
      " 3   중분류       67654 non-null  object \n",
      " 4   소분류       67654 non-null  object \n",
      " 5   1회 제공량    67654 non-null  object \n",
      " 6   용량        66771 non-null  object \n",
      " 7   총내용량(g)   67654 non-null  object \n",
      " 8   총내용량(ml)  67654 non-null  object \n",
      " 9   총당류(g)    67654 non-null  object \n",
      "dtypes: float64(1), object(9)\n",
      "memory usage: 5.7+ MB\n"
     ]
    }
   ],
   "source": [
    "sheet.info()"
   ],
   "metadata": {
    "collapsed": false,
    "pycharm": {
     "name": "#%%\n"
    }
   }
  },
  {
   "cell_type": "code",
   "execution_count": 228,
   "outputs": [],
   "source": [
    "sheet = sheet.drop(sheet.loc[sheet[\"중분류\"] == \"가공두부\"].index)"
   ],
   "metadata": {
    "collapsed": false,
    "pycharm": {
     "name": "#%%\n"
    }
   }
  },
  {
   "cell_type": "code",
   "execution_count": 229,
   "outputs": [
    {
     "data": {
      "text/plain": "     No                    식품명  대분류   중분류   소분류 1회 제공량 용량 총내용량(g) 총내용량(ml)  \\\n17  138              내몸애두유 검은콩  NaN  가공두유  가공두유    195  g       -        -   \n18  375          국산 발아콩 고칼슘 두유  NaN  가공두유  가공두유    190  g       -        -   \n19  376  이롬 황성주 국산콩 두유 호두와 아몬드  NaN  가공두유  가공두유    190  g       -        -   \n20  421             자연드림 우리콩두유  NaN  가공두유  가공두유    195  g       -        -   \n21  453          맛있게 든든한 고칼슘두유  NaN  가공두유  가공두유    190  g       -        -   \n\n   총당류(g)  \n17      5  \n18      8  \n19     10  \n20      4  \n21      9  ",
      "text/html": "<div>\n<style scoped>\n    .dataframe tbody tr th:only-of-type {\n        vertical-align: middle;\n    }\n\n    .dataframe tbody tr th {\n        vertical-align: top;\n    }\n\n    .dataframe thead th {\n        text-align: right;\n    }\n</style>\n<table border=\"1\" class=\"dataframe\">\n  <thead>\n    <tr style=\"text-align: right;\">\n      <th></th>\n      <th>No</th>\n      <th>식품명</th>\n      <th>대분류</th>\n      <th>중분류</th>\n      <th>소분류</th>\n      <th>1회 제공량</th>\n      <th>용량</th>\n      <th>총내용량(g)</th>\n      <th>총내용량(ml)</th>\n      <th>총당류(g)</th>\n    </tr>\n  </thead>\n  <tbody>\n    <tr>\n      <th>17</th>\n      <td>138</td>\n      <td>내몸애두유 검은콩</td>\n      <td>NaN</td>\n      <td>가공두유</td>\n      <td>가공두유</td>\n      <td>195</td>\n      <td>g</td>\n      <td>-</td>\n      <td>-</td>\n      <td>5</td>\n    </tr>\n    <tr>\n      <th>18</th>\n      <td>375</td>\n      <td>국산 발아콩 고칼슘 두유</td>\n      <td>NaN</td>\n      <td>가공두유</td>\n      <td>가공두유</td>\n      <td>190</td>\n      <td>g</td>\n      <td>-</td>\n      <td>-</td>\n      <td>8</td>\n    </tr>\n    <tr>\n      <th>19</th>\n      <td>376</td>\n      <td>이롬 황성주 국산콩 두유 호두와 아몬드</td>\n      <td>NaN</td>\n      <td>가공두유</td>\n      <td>가공두유</td>\n      <td>190</td>\n      <td>g</td>\n      <td>-</td>\n      <td>-</td>\n      <td>10</td>\n    </tr>\n    <tr>\n      <th>20</th>\n      <td>421</td>\n      <td>자연드림 우리콩두유</td>\n      <td>NaN</td>\n      <td>가공두유</td>\n      <td>가공두유</td>\n      <td>195</td>\n      <td>g</td>\n      <td>-</td>\n      <td>-</td>\n      <td>4</td>\n    </tr>\n    <tr>\n      <th>21</th>\n      <td>453</td>\n      <td>맛있게 든든한 고칼슘두유</td>\n      <td>NaN</td>\n      <td>가공두유</td>\n      <td>가공두유</td>\n      <td>190</td>\n      <td>g</td>\n      <td>-</td>\n      <td>-</td>\n      <td>9</td>\n    </tr>\n  </tbody>\n</table>\n</div>"
     },
     "execution_count": 229,
     "metadata": {},
     "output_type": "execute_result"
    }
   ],
   "source": [
    "sheet.head()"
   ],
   "metadata": {
    "collapsed": false,
    "pycharm": {
     "name": "#%%\n"
    }
   }
  },
  {
   "cell_type": "code",
   "execution_count": 230,
   "outputs": [],
   "source": [
    "array = ['가공두부', '가공버터', '가공치즈', '간편조리세트', '고추씨기름', '고추장',  '곡류가공품', '과/채가공품', '기타잼', '국 및 탕류',  '기타 농산가공품', '면 및 만두류',  '밥류',  '볶음류', '생채및 무침류', '기타 수산물가공품', '기타 식용유지가공품', '기타 어육가공품', '전.적 및 부침류', '조림류', '찜류', '튀김류', '기타가공품', '기타설탕', '기타식물성유지', '즉석섭취식품', '김치', '김치류', '숙채류', '생채및 무침류', '당류가공품', '당시럽류', '된장', '두류가공품', '두부', '들기름', '볶음류', '면 및 만두류', '마가린', '마요네즈', '만두', '면 및 만두류', '만두피', '모조치즈', '묵류', '미강유(현미유)', '밀가루', '발효소시지', '복합조미식품', '커피', '전.적 및 부침류', '분쇄가공육제품', '산분해간장', '산양유', '신선편의식품', '생채및 무침류', '생햄', '선천성 대사질환자용 식품', '설탕', '성장기용 조제식', '소스', '소시지', '쇼트닝', '숙면', '면 및 만두류', '식물성크림', '식용돈지', '식육추출가공품', '신선편의식품', '알가열제품', '알함유가공품', '해바라기유', '야자유', '양념육', '양념젓갈', '양조간장', '어묵',  '어육소시지', '구이류', '국 및 탕류', '생채및 무침류', '볶음류', '전.적 및 부침류', '조림류', '찌개 및 전골류', '찜류', '찌개 및 전골류', '튀김류', '영/유아용 이유식', '영아용 조제유', '영양강화 밀가루', '옥수수기름(옥배유)', '올리고당', '올리고당가공품', '올리브유', '유탕면', '전.적 및 부침류', '음료베이스', '임산/수유부용 식품',  '장아찌 및 절임류', '잼', '전분가공품', '전지분유', '절임식품', '젓갈', '젓갈류', '조미건어포', '조미김', '죽 및 스프류', '면 및 만두류', '즉석섭취식품', '즉석조리식품', '참기름', '구이류', '채종유(유채유 또는 카놀라유)', '체중조절용 조제식품', '추잉껌', '추출가공식품', '춘장', '카레(커리)', '코코아매스', '코코아버터', '콩기름(대두유)', '탄산수', '탈지농축우유', '탈지분유', '즉석조리식품', '토마토케첩', '팜유류', '포류', '프레스햄', '해바라기유', '햄', '해바라기유', '즉석섭취식품', '향미유', '혼합간장', '혼합식용유', '혼합장', '환자용 식품', '회류', '효모음료', '가공유지', '개량메주', '곤충가공식품', '기타', '기타장류', '땅콩기름(낙화생유)', '땅콩버터', '발효식초', '버터', '베이컨류', '성장기용 조제유', '식육함유가공품', '어유', '영/유아용 특수조제식품', '코코아분말', '혼합분유', '혼합소시지', '당절임', '영아용 조제식']"
   ],
   "metadata": {
    "collapsed": false,
    "pycharm": {
     "name": "#%%\n"
    }
   }
  },
  {
   "cell_type": "code",
   "execution_count": 231,
   "outputs": [
    {
     "data": {
      "text/plain": "161"
     },
     "execution_count": 231,
     "metadata": {},
     "output_type": "execute_result"
    }
   ],
   "source": [
    "len(array)"
   ],
   "metadata": {
    "collapsed": false,
    "pycharm": {
     "name": "#%%\n"
    }
   }
  },
  {
   "cell_type": "code",
   "execution_count": 232,
   "outputs": [],
   "source": [
    "array = set(array)"
   ],
   "metadata": {
    "collapsed": false,
    "pycharm": {
     "name": "#%%\n"
    }
   }
  },
  {
   "cell_type": "code",
   "execution_count": 233,
   "outputs": [
    {
     "name": "stdout",
     "output_type": "stream",
     "text": [
      "['식물성크림', '어육소시지', '숙채류', '환자용 식품', '참기름', '해바라기유', '포류', '효모음료', '소시지', '볶음류', '코코아매스', '곤충가공식품', '신선편의식품', '탄산수', '임산/수유부용 식품', '전지분유', '채종유(유채유 또는 카놀라유)', '소스', '가공두부', '땅콩기름(낙화생유)', '알가열제품', '혼합간장', '커피', '장아찌 및 절임류', '고추장', '기타가공품', '혼합분유', '성장기용 조제식', '즉석조리식품', '춘장', '만두피', '즉석섭취식품', '기타 식용유지가공품', '기타잼', '가공유지', '튀김류', '생채및 무침류', '올리고당가공품', '곡류가공품', '생햄', '영/유아용 이유식', '밥류', '알함유가공품', '혼합소시지', '조미김', '양념젓갈', '코코아버터', '두류가공품', '가공버터', '간편조리세트', '유탕면', '향미유', '식육함유가공품', '산양유', '혼합식용유', '김치류', '전분가공품', '발효소시지', '어유', '숙면', '찌개 및 전골류', '양조간장', '올리고당', '팜유류', '프레스햄', '당시럽류', '절임식품', '기타설탕', '미강유(현미유)', '발효식초', '혼합장', '기타 수산물가공품', '선천성 대사질환자용 식품', '어묵', '옥수수기름(옥배유)', '구이류', '음료베이스', '베이컨류', '젓갈', '버터', '가공치즈', '들기름', '기타장류', '설탕', '모조치즈', '영/유아용 특수조제식품', '산분해간장', '면 및 만두류', '마가린', '마요네즈', '된장', '콩기름(대두유)', '기타식물성유지', '성장기용 조제유', '영아용 조제식', '복합조미식품', '만두', '국 및 탕류', '야자유', '탈지농축우유', '분쇄가공육제품', '두부', '죽 및 스프류', '고추씨기름', '땅콩버터', '추잉껌', '식육추출가공품', '개량메주', '쇼트닝', '기타 농산가공품', '기타 어육가공품', '조림류', '젓갈류', '당절임', '당류가공품', '탈지분유', '올리브유', '카레(커리)', '묵류', '영양강화 밀가루', '기타', '밀가루', '식용돈지', '회류', '햄', '김치', '과/채가공품', '영아용 조제유', '토마토케첩', '체중조절용 조제식품', '전.적 및 부침류', '양념육', '코코아분말', '추출가공식품', '조미건어포', '잼', '찜류']\n"
     ]
    }
   ],
   "source": [
    "print(list(array))"
   ],
   "metadata": {
    "collapsed": false,
    "pycharm": {
     "name": "#%%\n"
    }
   }
  },
  {
   "cell_type": "code",
   "execution_count": 234,
   "outputs": [
    {
     "data": {
      "text/plain": "137"
     },
     "execution_count": 234,
     "metadata": {},
     "output_type": "execute_result"
    }
   ],
   "source": [
    "len(array)"
   ],
   "metadata": {
    "collapsed": false,
    "pycharm": {
     "name": "#%%\n"
    }
   }
  },
  {
   "cell_type": "code",
   "execution_count": 235,
   "outputs": [],
   "source": [
    "for content in array:\n",
    "    sheet = sheet.drop(sheet.loc[sheet[\"중분류\"] == content].index)"
   ],
   "metadata": {
    "collapsed": false,
    "pycharm": {
     "name": "#%%\n"
    }
   }
  },
  {
   "cell_type": "code",
   "execution_count": 236,
   "outputs": [],
   "source": [
    "sheet = sheet.drop(sheet.loc[sheet[\"No\"] == \"NaN\"].index)"
   ],
   "metadata": {
    "collapsed": false,
    "pycharm": {
     "name": "#%%\n"
    }
   }
  },
  {
   "cell_type": "code",
   "execution_count": 237,
   "outputs": [],
   "source": [
    "sheet = sheet.drop(sheet.loc[sheet[\"No\"].isna()].index)"
   ],
   "metadata": {
    "collapsed": false,
    "pycharm": {
     "name": "#%%\n"
    }
   }
  },
  {
   "cell_type": "code",
   "execution_count": 238,
   "outputs": [
    {
     "name": "stdout",
     "output_type": "stream",
     "text": [
      "<class 'pandas.core.frame.DataFrame'>\n",
      "Int64Index: 49865 entries, 17 to 83681\n",
      "Data columns (total 10 columns):\n",
      " #   Column    Non-Null Count  Dtype  \n",
      "---  ------    --------------  -----  \n",
      " 0   No        49865 non-null  object \n",
      " 1   식품명       49865 non-null  object \n",
      " 2   대분류       0 non-null      float64\n",
      " 3   중분류       49865 non-null  object \n",
      " 4   소분류       49865 non-null  object \n",
      " 5   1회 제공량    49865 non-null  object \n",
      " 6   용량        49206 non-null  object \n",
      " 7   총내용량(g)   49865 non-null  object \n",
      " 8   총내용량(ml)  49865 non-null  object \n",
      " 9   총당류(g)    49865 non-null  object \n",
      "dtypes: float64(1), object(9)\n",
      "memory usage: 4.2+ MB\n"
     ]
    }
   ],
   "source": [
    "sheet.info()"
   ],
   "metadata": {
    "collapsed": false,
    "pycharm": {
     "name": "#%%\n"
    }
   }
  },
  {
   "cell_type": "markdown",
   "source": [],
   "metadata": {
    "collapsed": false,
    "pycharm": {
     "name": "#%% md\n"
    }
   }
  },
  {
   "cell_type": "markdown",
   "source": [],
   "metadata": {
    "collapsed": false,
    "pycharm": {
     "name": "#%% md\n"
    }
   }
  },
  {
   "cell_type": "code",
   "execution_count": 239,
   "outputs": [],
   "source": [
    "sheet = sheet.drop(sheet.loc[(sheet[\"총내용량(g)\"] == '-') & (sheet[\"총내용량(ml)\"] == '-')].index)"
   ],
   "metadata": {
    "collapsed": false,
    "pycharm": {
     "name": "#%%\n"
    }
   }
  },
  {
   "cell_type": "code",
   "execution_count": 240,
   "outputs": [],
   "source": [
    "sheet.to_csv('../temp.csv')"
   ],
   "metadata": {
    "collapsed": false,
    "pycharm": {
     "name": "#%%\n"
    }
   }
  },
  {
   "cell_type": "code",
   "execution_count": 241,
   "outputs": [
    {
     "data": {
      "text/plain": "Int64Index([  113,   114,   115,   116,   117,   118,   119,   120,   121,\n              122,\n            ...\n            83672, 83673, 83674, 83675, 83676, 83677, 83678, 83679, 83680,\n            83681],\n           dtype='int64', length=44664)"
     },
     "execution_count": 241,
     "metadata": {},
     "output_type": "execute_result"
    }
   ],
   "source": [
    "(sheet['중분류'] == '가공두유').index"
   ],
   "metadata": {
    "collapsed": false,
    "pycharm": {
     "name": "#%%\n"
    }
   }
  },
  {
   "cell_type": "code",
   "execution_count": 242,
   "outputs": [
    {
     "data": {
      "text/plain": "113       True\n114       True\n115       True\n116       True\n117       True\n         ...  \n83677    False\n83678    False\n83679    False\n83680    False\n83681    False\nName: 중분류, Length: 44664, dtype: bool"
     },
     "execution_count": 242,
     "metadata": {},
     "output_type": "execute_result"
    }
   ],
   "source": [
    "sheet['중분류'] == '가공두유'"
   ],
   "metadata": {
    "collapsed": false,
    "pycharm": {
     "name": "#%%\n"
    }
   }
  },
  {
   "cell_type": "code",
   "execution_count": 243,
   "outputs": [],
   "source": [
    "# 음료: beverage\n",
    "# 과자: snack\n",
    "# 빵: bread\n",
    "# 떡: rice_cake\n",
    "# 유가공품: milk_product\n",
    "# 빙과: ice\n",
    "# 초콜릿: chocolate"
   ],
   "metadata": {
    "collapsed": false,
    "pycharm": {
     "name": "#%%\n"
    }
   }
  },
  {
   "cell_type": "code",
   "execution_count": 244,
   "outputs": [
    {
     "data": {
      "text/plain": "          No                   식품명  대분류     중분류     소분류 1회 제공량  용량 총내용량(g)  \\\n113    10397             삼육두유검은콩칼슘  NaN    가공두유    가공두유    190  mL       -   \n114    10398           베지밀검은콩두유고칼슘  NaN    가공두유    가공두유    190  mL       -   \n115    10399               달콤한베지밀비  NaN    가공두유    가공두유    100  mL       -   \n116    10400         삼육두유검은콩호두와아몬드  NaN    가공두유    가공두유    140  mL       -   \n117    10401              담백한베지밀에이  NaN    가공두유    가공두유    190  mL       -   \n...      ...                   ...  ...     ...     ...    ...  ..     ...   \n83677  59687       모리나가 다스 화이트 초콜릿  NaN  화이트초콜릿  화이트초콜릿     42   g      42   \n83678  60615                화이트보뇌르  NaN  화이트초콜릿  화이트초콜릿     30   g      50   \n83679  61033       토블론 스위스 화이트 초콜릿  NaN  화이트초콜릿  화이트초콜릿    100   g     100   \n83680  61439          명인명촌 현미칩 초콜릿  NaN  화이트초콜릿  화이트초콜릿     65   g      65   \n83681  64772  바이오 화이트 초콜릿 요거트 & 딸기  NaN  화이트초콜릿  화이트초콜릿    100   g     100   \n\n      총내용량(ml) 총당류(g)  \n113        190     10  \n114        190     10  \n115        950      5  \n116        140     10  \n117        190      6  \n...        ...    ...  \n83677        -   20.4  \n83678        -     13  \n83679        -     63  \n83680        -     26  \n83681        -   51.7  \n\n[44664 rows x 10 columns]",
      "text/html": "<div>\n<style scoped>\n    .dataframe tbody tr th:only-of-type {\n        vertical-align: middle;\n    }\n\n    .dataframe tbody tr th {\n        vertical-align: top;\n    }\n\n    .dataframe thead th {\n        text-align: right;\n    }\n</style>\n<table border=\"1\" class=\"dataframe\">\n  <thead>\n    <tr style=\"text-align: right;\">\n      <th></th>\n      <th>No</th>\n      <th>식품명</th>\n      <th>대분류</th>\n      <th>중분류</th>\n      <th>소분류</th>\n      <th>1회 제공량</th>\n      <th>용량</th>\n      <th>총내용량(g)</th>\n      <th>총내용량(ml)</th>\n      <th>총당류(g)</th>\n    </tr>\n  </thead>\n  <tbody>\n    <tr>\n      <th>113</th>\n      <td>10397</td>\n      <td>삼육두유검은콩칼슘</td>\n      <td>NaN</td>\n      <td>가공두유</td>\n      <td>가공두유</td>\n      <td>190</td>\n      <td>mL</td>\n      <td>-</td>\n      <td>190</td>\n      <td>10</td>\n    </tr>\n    <tr>\n      <th>114</th>\n      <td>10398</td>\n      <td>베지밀검은콩두유고칼슘</td>\n      <td>NaN</td>\n      <td>가공두유</td>\n      <td>가공두유</td>\n      <td>190</td>\n      <td>mL</td>\n      <td>-</td>\n      <td>190</td>\n      <td>10</td>\n    </tr>\n    <tr>\n      <th>115</th>\n      <td>10399</td>\n      <td>달콤한베지밀비</td>\n      <td>NaN</td>\n      <td>가공두유</td>\n      <td>가공두유</td>\n      <td>100</td>\n      <td>mL</td>\n      <td>-</td>\n      <td>950</td>\n      <td>5</td>\n    </tr>\n    <tr>\n      <th>116</th>\n      <td>10400</td>\n      <td>삼육두유검은콩호두와아몬드</td>\n      <td>NaN</td>\n      <td>가공두유</td>\n      <td>가공두유</td>\n      <td>140</td>\n      <td>mL</td>\n      <td>-</td>\n      <td>140</td>\n      <td>10</td>\n    </tr>\n    <tr>\n      <th>117</th>\n      <td>10401</td>\n      <td>담백한베지밀에이</td>\n      <td>NaN</td>\n      <td>가공두유</td>\n      <td>가공두유</td>\n      <td>190</td>\n      <td>mL</td>\n      <td>-</td>\n      <td>190</td>\n      <td>6</td>\n    </tr>\n    <tr>\n      <th>...</th>\n      <td>...</td>\n      <td>...</td>\n      <td>...</td>\n      <td>...</td>\n      <td>...</td>\n      <td>...</td>\n      <td>...</td>\n      <td>...</td>\n      <td>...</td>\n      <td>...</td>\n    </tr>\n    <tr>\n      <th>83677</th>\n      <td>59687</td>\n      <td>모리나가 다스 화이트 초콜릿</td>\n      <td>NaN</td>\n      <td>화이트초콜릿</td>\n      <td>화이트초콜릿</td>\n      <td>42</td>\n      <td>g</td>\n      <td>42</td>\n      <td>-</td>\n      <td>20.4</td>\n    </tr>\n    <tr>\n      <th>83678</th>\n      <td>60615</td>\n      <td>화이트보뇌르</td>\n      <td>NaN</td>\n      <td>화이트초콜릿</td>\n      <td>화이트초콜릿</td>\n      <td>30</td>\n      <td>g</td>\n      <td>50</td>\n      <td>-</td>\n      <td>13</td>\n    </tr>\n    <tr>\n      <th>83679</th>\n      <td>61033</td>\n      <td>토블론 스위스 화이트 초콜릿</td>\n      <td>NaN</td>\n      <td>화이트초콜릿</td>\n      <td>화이트초콜릿</td>\n      <td>100</td>\n      <td>g</td>\n      <td>100</td>\n      <td>-</td>\n      <td>63</td>\n    </tr>\n    <tr>\n      <th>83680</th>\n      <td>61439</td>\n      <td>명인명촌 현미칩 초콜릿</td>\n      <td>NaN</td>\n      <td>화이트초콜릿</td>\n      <td>화이트초콜릿</td>\n      <td>65</td>\n      <td>g</td>\n      <td>65</td>\n      <td>-</td>\n      <td>26</td>\n    </tr>\n    <tr>\n      <th>83681</th>\n      <td>64772</td>\n      <td>바이오 화이트 초콜릿 요거트 &amp; 딸기</td>\n      <td>NaN</td>\n      <td>화이트초콜릿</td>\n      <td>화이트초콜릿</td>\n      <td>100</td>\n      <td>g</td>\n      <td>100</td>\n      <td>-</td>\n      <td>51.7</td>\n    </tr>\n  </tbody>\n</table>\n<p>44664 rows × 10 columns</p>\n</div>"
     },
     "execution_count": 244,
     "metadata": {},
     "output_type": "execute_result"
    }
   ],
   "source": [
    "sheet"
   ],
   "metadata": {
    "collapsed": false,
    "pycharm": {
     "name": "#%%\n"
    }
   }
  },
  {
   "cell_type": "code",
   "execution_count": 245,
   "outputs": [
    {
     "data": {
      "text/plain": "array(['가공두유', '가공유', '강화우유', '고형차', '과/채음료', '과/채주스', '음료 및 차류', '과자',\n       '과자류', '빵류', '기타 코코아가공품', '기타발효음료', '캔디류', '농축과/채즙(또는 과/채분)',\n       '농후발효유', '농후크림발효유', '땅콩 또는 견과류가공품', '떡류', '곡류 및 서류', '밀크초콜릿',\n       '발효유', '비유지방아이스크림', '빙과', '아이스크림류', '샤베트', '서류가공품', '시리얼류',\n       '아이스밀크', '아이스크림', '액상차', '우유', '원액두유', '유당분해우유', '유산균음료',\n       '유산균첨가우유', '인삼/홍삼음료', '자연치즈', '저지방아이스크림', '준초콜릿', '초콜릿', '초콜릿가공품',\n       '크림발효유', '탄산음료', '혼합음료', '화이트초콜릿'], dtype=object)"
     },
     "execution_count": 245,
     "metadata": {},
     "output_type": "execute_result"
    }
   ],
   "source": [
    "sheet[\"중분류\"].unique()"
   ],
   "metadata": {
    "collapsed": false,
    "pycharm": {
     "name": "#%%\n"
    }
   }
  },
  {
   "cell_type": "code",
   "execution_count": 246,
   "outputs": [],
   "source": [
    "beverage = ['가공두유', '고형차', '과/채음료', '과/채주스', '음료 및 차류', '기타발효음료', '농축과/채즙(또는 과/채분)', '액상차', '원액두유', '유산균음료', '인삼/홍삼음료', '탄산음료', '혼합음료']\n",
    "snack = ['과자', '과자류', '서류가공품']\n",
    "bread = ['빵류']\n",
    "rice_cake = ['떡류', '곡류 및 서류', '시리얼류', '시리얼', '땅콩 또는 견과류가공품']\n",
    "milk_product = ['강화우유', '농후발효유', '농후크림발효유', '발효유', '우유', '유당분해우유', '유산균첨가우유', '자연치즈', '크림발효유', '가공유']\n",
    "ice_cream = ['비유지방아이스크림', '빙과', '아이스크림류', '샤베트', '아이스밀크', '아이스크림', '저지방아이스크림']\n",
    "chocolate = ['밀크초콜릿', '준초콜릿', '초콜릿', '초콜릿가공품', '화이트초콜릿', '기타 코코아가공품']\n",
    "candy = ['캔디류']"
   ],
   "metadata": {
    "collapsed": false,
    "pycharm": {
     "name": "#%%\n"
    }
   }
  },
  {
   "cell_type": "code",
   "execution_count": 247,
   "outputs": [],
   "source": [
    "# 해야할 목록\n",
    "# 각각 저거 for 문으로 돌리면서 대분류 집어 넣기"
   ],
   "metadata": {
    "collapsed": false,
    "pycharm": {
     "name": "#%%\n"
    }
   }
  },
  {
   "cell_type": "markdown",
   "source": [],
   "metadata": {
    "collapsed": false,
    "pycharm": {
     "name": "#%% md\n"
    }
   }
  },
  {
   "cell_type": "code",
   "execution_count": 248,
   "outputs": [],
   "source": [
    "for value in beverage:\n",
    "    sheet.loc[sheet.loc[:, \"중분류\"] == value, '대분류'] = '음료'"
   ],
   "metadata": {
    "collapsed": false,
    "pycharm": {
     "name": "#%%\n"
    }
   }
  },
  {
   "cell_type": "code",
   "execution_count": 249,
   "outputs": [],
   "source": [
    "for value in snack:\n",
    "    sheet.loc[sheet.loc[:, \"중분류\"] == value, '대분류'] = '과자'"
   ],
   "metadata": {
    "collapsed": false,
    "pycharm": {
     "name": "#%%\n"
    }
   }
  },
  {
   "cell_type": "code",
   "execution_count": 250,
   "outputs": [],
   "source": [
    "for value in bread:\n",
    "    sheet.loc[sheet.loc[:, \"중분류\"] == value, '대분류'] = '빵'"
   ],
   "metadata": {
    "collapsed": false,
    "pycharm": {
     "name": "#%%\n"
    }
   }
  },
  {
   "cell_type": "code",
   "execution_count": 251,
   "outputs": [],
   "source": [
    "for value in rice_cake:\n",
    "    sheet.loc[sheet.loc[:, \"중분류\"] == value, '대분류'] = '떡, 곡류, 시리얼, 견과류'"
   ],
   "metadata": {
    "collapsed": false,
    "pycharm": {
     "name": "#%%\n"
    }
   }
  },
  {
   "cell_type": "code",
   "execution_count": 252,
   "outputs": [],
   "source": [
    "for value in milk_product:\n",
    "    sheet.loc[sheet.loc[:, \"중분류\"] == value, '대분류'] = '유가공품'"
   ],
   "metadata": {
    "collapsed": false,
    "pycharm": {
     "name": "#%%\n"
    }
   }
  },
  {
   "cell_type": "code",
   "execution_count": 253,
   "outputs": [],
   "source": [
    "for value in ice_cream:\n",
    "    sheet.loc[sheet.loc[:, \"중분류\"] == value, '대분류'] = '아이스크림'"
   ],
   "metadata": {
    "collapsed": false,
    "pycharm": {
     "name": "#%%\n"
    }
   }
  },
  {
   "cell_type": "code",
   "execution_count": 254,
   "outputs": [],
   "source": [
    "for value in chocolate:\n",
    "    sheet.loc[sheet.loc[:, \"중분류\"] == value, '대분류'] = '초콜릿'"
   ],
   "metadata": {
    "collapsed": false,
    "pycharm": {
     "name": "#%%\n"
    }
   }
  },
  {
   "cell_type": "code",
   "execution_count": 255,
   "outputs": [],
   "source": [
    "for value in candy:\n",
    "    sheet.loc[sheet.loc[:, \"중분류\"] == value, '대분류'] = '캔디'"
   ],
   "metadata": {
    "collapsed": false,
    "pycharm": {
     "name": "#%%\n"
    }
   }
  },
  {
   "cell_type": "code",
   "execution_count": 256,
   "outputs": [
    {
     "data": {
      "text/plain": "array(['음료', '유가공품', '과자', '빵', '초콜릿', '캔디', '떡, 곡류, 시리얼, 견과류', '아이스크림'],\n      dtype=object)"
     },
     "execution_count": 256,
     "metadata": {},
     "output_type": "execute_result"
    }
   ],
   "source": [
    "sheet.loc[:, '대분류'].unique()"
   ],
   "metadata": {
    "collapsed": false,
    "pycharm": {
     "name": "#%%\n"
    }
   }
  },
  {
   "cell_type": "code",
   "execution_count": 257,
   "outputs": [
    {
     "name": "stdout",
     "output_type": "stream",
     "text": [
      "<class 'pandas.core.frame.DataFrame'>\n",
      "Int64Index: 44664 entries, 113 to 83681\n",
      "Data columns (total 10 columns):\n",
      " #   Column    Non-Null Count  Dtype \n",
      "---  ------    --------------  ----- \n",
      " 0   No        44664 non-null  object\n",
      " 1   식품명       44664 non-null  object\n",
      " 2   대분류       44664 non-null  object\n",
      " 3   중분류       44664 non-null  object\n",
      " 4   소분류       44664 non-null  object\n",
      " 5   1회 제공량    44664 non-null  object\n",
      " 6   용량        44005 non-null  object\n",
      " 7   총내용량(g)   44664 non-null  object\n",
      " 8   총내용량(ml)  44664 non-null  object\n",
      " 9   총당류(g)    44664 non-null  object\n",
      "dtypes: object(10)\n",
      "memory usage: 3.7+ MB\n"
     ]
    }
   ],
   "source": [
    "sheet.info()"
   ],
   "metadata": {
    "collapsed": false,
    "pycharm": {
     "name": "#%%\n"
    }
   }
  },
  {
   "cell_type": "code",
   "execution_count": 258,
   "outputs": [
    {
     "data": {
      "text/plain": "array(['mL', 'g', nan], dtype=object)"
     },
     "execution_count": 258,
     "metadata": {},
     "output_type": "execute_result"
    }
   ],
   "source": [
    "# 용량 없는거 null 값 채우기\n",
    "sheet['용량'].unique()"
   ],
   "metadata": {
    "collapsed": false,
    "pycharm": {
     "name": "#%%\n"
    }
   }
  },
  {
   "cell_type": "code",
   "execution_count": 259,
   "outputs": [],
   "source": [
    "sheet.loc[(sheet.loc[sheet.loc[:, '용량'].isnull() & sheet.loc[:, '총내용량(g)'].notnull()]).index, '용량'] = 'g'"
   ],
   "metadata": {
    "collapsed": false,
    "pycharm": {
     "name": "#%%\n"
    }
   }
  },
  {
   "cell_type": "code",
   "execution_count": 260,
   "outputs": [],
   "source": [
    "sheet.loc[(sheet.loc[sheet.loc[:, '용량'].isnull() & sheet.loc[:, '총내용량(ml)'].notnull()]).index, '용량'] = 'ml'"
   ],
   "metadata": {
    "collapsed": false,
    "pycharm": {
     "name": "#%%\n"
    }
   }
  },
  {
   "cell_type": "code",
   "execution_count": 261,
   "outputs": [
    {
     "name": "stdout",
     "output_type": "stream",
     "text": [
      "<class 'pandas.core.frame.DataFrame'>\n",
      "Int64Index: 44664 entries, 113 to 83681\n",
      "Data columns (total 10 columns):\n",
      " #   Column    Non-Null Count  Dtype \n",
      "---  ------    --------------  ----- \n",
      " 0   No        44664 non-null  object\n",
      " 1   식품명       44664 non-null  object\n",
      " 2   대분류       44664 non-null  object\n",
      " 3   중분류       44664 non-null  object\n",
      " 4   소분류       44664 non-null  object\n",
      " 5   1회 제공량    44664 non-null  object\n",
      " 6   용량        44664 non-null  object\n",
      " 7   총내용량(g)   44664 non-null  object\n",
      " 8   총내용량(ml)  44664 non-null  object\n",
      " 9   총당류(g)    44664 non-null  object\n",
      "dtypes: object(10)\n",
      "memory usage: 4.8+ MB\n"
     ]
    }
   ],
   "source": [
    "sheet.info()"
   ],
   "metadata": {
    "collapsed": false,
    "pycharm": {
     "name": "#%%\n"
    }
   }
  },
  {
   "cell_type": "code",
   "execution_count": 273,
   "outputs": [],
   "source": [
    "sheet.to_csv('../../정제데이터(final).csv')"
   ],
   "metadata": {
    "collapsed": false,
    "pycharm": {
     "name": "#%%\n"
    }
   }
  },
  {
   "cell_type": "code",
   "execution_count": 82,
   "outputs": [],
   "source": [],
   "metadata": {
    "collapsed": false,
    "pycharm": {
     "name": "#%%\n"
    }
   }
  },
  {
   "cell_type": "code",
   "execution_count": 82,
   "outputs": [],
   "source": [],
   "metadata": {
    "collapsed": false,
    "pycharm": {
     "name": "#%%\n"
    }
   }
  },
  {
   "cell_type": "code",
   "execution_count": 82,
   "outputs": [],
   "source": [],
   "metadata": {
    "collapsed": false,
    "pycharm": {
     "name": "#%%\n"
    }
   }
  },
  {
   "cell_type": "code",
   "execution_count": 82,
   "outputs": [],
   "source": [],
   "metadata": {
    "collapsed": false,
    "pycharm": {
     "name": "#%%\n"
    }
   }
  },
  {
   "cell_type": "code",
   "execution_count": 82,
   "outputs": [],
   "source": [],
   "metadata": {
    "collapsed": false,
    "pycharm": {
     "name": "#%%\n"
    }
   }
  },
  {
   "cell_type": "code",
   "execution_count": 82,
   "outputs": [],
   "source": [],
   "metadata": {
    "collapsed": false,
    "pycharm": {
     "name": "#%%\n"
    }
   }
  },
  {
   "cell_type": "code",
   "execution_count": 82,
   "outputs": [],
   "source": [],
   "metadata": {
    "collapsed": false,
    "pycharm": {
     "name": "#%%\n"
    }
   }
  },
  {
   "cell_type": "code",
   "execution_count": null,
   "outputs": [],
   "source": [],
   "metadata": {
    "collapsed": false,
    "pycharm": {
     "name": "#%%\n"
    }
   }
  }
 ],
 "metadata": {
  "kernelspec": {
   "display_name": "Python 3",
   "language": "python",
   "name": "python3"
  },
  "language_info": {
   "codemirror_mode": {
    "name": "ipython",
    "version": 2
   },
   "file_extension": ".py",
   "mimetype": "text/x-python",
   "name": "python",
   "nbconvert_exporter": "python",
   "pygments_lexer": "ipython2",
   "version": "2.7.6"
  }
 },
 "nbformat": 4,
 "nbformat_minor": 0
}