{
 "cells": [
  {
   "cell_type": "code",
   "execution_count": 72,
   "metadata": {
    "collapsed": true,
    "pycharm": {
     "name": "#%%\n"
    }
   },
   "outputs": [
    {
     "name": "stdout",
     "output_type": "stream",
     "text": [
      "<class 'pandas.core.frame.DataFrame'>\n",
      "RangeIndex: 36457 entries, 0 to 36456\n",
      "Data columns (total 13 columns):\n",
      " #   Column         Non-Null Count  Dtype  \n",
      "---  ------         --------------  -----  \n",
      " 0   No             36457 non-null  int64  \n",
      " 1   식품명            36457 non-null  object \n",
      " 2   대분류            36457 non-null  object \n",
      " 3   중분류            36457 non-null  object \n",
      " 4   소분류            36457 non-null  object \n",
      " 5   1회 제공량         36457 non-null  int64  \n",
      " 6   용량             36457 non-null  object \n",
      " 7   총내용량(g)        36457 non-null  object \n",
      " 8   총내용량(ml)       36457 non-null  object \n",
      " 9   총당류(g)         36457 non-null  float64\n",
      " 10  총내용량           36457 non-null  float64\n",
      " 11  단위용량 대비 설탕 비율  36457 non-null  float64\n",
      " 12  설탕비율의 소분류 평균값  36457 non-null  float64\n",
      "dtypes: float64(4), int64(2), object(7)\n",
      "memory usage: 3.6+ MB\n"
     ]
    }
   ],
   "source": [
    "import pandas as pd\n",
    "import numpy as np\n",
    "\n",
    "import pprint as pp\n",
    "\n",
    "sheet = pd.read_csv(\"/Users/raven/Desktop/programming/아이스크림정제(final).csv\")\n",
    "sheet = sheet.drop('Unnamed: 0', axis=1)\n",
    "\n",
    "\n",
    "def category_count_fn(middle_category):\n",
    "    dict = {}\n",
    "    for value in list(sheet.loc[sheet['중분류'] == middle_category, '소분류'].unique()):\n",
    "        dict[value] = len(sheet.loc[(sheet['중분류'] == middle_category) & (sheet['소분류'] == value), :])\n",
    "    return dict\n",
    "\n",
    "\n",
    "sheet.info()"
   ]
  },
  {
   "cell_type": "code",
   "execution_count": 73,
   "outputs": [
    {
     "data": {
      "text/plain": "array(['우유', '발효유'], dtype=object)"
     },
     "execution_count": 73,
     "metadata": {},
     "output_type": "execute_result"
    }
   ],
   "source": [
    "sheet.loc[sheet['대분류'] == '유가공품', '중분류'].unique()"
   ],
   "metadata": {
    "collapsed": false,
    "pycharm": {
     "name": "#%%\n"
    }
   }
  },
  {
   "cell_type": "code",
   "execution_count": 74,
   "outputs": [
    {
     "data": {
      "text/plain": "          No                      식품명   대분류 중분류      소분류  1회 제공량  용량 총내용량(g)  \\\n117     1506                 남양 아인슈타인  유가공품  우유      가공유     120  mL       -   \n118     1509                       앙팡  유가공품  우유      가공유     100  mL       -   \n119    12687              빙그레 바나나맛 우유  유가공품  우유      가공유     240   g     240   \n120    12688            내추럴플랜 클래식 저지방  유가공품  우유      가공유     200   g     200   \n121    12689                    밀크플러스  유가공품  우유      가공유     200   g     900   \n...      ...                      ...   ...  ..      ...     ...  ..     ...   \n23877  61166               속편한 우유 저지방  유가공품  우유   유당분해우유     100  mL       -   \n23878  67482                소화가 편한 우유  유가공품  우유   유당분해우유     100  mL       -   \n23879  67483         소화흡수가 편한 락토프리 우유  유가공품  우유   유당분해우유     100  mL       -   \n23880  67484  gomgom 편안하게 소화되는 신선한 우유  유가공품  우유   유당분해우유     100  mL       -   \n24106  38324               LB-9 유산균우유  유가공품  우유  유산균첨가우유     180   g     180   \n\n      총내용량(ml)  총당류(g)   총내용량  단위용량 대비 설탕 비율  설탕비율의 소분류 평균값  \n117      120.0     6.0  120.0            5.0            0.0  \n118      100.0     4.5  100.0            4.5            0.0  \n119          -    27.0  240.0           11.2            0.0  \n120          -    10.0  200.0            5.0            0.0  \n121          -    10.0  900.0            5.0            0.0  \n...        ...     ...    ...            ...            ...  \n23877      900     4.5  900.0            4.5            0.0  \n23878      900     4.6  900.0            4.6            0.0  \n23879      900     4.6  900.0            4.6            0.0  \n23880      900     4.6  900.0            4.6            0.0  \n24106        -     9.0  180.0            5.0            0.0  \n\n[1023 rows x 13 columns]",
      "text/html": "<div>\n<style scoped>\n    .dataframe tbody tr th:only-of-type {\n        vertical-align: middle;\n    }\n\n    .dataframe tbody tr th {\n        vertical-align: top;\n    }\n\n    .dataframe thead th {\n        text-align: right;\n    }\n</style>\n<table border=\"1\" class=\"dataframe\">\n  <thead>\n    <tr style=\"text-align: right;\">\n      <th></th>\n      <th>No</th>\n      <th>식품명</th>\n      <th>대분류</th>\n      <th>중분류</th>\n      <th>소분류</th>\n      <th>1회 제공량</th>\n      <th>용량</th>\n      <th>총내용량(g)</th>\n      <th>총내용량(ml)</th>\n      <th>총당류(g)</th>\n      <th>총내용량</th>\n      <th>단위용량 대비 설탕 비율</th>\n      <th>설탕비율의 소분류 평균값</th>\n    </tr>\n  </thead>\n  <tbody>\n    <tr>\n      <th>117</th>\n      <td>1506</td>\n      <td>남양 아인슈타인</td>\n      <td>유가공품</td>\n      <td>우유</td>\n      <td>가공유</td>\n      <td>120</td>\n      <td>mL</td>\n      <td>-</td>\n      <td>120.0</td>\n      <td>6.0</td>\n      <td>120.0</td>\n      <td>5.0</td>\n      <td>0.0</td>\n    </tr>\n    <tr>\n      <th>118</th>\n      <td>1509</td>\n      <td>앙팡</td>\n      <td>유가공품</td>\n      <td>우유</td>\n      <td>가공유</td>\n      <td>100</td>\n      <td>mL</td>\n      <td>-</td>\n      <td>100.0</td>\n      <td>4.5</td>\n      <td>100.0</td>\n      <td>4.5</td>\n      <td>0.0</td>\n    </tr>\n    <tr>\n      <th>119</th>\n      <td>12687</td>\n      <td>빙그레 바나나맛 우유</td>\n      <td>유가공품</td>\n      <td>우유</td>\n      <td>가공유</td>\n      <td>240</td>\n      <td>g</td>\n      <td>240</td>\n      <td>-</td>\n      <td>27.0</td>\n      <td>240.0</td>\n      <td>11.2</td>\n      <td>0.0</td>\n    </tr>\n    <tr>\n      <th>120</th>\n      <td>12688</td>\n      <td>내추럴플랜 클래식 저지방</td>\n      <td>유가공품</td>\n      <td>우유</td>\n      <td>가공유</td>\n      <td>200</td>\n      <td>g</td>\n      <td>200</td>\n      <td>-</td>\n      <td>10.0</td>\n      <td>200.0</td>\n      <td>5.0</td>\n      <td>0.0</td>\n    </tr>\n    <tr>\n      <th>121</th>\n      <td>12689</td>\n      <td>밀크플러스</td>\n      <td>유가공품</td>\n      <td>우유</td>\n      <td>가공유</td>\n      <td>200</td>\n      <td>g</td>\n      <td>900</td>\n      <td>-</td>\n      <td>10.0</td>\n      <td>900.0</td>\n      <td>5.0</td>\n      <td>0.0</td>\n    </tr>\n    <tr>\n      <th>...</th>\n      <td>...</td>\n      <td>...</td>\n      <td>...</td>\n      <td>...</td>\n      <td>...</td>\n      <td>...</td>\n      <td>...</td>\n      <td>...</td>\n      <td>...</td>\n      <td>...</td>\n      <td>...</td>\n      <td>...</td>\n      <td>...</td>\n    </tr>\n    <tr>\n      <th>23877</th>\n      <td>61166</td>\n      <td>속편한 우유 저지방</td>\n      <td>유가공품</td>\n      <td>우유</td>\n      <td>유당분해우유</td>\n      <td>100</td>\n      <td>mL</td>\n      <td>-</td>\n      <td>900</td>\n      <td>4.5</td>\n      <td>900.0</td>\n      <td>4.5</td>\n      <td>0.0</td>\n    </tr>\n    <tr>\n      <th>23878</th>\n      <td>67482</td>\n      <td>소화가 편한 우유</td>\n      <td>유가공품</td>\n      <td>우유</td>\n      <td>유당분해우유</td>\n      <td>100</td>\n      <td>mL</td>\n      <td>-</td>\n      <td>900</td>\n      <td>4.6</td>\n      <td>900.0</td>\n      <td>4.6</td>\n      <td>0.0</td>\n    </tr>\n    <tr>\n      <th>23879</th>\n      <td>67483</td>\n      <td>소화흡수가 편한 락토프리 우유</td>\n      <td>유가공품</td>\n      <td>우유</td>\n      <td>유당분해우유</td>\n      <td>100</td>\n      <td>mL</td>\n      <td>-</td>\n      <td>900</td>\n      <td>4.6</td>\n      <td>900.0</td>\n      <td>4.6</td>\n      <td>0.0</td>\n    </tr>\n    <tr>\n      <th>23880</th>\n      <td>67484</td>\n      <td>gomgom 편안하게 소화되는 신선한 우유</td>\n      <td>유가공품</td>\n      <td>우유</td>\n      <td>유당분해우유</td>\n      <td>100</td>\n      <td>mL</td>\n      <td>-</td>\n      <td>900</td>\n      <td>4.6</td>\n      <td>900.0</td>\n      <td>4.6</td>\n      <td>0.0</td>\n    </tr>\n    <tr>\n      <th>24106</th>\n      <td>38324</td>\n      <td>LB-9 유산균우유</td>\n      <td>유가공품</td>\n      <td>우유</td>\n      <td>유산균첨가우유</td>\n      <td>180</td>\n      <td>g</td>\n      <td>180</td>\n      <td>-</td>\n      <td>9.0</td>\n      <td>180.0</td>\n      <td>5.0</td>\n      <td>0.0</td>\n    </tr>\n  </tbody>\n</table>\n<p>1023 rows × 13 columns</p>\n</div>"
     },
     "execution_count": 74,
     "metadata": {},
     "output_type": "execute_result"
    }
   ],
   "source": [
    "sheet.loc[sheet['중분류'] == '우유', :]"
   ],
   "metadata": {
    "collapsed": false,
    "pycharm": {
     "name": "#%%\n"
    }
   }
  },
  {
   "cell_type": "code",
   "execution_count": 75,
   "outputs": [],
   "source": [
    "sheet.loc[24112, '중분류'] = '발효유'\n",
    "sheet.loc[11619, '중분류'] = '발효유'\n",
    "sheet.loc[11786, '중분류'] = '발효유'\n",
    "sheet.loc[12024, '중분류'] = '발효유'"
   ],
   "metadata": {
    "collapsed": false,
    "pycharm": {
     "name": "#%%\n"
    }
   }
  },
  {
   "cell_type": "code",
   "execution_count": 76,
   "outputs": [
    {
     "data": {
      "text/plain": "          No                      식품명   대분류 중분류      소분류  1회 제공량  용량 총내용량(g)  \\\n117     1506                 남양 아인슈타인  유가공품  우유      가공유     120  mL       -   \n118     1509                       앙팡  유가공품  우유      가공유     100  mL       -   \n119    12687              빙그레 바나나맛 우유  유가공품  우유      가공유     240   g     240   \n120    12688            내추럴플랜 클래식 저지방  유가공품  우유      가공유     200   g     200   \n121    12689                    밀크플러스  유가공품  우유      가공유     200   g     900   \n...      ...                      ...   ...  ..      ...     ...  ..     ...   \n23877  61166               속편한 우유 저지방  유가공품  우유   유당분해우유     100  mL       -   \n23878  67482                소화가 편한 우유  유가공품  우유   유당분해우유     100  mL       -   \n23879  67483         소화흡수가 편한 락토프리 우유  유가공품  우유   유당분해우유     100  mL       -   \n23880  67484  gomgom 편안하게 소화되는 신선한 우유  유가공품  우유   유당분해우유     100  mL       -   \n24106  38324               LB-9 유산균우유  유가공품  우유  유산균첨가우유     180   g     180   \n\n      총내용량(ml)  총당류(g)   총내용량  단위용량 대비 설탕 비율  설탕비율의 소분류 평균값  \n117      120.0     6.0  120.0            5.0            0.0  \n118      100.0     4.5  100.0            4.5            0.0  \n119          -    27.0  240.0           11.2            0.0  \n120          -    10.0  200.0            5.0            0.0  \n121          -    10.0  900.0            5.0            0.0  \n...        ...     ...    ...            ...            ...  \n23877      900     4.5  900.0            4.5            0.0  \n23878      900     4.6  900.0            4.6            0.0  \n23879      900     4.6  900.0            4.6            0.0  \n23880      900     4.6  900.0            4.6            0.0  \n24106        -     9.0  180.0            5.0            0.0  \n\n[1023 rows x 13 columns]",
      "text/html": "<div>\n<style scoped>\n    .dataframe tbody tr th:only-of-type {\n        vertical-align: middle;\n    }\n\n    .dataframe tbody tr th {\n        vertical-align: top;\n    }\n\n    .dataframe thead th {\n        text-align: right;\n    }\n</style>\n<table border=\"1\" class=\"dataframe\">\n  <thead>\n    <tr style=\"text-align: right;\">\n      <th></th>\n      <th>No</th>\n      <th>식품명</th>\n      <th>대분류</th>\n      <th>중분류</th>\n      <th>소분류</th>\n      <th>1회 제공량</th>\n      <th>용량</th>\n      <th>총내용량(g)</th>\n      <th>총내용량(ml)</th>\n      <th>총당류(g)</th>\n      <th>총내용량</th>\n      <th>단위용량 대비 설탕 비율</th>\n      <th>설탕비율의 소분류 평균값</th>\n    </tr>\n  </thead>\n  <tbody>\n    <tr>\n      <th>117</th>\n      <td>1506</td>\n      <td>남양 아인슈타인</td>\n      <td>유가공품</td>\n      <td>우유</td>\n      <td>가공유</td>\n      <td>120</td>\n      <td>mL</td>\n      <td>-</td>\n      <td>120.0</td>\n      <td>6.0</td>\n      <td>120.0</td>\n      <td>5.0</td>\n      <td>0.0</td>\n    </tr>\n    <tr>\n      <th>118</th>\n      <td>1509</td>\n      <td>앙팡</td>\n      <td>유가공품</td>\n      <td>우유</td>\n      <td>가공유</td>\n      <td>100</td>\n      <td>mL</td>\n      <td>-</td>\n      <td>100.0</td>\n      <td>4.5</td>\n      <td>100.0</td>\n      <td>4.5</td>\n      <td>0.0</td>\n    </tr>\n    <tr>\n      <th>119</th>\n      <td>12687</td>\n      <td>빙그레 바나나맛 우유</td>\n      <td>유가공품</td>\n      <td>우유</td>\n      <td>가공유</td>\n      <td>240</td>\n      <td>g</td>\n      <td>240</td>\n      <td>-</td>\n      <td>27.0</td>\n      <td>240.0</td>\n      <td>11.2</td>\n      <td>0.0</td>\n    </tr>\n    <tr>\n      <th>120</th>\n      <td>12688</td>\n      <td>내추럴플랜 클래식 저지방</td>\n      <td>유가공품</td>\n      <td>우유</td>\n      <td>가공유</td>\n      <td>200</td>\n      <td>g</td>\n      <td>200</td>\n      <td>-</td>\n      <td>10.0</td>\n      <td>200.0</td>\n      <td>5.0</td>\n      <td>0.0</td>\n    </tr>\n    <tr>\n      <th>121</th>\n      <td>12689</td>\n      <td>밀크플러스</td>\n      <td>유가공품</td>\n      <td>우유</td>\n      <td>가공유</td>\n      <td>200</td>\n      <td>g</td>\n      <td>900</td>\n      <td>-</td>\n      <td>10.0</td>\n      <td>900.0</td>\n      <td>5.0</td>\n      <td>0.0</td>\n    </tr>\n    <tr>\n      <th>...</th>\n      <td>...</td>\n      <td>...</td>\n      <td>...</td>\n      <td>...</td>\n      <td>...</td>\n      <td>...</td>\n      <td>...</td>\n      <td>...</td>\n      <td>...</td>\n      <td>...</td>\n      <td>...</td>\n      <td>...</td>\n      <td>...</td>\n    </tr>\n    <tr>\n      <th>23877</th>\n      <td>61166</td>\n      <td>속편한 우유 저지방</td>\n      <td>유가공품</td>\n      <td>우유</td>\n      <td>유당분해우유</td>\n      <td>100</td>\n      <td>mL</td>\n      <td>-</td>\n      <td>900</td>\n      <td>4.5</td>\n      <td>900.0</td>\n      <td>4.5</td>\n      <td>0.0</td>\n    </tr>\n    <tr>\n      <th>23878</th>\n      <td>67482</td>\n      <td>소화가 편한 우유</td>\n      <td>유가공품</td>\n      <td>우유</td>\n      <td>유당분해우유</td>\n      <td>100</td>\n      <td>mL</td>\n      <td>-</td>\n      <td>900</td>\n      <td>4.6</td>\n      <td>900.0</td>\n      <td>4.6</td>\n      <td>0.0</td>\n    </tr>\n    <tr>\n      <th>23879</th>\n      <td>67483</td>\n      <td>소화흡수가 편한 락토프리 우유</td>\n      <td>유가공품</td>\n      <td>우유</td>\n      <td>유당분해우유</td>\n      <td>100</td>\n      <td>mL</td>\n      <td>-</td>\n      <td>900</td>\n      <td>4.6</td>\n      <td>900.0</td>\n      <td>4.6</td>\n      <td>0.0</td>\n    </tr>\n    <tr>\n      <th>23880</th>\n      <td>67484</td>\n      <td>gomgom 편안하게 소화되는 신선한 우유</td>\n      <td>유가공품</td>\n      <td>우유</td>\n      <td>유당분해우유</td>\n      <td>100</td>\n      <td>mL</td>\n      <td>-</td>\n      <td>900</td>\n      <td>4.6</td>\n      <td>900.0</td>\n      <td>4.6</td>\n      <td>0.0</td>\n    </tr>\n    <tr>\n      <th>24106</th>\n      <td>38324</td>\n      <td>LB-9 유산균우유</td>\n      <td>유가공품</td>\n      <td>우유</td>\n      <td>유산균첨가우유</td>\n      <td>180</td>\n      <td>g</td>\n      <td>180</td>\n      <td>-</td>\n      <td>9.0</td>\n      <td>180.0</td>\n      <td>5.0</td>\n      <td>0.0</td>\n    </tr>\n  </tbody>\n</table>\n<p>1023 rows × 13 columns</p>\n</div>"
     },
     "execution_count": 76,
     "metadata": {},
     "output_type": "execute_result"
    }
   ],
   "source": [
    "sheet.loc[sheet['중분류'] == '우유', :]"
   ],
   "metadata": {
    "collapsed": false,
    "pycharm": {
     "name": "#%%\n"
    }
   }
  },
  {
   "cell_type": "code",
   "execution_count": 77,
   "outputs": [],
   "source": [
    "# sheet.loc[(sheet['중분류'] == '우유') & (sheet['대분류'] == '유가공품'), '소분류'] = ''\n",
    "\n",
    "저지방 = ['저지방', '무지방']\n",
    "유기농 = ['유기농']\n",
    "과일 = ['바나나', '딸기', '멜론', '오디', '수박', '사과']\n",
    "초코 = ['초코', '초콜릿', '코코아', '쵸코', '초콜렛']\n",
    "커피 = ['커피', '카페라떼']\n",
    "곡류 = ['오곡', '검은콩', '보리', '오트밀', '미숫가루', '곡물', '귀리', '흑임자', '참깨']\n",
    "홍삼 = ['홍삼']\n",
    "단호박 = ['단호박']\n",
    "견과류 = ['아몬드', '달밤', '밤']\n",
    "달고나 = ['달고나']\n",
    "녹차 = ['녹차', '말차']\n",
    "\n",
    "for value in 저지방:\n",
    "    sheet.loc[(sheet['중분류'] == '우유') & (sheet['식품명'].str.contains(value)), '소분류'] = '저지방'\n",
    "for value in 유기농:\n",
    "    sheet.loc[(sheet['중분류'] == '우유') & (sheet['식품명'].str.contains(value)), '소분류'] = '유기농'\n",
    "for value in 과일:\n",
    "    sheet.loc[(sheet['중분류'] == '우유') & (sheet['식품명'].str.contains(value)), '소분류'] = '과일'\n",
    "for value in 초코:\n",
    "    sheet.loc[(sheet['중분류'] == '우유') & (sheet['식품명'].str.contains(value)), '소분류'] = '초코'\n",
    "for value in 커피:\n",
    "    sheet.loc[(sheet['중분류'] == '우유') & (sheet['식품명'].str.contains(value)), '소분류'] = '커피'\n",
    "for value in 곡류:\n",
    "    sheet.loc[(sheet['중분류'] == '우유') & (sheet['식품명'].str.contains(value)), '소분류'] = '곡류'\n",
    "for value in 홍삼:\n",
    "    sheet.loc[(sheet['중분류'] == '우유') & (sheet['식품명'].str.contains(value)), '소분류'] = '홍삼'\n",
    "for value in 단호박:\n",
    "    sheet.loc[(sheet['중분류'] == '우유') & (sheet['식품명'].str.contains(value)), '소분류'] = '단호박'\n",
    "for value in 견과류:\n",
    "    sheet.loc[(sheet['중분류'] == '우유') & (sheet['식품명'].str.contains(value)), '소분류'] = '견과류'\n",
    "for value in 달고나:\n",
    "    sheet.loc[(sheet['중분류'] == '우유') & (sheet['식품명'].str.contains(value)), '소분류'] = '달고나'\n",
    "for value in 녹차:\n",
    "    sheet.loc[(sheet['중분류'] == '우유') & (sheet['식품명'].str.contains(value)), '소분류'] = '녹차'\n",
    "\n",
    "sheet.loc[(sheet['중분류'] == '우유') & (sheet['소분류'] == '가공유'), '소분류'] = '기타우유'\n",
    "sheet.loc[(sheet['중분류'] == '우유') & (sheet['소분류'] == '우유'), '소분류'] = '일반우유'"
   ],
   "metadata": {
    "collapsed": false,
    "pycharm": {
     "name": "#%%\n"
    }
   }
  },
  {
   "cell_type": "code",
   "execution_count": 78,
   "outputs": [
    {
     "data": {
      "text/plain": "          No                      식품명   대분류 중분류      소분류  1회 제공량  용량 총내용량(g)  \\\n117     1506                 남양 아인슈타인  유가공품  우유     기타우유     120  mL       -   \n118     1509                       앙팡  유가공품  우유     기타우유     100  mL       -   \n119    12687              빙그레 바나나맛 우유  유가공품  우유       과일     240   g     240   \n120    12688            내추럴플랜 클래식 저지방  유가공품  우유      저지방     200   g     200   \n121    12689                    밀크플러스  유가공품  우유     기타우유     200   g     900   \n...      ...                      ...   ...  ..      ...     ...  ..     ...   \n23877  61166               속편한 우유 저지방  유가공품  우유      저지방     100  mL       -   \n23878  67482                소화가 편한 우유  유가공품  우유   유당분해우유     100  mL       -   \n23879  67483         소화흡수가 편한 락토프리 우유  유가공품  우유   유당분해우유     100  mL       -   \n23880  67484  gomgom 편안하게 소화되는 신선한 우유  유가공품  우유   유당분해우유     100  mL       -   \n24106  38324               LB-9 유산균우유  유가공품  우유  유산균첨가우유     180   g     180   \n\n      총내용량(ml)  총당류(g)   총내용량  단위용량 대비 설탕 비율  설탕비율의 소분류 평균값  \n117      120.0     6.0  120.0            5.0            0.0  \n118      100.0     4.5  100.0            4.5            0.0  \n119          -    27.0  240.0           11.2            0.0  \n120          -    10.0  200.0            5.0            0.0  \n121          -    10.0  900.0            5.0            0.0  \n...        ...     ...    ...            ...            ...  \n23877      900     4.5  900.0            4.5            0.0  \n23878      900     4.6  900.0            4.6            0.0  \n23879      900     4.6  900.0            4.6            0.0  \n23880      900     4.6  900.0            4.6            0.0  \n24106        -     9.0  180.0            5.0            0.0  \n\n[1023 rows x 13 columns]",
      "text/html": "<div>\n<style scoped>\n    .dataframe tbody tr th:only-of-type {\n        vertical-align: middle;\n    }\n\n    .dataframe tbody tr th {\n        vertical-align: top;\n    }\n\n    .dataframe thead th {\n        text-align: right;\n    }\n</style>\n<table border=\"1\" class=\"dataframe\">\n  <thead>\n    <tr style=\"text-align: right;\">\n      <th></th>\n      <th>No</th>\n      <th>식품명</th>\n      <th>대분류</th>\n      <th>중분류</th>\n      <th>소분류</th>\n      <th>1회 제공량</th>\n      <th>용량</th>\n      <th>총내용량(g)</th>\n      <th>총내용량(ml)</th>\n      <th>총당류(g)</th>\n      <th>총내용량</th>\n      <th>단위용량 대비 설탕 비율</th>\n      <th>설탕비율의 소분류 평균값</th>\n    </tr>\n  </thead>\n  <tbody>\n    <tr>\n      <th>117</th>\n      <td>1506</td>\n      <td>남양 아인슈타인</td>\n      <td>유가공품</td>\n      <td>우유</td>\n      <td>기타우유</td>\n      <td>120</td>\n      <td>mL</td>\n      <td>-</td>\n      <td>120.0</td>\n      <td>6.0</td>\n      <td>120.0</td>\n      <td>5.0</td>\n      <td>0.0</td>\n    </tr>\n    <tr>\n      <th>118</th>\n      <td>1509</td>\n      <td>앙팡</td>\n      <td>유가공품</td>\n      <td>우유</td>\n      <td>기타우유</td>\n      <td>100</td>\n      <td>mL</td>\n      <td>-</td>\n      <td>100.0</td>\n      <td>4.5</td>\n      <td>100.0</td>\n      <td>4.5</td>\n      <td>0.0</td>\n    </tr>\n    <tr>\n      <th>119</th>\n      <td>12687</td>\n      <td>빙그레 바나나맛 우유</td>\n      <td>유가공품</td>\n      <td>우유</td>\n      <td>과일</td>\n      <td>240</td>\n      <td>g</td>\n      <td>240</td>\n      <td>-</td>\n      <td>27.0</td>\n      <td>240.0</td>\n      <td>11.2</td>\n      <td>0.0</td>\n    </tr>\n    <tr>\n      <th>120</th>\n      <td>12688</td>\n      <td>내추럴플랜 클래식 저지방</td>\n      <td>유가공품</td>\n      <td>우유</td>\n      <td>저지방</td>\n      <td>200</td>\n      <td>g</td>\n      <td>200</td>\n      <td>-</td>\n      <td>10.0</td>\n      <td>200.0</td>\n      <td>5.0</td>\n      <td>0.0</td>\n    </tr>\n    <tr>\n      <th>121</th>\n      <td>12689</td>\n      <td>밀크플러스</td>\n      <td>유가공품</td>\n      <td>우유</td>\n      <td>기타우유</td>\n      <td>200</td>\n      <td>g</td>\n      <td>900</td>\n      <td>-</td>\n      <td>10.0</td>\n      <td>900.0</td>\n      <td>5.0</td>\n      <td>0.0</td>\n    </tr>\n    <tr>\n      <th>...</th>\n      <td>...</td>\n      <td>...</td>\n      <td>...</td>\n      <td>...</td>\n      <td>...</td>\n      <td>...</td>\n      <td>...</td>\n      <td>...</td>\n      <td>...</td>\n      <td>...</td>\n      <td>...</td>\n      <td>...</td>\n      <td>...</td>\n    </tr>\n    <tr>\n      <th>23877</th>\n      <td>61166</td>\n      <td>속편한 우유 저지방</td>\n      <td>유가공품</td>\n      <td>우유</td>\n      <td>저지방</td>\n      <td>100</td>\n      <td>mL</td>\n      <td>-</td>\n      <td>900</td>\n      <td>4.5</td>\n      <td>900.0</td>\n      <td>4.5</td>\n      <td>0.0</td>\n    </tr>\n    <tr>\n      <th>23878</th>\n      <td>67482</td>\n      <td>소화가 편한 우유</td>\n      <td>유가공품</td>\n      <td>우유</td>\n      <td>유당분해우유</td>\n      <td>100</td>\n      <td>mL</td>\n      <td>-</td>\n      <td>900</td>\n      <td>4.6</td>\n      <td>900.0</td>\n      <td>4.6</td>\n      <td>0.0</td>\n    </tr>\n    <tr>\n      <th>23879</th>\n      <td>67483</td>\n      <td>소화흡수가 편한 락토프리 우유</td>\n      <td>유가공품</td>\n      <td>우유</td>\n      <td>유당분해우유</td>\n      <td>100</td>\n      <td>mL</td>\n      <td>-</td>\n      <td>900</td>\n      <td>4.6</td>\n      <td>900.0</td>\n      <td>4.6</td>\n      <td>0.0</td>\n    </tr>\n    <tr>\n      <th>23880</th>\n      <td>67484</td>\n      <td>gomgom 편안하게 소화되는 신선한 우유</td>\n      <td>유가공품</td>\n      <td>우유</td>\n      <td>유당분해우유</td>\n      <td>100</td>\n      <td>mL</td>\n      <td>-</td>\n      <td>900</td>\n      <td>4.6</td>\n      <td>900.0</td>\n      <td>4.6</td>\n      <td>0.0</td>\n    </tr>\n    <tr>\n      <th>24106</th>\n      <td>38324</td>\n      <td>LB-9 유산균우유</td>\n      <td>유가공품</td>\n      <td>우유</td>\n      <td>유산균첨가우유</td>\n      <td>180</td>\n      <td>g</td>\n      <td>180</td>\n      <td>-</td>\n      <td>9.0</td>\n      <td>180.0</td>\n      <td>5.0</td>\n      <td>0.0</td>\n    </tr>\n  </tbody>\n</table>\n<p>1023 rows × 13 columns</p>\n</div>"
     },
     "execution_count": 78,
     "metadata": {},
     "output_type": "execute_result"
    }
   ],
   "source": [
    "sheet.loc[sheet['중분류'] == '우유', :]"
   ],
   "metadata": {
    "collapsed": false,
    "pycharm": {
     "name": "#%%\n"
    }
   }
  },
  {
   "cell_type": "code",
   "execution_count": 79,
   "outputs": [
    {
     "name": "stdout",
     "output_type": "stream",
     "text": [
      "{'강화우유': 26,\n",
      " '견과류': 8,\n",
      " '곡류': 50,\n",
      " '과일': 233,\n",
      " '기타우유': 163,\n",
      " '녹차': 7,\n",
      " '단호박': 3,\n",
      " '달고나': 9,\n",
      " '유기농': 26,\n",
      " '유당분해우유': 13,\n",
      " '유산균첨가우유': 1,\n",
      " '일반우유': 192,\n",
      " '저지방': 131,\n",
      " '초코': 137,\n",
      " '커피': 18,\n",
      " '홍삼': 6}\n"
     ]
    }
   ],
   "source": [
    "pp.pprint(category_count_fn('우유'))"
   ],
   "metadata": {
    "collapsed": false,
    "pycharm": {
     "name": "#%%\n"
    }
   }
  },
  {
   "cell_type": "code",
   "execution_count": 80,
   "outputs": [
    {
     "data": {
      "text/plain": "          No                         식품명   대분류  중분류      소분류  1회 제공량  용량  \\\n239    12837      파스퇴르 바른목장 프리바이오틱스우유(팩)  유가공품  발효유      가공유     125   g   \n421    38097   gomgom(곰곰) 프리바이오틱스 건강한 우유  유가공품  발효유      가공유     125   g   \n474    38362                 래핑카우 우유 플레인  유가공품  발효유      가공유     140   g   \n493    38424  파스퇴르 바른목장 프리바이오틱스 딸기우유 (팩)  유가공품  발효유      가공유     125   g   \n519    38499      파스퇴르 바른목장 프리바이오틱스우유(팩)  유가공품  발효유      가공유     125   g   \n...      ...                         ...   ...  ...      ...     ...  ..   \n24107  59163              파스퇴르 프로바이오틱 우유  유가공품  발효유  유산균첨가우유     125   g   \n24112  14504                    정관장 홍삼활력    음료  발효유      기성품      40  mL   \n32886  12920                     생크림 요거트  유가공품  발효유    크림발효유      85   g   \n32887  17842                     생크림 요거트  유가공품  발효유    크림발효유      85   g   \n32888  38170                     생크림 요거트  유가공품  발효유    크림발효유      85   g   \n\n      총내용량(g) 총내용량(ml)  총당류(g)    총내용량  단위용량 대비 설탕 비율  설탕비율의 소분류 평균값  \n239       125        -     8.0   125.0            6.4            0.0  \n421      3000        -     8.0  3000.0            6.4            0.0  \n474       140        -    14.0   140.0           10.0            0.0  \n493       125        -    13.0   125.0           10.4            0.0  \n519       125        -     8.0   125.0            6.4            0.0  \n...       ...      ...     ...     ...            ...            ...  \n24107     125        -     8.0   125.0            6.4            0.0  \n24112       -       40     4.0    40.0           10.0            0.0  \n32886      85        -     9.0    85.0           10.6            0.0  \n32887      85        -    10.0    85.0           11.8            0.0  \n32888    1360        -    10.0  1360.0           11.8            0.0  \n\n[1284 rows x 13 columns]",
      "text/html": "<div>\n<style scoped>\n    .dataframe tbody tr th:only-of-type {\n        vertical-align: middle;\n    }\n\n    .dataframe tbody tr th {\n        vertical-align: top;\n    }\n\n    .dataframe thead th {\n        text-align: right;\n    }\n</style>\n<table border=\"1\" class=\"dataframe\">\n  <thead>\n    <tr style=\"text-align: right;\">\n      <th></th>\n      <th>No</th>\n      <th>식품명</th>\n      <th>대분류</th>\n      <th>중분류</th>\n      <th>소분류</th>\n      <th>1회 제공량</th>\n      <th>용량</th>\n      <th>총내용량(g)</th>\n      <th>총내용량(ml)</th>\n      <th>총당류(g)</th>\n      <th>총내용량</th>\n      <th>단위용량 대비 설탕 비율</th>\n      <th>설탕비율의 소분류 평균값</th>\n    </tr>\n  </thead>\n  <tbody>\n    <tr>\n      <th>239</th>\n      <td>12837</td>\n      <td>파스퇴르 바른목장 프리바이오틱스우유(팩)</td>\n      <td>유가공품</td>\n      <td>발효유</td>\n      <td>가공유</td>\n      <td>125</td>\n      <td>g</td>\n      <td>125</td>\n      <td>-</td>\n      <td>8.0</td>\n      <td>125.0</td>\n      <td>6.4</td>\n      <td>0.0</td>\n    </tr>\n    <tr>\n      <th>421</th>\n      <td>38097</td>\n      <td>gomgom(곰곰) 프리바이오틱스 건강한 우유</td>\n      <td>유가공품</td>\n      <td>발효유</td>\n      <td>가공유</td>\n      <td>125</td>\n      <td>g</td>\n      <td>3000</td>\n      <td>-</td>\n      <td>8.0</td>\n      <td>3000.0</td>\n      <td>6.4</td>\n      <td>0.0</td>\n    </tr>\n    <tr>\n      <th>474</th>\n      <td>38362</td>\n      <td>래핑카우 우유 플레인</td>\n      <td>유가공품</td>\n      <td>발효유</td>\n      <td>가공유</td>\n      <td>140</td>\n      <td>g</td>\n      <td>140</td>\n      <td>-</td>\n      <td>14.0</td>\n      <td>140.0</td>\n      <td>10.0</td>\n      <td>0.0</td>\n    </tr>\n    <tr>\n      <th>493</th>\n      <td>38424</td>\n      <td>파스퇴르 바른목장 프리바이오틱스 딸기우유 (팩)</td>\n      <td>유가공품</td>\n      <td>발효유</td>\n      <td>가공유</td>\n      <td>125</td>\n      <td>g</td>\n      <td>125</td>\n      <td>-</td>\n      <td>13.0</td>\n      <td>125.0</td>\n      <td>10.4</td>\n      <td>0.0</td>\n    </tr>\n    <tr>\n      <th>519</th>\n      <td>38499</td>\n      <td>파스퇴르 바른목장 프리바이오틱스우유(팩)</td>\n      <td>유가공품</td>\n      <td>발효유</td>\n      <td>가공유</td>\n      <td>125</td>\n      <td>g</td>\n      <td>125</td>\n      <td>-</td>\n      <td>8.0</td>\n      <td>125.0</td>\n      <td>6.4</td>\n      <td>0.0</td>\n    </tr>\n    <tr>\n      <th>...</th>\n      <td>...</td>\n      <td>...</td>\n      <td>...</td>\n      <td>...</td>\n      <td>...</td>\n      <td>...</td>\n      <td>...</td>\n      <td>...</td>\n      <td>...</td>\n      <td>...</td>\n      <td>...</td>\n      <td>...</td>\n      <td>...</td>\n    </tr>\n    <tr>\n      <th>24107</th>\n      <td>59163</td>\n      <td>파스퇴르 프로바이오틱 우유</td>\n      <td>유가공품</td>\n      <td>발효유</td>\n      <td>유산균첨가우유</td>\n      <td>125</td>\n      <td>g</td>\n      <td>125</td>\n      <td>-</td>\n      <td>8.0</td>\n      <td>125.0</td>\n      <td>6.4</td>\n      <td>0.0</td>\n    </tr>\n    <tr>\n      <th>24112</th>\n      <td>14504</td>\n      <td>정관장 홍삼활력</td>\n      <td>음료</td>\n      <td>발효유</td>\n      <td>기성품</td>\n      <td>40</td>\n      <td>mL</td>\n      <td>-</td>\n      <td>40</td>\n      <td>4.0</td>\n      <td>40.0</td>\n      <td>10.0</td>\n      <td>0.0</td>\n    </tr>\n    <tr>\n      <th>32886</th>\n      <td>12920</td>\n      <td>생크림 요거트</td>\n      <td>유가공품</td>\n      <td>발효유</td>\n      <td>크림발효유</td>\n      <td>85</td>\n      <td>g</td>\n      <td>85</td>\n      <td>-</td>\n      <td>9.0</td>\n      <td>85.0</td>\n      <td>10.6</td>\n      <td>0.0</td>\n    </tr>\n    <tr>\n      <th>32887</th>\n      <td>17842</td>\n      <td>생크림 요거트</td>\n      <td>유가공품</td>\n      <td>발효유</td>\n      <td>크림발효유</td>\n      <td>85</td>\n      <td>g</td>\n      <td>85</td>\n      <td>-</td>\n      <td>10.0</td>\n      <td>85.0</td>\n      <td>11.8</td>\n      <td>0.0</td>\n    </tr>\n    <tr>\n      <th>32888</th>\n      <td>38170</td>\n      <td>생크림 요거트</td>\n      <td>유가공품</td>\n      <td>발효유</td>\n      <td>크림발효유</td>\n      <td>85</td>\n      <td>g</td>\n      <td>1360</td>\n      <td>-</td>\n      <td>10.0</td>\n      <td>1360.0</td>\n      <td>11.8</td>\n      <td>0.0</td>\n    </tr>\n  </tbody>\n</table>\n<p>1284 rows × 13 columns</p>\n</div>"
     },
     "execution_count": 80,
     "metadata": {},
     "output_type": "execute_result"
    }
   ],
   "source": [
    "sheet.loc[sheet['중분류'] == '발효유', :]"
   ],
   "metadata": {
    "collapsed": false,
    "pycharm": {
     "name": "#%%\n"
    }
   }
  },
  {
   "cell_type": "code",
   "execution_count": 81,
   "outputs": [],
   "source": [
    "delete = [640, 474]\n",
    "for value in delete:\n",
    "    sheet = sheet.drop(value, axis=0)"
   ],
   "metadata": {
    "collapsed": false,
    "pycharm": {
     "name": "#%%\n"
    }
   }
  },
  {
   "cell_type": "code",
   "execution_count": 82,
   "outputs": [
    {
     "data": {
      "text/plain": "Empty DataFrame\nColumns: [No, 식품명, 대분류, 중분류, 소분류, 1회 제공량, 용량, 총내용량(g), 총내용량(ml), 총당류(g), 총내용량, 단위용량 대비 설탕 비율, 설탕비율의 소분류 평균값]\nIndex: []",
      "text/html": "<div>\n<style scoped>\n    .dataframe tbody tr th:only-of-type {\n        vertical-align: middle;\n    }\n\n    .dataframe tbody tr th {\n        vertical-align: top;\n    }\n\n    .dataframe thead th {\n        text-align: right;\n    }\n</style>\n<table border=\"1\" class=\"dataframe\">\n  <thead>\n    <tr style=\"text-align: right;\">\n      <th></th>\n      <th>No</th>\n      <th>식품명</th>\n      <th>대분류</th>\n      <th>중분류</th>\n      <th>소분류</th>\n      <th>1회 제공량</th>\n      <th>용량</th>\n      <th>총내용량(g)</th>\n      <th>총내용량(ml)</th>\n      <th>총당류(g)</th>\n      <th>총내용량</th>\n      <th>단위용량 대비 설탕 비율</th>\n      <th>설탕비율의 소분류 평균값</th>\n    </tr>\n  </thead>\n  <tbody>\n  </tbody>\n</table>\n</div>"
     },
     "execution_count": 82,
     "metadata": {},
     "output_type": "execute_result"
    }
   ],
   "source": [
    "sheet.loc[(sheet['중분류'] == '발효유') & (sheet['대분류'] == '유가공품'), '소분류'] = ''\n",
    "\n",
    "요거트 = ['요거트', '요플레', '풀무원다논', '삼양 요거트', '요하임', '짜요짜요', '비요뜨', '플레인', '앙팡', '하이요']\n",
    "요구르트 = ['요구르트', '엔요']\n",
    "농후발효유 = ['윌', '불가리스', '액티비아', '바이오', '비피더스', '파스퇴르', '프리바이오틱스', 'LB-9 유산균우유']\n",
    "\n",
    "for value in 요거트:\n",
    "    sheet.loc[(sheet['중분류'] == '발효유') & (sheet['식품명'].str.contains(value)), '소분류'] = '요거트'\n",
    "for value in 요구르트:\n",
    "    sheet.loc[(sheet['중분류'] == '발효유') & (sheet['식품명'].str.contains(value)), '소분류'] = '요구르트'\n",
    "for value in 농후발효유:\n",
    "    sheet.loc[(sheet['중분류'] == '발효유') & (sheet['식품명'].str.contains(value)), '소분류'] = '농후발효유'\n",
    "\n",
    "sheet.loc[(sheet['중분류'] == '발효유') & (sheet['소분류'] == ''), :]"
   ],
   "metadata": {
    "collapsed": false,
    "pycharm": {
     "name": "#%%\n"
    }
   }
  },
  {
   "cell_type": "code",
   "execution_count": 83,
   "outputs": [
    {
     "name": "stdout",
     "output_type": "stream",
     "text": [
      "{'기성품': 1, '농후발효유': 334, '요거트': 587, '요구르트': 360}\n"
     ]
    }
   ],
   "source": [
    "pp.pprint(category_count_fn('발효유'))"
   ],
   "metadata": {
    "collapsed": false,
    "pycharm": {
     "name": "#%%\n"
    }
   }
  },
  {
   "cell_type": "code",
   "execution_count": 84,
   "outputs": [
    {
     "data": {
      "text/plain": "array(['우유', '발효유'], dtype=object)"
     },
     "execution_count": 84,
     "metadata": {},
     "output_type": "execute_result"
    }
   ],
   "source": [
    "sheet.loc[(sheet['대분류'] == '유가공품'), '중분류'].unique()"
   ],
   "metadata": {
    "collapsed": false,
    "pycharm": {
     "name": "#%%\n"
    }
   }
  },
  {
   "cell_type": "code",
   "execution_count": 85,
   "outputs": [
    {
     "data": {
      "text/plain": "array(['기타우유', '과일', '저지방', '초코', '커피', '곡류', '녹차', '단호박', '견과류', '홍삼',\n       '달고나', '유기농', '강화우유', '일반우유', '유당분해우유', '유산균첨가우유'], dtype=object)"
     },
     "execution_count": 85,
     "metadata": {},
     "output_type": "execute_result"
    }
   ],
   "source": [
    "sheet.loc[(sheet['중분류'] == '우유'), '소분류'].unique()"
   ],
   "metadata": {
    "collapsed": false,
    "pycharm": {
     "name": "#%%\n"
    }
   }
  },
  {
   "cell_type": "code",
   "execution_count": 86,
   "outputs": [
    {
     "data": {
      "text/plain": "array(['농후발효유', '요구르트', '요거트', '기성품'], dtype=object)"
     },
     "execution_count": 86,
     "metadata": {},
     "output_type": "execute_result"
    }
   ],
   "source": [
    "sheet.loc[(sheet['중분류'] == '발효유'), '소분류'].unique()"
   ],
   "metadata": {
    "collapsed": false,
    "pycharm": {
     "name": "#%%\n"
    }
   }
  },
  {
   "cell_type": "code",
   "execution_count": 87,
   "outputs": [],
   "source": [
    "sheet.to_csv('../../유가공품정제(final).csv')"
   ],
   "metadata": {
    "collapsed": false,
    "pycharm": {
     "name": "#%%\n"
    }
   }
  },
  {
   "cell_type": "code",
   "execution_count": 87,
   "outputs": [],
   "source": [],
   "metadata": {
    "collapsed": false,
    "pycharm": {
     "name": "#%%\n"
    }
   }
  },
  {
   "cell_type": "code",
   "execution_count": 87,
   "outputs": [],
   "source": [],
   "metadata": {
    "collapsed": false,
    "pycharm": {
     "name": "#%%\n"
    }
   }
  },
  {
   "cell_type": "code",
   "execution_count": 87,
   "outputs": [],
   "source": [],
   "metadata": {
    "collapsed": false,
    "pycharm": {
     "name": "#%%\n"
    }
   }
  },
  {
   "cell_type": "code",
   "execution_count": 87,
   "outputs": [],
   "source": [],
   "metadata": {
    "collapsed": false,
    "pycharm": {
     "name": "#%%\n"
    }
   }
  },
  {
   "cell_type": "code",
   "execution_count": 87,
   "outputs": [],
   "source": [],
   "metadata": {
    "collapsed": false,
    "pycharm": {
     "name": "#%%\n"
    }
   }
  },
  {
   "cell_type": "code",
   "execution_count": 87,
   "outputs": [],
   "source": [],
   "metadata": {
    "collapsed": false,
    "pycharm": {
     "name": "#%%\n"
    }
   }
  },
  {
   "cell_type": "code",
   "execution_count": null,
   "outputs": [],
   "source": [],
   "metadata": {
    "collapsed": false,
    "pycharm": {
     "name": "#%%\n"
    }
   }
  }
 ],
 "metadata": {
  "kernelspec": {
   "display_name": "Python 3",
   "language": "python",
   "name": "python3"
  },
  "language_info": {
   "codemirror_mode": {
    "name": "ipython",
    "version": 2
   },
   "file_extension": ".py",
   "mimetype": "text/x-python",
   "name": "python",
   "nbconvert_exporter": "python",
   "pygments_lexer": "ipython2",
   "version": "2.7.6"
  }
 },
 "nbformat": 4,
 "nbformat_minor": 0
}