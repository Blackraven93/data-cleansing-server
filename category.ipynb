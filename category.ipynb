{
 "cells": [
  {
   "cell_type": "code",
   "execution_count": 90,
   "outputs": [],
   "source": [
    "import pandas as pd"
   ],
   "metadata": {
    "collapsed": false,
    "pycharm": {
     "name": "#%%\n"
    }
   }
  },
  {
   "cell_type": "code",
   "execution_count": 91,
   "outputs": [],
   "source": [
    "import numpy as np"
   ],
   "metadata": {
    "collapsed": false,
    "pycharm": {
     "name": "#%%\n"
    }
   }
  },
  {
   "cell_type": "code",
   "execution_count": 92,
   "outputs": [],
   "source": [
    "sheet = pd.read_csv(\"/Users/raven/Desktop/programming/정제데이터(final).csv\")"
   ],
   "metadata": {
    "collapsed": false,
    "pycharm": {
     "name": "#%%\n"
    }
   }
  },
  {
   "cell_type": "code",
   "execution_count": 93,
   "outputs": [],
   "source": [
    "sheet = sheet.drop('Unnamed: 0', axis=1)"
   ],
   "metadata": {
    "collapsed": false,
    "pycharm": {
     "name": "#%%\n"
    }
   }
  },
  {
   "cell_type": "code",
   "execution_count": 94,
   "outputs": [
    {
     "data": {
      "text/plain": "          No             식품명 대분류 중분류    소분류  1회 제공량 용량 총내용량(g) 총내용량(ml)  \\\n8816   78740       치즈볼&바게트스틱   빵  빵류  기타 빵류     290  g     290        -   \n8817   78742           바게트스틱   빵  빵류  기타 빵류      85  g      85        -   \n8818   78750           브래드스틱   빵  빵류  기타 빵류     220  g     220        -   \n8819   78753          팥치즈반달빵   빵  빵류  기타 빵류     337  g     337        -   \n8820   78954        플레인 에그디쉬   빵  빵류  기타 빵류     172  g     172        -   \n...      ...             ...  ..  ..    ...     ... ..     ...      ...   \n42135  67835          정직한핫도그   빵  빵류    핫도그      50  g     500        -   \n42136  67836        추억의옛날핫도그   빵  빵류    핫도그     110  g     550        -   \n42137  67837  푸딩분식 옛날감자치즈핫도그   빵  빵류    핫도그     150  g     750        -   \n42138  67838      푸딩분식 옛날핫도그   빵  빵류    핫도그     140  g     700        -   \n42139  67839       프리미엄옛날핫도그   빵  빵류    핫도그     110  g     550        -   \n\n       총당류(g)  \n8816     39.0  \n8817     11.0  \n8818      8.0  \n8819     20.0  \n8820     26.5  \n...       ...  \n42135     4.0  \n42136     4.0  \n42137    11.0  \n42138    16.0  \n42139    13.0  \n\n[13263 rows x 10 columns]",
      "text/html": "<div>\n<style scoped>\n    .dataframe tbody tr th:only-of-type {\n        vertical-align: middle;\n    }\n\n    .dataframe tbody tr th {\n        vertical-align: top;\n    }\n\n    .dataframe thead th {\n        text-align: right;\n    }\n</style>\n<table border=\"1\" class=\"dataframe\">\n  <thead>\n    <tr style=\"text-align: right;\">\n      <th></th>\n      <th>No</th>\n      <th>식품명</th>\n      <th>대분류</th>\n      <th>중분류</th>\n      <th>소분류</th>\n      <th>1회 제공량</th>\n      <th>용량</th>\n      <th>총내용량(g)</th>\n      <th>총내용량(ml)</th>\n      <th>총당류(g)</th>\n    </tr>\n  </thead>\n  <tbody>\n    <tr>\n      <th>8816</th>\n      <td>78740</td>\n      <td>치즈볼&amp;바게트스틱</td>\n      <td>빵</td>\n      <td>빵류</td>\n      <td>기타 빵류</td>\n      <td>290</td>\n      <td>g</td>\n      <td>290</td>\n      <td>-</td>\n      <td>39.0</td>\n    </tr>\n    <tr>\n      <th>8817</th>\n      <td>78742</td>\n      <td>바게트스틱</td>\n      <td>빵</td>\n      <td>빵류</td>\n      <td>기타 빵류</td>\n      <td>85</td>\n      <td>g</td>\n      <td>85</td>\n      <td>-</td>\n      <td>11.0</td>\n    </tr>\n    <tr>\n      <th>8818</th>\n      <td>78750</td>\n      <td>브래드스틱</td>\n      <td>빵</td>\n      <td>빵류</td>\n      <td>기타 빵류</td>\n      <td>220</td>\n      <td>g</td>\n      <td>220</td>\n      <td>-</td>\n      <td>8.0</td>\n    </tr>\n    <tr>\n      <th>8819</th>\n      <td>78753</td>\n      <td>팥치즈반달빵</td>\n      <td>빵</td>\n      <td>빵류</td>\n      <td>기타 빵류</td>\n      <td>337</td>\n      <td>g</td>\n      <td>337</td>\n      <td>-</td>\n      <td>20.0</td>\n    </tr>\n    <tr>\n      <th>8820</th>\n      <td>78954</td>\n      <td>플레인 에그디쉬</td>\n      <td>빵</td>\n      <td>빵류</td>\n      <td>기타 빵류</td>\n      <td>172</td>\n      <td>g</td>\n      <td>172</td>\n      <td>-</td>\n      <td>26.5</td>\n    </tr>\n    <tr>\n      <th>...</th>\n      <td>...</td>\n      <td>...</td>\n      <td>...</td>\n      <td>...</td>\n      <td>...</td>\n      <td>...</td>\n      <td>...</td>\n      <td>...</td>\n      <td>...</td>\n      <td>...</td>\n    </tr>\n    <tr>\n      <th>42135</th>\n      <td>67835</td>\n      <td>정직한핫도그</td>\n      <td>빵</td>\n      <td>빵류</td>\n      <td>핫도그</td>\n      <td>50</td>\n      <td>g</td>\n      <td>500</td>\n      <td>-</td>\n      <td>4.0</td>\n    </tr>\n    <tr>\n      <th>42136</th>\n      <td>67836</td>\n      <td>추억의옛날핫도그</td>\n      <td>빵</td>\n      <td>빵류</td>\n      <td>핫도그</td>\n      <td>110</td>\n      <td>g</td>\n      <td>550</td>\n      <td>-</td>\n      <td>4.0</td>\n    </tr>\n    <tr>\n      <th>42137</th>\n      <td>67837</td>\n      <td>푸딩분식 옛날감자치즈핫도그</td>\n      <td>빵</td>\n      <td>빵류</td>\n      <td>핫도그</td>\n      <td>150</td>\n      <td>g</td>\n      <td>750</td>\n      <td>-</td>\n      <td>11.0</td>\n    </tr>\n    <tr>\n      <th>42138</th>\n      <td>67838</td>\n      <td>푸딩분식 옛날핫도그</td>\n      <td>빵</td>\n      <td>빵류</td>\n      <td>핫도그</td>\n      <td>140</td>\n      <td>g</td>\n      <td>700</td>\n      <td>-</td>\n      <td>16.0</td>\n    </tr>\n    <tr>\n      <th>42139</th>\n      <td>67839</td>\n      <td>프리미엄옛날핫도그</td>\n      <td>빵</td>\n      <td>빵류</td>\n      <td>핫도그</td>\n      <td>110</td>\n      <td>g</td>\n      <td>550</td>\n      <td>-</td>\n      <td>13.0</td>\n    </tr>\n  </tbody>\n</table>\n<p>13263 rows × 10 columns</p>\n</div>"
     },
     "execution_count": 94,
     "metadata": {},
     "output_type": "execute_result"
    }
   ],
   "source": [
    "sheet.loc[sheet[\"대분류\"] == '빵', :]"
   ],
   "metadata": {
    "collapsed": false,
    "pycharm": {
     "name": "#%%\n"
    }
   }
  },
  {
   "cell_type": "code",
   "execution_count": 95,
   "outputs": [
    {
     "data": {
      "text/plain": "array(['가공두유', '가공유', '강화우유', '고형차', '과/채음료', '과/채주스', '과일.채소음료류', '과자',\n       '기타 과자류', '기타 빵류', '기타 음료류', '기타 코코아가공품', '기타과자', '기타발효음료', '기타빵류',\n       '기타캔디류', '농축과/채즙(또는 과/채분)', '농후발효유', '농후크림발효유', '도넛', '도넛류',\n       '땅콩 또는 견과류가공품', '떡류', '밀크초콜릿', '발효유', '버거류', '비스킷', '비유지방아이스크림',\n       '빙과', '빙수류', '빵류', '사탕', '샌드위치류', '샤베트', '서류가공품', '스낵과자', '스낵류',\n       '스무디류', '시리얼류', '식빵', '식빵류', '아이스밀크', '아이스크림', '아이스크림류', '앙금빵류',\n       '액상차', '양갱', '우유', '우유.유제품류', '원액두유', '웨이퍼', '유당분해우유', '유산균음료',\n       '유산균첨가우유', '인삼/홍삼음료', '자연치즈', '저지방아이스크림', '젤리', '준초콜릿', '차류',\n       '초콜릿', '초콜릿가공품', '초콜릿류', '카스텔라', '캐러멜', '캔디류', '커피류', '케이크',\n       '케이크류', '쿠키', '쿠키.비스킷류', '크래커', '크림발효유', '크림빵류', '탄산음료', '탄산음료류',\n       '파이', '페이스트리류', '피자', '피자류', '한과류', '핫도그', '혼합음료', '화이트초콜릿'],\n      dtype=object)"
     },
     "execution_count": 95,
     "metadata": {},
     "output_type": "execute_result"
    }
   ],
   "source": [
    "sheet['소분류'].unique()"
   ],
   "metadata": {
    "collapsed": false,
    "pycharm": {
     "name": "#%%\n"
    }
   }
  },
  {
   "cell_type": "code",
   "execution_count": 96,
   "outputs": [
    {
     "data": {
      "text/plain": "array(['가공두유', '가공유', '강화우유', '고형차', '과/채음료', '과/채주스', '음료 및 차류', '과자',\n       '과자류', '빵류', '기타 코코아가공품', '기타발효음료', '캔디류', '농축과/채즙(또는 과/채분)',\n       '농후발효유', '농후크림발효유', '땅콩 또는 견과류가공품', '떡류', '곡류 및 서류', '밀크초콜릿',\n       '발효유', '비유지방아이스크림', '빙과', '아이스크림류', '샤베트', '서류가공품', '시리얼류',\n       '아이스밀크', '아이스크림', '액상차', '우유', '원액두유', '유당분해우유', '유산균음료',\n       '유산균첨가우유', '인삼/홍삼음료', '자연치즈', '저지방아이스크림', '준초콜릿', '초콜릿', '초콜릿가공품',\n       '크림발효유', '탄산음료', '혼합음료', '화이트초콜릿'], dtype=object)"
     },
     "execution_count": 96,
     "metadata": {},
     "output_type": "execute_result"
    }
   ],
   "source": [
    "sheet['중분류'].unique()"
   ],
   "metadata": {
    "collapsed": false,
    "pycharm": {
     "name": "#%%\n"
    }
   }
  },
  {
   "cell_type": "code",
   "execution_count": 97,
   "outputs": [
    {
     "data": {
      "text/plain": "array(['음료', '유가공품', '과자', '빵', '초콜릿', '캔디', '떡, 곡류, 시리얼, 견과류', '아이스크림'],\n      dtype=object)"
     },
     "execution_count": 97,
     "metadata": {},
     "output_type": "execute_result"
    }
   ],
   "source": [
    "sheet['대분류'].unique()"
   ],
   "metadata": {
    "collapsed": false,
    "pycharm": {
     "name": "#%%\n"
    }
   }
  },
  {
   "cell_type": "code",
   "execution_count": 98,
   "outputs": [
    {
     "data": {
      "text/plain": "array(['가공두유', '고형차', '과/채음료', '과/채주스', '음료 및 차류', '기타발효음료',\n       '농축과/채즙(또는 과/채분)', '액상차', '원액두유', '유산균음료', '인삼/홍삼음료', '탄산음료',\n       '혼합음료'], dtype=object)"
     },
     "execution_count": 98,
     "metadata": {},
     "output_type": "execute_result"
    }
   ],
   "source": [
    "sheet.loc[sheet['대분류'] == '음료']['중분류'].unique()"
   ],
   "metadata": {
    "collapsed": false,
    "pycharm": {
     "name": "#%%\n"
    }
   }
  },
  {
   "cell_type": "code",
   "execution_count": 99,
   "outputs": [],
   "source": [
    "# 중분류 카테고리 묶을거 묶고\n",
    "# 중분류 소분류 이름바꾸기"
   ],
   "metadata": {
    "collapsed": false,
    "pycharm": {
     "name": "#%%\n"
    }
   }
  },
  {
   "cell_type": "code",
   "execution_count": 100,
   "outputs": [
    {
     "data": {
      "text/plain": "array(['과자', '기타 과자류', '기타과자', '비스킷', '서류가공품', '스낵과자', '스낵류', '웨이퍼',\n       '초콜릿류', '쿠키', '쿠키.비스킷류', '크래커', '한과류'], dtype=object)"
     },
     "execution_count": 100,
     "metadata": {},
     "output_type": "execute_result"
    }
   ],
   "source": [
    "sheet[sheet[\"대분류\"] == '과자']['소분류'].unique()"
   ],
   "metadata": {
    "collapsed": false,
    "pycharm": {
     "name": "#%%\n"
    }
   }
  },
  {
   "cell_type": "code",
   "execution_count": 101,
   "outputs": [],
   "source": [
    "sheet[\"중분류\"] = \"\""
   ],
   "metadata": {
    "collapsed": false,
    "pycharm": {
     "name": "#%%\n"
    }
   }
  },
  {
   "cell_type": "code",
   "execution_count": 102,
   "outputs": [],
   "source": [
    "# temp = sheet[sheet['식품명'].str.contains('초콜릿')].index\n",
    "# food[food['식품명'].str.contains('초콜릿')]['중분류'] = '초콜릿'"
   ],
   "metadata": {
    "collapsed": false,
    "pycharm": {
     "name": "#%%\n"
    }
   }
  },
  {
   "cell_type": "code",
   "execution_count": 103,
   "outputs": [],
   "source": [
    "# sheet.loc[temp, '중분류'] = '초콜릿'"
   ],
   "metadata": {
    "collapsed": false,
    "pycharm": {
     "name": "#%%\n"
    }
   }
  },
  {
   "cell_type": "code",
   "execution_count": 104,
   "outputs": [],
   "source": [
    "# sheet.loc[sheet['중분류'] == '초콜릿', :]"
   ],
   "metadata": {
    "collapsed": false,
    "pycharm": {
     "name": "#%%\n"
    }
   }
  },
  {
   "cell_type": "code",
   "execution_count": 105,
   "outputs": [
    {
     "data": {
      "text/plain": "          No                   식품명  대분류 중분류     소분류  1회 제공량  용량 총내용량(g)  \\\n0      10397             삼육두유검은콩칼슘   음료        가공두유     190  mL       -   \n1      10398           베지밀검은콩두유고칼슘   음료        가공두유     190  mL       -   \n2      10399               달콤한베지밀비   음료        가공두유     100  mL       -   \n3      10400         삼육두유검은콩호두와아몬드   음료        가공두유     140  mL       -   \n4      10401              담백한베지밀에이   음료        가공두유     190  mL       -   \n...      ...                   ...  ...  ..     ...     ...  ..     ...   \n44659  59687       모리나가 다스 화이트 초콜릿  초콜릿      화이트초콜릿      42   g      42   \n44660  60615                화이트보뇌르  초콜릿      화이트초콜릿      30   g      50   \n44661  61033       토블론 스위스 화이트 초콜릿  초콜릿      화이트초콜릿     100   g     100   \n44662  61439          명인명촌 현미칩 초콜릿  초콜릿      화이트초콜릿      65   g      65   \n44663  64772  바이오 화이트 초콜릿 요거트 & 딸기  초콜릿      화이트초콜릿     100   g     100   \n\n      총내용량(ml)  총당류(g)  \n0          190    10.0  \n1          190    10.0  \n2          950     5.0  \n3          140    10.0  \n4          190     6.0  \n...        ...     ...  \n44659        -    20.4  \n44660        -    13.0  \n44661        -    63.0  \n44662        -    26.0  \n44663        -    51.7  \n\n[44664 rows x 10 columns]",
      "text/html": "<div>\n<style scoped>\n    .dataframe tbody tr th:only-of-type {\n        vertical-align: middle;\n    }\n\n    .dataframe tbody tr th {\n        vertical-align: top;\n    }\n\n    .dataframe thead th {\n        text-align: right;\n    }\n</style>\n<table border=\"1\" class=\"dataframe\">\n  <thead>\n    <tr style=\"text-align: right;\">\n      <th></th>\n      <th>No</th>\n      <th>식품명</th>\n      <th>대분류</th>\n      <th>중분류</th>\n      <th>소분류</th>\n      <th>1회 제공량</th>\n      <th>용량</th>\n      <th>총내용량(g)</th>\n      <th>총내용량(ml)</th>\n      <th>총당류(g)</th>\n    </tr>\n  </thead>\n  <tbody>\n    <tr>\n      <th>0</th>\n      <td>10397</td>\n      <td>삼육두유검은콩칼슘</td>\n      <td>음료</td>\n      <td></td>\n      <td>가공두유</td>\n      <td>190</td>\n      <td>mL</td>\n      <td>-</td>\n      <td>190</td>\n      <td>10.0</td>\n    </tr>\n    <tr>\n      <th>1</th>\n      <td>10398</td>\n      <td>베지밀검은콩두유고칼슘</td>\n      <td>음료</td>\n      <td></td>\n      <td>가공두유</td>\n      <td>190</td>\n      <td>mL</td>\n      <td>-</td>\n      <td>190</td>\n      <td>10.0</td>\n    </tr>\n    <tr>\n      <th>2</th>\n      <td>10399</td>\n      <td>달콤한베지밀비</td>\n      <td>음료</td>\n      <td></td>\n      <td>가공두유</td>\n      <td>100</td>\n      <td>mL</td>\n      <td>-</td>\n      <td>950</td>\n      <td>5.0</td>\n    </tr>\n    <tr>\n      <th>3</th>\n      <td>10400</td>\n      <td>삼육두유검은콩호두와아몬드</td>\n      <td>음료</td>\n      <td></td>\n      <td>가공두유</td>\n      <td>140</td>\n      <td>mL</td>\n      <td>-</td>\n      <td>140</td>\n      <td>10.0</td>\n    </tr>\n    <tr>\n      <th>4</th>\n      <td>10401</td>\n      <td>담백한베지밀에이</td>\n      <td>음료</td>\n      <td></td>\n      <td>가공두유</td>\n      <td>190</td>\n      <td>mL</td>\n      <td>-</td>\n      <td>190</td>\n      <td>6.0</td>\n    </tr>\n    <tr>\n      <th>...</th>\n      <td>...</td>\n      <td>...</td>\n      <td>...</td>\n      <td>...</td>\n      <td>...</td>\n      <td>...</td>\n      <td>...</td>\n      <td>...</td>\n      <td>...</td>\n      <td>...</td>\n    </tr>\n    <tr>\n      <th>44659</th>\n      <td>59687</td>\n      <td>모리나가 다스 화이트 초콜릿</td>\n      <td>초콜릿</td>\n      <td></td>\n      <td>화이트초콜릿</td>\n      <td>42</td>\n      <td>g</td>\n      <td>42</td>\n      <td>-</td>\n      <td>20.4</td>\n    </tr>\n    <tr>\n      <th>44660</th>\n      <td>60615</td>\n      <td>화이트보뇌르</td>\n      <td>초콜릿</td>\n      <td></td>\n      <td>화이트초콜릿</td>\n      <td>30</td>\n      <td>g</td>\n      <td>50</td>\n      <td>-</td>\n      <td>13.0</td>\n    </tr>\n    <tr>\n      <th>44661</th>\n      <td>61033</td>\n      <td>토블론 스위스 화이트 초콜릿</td>\n      <td>초콜릿</td>\n      <td></td>\n      <td>화이트초콜릿</td>\n      <td>100</td>\n      <td>g</td>\n      <td>100</td>\n      <td>-</td>\n      <td>63.0</td>\n    </tr>\n    <tr>\n      <th>44662</th>\n      <td>61439</td>\n      <td>명인명촌 현미칩 초콜릿</td>\n      <td>초콜릿</td>\n      <td></td>\n      <td>화이트초콜릿</td>\n      <td>65</td>\n      <td>g</td>\n      <td>65</td>\n      <td>-</td>\n      <td>26.0</td>\n    </tr>\n    <tr>\n      <th>44663</th>\n      <td>64772</td>\n      <td>바이오 화이트 초콜릿 요거트 &amp; 딸기</td>\n      <td>초콜릿</td>\n      <td></td>\n      <td>화이트초콜릿</td>\n      <td>100</td>\n      <td>g</td>\n      <td>100</td>\n      <td>-</td>\n      <td>51.7</td>\n    </tr>\n  </tbody>\n</table>\n<p>44664 rows × 10 columns</p>\n</div>"
     },
     "execution_count": 105,
     "metadata": {},
     "output_type": "execute_result"
    }
   ],
   "source": [
    "sheet"
   ],
   "metadata": {
    "collapsed": false,
    "pycharm": {
     "name": "#%%\n"
    }
   }
  },
  {
   "cell_type": "code",
   "execution_count": 106,
   "outputs": [
    {
     "data": {
      "text/plain": "          No            식품명 대분류 중분류    소분류  1회 제공량 용량 총내용량(g) 총내용량(ml)  총당류(g)\n8819   78753         팥치즈반달빵   빵      기타 빵류     337  g     337        -    20.0\n8908   81482    쫄깃한 크림치즈 쌀빵   빵      기타 빵류     150  g     150        -    30.0\n8957   82703       베사멜버섯치즈빵   빵      기타 빵류      70  g     140        -     2.0\n8967   82727  쫄깃한 토종효모빵(미니)   빵      기타 빵류      90  g     180        -     4.0\n8970   82733      쫄깃한 토종효모빵   빵      기타 빵류     125  g     375        -     5.0\n...      ...            ...  ..  ..    ...     ... ..     ...      ...     ...\n40406  68061            피자빵   빵         피자     120  g     120        -     6.2\n41877  47973           핫도그빵   빵        핫도그     100  g     500        -     7.0\n41889  50476           핫도그빵   빵        핫도그      50  g      50        -     5.0\n42065  62760         비건핫도그빵   빵        핫도그     100  g     360        -     6.0\n42066  63187           핫도그빵   빵        핫도그      30  g      30        -     2.0\n\n[1735 rows x 10 columns]",
      "text/html": "<div>\n<style scoped>\n    .dataframe tbody tr th:only-of-type {\n        vertical-align: middle;\n    }\n\n    .dataframe tbody tr th {\n        vertical-align: top;\n    }\n\n    .dataframe thead th {\n        text-align: right;\n    }\n</style>\n<table border=\"1\" class=\"dataframe\">\n  <thead>\n    <tr style=\"text-align: right;\">\n      <th></th>\n      <th>No</th>\n      <th>식품명</th>\n      <th>대분류</th>\n      <th>중분류</th>\n      <th>소분류</th>\n      <th>1회 제공량</th>\n      <th>용량</th>\n      <th>총내용량(g)</th>\n      <th>총내용량(ml)</th>\n      <th>총당류(g)</th>\n    </tr>\n  </thead>\n  <tbody>\n    <tr>\n      <th>8819</th>\n      <td>78753</td>\n      <td>팥치즈반달빵</td>\n      <td>빵</td>\n      <td></td>\n      <td>기타 빵류</td>\n      <td>337</td>\n      <td>g</td>\n      <td>337</td>\n      <td>-</td>\n      <td>20.0</td>\n    </tr>\n    <tr>\n      <th>8908</th>\n      <td>81482</td>\n      <td>쫄깃한 크림치즈 쌀빵</td>\n      <td>빵</td>\n      <td></td>\n      <td>기타 빵류</td>\n      <td>150</td>\n      <td>g</td>\n      <td>150</td>\n      <td>-</td>\n      <td>30.0</td>\n    </tr>\n    <tr>\n      <th>8957</th>\n      <td>82703</td>\n      <td>베사멜버섯치즈빵</td>\n      <td>빵</td>\n      <td></td>\n      <td>기타 빵류</td>\n      <td>70</td>\n      <td>g</td>\n      <td>140</td>\n      <td>-</td>\n      <td>2.0</td>\n    </tr>\n    <tr>\n      <th>8967</th>\n      <td>82727</td>\n      <td>쫄깃한 토종효모빵(미니)</td>\n      <td>빵</td>\n      <td></td>\n      <td>기타 빵류</td>\n      <td>90</td>\n      <td>g</td>\n      <td>180</td>\n      <td>-</td>\n      <td>4.0</td>\n    </tr>\n    <tr>\n      <th>8970</th>\n      <td>82733</td>\n      <td>쫄깃한 토종효모빵</td>\n      <td>빵</td>\n      <td></td>\n      <td>기타 빵류</td>\n      <td>125</td>\n      <td>g</td>\n      <td>375</td>\n      <td>-</td>\n      <td>5.0</td>\n    </tr>\n    <tr>\n      <th>...</th>\n      <td>...</td>\n      <td>...</td>\n      <td>...</td>\n      <td>...</td>\n      <td>...</td>\n      <td>...</td>\n      <td>...</td>\n      <td>...</td>\n      <td>...</td>\n      <td>...</td>\n    </tr>\n    <tr>\n      <th>40406</th>\n      <td>68061</td>\n      <td>피자빵</td>\n      <td>빵</td>\n      <td></td>\n      <td>피자</td>\n      <td>120</td>\n      <td>g</td>\n      <td>120</td>\n      <td>-</td>\n      <td>6.2</td>\n    </tr>\n    <tr>\n      <th>41877</th>\n      <td>47973</td>\n      <td>핫도그빵</td>\n      <td>빵</td>\n      <td></td>\n      <td>핫도그</td>\n      <td>100</td>\n      <td>g</td>\n      <td>500</td>\n      <td>-</td>\n      <td>7.0</td>\n    </tr>\n    <tr>\n      <th>41889</th>\n      <td>50476</td>\n      <td>핫도그빵</td>\n      <td>빵</td>\n      <td></td>\n      <td>핫도그</td>\n      <td>50</td>\n      <td>g</td>\n      <td>50</td>\n      <td>-</td>\n      <td>5.0</td>\n    </tr>\n    <tr>\n      <th>42065</th>\n      <td>62760</td>\n      <td>비건핫도그빵</td>\n      <td>빵</td>\n      <td></td>\n      <td>핫도그</td>\n      <td>100</td>\n      <td>g</td>\n      <td>360</td>\n      <td>-</td>\n      <td>6.0</td>\n    </tr>\n    <tr>\n      <th>42066</th>\n      <td>63187</td>\n      <td>핫도그빵</td>\n      <td>빵</td>\n      <td></td>\n      <td>핫도그</td>\n      <td>30</td>\n      <td>g</td>\n      <td>30</td>\n      <td>-</td>\n      <td>2.0</td>\n    </tr>\n  </tbody>\n</table>\n<p>1735 rows × 10 columns</p>\n</div>"
     },
     "execution_count": 106,
     "metadata": {},
     "output_type": "execute_result"
    }
   ],
   "source": [
    "sheet.loc[((sheet[\"식품명\"].str.contains('빵')) & (sheet[\"대분류\"] == '빵')), :]"
   ],
   "metadata": {
    "collapsed": false,
    "pycharm": {
     "name": "#%%\n"
    }
   }
  },
  {
   "cell_type": "code",
   "execution_count": 107,
   "outputs": [],
   "source": [
    "def middleCategoryChanger(sheet, name, category_name, changed_name):\n",
    "    temp = (sheet[\"식품명\"].str.contains(name)) & (sheet[\"대분류\"] == category_name)\n",
    "    sheet.loc[temp, '중분류'] = changed_name\n",
    "    return sheet"
   ],
   "metadata": {
    "collapsed": false,
    "pycharm": {
     "name": "#%%\n"
    }
   }
  },
  {
   "cell_type": "code",
   "execution_count": 108,
   "outputs": [],
   "source": [
    "bread_middle_category = ['스틱'\n",
    "                         ,'에그디쉬'\n",
    "                         ,'허니브레드'\n",
    "                         ,'번버거'\n",
    "                         ,'샌디'\n",
    "                         ,'와플'\n",
    "                         ,'꽈배기'\n",
    "                         ,'핫도그'\n",
    "                         ,'토스트'\n",
    "                        ,' 허니볼'\n",
    "                         ,'슈'\n",
    "                         ,'멜츠'\n",
    "                         ,'스콘'\n",
    "                         ,'번'\n",
    "                         ,'포카챠'\n",
    "                         ,'블루밍'\n",
    "                         ,'타르트'\n",
    "                         ,'브라우니'\n",
    "                         ,'슈케트'\n",
    "                         ,'브리오슈'\n",
    "                        ,' 롤'\n",
    "                         ,'크럼블'\n",
    "                         ,'비스코티'\n",
    "                         ,'에그데니쉬'\n",
    "                         ,'바게트볼'\n",
    "                         ,'수프볼'\n",
    "                         ,'꽈배기'\n",
    "                         ,'소보루'\n",
    "                         ,'고로케'\n",
    "                         ,'파이'\n",
    "                         ,'파니니'\n",
    "                         ,\"티라미수\"\n",
    "                         ,\"샌드\"\n",
    "                         ,\"수플레\"\n",
    "                         ,\"크림빵\"\n",
    "                         ,\"콘\"\n",
    "                         ,\"난\"\n",
    "                         ,\"월병\"\n",
    "                         ,\"휘낭시에\"\n",
    "                         ,\"파운드\"\n",
    "                         ,\"크로플\"\n",
    "                         ,\"다쿠아즈\"\n",
    "                         ,\"까눌레\"\n",
    "                         ,\"빨미까레\"\n",
    "                         ,\"카스타드\"\n",
    "                         ,\"치즈볼\"\n",
    "                         ,\"파운드\"\n",
    "                         ,\"쇼콜라\"\n",
    "                         ,\"마들렌\"\n",
    "                         ,\"바게뜨\"\n",
    "                         ,\"팬케이크\"\n",
    "                         ,\"모나카\"\n",
    "                         ,\"도넛\"\n",
    "                         ,\"바움쿠헨\"\n",
    "                         ,\"마들렌\"\n",
    "                         ,\"찐빵\"\n",
    "                         ,\"찰보리빵\"\n",
    "                         ,\"만쥬\"\n",
    "                         ,\"식빵\"\n",
    "                         ,\"머핀\"\n",
    "                         ,\"케익\"\n",
    "                         ,\"마들렌\"\n",
    "                         ,\"베이글\"\n",
    "                         ,\"다쿠아즈\"\n",
    "                         ,\"프레즐\"\n",
    "                         ,\"크루와상\"\n",
    "                         ,\"무스\"\n",
    "                         ,\"식빵\"\n",
    "                         ,\"마카롱\"\n",
    "                         ,\"붕어빵\"\n",
    "                         ,\"호떡\"\n",
    "                         ,\"샌드위치\"\n",
    "                         ,\"카스테\"\n",
    "                         , \"쉬폰\"\n",
    "                         , \"전병\"\n",
    "                         , \"트위스트\"\n",
    "                         , \"크레페\"\n",
    "                         , \"크레이\"\n",
    "                         , \"앙버터\"\n",
    "                         , \"페스츄리\"\n",
    "                         , \"마카롱\"\n",
    "                         , \"또띠아\"]\n",
    "\n",
    "for value in bread_middle_category:\n",
    "    middleCategoryChanger(sheet, value, '빵', value)\n"
   ],
   "metadata": {
    "collapsed": false,
    "pycharm": {
     "name": "#%%\n"
    }
   }
  },
  {
   "cell_type": "code",
   "execution_count": 109,
   "outputs": [
    {
     "name": "stdout",
     "output_type": "stream",
     "text": [
      "['스틱', '에그디쉬', '허니브레드', '번버거', '샌디', '와플', '꽈배기', '핫도그', '토스트', ' 허니볼', '슈', '멜츠', '스콘', '번', '포카챠', '블루밍', '타르트', '브라우니', '슈케트', '브리오슈', ' 롤', '크럼블', '비스코티', '에그데니쉬', '바게트볼', '수프볼', '꽈배기', '소보루', '고로케', '파이', '파니니', '티라미수', '샌드', '수플레', '크림빵', '콘', '난', '월병', '휘낭시에', '파운드', '크로플', '다쿠아즈', '까눌레', '빨미까레', '카스타드', '치즈볼', '파운드', '쇼콜라', '마들렌', '바게뜨', '팬케이크', '모나카', '도넛', '바움쿠헨', '마들렌', '찐빵', '찰보리빵', '만쥬', '식빵', '머핀', '케익', '마들렌', '베이글', '다쿠아즈', '프레즐', '크루와상', '무스', '식빵', '마카롱', '붕어빵', '호떡', '샌드위치', '카스테', '쉬폰', '전병', '트위스트', '크레페', '크레이', '앙버터', '페스츄리', '마카롱', '또띠아']\n"
     ]
    }
   ],
   "source": [
    "print(bread_middle_category)"
   ],
   "metadata": {
    "collapsed": false,
    "pycharm": {
     "name": "#%%\n"
    }
   }
  },
  {
   "cell_type": "code",
   "execution_count": 110,
   "outputs": [
    {
     "data": {
      "text/plain": "          No         식품명 대분류 중분류    소분류  1회 제공량 용량 총내용량(g) 총내용량(ml)  총당류(g)\n8819   78753      팥치즈반달빵   빵      기타 빵류     337  g     337        -    20.0\n8824   78960     젤라또 브레드   빵      기타 빵류     345  g     345        -    33.0\n8848   79245         허니볼   빵      기타 빵류     200  g     200        -     9.0\n8849   79249     갈릭치즈브래드   빵      기타 빵류     290  g     290        -     8.0\n8850   79250       허니브래드   빵      기타 빵류     279  g     279        -    20.0\n...      ...         ...  ..  ..    ...     ... ..     ...      ...     ...\n41805  85299  아메리칸스페셜(M)   빵        피자류     123  g     738        -     4.0\n41806  85300   레드핫치킨(BL)   빵        피자류     170  g    2040        -     8.0\n41807  85301    레드핫치킨(L)   빵        피자류     146  g    1170        -     7.0\n41808  85302    레드핫치킨(M)   빵        피자류     130  g     780        -     6.0\n41809  85318     고구마 샐러드   빵        피자류     112  g     671        -    10.0\n\n[6829 rows x 10 columns]",
      "text/html": "<div>\n<style scoped>\n    .dataframe tbody tr th:only-of-type {\n        vertical-align: middle;\n    }\n\n    .dataframe tbody tr th {\n        vertical-align: top;\n    }\n\n    .dataframe thead th {\n        text-align: right;\n    }\n</style>\n<table border=\"1\" class=\"dataframe\">\n  <thead>\n    <tr style=\"text-align: right;\">\n      <th></th>\n      <th>No</th>\n      <th>식품명</th>\n      <th>대분류</th>\n      <th>중분류</th>\n      <th>소분류</th>\n      <th>1회 제공량</th>\n      <th>용량</th>\n      <th>총내용량(g)</th>\n      <th>총내용량(ml)</th>\n      <th>총당류(g)</th>\n    </tr>\n  </thead>\n  <tbody>\n    <tr>\n      <th>8819</th>\n      <td>78753</td>\n      <td>팥치즈반달빵</td>\n      <td>빵</td>\n      <td></td>\n      <td>기타 빵류</td>\n      <td>337</td>\n      <td>g</td>\n      <td>337</td>\n      <td>-</td>\n      <td>20.0</td>\n    </tr>\n    <tr>\n      <th>8824</th>\n      <td>78960</td>\n      <td>젤라또 브레드</td>\n      <td>빵</td>\n      <td></td>\n      <td>기타 빵류</td>\n      <td>345</td>\n      <td>g</td>\n      <td>345</td>\n      <td>-</td>\n      <td>33.0</td>\n    </tr>\n    <tr>\n      <th>8848</th>\n      <td>79245</td>\n      <td>허니볼</td>\n      <td>빵</td>\n      <td></td>\n      <td>기타 빵류</td>\n      <td>200</td>\n      <td>g</td>\n      <td>200</td>\n      <td>-</td>\n      <td>9.0</td>\n    </tr>\n    <tr>\n      <th>8849</th>\n      <td>79249</td>\n      <td>갈릭치즈브래드</td>\n      <td>빵</td>\n      <td></td>\n      <td>기타 빵류</td>\n      <td>290</td>\n      <td>g</td>\n      <td>290</td>\n      <td>-</td>\n      <td>8.0</td>\n    </tr>\n    <tr>\n      <th>8850</th>\n      <td>79250</td>\n      <td>허니브래드</td>\n      <td>빵</td>\n      <td></td>\n      <td>기타 빵류</td>\n      <td>279</td>\n      <td>g</td>\n      <td>279</td>\n      <td>-</td>\n      <td>20.0</td>\n    </tr>\n    <tr>\n      <th>...</th>\n      <td>...</td>\n      <td>...</td>\n      <td>...</td>\n      <td>...</td>\n      <td>...</td>\n      <td>...</td>\n      <td>...</td>\n      <td>...</td>\n      <td>...</td>\n      <td>...</td>\n    </tr>\n    <tr>\n      <th>41805</th>\n      <td>85299</td>\n      <td>아메리칸스페셜(M)</td>\n      <td>빵</td>\n      <td></td>\n      <td>피자류</td>\n      <td>123</td>\n      <td>g</td>\n      <td>738</td>\n      <td>-</td>\n      <td>4.0</td>\n    </tr>\n    <tr>\n      <th>41806</th>\n      <td>85300</td>\n      <td>레드핫치킨(BL)</td>\n      <td>빵</td>\n      <td></td>\n      <td>피자류</td>\n      <td>170</td>\n      <td>g</td>\n      <td>2040</td>\n      <td>-</td>\n      <td>8.0</td>\n    </tr>\n    <tr>\n      <th>41807</th>\n      <td>85301</td>\n      <td>레드핫치킨(L)</td>\n      <td>빵</td>\n      <td></td>\n      <td>피자류</td>\n      <td>146</td>\n      <td>g</td>\n      <td>1170</td>\n      <td>-</td>\n      <td>7.0</td>\n    </tr>\n    <tr>\n      <th>41808</th>\n      <td>85302</td>\n      <td>레드핫치킨(M)</td>\n      <td>빵</td>\n      <td></td>\n      <td>피자류</td>\n      <td>130</td>\n      <td>g</td>\n      <td>780</td>\n      <td>-</td>\n      <td>6.0</td>\n    </tr>\n    <tr>\n      <th>41809</th>\n      <td>85318</td>\n      <td>고구마 샐러드</td>\n      <td>빵</td>\n      <td></td>\n      <td>피자류</td>\n      <td>112</td>\n      <td>g</td>\n      <td>671</td>\n      <td>-</td>\n      <td>10.0</td>\n    </tr>\n  </tbody>\n</table>\n<p>6829 rows × 10 columns</p>\n</div>"
     },
     "execution_count": 110,
     "metadata": {},
     "output_type": "execute_result"
    }
   ],
   "source": [
    "sheet.loc[(sheet[\"중분류\"] == \"\") & (sheet['대분류'] == '빵'), :]"
   ],
   "metadata": {
    "collapsed": false,
    "pycharm": {
     "name": "#%%\n"
    }
   }
  },
  {
   "cell_type": "code",
   "execution_count": 111,
   "outputs": [
    {
     "data": {
      "text/plain": "          No                   식품명  대분류 중분류     소분류  1회 제공량  용량 총내용량(g)  \\\n0      10397             삼육두유검은콩칼슘   음료        가공두유     190  mL       -   \n1      10398           베지밀검은콩두유고칼슘   음료        가공두유     190  mL       -   \n2      10399               달콤한베지밀비   음료        가공두유     100  mL       -   \n3      10400         삼육두유검은콩호두와아몬드   음료        가공두유     140  mL       -   \n4      10401              담백한베지밀에이   음료        가공두유     190  mL       -   \n...      ...                   ...  ...  ..     ...     ...  ..     ...   \n44659  59687       모리나가 다스 화이트 초콜릿  초콜릿      화이트초콜릿      42   g      42   \n44660  60615                화이트보뇌르  초콜릿      화이트초콜릿      30   g      50   \n44661  61033       토블론 스위스 화이트 초콜릿  초콜릿      화이트초콜릿     100   g     100   \n44662  61439          명인명촌 현미칩 초콜릿  초콜릿      화이트초콜릿      65   g      65   \n44663  64772  바이오 화이트 초콜릿 요거트 & 딸기  초콜릿      화이트초콜릿     100   g     100   \n\n      총내용량(ml)  총당류(g)  \n0          190    10.0  \n1          190    10.0  \n2          950     5.0  \n3          140    10.0  \n4          190     6.0  \n...        ...     ...  \n44659        -    20.4  \n44660        -    13.0  \n44661        -    63.0  \n44662        -    26.0  \n44663        -    51.7  \n\n[44664 rows x 10 columns]",
      "text/html": "<div>\n<style scoped>\n    .dataframe tbody tr th:only-of-type {\n        vertical-align: middle;\n    }\n\n    .dataframe tbody tr th {\n        vertical-align: top;\n    }\n\n    .dataframe thead th {\n        text-align: right;\n    }\n</style>\n<table border=\"1\" class=\"dataframe\">\n  <thead>\n    <tr style=\"text-align: right;\">\n      <th></th>\n      <th>No</th>\n      <th>식품명</th>\n      <th>대분류</th>\n      <th>중분류</th>\n      <th>소분류</th>\n      <th>1회 제공량</th>\n      <th>용량</th>\n      <th>총내용량(g)</th>\n      <th>총내용량(ml)</th>\n      <th>총당류(g)</th>\n    </tr>\n  </thead>\n  <tbody>\n    <tr>\n      <th>0</th>\n      <td>10397</td>\n      <td>삼육두유검은콩칼슘</td>\n      <td>음료</td>\n      <td></td>\n      <td>가공두유</td>\n      <td>190</td>\n      <td>mL</td>\n      <td>-</td>\n      <td>190</td>\n      <td>10.0</td>\n    </tr>\n    <tr>\n      <th>1</th>\n      <td>10398</td>\n      <td>베지밀검은콩두유고칼슘</td>\n      <td>음료</td>\n      <td></td>\n      <td>가공두유</td>\n      <td>190</td>\n      <td>mL</td>\n      <td>-</td>\n      <td>190</td>\n      <td>10.0</td>\n    </tr>\n    <tr>\n      <th>2</th>\n      <td>10399</td>\n      <td>달콤한베지밀비</td>\n      <td>음료</td>\n      <td></td>\n      <td>가공두유</td>\n      <td>100</td>\n      <td>mL</td>\n      <td>-</td>\n      <td>950</td>\n      <td>5.0</td>\n    </tr>\n    <tr>\n      <th>3</th>\n      <td>10400</td>\n      <td>삼육두유검은콩호두와아몬드</td>\n      <td>음료</td>\n      <td></td>\n      <td>가공두유</td>\n      <td>140</td>\n      <td>mL</td>\n      <td>-</td>\n      <td>140</td>\n      <td>10.0</td>\n    </tr>\n    <tr>\n      <th>4</th>\n      <td>10401</td>\n      <td>담백한베지밀에이</td>\n      <td>음료</td>\n      <td></td>\n      <td>가공두유</td>\n      <td>190</td>\n      <td>mL</td>\n      <td>-</td>\n      <td>190</td>\n      <td>6.0</td>\n    </tr>\n    <tr>\n      <th>...</th>\n      <td>...</td>\n      <td>...</td>\n      <td>...</td>\n      <td>...</td>\n      <td>...</td>\n      <td>...</td>\n      <td>...</td>\n      <td>...</td>\n      <td>...</td>\n      <td>...</td>\n    </tr>\n    <tr>\n      <th>44659</th>\n      <td>59687</td>\n      <td>모리나가 다스 화이트 초콜릿</td>\n      <td>초콜릿</td>\n      <td></td>\n      <td>화이트초콜릿</td>\n      <td>42</td>\n      <td>g</td>\n      <td>42</td>\n      <td>-</td>\n      <td>20.4</td>\n    </tr>\n    <tr>\n      <th>44660</th>\n      <td>60615</td>\n      <td>화이트보뇌르</td>\n      <td>초콜릿</td>\n      <td></td>\n      <td>화이트초콜릿</td>\n      <td>30</td>\n      <td>g</td>\n      <td>50</td>\n      <td>-</td>\n      <td>13.0</td>\n    </tr>\n    <tr>\n      <th>44661</th>\n      <td>61033</td>\n      <td>토블론 스위스 화이트 초콜릿</td>\n      <td>초콜릿</td>\n      <td></td>\n      <td>화이트초콜릿</td>\n      <td>100</td>\n      <td>g</td>\n      <td>100</td>\n      <td>-</td>\n      <td>63.0</td>\n    </tr>\n    <tr>\n      <th>44662</th>\n      <td>61439</td>\n      <td>명인명촌 현미칩 초콜릿</td>\n      <td>초콜릿</td>\n      <td></td>\n      <td>화이트초콜릿</td>\n      <td>65</td>\n      <td>g</td>\n      <td>65</td>\n      <td>-</td>\n      <td>26.0</td>\n    </tr>\n    <tr>\n      <th>44663</th>\n      <td>64772</td>\n      <td>바이오 화이트 초콜릿 요거트 &amp; 딸기</td>\n      <td>초콜릿</td>\n      <td></td>\n      <td>화이트초콜릿</td>\n      <td>100</td>\n      <td>g</td>\n      <td>100</td>\n      <td>-</td>\n      <td>51.7</td>\n    </tr>\n  </tbody>\n</table>\n<p>44664 rows × 10 columns</p>\n</div>"
     },
     "execution_count": 111,
     "metadata": {},
     "output_type": "execute_result"
    }
   ],
   "source": [
    "middleCategoryChanger(sheet, '빵', '빵', '빵류')\n",
    "middleCategoryChanger(sheet, '롤', '빵', '빵류')\n",
    "middleCategoryChanger(sheet, '볼', '빵', '빵류')\n",
    "middleCategoryChanger(sheet, '만주', '빵', '만쥬')\n",
    "middleCategoryChanger(sheet, '케이크', '빵', '케이크')\n",
    "middleCategoryChanger(sheet, '케잌', '빵', '케이크')\n",
    "middleCategoryChanger(sheet, '두넛', '빵', '도넛')\n",
    "middleCategoryChanger(sheet, '도너츠', '빵', '도넛')\n",
    "middleCategoryChanger(sheet, '크루아상', '빵', '크루와상')\n",
    "middleCategoryChanger(sheet, '크로와상', '빵', '크루와상')\n",
    "middleCategoryChanger(sheet, '크로아상', '빵', '크루와상')\n",
    "middleCategoryChanger(sheet, '뚱카롱', '빵', '마카롱')\n",
    "middleCategoryChanger(sheet, '피낭시에', '빵', '휘낭시에')\n",
    "middleCategoryChanger(sheet, '티라미스', '빵', '티라미수')\n",
    "middleCategoryChanger(sheet, '브레드', '빵', '빵류')\n",
    "middleCategoryChanger(sheet, '효모빵', '빵', '빵류')\n",
    "middleCategoryChanger(sheet, '찰깨빵', '빵', '빵류')\n",
    "middleCategoryChanger(sheet, '단팥빵', '빵', '빵류')\n",
    "middleCategoryChanger(sheet, '소보로', '빵', '소보루')"
   ],
   "metadata": {
    "collapsed": false,
    "pycharm": {
     "name": "#%%\n"
    }
   }
  },
  {
   "cell_type": "code",
   "execution_count": 112,
   "outputs": [
    {
     "data": {
      "text/plain": "          No           식품명 대분류 중분류    소분류  1회 제공량 용량 총내용량(g) 총내용량(ml)  총당류(g)\n8849   79249       갈릭치즈브래드   빵      기타 빵류     290  g     290        -    8.00\n8850   79250         허니브래드   빵      기타 빵류     279  g     279        -   20.00\n8879   80368      햄치즈 피아디나   빵      기타 빵류     165  g     165        -    1.12\n8895   80843  파파 베이크 (불고기)   빵      기타 빵류     152  g     305        -    6.00\n8896   80844  파파 베이크 (핫치킨)   빵      기타 빵류     156  g   312.5        -    6.00\n...      ...           ...  ..  ..    ...     ... ..     ...      ...     ...\n41805  85299    아메리칸스페셜(M)   빵        피자류     123  g     738        -    4.00\n41806  85300     레드핫치킨(BL)   빵        피자류     170  g    2040        -    8.00\n41807  85301      레드핫치킨(L)   빵        피자류     146  g    1170        -    7.00\n41808  85302      레드핫치킨(M)   빵        피자류     130  g     780        -    6.00\n41809  85318       고구마 샐러드   빵        피자류     112  g     671        -   10.00\n\n[4452 rows x 10 columns]",
      "text/html": "<div>\n<style scoped>\n    .dataframe tbody tr th:only-of-type {\n        vertical-align: middle;\n    }\n\n    .dataframe tbody tr th {\n        vertical-align: top;\n    }\n\n    .dataframe thead th {\n        text-align: right;\n    }\n</style>\n<table border=\"1\" class=\"dataframe\">\n  <thead>\n    <tr style=\"text-align: right;\">\n      <th></th>\n      <th>No</th>\n      <th>식품명</th>\n      <th>대분류</th>\n      <th>중분류</th>\n      <th>소분류</th>\n      <th>1회 제공량</th>\n      <th>용량</th>\n      <th>총내용량(g)</th>\n      <th>총내용량(ml)</th>\n      <th>총당류(g)</th>\n    </tr>\n  </thead>\n  <tbody>\n    <tr>\n      <th>8849</th>\n      <td>79249</td>\n      <td>갈릭치즈브래드</td>\n      <td>빵</td>\n      <td></td>\n      <td>기타 빵류</td>\n      <td>290</td>\n      <td>g</td>\n      <td>290</td>\n      <td>-</td>\n      <td>8.00</td>\n    </tr>\n    <tr>\n      <th>8850</th>\n      <td>79250</td>\n      <td>허니브래드</td>\n      <td>빵</td>\n      <td></td>\n      <td>기타 빵류</td>\n      <td>279</td>\n      <td>g</td>\n      <td>279</td>\n      <td>-</td>\n      <td>20.00</td>\n    </tr>\n    <tr>\n      <th>8879</th>\n      <td>80368</td>\n      <td>햄치즈 피아디나</td>\n      <td>빵</td>\n      <td></td>\n      <td>기타 빵류</td>\n      <td>165</td>\n      <td>g</td>\n      <td>165</td>\n      <td>-</td>\n      <td>1.12</td>\n    </tr>\n    <tr>\n      <th>8895</th>\n      <td>80843</td>\n      <td>파파 베이크 (불고기)</td>\n      <td>빵</td>\n      <td></td>\n      <td>기타 빵류</td>\n      <td>152</td>\n      <td>g</td>\n      <td>305</td>\n      <td>-</td>\n      <td>6.00</td>\n    </tr>\n    <tr>\n      <th>8896</th>\n      <td>80844</td>\n      <td>파파 베이크 (핫치킨)</td>\n      <td>빵</td>\n      <td></td>\n      <td>기타 빵류</td>\n      <td>156</td>\n      <td>g</td>\n      <td>312.5</td>\n      <td>-</td>\n      <td>6.00</td>\n    </tr>\n    <tr>\n      <th>...</th>\n      <td>...</td>\n      <td>...</td>\n      <td>...</td>\n      <td>...</td>\n      <td>...</td>\n      <td>...</td>\n      <td>...</td>\n      <td>...</td>\n      <td>...</td>\n      <td>...</td>\n    </tr>\n    <tr>\n      <th>41805</th>\n      <td>85299</td>\n      <td>아메리칸스페셜(M)</td>\n      <td>빵</td>\n      <td></td>\n      <td>피자류</td>\n      <td>123</td>\n      <td>g</td>\n      <td>738</td>\n      <td>-</td>\n      <td>4.00</td>\n    </tr>\n    <tr>\n      <th>41806</th>\n      <td>85300</td>\n      <td>레드핫치킨(BL)</td>\n      <td>빵</td>\n      <td></td>\n      <td>피자류</td>\n      <td>170</td>\n      <td>g</td>\n      <td>2040</td>\n      <td>-</td>\n      <td>8.00</td>\n    </tr>\n    <tr>\n      <th>41807</th>\n      <td>85301</td>\n      <td>레드핫치킨(L)</td>\n      <td>빵</td>\n      <td></td>\n      <td>피자류</td>\n      <td>146</td>\n      <td>g</td>\n      <td>1170</td>\n      <td>-</td>\n      <td>7.00</td>\n    </tr>\n    <tr>\n      <th>41808</th>\n      <td>85302</td>\n      <td>레드핫치킨(M)</td>\n      <td>빵</td>\n      <td></td>\n      <td>피자류</td>\n      <td>130</td>\n      <td>g</td>\n      <td>780</td>\n      <td>-</td>\n      <td>6.00</td>\n    </tr>\n    <tr>\n      <th>41809</th>\n      <td>85318</td>\n      <td>고구마 샐러드</td>\n      <td>빵</td>\n      <td></td>\n      <td>피자류</td>\n      <td>112</td>\n      <td>g</td>\n      <td>671</td>\n      <td>-</td>\n      <td>10.00</td>\n    </tr>\n  </tbody>\n</table>\n<p>4452 rows × 10 columns</p>\n</div>"
     },
     "execution_count": 112,
     "metadata": {},
     "output_type": "execute_result"
    }
   ],
   "source": [
    "sheet.loc[(sheet[\"중분류\"] == \"\") & (sheet['대분류'] == '빵'), :]"
   ],
   "metadata": {
    "collapsed": false,
    "pycharm": {
     "name": "#%%\n"
    }
   }
  },
  {
   "cell_type": "code",
   "execution_count": 113,
   "outputs": [],
   "source": [
    "sheet = sheet.drop(sheet.loc[(sheet[\"중분류\"] == \"\") & (sheet['대분류'] == '빵'), :].index)"
   ],
   "metadata": {
    "collapsed": false,
    "pycharm": {
     "name": "#%%\n"
    }
   }
  },
  {
   "cell_type": "markdown",
   "source": [],
   "metadata": {
    "collapsed": false,
    "pycharm": {
     "name": "#%% md\n"
    }
   }
  },
  {
   "cell_type": "code",
   "execution_count": 114,
   "outputs": [],
   "source": [
    "# 피자, 햄버거, 과자 지우기\n",
    "# 케이크 -> 케에 v\n",
    "# 크루아상 -> 크루와상 v\n",
    "# 피낭시에 -> 휘낭시에 v\n",
    "# 브레드 -> 빵류 v\n",
    "# 효모빵 -> 빵류 v\n",
    "# 찰깨빵 -> 빵류 v\n",
    "# 또르띠아, 밀또띠아 -> 또띠아 변경 v"
   ],
   "metadata": {
    "collapsed": false,
    "pycharm": {
     "name": "#%%\n"
    }
   }
  },
  {
   "cell_type": "code",
   "execution_count": 115,
   "outputs": [
    {
     "data": {
      "text/plain": "Empty DataFrame\nColumns: [No, 식품명, 대분류, 중분류, 소분류, 1회 제공량, 용량, 총내용량(g), 총내용량(ml), 총당류(g)]\nIndex: []",
      "text/html": "<div>\n<style scoped>\n    .dataframe tbody tr th:only-of-type {\n        vertical-align: middle;\n    }\n\n    .dataframe tbody tr th {\n        vertical-align: top;\n    }\n\n    .dataframe thead th {\n        text-align: right;\n    }\n</style>\n<table border=\"1\" class=\"dataframe\">\n  <thead>\n    <tr style=\"text-align: right;\">\n      <th></th>\n      <th>No</th>\n      <th>식품명</th>\n      <th>대분류</th>\n      <th>중분류</th>\n      <th>소분류</th>\n      <th>1회 제공량</th>\n      <th>용량</th>\n      <th>총내용량(g)</th>\n      <th>총내용량(ml)</th>\n      <th>총당류(g)</th>\n    </tr>\n  </thead>\n  <tbody>\n  </tbody>\n</table>\n</div>"
     },
     "execution_count": 115,
     "metadata": {},
     "output_type": "execute_result"
    }
   ],
   "source": [
    "sheet.loc[(sheet[\"중분류\"] == \"\") & (sheet['대분류'] == '빵'), :]"
   ],
   "metadata": {
    "collapsed": false,
    "pycharm": {
     "name": "#%%\n"
    }
   }
  },
  {
   "cell_type": "code",
   "execution_count": 116,
   "outputs": [
    {
     "data": {
      "text/plain": "          No             식품명 대분류   중분류    소분류  1회 제공량 용량 총내용량(g) 총내용량(ml)  \\\n8816   78740       치즈볼&바게트스틱   빵    빵류  기타 빵류     290  g     290        -   \n8817   78742           바게트스틱   빵    스틱  기타 빵류      85  g      85        -   \n8818   78750           브래드스틱   빵    스틱  기타 빵류     220  g     220        -   \n8819   78753          팥치즈반달빵   빵    빵류  기타 빵류     337  g     337        -   \n8820   78954        플레인 에그디쉬   빵  에그디쉬  기타 빵류     172  g     172        -   \n...      ...             ...  ..   ...    ...     ... ..     ...      ...   \n42135  67835          정직한핫도그   빵   핫도그    핫도그      50  g     500        -   \n42136  67836        추억의옛날핫도그   빵   핫도그    핫도그     110  g     550        -   \n42137  67837  푸딩분식 옛날감자치즈핫도그   빵   핫도그    핫도그     150  g     750        -   \n42138  67838      푸딩분식 옛날핫도그   빵   핫도그    핫도그     140  g     700        -   \n42139  67839       프리미엄옛날핫도그   빵   핫도그    핫도그     110  g     550        -   \n\n       총당류(g)  \n8816     39.0  \n8817     11.0  \n8818      8.0  \n8819     20.0  \n8820     26.5  \n...       ...  \n42135     4.0  \n42136     4.0  \n42137    11.0  \n42138    16.0  \n42139    13.0  \n\n[8811 rows x 10 columns]",
      "text/html": "<div>\n<style scoped>\n    .dataframe tbody tr th:only-of-type {\n        vertical-align: middle;\n    }\n\n    .dataframe tbody tr th {\n        vertical-align: top;\n    }\n\n    .dataframe thead th {\n        text-align: right;\n    }\n</style>\n<table border=\"1\" class=\"dataframe\">\n  <thead>\n    <tr style=\"text-align: right;\">\n      <th></th>\n      <th>No</th>\n      <th>식품명</th>\n      <th>대분류</th>\n      <th>중분류</th>\n      <th>소분류</th>\n      <th>1회 제공량</th>\n      <th>용량</th>\n      <th>총내용량(g)</th>\n      <th>총내용량(ml)</th>\n      <th>총당류(g)</th>\n    </tr>\n  </thead>\n  <tbody>\n    <tr>\n      <th>8816</th>\n      <td>78740</td>\n      <td>치즈볼&amp;바게트스틱</td>\n      <td>빵</td>\n      <td>빵류</td>\n      <td>기타 빵류</td>\n      <td>290</td>\n      <td>g</td>\n      <td>290</td>\n      <td>-</td>\n      <td>39.0</td>\n    </tr>\n    <tr>\n      <th>8817</th>\n      <td>78742</td>\n      <td>바게트스틱</td>\n      <td>빵</td>\n      <td>스틱</td>\n      <td>기타 빵류</td>\n      <td>85</td>\n      <td>g</td>\n      <td>85</td>\n      <td>-</td>\n      <td>11.0</td>\n    </tr>\n    <tr>\n      <th>8818</th>\n      <td>78750</td>\n      <td>브래드스틱</td>\n      <td>빵</td>\n      <td>스틱</td>\n      <td>기타 빵류</td>\n      <td>220</td>\n      <td>g</td>\n      <td>220</td>\n      <td>-</td>\n      <td>8.0</td>\n    </tr>\n    <tr>\n      <th>8819</th>\n      <td>78753</td>\n      <td>팥치즈반달빵</td>\n      <td>빵</td>\n      <td>빵류</td>\n      <td>기타 빵류</td>\n      <td>337</td>\n      <td>g</td>\n      <td>337</td>\n      <td>-</td>\n      <td>20.0</td>\n    </tr>\n    <tr>\n      <th>8820</th>\n      <td>78954</td>\n      <td>플레인 에그디쉬</td>\n      <td>빵</td>\n      <td>에그디쉬</td>\n      <td>기타 빵류</td>\n      <td>172</td>\n      <td>g</td>\n      <td>172</td>\n      <td>-</td>\n      <td>26.5</td>\n    </tr>\n    <tr>\n      <th>...</th>\n      <td>...</td>\n      <td>...</td>\n      <td>...</td>\n      <td>...</td>\n      <td>...</td>\n      <td>...</td>\n      <td>...</td>\n      <td>...</td>\n      <td>...</td>\n      <td>...</td>\n    </tr>\n    <tr>\n      <th>42135</th>\n      <td>67835</td>\n      <td>정직한핫도그</td>\n      <td>빵</td>\n      <td>핫도그</td>\n      <td>핫도그</td>\n      <td>50</td>\n      <td>g</td>\n      <td>500</td>\n      <td>-</td>\n      <td>4.0</td>\n    </tr>\n    <tr>\n      <th>42136</th>\n      <td>67836</td>\n      <td>추억의옛날핫도그</td>\n      <td>빵</td>\n      <td>핫도그</td>\n      <td>핫도그</td>\n      <td>110</td>\n      <td>g</td>\n      <td>550</td>\n      <td>-</td>\n      <td>4.0</td>\n    </tr>\n    <tr>\n      <th>42137</th>\n      <td>67837</td>\n      <td>푸딩분식 옛날감자치즈핫도그</td>\n      <td>빵</td>\n      <td>핫도그</td>\n      <td>핫도그</td>\n      <td>150</td>\n      <td>g</td>\n      <td>750</td>\n      <td>-</td>\n      <td>11.0</td>\n    </tr>\n    <tr>\n      <th>42138</th>\n      <td>67838</td>\n      <td>푸딩분식 옛날핫도그</td>\n      <td>빵</td>\n      <td>핫도그</td>\n      <td>핫도그</td>\n      <td>140</td>\n      <td>g</td>\n      <td>700</td>\n      <td>-</td>\n      <td>16.0</td>\n    </tr>\n    <tr>\n      <th>42139</th>\n      <td>67839</td>\n      <td>프리미엄옛날핫도그</td>\n      <td>빵</td>\n      <td>핫도그</td>\n      <td>핫도그</td>\n      <td>110</td>\n      <td>g</td>\n      <td>550</td>\n      <td>-</td>\n      <td>13.0</td>\n    </tr>\n  </tbody>\n</table>\n<p>8811 rows × 10 columns</p>\n</div>"
     },
     "execution_count": 116,
     "metadata": {},
     "output_type": "execute_result"
    }
   ],
   "source": [
    "sheet.loc[sheet[\"대분류\"] == '빵', :]"
   ],
   "metadata": {
    "collapsed": false,
    "pycharm": {
     "name": "#%%\n"
    }
   }
  },
  {
   "cell_type": "code",
   "execution_count": 117,
   "outputs": [
    {
     "data": {
      "text/plain": "          No                 식품명 대분류 중분류   소분류  1회 제공량  용량 총내용량(g) 총내용량(ml)  \\\n0      10397           삼육두유검은콩칼슘  음료      가공두유     190  mL       -      190   \n1      10398         베지밀검은콩두유고칼슘  음료      가공두유     190  mL       -      190   \n2      10399             달콤한베지밀비  음료      가공두유     100  mL       -      950   \n3      10400       삼육두유검은콩호두와아몬드  음료      가공두유     140  mL       -      140   \n4      10401            담백한베지밀에이  음료      가공두유     190  mL       -      190   \n...      ...                 ...  ..  ..   ...     ...  ..     ...      ...   \n44527  68092  유기농 햇살깃든 현미자색고구마식혜  음료      혼합음료     100  mL       -      340   \n44528  68098              미에로화이바  음료      혼합음료     100   g    1000        -   \n44529  68099                 비타업  음료      혼합음료     100   g     100        -   \n44530  68100            아로골드D플러스  음료      혼합음료     100   g    1000        -   \n44531  68152        유믹스 모히또맛 에이드  음료      혼합음료     100   g    1000        -   \n\n       총당류(g)  \n0        10.0  \n1        10.0  \n2         5.0  \n3        10.0  \n4         6.0  \n...       ...  \n44527    11.0  \n44528     7.0  \n44529     9.0  \n44530     4.0  \n44531    11.0  \n\n[10544 rows x 10 columns]",
      "text/html": "<div>\n<style scoped>\n    .dataframe tbody tr th:only-of-type {\n        vertical-align: middle;\n    }\n\n    .dataframe tbody tr th {\n        vertical-align: top;\n    }\n\n    .dataframe thead th {\n        text-align: right;\n    }\n</style>\n<table border=\"1\" class=\"dataframe\">\n  <thead>\n    <tr style=\"text-align: right;\">\n      <th></th>\n      <th>No</th>\n      <th>식품명</th>\n      <th>대분류</th>\n      <th>중분류</th>\n      <th>소분류</th>\n      <th>1회 제공량</th>\n      <th>용량</th>\n      <th>총내용량(g)</th>\n      <th>총내용량(ml)</th>\n      <th>총당류(g)</th>\n    </tr>\n  </thead>\n  <tbody>\n    <tr>\n      <th>0</th>\n      <td>10397</td>\n      <td>삼육두유검은콩칼슘</td>\n      <td>음료</td>\n      <td></td>\n      <td>가공두유</td>\n      <td>190</td>\n      <td>mL</td>\n      <td>-</td>\n      <td>190</td>\n      <td>10.0</td>\n    </tr>\n    <tr>\n      <th>1</th>\n      <td>10398</td>\n      <td>베지밀검은콩두유고칼슘</td>\n      <td>음료</td>\n      <td></td>\n      <td>가공두유</td>\n      <td>190</td>\n      <td>mL</td>\n      <td>-</td>\n      <td>190</td>\n      <td>10.0</td>\n    </tr>\n    <tr>\n      <th>2</th>\n      <td>10399</td>\n      <td>달콤한베지밀비</td>\n      <td>음료</td>\n      <td></td>\n      <td>가공두유</td>\n      <td>100</td>\n      <td>mL</td>\n      <td>-</td>\n      <td>950</td>\n      <td>5.0</td>\n    </tr>\n    <tr>\n      <th>3</th>\n      <td>10400</td>\n      <td>삼육두유검은콩호두와아몬드</td>\n      <td>음료</td>\n      <td></td>\n      <td>가공두유</td>\n      <td>140</td>\n      <td>mL</td>\n      <td>-</td>\n      <td>140</td>\n      <td>10.0</td>\n    </tr>\n    <tr>\n      <th>4</th>\n      <td>10401</td>\n      <td>담백한베지밀에이</td>\n      <td>음료</td>\n      <td></td>\n      <td>가공두유</td>\n      <td>190</td>\n      <td>mL</td>\n      <td>-</td>\n      <td>190</td>\n      <td>6.0</td>\n    </tr>\n    <tr>\n      <th>...</th>\n      <td>...</td>\n      <td>...</td>\n      <td>...</td>\n      <td>...</td>\n      <td>...</td>\n      <td>...</td>\n      <td>...</td>\n      <td>...</td>\n      <td>...</td>\n      <td>...</td>\n    </tr>\n    <tr>\n      <th>44527</th>\n      <td>68092</td>\n      <td>유기농 햇살깃든 현미자색고구마식혜</td>\n      <td>음료</td>\n      <td></td>\n      <td>혼합음료</td>\n      <td>100</td>\n      <td>mL</td>\n      <td>-</td>\n      <td>340</td>\n      <td>11.0</td>\n    </tr>\n    <tr>\n      <th>44528</th>\n      <td>68098</td>\n      <td>미에로화이바</td>\n      <td>음료</td>\n      <td></td>\n      <td>혼합음료</td>\n      <td>100</td>\n      <td>g</td>\n      <td>1000</td>\n      <td>-</td>\n      <td>7.0</td>\n    </tr>\n    <tr>\n      <th>44529</th>\n      <td>68099</td>\n      <td>비타업</td>\n      <td>음료</td>\n      <td></td>\n      <td>혼합음료</td>\n      <td>100</td>\n      <td>g</td>\n      <td>100</td>\n      <td>-</td>\n      <td>9.0</td>\n    </tr>\n    <tr>\n      <th>44530</th>\n      <td>68100</td>\n      <td>아로골드D플러스</td>\n      <td>음료</td>\n      <td></td>\n      <td>혼합음료</td>\n      <td>100</td>\n      <td>g</td>\n      <td>1000</td>\n      <td>-</td>\n      <td>4.0</td>\n    </tr>\n    <tr>\n      <th>44531</th>\n      <td>68152</td>\n      <td>유믹스 모히또맛 에이드</td>\n      <td>음료</td>\n      <td></td>\n      <td>혼합음료</td>\n      <td>100</td>\n      <td>g</td>\n      <td>1000</td>\n      <td>-</td>\n      <td>11.0</td>\n    </tr>\n  </tbody>\n</table>\n<p>10544 rows × 10 columns</p>\n</div>"
     },
     "execution_count": 117,
     "metadata": {},
     "output_type": "execute_result"
    }
   ],
   "source": [
    "sheet.loc[sheet[\"대분류\"] == '음료', :]"
   ],
   "metadata": {
    "collapsed": false,
    "pycharm": {
     "name": "#%%\n"
    }
   }
  },
  {
   "cell_type": "code",
   "execution_count": 118,
   "outputs": [
    {
     "data": {
      "text/plain": "array(['가공두유', '고형차', '과/채음료', '과/채주스', '과일.채소음료류', '기타 음료류', '기타발효음료',\n       '농축과/채즙(또는 과/채분)', '스무디류', '액상차', '우유.유제품류', '원액두유', '유산균음료',\n       '인삼/홍삼음료', '차류', '커피류', '탄산음료', '탄산음료류', '혼합음료'], dtype=object)"
     },
     "execution_count": 118,
     "metadata": {},
     "output_type": "execute_result"
    }
   ],
   "source": [
    "sheet.loc[sheet[\"대분류\"] == '음료', '소분류'].unique()"
   ],
   "metadata": {
    "collapsed": false,
    "pycharm": {
     "name": "#%%\n"
    }
   }
  },
  {
   "cell_type": "code",
   "execution_count": 119,
   "outputs": [],
   "source": [
    "beverage_middle_category = [\n",
    " \"차\",\n",
    " \"스무디\"\n",
    "]\n",
    "\n",
    "for value in beverage_middle_category:\n",
    " middleCategoryChanger(sheet, value, '음료', value)\n"
   ],
   "metadata": {
    "collapsed": false,
    "pycharm": {
     "name": "#%%\n"
    }
   }
  },
  {
   "cell_type": "code",
   "execution_count": 120,
   "outputs": [
    {
     "data": {
      "text/plain": "          No                   식품명  대분류  중분류     소분류  1회 제공량  용량 총내용량(g)  \\\n0      10397             삼육두유검은콩칼슘   음료  유제품    가공두유     190  mL       -   \n1      10398           베지밀검은콩두유고칼슘   음료  유제품    가공두유     190  mL       -   \n2      10399               달콤한베지밀비   음료  유제품    가공두유     100  mL       -   \n3      10400         삼육두유검은콩호두와아몬드   음료  유제품    가공두유     140  mL       -   \n4      10401              담백한베지밀에이   음료  유제품    가공두유     190  mL       -   \n...      ...                   ...  ...  ...     ...     ...  ..     ...   \n44659  59687       모리나가 다스 화이트 초콜릿  초콜릿       화이트초콜릿      42   g      42   \n44660  60615                화이트보뇌르  초콜릿       화이트초콜릿      30   g      50   \n44661  61033       토블론 스위스 화이트 초콜릿  초콜릿       화이트초콜릿     100   g     100   \n44662  61439          명인명촌 현미칩 초콜릿  초콜릿       화이트초콜릿      65   g      65   \n44663  64772  바이오 화이트 초콜릿 요거트 & 딸기  초콜릿       화이트초콜릿     100   g     100   \n\n      총내용량(ml)  총당류(g)  \n0          190    10.0  \n1          190    10.0  \n2          950     5.0  \n3          140    10.0  \n4          190     6.0  \n...        ...     ...  \n44659        -    20.4  \n44660        -    13.0  \n44661        -    63.0  \n44662        -    26.0  \n44663        -    51.7  \n\n[40212 rows x 10 columns]",
      "text/html": "<div>\n<style scoped>\n    .dataframe tbody tr th:only-of-type {\n        vertical-align: middle;\n    }\n\n    .dataframe tbody tr th {\n        vertical-align: top;\n    }\n\n    .dataframe thead th {\n        text-align: right;\n    }\n</style>\n<table border=\"1\" class=\"dataframe\">\n  <thead>\n    <tr style=\"text-align: right;\">\n      <th></th>\n      <th>No</th>\n      <th>식품명</th>\n      <th>대분류</th>\n      <th>중분류</th>\n      <th>소분류</th>\n      <th>1회 제공량</th>\n      <th>용량</th>\n      <th>총내용량(g)</th>\n      <th>총내용량(ml)</th>\n      <th>총당류(g)</th>\n    </tr>\n  </thead>\n  <tbody>\n    <tr>\n      <th>0</th>\n      <td>10397</td>\n      <td>삼육두유검은콩칼슘</td>\n      <td>음료</td>\n      <td>유제품</td>\n      <td>가공두유</td>\n      <td>190</td>\n      <td>mL</td>\n      <td>-</td>\n      <td>190</td>\n      <td>10.0</td>\n    </tr>\n    <tr>\n      <th>1</th>\n      <td>10398</td>\n      <td>베지밀검은콩두유고칼슘</td>\n      <td>음료</td>\n      <td>유제품</td>\n      <td>가공두유</td>\n      <td>190</td>\n      <td>mL</td>\n      <td>-</td>\n      <td>190</td>\n      <td>10.0</td>\n    </tr>\n    <tr>\n      <th>2</th>\n      <td>10399</td>\n      <td>달콤한베지밀비</td>\n      <td>음료</td>\n      <td>유제품</td>\n      <td>가공두유</td>\n      <td>100</td>\n      <td>mL</td>\n      <td>-</td>\n      <td>950</td>\n      <td>5.0</td>\n    </tr>\n    <tr>\n      <th>3</th>\n      <td>10400</td>\n      <td>삼육두유검은콩호두와아몬드</td>\n      <td>음료</td>\n      <td>유제품</td>\n      <td>가공두유</td>\n      <td>140</td>\n      <td>mL</td>\n      <td>-</td>\n      <td>140</td>\n      <td>10.0</td>\n    </tr>\n    <tr>\n      <th>4</th>\n      <td>10401</td>\n      <td>담백한베지밀에이</td>\n      <td>음료</td>\n      <td>유제품</td>\n      <td>가공두유</td>\n      <td>190</td>\n      <td>mL</td>\n      <td>-</td>\n      <td>190</td>\n      <td>6.0</td>\n    </tr>\n    <tr>\n      <th>...</th>\n      <td>...</td>\n      <td>...</td>\n      <td>...</td>\n      <td>...</td>\n      <td>...</td>\n      <td>...</td>\n      <td>...</td>\n      <td>...</td>\n      <td>...</td>\n      <td>...</td>\n    </tr>\n    <tr>\n      <th>44659</th>\n      <td>59687</td>\n      <td>모리나가 다스 화이트 초콜릿</td>\n      <td>초콜릿</td>\n      <td></td>\n      <td>화이트초콜릿</td>\n      <td>42</td>\n      <td>g</td>\n      <td>42</td>\n      <td>-</td>\n      <td>20.4</td>\n    </tr>\n    <tr>\n      <th>44660</th>\n      <td>60615</td>\n      <td>화이트보뇌르</td>\n      <td>초콜릿</td>\n      <td></td>\n      <td>화이트초콜릿</td>\n      <td>30</td>\n      <td>g</td>\n      <td>50</td>\n      <td>-</td>\n      <td>13.0</td>\n    </tr>\n    <tr>\n      <th>44661</th>\n      <td>61033</td>\n      <td>토블론 스위스 화이트 초콜릿</td>\n      <td>초콜릿</td>\n      <td></td>\n      <td>화이트초콜릿</td>\n      <td>100</td>\n      <td>g</td>\n      <td>100</td>\n      <td>-</td>\n      <td>63.0</td>\n    </tr>\n    <tr>\n      <th>44662</th>\n      <td>61439</td>\n      <td>명인명촌 현미칩 초콜릿</td>\n      <td>초콜릿</td>\n      <td></td>\n      <td>화이트초콜릿</td>\n      <td>65</td>\n      <td>g</td>\n      <td>65</td>\n      <td>-</td>\n      <td>26.0</td>\n    </tr>\n    <tr>\n      <th>44663</th>\n      <td>64772</td>\n      <td>바이오 화이트 초콜릿 요거트 &amp; 딸기</td>\n      <td>초콜릿</td>\n      <td></td>\n      <td>화이트초콜릿</td>\n      <td>100</td>\n      <td>g</td>\n      <td>100</td>\n      <td>-</td>\n      <td>51.7</td>\n    </tr>\n  </tbody>\n</table>\n<p>40212 rows × 10 columns</p>\n</div>"
     },
     "execution_count": 120,
     "metadata": {},
     "output_type": "execute_result"
    }
   ],
   "source": [
    "middleCategoryChanger(sheet, '티', '음료', '차')\n",
    "middleCategoryChanger(sheet, '히비스커스', '음료', '차')\n",
    "middleCategoryChanger(sheet, '루이보스', '음료', '차')\n",
    "middleCategoryChanger(sheet, '콤푸차', '음료', '차')\n",
    "middleCategoryChanger(sheet, '오미자', '음료', '차')\n",
    "middleCategoryChanger(sheet, '율무차', '음료', '차')\n",
    "middleCategoryChanger(sheet, '모과', '음료', '차')\n",
    "middleCategoryChanger(sheet, '대추', '음료', '차')\n",
    "middleCategoryChanger(sheet, '생강차', '음료', '차')\n",
    "# 과일음료와 채소음료로 카테고리 분류하기\n",
    "middleCategoryChanger(sheet, '망고', '음료', '과/채음료')\n",
    "middleCategoryChanger(sheet, '레모네이드', '음료', '과/채음료')\n",
    "middleCategoryChanger(sheet, '바나나', '음료', '과/채음료')\n",
    "middleCategoryChanger(sheet, '살구', '음료', '과/채음료')\n",
    "middleCategoryChanger(sheet, '복분실', '음료', '과/채음료')\n",
    "middleCategoryChanger(sheet, '키위', '음료', '과/채음료')\n",
    "middleCategoryChanger(sheet, '블루베리', '음료', '과/채음료')\n",
    "middleCategoryChanger(sheet, '홍시', '음료', '과/채음료')\n",
    "middleCategoryChanger(sheet, '깔라만시', '음료', '과/채음료')\n",
    "middleCategoryChanger(sheet, '크랜베리', '음료', '과/채음료')\n",
    "middleCategoryChanger(sheet, '체리', '음료', '과/채음료')\n",
    "middleCategoryChanger(sheet, '수박', '음료', '과/채음료')\n",
    "middleCategoryChanger(sheet, '무화과', '음료', '과/채음료')\n",
    "middleCategoryChanger(sheet, '푸룬', '음료', '과/채음료')\n",
    "middleCategoryChanger(sheet, '비트', '음료', '과/채음료')\n",
    "middleCategoryChanger(sheet, '녹즙', '음료', '과/채음료')\n",
    "middleCategoryChanger(sheet, '아로니아', '음료', '과/채음료')\n",
    "middleCategoryChanger(sheet, '코코', '음료', '과/채음료')\n",
    "middleCategoryChanger(sheet, '유자', '음료', '과/채음료')\n",
    "middleCategoryChanger(sheet, '레몬', '음료', '과/채음료')\n",
    "middleCategoryChanger(sheet, '당근', '음료', '과/채음료')\n",
    "middleCategoryChanger(sheet, '야채', '음료', '과/채음료')\n",
    "middleCategoryChanger(sheet, '자두', '음료', '과/채음료')\n",
    "middleCategoryChanger(sheet, '양파', '음료', '과/채음료')\n",
    "middleCategoryChanger(sheet, '배', '음료', '과/채음료')\n",
    "middleCategoryChanger(sheet, '리치', '음료', '과/채음료')\n",
    "middleCategoryChanger(sheet, '도라지', '음료', '과/채음료')\n",
    "middleCategoryChanger(sheet, '양배추', '음료', '과/채음료')\n",
    "middleCategoryChanger(sheet, '오미자', '음료', '과/채음료')\n",
    "middleCategoryChanger(sheet, '바질', '음료', '과/채음료')\n",
    "middleCategoryChanger(sheet, '시금치', '음료', '과/채음료')\n",
    "middleCategoryChanger(sheet, '호박', '음료', '과/채음료')\n",
    "middleCategoryChanger(sheet, '망고', '음료', '과/채음료')\n",
    "middleCategoryChanger(sheet, '감귤', '음료', '과/채음료')\n",
    "middleCategoryChanger(sheet, '포도', '음료', '과/채음료')\n",
    "middleCategoryChanger(sheet, '쑥', '음료', '과/채음료')\n",
    "middleCategoryChanger(sheet, '노니', '음료', '과/채음료')\n",
    "middleCategoryChanger(sheet, '오렌지', '음료', '과/채음료')\n",
    "middleCategoryChanger(sheet, '노니', '음료', '과/채음료')\n",
    "middleCategoryChanger(sheet, '카프리썬', '음료', '과/채음료')\n",
    "middleCategoryChanger(sheet, '딸기', '음료', '과/채음료')\n",
    "middleCategoryChanger(sheet, '사과', '음료', '과/채음료')\n",
    "middleCategoryChanger(sheet, '애플', '음료', '과/채음료')\n",
    "middleCategoryChanger(sheet, '복숭아', '음료', '과/채음료')\n",
    "middleCategoryChanger(sheet, '청포도', '음료', '과/채음료')\n",
    "middleCategoryChanger(sheet, 'Orange', '음료', '과/채음료')\n",
    "middleCategoryChanger(sheet, '매실', '음료', '과/채음료')\n",
    "middleCategoryChanger(sheet, '석류', '음료', '과/채음료')\n",
    "middleCategoryChanger(sheet, '자몽', '음료', '과/채음료')\n",
    "middleCategoryChanger(sheet, '토마토', '음료', '과/채음료')\n",
    "middleCategoryChanger(sheet, '알로에', '음료', '과/채음료')\n",
    "#\n",
    "middleCategoryChanger(sheet, '라떼', '음료', '유제품')\n",
    "middleCategoryChanger(sheet, '베지밀', '음료', '유제품')\n",
    "middleCategoryChanger(sheet, '초코', '음료', '유제품')\n",
    "middleCategoryChanger(sheet, '두유', '음료', '유제품')\n",
    "middleCategoryChanger(sheet, '우유', '음료', '유제품')\n",
    "middleCategoryChanger(sheet, '밀크', '음료', '유제품')\n",
    "middleCategoryChanger(sheet, '버블', '음료', '유제품')\n",
    "middleCategoryChanger(sheet, '아몬드', '음료', '유제품')\n",
    "middleCategoryChanger(sheet, '오트밀', '음료', '유제품')\n",
    "middleCategoryChanger(sheet, '닥터유', '음료', '유제품')\n",
    "middleCategoryChanger(sheet, '쵸코', '음료', '유제품')\n",
    "middleCategoryChanger(sheet, '귀리', '음료', '유제품')\n",
    "middleCategoryChanger(sheet, '캐슈넛', '음료', '유제품')\n",
    "middleCategoryChanger(sheet, '땅콩', '음료', '유제품')\n",
    "middleCategoryChanger(sheet, '프로틴', '음료', '유제품')\n",
    "#\n",
    "middleCategoryChanger(sheet, '발효', '음료', '발효음료')\n",
    "middleCategoryChanger(sheet, '식혜', '음료', '발효음료')\n",
    "middleCategoryChanger(sheet, '수정과', '음료', '발효음료')\n",
    "#\n",
    "middleCategoryChanger(sheet, '블렌디', '음료', '스무디')\n",
    "middleCategoryChanger(sheet, '프라페', '음료', '스무디')\n",
    "middleCategoryChanger(sheet, '쉐이크', '음료', '스무디')\n",
    "middleCategoryChanger(sheet, '탐앤치노', '음료', '스무디')\n",
    "middleCategoryChanger(sheet, '프로스트', '음료', '스무디')\n",
    "middleCategoryChanger(sheet, '그라니따', '음료', '스무디')\n",
    "middleCategoryChanger(sheet, '프라푸치노', '음료', '스무디')\n",
    "middleCategoryChanger(sheet, '플렛치노', '음료', '스무디')\n",
    "middleCategoryChanger(sheet, '빽스치노', '음료', '스무디')\n",
    "middleCategoryChanger(sheet, '할라치노', '음료', '스무디')\n",
    "#\n",
    "middleCategoryChanger(sheet, '인삼', '음료', '인삼/홍삼음료')\n",
    "middleCategoryChanger(sheet, '홍삼', '음료', '인삼/홍삼음료')\n",
    "middleCategoryChanger(sheet, '활기력', '음료', '인삼/홍삼음료')\n",
    "#\n",
    "middleCategoryChanger(sheet, '아메리카노', '음료', '커피류')\n",
    "middleCategoryChanger(sheet, '카페라떼', '음료', '커피류')\n",
    "middleCategoryChanger(sheet, '카푸치노', '음료', '커피류')\n",
    "middleCategoryChanger(sheet, '더치', '음료', '커피류')\n",
    "middleCategoryChanger(sheet, '모카', '음료', '커피류')\n",
    "middleCategoryChanger(sheet, '브루', '음료', '커피류')\n",
    "middleCategoryChanger(sheet, '마끼아또', '음료', '커피류')\n",
    "middleCategoryChanger(sheet, '바닐라라떼', '음료', '커피류')\n",
    "middleCategoryChanger(sheet, '바닐라 라떼', '음료', '커피류')\n",
    "middleCategoryChanger(sheet, '토미넛라떼', '음료', '커피류')\n",
    "middleCategoryChanger(sheet, '연라떼', '음료', '커피류')\n",
    "middleCategoryChanger(sheet, '진저라떼', '음료', '커피류')\n",
    "middleCategoryChanger(sheet, '콜드브루', '음료', '커피류')\n",
    "middleCategoryChanger(sheet, '아포가토', '음료', '커피류')\n",
    "middleCategoryChanger(sheet, '연유', '음료', '커피류')\n",
    "middleCategoryChanger(sheet, '카라멜라떼', '음료', '커피류')\n",
    "middleCategoryChanger(sheet, '아인슈페너', '음료', '커피류')\n",
    "#\n",
    "middleCategoryChanger(sheet, '꿀보리헛개', '음료', '활력음료')\n",
    "middleCategoryChanger(sheet, '깨어라 천지개벽', '음료', '활력음료')\n",
    "middleCategoryChanger(sheet, '헛개', '음료', '활력음료')\n",
    "middleCategoryChanger(sheet, '비타', '음료', '활력음료')\n",
    "middleCategoryChanger(sheet, '상쾌한', '음료', '활력음료')\n",
    "middleCategoryChanger(sheet, '쌍화', '음료', '활력음료')\n",
    "middleCategoryChanger(sheet, '활력', '음료', '활력음료')\n",
    "middleCategoryChanger(sheet, '몸에좋은', '음료', '활력음료')\n",
    "middleCategoryChanger(sheet, '녹용', '음료', '활력음료')\n",
    "middleCategoryChanger(sheet, '침향', '음료', '활력음료')\n",
    "middleCategoryChanger(sheet, '콜라겐', '음료', '활력음료')\n",
    "middleCategoryChanger(sheet, '골드', '음료', '활력음료')\n",
    "middleCategoryChanger(sheet, '타우린', '음료', '활력음료')\n",
    "middleCategoryChanger(sheet, '모닝케어', '음료', '활력음료')\n",
    "middleCategoryChanger(sheet, '컨디션', '음료', '활력음료')\n",
    "#\n",
    "middleCategoryChanger(sheet, '에이드', '음료', '탄산음료')\n",
    "#\n",
    "middleCategoryChanger(sheet, '이온', '음료', '이온음료')\n",
    "middleCategoryChanger(sheet, '포카리', '음료', '이온음료')\n",
    "middleCategoryChanger(sheet, '아미노', '음료', '이온음료')\n",
    "middleCategoryChanger(sheet, '워터', '음료', '이온음료')\n",
    "middleCategoryChanger(sheet, '이프로', '음료', '이온음료')\n",
    "middleCategoryChanger(sheet, '토레타', '음료', '이온음료')"
   ],
   "metadata": {
    "collapsed": false,
    "pycharm": {
     "name": "#%%\n"
    }
   }
  },
  {
   "cell_type": "code",
   "execution_count": 121,
   "outputs": [
    {
     "data": {
      "text/plain": "          No                 식품명 대분류 중분류   소분류  1회 제공량  용량 총내용량(g) 총내용량(ml)  \\\n69     10467             원두밀 플러스  음료      가공두유     190  mL       -      190   \n87     10486         SoyU(쏘유)검은콩  음료      가공두유     190  mL       -      190   \n89     10488              서리태 97  음료      가공두유     190  mL       -      190   \n106    16736             소이타임하얀콩  음료      가공두유     190  mL       -      190   \n107    16737         소이타임하얀콩 24입  음료      가공두유     190  mL       -     4560   \n...      ...                 ...  ..  ..   ...     ...  ..     ...      ...   \n44509  67954  Sunkist 블루하와이 저칼로리  음료      혼합음료     340   g     340        -   \n44510  67955    Sunkist 블루하와이350  음료      혼합음료     350   g     350        -   \n44520  67965           헬로 팬돌이 블루  음료      혼합음료     240   g     240        -   \n44521  67966         헬로 팬돌이 솜사탕향  음료      혼합음료     280   g     280        -   \n44528  68098              미에로화이바  음료      혼합음료     100   g    1000        -   \n\n       총당류(g)  \n69        8.0  \n87       10.0  \n89        4.0  \n106       8.0  \n107       8.0  \n...       ...  \n44509    16.0  \n44510    41.0  \n44520    16.0  \n44521    16.0  \n44528     7.0  \n\n[1902 rows x 10 columns]",
      "text/html": "<div>\n<style scoped>\n    .dataframe tbody tr th:only-of-type {\n        vertical-align: middle;\n    }\n\n    .dataframe tbody tr th {\n        vertical-align: top;\n    }\n\n    .dataframe thead th {\n        text-align: right;\n    }\n</style>\n<table border=\"1\" class=\"dataframe\">\n  <thead>\n    <tr style=\"text-align: right;\">\n      <th></th>\n      <th>No</th>\n      <th>식품명</th>\n      <th>대분류</th>\n      <th>중분류</th>\n      <th>소분류</th>\n      <th>1회 제공량</th>\n      <th>용량</th>\n      <th>총내용량(g)</th>\n      <th>총내용량(ml)</th>\n      <th>총당류(g)</th>\n    </tr>\n  </thead>\n  <tbody>\n    <tr>\n      <th>69</th>\n      <td>10467</td>\n      <td>원두밀 플러스</td>\n      <td>음료</td>\n      <td></td>\n      <td>가공두유</td>\n      <td>190</td>\n      <td>mL</td>\n      <td>-</td>\n      <td>190</td>\n      <td>8.0</td>\n    </tr>\n    <tr>\n      <th>87</th>\n      <td>10486</td>\n      <td>SoyU(쏘유)검은콩</td>\n      <td>음료</td>\n      <td></td>\n      <td>가공두유</td>\n      <td>190</td>\n      <td>mL</td>\n      <td>-</td>\n      <td>190</td>\n      <td>10.0</td>\n    </tr>\n    <tr>\n      <th>89</th>\n      <td>10488</td>\n      <td>서리태 97</td>\n      <td>음료</td>\n      <td></td>\n      <td>가공두유</td>\n      <td>190</td>\n      <td>mL</td>\n      <td>-</td>\n      <td>190</td>\n      <td>4.0</td>\n    </tr>\n    <tr>\n      <th>106</th>\n      <td>16736</td>\n      <td>소이타임하얀콩</td>\n      <td>음료</td>\n      <td></td>\n      <td>가공두유</td>\n      <td>190</td>\n      <td>mL</td>\n      <td>-</td>\n      <td>190</td>\n      <td>8.0</td>\n    </tr>\n    <tr>\n      <th>107</th>\n      <td>16737</td>\n      <td>소이타임하얀콩 24입</td>\n      <td>음료</td>\n      <td></td>\n      <td>가공두유</td>\n      <td>190</td>\n      <td>mL</td>\n      <td>-</td>\n      <td>4560</td>\n      <td>8.0</td>\n    </tr>\n    <tr>\n      <th>...</th>\n      <td>...</td>\n      <td>...</td>\n      <td>...</td>\n      <td>...</td>\n      <td>...</td>\n      <td>...</td>\n      <td>...</td>\n      <td>...</td>\n      <td>...</td>\n      <td>...</td>\n    </tr>\n    <tr>\n      <th>44509</th>\n      <td>67954</td>\n      <td>Sunkist 블루하와이 저칼로리</td>\n      <td>음료</td>\n      <td></td>\n      <td>혼합음료</td>\n      <td>340</td>\n      <td>g</td>\n      <td>340</td>\n      <td>-</td>\n      <td>16.0</td>\n    </tr>\n    <tr>\n      <th>44510</th>\n      <td>67955</td>\n      <td>Sunkist 블루하와이350</td>\n      <td>음료</td>\n      <td></td>\n      <td>혼합음료</td>\n      <td>350</td>\n      <td>g</td>\n      <td>350</td>\n      <td>-</td>\n      <td>41.0</td>\n    </tr>\n    <tr>\n      <th>44520</th>\n      <td>67965</td>\n      <td>헬로 팬돌이 블루</td>\n      <td>음료</td>\n      <td></td>\n      <td>혼합음료</td>\n      <td>240</td>\n      <td>g</td>\n      <td>240</td>\n      <td>-</td>\n      <td>16.0</td>\n    </tr>\n    <tr>\n      <th>44521</th>\n      <td>67966</td>\n      <td>헬로 팬돌이 솜사탕향</td>\n      <td>음료</td>\n      <td></td>\n      <td>혼합음료</td>\n      <td>280</td>\n      <td>g</td>\n      <td>280</td>\n      <td>-</td>\n      <td>16.0</td>\n    </tr>\n    <tr>\n      <th>44528</th>\n      <td>68098</td>\n      <td>미에로화이바</td>\n      <td>음료</td>\n      <td></td>\n      <td>혼합음료</td>\n      <td>100</td>\n      <td>g</td>\n      <td>1000</td>\n      <td>-</td>\n      <td>7.0</td>\n    </tr>\n  </tbody>\n</table>\n<p>1902 rows × 10 columns</p>\n</div>"
     },
     "execution_count": 121,
     "metadata": {},
     "output_type": "execute_result"
    }
   ],
   "source": [
    "sheet.loc[(sheet['중분류'] == '') & (sheet['대분류'] == '음료'), :]"
   ],
   "metadata": {
    "collapsed": false,
    "pycharm": {
     "name": "#%%\n"
    }
   }
  },
  {
   "cell_type": "code",
   "execution_count": 122,
   "outputs": [],
   "source": [
    "sheet.loc[(sheet['소분류'] == '탄산음료') | (sheet['소분류'] == '탄산음료류'), '중분류'] = '탄산음료'"
   ],
   "metadata": {
    "collapsed": false,
    "pycharm": {
     "name": "#%%\n"
    }
   }
  },
  {
   "cell_type": "code",
   "execution_count": 123,
   "outputs": [],
   "source": [
    "sheet = sheet.drop(sheet.loc[(sheet['대분류'] == '음료') & (sheet['중분류'] == ''), :].index)"
   ],
   "metadata": {
    "collapsed": false,
    "pycharm": {
     "name": "#%%\n"
    }
   }
  },
  {
   "cell_type": "code",
   "execution_count": 124,
   "outputs": [
    {
     "data": {
      "text/plain": "          No                   식품명  대분류  중분류     소분류  1회 제공량  용량 총내용량(g)  \\\n0      10397             삼육두유검은콩칼슘   음료  유제품    가공두유     190  mL       -   \n1      10398           베지밀검은콩두유고칼슘   음료  유제품    가공두유     190  mL       -   \n2      10399               달콤한베지밀비   음료  유제품    가공두유     100  mL       -   \n3      10400         삼육두유검은콩호두와아몬드   음료  유제품    가공두유     140  mL       -   \n4      10401              담백한베지밀에이   음료  유제품    가공두유     190  mL       -   \n...      ...                   ...  ...  ...     ...     ...  ..     ...   \n44659  59687       모리나가 다스 화이트 초콜릿  초콜릿       화이트초콜릿      42   g      42   \n44660  60615                화이트보뇌르  초콜릿       화이트초콜릿      30   g      50   \n44661  61033       토블론 스위스 화이트 초콜릿  초콜릿       화이트초콜릿     100   g     100   \n44662  61439          명인명촌 현미칩 초콜릿  초콜릿       화이트초콜릿      65   g      65   \n44663  64772  바이오 화이트 초콜릿 요거트 & 딸기  초콜릿       화이트초콜릿     100   g     100   \n\n      총내용량(ml)  총당류(g)  \n0          190    10.0  \n1          190    10.0  \n2          950     5.0  \n3          140    10.0  \n4          190     6.0  \n...        ...     ...  \n44659        -    20.4  \n44660        -    13.0  \n44661        -    63.0  \n44662        -    26.0  \n44663        -    51.7  \n\n[38703 rows x 10 columns]",
      "text/html": "<div>\n<style scoped>\n    .dataframe tbody tr th:only-of-type {\n        vertical-align: middle;\n    }\n\n    .dataframe tbody tr th {\n        vertical-align: top;\n    }\n\n    .dataframe thead th {\n        text-align: right;\n    }\n</style>\n<table border=\"1\" class=\"dataframe\">\n  <thead>\n    <tr style=\"text-align: right;\">\n      <th></th>\n      <th>No</th>\n      <th>식품명</th>\n      <th>대분류</th>\n      <th>중분류</th>\n      <th>소분류</th>\n      <th>1회 제공량</th>\n      <th>용량</th>\n      <th>총내용량(g)</th>\n      <th>총내용량(ml)</th>\n      <th>총당류(g)</th>\n    </tr>\n  </thead>\n  <tbody>\n    <tr>\n      <th>0</th>\n      <td>10397</td>\n      <td>삼육두유검은콩칼슘</td>\n      <td>음료</td>\n      <td>유제품</td>\n      <td>가공두유</td>\n      <td>190</td>\n      <td>mL</td>\n      <td>-</td>\n      <td>190</td>\n      <td>10.0</td>\n    </tr>\n    <tr>\n      <th>1</th>\n      <td>10398</td>\n      <td>베지밀검은콩두유고칼슘</td>\n      <td>음료</td>\n      <td>유제품</td>\n      <td>가공두유</td>\n      <td>190</td>\n      <td>mL</td>\n      <td>-</td>\n      <td>190</td>\n      <td>10.0</td>\n    </tr>\n    <tr>\n      <th>2</th>\n      <td>10399</td>\n      <td>달콤한베지밀비</td>\n      <td>음료</td>\n      <td>유제품</td>\n      <td>가공두유</td>\n      <td>100</td>\n      <td>mL</td>\n      <td>-</td>\n      <td>950</td>\n      <td>5.0</td>\n    </tr>\n    <tr>\n      <th>3</th>\n      <td>10400</td>\n      <td>삼육두유검은콩호두와아몬드</td>\n      <td>음료</td>\n      <td>유제품</td>\n      <td>가공두유</td>\n      <td>140</td>\n      <td>mL</td>\n      <td>-</td>\n      <td>140</td>\n      <td>10.0</td>\n    </tr>\n    <tr>\n      <th>4</th>\n      <td>10401</td>\n      <td>담백한베지밀에이</td>\n      <td>음료</td>\n      <td>유제품</td>\n      <td>가공두유</td>\n      <td>190</td>\n      <td>mL</td>\n      <td>-</td>\n      <td>190</td>\n      <td>6.0</td>\n    </tr>\n    <tr>\n      <th>...</th>\n      <td>...</td>\n      <td>...</td>\n      <td>...</td>\n      <td>...</td>\n      <td>...</td>\n      <td>...</td>\n      <td>...</td>\n      <td>...</td>\n      <td>...</td>\n      <td>...</td>\n    </tr>\n    <tr>\n      <th>44659</th>\n      <td>59687</td>\n      <td>모리나가 다스 화이트 초콜릿</td>\n      <td>초콜릿</td>\n      <td></td>\n      <td>화이트초콜릿</td>\n      <td>42</td>\n      <td>g</td>\n      <td>42</td>\n      <td>-</td>\n      <td>20.4</td>\n    </tr>\n    <tr>\n      <th>44660</th>\n      <td>60615</td>\n      <td>화이트보뇌르</td>\n      <td>초콜릿</td>\n      <td></td>\n      <td>화이트초콜릿</td>\n      <td>30</td>\n      <td>g</td>\n      <td>50</td>\n      <td>-</td>\n      <td>13.0</td>\n    </tr>\n    <tr>\n      <th>44661</th>\n      <td>61033</td>\n      <td>토블론 스위스 화이트 초콜릿</td>\n      <td>초콜릿</td>\n      <td></td>\n      <td>화이트초콜릿</td>\n      <td>100</td>\n      <td>g</td>\n      <td>100</td>\n      <td>-</td>\n      <td>63.0</td>\n    </tr>\n    <tr>\n      <th>44662</th>\n      <td>61439</td>\n      <td>명인명촌 현미칩 초콜릿</td>\n      <td>초콜릿</td>\n      <td></td>\n      <td>화이트초콜릿</td>\n      <td>65</td>\n      <td>g</td>\n      <td>65</td>\n      <td>-</td>\n      <td>26.0</td>\n    </tr>\n    <tr>\n      <th>44663</th>\n      <td>64772</td>\n      <td>바이오 화이트 초콜릿 요거트 &amp; 딸기</td>\n      <td>초콜릿</td>\n      <td></td>\n      <td>화이트초콜릿</td>\n      <td>100</td>\n      <td>g</td>\n      <td>100</td>\n      <td>-</td>\n      <td>51.7</td>\n    </tr>\n  </tbody>\n</table>\n<p>38703 rows × 10 columns</p>\n</div>"
     },
     "execution_count": 124,
     "metadata": {},
     "output_type": "execute_result"
    }
   ],
   "source": [
    "sheet"
   ],
   "metadata": {
    "collapsed": false,
    "pycharm": {
     "name": "#%%\n"
    }
   }
  },
  {
   "cell_type": "code",
   "execution_count": 125,
   "outputs": [
    {
     "data": {
      "text/plain": "array(['음료', '유가공품', '과자', '빵', '초콜릿', '캔디', '떡, 곡류, 시리얼, 견과류', '아이스크림'],\n      dtype=object)"
     },
     "execution_count": 125,
     "metadata": {},
     "output_type": "execute_result"
    }
   ],
   "source": [
    "sheet['대분류'].unique()"
   ],
   "metadata": {
    "collapsed": false,
    "pycharm": {
     "name": "#%%\n"
    }
   }
  },
  {
   "cell_type": "code",
   "execution_count": 126,
   "outputs": [],
   "source": [
    "# 유가공품 : 2673 v\n",
    "# 과자 : 6915 v\n",
    "# 초콜릿 : 3690 V\n",
    "# 캔디 : 3707 V\n",
    "# 떡, 곡류, 시리얼, 견과류 : 105\n",
    "# 아이스크림 : 3583"
   ],
   "metadata": {
    "collapsed": false,
    "pycharm": {
     "name": "#%%\n"
    }
   }
  },
  {
   "cell_type": "code",
   "execution_count": 127,
   "outputs": [
    {
     "data": {
      "text/plain": "          No                        식품명 대분류 중분류  소분류  1회 제공량 용량 총내용량(g)  \\\n5919   25622                      해피 타임  과자       과자      30  g    1500   \n5920   25625                   크리스피 코코넛  과자       과자     100  g    1000   \n5921   25627                오트 25 텐 그레인  과자       과자     100  g     200   \n5922   25628                홀그레인 설타나 브란  과자       과자     100  g     750   \n5923   25634  커클랜드 시그니춰 앤더슨 피넛버터 필드 프리첼  과자       과자     100  g    1560   \n...      ...                        ...  ..  ..  ...     ... ..     ...   \n41845  84299          양갱세트(뚜레쥬르고구마맛영양갱)  과자      한과류      40  g      40   \n41846  84300            양갱세트(뚜레쥬르밤맛영양갱)  과자      한과류      40  g      40   \n41847  84314       우리밀전병세트(우리밀로만든검은깨전병)  과자      한과류      27  g      27   \n41848  84315        우리밀전병세트(우리밀로만든땅콩전병)  과자      한과류      27  g      27   \n41849  84316        우리밀전병세트(우리밀로만든김맛전병)  과자      한과류      27  g      27   \n\n      총내용량(ml)  총당류(g)  \n5919         -     8.0  \n5920         -    23.0  \n5921         -    20.0  \n5922         -    26.0  \n5923         -     4.0  \n...        ...     ...  \n41845        -     6.0  \n41846        -     8.0  \n41847        -    11.0  \n41848        -     9.0  \n41849        -    10.0  \n\n[7054 rows x 10 columns]",
      "text/html": "<div>\n<style scoped>\n    .dataframe tbody tr th:only-of-type {\n        vertical-align: middle;\n    }\n\n    .dataframe tbody tr th {\n        vertical-align: top;\n    }\n\n    .dataframe thead th {\n        text-align: right;\n    }\n</style>\n<table border=\"1\" class=\"dataframe\">\n  <thead>\n    <tr style=\"text-align: right;\">\n      <th></th>\n      <th>No</th>\n      <th>식품명</th>\n      <th>대분류</th>\n      <th>중분류</th>\n      <th>소분류</th>\n      <th>1회 제공량</th>\n      <th>용량</th>\n      <th>총내용량(g)</th>\n      <th>총내용량(ml)</th>\n      <th>총당류(g)</th>\n    </tr>\n  </thead>\n  <tbody>\n    <tr>\n      <th>5919</th>\n      <td>25622</td>\n      <td>해피 타임</td>\n      <td>과자</td>\n      <td></td>\n      <td>과자</td>\n      <td>30</td>\n      <td>g</td>\n      <td>1500</td>\n      <td>-</td>\n      <td>8.0</td>\n    </tr>\n    <tr>\n      <th>5920</th>\n      <td>25625</td>\n      <td>크리스피 코코넛</td>\n      <td>과자</td>\n      <td></td>\n      <td>과자</td>\n      <td>100</td>\n      <td>g</td>\n      <td>1000</td>\n      <td>-</td>\n      <td>23.0</td>\n    </tr>\n    <tr>\n      <th>5921</th>\n      <td>25627</td>\n      <td>오트 25 텐 그레인</td>\n      <td>과자</td>\n      <td></td>\n      <td>과자</td>\n      <td>100</td>\n      <td>g</td>\n      <td>200</td>\n      <td>-</td>\n      <td>20.0</td>\n    </tr>\n    <tr>\n      <th>5922</th>\n      <td>25628</td>\n      <td>홀그레인 설타나 브란</td>\n      <td>과자</td>\n      <td></td>\n      <td>과자</td>\n      <td>100</td>\n      <td>g</td>\n      <td>750</td>\n      <td>-</td>\n      <td>26.0</td>\n    </tr>\n    <tr>\n      <th>5923</th>\n      <td>25634</td>\n      <td>커클랜드 시그니춰 앤더슨 피넛버터 필드 프리첼</td>\n      <td>과자</td>\n      <td></td>\n      <td>과자</td>\n      <td>100</td>\n      <td>g</td>\n      <td>1560</td>\n      <td>-</td>\n      <td>4.0</td>\n    </tr>\n    <tr>\n      <th>...</th>\n      <td>...</td>\n      <td>...</td>\n      <td>...</td>\n      <td>...</td>\n      <td>...</td>\n      <td>...</td>\n      <td>...</td>\n      <td>...</td>\n      <td>...</td>\n      <td>...</td>\n    </tr>\n    <tr>\n      <th>41845</th>\n      <td>84299</td>\n      <td>양갱세트(뚜레쥬르고구마맛영양갱)</td>\n      <td>과자</td>\n      <td></td>\n      <td>한과류</td>\n      <td>40</td>\n      <td>g</td>\n      <td>40</td>\n      <td>-</td>\n      <td>6.0</td>\n    </tr>\n    <tr>\n      <th>41846</th>\n      <td>84300</td>\n      <td>양갱세트(뚜레쥬르밤맛영양갱)</td>\n      <td>과자</td>\n      <td></td>\n      <td>한과류</td>\n      <td>40</td>\n      <td>g</td>\n      <td>40</td>\n      <td>-</td>\n      <td>8.0</td>\n    </tr>\n    <tr>\n      <th>41847</th>\n      <td>84314</td>\n      <td>우리밀전병세트(우리밀로만든검은깨전병)</td>\n      <td>과자</td>\n      <td></td>\n      <td>한과류</td>\n      <td>27</td>\n      <td>g</td>\n      <td>27</td>\n      <td>-</td>\n      <td>11.0</td>\n    </tr>\n    <tr>\n      <th>41848</th>\n      <td>84315</td>\n      <td>우리밀전병세트(우리밀로만든땅콩전병)</td>\n      <td>과자</td>\n      <td></td>\n      <td>한과류</td>\n      <td>27</td>\n      <td>g</td>\n      <td>27</td>\n      <td>-</td>\n      <td>9.0</td>\n    </tr>\n    <tr>\n      <th>41849</th>\n      <td>84316</td>\n      <td>우리밀전병세트(우리밀로만든김맛전병)</td>\n      <td>과자</td>\n      <td></td>\n      <td>한과류</td>\n      <td>27</td>\n      <td>g</td>\n      <td>27</td>\n      <td>-</td>\n      <td>10.0</td>\n    </tr>\n  </tbody>\n</table>\n<p>7054 rows × 10 columns</p>\n</div>"
     },
     "execution_count": 127,
     "metadata": {},
     "output_type": "execute_result"
    }
   ],
   "source": [
    "sheet.loc[sheet['대분류'] == '과자', :]"
   ],
   "metadata": {
    "collapsed": false,
    "pycharm": {
     "name": "#%%\n"
    }
   }
  },
  {
   "cell_type": "code",
   "execution_count": 128,
   "outputs": [],
   "source": [
    "마카롱 = ['마카롱', '뚱카롱']\n",
    "파이 = ['파이']\n",
    "쿠키 = ['쿠키', '스콘', '마들렌', '모나카', '머랭', '비스킷']\n",
    "곡류견과류 = ['전병', '아몬트', '오트밀', '월넛', '찹쌀', '현미', '피칸', '피스타치오', '건빵']\n",
    "팝콘 = ['팝콘']\n",
    "\n",
    "for value in 마카롱:\n",
    "  middleCategoryChanger(sheet, value, '과자', '마카롱')\n",
    "for value in 파이:\n",
    " middleCategoryChanger(sheet, value, '과자', '파이')\n",
    "for value in 쿠키:\n",
    " middleCategoryChanger(sheet, value, '과자', '쿠키')\n",
    "for value in 곡류견과류:\n",
    " middleCategoryChanger(sheet, value, '과자', '곡류&견과류')\n",
    "for value in 팝콘:\n",
    " middleCategoryChanger(sheet, value, '과자', '팝콘')"
   ],
   "metadata": {
    "collapsed": false,
    "pycharm": {
     "name": "#%%\n"
    }
   }
  },
  {
   "cell_type": "code",
   "execution_count": 129,
   "outputs": [
    {
     "data": {
      "text/plain": "          No                        식품명 대분류 중분류  소분류  1회 제공량 용량 총내용량(g)  \\\n5919   25622                      해피 타임  과자       과자      30  g    1500   \n5920   25625                   크리스피 코코넛  과자       과자     100  g    1000   \n5921   25627                오트 25 텐 그레인  과자       과자     100  g     200   \n5922   25628                홀그레인 설타나 브란  과자       과자     100  g     750   \n5923   25634  커클랜드 시그니춰 앤더슨 피넛버터 필드 프리첼  과자       과자     100  g    1560   \n...      ...                        ...  ..  ..  ...     ... ..     ...   \n41840  26320                참쌀선과 (115G)  과자      한과류     100  g     115   \n41843  82924                       월병명가  과자      한과류      70  g     840   \n41844  84298            양갱세트(뚜레쥬르팥맛영양갱)  과자      한과류      40  g      40   \n41845  84299          양갱세트(뚜레쥬르고구마맛영양갱)  과자      한과류      40  g      40   \n41846  84300            양갱세트(뚜레쥬르밤맛영양갱)  과자      한과류      40  g      40   \n\n      총내용량(ml)  총당류(g)  \n5919         -     8.0  \n5920         -    23.0  \n5921         -    20.0  \n5922         -    26.0  \n5923         -     4.0  \n...        ...     ...  \n41840        -    14.0  \n41843        -    20.0  \n41844        -     4.0  \n41845        -     6.0  \n41846        -     8.0  \n\n[4676 rows x 10 columns]",
      "text/html": "<div>\n<style scoped>\n    .dataframe tbody tr th:only-of-type {\n        vertical-align: middle;\n    }\n\n    .dataframe tbody tr th {\n        vertical-align: top;\n    }\n\n    .dataframe thead th {\n        text-align: right;\n    }\n</style>\n<table border=\"1\" class=\"dataframe\">\n  <thead>\n    <tr style=\"text-align: right;\">\n      <th></th>\n      <th>No</th>\n      <th>식품명</th>\n      <th>대분류</th>\n      <th>중분류</th>\n      <th>소분류</th>\n      <th>1회 제공량</th>\n      <th>용량</th>\n      <th>총내용량(g)</th>\n      <th>총내용량(ml)</th>\n      <th>총당류(g)</th>\n    </tr>\n  </thead>\n  <tbody>\n    <tr>\n      <th>5919</th>\n      <td>25622</td>\n      <td>해피 타임</td>\n      <td>과자</td>\n      <td></td>\n      <td>과자</td>\n      <td>30</td>\n      <td>g</td>\n      <td>1500</td>\n      <td>-</td>\n      <td>8.0</td>\n    </tr>\n    <tr>\n      <th>5920</th>\n      <td>25625</td>\n      <td>크리스피 코코넛</td>\n      <td>과자</td>\n      <td></td>\n      <td>과자</td>\n      <td>100</td>\n      <td>g</td>\n      <td>1000</td>\n      <td>-</td>\n      <td>23.0</td>\n    </tr>\n    <tr>\n      <th>5921</th>\n      <td>25627</td>\n      <td>오트 25 텐 그레인</td>\n      <td>과자</td>\n      <td></td>\n      <td>과자</td>\n      <td>100</td>\n      <td>g</td>\n      <td>200</td>\n      <td>-</td>\n      <td>20.0</td>\n    </tr>\n    <tr>\n      <th>5922</th>\n      <td>25628</td>\n      <td>홀그레인 설타나 브란</td>\n      <td>과자</td>\n      <td></td>\n      <td>과자</td>\n      <td>100</td>\n      <td>g</td>\n      <td>750</td>\n      <td>-</td>\n      <td>26.0</td>\n    </tr>\n    <tr>\n      <th>5923</th>\n      <td>25634</td>\n      <td>커클랜드 시그니춰 앤더슨 피넛버터 필드 프리첼</td>\n      <td>과자</td>\n      <td></td>\n      <td>과자</td>\n      <td>100</td>\n      <td>g</td>\n      <td>1560</td>\n      <td>-</td>\n      <td>4.0</td>\n    </tr>\n    <tr>\n      <th>...</th>\n      <td>...</td>\n      <td>...</td>\n      <td>...</td>\n      <td>...</td>\n      <td>...</td>\n      <td>...</td>\n      <td>...</td>\n      <td>...</td>\n      <td>...</td>\n      <td>...</td>\n    </tr>\n    <tr>\n      <th>41840</th>\n      <td>26320</td>\n      <td>참쌀선과 (115G)</td>\n      <td>과자</td>\n      <td></td>\n      <td>한과류</td>\n      <td>100</td>\n      <td>g</td>\n      <td>115</td>\n      <td>-</td>\n      <td>14.0</td>\n    </tr>\n    <tr>\n      <th>41843</th>\n      <td>82924</td>\n      <td>월병명가</td>\n      <td>과자</td>\n      <td></td>\n      <td>한과류</td>\n      <td>70</td>\n      <td>g</td>\n      <td>840</td>\n      <td>-</td>\n      <td>20.0</td>\n    </tr>\n    <tr>\n      <th>41844</th>\n      <td>84298</td>\n      <td>양갱세트(뚜레쥬르팥맛영양갱)</td>\n      <td>과자</td>\n      <td></td>\n      <td>한과류</td>\n      <td>40</td>\n      <td>g</td>\n      <td>40</td>\n      <td>-</td>\n      <td>4.0</td>\n    </tr>\n    <tr>\n      <th>41845</th>\n      <td>84299</td>\n      <td>양갱세트(뚜레쥬르고구마맛영양갱)</td>\n      <td>과자</td>\n      <td></td>\n      <td>한과류</td>\n      <td>40</td>\n      <td>g</td>\n      <td>40</td>\n      <td>-</td>\n      <td>6.0</td>\n    </tr>\n    <tr>\n      <th>41846</th>\n      <td>84300</td>\n      <td>양갱세트(뚜레쥬르밤맛영양갱)</td>\n      <td>과자</td>\n      <td></td>\n      <td>한과류</td>\n      <td>40</td>\n      <td>g</td>\n      <td>40</td>\n      <td>-</td>\n      <td>8.0</td>\n    </tr>\n  </tbody>\n</table>\n<p>4676 rows × 10 columns</p>\n</div>"
     },
     "execution_count": 129,
     "metadata": {},
     "output_type": "execute_result"
    }
   ],
   "source": [
    "sheet.loc[(sheet['대분류'] == '과자') & (sheet['중분류'] == ''), :]"
   ],
   "metadata": {
    "collapsed": false,
    "pycharm": {
     "name": "#%%\n"
    }
   }
  },
  {
   "cell_type": "code",
   "execution_count": 130,
   "outputs": [],
   "source": [
    "sheet.loc[(sheet['대분류'] == '과자') & (sheet['중분류'] == ''), '중분류'] = '기성품'"
   ],
   "metadata": {
    "collapsed": false,
    "pycharm": {
     "name": "#%%\n"
    }
   }
  },
  {
   "cell_type": "code",
   "execution_count": 131,
   "outputs": [
    {
     "data": {
      "text/plain": "          No               식품명   대분류 중분류    소분류  1회 제공량  용량 총내용량(g) 총내용량(ml)  \\\n124     1506          남양 아인슈타인  유가공품        가공유     120  mL       -    120.0   \n125     1509                앙팡  유가공품        가공유     100  mL       -    100.0   \n126    11399         베비언스 킨더밀쉬  유가공품        가공유     200   g     200        -   \n127    11408  베비언스 킨더밀쉬 24개월부터  유가공품        가공유     200   g     200        -   \n128    12687       빙그레 바나나맛 우유  유가공품        가공유     240   g     240        -   \n...      ...               ...   ...  ..    ...     ...  ..     ...      ...   \n29103  16708            구워먹는치즈  유가공품       자연치즈     110   g     110        -   \n38794  12920           생크림 요거트  유가공품      크림발효유      85   g      85        -   \n38795  17842           생크림 요거트  유가공품      크림발효유      85   g      85        -   \n38796  37947           매일 사워크림  유가공품      크림발효유     100   g     900        -   \n38797  38170           생크림 요거트  유가공품      크림발효유      85   g    1360        -   \n\n       총당류(g)  \n124       6.0  \n125       4.5  \n126      13.0  \n127      13.0  \n128      27.0  \n...       ...  \n29103     2.0  \n38794     9.0  \n38795    10.0  \n38796     3.0  \n38797    10.0  \n\n[2680 rows x 10 columns]",
      "text/html": "<div>\n<style scoped>\n    .dataframe tbody tr th:only-of-type {\n        vertical-align: middle;\n    }\n\n    .dataframe tbody tr th {\n        vertical-align: top;\n    }\n\n    .dataframe thead th {\n        text-align: right;\n    }\n</style>\n<table border=\"1\" class=\"dataframe\">\n  <thead>\n    <tr style=\"text-align: right;\">\n      <th></th>\n      <th>No</th>\n      <th>식품명</th>\n      <th>대분류</th>\n      <th>중분류</th>\n      <th>소분류</th>\n      <th>1회 제공량</th>\n      <th>용량</th>\n      <th>총내용량(g)</th>\n      <th>총내용량(ml)</th>\n      <th>총당류(g)</th>\n    </tr>\n  </thead>\n  <tbody>\n    <tr>\n      <th>124</th>\n      <td>1506</td>\n      <td>남양 아인슈타인</td>\n      <td>유가공품</td>\n      <td></td>\n      <td>가공유</td>\n      <td>120</td>\n      <td>mL</td>\n      <td>-</td>\n      <td>120.0</td>\n      <td>6.0</td>\n    </tr>\n    <tr>\n      <th>125</th>\n      <td>1509</td>\n      <td>앙팡</td>\n      <td>유가공품</td>\n      <td></td>\n      <td>가공유</td>\n      <td>100</td>\n      <td>mL</td>\n      <td>-</td>\n      <td>100.0</td>\n      <td>4.5</td>\n    </tr>\n    <tr>\n      <th>126</th>\n      <td>11399</td>\n      <td>베비언스 킨더밀쉬</td>\n      <td>유가공품</td>\n      <td></td>\n      <td>가공유</td>\n      <td>200</td>\n      <td>g</td>\n      <td>200</td>\n      <td>-</td>\n      <td>13.0</td>\n    </tr>\n    <tr>\n      <th>127</th>\n      <td>11408</td>\n      <td>베비언스 킨더밀쉬 24개월부터</td>\n      <td>유가공품</td>\n      <td></td>\n      <td>가공유</td>\n      <td>200</td>\n      <td>g</td>\n      <td>200</td>\n      <td>-</td>\n      <td>13.0</td>\n    </tr>\n    <tr>\n      <th>128</th>\n      <td>12687</td>\n      <td>빙그레 바나나맛 우유</td>\n      <td>유가공품</td>\n      <td></td>\n      <td>가공유</td>\n      <td>240</td>\n      <td>g</td>\n      <td>240</td>\n      <td>-</td>\n      <td>27.0</td>\n    </tr>\n    <tr>\n      <th>...</th>\n      <td>...</td>\n      <td>...</td>\n      <td>...</td>\n      <td>...</td>\n      <td>...</td>\n      <td>...</td>\n      <td>...</td>\n      <td>...</td>\n      <td>...</td>\n      <td>...</td>\n    </tr>\n    <tr>\n      <th>29103</th>\n      <td>16708</td>\n      <td>구워먹는치즈</td>\n      <td>유가공품</td>\n      <td></td>\n      <td>자연치즈</td>\n      <td>110</td>\n      <td>g</td>\n      <td>110</td>\n      <td>-</td>\n      <td>2.0</td>\n    </tr>\n    <tr>\n      <th>38794</th>\n      <td>12920</td>\n      <td>생크림 요거트</td>\n      <td>유가공품</td>\n      <td></td>\n      <td>크림발효유</td>\n      <td>85</td>\n      <td>g</td>\n      <td>85</td>\n      <td>-</td>\n      <td>9.0</td>\n    </tr>\n    <tr>\n      <th>38795</th>\n      <td>17842</td>\n      <td>생크림 요거트</td>\n      <td>유가공품</td>\n      <td></td>\n      <td>크림발효유</td>\n      <td>85</td>\n      <td>g</td>\n      <td>85</td>\n      <td>-</td>\n      <td>10.0</td>\n    </tr>\n    <tr>\n      <th>38796</th>\n      <td>37947</td>\n      <td>매일 사워크림</td>\n      <td>유가공품</td>\n      <td></td>\n      <td>크림발효유</td>\n      <td>100</td>\n      <td>g</td>\n      <td>900</td>\n      <td>-</td>\n      <td>3.0</td>\n    </tr>\n    <tr>\n      <th>38797</th>\n      <td>38170</td>\n      <td>생크림 요거트</td>\n      <td>유가공품</td>\n      <td></td>\n      <td>크림발효유</td>\n      <td>85</td>\n      <td>g</td>\n      <td>1360</td>\n      <td>-</td>\n      <td>10.0</td>\n    </tr>\n  </tbody>\n</table>\n<p>2680 rows × 10 columns</p>\n</div>"
     },
     "execution_count": 131,
     "metadata": {},
     "output_type": "execute_result"
    }
   ],
   "source": [
    "sheet.loc[sheet['대분류'] == '유가공품']"
   ],
   "metadata": {
    "collapsed": false,
    "pycharm": {
     "name": "#%%\n"
    }
   }
  },
  {
   "cell_type": "code",
   "execution_count": 132,
   "outputs": [
    {
     "data": {
      "text/plain": "array(['가공유', '강화우유', '농후발효유', '농후크림발효유', '발효유', '우유', '유당분해우유',\n       '유산균첨가우유', '자연치즈', '크림발효유'], dtype=object)"
     },
     "execution_count": 132,
     "metadata": {},
     "output_type": "execute_result"
    }
   ],
   "source": [
    "sheet.loc[sheet['대분류'] == '유가공품', :]['소분류'].unique()"
   ],
   "metadata": {
    "collapsed": false,
    "pycharm": {
     "name": "#%%\n"
    }
   }
  },
  {
   "cell_type": "code",
   "execution_count": 133,
   "outputs": [],
   "source": [
    "우유 = ['우유', '밀크', '라떼', '허쉬', '아인슈타인', '락토프리', '저지방', '앙팡', '초코에몽', '딸기에몽']\n",
    "발효유 = ['요구르트', '요플레', '윌', '불가리스', '액티비아', '요하임', '풀무원다논', '프로바이오', '바이오', '요거트', '건국 하이요', '삼양 요거트', '요하임', '짜요짜요', '비요뜨', '액티비아', '비피더스', '엔요', '플레인']\n",
    "\n",
    "for value in 우유:\n",
    " middleCategoryChanger(sheet, value, '유가공품', '우유')\n",
    "for value in 발효유:\n",
    " middleCategoryChanger(sheet, value, '유가공품', '발효유')"
   ],
   "metadata": {
    "collapsed": false,
    "pycharm": {
     "name": "#%%\n"
    }
   }
  },
  {
   "cell_type": "code",
   "execution_count": 134,
   "outputs": [
    {
     "data": {
      "text/plain": "          No                 식품명   대분류 중분류    소분류  1회 제공량  용량 총내용량(g)  \\\n126    11399           베비언스 킨더밀쉬  유가공품        가공유     200   g     200   \n127    11408    베비언스 킨더밀쉬 24개월부터  유가공품        가공유     200   g     200   \n135    12694  연세대학교 자녀사랑 키짱 전용목장  유가공품        가공유     100   g     180   \n143    12702          네스퀵초콜릿맛드링크  유가공품        가공유     180   g     180   \n145    12704            건국 오메가 수  유가공품        가공유     180   g     180   \n...      ...                 ...   ...  ..    ...     ...  ..     ...   \n28505  17874               모닝후레쉬  유가공품         우유     100  mL       -   \n28508  17877          내추럴플랜 프리미엄  유가공품         우유     100  mL       -   \n28509  17878           내추럴플랜 후레쉬  유가공품         우유     200  mL       -   \n29103  16708              구워먹는치즈  유가공품       자연치즈     110   g     110   \n38796  37947             매일 사워크림  유가공품      크림발효유     100   g     900   \n\n      총내용량(ml)  총당류(g)  \n126          -    13.0  \n127          -    13.0  \n135          -     5.0  \n143          -    20.0  \n145          -     8.0  \n...        ...     ...  \n28505      900     5.0  \n28508      930     5.0  \n28509      200    10.0  \n29103        -     2.0  \n38796        -     3.0  \n\n[374 rows x 10 columns]",
      "text/html": "<div>\n<style scoped>\n    .dataframe tbody tr th:only-of-type {\n        vertical-align: middle;\n    }\n\n    .dataframe tbody tr th {\n        vertical-align: top;\n    }\n\n    .dataframe thead th {\n        text-align: right;\n    }\n</style>\n<table border=\"1\" class=\"dataframe\">\n  <thead>\n    <tr style=\"text-align: right;\">\n      <th></th>\n      <th>No</th>\n      <th>식품명</th>\n      <th>대분류</th>\n      <th>중분류</th>\n      <th>소분류</th>\n      <th>1회 제공량</th>\n      <th>용량</th>\n      <th>총내용량(g)</th>\n      <th>총내용량(ml)</th>\n      <th>총당류(g)</th>\n    </tr>\n  </thead>\n  <tbody>\n    <tr>\n      <th>126</th>\n      <td>11399</td>\n      <td>베비언스 킨더밀쉬</td>\n      <td>유가공품</td>\n      <td></td>\n      <td>가공유</td>\n      <td>200</td>\n      <td>g</td>\n      <td>200</td>\n      <td>-</td>\n      <td>13.0</td>\n    </tr>\n    <tr>\n      <th>127</th>\n      <td>11408</td>\n      <td>베비언스 킨더밀쉬 24개월부터</td>\n      <td>유가공품</td>\n      <td></td>\n      <td>가공유</td>\n      <td>200</td>\n      <td>g</td>\n      <td>200</td>\n      <td>-</td>\n      <td>13.0</td>\n    </tr>\n    <tr>\n      <th>135</th>\n      <td>12694</td>\n      <td>연세대학교 자녀사랑 키짱 전용목장</td>\n      <td>유가공품</td>\n      <td></td>\n      <td>가공유</td>\n      <td>100</td>\n      <td>g</td>\n      <td>180</td>\n      <td>-</td>\n      <td>5.0</td>\n    </tr>\n    <tr>\n      <th>143</th>\n      <td>12702</td>\n      <td>네스퀵초콜릿맛드링크</td>\n      <td>유가공품</td>\n      <td></td>\n      <td>가공유</td>\n      <td>180</td>\n      <td>g</td>\n      <td>180</td>\n      <td>-</td>\n      <td>20.0</td>\n    </tr>\n    <tr>\n      <th>145</th>\n      <td>12704</td>\n      <td>건국 오메가 수</td>\n      <td>유가공품</td>\n      <td></td>\n      <td>가공유</td>\n      <td>180</td>\n      <td>g</td>\n      <td>180</td>\n      <td>-</td>\n      <td>8.0</td>\n    </tr>\n    <tr>\n      <th>...</th>\n      <td>...</td>\n      <td>...</td>\n      <td>...</td>\n      <td>...</td>\n      <td>...</td>\n      <td>...</td>\n      <td>...</td>\n      <td>...</td>\n      <td>...</td>\n      <td>...</td>\n    </tr>\n    <tr>\n      <th>28505</th>\n      <td>17874</td>\n      <td>모닝후레쉬</td>\n      <td>유가공품</td>\n      <td></td>\n      <td>우유</td>\n      <td>100</td>\n      <td>mL</td>\n      <td>-</td>\n      <td>900</td>\n      <td>5.0</td>\n    </tr>\n    <tr>\n      <th>28508</th>\n      <td>17877</td>\n      <td>내추럴플랜 프리미엄</td>\n      <td>유가공품</td>\n      <td></td>\n      <td>우유</td>\n      <td>100</td>\n      <td>mL</td>\n      <td>-</td>\n      <td>930</td>\n      <td>5.0</td>\n    </tr>\n    <tr>\n      <th>28509</th>\n      <td>17878</td>\n      <td>내추럴플랜 후레쉬</td>\n      <td>유가공품</td>\n      <td></td>\n      <td>우유</td>\n      <td>200</td>\n      <td>mL</td>\n      <td>-</td>\n      <td>200</td>\n      <td>10.0</td>\n    </tr>\n    <tr>\n      <th>29103</th>\n      <td>16708</td>\n      <td>구워먹는치즈</td>\n      <td>유가공품</td>\n      <td></td>\n      <td>자연치즈</td>\n      <td>110</td>\n      <td>g</td>\n      <td>110</td>\n      <td>-</td>\n      <td>2.0</td>\n    </tr>\n    <tr>\n      <th>38796</th>\n      <td>37947</td>\n      <td>매일 사워크림</td>\n      <td>유가공품</td>\n      <td></td>\n      <td>크림발효유</td>\n      <td>100</td>\n      <td>g</td>\n      <td>900</td>\n      <td>-</td>\n      <td>3.0</td>\n    </tr>\n  </tbody>\n</table>\n<p>374 rows × 10 columns</p>\n</div>"
     },
     "execution_count": 134,
     "metadata": {},
     "output_type": "execute_result"
    }
   ],
   "source": [
    "sheet.loc[(sheet['대분류'] == '유가공품') & (sheet['중분류'] == ''), :]"
   ],
   "metadata": {
    "collapsed": false,
    "pycharm": {
     "name": "#%%\n"
    }
   }
  },
  {
   "cell_type": "code",
   "execution_count": 135,
   "outputs": [],
   "source": [
    "sheet = sheet.drop(sheet.loc[(sheet['대분류'] == '유가공품') & (sheet['중분류'] == ''), :].index)"
   ],
   "metadata": {
    "collapsed": false,
    "pycharm": {
     "name": "#%%\n"
    }
   }
  },
  {
   "cell_type": "code",
   "execution_count": 136,
   "outputs": [
    {
     "data": {
      "text/plain": "          No             식품명   대분류  중분류      소분류  1회 제공량  용량 총내용량(g) 총내용량(ml)  \\\n124     1506        남양 아인슈타인  유가공품   우유      가공유     120  mL       -    120.0   \n125     1509              앙팡  유가공품   우유      가공유     100  mL       -    100.0   \n128    12687     빙그레 바나나맛 우유  유가공품   우유      가공유     240   g     240        -   \n129    12688   내추럴플랜 클래식 저지방  유가공품   우유      가공유     200   g     200        -   \n130    12689           밀크플러스  유가공품   우유      가공유     200   g     900        -   \n...      ...             ...   ...  ...      ...     ...  ..     ...      ...   \n29015  38324      LB-9 유산균우유  유가공품   우유  유산균첨가우유     180   g     180        -   \n29016  59163  파스퇴르 프로바이오틱 우유  유가공품  발효유  유산균첨가우유     125   g     125        -   \n38794  12920         생크림 요거트  유가공품  발효유    크림발효유      85   g      85        -   \n38795  17842         생크림 요거트  유가공품  발효유    크림발효유      85   g      85        -   \n38797  38170         생크림 요거트  유가공품  발효유    크림발효유      85   g    1360        -   \n\n       총당류(g)  \n124       6.0  \n125       4.5  \n128      27.0  \n129      10.0  \n130      10.0  \n...       ...  \n29015     9.0  \n29016     8.0  \n38794     9.0  \n38795    10.0  \n38797    10.0  \n\n[2306 rows x 10 columns]",
      "text/html": "<div>\n<style scoped>\n    .dataframe tbody tr th:only-of-type {\n        vertical-align: middle;\n    }\n\n    .dataframe tbody tr th {\n        vertical-align: top;\n    }\n\n    .dataframe thead th {\n        text-align: right;\n    }\n</style>\n<table border=\"1\" class=\"dataframe\">\n  <thead>\n    <tr style=\"text-align: right;\">\n      <th></th>\n      <th>No</th>\n      <th>식품명</th>\n      <th>대분류</th>\n      <th>중분류</th>\n      <th>소분류</th>\n      <th>1회 제공량</th>\n      <th>용량</th>\n      <th>총내용량(g)</th>\n      <th>총내용량(ml)</th>\n      <th>총당류(g)</th>\n    </tr>\n  </thead>\n  <tbody>\n    <tr>\n      <th>124</th>\n      <td>1506</td>\n      <td>남양 아인슈타인</td>\n      <td>유가공품</td>\n      <td>우유</td>\n      <td>가공유</td>\n      <td>120</td>\n      <td>mL</td>\n      <td>-</td>\n      <td>120.0</td>\n      <td>6.0</td>\n    </tr>\n    <tr>\n      <th>125</th>\n      <td>1509</td>\n      <td>앙팡</td>\n      <td>유가공품</td>\n      <td>우유</td>\n      <td>가공유</td>\n      <td>100</td>\n      <td>mL</td>\n      <td>-</td>\n      <td>100.0</td>\n      <td>4.5</td>\n    </tr>\n    <tr>\n      <th>128</th>\n      <td>12687</td>\n      <td>빙그레 바나나맛 우유</td>\n      <td>유가공품</td>\n      <td>우유</td>\n      <td>가공유</td>\n      <td>240</td>\n      <td>g</td>\n      <td>240</td>\n      <td>-</td>\n      <td>27.0</td>\n    </tr>\n    <tr>\n      <th>129</th>\n      <td>12688</td>\n      <td>내추럴플랜 클래식 저지방</td>\n      <td>유가공품</td>\n      <td>우유</td>\n      <td>가공유</td>\n      <td>200</td>\n      <td>g</td>\n      <td>200</td>\n      <td>-</td>\n      <td>10.0</td>\n    </tr>\n    <tr>\n      <th>130</th>\n      <td>12689</td>\n      <td>밀크플러스</td>\n      <td>유가공품</td>\n      <td>우유</td>\n      <td>가공유</td>\n      <td>200</td>\n      <td>g</td>\n      <td>900</td>\n      <td>-</td>\n      <td>10.0</td>\n    </tr>\n    <tr>\n      <th>...</th>\n      <td>...</td>\n      <td>...</td>\n      <td>...</td>\n      <td>...</td>\n      <td>...</td>\n      <td>...</td>\n      <td>...</td>\n      <td>...</td>\n      <td>...</td>\n      <td>...</td>\n    </tr>\n    <tr>\n      <th>29015</th>\n      <td>38324</td>\n      <td>LB-9 유산균우유</td>\n      <td>유가공품</td>\n      <td>우유</td>\n      <td>유산균첨가우유</td>\n      <td>180</td>\n      <td>g</td>\n      <td>180</td>\n      <td>-</td>\n      <td>9.0</td>\n    </tr>\n    <tr>\n      <th>29016</th>\n      <td>59163</td>\n      <td>파스퇴르 프로바이오틱 우유</td>\n      <td>유가공품</td>\n      <td>발효유</td>\n      <td>유산균첨가우유</td>\n      <td>125</td>\n      <td>g</td>\n      <td>125</td>\n      <td>-</td>\n      <td>8.0</td>\n    </tr>\n    <tr>\n      <th>38794</th>\n      <td>12920</td>\n      <td>생크림 요거트</td>\n      <td>유가공품</td>\n      <td>발효유</td>\n      <td>크림발효유</td>\n      <td>85</td>\n      <td>g</td>\n      <td>85</td>\n      <td>-</td>\n      <td>9.0</td>\n    </tr>\n    <tr>\n      <th>38795</th>\n      <td>17842</td>\n      <td>생크림 요거트</td>\n      <td>유가공품</td>\n      <td>발효유</td>\n      <td>크림발효유</td>\n      <td>85</td>\n      <td>g</td>\n      <td>85</td>\n      <td>-</td>\n      <td>10.0</td>\n    </tr>\n    <tr>\n      <th>38797</th>\n      <td>38170</td>\n      <td>생크림 요거트</td>\n      <td>유가공품</td>\n      <td>발효유</td>\n      <td>크림발효유</td>\n      <td>85</td>\n      <td>g</td>\n      <td>1360</td>\n      <td>-</td>\n      <td>10.0</td>\n    </tr>\n  </tbody>\n</table>\n<p>2306 rows × 10 columns</p>\n</div>"
     },
     "execution_count": 136,
     "metadata": {},
     "output_type": "execute_result"
    }
   ],
   "source": [
    "sheet.loc[(sheet['대분류'] == '유가공품'), :]"
   ],
   "metadata": {
    "collapsed": false,
    "pycharm": {
     "name": "#%%\n"
    }
   }
  },
  {
   "cell_type": "code",
   "execution_count": 137,
   "outputs": [
    {
     "data": {
      "text/plain": "          No                   식품명  대분류 중분류        소분류  1회 제공량 용량 총내용량(g)  \\\n9365    9776               제티 쵸코렛맛  초콜릿      기타 코코아가공품      17  g    1360   \n9366    9777           미떼 핫초코 오리지날  초콜릿      기타 코코아가공품      17  g     680   \n9367    9779                 코코렛소스  초콜릿      기타 코코아가공품     100  g    2000   \n9368    9781            미떼 핫초코 마일드  초콜릿      기타 코코아가공품      30  g     300   \n9369    9783            뉴얼려먹는초코만들기  초콜릿      기타 코코아가공품      36  g      36   \n...      ...                   ...  ...  ..        ...     ... ..     ...   \n44659  59687       모리나가 다스 화이트 초콜릿  초콜릿         화이트초콜릿      42  g      42   \n44660  60615                화이트보뇌르  초콜릿         화이트초콜릿      30  g      50   \n44661  61033       토블론 스위스 화이트 초콜릿  초콜릿         화이트초콜릿     100  g     100   \n44662  61439          명인명촌 현미칩 초콜릿  초콜릿         화이트초콜릿      65  g      65   \n44663  64772  바이오 화이트 초콜릿 요거트 & 딸기  초콜릿         화이트초콜릿     100  g     100   \n\n      총내용량(ml)  총당류(g)  \n9365         -    14.0  \n9366         -     9.5  \n9367         -    50.0  \n9368         -    16.9  \n9369         -    14.0  \n...        ...     ...  \n44659        -    20.4  \n44660        -    13.0  \n44661        -    63.0  \n44662        -    26.0  \n44663        -    51.7  \n\n[3703 rows x 10 columns]",
      "text/html": "<div>\n<style scoped>\n    .dataframe tbody tr th:only-of-type {\n        vertical-align: middle;\n    }\n\n    .dataframe tbody tr th {\n        vertical-align: top;\n    }\n\n    .dataframe thead th {\n        text-align: right;\n    }\n</style>\n<table border=\"1\" class=\"dataframe\">\n  <thead>\n    <tr style=\"text-align: right;\">\n      <th></th>\n      <th>No</th>\n      <th>식품명</th>\n      <th>대분류</th>\n      <th>중분류</th>\n      <th>소분류</th>\n      <th>1회 제공량</th>\n      <th>용량</th>\n      <th>총내용량(g)</th>\n      <th>총내용량(ml)</th>\n      <th>총당류(g)</th>\n    </tr>\n  </thead>\n  <tbody>\n    <tr>\n      <th>9365</th>\n      <td>9776</td>\n      <td>제티 쵸코렛맛</td>\n      <td>초콜릿</td>\n      <td></td>\n      <td>기타 코코아가공품</td>\n      <td>17</td>\n      <td>g</td>\n      <td>1360</td>\n      <td>-</td>\n      <td>14.0</td>\n    </tr>\n    <tr>\n      <th>9366</th>\n      <td>9777</td>\n      <td>미떼 핫초코 오리지날</td>\n      <td>초콜릿</td>\n      <td></td>\n      <td>기타 코코아가공품</td>\n      <td>17</td>\n      <td>g</td>\n      <td>680</td>\n      <td>-</td>\n      <td>9.5</td>\n    </tr>\n    <tr>\n      <th>9367</th>\n      <td>9779</td>\n      <td>코코렛소스</td>\n      <td>초콜릿</td>\n      <td></td>\n      <td>기타 코코아가공품</td>\n      <td>100</td>\n      <td>g</td>\n      <td>2000</td>\n      <td>-</td>\n      <td>50.0</td>\n    </tr>\n    <tr>\n      <th>9368</th>\n      <td>9781</td>\n      <td>미떼 핫초코 마일드</td>\n      <td>초콜릿</td>\n      <td></td>\n      <td>기타 코코아가공품</td>\n      <td>30</td>\n      <td>g</td>\n      <td>300</td>\n      <td>-</td>\n      <td>16.9</td>\n    </tr>\n    <tr>\n      <th>9369</th>\n      <td>9783</td>\n      <td>뉴얼려먹는초코만들기</td>\n      <td>초콜릿</td>\n      <td></td>\n      <td>기타 코코아가공품</td>\n      <td>36</td>\n      <td>g</td>\n      <td>36</td>\n      <td>-</td>\n      <td>14.0</td>\n    </tr>\n    <tr>\n      <th>...</th>\n      <td>...</td>\n      <td>...</td>\n      <td>...</td>\n      <td>...</td>\n      <td>...</td>\n      <td>...</td>\n      <td>...</td>\n      <td>...</td>\n      <td>...</td>\n      <td>...</td>\n    </tr>\n    <tr>\n      <th>44659</th>\n      <td>59687</td>\n      <td>모리나가 다스 화이트 초콜릿</td>\n      <td>초콜릿</td>\n      <td></td>\n      <td>화이트초콜릿</td>\n      <td>42</td>\n      <td>g</td>\n      <td>42</td>\n      <td>-</td>\n      <td>20.4</td>\n    </tr>\n    <tr>\n      <th>44660</th>\n      <td>60615</td>\n      <td>화이트보뇌르</td>\n      <td>초콜릿</td>\n      <td></td>\n      <td>화이트초콜릿</td>\n      <td>30</td>\n      <td>g</td>\n      <td>50</td>\n      <td>-</td>\n      <td>13.0</td>\n    </tr>\n    <tr>\n      <th>44661</th>\n      <td>61033</td>\n      <td>토블론 스위스 화이트 초콜릿</td>\n      <td>초콜릿</td>\n      <td></td>\n      <td>화이트초콜릿</td>\n      <td>100</td>\n      <td>g</td>\n      <td>100</td>\n      <td>-</td>\n      <td>63.0</td>\n    </tr>\n    <tr>\n      <th>44662</th>\n      <td>61439</td>\n      <td>명인명촌 현미칩 초콜릿</td>\n      <td>초콜릿</td>\n      <td></td>\n      <td>화이트초콜릿</td>\n      <td>65</td>\n      <td>g</td>\n      <td>65</td>\n      <td>-</td>\n      <td>26.0</td>\n    </tr>\n    <tr>\n      <th>44663</th>\n      <td>64772</td>\n      <td>바이오 화이트 초콜릿 요거트 &amp; 딸기</td>\n      <td>초콜릿</td>\n      <td></td>\n      <td>화이트초콜릿</td>\n      <td>100</td>\n      <td>g</td>\n      <td>100</td>\n      <td>-</td>\n      <td>51.7</td>\n    </tr>\n  </tbody>\n</table>\n<p>3703 rows × 10 columns</p>\n</div>"
     },
     "execution_count": 137,
     "metadata": {},
     "output_type": "execute_result"
    }
   ],
   "source": [
    "sheet.loc[sheet['대분류'] == '초콜릿']"
   ],
   "metadata": {
    "collapsed": false,
    "pycharm": {
     "name": "#%%\n"
    }
   }
  },
  {
   "cell_type": "code",
   "execution_count": 138,
   "outputs": [
    {
     "data": {
      "text/plain": "array(['기타 코코아가공품', '밀크초콜릿', '준초콜릿', '초콜릿', '초콜릿가공품', '화이트초콜릿'],\n      dtype=object)"
     },
     "execution_count": 138,
     "metadata": {},
     "output_type": "execute_result"
    }
   ],
   "source": [
    "sheet.loc[sheet['대분류'] == '초콜릿', :]['소분류'].unique()"
   ],
   "metadata": {
    "collapsed": false,
    "pycharm": {
     "name": "#%%\n"
    }
   }
  },
  {
   "cell_type": "code",
   "execution_count": 139,
   "outputs": [
    {
     "data": {
      "text/plain": "          No                                     식품명  대분류 중분류        소분류  \\\n9461   44565                                   카라멜 볼  초콜릿      기타 코코아가공품   \n9462   44566                                카라멜향 범킨스  초콜릿      기타 코코아가공품   \n14383  42926                         초코비쥬 스틱 카라멜향 밀크  초콜릿          밀크초콜릿   \n14532  58711                     가나시그니처 생크림디저트 밀크카라멜  초콜릿          밀크초콜릿   \n30128  42258                      벨지안 트러플초콜릿 솔티드카라멜맛  초콜릿           준초콜릿   \n30168  43746                      아모레띠 솔티드 카라멜  스프레드  초콜릿           준초콜릿   \n30240  45766                                   카라멜리아  초콜릿           준초콜릿   \n30326  56368                             김원초 F 솔트카라멜  초콜릿           준초콜릿   \n31068  43228                     크리미 카라멜 초콜릿 (76854)  초콜릿            초콜릿   \n31350  15439                         오리온생크림파이쇼콜라&카라멜  초콜릿         초콜릿가공품   \n31355  15444                               오예스 노아카라멜  초콜릿         초콜릿가공품   \n31574  27768                         리얼밀크초콜릿 카라멜 초코볼  초콜릿         초콜릿가공품   \n31782  28044                           쁘띠몽쉘 커스타드 카라멜  초콜릿         초콜릿가공품   \n31813  28085                              카라멜솔트 초코파이  초콜릿         초콜릿가공품   \n31953  28272                        아이파베스 솔트카라멜 생초콜릿  초콜릿         초콜릿가공품   \n32020  28345                          카라멜 씨솔트 니어폴리탄스  초콜릿         초콜릿가공품   \n32031  28356                         밀크초콜릿 위드 아몬드카라멜  초콜릿         초콜릿가공품   \n32035  28360                    밀크 초콜릿 위드 크런치 아몬드카라멜  초콜릿         초콜릿가공품   \n32071  28397                 카라멜피칸 와플 카나디안 메이플시럽 초콜릿  초콜릿         초콜릿가공품   \n32075  28401                     트뤼프 솔티드 카라멜 (76752)  초콜릿         초콜릿가공품   \n32151  28477                            카라멜리아 진주 크런치  초콜릿         초콜릿가공품   \n32161  28487                             폰단테카라멜비트초콜릿  초콜릿         초콜릿가공품   \n32165  28491                          폰단테카라멜비트초콜릿500  초콜릿         초콜릿가공품   \n32173  28499                       폰단테카라멜토피초콜릿(500g)  초콜릿         초콜릿가공품   \n32222  28551                           토피퍼지앤 카라멜 컬렉션  초콜릿         초콜릿가공품   \n32275  28604                밀크초콜릿 위드 아몬드카라멜(3099903)  초콜릿         초콜릿가공품   \n32411  28741                       솔티드크림&크런치카라멜밀크프랄린  초콜릿         초콜릿가공품   \n32412  28742                      헤이즐넛크림&크런치카라멜밀크프랄린  초콜릿         초콜릿가공품   \n32448  28778                            초콜릿 카라멜 크리스피  초콜릿         초콜릿가공품   \n32450  28780  밀크 초콜릿 위드 오렌지 크런치 아몬드 카라멜 센트리(3200903)  초콜릿         초콜릿가공품   \n32492  28822           밀크 초콜릿 위드 크런치 아몬드카라멜(3199707)  초콜릿         초콜릿가공품   \n32496  28826                            피넛 앤 카라멜 초코바  초콜릿         초콜릿가공품   \n32497  28827                           비스킷 앤 카라멜 초코바  초콜릿         초콜릿가공품   \n32611  49538                      기라델리 인텐스다크 솔티드 카라멜  초콜릿         초콜릿가공품   \n32614  49558                         리얼밀크초콜릿 카라멜 초코볼  초콜릿         초콜릿가공품   \n32690  50405                               파베초콜릿 카라멜  초콜릿         초콜릿가공품   \n32706  51095                        씨솔트 앤 카라멜 블럭 초콜릿  초콜릿         초콜릿가공품   \n32707  51096   웨스트 코스트 버터밀크 카라멜 화이트 초콜릿 위드 진저브레드 비스킷  초콜릿         초콜릿가공품   \n32736  51925                              카라멜솔트 초코파이  초콜릿         초콜릿가공품   \n32780  52825                             카라멜 아몬드 초콜릿  초콜릿         초콜릿가공품   \n32781  52826                           카라멜 앤 비스킷 초코바  초콜릿         초콜릿가공품   \n32912  56653                          킷캣 카라멜 (19.5g)  초콜릿         초콜릿가공품   \n32990  58678                           쁘띠몽쉘 커스타드 카라멜  초콜릿         초콜릿가공품   \n33096  60876                              크리미츄 누가카라멜  초콜릿         초콜릿가공품   \n33103  60883                              카라멜 전병 빼빼로  초콜릿         초콜릿가공품   \n33141  61525                                팀탐 츄이카라멜  초콜릿         초콜릿가공품   \n33207  65275                         마테즈 카카오 트러플 카라멜  초콜릿         초콜릿가공품   \n33266  66395                              아인즈 솔티드카라멜  초콜릿         초콜릿가공품   \n33287  66957                        아이파베스 솔트카라멜 생초콜릿  초콜릿         초콜릿가공품   \n\n       1회 제공량 용량 총내용량(g) 총내용량(ml)  총당류(g)  \n9461      100  g   10880        -   56.00  \n9462      100  g   10880        -   56.00  \n14383     100  g    4000        -   52.00  \n14532      32  g      32        -   16.00  \n30128     100  g     200        -   38.00  \n30168     100  g     311        -   29.00  \n30240     100  g    3000        -   51.00  \n30326     100  g     110        -   51.00  \n31068     100  g    1970        -   39.00  \n31350      22  g     264        -    7.00  \n31355      28  g     336        -   10.00  \n31574     100  g     260        -   47.00  \n31782      17  g     272        -    5.00  \n31813      62  g      62        -   18.00  \n31953     125  g     125        -   43.03  \n32020     100  g    1500        -   56.00  \n32031     100  g     134        -   59.00  \n32035     100  g     460        -   60.00  \n32071     100  g     100        -   43.10  \n32075     100  g    2022        -   50.00  \n32151     100  g    3000        -   43.00  \n32161     100  g    1000        -   62.00  \n32165     100  g     500        -   62.00  \n32173     100  g     500        -   57.00  \n32222     100  g     247        -   54.00  \n32275     100  g     134        -   59.00  \n32411     100  g    1000        -   61.00  \n32412     100  g    1000        -   61.00  \n32448     100  g     125        -   47.00  \n32450     100  g     460        -   59.00  \n32492     100  g     460        -   60.00  \n32496     100  g     500        -   42.00  \n32497     100  g     500        -   44.00  \n32611     100  g     100        -   48.00  \n32614     100  g     260        -   47.00  \n32690     130  g     130        -   48.00  \n32706     100  g     100        -   48.00  \n32707     100  g     100        -   51.00  \n32736      62  g      62        -   18.00  \n32780     100  g     100        -   60.00  \n32781     240  g     240        -  113.00  \n32912      20  g    19.5        -   10.20  \n32990      17  g     272        -    5.00  \n33096     100  g     224        -   32.00  \n33103      27  g      27        -   12.00  \n33141     175  g     175        -   80.00  \n33207      35  g      35        -   14.00  \n33266     100  g     130        -   46.00  \n33287     125  g     125        -   43.03  ",
      "text/html": "<div>\n<style scoped>\n    .dataframe tbody tr th:only-of-type {\n        vertical-align: middle;\n    }\n\n    .dataframe tbody tr th {\n        vertical-align: top;\n    }\n\n    .dataframe thead th {\n        text-align: right;\n    }\n</style>\n<table border=\"1\" class=\"dataframe\">\n  <thead>\n    <tr style=\"text-align: right;\">\n      <th></th>\n      <th>No</th>\n      <th>식품명</th>\n      <th>대분류</th>\n      <th>중분류</th>\n      <th>소분류</th>\n      <th>1회 제공량</th>\n      <th>용량</th>\n      <th>총내용량(g)</th>\n      <th>총내용량(ml)</th>\n      <th>총당류(g)</th>\n    </tr>\n  </thead>\n  <tbody>\n    <tr>\n      <th>9461</th>\n      <td>44565</td>\n      <td>카라멜 볼</td>\n      <td>초콜릿</td>\n      <td></td>\n      <td>기타 코코아가공품</td>\n      <td>100</td>\n      <td>g</td>\n      <td>10880</td>\n      <td>-</td>\n      <td>56.00</td>\n    </tr>\n    <tr>\n      <th>9462</th>\n      <td>44566</td>\n      <td>카라멜향 범킨스</td>\n      <td>초콜릿</td>\n      <td></td>\n      <td>기타 코코아가공품</td>\n      <td>100</td>\n      <td>g</td>\n      <td>10880</td>\n      <td>-</td>\n      <td>56.00</td>\n    </tr>\n    <tr>\n      <th>14383</th>\n      <td>42926</td>\n      <td>초코비쥬 스틱 카라멜향 밀크</td>\n      <td>초콜릿</td>\n      <td></td>\n      <td>밀크초콜릿</td>\n      <td>100</td>\n      <td>g</td>\n      <td>4000</td>\n      <td>-</td>\n      <td>52.00</td>\n    </tr>\n    <tr>\n      <th>14532</th>\n      <td>58711</td>\n      <td>가나시그니처 생크림디저트 밀크카라멜</td>\n      <td>초콜릿</td>\n      <td></td>\n      <td>밀크초콜릿</td>\n      <td>32</td>\n      <td>g</td>\n      <td>32</td>\n      <td>-</td>\n      <td>16.00</td>\n    </tr>\n    <tr>\n      <th>30128</th>\n      <td>42258</td>\n      <td>벨지안 트러플초콜릿 솔티드카라멜맛</td>\n      <td>초콜릿</td>\n      <td></td>\n      <td>준초콜릿</td>\n      <td>100</td>\n      <td>g</td>\n      <td>200</td>\n      <td>-</td>\n      <td>38.00</td>\n    </tr>\n    <tr>\n      <th>30168</th>\n      <td>43746</td>\n      <td>아모레띠 솔티드 카라멜  스프레드</td>\n      <td>초콜릿</td>\n      <td></td>\n      <td>준초콜릿</td>\n      <td>100</td>\n      <td>g</td>\n      <td>311</td>\n      <td>-</td>\n      <td>29.00</td>\n    </tr>\n    <tr>\n      <th>30240</th>\n      <td>45766</td>\n      <td>카라멜리아</td>\n      <td>초콜릿</td>\n      <td></td>\n      <td>준초콜릿</td>\n      <td>100</td>\n      <td>g</td>\n      <td>3000</td>\n      <td>-</td>\n      <td>51.00</td>\n    </tr>\n    <tr>\n      <th>30326</th>\n      <td>56368</td>\n      <td>김원초 F 솔트카라멜</td>\n      <td>초콜릿</td>\n      <td></td>\n      <td>준초콜릿</td>\n      <td>100</td>\n      <td>g</td>\n      <td>110</td>\n      <td>-</td>\n      <td>51.00</td>\n    </tr>\n    <tr>\n      <th>31068</th>\n      <td>43228</td>\n      <td>크리미 카라멜 초콜릿 (76854)</td>\n      <td>초콜릿</td>\n      <td></td>\n      <td>초콜릿</td>\n      <td>100</td>\n      <td>g</td>\n      <td>1970</td>\n      <td>-</td>\n      <td>39.00</td>\n    </tr>\n    <tr>\n      <th>31350</th>\n      <td>15439</td>\n      <td>오리온생크림파이쇼콜라&amp;카라멜</td>\n      <td>초콜릿</td>\n      <td></td>\n      <td>초콜릿가공품</td>\n      <td>22</td>\n      <td>g</td>\n      <td>264</td>\n      <td>-</td>\n      <td>7.00</td>\n    </tr>\n    <tr>\n      <th>31355</th>\n      <td>15444</td>\n      <td>오예스 노아카라멜</td>\n      <td>초콜릿</td>\n      <td></td>\n      <td>초콜릿가공품</td>\n      <td>28</td>\n      <td>g</td>\n      <td>336</td>\n      <td>-</td>\n      <td>10.00</td>\n    </tr>\n    <tr>\n      <th>31574</th>\n      <td>27768</td>\n      <td>리얼밀크초콜릿 카라멜 초코볼</td>\n      <td>초콜릿</td>\n      <td></td>\n      <td>초콜릿가공품</td>\n      <td>100</td>\n      <td>g</td>\n      <td>260</td>\n      <td>-</td>\n      <td>47.00</td>\n    </tr>\n    <tr>\n      <th>31782</th>\n      <td>28044</td>\n      <td>쁘띠몽쉘 커스타드 카라멜</td>\n      <td>초콜릿</td>\n      <td></td>\n      <td>초콜릿가공품</td>\n      <td>17</td>\n      <td>g</td>\n      <td>272</td>\n      <td>-</td>\n      <td>5.00</td>\n    </tr>\n    <tr>\n      <th>31813</th>\n      <td>28085</td>\n      <td>카라멜솔트 초코파이</td>\n      <td>초콜릿</td>\n      <td></td>\n      <td>초콜릿가공품</td>\n      <td>62</td>\n      <td>g</td>\n      <td>62</td>\n      <td>-</td>\n      <td>18.00</td>\n    </tr>\n    <tr>\n      <th>31953</th>\n      <td>28272</td>\n      <td>아이파베스 솔트카라멜 생초콜릿</td>\n      <td>초콜릿</td>\n      <td></td>\n      <td>초콜릿가공품</td>\n      <td>125</td>\n      <td>g</td>\n      <td>125</td>\n      <td>-</td>\n      <td>43.03</td>\n    </tr>\n    <tr>\n      <th>32020</th>\n      <td>28345</td>\n      <td>카라멜 씨솔트 니어폴리탄스</td>\n      <td>초콜릿</td>\n      <td></td>\n      <td>초콜릿가공품</td>\n      <td>100</td>\n      <td>g</td>\n      <td>1500</td>\n      <td>-</td>\n      <td>56.00</td>\n    </tr>\n    <tr>\n      <th>32031</th>\n      <td>28356</td>\n      <td>밀크초콜릿 위드 아몬드카라멜</td>\n      <td>초콜릿</td>\n      <td></td>\n      <td>초콜릿가공품</td>\n      <td>100</td>\n      <td>g</td>\n      <td>134</td>\n      <td>-</td>\n      <td>59.00</td>\n    </tr>\n    <tr>\n      <th>32035</th>\n      <td>28360</td>\n      <td>밀크 초콜릿 위드 크런치 아몬드카라멜</td>\n      <td>초콜릿</td>\n      <td></td>\n      <td>초콜릿가공품</td>\n      <td>100</td>\n      <td>g</td>\n      <td>460</td>\n      <td>-</td>\n      <td>60.00</td>\n    </tr>\n    <tr>\n      <th>32071</th>\n      <td>28397</td>\n      <td>카라멜피칸 와플 카나디안 메이플시럽 초콜릿</td>\n      <td>초콜릿</td>\n      <td></td>\n      <td>초콜릿가공품</td>\n      <td>100</td>\n      <td>g</td>\n      <td>100</td>\n      <td>-</td>\n      <td>43.10</td>\n    </tr>\n    <tr>\n      <th>32075</th>\n      <td>28401</td>\n      <td>트뤼프 솔티드 카라멜 (76752)</td>\n      <td>초콜릿</td>\n      <td></td>\n      <td>초콜릿가공품</td>\n      <td>100</td>\n      <td>g</td>\n      <td>2022</td>\n      <td>-</td>\n      <td>50.00</td>\n    </tr>\n    <tr>\n      <th>32151</th>\n      <td>28477</td>\n      <td>카라멜리아 진주 크런치</td>\n      <td>초콜릿</td>\n      <td></td>\n      <td>초콜릿가공품</td>\n      <td>100</td>\n      <td>g</td>\n      <td>3000</td>\n      <td>-</td>\n      <td>43.00</td>\n    </tr>\n    <tr>\n      <th>32161</th>\n      <td>28487</td>\n      <td>폰단테카라멜비트초콜릿</td>\n      <td>초콜릿</td>\n      <td></td>\n      <td>초콜릿가공품</td>\n      <td>100</td>\n      <td>g</td>\n      <td>1000</td>\n      <td>-</td>\n      <td>62.00</td>\n    </tr>\n    <tr>\n      <th>32165</th>\n      <td>28491</td>\n      <td>폰단테카라멜비트초콜릿500</td>\n      <td>초콜릿</td>\n      <td></td>\n      <td>초콜릿가공품</td>\n      <td>100</td>\n      <td>g</td>\n      <td>500</td>\n      <td>-</td>\n      <td>62.00</td>\n    </tr>\n    <tr>\n      <th>32173</th>\n      <td>28499</td>\n      <td>폰단테카라멜토피초콜릿(500g)</td>\n      <td>초콜릿</td>\n      <td></td>\n      <td>초콜릿가공품</td>\n      <td>100</td>\n      <td>g</td>\n      <td>500</td>\n      <td>-</td>\n      <td>57.00</td>\n    </tr>\n    <tr>\n      <th>32222</th>\n      <td>28551</td>\n      <td>토피퍼지앤 카라멜 컬렉션</td>\n      <td>초콜릿</td>\n      <td></td>\n      <td>초콜릿가공품</td>\n      <td>100</td>\n      <td>g</td>\n      <td>247</td>\n      <td>-</td>\n      <td>54.00</td>\n    </tr>\n    <tr>\n      <th>32275</th>\n      <td>28604</td>\n      <td>밀크초콜릿 위드 아몬드카라멜(3099903)</td>\n      <td>초콜릿</td>\n      <td></td>\n      <td>초콜릿가공품</td>\n      <td>100</td>\n      <td>g</td>\n      <td>134</td>\n      <td>-</td>\n      <td>59.00</td>\n    </tr>\n    <tr>\n      <th>32411</th>\n      <td>28741</td>\n      <td>솔티드크림&amp;크런치카라멜밀크프랄린</td>\n      <td>초콜릿</td>\n      <td></td>\n      <td>초콜릿가공품</td>\n      <td>100</td>\n      <td>g</td>\n      <td>1000</td>\n      <td>-</td>\n      <td>61.00</td>\n    </tr>\n    <tr>\n      <th>32412</th>\n      <td>28742</td>\n      <td>헤이즐넛크림&amp;크런치카라멜밀크프랄린</td>\n      <td>초콜릿</td>\n      <td></td>\n      <td>초콜릿가공품</td>\n      <td>100</td>\n      <td>g</td>\n      <td>1000</td>\n      <td>-</td>\n      <td>61.00</td>\n    </tr>\n    <tr>\n      <th>32448</th>\n      <td>28778</td>\n      <td>초콜릿 카라멜 크리스피</td>\n      <td>초콜릿</td>\n      <td></td>\n      <td>초콜릿가공품</td>\n      <td>100</td>\n      <td>g</td>\n      <td>125</td>\n      <td>-</td>\n      <td>47.00</td>\n    </tr>\n    <tr>\n      <th>32450</th>\n      <td>28780</td>\n      <td>밀크 초콜릿 위드 오렌지 크런치 아몬드 카라멜 센트리(3200903)</td>\n      <td>초콜릿</td>\n      <td></td>\n      <td>초콜릿가공품</td>\n      <td>100</td>\n      <td>g</td>\n      <td>460</td>\n      <td>-</td>\n      <td>59.00</td>\n    </tr>\n    <tr>\n      <th>32492</th>\n      <td>28822</td>\n      <td>밀크 초콜릿 위드 크런치 아몬드카라멜(3199707)</td>\n      <td>초콜릿</td>\n      <td></td>\n      <td>초콜릿가공품</td>\n      <td>100</td>\n      <td>g</td>\n      <td>460</td>\n      <td>-</td>\n      <td>60.00</td>\n    </tr>\n    <tr>\n      <th>32496</th>\n      <td>28826</td>\n      <td>피넛 앤 카라멜 초코바</td>\n      <td>초콜릿</td>\n      <td></td>\n      <td>초콜릿가공품</td>\n      <td>100</td>\n      <td>g</td>\n      <td>500</td>\n      <td>-</td>\n      <td>42.00</td>\n    </tr>\n    <tr>\n      <th>32497</th>\n      <td>28827</td>\n      <td>비스킷 앤 카라멜 초코바</td>\n      <td>초콜릿</td>\n      <td></td>\n      <td>초콜릿가공품</td>\n      <td>100</td>\n      <td>g</td>\n      <td>500</td>\n      <td>-</td>\n      <td>44.00</td>\n    </tr>\n    <tr>\n      <th>32611</th>\n      <td>49538</td>\n      <td>기라델리 인텐스다크 솔티드 카라멜</td>\n      <td>초콜릿</td>\n      <td></td>\n      <td>초콜릿가공품</td>\n      <td>100</td>\n      <td>g</td>\n      <td>100</td>\n      <td>-</td>\n      <td>48.00</td>\n    </tr>\n    <tr>\n      <th>32614</th>\n      <td>49558</td>\n      <td>리얼밀크초콜릿 카라멜 초코볼</td>\n      <td>초콜릿</td>\n      <td></td>\n      <td>초콜릿가공품</td>\n      <td>100</td>\n      <td>g</td>\n      <td>260</td>\n      <td>-</td>\n      <td>47.00</td>\n    </tr>\n    <tr>\n      <th>32690</th>\n      <td>50405</td>\n      <td>파베초콜릿 카라멜</td>\n      <td>초콜릿</td>\n      <td></td>\n      <td>초콜릿가공품</td>\n      <td>130</td>\n      <td>g</td>\n      <td>130</td>\n      <td>-</td>\n      <td>48.00</td>\n    </tr>\n    <tr>\n      <th>32706</th>\n      <td>51095</td>\n      <td>씨솔트 앤 카라멜 블럭 초콜릿</td>\n      <td>초콜릿</td>\n      <td></td>\n      <td>초콜릿가공품</td>\n      <td>100</td>\n      <td>g</td>\n      <td>100</td>\n      <td>-</td>\n      <td>48.00</td>\n    </tr>\n    <tr>\n      <th>32707</th>\n      <td>51096</td>\n      <td>웨스트 코스트 버터밀크 카라멜 화이트 초콜릿 위드 진저브레드 비스킷</td>\n      <td>초콜릿</td>\n      <td></td>\n      <td>초콜릿가공품</td>\n      <td>100</td>\n      <td>g</td>\n      <td>100</td>\n      <td>-</td>\n      <td>51.00</td>\n    </tr>\n    <tr>\n      <th>32736</th>\n      <td>51925</td>\n      <td>카라멜솔트 초코파이</td>\n      <td>초콜릿</td>\n      <td></td>\n      <td>초콜릿가공품</td>\n      <td>62</td>\n      <td>g</td>\n      <td>62</td>\n      <td>-</td>\n      <td>18.00</td>\n    </tr>\n    <tr>\n      <th>32780</th>\n      <td>52825</td>\n      <td>카라멜 아몬드 초콜릿</td>\n      <td>초콜릿</td>\n      <td></td>\n      <td>초콜릿가공품</td>\n      <td>100</td>\n      <td>g</td>\n      <td>100</td>\n      <td>-</td>\n      <td>60.00</td>\n    </tr>\n    <tr>\n      <th>32781</th>\n      <td>52826</td>\n      <td>카라멜 앤 비스킷 초코바</td>\n      <td>초콜릿</td>\n      <td></td>\n      <td>초콜릿가공품</td>\n      <td>240</td>\n      <td>g</td>\n      <td>240</td>\n      <td>-</td>\n      <td>113.00</td>\n    </tr>\n    <tr>\n      <th>32912</th>\n      <td>56653</td>\n      <td>킷캣 카라멜 (19.5g)</td>\n      <td>초콜릿</td>\n      <td></td>\n      <td>초콜릿가공품</td>\n      <td>20</td>\n      <td>g</td>\n      <td>19.5</td>\n      <td>-</td>\n      <td>10.20</td>\n    </tr>\n    <tr>\n      <th>32990</th>\n      <td>58678</td>\n      <td>쁘띠몽쉘 커스타드 카라멜</td>\n      <td>초콜릿</td>\n      <td></td>\n      <td>초콜릿가공품</td>\n      <td>17</td>\n      <td>g</td>\n      <td>272</td>\n      <td>-</td>\n      <td>5.00</td>\n    </tr>\n    <tr>\n      <th>33096</th>\n      <td>60876</td>\n      <td>크리미츄 누가카라멜</td>\n      <td>초콜릿</td>\n      <td></td>\n      <td>초콜릿가공품</td>\n      <td>100</td>\n      <td>g</td>\n      <td>224</td>\n      <td>-</td>\n      <td>32.00</td>\n    </tr>\n    <tr>\n      <th>33103</th>\n      <td>60883</td>\n      <td>카라멜 전병 빼빼로</td>\n      <td>초콜릿</td>\n      <td></td>\n      <td>초콜릿가공품</td>\n      <td>27</td>\n      <td>g</td>\n      <td>27</td>\n      <td>-</td>\n      <td>12.00</td>\n    </tr>\n    <tr>\n      <th>33141</th>\n      <td>61525</td>\n      <td>팀탐 츄이카라멜</td>\n      <td>초콜릿</td>\n      <td></td>\n      <td>초콜릿가공품</td>\n      <td>175</td>\n      <td>g</td>\n      <td>175</td>\n      <td>-</td>\n      <td>80.00</td>\n    </tr>\n    <tr>\n      <th>33207</th>\n      <td>65275</td>\n      <td>마테즈 카카오 트러플 카라멜</td>\n      <td>초콜릿</td>\n      <td></td>\n      <td>초콜릿가공품</td>\n      <td>35</td>\n      <td>g</td>\n      <td>35</td>\n      <td>-</td>\n      <td>14.00</td>\n    </tr>\n    <tr>\n      <th>33266</th>\n      <td>66395</td>\n      <td>아인즈 솔티드카라멜</td>\n      <td>초콜릿</td>\n      <td></td>\n      <td>초콜릿가공품</td>\n      <td>100</td>\n      <td>g</td>\n      <td>130</td>\n      <td>-</td>\n      <td>46.00</td>\n    </tr>\n    <tr>\n      <th>33287</th>\n      <td>66957</td>\n      <td>아이파베스 솔트카라멜 생초콜릿</td>\n      <td>초콜릿</td>\n      <td></td>\n      <td>초콜릿가공품</td>\n      <td>125</td>\n      <td>g</td>\n      <td>125</td>\n      <td>-</td>\n      <td>43.03</td>\n    </tr>\n  </tbody>\n</table>\n</div>"
     },
     "execution_count": 139,
     "metadata": {},
     "output_type": "execute_result"
    }
   ],
   "source": [
    "sheet.loc[(sheet[\"식품명\"].str.contains('카라멜')) & (sheet[\"대분류\"] == '초콜릿'), :]"
   ],
   "metadata": {
    "collapsed": false,
    "pycharm": {
     "name": "#%%\n"
    }
   }
  },
  {
   "cell_type": "code",
   "execution_count": 140,
   "outputs": [],
   "source": [
    "# 초콜릿 -> 캐러멜 : 14개\n",
    "# 초콜릿 -> 카라멜 : 49개"
   ],
   "metadata": {
    "collapsed": false,
    "pycharm": {
     "name": "#%%\n"
    }
   }
  },
  {
   "cell_type": "code",
   "execution_count": 141,
   "outputs": [
    {
     "data": {
      "text/plain": "          No                                                식품명 대분류 중분류  소분류  \\\n33584  51165                                            고구마 캐러멜  캔디      캐러멜   \n33611  55551                                              땅콩캐러멜  캔디      캐러멜   \n33650  63109                    스모크 솔트 캐러멜(Smoked Salt Caramel)  캔디      캐러멜   \n33653  65784                                              밀크캐러멜  캔디      캐러멜   \n34249  39333                                              땅콩캐러멜  캔디      캔디류   \n34433  39560     골든 브릭스 오리지날 캐러멜 (Golden Brix Original Caramel)  캔디      캔디류   \n34434  39561                    스모크 솔트 캐러멜(Smoked Salt Caramel)  캔디      캔디류   \n34435  39562  스모크 히말라얀 핑크솔트 캐러멜(smoked hiamalayan pink salt ...  캔디      캔디류   \n34436  39563                      우도 땅콩 캐러멜(UDO peanut Caramel)  캔디      캔디류   \n34437  39564                  천도복숭아 캐러멜(heavenly peach Caramel)  캔디      캔디류   \n34609  39812                                    지쿱 이너뷰티 콜라겐 캐러멜  캔디      캔디류   \n34949  42170                                         고에츠초코크림캐러멜  캔디      캔디류   \n34952  42173                                        카우테일즈사과캐러멜향  캔디      캔디류   \n34953  42174                                              크림캐러멜  캔디      캔디류   \n34954  42175                                           크림캐러멜딸기맛  캔디      캔디류   \n34955  42176                                          크림캐러멜초콜릿맛  캔디      캔디류   \n35153  43249                                             치즈향캐러멜  캔디      캔디류   \n\n       1회 제공량 용량 총내용량(g) 총내용량(ml)  총당류(g)  \n33584     100  g     840        -    50.0  \n33611      10  g      70        -     4.0  \n33650     100  g      90        -    51.6  \n33653     100  g     720        -    60.0  \n34249      10  g     600        -     4.2  \n34433     100  g     100        -    31.7  \n34434      90  g      90        -    41.0  \n34435      48  g      48        -    25.4  \n34436      48  g      48        -    25.8  \n34437      48  g      48        -    25.5  \n34609     600  g     600        -   230.0  \n34949     100  g    2270        -    38.0  \n34952     100  g    1000        -    39.0  \n34953     100  g    2270        -    38.0  \n34954     100  g    2270        -    38.0  \n34955     100  g    2270        -    38.0  \n35153     100  g    4530        -    50.0  ",
      "text/html": "<div>\n<style scoped>\n    .dataframe tbody tr th:only-of-type {\n        vertical-align: middle;\n    }\n\n    .dataframe tbody tr th {\n        vertical-align: top;\n    }\n\n    .dataframe thead th {\n        text-align: right;\n    }\n</style>\n<table border=\"1\" class=\"dataframe\">\n  <thead>\n    <tr style=\"text-align: right;\">\n      <th></th>\n      <th>No</th>\n      <th>식품명</th>\n      <th>대분류</th>\n      <th>중분류</th>\n      <th>소분류</th>\n      <th>1회 제공량</th>\n      <th>용량</th>\n      <th>총내용량(g)</th>\n      <th>총내용량(ml)</th>\n      <th>총당류(g)</th>\n    </tr>\n  </thead>\n  <tbody>\n    <tr>\n      <th>33584</th>\n      <td>51165</td>\n      <td>고구마 캐러멜</td>\n      <td>캔디</td>\n      <td></td>\n      <td>캐러멜</td>\n      <td>100</td>\n      <td>g</td>\n      <td>840</td>\n      <td>-</td>\n      <td>50.0</td>\n    </tr>\n    <tr>\n      <th>33611</th>\n      <td>55551</td>\n      <td>땅콩캐러멜</td>\n      <td>캔디</td>\n      <td></td>\n      <td>캐러멜</td>\n      <td>10</td>\n      <td>g</td>\n      <td>70</td>\n      <td>-</td>\n      <td>4.0</td>\n    </tr>\n    <tr>\n      <th>33650</th>\n      <td>63109</td>\n      <td>스모크 솔트 캐러멜(Smoked Salt Caramel)</td>\n      <td>캔디</td>\n      <td></td>\n      <td>캐러멜</td>\n      <td>100</td>\n      <td>g</td>\n      <td>90</td>\n      <td>-</td>\n      <td>51.6</td>\n    </tr>\n    <tr>\n      <th>33653</th>\n      <td>65784</td>\n      <td>밀크캐러멜</td>\n      <td>캔디</td>\n      <td></td>\n      <td>캐러멜</td>\n      <td>100</td>\n      <td>g</td>\n      <td>720</td>\n      <td>-</td>\n      <td>60.0</td>\n    </tr>\n    <tr>\n      <th>34249</th>\n      <td>39333</td>\n      <td>땅콩캐러멜</td>\n      <td>캔디</td>\n      <td></td>\n      <td>캔디류</td>\n      <td>10</td>\n      <td>g</td>\n      <td>600</td>\n      <td>-</td>\n      <td>4.2</td>\n    </tr>\n    <tr>\n      <th>34433</th>\n      <td>39560</td>\n      <td>골든 브릭스 오리지날 캐러멜 (Golden Brix Original Caramel)</td>\n      <td>캔디</td>\n      <td></td>\n      <td>캔디류</td>\n      <td>100</td>\n      <td>g</td>\n      <td>100</td>\n      <td>-</td>\n      <td>31.7</td>\n    </tr>\n    <tr>\n      <th>34434</th>\n      <td>39561</td>\n      <td>스모크 솔트 캐러멜(Smoked Salt Caramel)</td>\n      <td>캔디</td>\n      <td></td>\n      <td>캔디류</td>\n      <td>90</td>\n      <td>g</td>\n      <td>90</td>\n      <td>-</td>\n      <td>41.0</td>\n    </tr>\n    <tr>\n      <th>34435</th>\n      <td>39562</td>\n      <td>스모크 히말라얀 핑크솔트 캐러멜(smoked hiamalayan pink salt ...</td>\n      <td>캔디</td>\n      <td></td>\n      <td>캔디류</td>\n      <td>48</td>\n      <td>g</td>\n      <td>48</td>\n      <td>-</td>\n      <td>25.4</td>\n    </tr>\n    <tr>\n      <th>34436</th>\n      <td>39563</td>\n      <td>우도 땅콩 캐러멜(UDO peanut Caramel)</td>\n      <td>캔디</td>\n      <td></td>\n      <td>캔디류</td>\n      <td>48</td>\n      <td>g</td>\n      <td>48</td>\n      <td>-</td>\n      <td>25.8</td>\n    </tr>\n    <tr>\n      <th>34437</th>\n      <td>39564</td>\n      <td>천도복숭아 캐러멜(heavenly peach Caramel)</td>\n      <td>캔디</td>\n      <td></td>\n      <td>캔디류</td>\n      <td>48</td>\n      <td>g</td>\n      <td>48</td>\n      <td>-</td>\n      <td>25.5</td>\n    </tr>\n    <tr>\n      <th>34609</th>\n      <td>39812</td>\n      <td>지쿱 이너뷰티 콜라겐 캐러멜</td>\n      <td>캔디</td>\n      <td></td>\n      <td>캔디류</td>\n      <td>600</td>\n      <td>g</td>\n      <td>600</td>\n      <td>-</td>\n      <td>230.0</td>\n    </tr>\n    <tr>\n      <th>34949</th>\n      <td>42170</td>\n      <td>고에츠초코크림캐러멜</td>\n      <td>캔디</td>\n      <td></td>\n      <td>캔디류</td>\n      <td>100</td>\n      <td>g</td>\n      <td>2270</td>\n      <td>-</td>\n      <td>38.0</td>\n    </tr>\n    <tr>\n      <th>34952</th>\n      <td>42173</td>\n      <td>카우테일즈사과캐러멜향</td>\n      <td>캔디</td>\n      <td></td>\n      <td>캔디류</td>\n      <td>100</td>\n      <td>g</td>\n      <td>1000</td>\n      <td>-</td>\n      <td>39.0</td>\n    </tr>\n    <tr>\n      <th>34953</th>\n      <td>42174</td>\n      <td>크림캐러멜</td>\n      <td>캔디</td>\n      <td></td>\n      <td>캔디류</td>\n      <td>100</td>\n      <td>g</td>\n      <td>2270</td>\n      <td>-</td>\n      <td>38.0</td>\n    </tr>\n    <tr>\n      <th>34954</th>\n      <td>42175</td>\n      <td>크림캐러멜딸기맛</td>\n      <td>캔디</td>\n      <td></td>\n      <td>캔디류</td>\n      <td>100</td>\n      <td>g</td>\n      <td>2270</td>\n      <td>-</td>\n      <td>38.0</td>\n    </tr>\n    <tr>\n      <th>34955</th>\n      <td>42176</td>\n      <td>크림캐러멜초콜릿맛</td>\n      <td>캔디</td>\n      <td></td>\n      <td>캔디류</td>\n      <td>100</td>\n      <td>g</td>\n      <td>2270</td>\n      <td>-</td>\n      <td>38.0</td>\n    </tr>\n    <tr>\n      <th>35153</th>\n      <td>43249</td>\n      <td>치즈향캐러멜</td>\n      <td>캔디</td>\n      <td></td>\n      <td>캔디류</td>\n      <td>100</td>\n      <td>g</td>\n      <td>4530</td>\n      <td>-</td>\n      <td>50.0</td>\n    </tr>\n  </tbody>\n</table>\n</div>"
     },
     "execution_count": 141,
     "metadata": {},
     "output_type": "execute_result"
    }
   ],
   "source": [
    "sheet.loc[(sheet[\"식품명\"].str.contains('캐러멜')) & (sheet[\"대분류\"] == '캔디'), :]"
   ],
   "metadata": {
    "collapsed": false,
    "pycharm": {
     "name": "#%%\n"
    }
   }
  },
  {
   "cell_type": "code",
   "execution_count": 142,
   "outputs": [],
   "source": [
    "# 캔디 -> 카라멜 : 58개\n",
    "# 캔디 -> 캐러멜 : 17개"
   ],
   "metadata": {
    "collapsed": false,
    "pycharm": {
     "name": "#%%\n"
    }
   }
  },
  {
   "cell_type": "code",
   "execution_count": 143,
   "outputs": [
    {
     "data": {
      "text/plain": "          No         식품명 대분류 중분류    소분류  1회 제공량 용량 총내용량(g) 총내용량(ml)  총당류(g)\n13019  13422  스카치캔디 세가지맛  캔디      기타캔디류       9  g     317        -     6.0\n13020  13455    스카치캔디 커피  캔디      기타캔디류     317  g     317        -   219.0\n13021  13471    라임민트 목캔디  캔디      기타캔디류      38  g      38        -    23.0\n13022  13474         비틀즈  캔디      기타캔디류      15  g      15        -     9.0\n13023  13509       비타C박스  캔디      기타캔디류       9  g      18        -     8.0\n...      ...         ...  ..  ..    ...     ... ..     ...      ...     ...\n35513  55056    오쉐프 자몽푸딩  캔디        캔디류     100  g    1000        -    24.0\n35514  66980   한살림과일푸딩포도  캔디        캔디류     110  g     110        -    16.0\n35515  66981   한살림과일푸딩딸기  캔디        캔디류     110  g     110        -    11.0\n35516  66982   한살림과일푸딩감귤  캔디        캔디류     110  g     110        -    12.0\n35517  66983   한살림과일푸딩사과  캔디        캔디류     110  g     110        -    12.0\n\n[3732 rows x 10 columns]",
      "text/html": "<div>\n<style scoped>\n    .dataframe tbody tr th:only-of-type {\n        vertical-align: middle;\n    }\n\n    .dataframe tbody tr th {\n        vertical-align: top;\n    }\n\n    .dataframe thead th {\n        text-align: right;\n    }\n</style>\n<table border=\"1\" class=\"dataframe\">\n  <thead>\n    <tr style=\"text-align: right;\">\n      <th></th>\n      <th>No</th>\n      <th>식품명</th>\n      <th>대분류</th>\n      <th>중분류</th>\n      <th>소분류</th>\n      <th>1회 제공량</th>\n      <th>용량</th>\n      <th>총내용량(g)</th>\n      <th>총내용량(ml)</th>\n      <th>총당류(g)</th>\n    </tr>\n  </thead>\n  <tbody>\n    <tr>\n      <th>13019</th>\n      <td>13422</td>\n      <td>스카치캔디 세가지맛</td>\n      <td>캔디</td>\n      <td></td>\n      <td>기타캔디류</td>\n      <td>9</td>\n      <td>g</td>\n      <td>317</td>\n      <td>-</td>\n      <td>6.0</td>\n    </tr>\n    <tr>\n      <th>13020</th>\n      <td>13455</td>\n      <td>스카치캔디 커피</td>\n      <td>캔디</td>\n      <td></td>\n      <td>기타캔디류</td>\n      <td>317</td>\n      <td>g</td>\n      <td>317</td>\n      <td>-</td>\n      <td>219.0</td>\n    </tr>\n    <tr>\n      <th>13021</th>\n      <td>13471</td>\n      <td>라임민트 목캔디</td>\n      <td>캔디</td>\n      <td></td>\n      <td>기타캔디류</td>\n      <td>38</td>\n      <td>g</td>\n      <td>38</td>\n      <td>-</td>\n      <td>23.0</td>\n    </tr>\n    <tr>\n      <th>13022</th>\n      <td>13474</td>\n      <td>비틀즈</td>\n      <td>캔디</td>\n      <td></td>\n      <td>기타캔디류</td>\n      <td>15</td>\n      <td>g</td>\n      <td>15</td>\n      <td>-</td>\n      <td>9.0</td>\n    </tr>\n    <tr>\n      <th>13023</th>\n      <td>13509</td>\n      <td>비타C박스</td>\n      <td>캔디</td>\n      <td></td>\n      <td>기타캔디류</td>\n      <td>9</td>\n      <td>g</td>\n      <td>18</td>\n      <td>-</td>\n      <td>8.0</td>\n    </tr>\n    <tr>\n      <th>...</th>\n      <td>...</td>\n      <td>...</td>\n      <td>...</td>\n      <td>...</td>\n      <td>...</td>\n      <td>...</td>\n      <td>...</td>\n      <td>...</td>\n      <td>...</td>\n      <td>...</td>\n    </tr>\n    <tr>\n      <th>35513</th>\n      <td>55056</td>\n      <td>오쉐프 자몽푸딩</td>\n      <td>캔디</td>\n      <td></td>\n      <td>캔디류</td>\n      <td>100</td>\n      <td>g</td>\n      <td>1000</td>\n      <td>-</td>\n      <td>24.0</td>\n    </tr>\n    <tr>\n      <th>35514</th>\n      <td>66980</td>\n      <td>한살림과일푸딩포도</td>\n      <td>캔디</td>\n      <td></td>\n      <td>캔디류</td>\n      <td>110</td>\n      <td>g</td>\n      <td>110</td>\n      <td>-</td>\n      <td>16.0</td>\n    </tr>\n    <tr>\n      <th>35515</th>\n      <td>66981</td>\n      <td>한살림과일푸딩딸기</td>\n      <td>캔디</td>\n      <td></td>\n      <td>캔디류</td>\n      <td>110</td>\n      <td>g</td>\n      <td>110</td>\n      <td>-</td>\n      <td>11.0</td>\n    </tr>\n    <tr>\n      <th>35516</th>\n      <td>66982</td>\n      <td>한살림과일푸딩감귤</td>\n      <td>캔디</td>\n      <td></td>\n      <td>캔디류</td>\n      <td>110</td>\n      <td>g</td>\n      <td>110</td>\n      <td>-</td>\n      <td>12.0</td>\n    </tr>\n    <tr>\n      <th>35517</th>\n      <td>66983</td>\n      <td>한살림과일푸딩사과</td>\n      <td>캔디</td>\n      <td></td>\n      <td>캔디류</td>\n      <td>110</td>\n      <td>g</td>\n      <td>110</td>\n      <td>-</td>\n      <td>12.0</td>\n    </tr>\n  </tbody>\n</table>\n<p>3732 rows × 10 columns</p>\n</div>"
     },
     "execution_count": 143,
     "metadata": {},
     "output_type": "execute_result"
    }
   ],
   "source": [
    "sheet.loc[sheet['대분류'] == '캔디']"
   ],
   "metadata": {
    "collapsed": false,
    "pycharm": {
     "name": "#%%\n"
    }
   }
  },
  {
   "cell_type": "code",
   "execution_count": 144,
   "outputs": [
    {
     "data": {
      "text/plain": "array(['기타캔디류', '사탕', '양갱', '젤리', '캐러멜', '캔디류'], dtype=object)"
     },
     "execution_count": 144,
     "metadata": {},
     "output_type": "execute_result"
    }
   ],
   "source": [
    "sheet.loc[sheet['대분류'] == '캔디', :]['소분류'].unique()"
   ],
   "metadata": {
    "collapsed": false,
    "pycharm": {
     "name": "#%%\n"
    }
   }
  },
  {
   "cell_type": "code",
   "execution_count": 145,
   "outputs": [],
   "source": [
    "# 캔디, 초콜릿, 젤리, 캐러멜, 양갱으로 타이틀 변경"
   ],
   "metadata": {
    "collapsed": false,
    "pycharm": {
     "name": "#%%\n"
    }
   }
  },
  {
   "cell_type": "code",
   "execution_count": 146,
   "outputs": [],
   "source": [
    "sheet.loc[sheet['대분류'] == '캔디', '대분류'] = '캔디, 초콜릿, 젤리, 캐러멜, 양갱'\n",
    "sheet.loc[sheet['대분류'] == '초콜릿', '대분류'] = '캔디, 초콜릿, 젤리, 캐러멜, 양갱'"
   ],
   "metadata": {
    "collapsed": false,
    "pycharm": {
     "name": "#%%\n"
    }
   }
  },
  {
   "cell_type": "code",
   "execution_count": 147,
   "outputs": [
    {
     "data": {
      "text/plain": "          No                   식품명                   대분류 중분류        소분류  \\\n9365    9776               제티 쵸코렛맛  캔디, 초콜릿, 젤리, 캐러멜, 양갱      기타 코코아가공품   \n9366    9777           미떼 핫초코 오리지날  캔디, 초콜릿, 젤리, 캐러멜, 양갱      기타 코코아가공품   \n9367    9779                 코코렛소스  캔디, 초콜릿, 젤리, 캐러멜, 양갱      기타 코코아가공품   \n9368    9781            미떼 핫초코 마일드  캔디, 초콜릿, 젤리, 캐러멜, 양갱      기타 코코아가공품   \n9369    9783            뉴얼려먹는초코만들기  캔디, 초콜릿, 젤리, 캐러멜, 양갱      기타 코코아가공품   \n...      ...                   ...                   ...  ..        ...   \n44659  59687       모리나가 다스 화이트 초콜릿  캔디, 초콜릿, 젤리, 캐러멜, 양갱         화이트초콜릿   \n44660  60615                화이트보뇌르  캔디, 초콜릿, 젤리, 캐러멜, 양갱         화이트초콜릿   \n44661  61033       토블론 스위스 화이트 초콜릿  캔디, 초콜릿, 젤리, 캐러멜, 양갱         화이트초콜릿   \n44662  61439          명인명촌 현미칩 초콜릿  캔디, 초콜릿, 젤리, 캐러멜, 양갱         화이트초콜릿   \n44663  64772  바이오 화이트 초콜릿 요거트 & 딸기  캔디, 초콜릿, 젤리, 캐러멜, 양갱         화이트초콜릿   \n\n       1회 제공량 용량 총내용량(g) 총내용량(ml)  총당류(g)  \n9365       17  g    1360        -    14.0  \n9366       17  g     680        -     9.5  \n9367      100  g    2000        -    50.0  \n9368       30  g     300        -    16.9  \n9369       36  g      36        -    14.0  \n...       ... ..     ...      ...     ...  \n44659      42  g      42        -    20.4  \n44660      30  g      50        -    13.0  \n44661     100  g     100        -    63.0  \n44662      65  g      65        -    26.0  \n44663     100  g     100        -    51.7  \n\n[7435 rows x 10 columns]",
      "text/html": "<div>\n<style scoped>\n    .dataframe tbody tr th:only-of-type {\n        vertical-align: middle;\n    }\n\n    .dataframe tbody tr th {\n        vertical-align: top;\n    }\n\n    .dataframe thead th {\n        text-align: right;\n    }\n</style>\n<table border=\"1\" class=\"dataframe\">\n  <thead>\n    <tr style=\"text-align: right;\">\n      <th></th>\n      <th>No</th>\n      <th>식품명</th>\n      <th>대분류</th>\n      <th>중분류</th>\n      <th>소분류</th>\n      <th>1회 제공량</th>\n      <th>용량</th>\n      <th>총내용량(g)</th>\n      <th>총내용량(ml)</th>\n      <th>총당류(g)</th>\n    </tr>\n  </thead>\n  <tbody>\n    <tr>\n      <th>9365</th>\n      <td>9776</td>\n      <td>제티 쵸코렛맛</td>\n      <td>캔디, 초콜릿, 젤리, 캐러멜, 양갱</td>\n      <td></td>\n      <td>기타 코코아가공품</td>\n      <td>17</td>\n      <td>g</td>\n      <td>1360</td>\n      <td>-</td>\n      <td>14.0</td>\n    </tr>\n    <tr>\n      <th>9366</th>\n      <td>9777</td>\n      <td>미떼 핫초코 오리지날</td>\n      <td>캔디, 초콜릿, 젤리, 캐러멜, 양갱</td>\n      <td></td>\n      <td>기타 코코아가공품</td>\n      <td>17</td>\n      <td>g</td>\n      <td>680</td>\n      <td>-</td>\n      <td>9.5</td>\n    </tr>\n    <tr>\n      <th>9367</th>\n      <td>9779</td>\n      <td>코코렛소스</td>\n      <td>캔디, 초콜릿, 젤리, 캐러멜, 양갱</td>\n      <td></td>\n      <td>기타 코코아가공품</td>\n      <td>100</td>\n      <td>g</td>\n      <td>2000</td>\n      <td>-</td>\n      <td>50.0</td>\n    </tr>\n    <tr>\n      <th>9368</th>\n      <td>9781</td>\n      <td>미떼 핫초코 마일드</td>\n      <td>캔디, 초콜릿, 젤리, 캐러멜, 양갱</td>\n      <td></td>\n      <td>기타 코코아가공품</td>\n      <td>30</td>\n      <td>g</td>\n      <td>300</td>\n      <td>-</td>\n      <td>16.9</td>\n    </tr>\n    <tr>\n      <th>9369</th>\n      <td>9783</td>\n      <td>뉴얼려먹는초코만들기</td>\n      <td>캔디, 초콜릿, 젤리, 캐러멜, 양갱</td>\n      <td></td>\n      <td>기타 코코아가공품</td>\n      <td>36</td>\n      <td>g</td>\n      <td>36</td>\n      <td>-</td>\n      <td>14.0</td>\n    </tr>\n    <tr>\n      <th>...</th>\n      <td>...</td>\n      <td>...</td>\n      <td>...</td>\n      <td>...</td>\n      <td>...</td>\n      <td>...</td>\n      <td>...</td>\n      <td>...</td>\n      <td>...</td>\n      <td>...</td>\n    </tr>\n    <tr>\n      <th>44659</th>\n      <td>59687</td>\n      <td>모리나가 다스 화이트 초콜릿</td>\n      <td>캔디, 초콜릿, 젤리, 캐러멜, 양갱</td>\n      <td></td>\n      <td>화이트초콜릿</td>\n      <td>42</td>\n      <td>g</td>\n      <td>42</td>\n      <td>-</td>\n      <td>20.4</td>\n    </tr>\n    <tr>\n      <th>44660</th>\n      <td>60615</td>\n      <td>화이트보뇌르</td>\n      <td>캔디, 초콜릿, 젤리, 캐러멜, 양갱</td>\n      <td></td>\n      <td>화이트초콜릿</td>\n      <td>30</td>\n      <td>g</td>\n      <td>50</td>\n      <td>-</td>\n      <td>13.0</td>\n    </tr>\n    <tr>\n      <th>44661</th>\n      <td>61033</td>\n      <td>토블론 스위스 화이트 초콜릿</td>\n      <td>캔디, 초콜릿, 젤리, 캐러멜, 양갱</td>\n      <td></td>\n      <td>화이트초콜릿</td>\n      <td>100</td>\n      <td>g</td>\n      <td>100</td>\n      <td>-</td>\n      <td>63.0</td>\n    </tr>\n    <tr>\n      <th>44662</th>\n      <td>61439</td>\n      <td>명인명촌 현미칩 초콜릿</td>\n      <td>캔디, 초콜릿, 젤리, 캐러멜, 양갱</td>\n      <td></td>\n      <td>화이트초콜릿</td>\n      <td>65</td>\n      <td>g</td>\n      <td>65</td>\n      <td>-</td>\n      <td>26.0</td>\n    </tr>\n    <tr>\n      <th>44663</th>\n      <td>64772</td>\n      <td>바이오 화이트 초콜릿 요거트 &amp; 딸기</td>\n      <td>캔디, 초콜릿, 젤리, 캐러멜, 양갱</td>\n      <td></td>\n      <td>화이트초콜릿</td>\n      <td>100</td>\n      <td>g</td>\n      <td>100</td>\n      <td>-</td>\n      <td>51.7</td>\n    </tr>\n  </tbody>\n</table>\n<p>7435 rows × 10 columns</p>\n</div>"
     },
     "execution_count": 147,
     "metadata": {},
     "output_type": "execute_result"
    }
   ],
   "source": [
    "sheet.loc[sheet['대분류'] == '캔디, 초콜릿, 젤리, 캐러멜, 양갱']"
   ],
   "metadata": {
    "collapsed": false,
    "pycharm": {
     "name": "#%%\n"
    }
   }
  },
  {
   "cell_type": "code",
   "execution_count": 148,
   "outputs": [
    {
     "data": {
      "text/plain": "array(['기타 코코아가공품', '기타캔디류', '밀크초콜릿', '사탕', '양갱', '젤리', '준초콜릿', '초콜릿',\n       '초콜릿가공품', '캐러멜', '캔디류', '화이트초콜릿'], dtype=object)"
     },
     "execution_count": 148,
     "metadata": {},
     "output_type": "execute_result"
    }
   ],
   "source": [
    "sheet.loc[sheet['대분류'] == '캔디, 초콜릿, 젤리, 캐러멜, 양갱']['소분류'].unique()"
   ],
   "metadata": {
    "collapsed": false,
    "pycharm": {
     "name": "#%%\n"
    }
   }
  },
  {
   "cell_type": "code",
   "execution_count": 149,
   "outputs": [],
   "source": [
    "초콜릿 = ['제타', '초콜릿', '다크초콜릿', '초코', '쵸코', '쇼콜라', '모카', '코코아', '가나', '미니쉘', '샤롯데', '트러플', '다크', '밀크', '가나슈', '허쉬', '카카오', '트윅스', '몽쉘', '크런치', '자유시간', '코코', '메종', '살바도르', '프랄린', '아모레띠', '트뤼플랏', '카라벨라', '인스피레이션', '카레', '까레', '초콜렛', '마라카이보', '까라끄', '화이트', '라수이사']\n",
    "캔디 = ['캔디', '사탕', '멘토스', '츄파춥스', '멀티비타', '말랑카우', '롤리팝', '구미', '머쉬멜로우', '마쉬멜로우', '롤리팝', '엿', '쮸', '아메', '롤앤롤', '누가']\n",
    "젤리 = ['새콤달콤', '젤리', '푸딩', '베어', '쁘띠첼', '제리', '하리보', '데르뜨', '트롤리', '마이구미', '마이쮸', '젤로미', '오키오', '스위트엔젤', '신쫄이', '알바니즈', '뚜또']\n",
    "캐러멜 = ['캐러멜', '카라멜', '캬라멜', '롤엔롤']\n",
    "양갱 = ['양갱']\n",
    "\n",
    "for value in 초콜릿:\n",
    " middleCategoryChanger(sheet, value, '캔디, 초콜릿, 젤리, 캐러멜, 양갱', '초콜릿')\n",
    "for value in 캔디:\n",
    " middleCategoryChanger(sheet, value, '캔디, 초콜릿, 젤리, 캐러멜, 양갱', '캔디')\n",
    "\n",
    "for value in 젤리:\n",
    " middleCategoryChanger(sheet, value, '캔디, 초콜릿, 젤리, 캐러멜, 양갱', '젤리')\n",
    "for value in 캐러멜:\n",
    " middleCategoryChanger(sheet, value, '캔디, 초콜릿, 젤리, 캐러멜, 양갱', '캐러멜')\n",
    "for value in 양갱:\n",
    " middleCategoryChanger(sheet, value, '캔디, 초콜릿, 젤리, 캐러멜, 양갱', '양갱')"
   ],
   "metadata": {
    "collapsed": false,
    "pycharm": {
     "name": "#%%\n"
    }
   }
  },
  {
   "cell_type": "code",
   "execution_count": 150,
   "outputs": [],
   "source": [
    "sheet.loc[(sheet['대분류'] == '캔디, 초콜릿, 젤리, 캐러멜, 양갱') & (sheet['소분류'] == '화이트초콜릿'), '중분류'] = '초콜릿'\n",
    "sheet.loc[(sheet['대분류'] == '캔디, 초콜릿, 젤리, 캐러멜, 양갱') & (sheet['소분류'] == '초콜릿가공품'), '중분류'] = '초콜릿'"
   ],
   "metadata": {
    "collapsed": false,
    "pycharm": {
     "name": "#%%\n"
    }
   }
  },
  {
   "cell_type": "code",
   "execution_count": 151,
   "outputs": [
    {
     "data": {
      "text/plain": "          No            식품명                   대분류 중분류        소분류  1회 제공량 용량  \\\n9382    9809     카일스 쵸콜릿파우더  캔디, 초콜릿, 젤리, 캐러멜, 양갱      기타 코코아가공품    1000  g   \n9390    9825        얼초블록만들기  캔디, 초콜릿, 젤리, 캐러멜, 양갱      기타 코코아가공품      39  g   \n9416    9877       얼초 하트만들기  캔디, 초콜릿, 젤리, 캐러멜, 양갱      기타 코코아가공품      70  g   \n9451   42572      헤이즐넛 스프레드  캔디, 초콜릿, 젤리, 캐러멜, 양갱      기타 코코아가공품     100  g   \n9463   44567  펌킨 팔스-10,880g  캔디, 초콜릿, 젤리, 캐러멜, 양갱      기타 코코아가공품     100  g   \n...      ...            ...                   ...  ..        ...     ... ..   \n35485  46122       유에프오 스피너  캔디, 초콜릿, 젤리, 캐러멜, 양갱            캔디류     100  g   \n35486  46123           자이로팝  캔디, 초콜릿, 젤리, 캐러멜, 양갱            캔디류     100  g   \n35487  46126         플레쉬팝미니  캔디, 초콜릿, 젤리, 캐러멜, 양갱            캔디류     100  g   \n35488  46127         플립 폰 팝  캔디, 초콜릿, 젤리, 캐러멜, 양갱            캔디류     100  g   \n35489  46128            해피밴  캔디, 초콜릿, 젤리, 캐러멜, 양갱            캔디류     100  g   \n\n      총내용량(g) 총내용량(ml)  총당류(g)  \n9382     1000        -    76.1  \n9390       39        -    22.0  \n9416       70        -    40.0  \n9451     5000        -    53.7  \n9463    10880        -    61.0  \n...       ...      ...     ...  \n35485     132        -    63.0  \n35486     132        -    63.0  \n35487     288        -    63.0  \n35488     360        -    63.0  \n35489     180        -    90.0  \n\n[976 rows x 10 columns]",
      "text/html": "<div>\n<style scoped>\n    .dataframe tbody tr th:only-of-type {\n        vertical-align: middle;\n    }\n\n    .dataframe tbody tr th {\n        vertical-align: top;\n    }\n\n    .dataframe thead th {\n        text-align: right;\n    }\n</style>\n<table border=\"1\" class=\"dataframe\">\n  <thead>\n    <tr style=\"text-align: right;\">\n      <th></th>\n      <th>No</th>\n      <th>식품명</th>\n      <th>대분류</th>\n      <th>중분류</th>\n      <th>소분류</th>\n      <th>1회 제공량</th>\n      <th>용량</th>\n      <th>총내용량(g)</th>\n      <th>총내용량(ml)</th>\n      <th>총당류(g)</th>\n    </tr>\n  </thead>\n  <tbody>\n    <tr>\n      <th>9382</th>\n      <td>9809</td>\n      <td>카일스 쵸콜릿파우더</td>\n      <td>캔디, 초콜릿, 젤리, 캐러멜, 양갱</td>\n      <td></td>\n      <td>기타 코코아가공품</td>\n      <td>1000</td>\n      <td>g</td>\n      <td>1000</td>\n      <td>-</td>\n      <td>76.1</td>\n    </tr>\n    <tr>\n      <th>9390</th>\n      <td>9825</td>\n      <td>얼초블록만들기</td>\n      <td>캔디, 초콜릿, 젤리, 캐러멜, 양갱</td>\n      <td></td>\n      <td>기타 코코아가공품</td>\n      <td>39</td>\n      <td>g</td>\n      <td>39</td>\n      <td>-</td>\n      <td>22.0</td>\n    </tr>\n    <tr>\n      <th>9416</th>\n      <td>9877</td>\n      <td>얼초 하트만들기</td>\n      <td>캔디, 초콜릿, 젤리, 캐러멜, 양갱</td>\n      <td></td>\n      <td>기타 코코아가공품</td>\n      <td>70</td>\n      <td>g</td>\n      <td>70</td>\n      <td>-</td>\n      <td>40.0</td>\n    </tr>\n    <tr>\n      <th>9451</th>\n      <td>42572</td>\n      <td>헤이즐넛 스프레드</td>\n      <td>캔디, 초콜릿, 젤리, 캐러멜, 양갱</td>\n      <td></td>\n      <td>기타 코코아가공품</td>\n      <td>100</td>\n      <td>g</td>\n      <td>5000</td>\n      <td>-</td>\n      <td>53.7</td>\n    </tr>\n    <tr>\n      <th>9463</th>\n      <td>44567</td>\n      <td>펌킨 팔스-10,880g</td>\n      <td>캔디, 초콜릿, 젤리, 캐러멜, 양갱</td>\n      <td></td>\n      <td>기타 코코아가공품</td>\n      <td>100</td>\n      <td>g</td>\n      <td>10880</td>\n      <td>-</td>\n      <td>61.0</td>\n    </tr>\n    <tr>\n      <th>...</th>\n      <td>...</td>\n      <td>...</td>\n      <td>...</td>\n      <td>...</td>\n      <td>...</td>\n      <td>...</td>\n      <td>...</td>\n      <td>...</td>\n      <td>...</td>\n      <td>...</td>\n    </tr>\n    <tr>\n      <th>35485</th>\n      <td>46122</td>\n      <td>유에프오 스피너</td>\n      <td>캔디, 초콜릿, 젤리, 캐러멜, 양갱</td>\n      <td></td>\n      <td>캔디류</td>\n      <td>100</td>\n      <td>g</td>\n      <td>132</td>\n      <td>-</td>\n      <td>63.0</td>\n    </tr>\n    <tr>\n      <th>35486</th>\n      <td>46123</td>\n      <td>자이로팝</td>\n      <td>캔디, 초콜릿, 젤리, 캐러멜, 양갱</td>\n      <td></td>\n      <td>캔디류</td>\n      <td>100</td>\n      <td>g</td>\n      <td>132</td>\n      <td>-</td>\n      <td>63.0</td>\n    </tr>\n    <tr>\n      <th>35487</th>\n      <td>46126</td>\n      <td>플레쉬팝미니</td>\n      <td>캔디, 초콜릿, 젤리, 캐러멜, 양갱</td>\n      <td></td>\n      <td>캔디류</td>\n      <td>100</td>\n      <td>g</td>\n      <td>288</td>\n      <td>-</td>\n      <td>63.0</td>\n    </tr>\n    <tr>\n      <th>35488</th>\n      <td>46127</td>\n      <td>플립 폰 팝</td>\n      <td>캔디, 초콜릿, 젤리, 캐러멜, 양갱</td>\n      <td></td>\n      <td>캔디류</td>\n      <td>100</td>\n      <td>g</td>\n      <td>360</td>\n      <td>-</td>\n      <td>63.0</td>\n    </tr>\n    <tr>\n      <th>35489</th>\n      <td>46128</td>\n      <td>해피밴</td>\n      <td>캔디, 초콜릿, 젤리, 캐러멜, 양갱</td>\n      <td></td>\n      <td>캔디류</td>\n      <td>100</td>\n      <td>g</td>\n      <td>180</td>\n      <td>-</td>\n      <td>90.0</td>\n    </tr>\n  </tbody>\n</table>\n<p>976 rows × 10 columns</p>\n</div>"
     },
     "execution_count": 151,
     "metadata": {},
     "output_type": "execute_result"
    }
   ],
   "source": [
    "sheet.loc[(sheet['대분류'] == '캔디, 초콜릿, 젤리, 캐러멜, 양갱') & (sheet['중분류'] == ''), :]"
   ],
   "metadata": {
    "collapsed": false,
    "pycharm": {
     "name": "#%%\n"
    }
   }
  },
  {
   "cell_type": "code",
   "execution_count": 152,
   "outputs": [],
   "source": [
    "sheet = sheet.drop(sheet.loc[(sheet['대분류'] == '캔디, 초콜릿, 젤리, 캐러멜, 양갱') & (sheet['중분류'] == ''), :].index)"
   ],
   "metadata": {
    "collapsed": false,
    "pycharm": {
     "name": "#%%\n"
    }
   }
  },
  {
   "cell_type": "code",
   "execution_count": 153,
   "outputs": [
    {
     "data": {
      "text/plain": "          No                   식품명                   대분류  중분류     소분류  1회 제공량  \\\n0      10397             삼육두유검은콩칼슘                    음료  유제품    가공두유     190   \n1      10398           베지밀검은콩두유고칼슘                    음료  유제품    가공두유     190   \n2      10399               달콤한베지밀비                    음료  유제품    가공두유     100   \n3      10400         삼육두유검은콩호두와아몬드                    음료  유제품    가공두유     140   \n4      10401              담백한베지밀에이                    음료  유제품    가공두유     190   \n...      ...                   ...                   ...  ...     ...     ...   \n44659  59687       모리나가 다스 화이트 초콜릿  캔디, 초콜릿, 젤리, 캐러멜, 양갱  초콜릿  화이트초콜릿      42   \n44660  60615                화이트보뇌르  캔디, 초콜릿, 젤리, 캐러멜, 양갱  초콜릿  화이트초콜릿      30   \n44661  61033       토블론 스위스 화이트 초콜릿  캔디, 초콜릿, 젤리, 캐러멜, 양갱  초콜릿  화이트초콜릿     100   \n44662  61439          명인명촌 현미칩 초콜릿  캔디, 초콜릿, 젤리, 캐러멜, 양갱  초콜릿  화이트초콜릿      65   \n44663  64772  바이오 화이트 초콜릿 요거트 & 딸기  캔디, 초콜릿, 젤리, 캐러멜, 양갱  초콜릿  화이트초콜릿     100   \n\n       용량 총내용량(g) 총내용량(ml)  총당류(g)  \n0      mL       -      190    10.0  \n1      mL       -      190    10.0  \n2      mL       -      950     5.0  \n3      mL       -      140    10.0  \n4      mL       -      190     6.0  \n...    ..     ...      ...     ...  \n44659   g      42        -    20.4  \n44660   g      50        -    13.0  \n44661   g     100        -    63.0  \n44662   g      65        -    26.0  \n44663   g     100        -    51.7  \n\n[37353 rows x 10 columns]",
      "text/html": "<div>\n<style scoped>\n    .dataframe tbody tr th:only-of-type {\n        vertical-align: middle;\n    }\n\n    .dataframe tbody tr th {\n        vertical-align: top;\n    }\n\n    .dataframe thead th {\n        text-align: right;\n    }\n</style>\n<table border=\"1\" class=\"dataframe\">\n  <thead>\n    <tr style=\"text-align: right;\">\n      <th></th>\n      <th>No</th>\n      <th>식품명</th>\n      <th>대분류</th>\n      <th>중분류</th>\n      <th>소분류</th>\n      <th>1회 제공량</th>\n      <th>용량</th>\n      <th>총내용량(g)</th>\n      <th>총내용량(ml)</th>\n      <th>총당류(g)</th>\n    </tr>\n  </thead>\n  <tbody>\n    <tr>\n      <th>0</th>\n      <td>10397</td>\n      <td>삼육두유검은콩칼슘</td>\n      <td>음료</td>\n      <td>유제품</td>\n      <td>가공두유</td>\n      <td>190</td>\n      <td>mL</td>\n      <td>-</td>\n      <td>190</td>\n      <td>10.0</td>\n    </tr>\n    <tr>\n      <th>1</th>\n      <td>10398</td>\n      <td>베지밀검은콩두유고칼슘</td>\n      <td>음료</td>\n      <td>유제품</td>\n      <td>가공두유</td>\n      <td>190</td>\n      <td>mL</td>\n      <td>-</td>\n      <td>190</td>\n      <td>10.0</td>\n    </tr>\n    <tr>\n      <th>2</th>\n      <td>10399</td>\n      <td>달콤한베지밀비</td>\n      <td>음료</td>\n      <td>유제품</td>\n      <td>가공두유</td>\n      <td>100</td>\n      <td>mL</td>\n      <td>-</td>\n      <td>950</td>\n      <td>5.0</td>\n    </tr>\n    <tr>\n      <th>3</th>\n      <td>10400</td>\n      <td>삼육두유검은콩호두와아몬드</td>\n      <td>음료</td>\n      <td>유제품</td>\n      <td>가공두유</td>\n      <td>140</td>\n      <td>mL</td>\n      <td>-</td>\n      <td>140</td>\n      <td>10.0</td>\n    </tr>\n    <tr>\n      <th>4</th>\n      <td>10401</td>\n      <td>담백한베지밀에이</td>\n      <td>음료</td>\n      <td>유제품</td>\n      <td>가공두유</td>\n      <td>190</td>\n      <td>mL</td>\n      <td>-</td>\n      <td>190</td>\n      <td>6.0</td>\n    </tr>\n    <tr>\n      <th>...</th>\n      <td>...</td>\n      <td>...</td>\n      <td>...</td>\n      <td>...</td>\n      <td>...</td>\n      <td>...</td>\n      <td>...</td>\n      <td>...</td>\n      <td>...</td>\n      <td>...</td>\n    </tr>\n    <tr>\n      <th>44659</th>\n      <td>59687</td>\n      <td>모리나가 다스 화이트 초콜릿</td>\n      <td>캔디, 초콜릿, 젤리, 캐러멜, 양갱</td>\n      <td>초콜릿</td>\n      <td>화이트초콜릿</td>\n      <td>42</td>\n      <td>g</td>\n      <td>42</td>\n      <td>-</td>\n      <td>20.4</td>\n    </tr>\n    <tr>\n      <th>44660</th>\n      <td>60615</td>\n      <td>화이트보뇌르</td>\n      <td>캔디, 초콜릿, 젤리, 캐러멜, 양갱</td>\n      <td>초콜릿</td>\n      <td>화이트초콜릿</td>\n      <td>30</td>\n      <td>g</td>\n      <td>50</td>\n      <td>-</td>\n      <td>13.0</td>\n    </tr>\n    <tr>\n      <th>44661</th>\n      <td>61033</td>\n      <td>토블론 스위스 화이트 초콜릿</td>\n      <td>캔디, 초콜릿, 젤리, 캐러멜, 양갱</td>\n      <td>초콜릿</td>\n      <td>화이트초콜릿</td>\n      <td>100</td>\n      <td>g</td>\n      <td>100</td>\n      <td>-</td>\n      <td>63.0</td>\n    </tr>\n    <tr>\n      <th>44662</th>\n      <td>61439</td>\n      <td>명인명촌 현미칩 초콜릿</td>\n      <td>캔디, 초콜릿, 젤리, 캐러멜, 양갱</td>\n      <td>초콜릿</td>\n      <td>화이트초콜릿</td>\n      <td>65</td>\n      <td>g</td>\n      <td>65</td>\n      <td>-</td>\n      <td>26.0</td>\n    </tr>\n    <tr>\n      <th>44663</th>\n      <td>64772</td>\n      <td>바이오 화이트 초콜릿 요거트 &amp; 딸기</td>\n      <td>캔디, 초콜릿, 젤리, 캐러멜, 양갱</td>\n      <td>초콜릿</td>\n      <td>화이트초콜릿</td>\n      <td>100</td>\n      <td>g</td>\n      <td>100</td>\n      <td>-</td>\n      <td>51.7</td>\n    </tr>\n  </tbody>\n</table>\n<p>37353 rows × 10 columns</p>\n</div>"
     },
     "execution_count": 153,
     "metadata": {},
     "output_type": "execute_result"
    }
   ],
   "source": [
    "sheet"
   ],
   "metadata": {
    "collapsed": false,
    "pycharm": {
     "name": "#%%\n"
    }
   }
  },
  {
   "cell_type": "code",
   "execution_count": 154,
   "outputs": [
    {
     "data": {
      "text/plain": "          No                    식품명              대분류 중분류           소분류  \\\n14181  16554              한 입에 쏙 호두  떡, 곡류, 시리얼, 견과류      땅콩 또는 견과류가공품   \n14182  16565         오도독 건강한 넛&블루베리  떡, 곡류, 시리얼, 견과류      땅콩 또는 견과류가공품   \n14183  40217         아몬드 프로틴 파우더 블랑  떡, 곡류, 시리얼, 견과류      땅콩 또는 견과류가공품   \n14184  40228  단백질이 풍부한 땅콩버터파우더 오리지날  떡, 곡류, 시리얼, 견과류      땅콩 또는 견과류가공품   \n14185  40435         파스타 피스타치오 100%  떡, 곡류, 시리얼, 견과류      땅콩 또는 견과류가공품   \n...      ...                    ...              ...  ..           ...   \n25272  12682      하루꽉찬 통곡물 시리얼 시트러스  떡, 곡류, 시리얼, 견과류              시리얼류   \n25273  12683            시리얼 메이드 카카오  떡, 곡류, 시리얼, 견과류              시리얼류   \n25274  12684           시리얼 메이드 시트러스  떡, 곡류, 시리얼, 견과류              시리얼류   \n25275  12685           시리얼 메이드 오리지널  떡, 곡류, 시리얼, 견과류              시리얼류   \n25276  12686            시리얼 메이드 그린티  떡, 곡류, 시리얼, 견과류              시리얼류   \n\n       1회 제공량 용량 총내용량(g) 총내용량(ml)  총당류(g)  \n14181      80  g      80        -    9.00  \n14182      30  g      30        -    5.00  \n14183     100  g   24950        -    9.39  \n14184     100  g     184        -   14.00  \n14185     100  g    3000        -    6.40  \n...       ... ..     ...      ...     ...  \n25272      30  g     300        -   10.00  \n25273      30  g     300        -   11.00  \n25274      30  g     300        -   11.00  \n25275      30  g     300        -   11.00  \n25276      30  g     300        -   11.00  \n\n[105 rows x 10 columns]",
      "text/html": "<div>\n<style scoped>\n    .dataframe tbody tr th:only-of-type {\n        vertical-align: middle;\n    }\n\n    .dataframe tbody tr th {\n        vertical-align: top;\n    }\n\n    .dataframe thead th {\n        text-align: right;\n    }\n</style>\n<table border=\"1\" class=\"dataframe\">\n  <thead>\n    <tr style=\"text-align: right;\">\n      <th></th>\n      <th>No</th>\n      <th>식품명</th>\n      <th>대분류</th>\n      <th>중분류</th>\n      <th>소분류</th>\n      <th>1회 제공량</th>\n      <th>용량</th>\n      <th>총내용량(g)</th>\n      <th>총내용량(ml)</th>\n      <th>총당류(g)</th>\n    </tr>\n  </thead>\n  <tbody>\n    <tr>\n      <th>14181</th>\n      <td>16554</td>\n      <td>한 입에 쏙 호두</td>\n      <td>떡, 곡류, 시리얼, 견과류</td>\n      <td></td>\n      <td>땅콩 또는 견과류가공품</td>\n      <td>80</td>\n      <td>g</td>\n      <td>80</td>\n      <td>-</td>\n      <td>9.00</td>\n    </tr>\n    <tr>\n      <th>14182</th>\n      <td>16565</td>\n      <td>오도독 건강한 넛&amp;블루베리</td>\n      <td>떡, 곡류, 시리얼, 견과류</td>\n      <td></td>\n      <td>땅콩 또는 견과류가공품</td>\n      <td>30</td>\n      <td>g</td>\n      <td>30</td>\n      <td>-</td>\n      <td>5.00</td>\n    </tr>\n    <tr>\n      <th>14183</th>\n      <td>40217</td>\n      <td>아몬드 프로틴 파우더 블랑</td>\n      <td>떡, 곡류, 시리얼, 견과류</td>\n      <td></td>\n      <td>땅콩 또는 견과류가공품</td>\n      <td>100</td>\n      <td>g</td>\n      <td>24950</td>\n      <td>-</td>\n      <td>9.39</td>\n    </tr>\n    <tr>\n      <th>14184</th>\n      <td>40228</td>\n      <td>단백질이 풍부한 땅콩버터파우더 오리지날</td>\n      <td>떡, 곡류, 시리얼, 견과류</td>\n      <td></td>\n      <td>땅콩 또는 견과류가공품</td>\n      <td>100</td>\n      <td>g</td>\n      <td>184</td>\n      <td>-</td>\n      <td>14.00</td>\n    </tr>\n    <tr>\n      <th>14185</th>\n      <td>40435</td>\n      <td>파스타 피스타치오 100%</td>\n      <td>떡, 곡류, 시리얼, 견과류</td>\n      <td></td>\n      <td>땅콩 또는 견과류가공품</td>\n      <td>100</td>\n      <td>g</td>\n      <td>3000</td>\n      <td>-</td>\n      <td>6.40</td>\n    </tr>\n    <tr>\n      <th>...</th>\n      <td>...</td>\n      <td>...</td>\n      <td>...</td>\n      <td>...</td>\n      <td>...</td>\n      <td>...</td>\n      <td>...</td>\n      <td>...</td>\n      <td>...</td>\n      <td>...</td>\n    </tr>\n    <tr>\n      <th>25272</th>\n      <td>12682</td>\n      <td>하루꽉찬 통곡물 시리얼 시트러스</td>\n      <td>떡, 곡류, 시리얼, 견과류</td>\n      <td></td>\n      <td>시리얼류</td>\n      <td>30</td>\n      <td>g</td>\n      <td>300</td>\n      <td>-</td>\n      <td>10.00</td>\n    </tr>\n    <tr>\n      <th>25273</th>\n      <td>12683</td>\n      <td>시리얼 메이드 카카오</td>\n      <td>떡, 곡류, 시리얼, 견과류</td>\n      <td></td>\n      <td>시리얼류</td>\n      <td>30</td>\n      <td>g</td>\n      <td>300</td>\n      <td>-</td>\n      <td>11.00</td>\n    </tr>\n    <tr>\n      <th>25274</th>\n      <td>12684</td>\n      <td>시리얼 메이드 시트러스</td>\n      <td>떡, 곡류, 시리얼, 견과류</td>\n      <td></td>\n      <td>시리얼류</td>\n      <td>30</td>\n      <td>g</td>\n      <td>300</td>\n      <td>-</td>\n      <td>11.00</td>\n    </tr>\n    <tr>\n      <th>25275</th>\n      <td>12685</td>\n      <td>시리얼 메이드 오리지널</td>\n      <td>떡, 곡류, 시리얼, 견과류</td>\n      <td></td>\n      <td>시리얼류</td>\n      <td>30</td>\n      <td>g</td>\n      <td>300</td>\n      <td>-</td>\n      <td>11.00</td>\n    </tr>\n    <tr>\n      <th>25276</th>\n      <td>12686</td>\n      <td>시리얼 메이드 그린티</td>\n      <td>떡, 곡류, 시리얼, 견과류</td>\n      <td></td>\n      <td>시리얼류</td>\n      <td>30</td>\n      <td>g</td>\n      <td>300</td>\n      <td>-</td>\n      <td>11.00</td>\n    </tr>\n  </tbody>\n</table>\n<p>105 rows × 10 columns</p>\n</div>"
     },
     "execution_count": 154,
     "metadata": {},
     "output_type": "execute_result"
    }
   ],
   "source": [
    "sheet.loc[sheet['대분류'] == '떡, 곡류, 시리얼, 견과류']"
   ],
   "metadata": {
    "collapsed": false,
    "pycharm": {
     "name": "#%%\n"
    }
   }
  },
  {
   "cell_type": "code",
   "execution_count": 155,
   "outputs": [],
   "source": [
    "견과류 = ['호두', '넛', '피스타치오', '넛츠', '피넛', '믹스넛', '밤', '아몬드', '아티산', '땅콩', '마카다미아', '투론']\n",
    "떡 = ['찹쌀', '지마구', '마떡', '아이모찌']\n",
    "시리얼 = ['첵스', '콘푸라이트', '콘푸로스트', '코코볼', '오레오', '푸레이크', 'COCO']\n",
    "for value in 견과류:\n",
    " middleCategoryChanger(sheet, value, '떡, 곡류, 시리얼, 견과류', '견과류')\n",
    "for value in 떡:\n",
    " middleCategoryChanger(sheet, value, '떡, 곡류, 시리얼, 견과류', '떡')\n",
    "for value in 시리얼:\n",
    " middleCategoryChanger(sheet, value, '떡, 곡류, 시리얼, 견과류', '시리얼')"
   ],
   "metadata": {
    "collapsed": false,
    "pycharm": {
     "name": "#%%\n"
    }
   }
  },
  {
   "cell_type": "code",
   "execution_count": 156,
   "outputs": [],
   "source": [
    "sheet.loc[(sheet['대분류'] == '떡, 곡류, 시리얼, 견과류') & (sheet['소분류'] == '시리얼류'), '중분류'] = '시리얼'"
   ],
   "metadata": {
    "collapsed": false,
    "pycharm": {
     "name": "#%%\n"
    }
   }
  },
  {
   "cell_type": "code",
   "execution_count": 157,
   "outputs": [
    {
     "data": {
      "text/plain": "Empty DataFrame\nColumns: [No, 식품명, 대분류, 중분류, 소분류, 1회 제공량, 용량, 총내용량(g), 총내용량(ml), 총당류(g)]\nIndex: []",
      "text/html": "<div>\n<style scoped>\n    .dataframe tbody tr th:only-of-type {\n        vertical-align: middle;\n    }\n\n    .dataframe tbody tr th {\n        vertical-align: top;\n    }\n\n    .dataframe thead th {\n        text-align: right;\n    }\n</style>\n<table border=\"1\" class=\"dataframe\">\n  <thead>\n    <tr style=\"text-align: right;\">\n      <th></th>\n      <th>No</th>\n      <th>식품명</th>\n      <th>대분류</th>\n      <th>중분류</th>\n      <th>소분류</th>\n      <th>1회 제공량</th>\n      <th>용량</th>\n      <th>총내용량(g)</th>\n      <th>총내용량(ml)</th>\n      <th>총당류(g)</th>\n    </tr>\n  </thead>\n  <tbody>\n  </tbody>\n</table>\n</div>"
     },
     "execution_count": 157,
     "metadata": {},
     "output_type": "execute_result"
    }
   ],
   "source": [
    "sheet.loc[(sheet['대분류'] == '떡, 곡류, 시리얼, 견과류') & (sheet['중분류'] == ''), :]"
   ],
   "metadata": {
    "collapsed": false,
    "pycharm": {
     "name": "#%%\n"
    }
   }
  },
  {
   "cell_type": "code",
   "execution_count": 158,
   "outputs": [],
   "source": [
    "sheet.loc[sheet['대분류'] == '떡, 곡류, 시리얼, 견과류', '대분류'] = '떡, 시리얼, 견과류'"
   ],
   "metadata": {
    "collapsed": false,
    "pycharm": {
     "name": "#%%\n"
    }
   }
  },
  {
   "cell_type": "code",
   "execution_count": 159,
   "outputs": [
    {
     "data": {
      "text/plain": "array(['음료', '유가공품', '과자', '빵', '캔디, 초콜릿, 젤리, 캐러멜, 양갱', '떡, 시리얼, 견과류',\n       '아이스크림'], dtype=object)"
     },
     "execution_count": 159,
     "metadata": {},
     "output_type": "execute_result"
    }
   ],
   "source": [
    "sheet['대분류'].unique()"
   ],
   "metadata": {
    "collapsed": false,
    "pycharm": {
     "name": "#%%\n"
    }
   }
  },
  {
   "cell_type": "code",
   "execution_count": 160,
   "outputs": [
    {
     "data": {
      "text/plain": "          No                    식품명          대분류  중분류           소분류  1회 제공량  \\\n14181  16554              한 입에 쏙 호두  떡, 시리얼, 견과류  견과류  땅콩 또는 견과류가공품      80   \n14182  16565         오도독 건강한 넛&블루베리  떡, 시리얼, 견과류  견과류  땅콩 또는 견과류가공품      30   \n14183  40217         아몬드 프로틴 파우더 블랑  떡, 시리얼, 견과류  견과류  땅콩 또는 견과류가공품     100   \n14184  40228  단백질이 풍부한 땅콩버터파우더 오리지날  떡, 시리얼, 견과류  견과류  땅콩 또는 견과류가공품     100   \n14185  40435         파스타 피스타치오 100%  떡, 시리얼, 견과류  견과류  땅콩 또는 견과류가공품     100   \n...      ...                    ...          ...  ...           ...     ...   \n25272  12682      하루꽉찬 통곡물 시리얼 시트러스  떡, 시리얼, 견과류  시리얼          시리얼류      30   \n25273  12683            시리얼 메이드 카카오  떡, 시리얼, 견과류  시리얼          시리얼류      30   \n25274  12684           시리얼 메이드 시트러스  떡, 시리얼, 견과류  시리얼          시리얼류      30   \n25275  12685           시리얼 메이드 오리지널  떡, 시리얼, 견과류  시리얼          시리얼류      30   \n25276  12686            시리얼 메이드 그린티  떡, 시리얼, 견과류  시리얼          시리얼류      30   \n\n      용량 총내용량(g) 총내용량(ml)  총당류(g)  \n14181  g      80        -    9.00  \n14182  g      30        -    5.00  \n14183  g   24950        -    9.39  \n14184  g     184        -   14.00  \n14185  g    3000        -    6.40  \n...   ..     ...      ...     ...  \n25272  g     300        -   10.00  \n25273  g     300        -   11.00  \n25274  g     300        -   11.00  \n25275  g     300        -   11.00  \n25276  g     300        -   11.00  \n\n[105 rows x 10 columns]",
      "text/html": "<div>\n<style scoped>\n    .dataframe tbody tr th:only-of-type {\n        vertical-align: middle;\n    }\n\n    .dataframe tbody tr th {\n        vertical-align: top;\n    }\n\n    .dataframe thead th {\n        text-align: right;\n    }\n</style>\n<table border=\"1\" class=\"dataframe\">\n  <thead>\n    <tr style=\"text-align: right;\">\n      <th></th>\n      <th>No</th>\n      <th>식품명</th>\n      <th>대분류</th>\n      <th>중분류</th>\n      <th>소분류</th>\n      <th>1회 제공량</th>\n      <th>용량</th>\n      <th>총내용량(g)</th>\n      <th>총내용량(ml)</th>\n      <th>총당류(g)</th>\n    </tr>\n  </thead>\n  <tbody>\n    <tr>\n      <th>14181</th>\n      <td>16554</td>\n      <td>한 입에 쏙 호두</td>\n      <td>떡, 시리얼, 견과류</td>\n      <td>견과류</td>\n      <td>땅콩 또는 견과류가공품</td>\n      <td>80</td>\n      <td>g</td>\n      <td>80</td>\n      <td>-</td>\n      <td>9.00</td>\n    </tr>\n    <tr>\n      <th>14182</th>\n      <td>16565</td>\n      <td>오도독 건강한 넛&amp;블루베리</td>\n      <td>떡, 시리얼, 견과류</td>\n      <td>견과류</td>\n      <td>땅콩 또는 견과류가공품</td>\n      <td>30</td>\n      <td>g</td>\n      <td>30</td>\n      <td>-</td>\n      <td>5.00</td>\n    </tr>\n    <tr>\n      <th>14183</th>\n      <td>40217</td>\n      <td>아몬드 프로틴 파우더 블랑</td>\n      <td>떡, 시리얼, 견과류</td>\n      <td>견과류</td>\n      <td>땅콩 또는 견과류가공품</td>\n      <td>100</td>\n      <td>g</td>\n      <td>24950</td>\n      <td>-</td>\n      <td>9.39</td>\n    </tr>\n    <tr>\n      <th>14184</th>\n      <td>40228</td>\n      <td>단백질이 풍부한 땅콩버터파우더 오리지날</td>\n      <td>떡, 시리얼, 견과류</td>\n      <td>견과류</td>\n      <td>땅콩 또는 견과류가공품</td>\n      <td>100</td>\n      <td>g</td>\n      <td>184</td>\n      <td>-</td>\n      <td>14.00</td>\n    </tr>\n    <tr>\n      <th>14185</th>\n      <td>40435</td>\n      <td>파스타 피스타치오 100%</td>\n      <td>떡, 시리얼, 견과류</td>\n      <td>견과류</td>\n      <td>땅콩 또는 견과류가공품</td>\n      <td>100</td>\n      <td>g</td>\n      <td>3000</td>\n      <td>-</td>\n      <td>6.40</td>\n    </tr>\n    <tr>\n      <th>...</th>\n      <td>...</td>\n      <td>...</td>\n      <td>...</td>\n      <td>...</td>\n      <td>...</td>\n      <td>...</td>\n      <td>...</td>\n      <td>...</td>\n      <td>...</td>\n      <td>...</td>\n    </tr>\n    <tr>\n      <th>25272</th>\n      <td>12682</td>\n      <td>하루꽉찬 통곡물 시리얼 시트러스</td>\n      <td>떡, 시리얼, 견과류</td>\n      <td>시리얼</td>\n      <td>시리얼류</td>\n      <td>30</td>\n      <td>g</td>\n      <td>300</td>\n      <td>-</td>\n      <td>10.00</td>\n    </tr>\n    <tr>\n      <th>25273</th>\n      <td>12683</td>\n      <td>시리얼 메이드 카카오</td>\n      <td>떡, 시리얼, 견과류</td>\n      <td>시리얼</td>\n      <td>시리얼류</td>\n      <td>30</td>\n      <td>g</td>\n      <td>300</td>\n      <td>-</td>\n      <td>11.00</td>\n    </tr>\n    <tr>\n      <th>25274</th>\n      <td>12684</td>\n      <td>시리얼 메이드 시트러스</td>\n      <td>떡, 시리얼, 견과류</td>\n      <td>시리얼</td>\n      <td>시리얼류</td>\n      <td>30</td>\n      <td>g</td>\n      <td>300</td>\n      <td>-</td>\n      <td>11.00</td>\n    </tr>\n    <tr>\n      <th>25275</th>\n      <td>12685</td>\n      <td>시리얼 메이드 오리지널</td>\n      <td>떡, 시리얼, 견과류</td>\n      <td>시리얼</td>\n      <td>시리얼류</td>\n      <td>30</td>\n      <td>g</td>\n      <td>300</td>\n      <td>-</td>\n      <td>11.00</td>\n    </tr>\n    <tr>\n      <th>25276</th>\n      <td>12686</td>\n      <td>시리얼 메이드 그린티</td>\n      <td>떡, 시리얼, 견과류</td>\n      <td>시리얼</td>\n      <td>시리얼류</td>\n      <td>30</td>\n      <td>g</td>\n      <td>300</td>\n      <td>-</td>\n      <td>11.00</td>\n    </tr>\n  </tbody>\n</table>\n<p>105 rows × 10 columns</p>\n</div>"
     },
     "execution_count": 160,
     "metadata": {},
     "output_type": "execute_result"
    }
   ],
   "source": [
    "sheet.loc[sheet['대분류'] == '떡, 시리얼, 견과류']"
   ],
   "metadata": {
    "collapsed": false,
    "pycharm": {
     "name": "#%%\n"
    }
   }
  },
  {
   "cell_type": "code",
   "execution_count": 161,
   "outputs": [
    {
     "data": {
      "text/plain": "          No           식품명    대분류 중분류        소분류  1회 제공량  용량 총내용량(g) 총내용량(ml)  \\\n16588   9957        떡붕어싸만코  아이스크림      비유지방아이스크림     150   g     150        -   \n16589   9958        참붕어싸만코  아이스크림      비유지방아이스크림     150   g     150        -   \n16590   9960    부라보초코청크마일드  아이스크림      비유지방아이스크림     140   g     140        -   \n16591   9962           쿠앤크  아이스크림      비유지방아이스크림      70   g      70        -   \n16592   9964  꽃보다 파르페 티라미수  아이스크림      비유지방아이스크림     305   g     305        -   \n...      ...           ...    ...  ..        ...     ...  ..     ...      ...   \n29105  15383     뷰티인사이드 딸기  아이스크림       저지방아이스크림     110  mL       -      110   \n29106  15384     뷰티인사이드 초코  아이스크림       저지방아이스크림     110  mL       -      110   \n29107  18582    뷰티인사이드 바닐라  아이스크림       저지방아이스크림     110  mL       -      110   \n29108  18583     뷰티인사이드 딸기  아이스크림       저지방아이스크림     110  mL       -      110   \n29109  18584     뷰티인사이드 초코  아이스크림       저지방아이스크림     110  mL       -      110   \n\n       총당류(g)  \n16588    25.0  \n16589    24.0  \n16590   242.0  \n16591    15.0  \n16592    13.0  \n...       ...  \n29105     8.6  \n29106     6.4  \n29107     7.8  \n29108     8.6  \n29109     6.4  \n\n[3583 rows x 10 columns]",
      "text/html": "<div>\n<style scoped>\n    .dataframe tbody tr th:only-of-type {\n        vertical-align: middle;\n    }\n\n    .dataframe tbody tr th {\n        vertical-align: top;\n    }\n\n    .dataframe thead th {\n        text-align: right;\n    }\n</style>\n<table border=\"1\" class=\"dataframe\">\n  <thead>\n    <tr style=\"text-align: right;\">\n      <th></th>\n      <th>No</th>\n      <th>식품명</th>\n      <th>대분류</th>\n      <th>중분류</th>\n      <th>소분류</th>\n      <th>1회 제공량</th>\n      <th>용량</th>\n      <th>총내용량(g)</th>\n      <th>총내용량(ml)</th>\n      <th>총당류(g)</th>\n    </tr>\n  </thead>\n  <tbody>\n    <tr>\n      <th>16588</th>\n      <td>9957</td>\n      <td>떡붕어싸만코</td>\n      <td>아이스크림</td>\n      <td></td>\n      <td>비유지방아이스크림</td>\n      <td>150</td>\n      <td>g</td>\n      <td>150</td>\n      <td>-</td>\n      <td>25.0</td>\n    </tr>\n    <tr>\n      <th>16589</th>\n      <td>9958</td>\n      <td>참붕어싸만코</td>\n      <td>아이스크림</td>\n      <td></td>\n      <td>비유지방아이스크림</td>\n      <td>150</td>\n      <td>g</td>\n      <td>150</td>\n      <td>-</td>\n      <td>24.0</td>\n    </tr>\n    <tr>\n      <th>16590</th>\n      <td>9960</td>\n      <td>부라보초코청크마일드</td>\n      <td>아이스크림</td>\n      <td></td>\n      <td>비유지방아이스크림</td>\n      <td>140</td>\n      <td>g</td>\n      <td>140</td>\n      <td>-</td>\n      <td>242.0</td>\n    </tr>\n    <tr>\n      <th>16591</th>\n      <td>9962</td>\n      <td>쿠앤크</td>\n      <td>아이스크림</td>\n      <td></td>\n      <td>비유지방아이스크림</td>\n      <td>70</td>\n      <td>g</td>\n      <td>70</td>\n      <td>-</td>\n      <td>15.0</td>\n    </tr>\n    <tr>\n      <th>16592</th>\n      <td>9964</td>\n      <td>꽃보다 파르페 티라미수</td>\n      <td>아이스크림</td>\n      <td></td>\n      <td>비유지방아이스크림</td>\n      <td>305</td>\n      <td>g</td>\n      <td>305</td>\n      <td>-</td>\n      <td>13.0</td>\n    </tr>\n    <tr>\n      <th>...</th>\n      <td>...</td>\n      <td>...</td>\n      <td>...</td>\n      <td>...</td>\n      <td>...</td>\n      <td>...</td>\n      <td>...</td>\n      <td>...</td>\n      <td>...</td>\n      <td>...</td>\n    </tr>\n    <tr>\n      <th>29105</th>\n      <td>15383</td>\n      <td>뷰티인사이드 딸기</td>\n      <td>아이스크림</td>\n      <td></td>\n      <td>저지방아이스크림</td>\n      <td>110</td>\n      <td>mL</td>\n      <td>-</td>\n      <td>110</td>\n      <td>8.6</td>\n    </tr>\n    <tr>\n      <th>29106</th>\n      <td>15384</td>\n      <td>뷰티인사이드 초코</td>\n      <td>아이스크림</td>\n      <td></td>\n      <td>저지방아이스크림</td>\n      <td>110</td>\n      <td>mL</td>\n      <td>-</td>\n      <td>110</td>\n      <td>6.4</td>\n    </tr>\n    <tr>\n      <th>29107</th>\n      <td>18582</td>\n      <td>뷰티인사이드 바닐라</td>\n      <td>아이스크림</td>\n      <td></td>\n      <td>저지방아이스크림</td>\n      <td>110</td>\n      <td>mL</td>\n      <td>-</td>\n      <td>110</td>\n      <td>7.8</td>\n    </tr>\n    <tr>\n      <th>29108</th>\n      <td>18583</td>\n      <td>뷰티인사이드 딸기</td>\n      <td>아이스크림</td>\n      <td></td>\n      <td>저지방아이스크림</td>\n      <td>110</td>\n      <td>mL</td>\n      <td>-</td>\n      <td>110</td>\n      <td>8.6</td>\n    </tr>\n    <tr>\n      <th>29109</th>\n      <td>18584</td>\n      <td>뷰티인사이드 초코</td>\n      <td>아이스크림</td>\n      <td></td>\n      <td>저지방아이스크림</td>\n      <td>110</td>\n      <td>mL</td>\n      <td>-</td>\n      <td>110</td>\n      <td>6.4</td>\n    </tr>\n  </tbody>\n</table>\n<p>3583 rows × 10 columns</p>\n</div>"
     },
     "execution_count": 161,
     "metadata": {},
     "output_type": "execute_result"
    }
   ],
   "source": [
    "sheet.loc[sheet['대분류'] == '아이스크림']"
   ],
   "metadata": {
    "collapsed": false,
    "pycharm": {
     "name": "#%%\n"
    }
   }
  },
  {
   "cell_type": "code",
   "execution_count": 162,
   "outputs": [
    {
     "data": {
      "text/plain": "array(['비유지방아이스크림', '빙과', '빙수류', '샤베트', '아이스밀크', '아이스크림', '아이스크림류',\n       '저지방아이스크림'], dtype=object)"
     },
     "execution_count": 162,
     "metadata": {},
     "output_type": "execute_result"
    }
   ],
   "source": [
    "sheet.loc[sheet['대분류'] == '아이스크림']['소분류'].unique()"
   ],
   "metadata": {
    "collapsed": false,
    "pycharm": {
     "name": "#%%\n"
    }
   }
  },
  {
   "cell_type": "code",
   "execution_count": 163,
   "outputs": [],
   "source": [
    "sheet.loc[(sheet['대분류'] == '아이스크림') & (sheet['소분류'] == '비유지방아이스크림'), '중분류'] = '빙과'\n",
    "sheet.loc[(sheet['대분류'] == '아이스크림') & (sheet['소분류'] == '빙과'), '중분류'] = '빙과'\n",
    "#\n",
    "sheet.loc[(sheet['대분류'] == '아이스크림') & (sheet['소분류'] == '빙수류'), '중분류'] = '빙수'\n",
    "#\n",
    "sheet.loc[(sheet['대분류'] == '아이스크림') & (sheet['소분류'] == '샤베트'), '중분류'] = '샤베트'\n",
    "sheet.loc[(sheet['대분류'] == '아이스크림') & (sheet['소분류'] == '샤베트'), '중분류'] = '샤베트'\n",
    "#\n",
    "sheet.loc[(sheet['대분류'] == '아이스크림') & (sheet['소분류'] == '아이스밀크'), '중분류'] = '유지방아이스크림'\n",
    "sheet.loc[(sheet['대분류'] == '아이스크림') & (sheet['소분류'] == '아이스크림'), '중분류'] = '유지방아이스크림'\n",
    "sheet.loc[(sheet['대분류'] == '아이스크림') & (sheet['소분류'] == '아이스크림류'), '중분류'] = '유지방아이스크림'\n",
    "sheet.loc[(sheet['대분류'] == '아이스크림') & (sheet['소분류'] == '저지방아이스크림'), '중분류'] = '유지방아이스크림'"
   ],
   "metadata": {
    "collapsed": false,
    "pycharm": {
     "name": "#%%\n"
    }
   }
  },
  {
   "cell_type": "code",
   "execution_count": 164,
   "outputs": [
    {
     "data": {
      "text/plain": "Empty DataFrame\nColumns: [No, 식품명, 대분류, 중분류, 소분류, 1회 제공량, 용량, 총내용량(g), 총내용량(ml), 총당류(g)]\nIndex: []",
      "text/html": "<div>\n<style scoped>\n    .dataframe tbody tr th:only-of-type {\n        vertical-align: middle;\n    }\n\n    .dataframe tbody tr th {\n        vertical-align: top;\n    }\n\n    .dataframe thead th {\n        text-align: right;\n    }\n</style>\n<table border=\"1\" class=\"dataframe\">\n  <thead>\n    <tr style=\"text-align: right;\">\n      <th></th>\n      <th>No</th>\n      <th>식품명</th>\n      <th>대분류</th>\n      <th>중분류</th>\n      <th>소분류</th>\n      <th>1회 제공량</th>\n      <th>용량</th>\n      <th>총내용량(g)</th>\n      <th>총내용량(ml)</th>\n      <th>총당류(g)</th>\n    </tr>\n  </thead>\n  <tbody>\n  </tbody>\n</table>\n</div>"
     },
     "execution_count": 164,
     "metadata": {},
     "output_type": "execute_result"
    }
   ],
   "source": [
    "sheet.loc[(sheet['대분류'] == '아이스크림') & (sheet['중분류'] == ''), :]"
   ],
   "metadata": {
    "collapsed": false,
    "pycharm": {
     "name": "#%%\n"
    }
   }
  },
  {
   "cell_type": "code",
   "execution_count": 165,
   "outputs": [
    {
     "data": {
      "text/plain": "          No           식품명    대분류       중분류        소분류  1회 제공량  용량 총내용량(g)  \\\n16588   9957        떡붕어싸만코  아이스크림        빙과  비유지방아이스크림     150   g     150   \n16589   9958        참붕어싸만코  아이스크림        빙과  비유지방아이스크림     150   g     150   \n16590   9960    부라보초코청크마일드  아이스크림        빙과  비유지방아이스크림     140   g     140   \n16591   9962           쿠앤크  아이스크림        빙과  비유지방아이스크림      70   g      70   \n16592   9964  꽃보다 파르페 티라미수  아이스크림        빙과  비유지방아이스크림     305   g     305   \n...      ...           ...    ...       ...        ...     ...  ..     ...   \n29105  15383     뷰티인사이드 딸기  아이스크림  유지방아이스크림   저지방아이스크림     110  mL       -   \n29106  15384     뷰티인사이드 초코  아이스크림  유지방아이스크림   저지방아이스크림     110  mL       -   \n29107  18582    뷰티인사이드 바닐라  아이스크림  유지방아이스크림   저지방아이스크림     110  mL       -   \n29108  18583     뷰티인사이드 딸기  아이스크림  유지방아이스크림   저지방아이스크림     110  mL       -   \n29109  18584     뷰티인사이드 초코  아이스크림  유지방아이스크림   저지방아이스크림     110  mL       -   \n\n      총내용량(ml)  총당류(g)  \n16588        -    25.0  \n16589        -    24.0  \n16590        -   242.0  \n16591        -    15.0  \n16592        -    13.0  \n...        ...     ...  \n29105      110     8.6  \n29106      110     6.4  \n29107      110     7.8  \n29108      110     8.6  \n29109      110     6.4  \n\n[3583 rows x 10 columns]",
      "text/html": "<div>\n<style scoped>\n    .dataframe tbody tr th:only-of-type {\n        vertical-align: middle;\n    }\n\n    .dataframe tbody tr th {\n        vertical-align: top;\n    }\n\n    .dataframe thead th {\n        text-align: right;\n    }\n</style>\n<table border=\"1\" class=\"dataframe\">\n  <thead>\n    <tr style=\"text-align: right;\">\n      <th></th>\n      <th>No</th>\n      <th>식품명</th>\n      <th>대분류</th>\n      <th>중분류</th>\n      <th>소분류</th>\n      <th>1회 제공량</th>\n      <th>용량</th>\n      <th>총내용량(g)</th>\n      <th>총내용량(ml)</th>\n      <th>총당류(g)</th>\n    </tr>\n  </thead>\n  <tbody>\n    <tr>\n      <th>16588</th>\n      <td>9957</td>\n      <td>떡붕어싸만코</td>\n      <td>아이스크림</td>\n      <td>빙과</td>\n      <td>비유지방아이스크림</td>\n      <td>150</td>\n      <td>g</td>\n      <td>150</td>\n      <td>-</td>\n      <td>25.0</td>\n    </tr>\n    <tr>\n      <th>16589</th>\n      <td>9958</td>\n      <td>참붕어싸만코</td>\n      <td>아이스크림</td>\n      <td>빙과</td>\n      <td>비유지방아이스크림</td>\n      <td>150</td>\n      <td>g</td>\n      <td>150</td>\n      <td>-</td>\n      <td>24.0</td>\n    </tr>\n    <tr>\n      <th>16590</th>\n      <td>9960</td>\n      <td>부라보초코청크마일드</td>\n      <td>아이스크림</td>\n      <td>빙과</td>\n      <td>비유지방아이스크림</td>\n      <td>140</td>\n      <td>g</td>\n      <td>140</td>\n      <td>-</td>\n      <td>242.0</td>\n    </tr>\n    <tr>\n      <th>16591</th>\n      <td>9962</td>\n      <td>쿠앤크</td>\n      <td>아이스크림</td>\n      <td>빙과</td>\n      <td>비유지방아이스크림</td>\n      <td>70</td>\n      <td>g</td>\n      <td>70</td>\n      <td>-</td>\n      <td>15.0</td>\n    </tr>\n    <tr>\n      <th>16592</th>\n      <td>9964</td>\n      <td>꽃보다 파르페 티라미수</td>\n      <td>아이스크림</td>\n      <td>빙과</td>\n      <td>비유지방아이스크림</td>\n      <td>305</td>\n      <td>g</td>\n      <td>305</td>\n      <td>-</td>\n      <td>13.0</td>\n    </tr>\n    <tr>\n      <th>...</th>\n      <td>...</td>\n      <td>...</td>\n      <td>...</td>\n      <td>...</td>\n      <td>...</td>\n      <td>...</td>\n      <td>...</td>\n      <td>...</td>\n      <td>...</td>\n      <td>...</td>\n    </tr>\n    <tr>\n      <th>29105</th>\n      <td>15383</td>\n      <td>뷰티인사이드 딸기</td>\n      <td>아이스크림</td>\n      <td>유지방아이스크림</td>\n      <td>저지방아이스크림</td>\n      <td>110</td>\n      <td>mL</td>\n      <td>-</td>\n      <td>110</td>\n      <td>8.6</td>\n    </tr>\n    <tr>\n      <th>29106</th>\n      <td>15384</td>\n      <td>뷰티인사이드 초코</td>\n      <td>아이스크림</td>\n      <td>유지방아이스크림</td>\n      <td>저지방아이스크림</td>\n      <td>110</td>\n      <td>mL</td>\n      <td>-</td>\n      <td>110</td>\n      <td>6.4</td>\n    </tr>\n    <tr>\n      <th>29107</th>\n      <td>18582</td>\n      <td>뷰티인사이드 바닐라</td>\n      <td>아이스크림</td>\n      <td>유지방아이스크림</td>\n      <td>저지방아이스크림</td>\n      <td>110</td>\n      <td>mL</td>\n      <td>-</td>\n      <td>110</td>\n      <td>7.8</td>\n    </tr>\n    <tr>\n      <th>29108</th>\n      <td>18583</td>\n      <td>뷰티인사이드 딸기</td>\n      <td>아이스크림</td>\n      <td>유지방아이스크림</td>\n      <td>저지방아이스크림</td>\n      <td>110</td>\n      <td>mL</td>\n      <td>-</td>\n      <td>110</td>\n      <td>8.6</td>\n    </tr>\n    <tr>\n      <th>29109</th>\n      <td>18584</td>\n      <td>뷰티인사이드 초코</td>\n      <td>아이스크림</td>\n      <td>유지방아이스크림</td>\n      <td>저지방아이스크림</td>\n      <td>110</td>\n      <td>mL</td>\n      <td>-</td>\n      <td>110</td>\n      <td>6.4</td>\n    </tr>\n  </tbody>\n</table>\n<p>3583 rows × 10 columns</p>\n</div>"
     },
     "execution_count": 165,
     "metadata": {},
     "output_type": "execute_result"
    }
   ],
   "source": [
    "sheet.loc[sheet['대분류'] == '아이스크림', :]"
   ],
   "metadata": {
    "collapsed": false,
    "pycharm": {
     "name": "#%%\n"
    }
   }
  },
  {
   "cell_type": "code",
   "execution_count": 166,
   "outputs": [
    {
     "name": "stdout",
     "output_type": "stream",
     "text": [
      "<class 'pandas.core.frame.DataFrame'>\n",
      "Int64Index: 37353 entries, 0 to 44663\n",
      "Data columns (total 10 columns):\n",
      " #   Column    Non-Null Count  Dtype  \n",
      "---  ------    --------------  -----  \n",
      " 0   No        37353 non-null  int64  \n",
      " 1   식품명       37353 non-null  object \n",
      " 2   대분류       37353 non-null  object \n",
      " 3   중분류       37353 non-null  object \n",
      " 4   소분류       37353 non-null  object \n",
      " 5   1회 제공량    37353 non-null  int64  \n",
      " 6   용량        37353 non-null  object \n",
      " 7   총내용량(g)   37353 non-null  object \n",
      " 8   총내용량(ml)  37353 non-null  object \n",
      " 9   총당류(g)    37353 non-null  float64\n",
      "dtypes: float64(1), int64(2), object(7)\n",
      "memory usage: 3.1+ MB\n"
     ]
    }
   ],
   "source": [
    "sheet.info()"
   ],
   "metadata": {
    "collapsed": false,
    "pycharm": {
     "name": "#%%\n"
    }
   }
  },
  {
   "cell_type": "code",
   "execution_count": 167,
   "outputs": [],
   "source": [
    "sheet['총내용량'] = np.where(sheet['총내용량(g)'] != '-', sheet['총내용량(g)'], sheet['총내용량(ml)'])"
   ],
   "metadata": {
    "collapsed": false,
    "pycharm": {
     "name": "#%%\n"
    }
   }
  },
  {
   "cell_type": "code",
   "execution_count": 168,
   "outputs": [
    {
     "data": {
      "text/plain": "dtype('O')"
     },
     "execution_count": 168,
     "metadata": {},
     "output_type": "execute_result"
    }
   ],
   "source": [
    "sheet['총내용량'].dtype"
   ],
   "metadata": {
    "collapsed": false,
    "pycharm": {
     "name": "#%%\n"
    }
   }
  },
  {
   "cell_type": "code",
   "execution_count": 169,
   "outputs": [],
   "source": [
    "sheet['총내용량'] = sheet['총내용량'].astype(float)\n",
    "sheet['1회 제공량'] = sheet['1회 제공량'].astype(int)"
   ],
   "metadata": {
    "collapsed": false,
    "pycharm": {
     "name": "#%%\n"
    }
   }
  },
  {
   "cell_type": "code",
   "execution_count": 170,
   "outputs": [],
   "source": [
    "# 내가 해야하는 TO-Do\n",
    "\n",
    "## 단위용량대비설탕비율 (퍼센트)\n",
    "## 1g/ml당 설탕량\n",
    "\n",
    "# sheet['단위용량 대비 설탕 비율']\n",
    "sheet['단위용량 대비 설탕 비율'] = round(sheet['총당류(g)'] / sheet['1회 제공량'] * 100, 1)"
   ],
   "metadata": {
    "collapsed": false,
    "pycharm": {
     "name": "#%%\n"
    }
   }
  },
  {
   "cell_type": "code",
   "execution_count": 171,
   "outputs": [
    {
     "data": {
      "text/plain": "          No           식품명                   대분류    중분류    소분류  1회 제공량 용량  \\\n12476  64600       단호박 고로케                     빵    고로케   기타빵류    2900  g   \n12478  64602       야채감자고로케                     빵    고로케   기타빵류    2800  g   \n12477  64601       새우감자고로케                     빵    고로케   기타빵류    2800  g   \n4703   51624        노니착즙원액                    음료  과/채음료  과/채주스    1000  g   \n18175  32535    찰 치즈볼(피자맛)                     빵     빵류     빵류     900  g   \n...      ...           ...                   ...    ...    ...     ... ..   \n33813  38764        카페라떼양갱  캔디, 초콜릿, 젤리, 캐러멜, 양갱     양갱    캔디류       4  g   \n34233  39289      페어리루멀티비타  캔디, 초콜릿, 젤리, 캐러멜, 양갱     캔디    캔디류       8  g   \n22537  58073         박하맛캔디  캔디, 초콜릿, 젤리, 캐러멜, 양갱     캔디     사탕       4  g   \n34190  39233  2020함양산양산삼젤리  캔디, 초콜릿, 젤리, 캐러멜, 양갱     젤리    캔디류       2  g   \n34189  39232  2020함양산양산삼캔디  캔디, 초콜릿, 젤리, 캐러멜, 양갱     캔디    캔디류       2  g   \n\n      총내용량(g) 총내용량(ml)  총당류(g)    총내용량  단위용량 대비 설탕 비율  \n12476    2900        -    2.00  2900.0            0.1  \n12478    2800        -    2.40  2800.0            0.1  \n12477    2800        -    1.60  2800.0            0.1  \n4703     1000        -    1.20  1000.0            0.1  \n18175     900        -    1.70   900.0            0.2  \n...       ...      ...     ...     ...            ...  \n33813     450        -   23.00   450.0          575.0  \n34233    1100        -   89.00  1100.0         1112.5  \n22537    2000        -   83.17  2000.0         2079.2  \n34190      65        -   46.00    65.0         2300.0  \n34189      65        -   50.00    65.0         2500.0  \n\n[37353 rows x 12 columns]",
      "text/html": "<div>\n<style scoped>\n    .dataframe tbody tr th:only-of-type {\n        vertical-align: middle;\n    }\n\n    .dataframe tbody tr th {\n        vertical-align: top;\n    }\n\n    .dataframe thead th {\n        text-align: right;\n    }\n</style>\n<table border=\"1\" class=\"dataframe\">\n  <thead>\n    <tr style=\"text-align: right;\">\n      <th></th>\n      <th>No</th>\n      <th>식품명</th>\n      <th>대분류</th>\n      <th>중분류</th>\n      <th>소분류</th>\n      <th>1회 제공량</th>\n      <th>용량</th>\n      <th>총내용량(g)</th>\n      <th>총내용량(ml)</th>\n      <th>총당류(g)</th>\n      <th>총내용량</th>\n      <th>단위용량 대비 설탕 비율</th>\n    </tr>\n  </thead>\n  <tbody>\n    <tr>\n      <th>12476</th>\n      <td>64600</td>\n      <td>단호박 고로케</td>\n      <td>빵</td>\n      <td>고로케</td>\n      <td>기타빵류</td>\n      <td>2900</td>\n      <td>g</td>\n      <td>2900</td>\n      <td>-</td>\n      <td>2.00</td>\n      <td>2900.0</td>\n      <td>0.1</td>\n    </tr>\n    <tr>\n      <th>12478</th>\n      <td>64602</td>\n      <td>야채감자고로케</td>\n      <td>빵</td>\n      <td>고로케</td>\n      <td>기타빵류</td>\n      <td>2800</td>\n      <td>g</td>\n      <td>2800</td>\n      <td>-</td>\n      <td>2.40</td>\n      <td>2800.0</td>\n      <td>0.1</td>\n    </tr>\n    <tr>\n      <th>12477</th>\n      <td>64601</td>\n      <td>새우감자고로케</td>\n      <td>빵</td>\n      <td>고로케</td>\n      <td>기타빵류</td>\n      <td>2800</td>\n      <td>g</td>\n      <td>2800</td>\n      <td>-</td>\n      <td>1.60</td>\n      <td>2800.0</td>\n      <td>0.1</td>\n    </tr>\n    <tr>\n      <th>4703</th>\n      <td>51624</td>\n      <td>노니착즙원액</td>\n      <td>음료</td>\n      <td>과/채음료</td>\n      <td>과/채주스</td>\n      <td>1000</td>\n      <td>g</td>\n      <td>1000</td>\n      <td>-</td>\n      <td>1.20</td>\n      <td>1000.0</td>\n      <td>0.1</td>\n    </tr>\n    <tr>\n      <th>18175</th>\n      <td>32535</td>\n      <td>찰 치즈볼(피자맛)</td>\n      <td>빵</td>\n      <td>빵류</td>\n      <td>빵류</td>\n      <td>900</td>\n      <td>g</td>\n      <td>900</td>\n      <td>-</td>\n      <td>1.70</td>\n      <td>900.0</td>\n      <td>0.2</td>\n    </tr>\n    <tr>\n      <th>...</th>\n      <td>...</td>\n      <td>...</td>\n      <td>...</td>\n      <td>...</td>\n      <td>...</td>\n      <td>...</td>\n      <td>...</td>\n      <td>...</td>\n      <td>...</td>\n      <td>...</td>\n      <td>...</td>\n      <td>...</td>\n    </tr>\n    <tr>\n      <th>33813</th>\n      <td>38764</td>\n      <td>카페라떼양갱</td>\n      <td>캔디, 초콜릿, 젤리, 캐러멜, 양갱</td>\n      <td>양갱</td>\n      <td>캔디류</td>\n      <td>4</td>\n      <td>g</td>\n      <td>450</td>\n      <td>-</td>\n      <td>23.00</td>\n      <td>450.0</td>\n      <td>575.0</td>\n    </tr>\n    <tr>\n      <th>34233</th>\n      <td>39289</td>\n      <td>페어리루멀티비타</td>\n      <td>캔디, 초콜릿, 젤리, 캐러멜, 양갱</td>\n      <td>캔디</td>\n      <td>캔디류</td>\n      <td>8</td>\n      <td>g</td>\n      <td>1100</td>\n      <td>-</td>\n      <td>89.00</td>\n      <td>1100.0</td>\n      <td>1112.5</td>\n    </tr>\n    <tr>\n      <th>22537</th>\n      <td>58073</td>\n      <td>박하맛캔디</td>\n      <td>캔디, 초콜릿, 젤리, 캐러멜, 양갱</td>\n      <td>캔디</td>\n      <td>사탕</td>\n      <td>4</td>\n      <td>g</td>\n      <td>2000</td>\n      <td>-</td>\n      <td>83.17</td>\n      <td>2000.0</td>\n      <td>2079.2</td>\n    </tr>\n    <tr>\n      <th>34190</th>\n      <td>39233</td>\n      <td>2020함양산양산삼젤리</td>\n      <td>캔디, 초콜릿, 젤리, 캐러멜, 양갱</td>\n      <td>젤리</td>\n      <td>캔디류</td>\n      <td>2</td>\n      <td>g</td>\n      <td>65</td>\n      <td>-</td>\n      <td>46.00</td>\n      <td>65.0</td>\n      <td>2300.0</td>\n    </tr>\n    <tr>\n      <th>34189</th>\n      <td>39232</td>\n      <td>2020함양산양산삼캔디</td>\n      <td>캔디, 초콜릿, 젤리, 캐러멜, 양갱</td>\n      <td>캔디</td>\n      <td>캔디류</td>\n      <td>2</td>\n      <td>g</td>\n      <td>65</td>\n      <td>-</td>\n      <td>50.00</td>\n      <td>65.0</td>\n      <td>2500.0</td>\n    </tr>\n  </tbody>\n</table>\n<p>37353 rows × 12 columns</p>\n</div>"
     },
     "execution_count": 171,
     "metadata": {},
     "output_type": "execute_result"
    }
   ],
   "source": [
    "sheet.sort_values(by=['단위용량 대비 설탕 비율']) # round()"
   ],
   "metadata": {
    "collapsed": false,
    "pycharm": {
     "name": "#%%\n"
    }
   }
  },
  {
   "cell_type": "code",
   "execution_count": 172,
   "outputs": [],
   "source": [
    "# sheet['1g/ml당 설탕량 비율'] = sheet['1회 제공량'] # 1회 총당류 / 1회 제공량 * 100 or 전체 총당류 / 전체 제공량 * 100 (셋째에서)"
   ],
   "metadata": {
    "collapsed": false,
    "pycharm": {
     "name": "#%%\n"
    }
   }
  },
  {
   "cell_type": "markdown",
   "source": [],
   "metadata": {
    "collapsed": false,
    "pycharm": {
     "name": "#%% md\n"
    }
   }
  },
  {
   "cell_type": "code",
   "execution_count": 172,
   "outputs": [],
   "source": [],
   "metadata": {
    "collapsed": false,
    "pycharm": {
     "name": "#%%\n"
    }
   }
  },
  {
   "cell_type": "code",
   "execution_count": 173,
   "outputs": [],
   "source": [
    "sheet.to_csv('../../테스트(final).csv')"
   ],
   "metadata": {
    "collapsed": false,
    "pycharm": {
     "name": "#%%\n"
    }
   }
  },
  {
   "cell_type": "code",
   "execution_count": 173,
   "outputs": [],
   "source": [],
   "metadata": {
    "collapsed": false,
    "pycharm": {
     "name": "#%%\n"
    }
   }
  },
  {
   "cell_type": "code",
   "execution_count": 173,
   "outputs": [],
   "source": [],
   "metadata": {
    "collapsed": false,
    "pycharm": {
     "name": "#%%\n"
    }
   }
  },
  {
   "cell_type": "code",
   "execution_count": 173,
   "outputs": [],
   "source": [],
   "metadata": {
    "collapsed": false,
    "pycharm": {
     "name": "#%%\n"
    }
   }
  },
  {
   "cell_type": "code",
   "execution_count": 78,
   "outputs": [],
   "source": [],
   "metadata": {
    "collapsed": false,
    "pycharm": {
     "name": "#%%\n"
    }
   }
  },
  {
   "cell_type": "code",
   "execution_count": 78,
   "outputs": [],
   "source": [],
   "metadata": {
    "collapsed": false,
    "pycharm": {
     "name": "#%%\n"
    }
   }
  },
  {
   "cell_type": "code",
   "execution_count": 78,
   "outputs": [],
   "source": [],
   "metadata": {
    "collapsed": false,
    "pycharm": {
     "name": "#%%\n"
    }
   }
  },
  {
   "cell_type": "code",
   "execution_count": 78,
   "outputs": [],
   "source": [],
   "metadata": {
    "collapsed": false,
    "pycharm": {
     "name": "#%%\n"
    }
   }
  },
  {
   "cell_type": "code",
   "execution_count": null,
   "outputs": [],
   "source": [],
   "metadata": {
    "collapsed": false,
    "pycharm": {
     "name": "#%%\n"
    }
   }
  }
 ],
 "metadata": {
  "kernelspec": {
   "display_name": "Python 3",
   "language": "python",
   "name": "python3"
  },
  "language_info": {
   "codemirror_mode": {
    "name": "ipython",
    "version": 2
   },
   "file_extension": ".py",
   "mimetype": "text/x-python",
   "name": "python",
   "nbconvert_exporter": "python",
   "pygments_lexer": "ipython2",
   "version": "2.7.6"
  }
 },
 "nbformat": 4,
 "nbformat_minor": 0
}