{
 "cells": [
  {
   "cell_type": "code",
   "execution_count": 101,
   "outputs": [],
   "source": [
    "import pandas as pd\n",
    "import numpy as np\n",
    "\n",
    "import pprint as pp"
   ],
   "metadata": {
    "collapsed": false,
    "pycharm": {
     "name": "#%%\n"
    }
   }
  },
  {
   "cell_type": "code",
   "execution_count": 120,
   "outputs": [
    {
     "name": "stdout",
     "output_type": "stream",
     "text": [
      "<class 'pandas.core.frame.DataFrame'>\n",
      "RangeIndex: 34530 entries, 0 to 34529\n",
      "Data columns (total 12 columns):\n",
      " #   Column         Non-Null Count  Dtype  \n",
      "---  ------         --------------  -----  \n",
      " 0   No             34530 non-null  int64  \n",
      " 1   식품명            34530 non-null  object \n",
      " 2   대분류            34530 non-null  object \n",
      " 3   중분류            34530 non-null  object \n",
      " 4   소분류            34530 non-null  object \n",
      " 5   1회 제공량         34530 non-null  int64  \n",
      " 6   용량             34530 non-null  object \n",
      " 7   총내용량(g)        34530 non-null  object \n",
      " 8   총내용량(ml)       34530 non-null  object \n",
      " 9   총당류(g)         34530 non-null  float64\n",
      " 10  총내용량           34530 non-null  float64\n",
      " 11  단위용량 대비 설탕 비율  34530 non-null  float64\n",
      "dtypes: float64(3), int64(2), object(7)\n",
      "memory usage: 3.2+ MB\n"
     ]
    }
   ],
   "source": [
    "sheet = pd.read_csv(\"/Users/raven/Desktop/programming/과자정제(final).csv\")\n",
    "sheet = sheet.drop('Unnamed: 0', axis=1)\n",
    "\n",
    "def category_count_fn(middle_category):\n",
    "    dict = {}\n",
    "    for value in list(sheet.loc[sheet['중분류'] == middle_category, '소분류'].unique()):\n",
    "        dict[value] = len(sheet.loc[(sheet['중분류'] == middle_category) & (sheet['소분류'] == value), :])\n",
    "    return dict\n",
    "\n",
    "sheet.info()"
   ],
   "metadata": {
    "collapsed": false,
    "pycharm": {
     "name": "#%%\n"
    }
   }
  },
  {
   "cell_type": "code",
   "execution_count": null,
   "outputs": [],
   "source": [],
   "metadata": {
    "collapsed": false,
    "pycharm": {
     "name": "#%%\n"
    }
   }
  },
  {
   "cell_type": "code",
   "execution_count": 121,
   "outputs": [],
   "source": [
    "def seperated_category(middle_category, category_dictionary, *conditions):\n",
    "    for item in category_dictionary.items():\n",
    "        key = item[0]\n",
    "        value = item[1]\n",
    "\n",
    "        if conditions:\n",
    "            for category in value:\n",
    "                sheet.loc[\n",
    "                    (sheet['중분류'] == middle_category) &\n",
    "                    (sheet['식품명'].str.contains(category)) &\n",
    "                    conditions[0]\n",
    "                    , '소분류'] = key\n",
    "        else:\n",
    "            for category in value:\n",
    "                sheet.loc[\n",
    "                    (sheet['중분류'] == middle_category) &\n",
    "                    (sheet['식품명'].str.contains(category))\n",
    "                    , '소분류'] = key"
   ],
   "metadata": {
    "collapsed": false,
    "pycharm": {
     "name": "#%%\n"
    }
   }
  },
  {
   "cell_type": "code",
   "execution_count": 122,
   "outputs": [
    {
     "data": {
      "text/plain": "array(['유가공품', '음료', '과자', '베이커리', '캔디, 초콜릿, 젤리, 캐러멜, 양갱', '떡, 시리얼, 견과류',\n       '아이스크림'], dtype=object)"
     },
     "execution_count": 122,
     "metadata": {},
     "output_type": "execute_result"
    }
   ],
   "source": [
    "sheet['대분류'].unique()"
   ],
   "metadata": {
    "collapsed": false,
    "pycharm": {
     "name": "#%%\n"
    }
   }
  },
  {
   "cell_type": "code",
   "execution_count": 123,
   "outputs": [
    {
     "data": {
      "text/plain": "array(['빙과', '빙수', '샤베트', '유지방아이스크림'], dtype=object)"
     },
     "execution_count": 123,
     "metadata": {},
     "output_type": "execute_result"
    }
   ],
   "source": [
    "sheet.loc[sheet['대분류'] == '아이스크림', '중분류'].unique()"
   ],
   "metadata": {
    "collapsed": false,
    "pycharm": {
     "name": "#%%\n"
    }
   }
  },
  {
   "cell_type": "code",
   "execution_count": 124,
   "outputs": [
    {
     "data": {
      "text/plain": "          No           식품명    대분류 중분류        소분류  1회 제공량 용량 총내용량(g) 총내용량(ml)  \\\n12830   9957        떡붕어싸만코  아이스크림  빙과  비유지방아이스크림     150  g     150        -   \n12831   9958        참붕어싸만코  아이스크림  빙과  비유지방아이스크림     150  g     150        -   \n12832   9960    부라보초코청크마일드  아이스크림  빙과  비유지방아이스크림     140  g     140        -   \n12833   9962           쿠앤크  아이스크림  빙과  비유지방아이스크림      70  g      70        -   \n12834   9964  꽃보다 파르페 티라미수  아이스크림  빙과  비유지방아이스크림     305  g     305        -   \n...      ...           ...    ...  ..        ...     ... ..     ...      ...   \n13470  68301      파인애플 청량바  아이스크림  빙과         빙과      65  g      65        -   \n13471  68304       얼음속에귤한쪽  아이스크림  빙과         빙과     130  g     130        -   \n13472  68305       마이쮸바 딸기  아이스크림  빙과         빙과      75  g      75        -   \n13473  68313      아이스쿨 청포도  아이스크림  빙과         빙과      63  g      63        -   \n13474  68347   젤요 장수사과 젤라또  아이스크림  빙과         빙과     100  g     100        -   \n\n       총당류(g)   총내용량  단위용량 대비 설탕 비율  \n12830    25.0  150.0           16.7  \n12831    24.0  150.0           16.0  \n12832   242.0  140.0          172.9  \n12833    15.0   70.0           21.4  \n12834    13.0  305.0            4.3  \n...       ...    ...            ...  \n13470     7.0   65.0           10.8  \n13471    17.0  130.0           13.1  \n13472    14.0   75.0           18.7  \n13473    15.0   63.0           23.8  \n13474    17.7  100.0           17.7  \n\n[645 rows x 12 columns]",
      "text/html": "<div>\n<style scoped>\n    .dataframe tbody tr th:only-of-type {\n        vertical-align: middle;\n    }\n\n    .dataframe tbody tr th {\n        vertical-align: top;\n    }\n\n    .dataframe thead th {\n        text-align: right;\n    }\n</style>\n<table border=\"1\" class=\"dataframe\">\n  <thead>\n    <tr style=\"text-align: right;\">\n      <th></th>\n      <th>No</th>\n      <th>식품명</th>\n      <th>대분류</th>\n      <th>중분류</th>\n      <th>소분류</th>\n      <th>1회 제공량</th>\n      <th>용량</th>\n      <th>총내용량(g)</th>\n      <th>총내용량(ml)</th>\n      <th>총당류(g)</th>\n      <th>총내용량</th>\n      <th>단위용량 대비 설탕 비율</th>\n    </tr>\n  </thead>\n  <tbody>\n    <tr>\n      <th>12830</th>\n      <td>9957</td>\n      <td>떡붕어싸만코</td>\n      <td>아이스크림</td>\n      <td>빙과</td>\n      <td>비유지방아이스크림</td>\n      <td>150</td>\n      <td>g</td>\n      <td>150</td>\n      <td>-</td>\n      <td>25.0</td>\n      <td>150.0</td>\n      <td>16.7</td>\n    </tr>\n    <tr>\n      <th>12831</th>\n      <td>9958</td>\n      <td>참붕어싸만코</td>\n      <td>아이스크림</td>\n      <td>빙과</td>\n      <td>비유지방아이스크림</td>\n      <td>150</td>\n      <td>g</td>\n      <td>150</td>\n      <td>-</td>\n      <td>24.0</td>\n      <td>150.0</td>\n      <td>16.0</td>\n    </tr>\n    <tr>\n      <th>12832</th>\n      <td>9960</td>\n      <td>부라보초코청크마일드</td>\n      <td>아이스크림</td>\n      <td>빙과</td>\n      <td>비유지방아이스크림</td>\n      <td>140</td>\n      <td>g</td>\n      <td>140</td>\n      <td>-</td>\n      <td>242.0</td>\n      <td>140.0</td>\n      <td>172.9</td>\n    </tr>\n    <tr>\n      <th>12833</th>\n      <td>9962</td>\n      <td>쿠앤크</td>\n      <td>아이스크림</td>\n      <td>빙과</td>\n      <td>비유지방아이스크림</td>\n      <td>70</td>\n      <td>g</td>\n      <td>70</td>\n      <td>-</td>\n      <td>15.0</td>\n      <td>70.0</td>\n      <td>21.4</td>\n    </tr>\n    <tr>\n      <th>12834</th>\n      <td>9964</td>\n      <td>꽃보다 파르페 티라미수</td>\n      <td>아이스크림</td>\n      <td>빙과</td>\n      <td>비유지방아이스크림</td>\n      <td>305</td>\n      <td>g</td>\n      <td>305</td>\n      <td>-</td>\n      <td>13.0</td>\n      <td>305.0</td>\n      <td>4.3</td>\n    </tr>\n    <tr>\n      <th>...</th>\n      <td>...</td>\n      <td>...</td>\n      <td>...</td>\n      <td>...</td>\n      <td>...</td>\n      <td>...</td>\n      <td>...</td>\n      <td>...</td>\n      <td>...</td>\n      <td>...</td>\n      <td>...</td>\n      <td>...</td>\n    </tr>\n    <tr>\n      <th>13470</th>\n      <td>68301</td>\n      <td>파인애플 청량바</td>\n      <td>아이스크림</td>\n      <td>빙과</td>\n      <td>빙과</td>\n      <td>65</td>\n      <td>g</td>\n      <td>65</td>\n      <td>-</td>\n      <td>7.0</td>\n      <td>65.0</td>\n      <td>10.8</td>\n    </tr>\n    <tr>\n      <th>13471</th>\n      <td>68304</td>\n      <td>얼음속에귤한쪽</td>\n      <td>아이스크림</td>\n      <td>빙과</td>\n      <td>빙과</td>\n      <td>130</td>\n      <td>g</td>\n      <td>130</td>\n      <td>-</td>\n      <td>17.0</td>\n      <td>130.0</td>\n      <td>13.1</td>\n    </tr>\n    <tr>\n      <th>13472</th>\n      <td>68305</td>\n      <td>마이쮸바 딸기</td>\n      <td>아이스크림</td>\n      <td>빙과</td>\n      <td>빙과</td>\n      <td>75</td>\n      <td>g</td>\n      <td>75</td>\n      <td>-</td>\n      <td>14.0</td>\n      <td>75.0</td>\n      <td>18.7</td>\n    </tr>\n    <tr>\n      <th>13473</th>\n      <td>68313</td>\n      <td>아이스쿨 청포도</td>\n      <td>아이스크림</td>\n      <td>빙과</td>\n      <td>빙과</td>\n      <td>63</td>\n      <td>g</td>\n      <td>63</td>\n      <td>-</td>\n      <td>15.0</td>\n      <td>63.0</td>\n      <td>23.8</td>\n    </tr>\n    <tr>\n      <th>13474</th>\n      <td>68347</td>\n      <td>젤요 장수사과 젤라또</td>\n      <td>아이스크림</td>\n      <td>빙과</td>\n      <td>빙과</td>\n      <td>100</td>\n      <td>g</td>\n      <td>100</td>\n      <td>-</td>\n      <td>17.7</td>\n      <td>100.0</td>\n      <td>17.7</td>\n    </tr>\n  </tbody>\n</table>\n<p>645 rows × 12 columns</p>\n</div>"
     },
     "execution_count": 124,
     "metadata": {},
     "output_type": "execute_result"
    }
   ],
   "source": [
    "sheet.loc[(sheet['대분류'] == '아이스크림') & (sheet['중분류'] == '빙과'), :]"
   ],
   "metadata": {
    "collapsed": false,
    "pycharm": {
     "name": "#%%\n"
    }
   }
  },
  {
   "cell_type": "code",
   "execution_count": 106,
   "outputs": [],
   "source": [
    "초코 = ['초코', '가나슈', '브라우니', '쵸코', '초콜릿', '코코아', '쇼콜라', '제티']\n",
    "곡류 = ['쌀', '통밀', '옥수수', '흑미', '보리', '밀', '콘', '오곡', '피넛', '깨', '콩', '완두']\n",
    "견과류 = ['땅콩', '아몬드', '호두', '헤이즐넛', '잣', '마카다미아', '밤', '피스타치오']\n",
    "그린티 = ['말차', '녹차']\n",
    "카라멜 = ['카라멜']\n",
    "과일 = ['블루베리', '크랜베리', '딸기', '코코넛', '리치', '레몬', '한라봉', '딸기', '비트', '애플', '유자', '오렌지', '사과', '매실', '크린베리', '스트로베리', '올리브', '망고', '복숭아', '바나나', '라즈베리', '감귤', '수박', '깔라만시', '청포도', '포도', '체리', '자몽', '배', '패션프루트', '홍시']\n",
    "야채 = ['단호박', '고구마', '호박', '당근', '양파', '마늘', '야채', '채', '페퍼', '토마토', '감자', '시금', '바질']\n",
    "오레오 = ['쿠키', '쿠앤크']\n",
    "요거트 = ['요거트', '요구르트']\n",
    "소다 = ['소다']\n",
    "\n",
    "sheet.loc[(sheet['중분류'] == '빙과') & (sheet['대분류'] == '아이스크림'), '소분류'] = ''\n",
    "\n",
    "\n",
    "for value in 초코:\n",
    "    sheet.loc[(sheet['중분류'] == '빙과') & (sheet['식품명'].str.contains(value)), '소분류'] = '초코'\n",
    "for value in 곡류:\n",
    "    sheet.loc[(sheet['중분류'] == '빙과') & (sheet['식품명'].str.contains(value)), '소분류'] = '곡류'\n",
    "for value in 견과류:\n",
    "    sheet.loc[(sheet['중분류'] == '빙과') & (sheet['식품명'].str.contains(value)), '소분류'] = '견과류'\n",
    "for value in 그린티:\n",
    "    sheet.loc[(sheet['중분류'] == '빙과') & (sheet['식품명'].str.contains(value)), '소분류'] = '그린티'\n",
    "for value in 카라멜:\n",
    "    sheet.loc[(sheet['중분류'] == '빙과') & (sheet['식품명'].str.contains(value)), '소분류'] = '카라멜'\n",
    "for value in 과일:\n",
    "    sheet.loc[(sheet['중분류'] == '빙과') & (sheet['식품명'].str.contains(value)), '소분류'] = '과일'\n",
    "for value in 야채:\n",
    "    sheet.loc[(sheet['중분류'] == '빙과') & (sheet['식품명'].str.contains(value)), '소분류'] = '야채'\n",
    "for value in 오레오:\n",
    "    sheet.loc[(sheet['중분류'] == '빙과') & (sheet['식품명'].str.contains(value)), '소분류'] = '오레오'\n",
    "for value in 요거트:\n",
    "    sheet.loc[(sheet['중분류'] == '빙과') & (sheet['식품명'].str.contains(value)), '소분류'] = '요거트'\n",
    "for value in 소다:\n",
    "    sheet.loc[(sheet['중분류'] == '빙과') & (sheet['식품명'].str.contains(value)), '소분류'] = '소다'\n",
    "\n",
    "\n",
    "\n",
    "sheet.loc[(sheet['중분류'] == '빙과') & (sheet['소분류'] == ''), '소분류'] = '기타'"
   ],
   "metadata": {
    "collapsed": false,
    "pycharm": {
     "name": "#%%\n"
    }
   }
  },
  {
   "cell_type": "code",
   "execution_count": 107,
   "outputs": [
    {
     "data": {
      "text/plain": "{'기타': 233,\n '초코': 36,\n '오레오': 9,\n '과일': 287,\n '그린티': 4,\n '견과류': 13,\n '야채': 12,\n '곡류': 22,\n '카라멜': 5,\n '요거트': 8,\n '소다': 16}"
     },
     "execution_count": 107,
     "metadata": {},
     "output_type": "execute_result"
    }
   ],
   "source": [
    "category_count_fn('빙과')"
   ],
   "metadata": {
    "collapsed": false,
    "pycharm": {
     "name": "#%%\n"
    }
   }
  },
  {
   "cell_type": "code",
   "execution_count": 108,
   "outputs": [
    {
     "data": {
      "text/plain": "          No            식품명    대분류 중분류  소분류  1회 제공량  용량 총내용량(g) 총내용량(ml)  \\\n14026  78985       까르보나라 젤빙  아이스크림  빙수  빙수류     644   g     644        -   \n14027  78986        망고 크림젤빙  아이스크림  빙수  빙수류     631   g     631        -   \n14028  78987           망고젤빙  아이스크림  빙수  빙수류     529   g     529        -   \n14029  78988        치즈베리 젤빙  아이스크림  빙수  빙수류     491   g     491        -   \n14030  78989         밀크팥 젤빙  아이스크림  빙수  빙수류     456   g     456        -   \n...      ...            ...    ...  ..  ...     ...  ..     ...      ...   \n14103  83063        우유 망고빙수  아이스크림  빙수  빙수류     480  mL       -      480   \n14104  83064        우유 과일빙수  아이스크림  빙수  빙수류     450  mL       -      450   \n14105  83067           과일빙수  아이스크림  빙수  빙수류     395  mL       -      395   \n14106  83839  코코넛앤망고 스노우 빙수  아이스크림  빙수  빙수류     470  mL       -      470   \n14107  83840      밀크 스노우 빙수  아이스크림  빙수  빙수류     515  mL       -      515   \n\n       총당류(g)   총내용량  단위용량 대비 설탕 비율  설탕비율의 소분류 평균값  \n14026    34.6  644.0            5.4            0.0  \n14027   105.0  631.0           16.6            0.0  \n14028    69.2  529.0           13.1            0.0  \n14029    61.6  491.0           12.5            0.0  \n14030    87.9  456.0           19.3            0.0  \n...       ...    ...            ...            ...  \n14103    87.0  480.0           18.1            0.0  \n14104    79.0  450.0           17.6            0.0  \n14105    58.0  395.0           14.7            0.0  \n14106    72.0  470.0           15.3            0.0  \n14107    81.0  515.0           15.7            0.0  \n\n[82 rows x 13 columns]",
      "text/html": "<div>\n<style scoped>\n    .dataframe tbody tr th:only-of-type {\n        vertical-align: middle;\n    }\n\n    .dataframe tbody tr th {\n        vertical-align: top;\n    }\n\n    .dataframe thead th {\n        text-align: right;\n    }\n</style>\n<table border=\"1\" class=\"dataframe\">\n  <thead>\n    <tr style=\"text-align: right;\">\n      <th></th>\n      <th>No</th>\n      <th>식품명</th>\n      <th>대분류</th>\n      <th>중분류</th>\n      <th>소분류</th>\n      <th>1회 제공량</th>\n      <th>용량</th>\n      <th>총내용량(g)</th>\n      <th>총내용량(ml)</th>\n      <th>총당류(g)</th>\n      <th>총내용량</th>\n      <th>단위용량 대비 설탕 비율</th>\n      <th>설탕비율의 소분류 평균값</th>\n    </tr>\n  </thead>\n  <tbody>\n    <tr>\n      <th>14026</th>\n      <td>78985</td>\n      <td>까르보나라 젤빙</td>\n      <td>아이스크림</td>\n      <td>빙수</td>\n      <td>빙수류</td>\n      <td>644</td>\n      <td>g</td>\n      <td>644</td>\n      <td>-</td>\n      <td>34.6</td>\n      <td>644.0</td>\n      <td>5.4</td>\n      <td>0.0</td>\n    </tr>\n    <tr>\n      <th>14027</th>\n      <td>78986</td>\n      <td>망고 크림젤빙</td>\n      <td>아이스크림</td>\n      <td>빙수</td>\n      <td>빙수류</td>\n      <td>631</td>\n      <td>g</td>\n      <td>631</td>\n      <td>-</td>\n      <td>105.0</td>\n      <td>631.0</td>\n      <td>16.6</td>\n      <td>0.0</td>\n    </tr>\n    <tr>\n      <th>14028</th>\n      <td>78987</td>\n      <td>망고젤빙</td>\n      <td>아이스크림</td>\n      <td>빙수</td>\n      <td>빙수류</td>\n      <td>529</td>\n      <td>g</td>\n      <td>529</td>\n      <td>-</td>\n      <td>69.2</td>\n      <td>529.0</td>\n      <td>13.1</td>\n      <td>0.0</td>\n    </tr>\n    <tr>\n      <th>14029</th>\n      <td>78988</td>\n      <td>치즈베리 젤빙</td>\n      <td>아이스크림</td>\n      <td>빙수</td>\n      <td>빙수류</td>\n      <td>491</td>\n      <td>g</td>\n      <td>491</td>\n      <td>-</td>\n      <td>61.6</td>\n      <td>491.0</td>\n      <td>12.5</td>\n      <td>0.0</td>\n    </tr>\n    <tr>\n      <th>14030</th>\n      <td>78989</td>\n      <td>밀크팥 젤빙</td>\n      <td>아이스크림</td>\n      <td>빙수</td>\n      <td>빙수류</td>\n      <td>456</td>\n      <td>g</td>\n      <td>456</td>\n      <td>-</td>\n      <td>87.9</td>\n      <td>456.0</td>\n      <td>19.3</td>\n      <td>0.0</td>\n    </tr>\n    <tr>\n      <th>...</th>\n      <td>...</td>\n      <td>...</td>\n      <td>...</td>\n      <td>...</td>\n      <td>...</td>\n      <td>...</td>\n      <td>...</td>\n      <td>...</td>\n      <td>...</td>\n      <td>...</td>\n      <td>...</td>\n      <td>...</td>\n      <td>...</td>\n    </tr>\n    <tr>\n      <th>14103</th>\n      <td>83063</td>\n      <td>우유 망고빙수</td>\n      <td>아이스크림</td>\n      <td>빙수</td>\n      <td>빙수류</td>\n      <td>480</td>\n      <td>mL</td>\n      <td>-</td>\n      <td>480</td>\n      <td>87.0</td>\n      <td>480.0</td>\n      <td>18.1</td>\n      <td>0.0</td>\n    </tr>\n    <tr>\n      <th>14104</th>\n      <td>83064</td>\n      <td>우유 과일빙수</td>\n      <td>아이스크림</td>\n      <td>빙수</td>\n      <td>빙수류</td>\n      <td>450</td>\n      <td>mL</td>\n      <td>-</td>\n      <td>450</td>\n      <td>79.0</td>\n      <td>450.0</td>\n      <td>17.6</td>\n      <td>0.0</td>\n    </tr>\n    <tr>\n      <th>14105</th>\n      <td>83067</td>\n      <td>과일빙수</td>\n      <td>아이스크림</td>\n      <td>빙수</td>\n      <td>빙수류</td>\n      <td>395</td>\n      <td>mL</td>\n      <td>-</td>\n      <td>395</td>\n      <td>58.0</td>\n      <td>395.0</td>\n      <td>14.7</td>\n      <td>0.0</td>\n    </tr>\n    <tr>\n      <th>14106</th>\n      <td>83839</td>\n      <td>코코넛앤망고 스노우 빙수</td>\n      <td>아이스크림</td>\n      <td>빙수</td>\n      <td>빙수류</td>\n      <td>470</td>\n      <td>mL</td>\n      <td>-</td>\n      <td>470</td>\n      <td>72.0</td>\n      <td>470.0</td>\n      <td>15.3</td>\n      <td>0.0</td>\n    </tr>\n    <tr>\n      <th>14107</th>\n      <td>83840</td>\n      <td>밀크 스노우 빙수</td>\n      <td>아이스크림</td>\n      <td>빙수</td>\n      <td>빙수류</td>\n      <td>515</td>\n      <td>mL</td>\n      <td>-</td>\n      <td>515</td>\n      <td>81.0</td>\n      <td>515.0</td>\n      <td>15.7</td>\n      <td>0.0</td>\n    </tr>\n  </tbody>\n</table>\n<p>82 rows × 13 columns</p>\n</div>"
     },
     "execution_count": 108,
     "metadata": {},
     "output_type": "execute_result"
    }
   ],
   "source": [
    "sheet.loc[(sheet['대분류'] == '아이스크림') & (sheet['중분류'] == '빙수'), :]"
   ],
   "metadata": {
    "collapsed": false,
    "pycharm": {
     "name": "#%%\n"
    }
   }
  },
  {
   "cell_type": "code",
   "execution_count": 109,
   "outputs": [],
   "source": [
    "초코 = ['초코', '가나슈', '브라우니', '쵸코', '초콜릿', '코코아', '쇼콜라', '제티']\n",
    "그린티 = ['말차', '녹차', '그린티']\n",
    "과일 = ['블루베리', '크랜베리', '딸기', '코코넛', '리치', '레몬', '한라봉', '딸기', '비트', '애플', '유자', '오렌지', '사과', '매실', '크린베리', '스트로베리', '올리브',\n",
    "      '망고', '복숭아', '바나나', '라즈베리', '감귤', '수박', '깔라만시', '청포도', '포도', '체리', '자몽', '배', '패션프루트', '홍시', '파인', '피치', '베리', '과일']\n",
    "오레오 = ['쿠키', '쿠앤크']\n",
    "요거트 = ['요거트', '요구르트']\n",
    "팥 = ['팥']\n",
    "곡류 = ['인절미', '콩']\n",
    "커피 = ['커피']\n",
    "밀크 = ['우유', '밀크']\n",
    "\n",
    "sheet.loc[(sheet['중분류'] == '빙수') & (sheet['대분류'] == '아이스크림'), '소분류'] = ''\n",
    "\n",
    "for value in 초코:\n",
    "    sheet.loc[(sheet['중분류'] == '빙수') & (sheet['식품명'].str.contains(value)), '소분류'] = '초코'\n",
    "for value in 그린티:\n",
    "    sheet.loc[(sheet['중분류'] == '빙수') & (sheet['식품명'].str.contains(value)), '소분류'] = '그린티'\n",
    "for value in 과일:\n",
    "    sheet.loc[(sheet['중분류'] == '빙수') & (sheet['식품명'].str.contains(value)), '소분류'] = '과일'\n",
    "for value in 오레오:\n",
    "    sheet.loc[(sheet['중분류'] == '빙수') & (sheet['식품명'].str.contains(value)), '소분류'] = '오레오'\n",
    "for value in 요거트:\n",
    "    sheet.loc[(sheet['중분류'] == '빙수') & (sheet['식품명'].str.contains(value)), '소분류'] = '요거트'\n",
    "for value in 팥:\n",
    "    sheet.loc[(sheet['중분류'] == '빙수') & (sheet['식품명'].str.contains(value)), '소분류'] = '팥'\n",
    "for value in 곡류:\n",
    "    sheet.loc[(sheet['중분류'] == '빙수') & (sheet['식품명'].str.contains(value)), '소분류'] = '곡류'\n",
    "for value in 커피:\n",
    "    sheet.loc[(sheet['중분류'] == '빙수') & (sheet['식품명'].str.contains(value)), '소분류'] = '커피'\n",
    "for value in 밀크:\n",
    "    sheet.loc[(sheet['중분류'] == '빙수') & (sheet['식품명'].str.contains(value)), '소분류'] = '밀크'\n",
    "\n",
    "sheet.loc[(sheet['중분류'] == '빙수') & (sheet['소분류'] == ''), '소분류'] = '기타'"
   ],
   "metadata": {
    "collapsed": false,
    "pycharm": {
     "name": "#%%\n"
    }
   }
  },
  {
   "cell_type": "code",
   "execution_count": 110,
   "outputs": [
    {
     "data": {
      "text/plain": "{'기타': 5,\n '과일': 34,\n '밀크': 10,\n '팥': 9,\n '요거트': 6,\n '그린티': 4,\n '오레오': 4,\n '초코': 4,\n '곡류': 3,\n '커피': 3}"
     },
     "execution_count": 110,
     "metadata": {},
     "output_type": "execute_result"
    }
   ],
   "source": [
    "category_count_fn('빙수')"
   ],
   "metadata": {
    "collapsed": false,
    "pycharm": {
     "name": "#%%\n"
    }
   }
  },
  {
   "cell_type": "code",
   "execution_count": 111,
   "outputs": [
    {
     "data": {
      "text/plain": "          No        식품명    대분류  중분류  소분류  1회 제공량  용량 총내용량(g) 총내용량(ml)  총당류(g)  \\\n18310   8399        돼지바  아이스크림  샤베트  샤베트      70  mL       -       70    18.0   \n18311   8410        빠삐코  아이스크림  샤베트  샤베트     130  mL       -      130    22.0   \n18312   8421        비비빅  아이스크림  샤베트  샤베트      70  mL       -       70    15.0   \n18313   8432      일품팥빙수  아이스크림  샤베트  샤베트     100  mL       -      240    20.0   \n18314   8443          와  아이스크림  샤베트  샤베트     190  mL       -      190    29.0   \n...      ...        ...    ...  ...  ...     ...  ..     ...      ...     ...   \n18724  68307  후레쉬캔디바 초코  아이스크림  샤베트  샤베트      62   g      62        -     8.0   \n18725  68308   후레쉬캔디바 팥  아이스크림  샤베트  샤베트      62   g      62        -     8.0   \n18726  68309  후레쉬캔디바 딸기  아이스크림  샤베트  샤베트      62   g      62        -     7.0   \n18727  68310  후레쉬캔디바 메론  아이스크림  샤베트  샤베트      62   g      62        -     7.0   \n18728  68312      정통팥빙수  아이스크림  샤베트  샤베트     260   g     260        -    47.0   \n\n        총내용량  단위용량 대비 설탕 비율  설탕비율의 소분류 평균값  \n18310   70.0           25.7            0.0  \n18311  130.0           16.9            0.0  \n18312   70.0           21.4            0.0  \n18313  240.0           20.0            0.0  \n18314  190.0           15.3            0.0  \n...      ...            ...            ...  \n18724   62.0           12.9            0.0  \n18725   62.0           12.9            0.0  \n18726   62.0           11.3            0.0  \n18727   62.0           11.3            0.0  \n18728  260.0           18.1            0.0  \n\n[419 rows x 13 columns]",
      "text/html": "<div>\n<style scoped>\n    .dataframe tbody tr th:only-of-type {\n        vertical-align: middle;\n    }\n\n    .dataframe tbody tr th {\n        vertical-align: top;\n    }\n\n    .dataframe thead th {\n        text-align: right;\n    }\n</style>\n<table border=\"1\" class=\"dataframe\">\n  <thead>\n    <tr style=\"text-align: right;\">\n      <th></th>\n      <th>No</th>\n      <th>식품명</th>\n      <th>대분류</th>\n      <th>중분류</th>\n      <th>소분류</th>\n      <th>1회 제공량</th>\n      <th>용량</th>\n      <th>총내용량(g)</th>\n      <th>총내용량(ml)</th>\n      <th>총당류(g)</th>\n      <th>총내용량</th>\n      <th>단위용량 대비 설탕 비율</th>\n      <th>설탕비율의 소분류 평균값</th>\n    </tr>\n  </thead>\n  <tbody>\n    <tr>\n      <th>18310</th>\n      <td>8399</td>\n      <td>돼지바</td>\n      <td>아이스크림</td>\n      <td>샤베트</td>\n      <td>샤베트</td>\n      <td>70</td>\n      <td>mL</td>\n      <td>-</td>\n      <td>70</td>\n      <td>18.0</td>\n      <td>70.0</td>\n      <td>25.7</td>\n      <td>0.0</td>\n    </tr>\n    <tr>\n      <th>18311</th>\n      <td>8410</td>\n      <td>빠삐코</td>\n      <td>아이스크림</td>\n      <td>샤베트</td>\n      <td>샤베트</td>\n      <td>130</td>\n      <td>mL</td>\n      <td>-</td>\n      <td>130</td>\n      <td>22.0</td>\n      <td>130.0</td>\n      <td>16.9</td>\n      <td>0.0</td>\n    </tr>\n    <tr>\n      <th>18312</th>\n      <td>8421</td>\n      <td>비비빅</td>\n      <td>아이스크림</td>\n      <td>샤베트</td>\n      <td>샤베트</td>\n      <td>70</td>\n      <td>mL</td>\n      <td>-</td>\n      <td>70</td>\n      <td>15.0</td>\n      <td>70.0</td>\n      <td>21.4</td>\n      <td>0.0</td>\n    </tr>\n    <tr>\n      <th>18313</th>\n      <td>8432</td>\n      <td>일품팥빙수</td>\n      <td>아이스크림</td>\n      <td>샤베트</td>\n      <td>샤베트</td>\n      <td>100</td>\n      <td>mL</td>\n      <td>-</td>\n      <td>240</td>\n      <td>20.0</td>\n      <td>240.0</td>\n      <td>20.0</td>\n      <td>0.0</td>\n    </tr>\n    <tr>\n      <th>18314</th>\n      <td>8443</td>\n      <td>와</td>\n      <td>아이스크림</td>\n      <td>샤베트</td>\n      <td>샤베트</td>\n      <td>190</td>\n      <td>mL</td>\n      <td>-</td>\n      <td>190</td>\n      <td>29.0</td>\n      <td>190.0</td>\n      <td>15.3</td>\n      <td>0.0</td>\n    </tr>\n    <tr>\n      <th>...</th>\n      <td>...</td>\n      <td>...</td>\n      <td>...</td>\n      <td>...</td>\n      <td>...</td>\n      <td>...</td>\n      <td>...</td>\n      <td>...</td>\n      <td>...</td>\n      <td>...</td>\n      <td>...</td>\n      <td>...</td>\n      <td>...</td>\n    </tr>\n    <tr>\n      <th>18724</th>\n      <td>68307</td>\n      <td>후레쉬캔디바 초코</td>\n      <td>아이스크림</td>\n      <td>샤베트</td>\n      <td>샤베트</td>\n      <td>62</td>\n      <td>g</td>\n      <td>62</td>\n      <td>-</td>\n      <td>8.0</td>\n      <td>62.0</td>\n      <td>12.9</td>\n      <td>0.0</td>\n    </tr>\n    <tr>\n      <th>18725</th>\n      <td>68308</td>\n      <td>후레쉬캔디바 팥</td>\n      <td>아이스크림</td>\n      <td>샤베트</td>\n      <td>샤베트</td>\n      <td>62</td>\n      <td>g</td>\n      <td>62</td>\n      <td>-</td>\n      <td>8.0</td>\n      <td>62.0</td>\n      <td>12.9</td>\n      <td>0.0</td>\n    </tr>\n    <tr>\n      <th>18726</th>\n      <td>68309</td>\n      <td>후레쉬캔디바 딸기</td>\n      <td>아이스크림</td>\n      <td>샤베트</td>\n      <td>샤베트</td>\n      <td>62</td>\n      <td>g</td>\n      <td>62</td>\n      <td>-</td>\n      <td>7.0</td>\n      <td>62.0</td>\n      <td>11.3</td>\n      <td>0.0</td>\n    </tr>\n    <tr>\n      <th>18727</th>\n      <td>68310</td>\n      <td>후레쉬캔디바 메론</td>\n      <td>아이스크림</td>\n      <td>샤베트</td>\n      <td>샤베트</td>\n      <td>62</td>\n      <td>g</td>\n      <td>62</td>\n      <td>-</td>\n      <td>7.0</td>\n      <td>62.0</td>\n      <td>11.3</td>\n      <td>0.0</td>\n    </tr>\n    <tr>\n      <th>18728</th>\n      <td>68312</td>\n      <td>정통팥빙수</td>\n      <td>아이스크림</td>\n      <td>샤베트</td>\n      <td>샤베트</td>\n      <td>260</td>\n      <td>g</td>\n      <td>260</td>\n      <td>-</td>\n      <td>47.0</td>\n      <td>260.0</td>\n      <td>18.1</td>\n      <td>0.0</td>\n    </tr>\n  </tbody>\n</table>\n<p>419 rows × 13 columns</p>\n</div>"
     },
     "execution_count": 111,
     "metadata": {},
     "output_type": "execute_result"
    }
   ],
   "source": [
    "sheet.loc[(sheet['대분류'] == '아이스크림') & (sheet['중분류'] == '샤베트'), :]"
   ],
   "metadata": {
    "collapsed": false,
    "pycharm": {
     "name": "#%%\n"
    }
   }
  },
  {
   "cell_type": "code",
   "execution_count": 112,
   "outputs": [],
   "source": [
    "초코 = ['초코', '가나슈', '브라우니', '쵸코', '초콜릿', '코코아', '쇼콜라', '제티', '가']\n",
    "그린티 = ['말차', '녹차', '그린티']\n",
    "과일 = ['블루베리', '크랜베리', '딸기', '코코넛', '리치', '레몬', '한라봉', '딸기', '비트', '애플', '유자', '오렌지', '사과', '매실', '크린베리', '스트로베리', '올리브',\n",
    "      '망고', '복숭아', '바나나', '라즈베리', '감귤', '수박', '깔라만시', '청포도', '포도', '체리', '자몽', '배', '패션프루트', '홍시', '파인', '피치', '베리', '과일', '메론', '멜론', '자두']\n",
    "고구마 = ['고구마']\n",
    "요거트 = ['요거트', '요구르트']\n",
    "팥 = ['팥']\n",
    "곡류 = ['인절미', '콩', '흑임자']\n",
    "커피 = ['커피', '까페']\n",
    "밀크 = ['우유', '밀크']\n",
    "바닐라 = ['바닐라']\n",
    "카라멜 = ['카라멜']\n",
    "\n",
    "sheet.loc[(sheet['중분류'] == '샤베트') & (sheet['대분류'] == '아이스크림'), '소분류'] = ''\n",
    "\n",
    "for value in 초코:\n",
    "    sheet.loc[(sheet['중분류'] == '샤베트') & (sheet['식품명'].str.contains(value)), '소분류'] = '초코'\n",
    "for value in 그린티:\n",
    "    sheet.loc[(sheet['중분류'] == '샤베트') & (sheet['식품명'].str.contains(value)), '소분류'] = '그린티'\n",
    "for value in 과일:\n",
    "    sheet.loc[(sheet['중분류'] == '샤베트') & (sheet['식품명'].str.contains(value)), '소분류'] = '과일'\n",
    "for value in 요거트:\n",
    "    sheet.loc[(sheet['중분류'] == '샤베트') & (sheet['식품명'].str.contains(value)), '소분류'] = '요거트'\n",
    "for value in 고구마:\n",
    "    sheet.loc[(sheet['중분류'] == '샤베트') & (sheet['식품명'].str.contains(value)), '소분류'] = '고구마'\n",
    "for value in 팥:\n",
    "    sheet.loc[(sheet['중분류'] == '샤베트') & (sheet['식품명'].str.contains(value)), '소분류'] = '팥'\n",
    "for value in 곡류:\n",
    "    sheet.loc[(sheet['중분류'] == '샤베트') & (sheet['식품명'].str.contains(value)), '소분류'] = '곡류'\n",
    "for value in 커피:\n",
    "    sheet.loc[(sheet['중분류'] == '샤베트') & (sheet['식품명'].str.contains(value)), '소분류'] = '커피'\n",
    "for value in 밀크:\n",
    "    sheet.loc[(sheet['중분류'] == '샤베트') & (sheet['식품명'].str.contains(value)), '소분류'] = '밀크'\n",
    "for value in 바닐라:\n",
    "    sheet.loc[(sheet['중분류'] == '샤베트') & (sheet['식품명'].str.contains(value)), '소분류'] = '바닐라'\n",
    "for value in 카라멜:\n",
    "    sheet.loc[(sheet['중분류'] == '샤베트') & (sheet['식품명'].str.contains(value)), '소분류'] = '카라멜'\n",
    "\n",
    "sheet.loc[(sheet['중분류'] == '샤베트') & (sheet['소분류'] == ''), '소분류'] = '기타'"
   ],
   "metadata": {
    "collapsed": false,
    "pycharm": {
     "name": "#%%\n"
    }
   }
  },
  {
   "cell_type": "code",
   "execution_count": 113,
   "outputs": [
    {
     "data": {
      "text/plain": "{'기타': 114,\n '팥': 25,\n '초코': 55,\n '과일': 125,\n '커피': 10,\n '곡류': 11,\n '밀크': 28,\n '바닐라': 12,\n '요거트': 20,\n '카라멜': 7,\n '그린티': 7,\n '고구마': 5}"
     },
     "execution_count": 113,
     "metadata": {},
     "output_type": "execute_result"
    }
   ],
   "source": [
    "category_count_fn('샤베트')"
   ],
   "metadata": {
    "collapsed": false,
    "pycharm": {
     "name": "#%%\n"
    }
   }
  },
  {
   "cell_type": "code",
   "execution_count": 113,
   "outputs": [],
   "source": [],
   "metadata": {
    "collapsed": false,
    "pycharm": {
     "name": "#%%\n"
    }
   }
  },
  {
   "cell_type": "code",
   "execution_count": 113,
   "outputs": [],
   "source": [],
   "metadata": {
    "collapsed": false,
    "pycharm": {
     "name": "#%%\n"
    }
   }
  },
  {
   "cell_type": "code",
   "execution_count": 113,
   "outputs": [],
   "source": [],
   "metadata": {
    "collapsed": false,
    "pycharm": {
     "name": "#%%\n"
    }
   }
  },
  {
   "cell_type": "code",
   "execution_count": 113,
   "outputs": [],
   "source": [],
   "metadata": {
    "collapsed": false,
    "pycharm": {
     "name": "#%%\n"
    }
   }
  },
  {
   "cell_type": "code",
   "execution_count": 113,
   "outputs": [],
   "source": [],
   "metadata": {
    "collapsed": false,
    "pycharm": {
     "name": "#%%\n"
    }
   }
  },
  {
   "cell_type": "code",
   "execution_count": 113,
   "outputs": [],
   "source": [],
   "metadata": {
    "collapsed": false,
    "pycharm": {
     "name": "#%%\n"
    }
   }
  },
  {
   "cell_type": "code",
   "execution_count": 113,
   "outputs": [],
   "source": [],
   "metadata": {
    "collapsed": false,
    "pycharm": {
     "name": "#%%\n"
    }
   }
  },
  {
   "cell_type": "code",
   "execution_count": 113,
   "outputs": [],
   "source": [],
   "metadata": {
    "collapsed": false,
    "pycharm": {
     "name": "#%%\n"
    }
   }
  },
  {
   "cell_type": "code",
   "execution_count": 114,
   "outputs": [
    {
     "data": {
      "text/plain": "          No         식품명    대분류       중분류       소분류  1회 제공량  용량 총내용량(g)  \\\n20789   9567         메로나  아이스크림  유지방아이스크림     아이스밀크      75  mL       -   \n20790   9568   설레임 밀크쉐이크  아이스크림  유지방아이스크림     아이스밀크     160  mL       -   \n20791   9569    부드러운 빵또아  아이스크림  유지방아이스크림     아이스밀크     180  mL       -   \n20792   9570         돼지콘  아이스크림  유지방아이스크림     아이스밀크     160  mL       -   \n20793   9571         옥동자  아이스크림  유지방아이스크림     아이스밀크      70  mL       -   \n...      ...         ...    ...       ...       ...     ...  ..     ...   \n24187  15383   뷰티인사이드 딸기  아이스크림  유지방아이스크림  저지방아이스크림     110  mL       -   \n24188  15384   뷰티인사이드 초코  아이스크림  유지방아이스크림  저지방아이스크림     110  mL       -   \n24189  18582  뷰티인사이드 바닐라  아이스크림  유지방아이스크림  저지방아이스크림     110  mL       -   \n24190  18583   뷰티인사이드 딸기  아이스크림  유지방아이스크림  저지방아이스크림     110  mL       -   \n24191  18584   뷰티인사이드 초코  아이스크림  유지방아이스크림  저지방아이스크림     110  mL       -   \n\n      총내용량(ml)  총당류(g)   총내용량  단위용량 대비 설탕 비율  설탕비율의 소분류 평균값  \n20789       75    13.0   75.0           17.3            0.0  \n20790      160    24.0  160.0           15.0            0.0  \n20791      180    23.0  180.0           12.8            0.0  \n20792      160    26.0  160.0           16.2            0.0  \n20793       70    16.0   70.0           22.9            0.0  \n...        ...     ...    ...            ...            ...  \n24187      110     8.6  110.0            7.8            0.0  \n24188      110     6.4  110.0            5.8            0.0  \n24189      110     7.8  110.0            7.1            0.0  \n24190      110     8.6  110.0            7.8            0.0  \n24191      110     6.4  110.0            5.8            0.0  \n\n[2437 rows x 13 columns]",
      "text/html": "<div>\n<style scoped>\n    .dataframe tbody tr th:only-of-type {\n        vertical-align: middle;\n    }\n\n    .dataframe tbody tr th {\n        vertical-align: top;\n    }\n\n    .dataframe thead th {\n        text-align: right;\n    }\n</style>\n<table border=\"1\" class=\"dataframe\">\n  <thead>\n    <tr style=\"text-align: right;\">\n      <th></th>\n      <th>No</th>\n      <th>식품명</th>\n      <th>대분류</th>\n      <th>중분류</th>\n      <th>소분류</th>\n      <th>1회 제공량</th>\n      <th>용량</th>\n      <th>총내용량(g)</th>\n      <th>총내용량(ml)</th>\n      <th>총당류(g)</th>\n      <th>총내용량</th>\n      <th>단위용량 대비 설탕 비율</th>\n      <th>설탕비율의 소분류 평균값</th>\n    </tr>\n  </thead>\n  <tbody>\n    <tr>\n      <th>20789</th>\n      <td>9567</td>\n      <td>메로나</td>\n      <td>아이스크림</td>\n      <td>유지방아이스크림</td>\n      <td>아이스밀크</td>\n      <td>75</td>\n      <td>mL</td>\n      <td>-</td>\n      <td>75</td>\n      <td>13.0</td>\n      <td>75.0</td>\n      <td>17.3</td>\n      <td>0.0</td>\n    </tr>\n    <tr>\n      <th>20790</th>\n      <td>9568</td>\n      <td>설레임 밀크쉐이크</td>\n      <td>아이스크림</td>\n      <td>유지방아이스크림</td>\n      <td>아이스밀크</td>\n      <td>160</td>\n      <td>mL</td>\n      <td>-</td>\n      <td>160</td>\n      <td>24.0</td>\n      <td>160.0</td>\n      <td>15.0</td>\n      <td>0.0</td>\n    </tr>\n    <tr>\n      <th>20791</th>\n      <td>9569</td>\n      <td>부드러운 빵또아</td>\n      <td>아이스크림</td>\n      <td>유지방아이스크림</td>\n      <td>아이스밀크</td>\n      <td>180</td>\n      <td>mL</td>\n      <td>-</td>\n      <td>180</td>\n      <td>23.0</td>\n      <td>180.0</td>\n      <td>12.8</td>\n      <td>0.0</td>\n    </tr>\n    <tr>\n      <th>20792</th>\n      <td>9570</td>\n      <td>돼지콘</td>\n      <td>아이스크림</td>\n      <td>유지방아이스크림</td>\n      <td>아이스밀크</td>\n      <td>160</td>\n      <td>mL</td>\n      <td>-</td>\n      <td>160</td>\n      <td>26.0</td>\n      <td>160.0</td>\n      <td>16.2</td>\n      <td>0.0</td>\n    </tr>\n    <tr>\n      <th>20793</th>\n      <td>9571</td>\n      <td>옥동자</td>\n      <td>아이스크림</td>\n      <td>유지방아이스크림</td>\n      <td>아이스밀크</td>\n      <td>70</td>\n      <td>mL</td>\n      <td>-</td>\n      <td>70</td>\n      <td>16.0</td>\n      <td>70.0</td>\n      <td>22.9</td>\n      <td>0.0</td>\n    </tr>\n    <tr>\n      <th>...</th>\n      <td>...</td>\n      <td>...</td>\n      <td>...</td>\n      <td>...</td>\n      <td>...</td>\n      <td>...</td>\n      <td>...</td>\n      <td>...</td>\n      <td>...</td>\n      <td>...</td>\n      <td>...</td>\n      <td>...</td>\n      <td>...</td>\n    </tr>\n    <tr>\n      <th>24187</th>\n      <td>15383</td>\n      <td>뷰티인사이드 딸기</td>\n      <td>아이스크림</td>\n      <td>유지방아이스크림</td>\n      <td>저지방아이스크림</td>\n      <td>110</td>\n      <td>mL</td>\n      <td>-</td>\n      <td>110</td>\n      <td>8.6</td>\n      <td>110.0</td>\n      <td>7.8</td>\n      <td>0.0</td>\n    </tr>\n    <tr>\n      <th>24188</th>\n      <td>15384</td>\n      <td>뷰티인사이드 초코</td>\n      <td>아이스크림</td>\n      <td>유지방아이스크림</td>\n      <td>저지방아이스크림</td>\n      <td>110</td>\n      <td>mL</td>\n      <td>-</td>\n      <td>110</td>\n      <td>6.4</td>\n      <td>110.0</td>\n      <td>5.8</td>\n      <td>0.0</td>\n    </tr>\n    <tr>\n      <th>24189</th>\n      <td>18582</td>\n      <td>뷰티인사이드 바닐라</td>\n      <td>아이스크림</td>\n      <td>유지방아이스크림</td>\n      <td>저지방아이스크림</td>\n      <td>110</td>\n      <td>mL</td>\n      <td>-</td>\n      <td>110</td>\n      <td>7.8</td>\n      <td>110.0</td>\n      <td>7.1</td>\n      <td>0.0</td>\n    </tr>\n    <tr>\n      <th>24190</th>\n      <td>18583</td>\n      <td>뷰티인사이드 딸기</td>\n      <td>아이스크림</td>\n      <td>유지방아이스크림</td>\n      <td>저지방아이스크림</td>\n      <td>110</td>\n      <td>mL</td>\n      <td>-</td>\n      <td>110</td>\n      <td>8.6</td>\n      <td>110.0</td>\n      <td>7.8</td>\n      <td>0.0</td>\n    </tr>\n    <tr>\n      <th>24191</th>\n      <td>18584</td>\n      <td>뷰티인사이드 초코</td>\n      <td>아이스크림</td>\n      <td>유지방아이스크림</td>\n      <td>저지방아이스크림</td>\n      <td>110</td>\n      <td>mL</td>\n      <td>-</td>\n      <td>110</td>\n      <td>6.4</td>\n      <td>110.0</td>\n      <td>5.8</td>\n      <td>0.0</td>\n    </tr>\n  </tbody>\n</table>\n<p>2437 rows × 13 columns</p>\n</div>"
     },
     "execution_count": 114,
     "metadata": {},
     "output_type": "execute_result"
    }
   ],
   "source": [
    "sheet.loc[(sheet['대분류'] == '아이스크림') & (sheet['중분류'] == '유지방아이스크림'), :]"
   ],
   "metadata": {
    "collapsed": false,
    "pycharm": {
     "name": "#%%\n"
    }
   }
  },
  {
   "cell_type": "code",
   "execution_count": 115,
   "outputs": [],
   "source": [
    "초코 = ['초코', '가나슈', '브라우니', '쵸코', '초콜릿', '코코아', '쇼콜라', '제티', '모카']\n",
    "그린티 = ['말차', '녹차', '그린티']\n",
    "과일 = ['블루베리', '크랜베리', '딸기', '코코넛', '리치', '레몬', '한라봉', '딸기', '비트', '애플', '유자', '오렌지', '사과', '매실', '크린베리', '스트로베리', '올리브',\n",
    "      '망고', '복숭아', '바나나', '라즈베리', '감귤', '수박', '깔라만시', '청포도', '포도', '체리', '자몽', '배', '패션프루트', '홍시', '파인', '피치', '베리',\n",
    "      '과일', '메론', '멜론', '자두']\n",
    "고구마 = ['고구마']\n",
    "요거트 = ['요거트', '요구르트']\n",
    "팥 = ['팥']\n",
    "곡류 = ['인절미', '콩', '흑임자', '두유', '찹쌀']\n",
    "커피 = ['커피', '까페', '아라비카', '카페라떼']\n",
    "밀크 = ['우유', '밀크']\n",
    "바닐라 = ['바닐라']\n",
    "카라멜 = ['카라멜', '캐러맬']\n",
    "견과류 = ['호두', '피스타치오', '월넛', '피넛', '피칸', '마카다미아']\n",
    "오레오 = ['쿠앤크', '오레오', '쿠키']\n",
    "쑥 = ['쑥']\n",
    "치즈 = ['치즈']\n",
    "티라미수 = ['티라미스', '티라미슈', '티라미수']\n",
    "\n",
    "sheet.loc[(sheet['중분류'] == '유지방아이스크림') & (sheet['대분류'] == '아이스크림'), '소분류'] = ''\n",
    "\n",
    "for value in 초코:\n",
    "    sheet.loc[(sheet['중분류'] == '유지방아이스크림') & (sheet['식품명'].str.contains(value)), '소분류'] = '초코'\n",
    "for value in 그린티:\n",
    "    sheet.loc[(sheet['중분류'] == '유지방아이스크림') & (sheet['식품명'].str.contains(value)), '소분류'] = '그린티'\n",
    "for value in 과일:\n",
    "    sheet.loc[(sheet['중분류'] == '유지방아이스크림') & (sheet['식품명'].str.contains(value)), '소분류'] = '과일'\n",
    "for value in 요거트:\n",
    "    sheet.loc[(sheet['중분류'] == '유지방아이스크림') & (sheet['식품명'].str.contains(value)), '소분류'] = '요거트'\n",
    "for value in 고구마:\n",
    "    sheet.loc[(sheet['중분류'] == '유지방아이스크림') & (sheet['식품명'].str.contains(value)), '소분류'] = '고구마'\n",
    "for value in 팥:\n",
    "    sheet.loc[(sheet['중분류'] == '유지방아이스크림') & (sheet['식품명'].str.contains(value)), '소분류'] = '팥'\n",
    "for value in 곡류:\n",
    "    sheet.loc[(sheet['중분류'] == '유지방아이스크림') & (sheet['식품명'].str.contains(value)), '소분류'] = '곡류'\n",
    "for value in 커피:\n",
    "    sheet.loc[(sheet['중분류'] == '유지방아이스크림') & (sheet['식품명'].str.contains(value)), '소분류'] = '커피'\n",
    "for value in 밀크:\n",
    "    sheet.loc[(sheet['중분류'] == '유지방아이스크림') & (sheet['식품명'].str.contains(value)), '소분류'] = '밀크'\n",
    "for value in 바닐라:\n",
    "    sheet.loc[(sheet['중분류'] == '유지방아이스크림') & (sheet['식품명'].str.contains(value)), '소분류'] = '바닐라'\n",
    "for value in 카라멜:\n",
    "    sheet.loc[(sheet['중분류'] == '유지방아이스크림') & (sheet['식품명'].str.contains(value)), '소분류'] = '카라멜'\n",
    "for value in 오레오:\n",
    "    sheet.loc[(sheet['중분류'] == '유지방아이스크림') & (sheet['식품명'].str.contains(value)), '소분류'] = '오레오'\n",
    "for value in 견과류:\n",
    "    sheet.loc[(sheet['중분류'] == '유지방아이스크림') & (sheet['식품명'].str.contains(value)), '소분류'] = '견과류'\n",
    "for value in 쑥:\n",
    "    sheet.loc[(sheet['중분류'] == '유지방아이스크림') & (sheet['식품명'].str.contains(value)), '소분류'] = '쑥'\n",
    "for value in 치즈:\n",
    "    sheet.loc[(sheet['중분류'] == '유지방아이스크림') & (sheet['식품명'].str.contains(value)), '소분류'] = '치즈'\n",
    "for value in 티라미수:\n",
    "    sheet.loc[(sheet['중분류'] == '유지방아이스크림') & (sheet['식품명'].str.contains(value)), '소분류'] = '티라미수'\n",
    "\n",
    "sheet.loc[(sheet['중분류'] == '유지방아이스크림') & (sheet['소분류'] == ''), '소분류'] = '기타'"
   ],
   "metadata": {
    "collapsed": false,
    "pycharm": {
     "name": "#%%\n"
    }
   }
  },
  {
   "cell_type": "code",
   "execution_count": 116,
   "outputs": [
    {
     "data": {
      "text/plain": "{'기타': 573,\n '밀크': 164,\n '초코': 332,\n '팥': 14,\n '바닐라': 239,\n '오레오': 143,\n '과일': 367,\n '커피': 53,\n '곡류': 45,\n '치즈': 119,\n '카라멜': 39,\n '그린티': 145,\n '요거트': 84,\n '견과류': 79,\n '고구마': 12,\n '티라미수': 20,\n '쑥': 9}"
     },
     "execution_count": 116,
     "metadata": {},
     "output_type": "execute_result"
    }
   ],
   "source": [
    "category_count_fn('유지방아이스크림')"
   ],
   "metadata": {
    "collapsed": false,
    "pycharm": {
     "name": "#%%\n"
    }
   }
  },
  {
   "cell_type": "code",
   "execution_count": 117,
   "outputs": [
    {
     "data": {
      "text/plain": "array(['빙과', '빙수', '샤베트', '유지방아이스크림'], dtype=object)"
     },
     "execution_count": 117,
     "metadata": {},
     "output_type": "execute_result"
    }
   ],
   "source": [
    "sheet.loc[sheet['대분류'] == '아이스크림', '중분류'].unique()"
   ],
   "metadata": {
    "collapsed": false,
    "pycharm": {
     "name": "#%%\n"
    }
   }
  },
  {
   "cell_type": "code",
   "execution_count": 118,
   "outputs": [
    {
     "data": {
      "text/plain": "array(['기타', '초코', '오레오', '과일', '그린티', '견과류', '야채', '곡류', '카라멜', '요거트',\n       '소다', '밀크', '팥', '커피', '바닐라', '고구마', '치즈', '티라미수', '쑥'],\n      dtype=object)"
     },
     "execution_count": 118,
     "metadata": {},
     "output_type": "execute_result"
    }
   ],
   "source": [
    "sheet.loc[sheet['대분류'] == '아이스크림', '소분류'].unique()"
   ],
   "metadata": {
    "collapsed": false,
    "pycharm": {
     "name": "#%%\n"
    }
   }
  },
  {
   "cell_type": "code",
   "execution_count": 119,
   "outputs": [],
   "source": [
    "sheet.to_csv('../../아이스크림정제(final).csv')"
   ],
   "metadata": {
    "collapsed": false,
    "pycharm": {
     "name": "#%%\n"
    }
   }
  },
  {
   "cell_type": "code",
   "execution_count": 119,
   "outputs": [],
   "source": [],
   "metadata": {
    "collapsed": false,
    "pycharm": {
     "name": "#%%\n"
    }
   }
  },
  {
   "cell_type": "code",
   "execution_count": 119,
   "outputs": [],
   "source": [],
   "metadata": {
    "collapsed": false,
    "pycharm": {
     "name": "#%%\n"
    }
   }
  },
  {
   "cell_type": "code",
   "execution_count": 119,
   "outputs": [],
   "source": [],
   "metadata": {
    "collapsed": false,
    "pycharm": {
     "name": "#%%\n"
    }
   }
  },
  {
   "cell_type": "code",
   "execution_count": 119,
   "outputs": [],
   "source": [],
   "metadata": {
    "collapsed": false,
    "pycharm": {
     "name": "#%%\n"
    }
   }
  },
  {
   "cell_type": "code",
   "execution_count": 81,
   "outputs": [],
   "source": [],
   "metadata": {
    "collapsed": false,
    "pycharm": {
     "name": "#%%\n"
    }
   }
  },
  {
   "cell_type": "code",
   "execution_count": null,
   "outputs": [],
   "source": [],
   "metadata": {
    "collapsed": false,
    "pycharm": {
     "name": "#%%\n"
    }
   }
  }
 ],
 "metadata": {
  "kernelspec": {
   "display_name": "Python 3",
   "language": "python",
   "name": "python3"
  },
  "language_info": {
   "codemirror_mode": {
    "name": "ipython",
    "version": 2
   },
   "file_extension": ".py",
   "mimetype": "text/x-python",
   "name": "python",
   "nbconvert_exporter": "python",
   "pygments_lexer": "ipython2",
   "version": "2.7.6"
  }
 },
 "nbformat": 4,
 "nbformat_minor": 0
}