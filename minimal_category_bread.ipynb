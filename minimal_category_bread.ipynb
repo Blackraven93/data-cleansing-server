{
 "cells": [
  {
   "cell_type": "code",
   "execution_count": 755,
   "outputs": [],
   "source": [
    "import pandas as pd\n",
    "import numpy as np\n",
    "\n",
    "import pprint as pp"
   ],
   "metadata": {
    "collapsed": false,
    "pycharm": {
     "name": "#%%\n"
    }
   }
  },
  {
   "cell_type": "code",
   "execution_count": 756,
   "outputs": [],
   "source": [
    "sheet = pd.read_csv(\"/Users/raven/Desktop/programming/음료정제(final).csv\")"
   ],
   "metadata": {
    "collapsed": false,
    "pycharm": {
     "name": "#%%\n"
    }
   }
  },
  {
   "cell_type": "code",
   "execution_count": 757,
   "outputs": [],
   "source": [
    "sheet = sheet.drop('Unnamed: 0', axis=1)"
   ],
   "metadata": {
    "collapsed": false,
    "pycharm": {
     "name": "#%%\n"
    }
   }
  },
  {
   "cell_type": "code",
   "execution_count": 758,
   "outputs": [
    {
     "name": "stdout",
     "output_type": "stream",
     "text": [
      "<class 'pandas.core.frame.DataFrame'>\n",
      "RangeIndex: 36078 entries, 0 to 36077\n",
      "Data columns (total 12 columns):\n",
      " #   Column         Non-Null Count  Dtype  \n",
      "---  ------         --------------  -----  \n",
      " 0   No             36078 non-null  int64  \n",
      " 1   식품명            36078 non-null  object \n",
      " 2   대분류            36078 non-null  object \n",
      " 3   중분류            36078 non-null  object \n",
      " 4   소분류            36078 non-null  object \n",
      " 5   1회 제공량         36078 non-null  int64  \n",
      " 6   용량             36078 non-null  object \n",
      " 7   총내용량(g)        36078 non-null  object \n",
      " 8   총내용량(ml)       36078 non-null  object \n",
      " 9   총당류(g)         36078 non-null  float64\n",
      " 10  총내용량           36078 non-null  float64\n",
      " 11  단위용량 대비 설탕 비율  36078 non-null  float64\n",
      "dtypes: float64(3), int64(2), object(7)\n",
      "memory usage: 3.3+ MB\n"
     ]
    }
   ],
   "source": [
    "sheet.info()"
   ],
   "metadata": {
    "collapsed": false,
    "pycharm": {
     "name": "#%%\n"
    }
   }
  },
  {
   "cell_type": "code",
   "execution_count": 759,
   "outputs": [],
   "source": [
    "def seperated_category(middle_category, category_dictionary, *conditions):\n",
    "    for item in category_dictionary.items():\n",
    "        key = item[0]\n",
    "        value = item[1]\n",
    "\n",
    "        if conditions:\n",
    "            for category in value:\n",
    "                sheet.loc[\n",
    "                    (sheet['중분류'] == middle_category) &\n",
    "                    (sheet['식품명'].str.contains(category)) &\n",
    "                    conditions[0]\n",
    "                    , '소분류'] = key\n",
    "        else:\n",
    "            for category in value:\n",
    "                sheet.loc[\n",
    "                    (sheet['중분류'] == middle_category) &\n",
    "                    (sheet['식품명'].str.contains(category))\n",
    "                    , '소분류'] = key\n"
   ],
   "metadata": {
    "collapsed": false,
    "pycharm": {
     "name": "#%%\n"
    }
   }
  },
  {
   "cell_type": "code",
   "execution_count": 760,
   "outputs": [],
   "source": [
    "sheet.loc[(sheet['대분류'] == '빵') & (sheet['중분류'] == '케익'), '중분류'] = '케이크'"
   ],
   "metadata": {
    "collapsed": false,
    "pycharm": {
     "name": "#%%\n"
    }
   }
  },
  {
   "cell_type": "code",
   "execution_count": 761,
   "outputs": [
    {
     "data": {
      "text/plain": "          No            식품명 대분류  중분류     소분류  1회 제공량 용량 총내용량(g) 총내용량(ml)  \\\n8860   53858        파인애플 케잌   빵  케이크    기타빵류     150  g     150        -   \n8865   53927           팬케이크   빵  케이크    기타빵류     100  g     350        -   \n8866   53928      초이스엘 팬케이크   빵  케이크    기타빵류     100  g     350        -   \n9321   58598  몽쉘생크림케이크 솔티피넛   빵  케이크    기타빵류      31  g     372        -   \n9860   64573   컵케익 모양 마쉬멜로우   빵  케이크    기타빵류     100  g     115        -   \n...      ...            ...  ..  ...     ...     ... ..     ...      ...   \n31557  84522       초코 스틱케이크   빵  케이크    케이크류      50  g      50        -   \n31558  84523     레드벨벳 스틱케이크   빵  케이크    케이크류      30  g      30        -   \n31559  84524       캐롯 스틱케이크   빵  케이크    케이크류      50  g      50        -   \n33739  83386        핫케익 3조각   빵  케이크  페이스트리류     150  g     150        -   \n33740  83387        핫케익 2조각   빵  케이크  페이스트리류     100  g     100        -   \n\n       총당류(g)   총내용량  단위용량 대비 설탕 비율  \n8860     32.0  150.0           21.3  \n8865     42.0  350.0           42.0  \n8866     42.0  350.0           42.0  \n9321      8.0  372.0           25.8  \n9860     75.0  115.0           75.0  \n...       ...    ...            ...  \n31557    12.0   50.0           24.0  \n31558     5.0   30.0           16.7  \n31559     6.0   50.0           12.0  \n33739    13.0  150.0            8.7  \n33740     9.0  100.0            9.0  \n\n[1344 rows x 12 columns]",
      "text/html": "<div>\n<style scoped>\n    .dataframe tbody tr th:only-of-type {\n        vertical-align: middle;\n    }\n\n    .dataframe tbody tr th {\n        vertical-align: top;\n    }\n\n    .dataframe thead th {\n        text-align: right;\n    }\n</style>\n<table border=\"1\" class=\"dataframe\">\n  <thead>\n    <tr style=\"text-align: right;\">\n      <th></th>\n      <th>No</th>\n      <th>식품명</th>\n      <th>대분류</th>\n      <th>중분류</th>\n      <th>소분류</th>\n      <th>1회 제공량</th>\n      <th>용량</th>\n      <th>총내용량(g)</th>\n      <th>총내용량(ml)</th>\n      <th>총당류(g)</th>\n      <th>총내용량</th>\n      <th>단위용량 대비 설탕 비율</th>\n    </tr>\n  </thead>\n  <tbody>\n    <tr>\n      <th>8860</th>\n      <td>53858</td>\n      <td>파인애플 케잌</td>\n      <td>빵</td>\n      <td>케이크</td>\n      <td>기타빵류</td>\n      <td>150</td>\n      <td>g</td>\n      <td>150</td>\n      <td>-</td>\n      <td>32.0</td>\n      <td>150.0</td>\n      <td>21.3</td>\n    </tr>\n    <tr>\n      <th>8865</th>\n      <td>53927</td>\n      <td>팬케이크</td>\n      <td>빵</td>\n      <td>케이크</td>\n      <td>기타빵류</td>\n      <td>100</td>\n      <td>g</td>\n      <td>350</td>\n      <td>-</td>\n      <td>42.0</td>\n      <td>350.0</td>\n      <td>42.0</td>\n    </tr>\n    <tr>\n      <th>8866</th>\n      <td>53928</td>\n      <td>초이스엘 팬케이크</td>\n      <td>빵</td>\n      <td>케이크</td>\n      <td>기타빵류</td>\n      <td>100</td>\n      <td>g</td>\n      <td>350</td>\n      <td>-</td>\n      <td>42.0</td>\n      <td>350.0</td>\n      <td>42.0</td>\n    </tr>\n    <tr>\n      <th>9321</th>\n      <td>58598</td>\n      <td>몽쉘생크림케이크 솔티피넛</td>\n      <td>빵</td>\n      <td>케이크</td>\n      <td>기타빵류</td>\n      <td>31</td>\n      <td>g</td>\n      <td>372</td>\n      <td>-</td>\n      <td>8.0</td>\n      <td>372.0</td>\n      <td>25.8</td>\n    </tr>\n    <tr>\n      <th>9860</th>\n      <td>64573</td>\n      <td>컵케익 모양 마쉬멜로우</td>\n      <td>빵</td>\n      <td>케이크</td>\n      <td>기타빵류</td>\n      <td>100</td>\n      <td>g</td>\n      <td>115</td>\n      <td>-</td>\n      <td>75.0</td>\n      <td>115.0</td>\n      <td>75.0</td>\n    </tr>\n    <tr>\n      <th>...</th>\n      <td>...</td>\n      <td>...</td>\n      <td>...</td>\n      <td>...</td>\n      <td>...</td>\n      <td>...</td>\n      <td>...</td>\n      <td>...</td>\n      <td>...</td>\n      <td>...</td>\n      <td>...</td>\n      <td>...</td>\n    </tr>\n    <tr>\n      <th>31557</th>\n      <td>84522</td>\n      <td>초코 스틱케이크</td>\n      <td>빵</td>\n      <td>케이크</td>\n      <td>케이크류</td>\n      <td>50</td>\n      <td>g</td>\n      <td>50</td>\n      <td>-</td>\n      <td>12.0</td>\n      <td>50.0</td>\n      <td>24.0</td>\n    </tr>\n    <tr>\n      <th>31558</th>\n      <td>84523</td>\n      <td>레드벨벳 스틱케이크</td>\n      <td>빵</td>\n      <td>케이크</td>\n      <td>케이크류</td>\n      <td>30</td>\n      <td>g</td>\n      <td>30</td>\n      <td>-</td>\n      <td>5.0</td>\n      <td>30.0</td>\n      <td>16.7</td>\n    </tr>\n    <tr>\n      <th>31559</th>\n      <td>84524</td>\n      <td>캐롯 스틱케이크</td>\n      <td>빵</td>\n      <td>케이크</td>\n      <td>케이크류</td>\n      <td>50</td>\n      <td>g</td>\n      <td>50</td>\n      <td>-</td>\n      <td>6.0</td>\n      <td>50.0</td>\n      <td>12.0</td>\n    </tr>\n    <tr>\n      <th>33739</th>\n      <td>83386</td>\n      <td>핫케익 3조각</td>\n      <td>빵</td>\n      <td>케이크</td>\n      <td>페이스트리류</td>\n      <td>150</td>\n      <td>g</td>\n      <td>150</td>\n      <td>-</td>\n      <td>13.0</td>\n      <td>150.0</td>\n      <td>8.7</td>\n    </tr>\n    <tr>\n      <th>33740</th>\n      <td>83387</td>\n      <td>핫케익 2조각</td>\n      <td>빵</td>\n      <td>케이크</td>\n      <td>페이스트리류</td>\n      <td>100</td>\n      <td>g</td>\n      <td>100</td>\n      <td>-</td>\n      <td>9.0</td>\n      <td>100.0</td>\n      <td>9.0</td>\n    </tr>\n  </tbody>\n</table>\n<p>1344 rows × 12 columns</p>\n</div>"
     },
     "execution_count": 761,
     "metadata": {},
     "output_type": "execute_result"
    }
   ],
   "source": [
    "sheet.loc[(sheet['대분류'] == '빵') & (sheet[\"중분류\"] == '케이크'), :]"
   ],
   "metadata": {
    "collapsed": false,
    "pycharm": {
     "name": "#%%\n"
    }
   }
  },
  {
   "cell_type": "code",
   "execution_count": 762,
   "outputs": [
    {
     "data": {
      "text/plain": "['빵류',\n '스틱',\n '에그디쉬',\n '번',\n '티라미수',\n '샌디',\n '와플',\n '난',\n '콘',\n '핫도그',\n '토스트',\n '페스츄리',\n '슈',\n '포카챠',\n '타르트',\n '브라우니',\n '슈케트',\n '브리오슈',\n '크럼블',\n '비스코티',\n '파이',\n '소보루',\n '바게뜨',\n '꽈배기',\n '호떡',\n '고로케',\n '파니니',\n '앙버터',\n '또띠아',\n '쇼콜라',\n '트위스트',\n '파운드',\n '머핀',\n '마들렌',\n '크로플',\n '크레이',\n '샌드위치',\n '다쿠아즈',\n '샌드',\n '무스',\n '만쥬',\n '월병',\n '쉬폰',\n '베이글',\n '모나카',\n '카스타드',\n '수플레',\n '전병',\n '휘낭시에',\n '바움쿠헨',\n '빨미까레',\n '까눌레',\n '멜츠',\n '크레페',\n '도넛',\n '케이크',\n '크루와상',\n '마카롱',\n '카스테',\n '프레즐']"
     },
     "execution_count": 762,
     "metadata": {},
     "output_type": "execute_result"
    }
   ],
   "source": [
    "list(sheet[sheet['대분류'] == '빵']['중분류'].unique())"
   ],
   "metadata": {
    "collapsed": false,
    "pycharm": {
     "name": "#%%\n"
    }
   }
  },
  {
   "cell_type": "code",
   "execution_count": 763,
   "outputs": [
    {
     "data": {
      "text/plain": "          No                 식품명 대분류 중분류    소분류  1회 제공량 용량 총내용량(g) 총내용량(ml)  \\\n7803   78740           치즈볼&바게트스틱   빵  빵류  기타 빵류     290  g     290        -   \n7806   78753              팥치즈반달빵   빵  빵류  기타 빵류     337  g     337        -   \n7810   78959               허니브레드   빵  빵류  기타 빵류     245  g     245        -   \n7811   78960             젤라또 브레드   빵  빵류  기타 빵류     345  g     345        -   \n7835   79245                 허니볼   빵  빵류  기타 빵류     200  g     200        -   \n...      ...                 ...  ..  ..    ...     ... ..     ...      ...   \n34127  50457               깨핫도그롤   빵  빵류    핫도그      53  g     795        -   \n34129  50476                핫도그빵   빵  빵류    핫도그      50  g      50        -   \n34284  60478  루솔 브레드팜 우리밀 미니 핫도그   빵  빵류    핫도그     340  g     340        -   \n34305  62760              비건핫도그빵   빵  빵류    핫도그     100  g     360        -   \n34306  63187                핫도그빵   빵  빵류    핫도그      30  g      30        -   \n\n       총당류(g)   총내용량  단위용량 대비 설탕 비율  \n7803     39.0  290.0           13.4  \n7806     20.0  337.0            5.9  \n7810     18.4  245.0            7.5  \n7811     33.0  345.0            9.6  \n7835      9.0  200.0            4.5  \n...       ...    ...            ...  \n34127     5.0  795.0            9.4  \n34129     5.0   50.0           10.0  \n34284     5.0  340.0            1.5  \n34305     6.0  360.0            6.0  \n34306     2.0   30.0            6.7  \n\n[2655 rows x 12 columns]",
      "text/html": "<div>\n<style scoped>\n    .dataframe tbody tr th:only-of-type {\n        vertical-align: middle;\n    }\n\n    .dataframe tbody tr th {\n        vertical-align: top;\n    }\n\n    .dataframe thead th {\n        text-align: right;\n    }\n</style>\n<table border=\"1\" class=\"dataframe\">\n  <thead>\n    <tr style=\"text-align: right;\">\n      <th></th>\n      <th>No</th>\n      <th>식품명</th>\n      <th>대분류</th>\n      <th>중분류</th>\n      <th>소분류</th>\n      <th>1회 제공량</th>\n      <th>용량</th>\n      <th>총내용량(g)</th>\n      <th>총내용량(ml)</th>\n      <th>총당류(g)</th>\n      <th>총내용량</th>\n      <th>단위용량 대비 설탕 비율</th>\n    </tr>\n  </thead>\n  <tbody>\n    <tr>\n      <th>7803</th>\n      <td>78740</td>\n      <td>치즈볼&amp;바게트스틱</td>\n      <td>빵</td>\n      <td>빵류</td>\n      <td>기타 빵류</td>\n      <td>290</td>\n      <td>g</td>\n      <td>290</td>\n      <td>-</td>\n      <td>39.0</td>\n      <td>290.0</td>\n      <td>13.4</td>\n    </tr>\n    <tr>\n      <th>7806</th>\n      <td>78753</td>\n      <td>팥치즈반달빵</td>\n      <td>빵</td>\n      <td>빵류</td>\n      <td>기타 빵류</td>\n      <td>337</td>\n      <td>g</td>\n      <td>337</td>\n      <td>-</td>\n      <td>20.0</td>\n      <td>337.0</td>\n      <td>5.9</td>\n    </tr>\n    <tr>\n      <th>7810</th>\n      <td>78959</td>\n      <td>허니브레드</td>\n      <td>빵</td>\n      <td>빵류</td>\n      <td>기타 빵류</td>\n      <td>245</td>\n      <td>g</td>\n      <td>245</td>\n      <td>-</td>\n      <td>18.4</td>\n      <td>245.0</td>\n      <td>7.5</td>\n    </tr>\n    <tr>\n      <th>7811</th>\n      <td>78960</td>\n      <td>젤라또 브레드</td>\n      <td>빵</td>\n      <td>빵류</td>\n      <td>기타 빵류</td>\n      <td>345</td>\n      <td>g</td>\n      <td>345</td>\n      <td>-</td>\n      <td>33.0</td>\n      <td>345.0</td>\n      <td>9.6</td>\n    </tr>\n    <tr>\n      <th>7835</th>\n      <td>79245</td>\n      <td>허니볼</td>\n      <td>빵</td>\n      <td>빵류</td>\n      <td>기타 빵류</td>\n      <td>200</td>\n      <td>g</td>\n      <td>200</td>\n      <td>-</td>\n      <td>9.0</td>\n      <td>200.0</td>\n      <td>4.5</td>\n    </tr>\n    <tr>\n      <th>...</th>\n      <td>...</td>\n      <td>...</td>\n      <td>...</td>\n      <td>...</td>\n      <td>...</td>\n      <td>...</td>\n      <td>...</td>\n      <td>...</td>\n      <td>...</td>\n      <td>...</td>\n      <td>...</td>\n      <td>...</td>\n    </tr>\n    <tr>\n      <th>34127</th>\n      <td>50457</td>\n      <td>깨핫도그롤</td>\n      <td>빵</td>\n      <td>빵류</td>\n      <td>핫도그</td>\n      <td>53</td>\n      <td>g</td>\n      <td>795</td>\n      <td>-</td>\n      <td>5.0</td>\n      <td>795.0</td>\n      <td>9.4</td>\n    </tr>\n    <tr>\n      <th>34129</th>\n      <td>50476</td>\n      <td>핫도그빵</td>\n      <td>빵</td>\n      <td>빵류</td>\n      <td>핫도그</td>\n      <td>50</td>\n      <td>g</td>\n      <td>50</td>\n      <td>-</td>\n      <td>5.0</td>\n      <td>50.0</td>\n      <td>10.0</td>\n    </tr>\n    <tr>\n      <th>34284</th>\n      <td>60478</td>\n      <td>루솔 브레드팜 우리밀 미니 핫도그</td>\n      <td>빵</td>\n      <td>빵류</td>\n      <td>핫도그</td>\n      <td>340</td>\n      <td>g</td>\n      <td>340</td>\n      <td>-</td>\n      <td>5.0</td>\n      <td>340.0</td>\n      <td>1.5</td>\n    </tr>\n    <tr>\n      <th>34305</th>\n      <td>62760</td>\n      <td>비건핫도그빵</td>\n      <td>빵</td>\n      <td>빵류</td>\n      <td>핫도그</td>\n      <td>100</td>\n      <td>g</td>\n      <td>360</td>\n      <td>-</td>\n      <td>6.0</td>\n      <td>360.0</td>\n      <td>6.0</td>\n    </tr>\n    <tr>\n      <th>34306</th>\n      <td>63187</td>\n      <td>핫도그빵</td>\n      <td>빵</td>\n      <td>빵류</td>\n      <td>핫도그</td>\n      <td>30</td>\n      <td>g</td>\n      <td>30</td>\n      <td>-</td>\n      <td>2.0</td>\n      <td>30.0</td>\n      <td>6.7</td>\n    </tr>\n  </tbody>\n</table>\n<p>2655 rows × 12 columns</p>\n</div>"
     },
     "execution_count": 763,
     "metadata": {},
     "output_type": "execute_result"
    }
   ],
   "source": [
    "sheet.loc[(sheet['대분류'] == '빵') & (sheet['중분류'] == '빵류'), :]"
   ],
   "metadata": {
    "collapsed": false,
    "pycharm": {
     "name": "#%%\n"
    }
   }
  },
  {
   "cell_type": "code",
   "execution_count": 763,
   "outputs": [],
   "source": [],
   "metadata": {
    "collapsed": false,
    "pycharm": {
     "name": "#%%\n"
    }
   }
  },
  {
   "cell_type": "code",
   "execution_count": 764,
   "outputs": [],
   "source": [
    "def average_ratio(sheet):\n",
    "    return round(sum(sheet) / len(sheet), 2)\n",
    "\n",
    "#\n",
    "# for 카테고리 in 유제품_카테고리:\n",
    "#     비율시트 = sheet.loc[(sheet['중분류'] == '유제품') & (sheet['소분류'] == 카테고리), :]['단위용량 대비 설탕 비율']\n",
    "#\n",
    "#     pp.pprint(f'{카테고리} : {average_ratio(비율시트)}')"
   ],
   "metadata": {
    "collapsed": false,
    "pycharm": {
     "name": "#%%\n"
    }
   }
  },
  {
   "cell_type": "code",
   "execution_count": 765,
   "outputs": [],
   "source": [
    "sheet.loc[(sheet['대분류'] == '빵'), '대분류'] = '베이커리'"
   ],
   "metadata": {
    "collapsed": false,
    "pycharm": {
     "name": "#%%\n"
    }
   }
  },
  {
   "cell_type": "code",
   "execution_count": 766,
   "outputs": [
    {
     "data": {
      "text/plain": "          No             식품명   대분류   중분류    소분류  1회 제공량 용량 총내용량(g) 총내용량(ml)  \\\n7803   78740       치즈볼&바게트스틱  베이커리    빵류  기타 빵류     290  g     290        -   \n7804   78742           바게트스틱  베이커리    스틱  기타 빵류      85  g      85        -   \n7805   78750           브래드스틱  베이커리    스틱  기타 빵류     220  g     220        -   \n7806   78753          팥치즈반달빵  베이커리    빵류  기타 빵류     337  g     337        -   \n7807   78954        플레인 에그디쉬  베이커리  에그디쉬  기타 빵류     172  g     172        -   \n...      ...             ...   ...   ...    ...     ... ..     ...      ...   \n34375  67835          정직한핫도그  베이커리   핫도그    핫도그      50  g     500        -   \n34376  67836        추억의옛날핫도그  베이커리   핫도그    핫도그     110  g     550        -   \n34377  67837  푸딩분식 옛날감자치즈핫도그  베이커리   핫도그    핫도그     150  g     750        -   \n34378  67838      푸딩분식 옛날핫도그  베이커리   핫도그    핫도그     140  g     700        -   \n34379  67839       프리미엄옛날핫도그  베이커리   핫도그    핫도그     110  g     550        -   \n\n       총당류(g)   총내용량  단위용량 대비 설탕 비율  \n7803     39.0  290.0           13.4  \n7804     11.0   85.0           12.9  \n7805      8.0  220.0            3.6  \n7806     20.0  337.0            5.9  \n7807     26.5  172.0           15.4  \n...       ...    ...            ...  \n34375     4.0  500.0            8.0  \n34376     4.0  550.0            3.6  \n34377    11.0  750.0            7.3  \n34378    16.0  700.0           11.4  \n34379    13.0  550.0           11.8  \n\n[8811 rows x 12 columns]",
      "text/html": "<div>\n<style scoped>\n    .dataframe tbody tr th:only-of-type {\n        vertical-align: middle;\n    }\n\n    .dataframe tbody tr th {\n        vertical-align: top;\n    }\n\n    .dataframe thead th {\n        text-align: right;\n    }\n</style>\n<table border=\"1\" class=\"dataframe\">\n  <thead>\n    <tr style=\"text-align: right;\">\n      <th></th>\n      <th>No</th>\n      <th>식품명</th>\n      <th>대분류</th>\n      <th>중분류</th>\n      <th>소분류</th>\n      <th>1회 제공량</th>\n      <th>용량</th>\n      <th>총내용량(g)</th>\n      <th>총내용량(ml)</th>\n      <th>총당류(g)</th>\n      <th>총내용량</th>\n      <th>단위용량 대비 설탕 비율</th>\n    </tr>\n  </thead>\n  <tbody>\n    <tr>\n      <th>7803</th>\n      <td>78740</td>\n      <td>치즈볼&amp;바게트스틱</td>\n      <td>베이커리</td>\n      <td>빵류</td>\n      <td>기타 빵류</td>\n      <td>290</td>\n      <td>g</td>\n      <td>290</td>\n      <td>-</td>\n      <td>39.0</td>\n      <td>290.0</td>\n      <td>13.4</td>\n    </tr>\n    <tr>\n      <th>7804</th>\n      <td>78742</td>\n      <td>바게트스틱</td>\n      <td>베이커리</td>\n      <td>스틱</td>\n      <td>기타 빵류</td>\n      <td>85</td>\n      <td>g</td>\n      <td>85</td>\n      <td>-</td>\n      <td>11.0</td>\n      <td>85.0</td>\n      <td>12.9</td>\n    </tr>\n    <tr>\n      <th>7805</th>\n      <td>78750</td>\n      <td>브래드스틱</td>\n      <td>베이커리</td>\n      <td>스틱</td>\n      <td>기타 빵류</td>\n      <td>220</td>\n      <td>g</td>\n      <td>220</td>\n      <td>-</td>\n      <td>8.0</td>\n      <td>220.0</td>\n      <td>3.6</td>\n    </tr>\n    <tr>\n      <th>7806</th>\n      <td>78753</td>\n      <td>팥치즈반달빵</td>\n      <td>베이커리</td>\n      <td>빵류</td>\n      <td>기타 빵류</td>\n      <td>337</td>\n      <td>g</td>\n      <td>337</td>\n      <td>-</td>\n      <td>20.0</td>\n      <td>337.0</td>\n      <td>5.9</td>\n    </tr>\n    <tr>\n      <th>7807</th>\n      <td>78954</td>\n      <td>플레인 에그디쉬</td>\n      <td>베이커리</td>\n      <td>에그디쉬</td>\n      <td>기타 빵류</td>\n      <td>172</td>\n      <td>g</td>\n      <td>172</td>\n      <td>-</td>\n      <td>26.5</td>\n      <td>172.0</td>\n      <td>15.4</td>\n    </tr>\n    <tr>\n      <th>...</th>\n      <td>...</td>\n      <td>...</td>\n      <td>...</td>\n      <td>...</td>\n      <td>...</td>\n      <td>...</td>\n      <td>...</td>\n      <td>...</td>\n      <td>...</td>\n      <td>...</td>\n      <td>...</td>\n      <td>...</td>\n    </tr>\n    <tr>\n      <th>34375</th>\n      <td>67835</td>\n      <td>정직한핫도그</td>\n      <td>베이커리</td>\n      <td>핫도그</td>\n      <td>핫도그</td>\n      <td>50</td>\n      <td>g</td>\n      <td>500</td>\n      <td>-</td>\n      <td>4.0</td>\n      <td>500.0</td>\n      <td>8.0</td>\n    </tr>\n    <tr>\n      <th>34376</th>\n      <td>67836</td>\n      <td>추억의옛날핫도그</td>\n      <td>베이커리</td>\n      <td>핫도그</td>\n      <td>핫도그</td>\n      <td>110</td>\n      <td>g</td>\n      <td>550</td>\n      <td>-</td>\n      <td>4.0</td>\n      <td>550.0</td>\n      <td>3.6</td>\n    </tr>\n    <tr>\n      <th>34377</th>\n      <td>67837</td>\n      <td>푸딩분식 옛날감자치즈핫도그</td>\n      <td>베이커리</td>\n      <td>핫도그</td>\n      <td>핫도그</td>\n      <td>150</td>\n      <td>g</td>\n      <td>750</td>\n      <td>-</td>\n      <td>11.0</td>\n      <td>750.0</td>\n      <td>7.3</td>\n    </tr>\n    <tr>\n      <th>34378</th>\n      <td>67838</td>\n      <td>푸딩분식 옛날핫도그</td>\n      <td>베이커리</td>\n      <td>핫도그</td>\n      <td>핫도그</td>\n      <td>140</td>\n      <td>g</td>\n      <td>700</td>\n      <td>-</td>\n      <td>16.0</td>\n      <td>700.0</td>\n      <td>11.4</td>\n    </tr>\n    <tr>\n      <th>34379</th>\n      <td>67839</td>\n      <td>프리미엄옛날핫도그</td>\n      <td>베이커리</td>\n      <td>핫도그</td>\n      <td>핫도그</td>\n      <td>110</td>\n      <td>g</td>\n      <td>550</td>\n      <td>-</td>\n      <td>13.0</td>\n      <td>550.0</td>\n      <td>11.8</td>\n    </tr>\n  </tbody>\n</table>\n<p>8811 rows × 12 columns</p>\n</div>"
     },
     "execution_count": 766,
     "metadata": {},
     "output_type": "execute_result"
    }
   ],
   "source": [
    "sheet.loc[(sheet['대분류'] == '베이커리') , :]"
   ],
   "metadata": {
    "collapsed": false,
    "pycharm": {
     "name": "#%%\n"
    }
   }
  },
  {
   "cell_type": "code",
   "execution_count": 767,
   "outputs": [],
   "source": [
    "간식빵 = ['꽈배기', '허니볼', '스콘', '치즈번', '슈', '허니볼', '번', '타르트', '브리오슈', '롤','에그데니쉬', '꽈배기', '소보루', '고로케', '파니니', '샌드', '크림빵', '콘', '카스타드', '치즈볼', '도넛', '찐빵', '찰보리빵', '만쥬', '프레즐', '붕어빵', '카스테라', '트위스트', '크레페', '크레이', '페스츄리', '만주', '롤', '볼', '두넛', '도너츠', '크루아상', '크로와상', '크로아상', '단팥빵', '효모빵', '브레드', '에그디쉬', '쌀빵', '소시지빵', '모카빵', '피자빵', '맘모스', '메론', '깨찰', '소보로', '통밀', '고구마', '밀', '경주', '치즈빵', '팥빵', '유자', '소라', '커피', '매화', '감자', '밤', '찰떡', '호빵', '앙금', '경주', '피자']\n",
    "식사빵 = ['토스트', '베이글', '또띠아', '포카챠', '스틱', '바게트', '난', '바게뜨', '식빵', '모닝빵']\n",
    "케이크 = ['파운드', '바움쿠헨', '케익', '케이크', '쉬폰']\n",
    "디저트 = ['와플', '허니브레드', '와플', '브라우니', '크럼블', '티라미수', '수플레', '크로플', '다쿠아즈', '까눌레', '빨미까레', '쇼콜라', '마들렌', '휘낭시에', '파이', '마들렌', '팬케이크', '모나카', '머핀', '무스', '마카롱', '호떡', '앙버터', '뚱카롱', '피낭시에', '티라미스']\n",
    "샌드위치 = ['샌드위치']\n",
    "\n",
    "\n",
    "\n",
    "sheet.loc[sheet['대분류'] == '베이커리', '중분류'] = ''\n",
    "\n",
    "for value in 간식빵:\n",
    "    sheet.loc[(sheet['대분류'] == '베이커리') & (sheet['식품명'].str.contains(value)), '중분류'] = '간식빵'\n",
    "for value in 식사빵:\n",
    "    sheet.loc[(sheet['대분류'] == '베이커리') & (sheet['식품명'].str.contains(value)), '중분류'] = '식사빵'\n",
    "for value in 케이크:\n",
    "    sheet.loc[(sheet['대분류'] == '베이커리') & (sheet['식품명'].str.contains(value)), '중분류'] = '케이크'\n",
    "for value in 디저트:\n",
    "    sheet.loc[(sheet['대분류'] == '베이커리') & (sheet['식품명'].str.contains(value)), '중분류'] = '디저트'\n",
    "for value in 샌드위치:\n",
    "    sheet.loc[(sheet['대분류'] == '베이커리') & (sheet['식품명'].str.contains(value)), '중분류'] = '샌드위치'"
   ],
   "metadata": {
    "collapsed": false,
    "pycharm": {
     "name": "#%%\n"
    }
   }
  },
  {
   "cell_type": "code",
   "execution_count": 767,
   "outputs": [],
   "source": [],
   "metadata": {
    "collapsed": false,
    "pycharm": {
     "name": "#%%\n"
    }
   }
  },
  {
   "cell_type": "code",
   "execution_count": 768,
   "outputs": [
    {
     "data": {
      "text/plain": "          No             식품명   대분류 중분류    소분류  1회 제공량 용량 총내용량(g) 총내용량(ml)  \\\n7806   78753          팥치즈반달빵  베이커리      기타 빵류     337  g     337        -   \n7815   78976       리코타 딸기 샌디  베이커리      기타 빵류     320  g     320        -   \n7816   78977      쿠키 & 크림 샌디  베이커리      기타 빵류     308  g     308        -   \n7828   79226       칠리앤치즈 핫도그  베이커리      기타 빵류     150  g     150        -   \n7837   79437        뉴욕칠리 핫도그  베이커리      기타 빵류     185  g     185        -   \n...      ...             ...   ...  ..    ...     ... ..     ...      ...   \n34373  67471  카스텔라 한입 미니 핫도그  베이커리        핫도그     100  g    1000        -   \n34375  67835          정직한핫도그  베이커리        핫도그      50  g     500        -   \n34376  67836        추억의옛날핫도그  베이커리        핫도그     110  g     550        -   \n34378  67838      푸딩분식 옛날핫도그  베이커리        핫도그     140  g     700        -   \n34379  67839       프리미엄옛날핫도그  베이커리        핫도그     110  g     550        -   \n\n       총당류(g)    총내용량  단위용량 대비 설탕 비율  \n7806     20.0   337.0            5.9  \n7815     57.6   320.0           18.0  \n7816     53.3   308.0           17.3  \n7828     11.0   150.0            7.3  \n7837      9.0   185.0            4.9  \n...       ...     ...            ...  \n34373     5.0  1000.0            5.0  \n34375     4.0   500.0            8.0  \n34376     4.0   550.0            3.6  \n34378    16.0   700.0           11.4  \n34379    13.0   550.0           11.8  \n\n[796 rows x 12 columns]",
      "text/html": "<div>\n<style scoped>\n    .dataframe tbody tr th:only-of-type {\n        vertical-align: middle;\n    }\n\n    .dataframe tbody tr th {\n        vertical-align: top;\n    }\n\n    .dataframe thead th {\n        text-align: right;\n    }\n</style>\n<table border=\"1\" class=\"dataframe\">\n  <thead>\n    <tr style=\"text-align: right;\">\n      <th></th>\n      <th>No</th>\n      <th>식품명</th>\n      <th>대분류</th>\n      <th>중분류</th>\n      <th>소분류</th>\n      <th>1회 제공량</th>\n      <th>용량</th>\n      <th>총내용량(g)</th>\n      <th>총내용량(ml)</th>\n      <th>총당류(g)</th>\n      <th>총내용량</th>\n      <th>단위용량 대비 설탕 비율</th>\n    </tr>\n  </thead>\n  <tbody>\n    <tr>\n      <th>7806</th>\n      <td>78753</td>\n      <td>팥치즈반달빵</td>\n      <td>베이커리</td>\n      <td></td>\n      <td>기타 빵류</td>\n      <td>337</td>\n      <td>g</td>\n      <td>337</td>\n      <td>-</td>\n      <td>20.0</td>\n      <td>337.0</td>\n      <td>5.9</td>\n    </tr>\n    <tr>\n      <th>7815</th>\n      <td>78976</td>\n      <td>리코타 딸기 샌디</td>\n      <td>베이커리</td>\n      <td></td>\n      <td>기타 빵류</td>\n      <td>320</td>\n      <td>g</td>\n      <td>320</td>\n      <td>-</td>\n      <td>57.6</td>\n      <td>320.0</td>\n      <td>18.0</td>\n    </tr>\n    <tr>\n      <th>7816</th>\n      <td>78977</td>\n      <td>쿠키 &amp; 크림 샌디</td>\n      <td>베이커리</td>\n      <td></td>\n      <td>기타 빵류</td>\n      <td>308</td>\n      <td>g</td>\n      <td>308</td>\n      <td>-</td>\n      <td>53.3</td>\n      <td>308.0</td>\n      <td>17.3</td>\n    </tr>\n    <tr>\n      <th>7828</th>\n      <td>79226</td>\n      <td>칠리앤치즈 핫도그</td>\n      <td>베이커리</td>\n      <td></td>\n      <td>기타 빵류</td>\n      <td>150</td>\n      <td>g</td>\n      <td>150</td>\n      <td>-</td>\n      <td>11.0</td>\n      <td>150.0</td>\n      <td>7.3</td>\n    </tr>\n    <tr>\n      <th>7837</th>\n      <td>79437</td>\n      <td>뉴욕칠리 핫도그</td>\n      <td>베이커리</td>\n      <td></td>\n      <td>기타 빵류</td>\n      <td>185</td>\n      <td>g</td>\n      <td>185</td>\n      <td>-</td>\n      <td>9.0</td>\n      <td>185.0</td>\n      <td>4.9</td>\n    </tr>\n    <tr>\n      <th>...</th>\n      <td>...</td>\n      <td>...</td>\n      <td>...</td>\n      <td>...</td>\n      <td>...</td>\n      <td>...</td>\n      <td>...</td>\n      <td>...</td>\n      <td>...</td>\n      <td>...</td>\n      <td>...</td>\n      <td>...</td>\n    </tr>\n    <tr>\n      <th>34373</th>\n      <td>67471</td>\n      <td>카스텔라 한입 미니 핫도그</td>\n      <td>베이커리</td>\n      <td></td>\n      <td>핫도그</td>\n      <td>100</td>\n      <td>g</td>\n      <td>1000</td>\n      <td>-</td>\n      <td>5.0</td>\n      <td>1000.0</td>\n      <td>5.0</td>\n    </tr>\n    <tr>\n      <th>34375</th>\n      <td>67835</td>\n      <td>정직한핫도그</td>\n      <td>베이커리</td>\n      <td></td>\n      <td>핫도그</td>\n      <td>50</td>\n      <td>g</td>\n      <td>500</td>\n      <td>-</td>\n      <td>4.0</td>\n      <td>500.0</td>\n      <td>8.0</td>\n    </tr>\n    <tr>\n      <th>34376</th>\n      <td>67836</td>\n      <td>추억의옛날핫도그</td>\n      <td>베이커리</td>\n      <td></td>\n      <td>핫도그</td>\n      <td>110</td>\n      <td>g</td>\n      <td>550</td>\n      <td>-</td>\n      <td>4.0</td>\n      <td>550.0</td>\n      <td>3.6</td>\n    </tr>\n    <tr>\n      <th>34378</th>\n      <td>67838</td>\n      <td>푸딩분식 옛날핫도그</td>\n      <td>베이커리</td>\n      <td></td>\n      <td>핫도그</td>\n      <td>140</td>\n      <td>g</td>\n      <td>700</td>\n      <td>-</td>\n      <td>16.0</td>\n      <td>700.0</td>\n      <td>11.4</td>\n    </tr>\n    <tr>\n      <th>34379</th>\n      <td>67839</td>\n      <td>프리미엄옛날핫도그</td>\n      <td>베이커리</td>\n      <td></td>\n      <td>핫도그</td>\n      <td>110</td>\n      <td>g</td>\n      <td>550</td>\n      <td>-</td>\n      <td>13.0</td>\n      <td>550.0</td>\n      <td>11.8</td>\n    </tr>\n  </tbody>\n</table>\n<p>796 rows × 12 columns</p>\n</div>"
     },
     "execution_count": 768,
     "metadata": {},
     "output_type": "execute_result"
    }
   ],
   "source": [
    "sheet.loc[(sheet['대분류'] == '베이커리') & (sheet['중분류'] == \"\"), :]"
   ],
   "metadata": {
    "collapsed": false,
    "pycharm": {
     "name": "#%%\n"
    }
   }
  },
  {
   "cell_type": "code",
   "execution_count": 769,
   "outputs": [],
   "source": [
    "sheet.loc[(sheet['대분류'] == '베이커리') & (sheet['식품명'].str.contains('월병')), '대분류'] = '과자'\n",
    "sheet.loc[(sheet['대분류'] == '베이커리') & (sheet['식품명'].str.contains('전병')), '대분류'] = '과자'"
   ],
   "metadata": {
    "collapsed": false,
    "pycharm": {
     "name": "#%%\n"
    }
   }
  },
  {
   "cell_type": "code",
   "execution_count": 770,
   "outputs": [
    {
     "data": {
      "text/plain": "          No             식품명   대분류 중분류    소분류  1회 제공량 용량 총내용량(g) 총내용량(ml)  \\\n7806   78753          팥치즈반달빵  베이커리      기타 빵류     337  g     337        -   \n7815   78976       리코타 딸기 샌디  베이커리      기타 빵류     320  g     320        -   \n7816   78977      쿠키 & 크림 샌디  베이커리      기타 빵류     308  g     308        -   \n7828   79226       칠리앤치즈 핫도그  베이커리      기타 빵류     150  g     150        -   \n7837   79437        뉴욕칠리 핫도그  베이커리      기타 빵류     185  g     185        -   \n...      ...             ...   ...  ..    ...     ... ..     ...      ...   \n34373  67471  카스텔라 한입 미니 핫도그  베이커리        핫도그     100  g    1000        -   \n34375  67835          정직한핫도그  베이커리        핫도그      50  g     500        -   \n34376  67836        추억의옛날핫도그  베이커리        핫도그     110  g     550        -   \n34378  67838      푸딩분식 옛날핫도그  베이커리        핫도그     140  g     700        -   \n34379  67839       프리미엄옛날핫도그  베이커리        핫도그     110  g     550        -   \n\n       총당류(g)    총내용량  단위용량 대비 설탕 비율  \n7806     20.0   337.0            5.9  \n7815     57.6   320.0           18.0  \n7816     53.3   308.0           17.3  \n7828     11.0   150.0            7.3  \n7837      9.0   185.0            4.9  \n...       ...     ...            ...  \n34373     5.0  1000.0            5.0  \n34375     4.0   500.0            8.0  \n34376     4.0   550.0            3.6  \n34378    16.0   700.0           11.4  \n34379    13.0   550.0           11.8  \n\n[737 rows x 12 columns]",
      "text/html": "<div>\n<style scoped>\n    .dataframe tbody tr th:only-of-type {\n        vertical-align: middle;\n    }\n\n    .dataframe tbody tr th {\n        vertical-align: top;\n    }\n\n    .dataframe thead th {\n        text-align: right;\n    }\n</style>\n<table border=\"1\" class=\"dataframe\">\n  <thead>\n    <tr style=\"text-align: right;\">\n      <th></th>\n      <th>No</th>\n      <th>식품명</th>\n      <th>대분류</th>\n      <th>중분류</th>\n      <th>소분류</th>\n      <th>1회 제공량</th>\n      <th>용량</th>\n      <th>총내용량(g)</th>\n      <th>총내용량(ml)</th>\n      <th>총당류(g)</th>\n      <th>총내용량</th>\n      <th>단위용량 대비 설탕 비율</th>\n    </tr>\n  </thead>\n  <tbody>\n    <tr>\n      <th>7806</th>\n      <td>78753</td>\n      <td>팥치즈반달빵</td>\n      <td>베이커리</td>\n      <td></td>\n      <td>기타 빵류</td>\n      <td>337</td>\n      <td>g</td>\n      <td>337</td>\n      <td>-</td>\n      <td>20.0</td>\n      <td>337.0</td>\n      <td>5.9</td>\n    </tr>\n    <tr>\n      <th>7815</th>\n      <td>78976</td>\n      <td>리코타 딸기 샌디</td>\n      <td>베이커리</td>\n      <td></td>\n      <td>기타 빵류</td>\n      <td>320</td>\n      <td>g</td>\n      <td>320</td>\n      <td>-</td>\n      <td>57.6</td>\n      <td>320.0</td>\n      <td>18.0</td>\n    </tr>\n    <tr>\n      <th>7816</th>\n      <td>78977</td>\n      <td>쿠키 &amp; 크림 샌디</td>\n      <td>베이커리</td>\n      <td></td>\n      <td>기타 빵류</td>\n      <td>308</td>\n      <td>g</td>\n      <td>308</td>\n      <td>-</td>\n      <td>53.3</td>\n      <td>308.0</td>\n      <td>17.3</td>\n    </tr>\n    <tr>\n      <th>7828</th>\n      <td>79226</td>\n      <td>칠리앤치즈 핫도그</td>\n      <td>베이커리</td>\n      <td></td>\n      <td>기타 빵류</td>\n      <td>150</td>\n      <td>g</td>\n      <td>150</td>\n      <td>-</td>\n      <td>11.0</td>\n      <td>150.0</td>\n      <td>7.3</td>\n    </tr>\n    <tr>\n      <th>7837</th>\n      <td>79437</td>\n      <td>뉴욕칠리 핫도그</td>\n      <td>베이커리</td>\n      <td></td>\n      <td>기타 빵류</td>\n      <td>185</td>\n      <td>g</td>\n      <td>185</td>\n      <td>-</td>\n      <td>9.0</td>\n      <td>185.0</td>\n      <td>4.9</td>\n    </tr>\n    <tr>\n      <th>...</th>\n      <td>...</td>\n      <td>...</td>\n      <td>...</td>\n      <td>...</td>\n      <td>...</td>\n      <td>...</td>\n      <td>...</td>\n      <td>...</td>\n      <td>...</td>\n      <td>...</td>\n      <td>...</td>\n      <td>...</td>\n    </tr>\n    <tr>\n      <th>34373</th>\n      <td>67471</td>\n      <td>카스텔라 한입 미니 핫도그</td>\n      <td>베이커리</td>\n      <td></td>\n      <td>핫도그</td>\n      <td>100</td>\n      <td>g</td>\n      <td>1000</td>\n      <td>-</td>\n      <td>5.0</td>\n      <td>1000.0</td>\n      <td>5.0</td>\n    </tr>\n    <tr>\n      <th>34375</th>\n      <td>67835</td>\n      <td>정직한핫도그</td>\n      <td>베이커리</td>\n      <td></td>\n      <td>핫도그</td>\n      <td>50</td>\n      <td>g</td>\n      <td>500</td>\n      <td>-</td>\n      <td>4.0</td>\n      <td>500.0</td>\n      <td>8.0</td>\n    </tr>\n    <tr>\n      <th>34376</th>\n      <td>67836</td>\n      <td>추억의옛날핫도그</td>\n      <td>베이커리</td>\n      <td></td>\n      <td>핫도그</td>\n      <td>110</td>\n      <td>g</td>\n      <td>550</td>\n      <td>-</td>\n      <td>4.0</td>\n      <td>550.0</td>\n      <td>3.6</td>\n    </tr>\n    <tr>\n      <th>34378</th>\n      <td>67838</td>\n      <td>푸딩분식 옛날핫도그</td>\n      <td>베이커리</td>\n      <td></td>\n      <td>핫도그</td>\n      <td>140</td>\n      <td>g</td>\n      <td>700</td>\n      <td>-</td>\n      <td>16.0</td>\n      <td>700.0</td>\n      <td>11.4</td>\n    </tr>\n    <tr>\n      <th>34379</th>\n      <td>67839</td>\n      <td>프리미엄옛날핫도그</td>\n      <td>베이커리</td>\n      <td></td>\n      <td>핫도그</td>\n      <td>110</td>\n      <td>g</td>\n      <td>550</td>\n      <td>-</td>\n      <td>13.0</td>\n      <td>550.0</td>\n      <td>11.8</td>\n    </tr>\n  </tbody>\n</table>\n<p>737 rows × 12 columns</p>\n</div>"
     },
     "execution_count": 770,
     "metadata": {},
     "output_type": "execute_result"
    }
   ],
   "source": [
    "sheet.loc[(sheet['대분류'] == '베이커리') & (sheet['중분류'] == \"\"), :]"
   ],
   "metadata": {
    "collapsed": false,
    "pycharm": {
     "name": "#%%\n"
    }
   }
  },
  {
   "cell_type": "code",
   "execution_count": 771,
   "outputs": [],
   "source": [
    "erase = list(sheet.loc[(sheet['대분류'] == '베이커리') & (sheet['중분류'] == ''), :].index)\n",
    "for value in erase:\n",
    "    sheet = sheet.drop(value, axis=0)"
   ],
   "metadata": {
    "collapsed": false,
    "pycharm": {
     "name": "#%%\n"
    }
   }
  },
  {
   "cell_type": "code",
   "execution_count": 772,
   "outputs": [
    {
     "name": "stdout",
     "output_type": "stream",
     "text": [
      "{'간식빵': 3521, '디저트': 1835, '샌드위치': 124, '식사빵': 948, '케이크': 1579}\n"
     ]
    }
   ],
   "source": [
    "middle_bread_category = list(sheet.loc[sheet['대분류'] == '베이커리', '중분류'].unique())\n",
    "b_dict = {}\n",
    "for value in middle_bread_category:\n",
    "    b_dict[value] = len(sheet.loc[(sheet['대분류'] == '베이커리') & (sheet['중분류'] == value), :])\n",
    "pp.pprint(b_dict)"
   ],
   "metadata": {
    "collapsed": false,
    "pycharm": {
     "name": "#%%\n"
    }
   }
  },
  {
   "cell_type": "code",
   "execution_count": 773,
   "outputs": [
    {
     "data": {
      "text/plain": "          No             식품명   대분류  중분류    소분류  1회 제공량 용량 총내용량(g) 총내용량(ml)  \\\n7807   78954        플레인 에그디쉬  베이커리  간식빵  기타 빵류     172  g     172        -   \n7808   78955       블루베리 에그디쉬  베이커리  간식빵  기타 빵류     202  g     202        -   \n7809   78956       이탈리안 에그디쉬  베이커리  간식빵  기타 빵류     230  g     230        -   \n7811   78960         젤라또 브레드  베이커리  간식빵  기타 빵류     345  g     345        -   \n7812   78966       쿠키&크림 번버거  베이커리  간식빵  기타 빵류     201  g     201        -   \n...      ...             ...   ...  ...    ...     ... ..     ...      ...   \n34330  64725     라퀴진 큐브감자핫도그  베이커리  간식빵    핫도그      90  g     450        -   \n34363  66295   보송보송 카스테라 핫도그  베이커리  간식빵    핫도그     100  g     900        -   \n34367  67113           감자핫도그  베이커리  간식빵    핫도그     130  g    1300        -   \n34374  67834           감자핫도그  베이커리  간식빵    핫도그     125  g     625        -   \n34377  67837  푸딩분식 옛날감자치즈핫도그  베이커리  간식빵    핫도그     150  g     750        -   \n\n       총당류(g)    총내용량  단위용량 대비 설탕 비율  \n7807    26.50   172.0           15.4  \n7808    30.10   202.0           14.9  \n7809    23.80   230.0           10.3  \n7811    33.00   345.0            9.6  \n7812    34.60   201.0           17.2  \n...       ...     ...            ...  \n34330    4.00   450.0            4.4  \n34363    3.68   900.0            3.7  \n34367    4.00  1300.0            3.1  \n34374    5.00   625.0            4.0  \n34377   11.00   750.0            7.3  \n\n[3521 rows x 12 columns]",
      "text/html": "<div>\n<style scoped>\n    .dataframe tbody tr th:only-of-type {\n        vertical-align: middle;\n    }\n\n    .dataframe tbody tr th {\n        vertical-align: top;\n    }\n\n    .dataframe thead th {\n        text-align: right;\n    }\n</style>\n<table border=\"1\" class=\"dataframe\">\n  <thead>\n    <tr style=\"text-align: right;\">\n      <th></th>\n      <th>No</th>\n      <th>식품명</th>\n      <th>대분류</th>\n      <th>중분류</th>\n      <th>소분류</th>\n      <th>1회 제공량</th>\n      <th>용량</th>\n      <th>총내용량(g)</th>\n      <th>총내용량(ml)</th>\n      <th>총당류(g)</th>\n      <th>총내용량</th>\n      <th>단위용량 대비 설탕 비율</th>\n    </tr>\n  </thead>\n  <tbody>\n    <tr>\n      <th>7807</th>\n      <td>78954</td>\n      <td>플레인 에그디쉬</td>\n      <td>베이커리</td>\n      <td>간식빵</td>\n      <td>기타 빵류</td>\n      <td>172</td>\n      <td>g</td>\n      <td>172</td>\n      <td>-</td>\n      <td>26.50</td>\n      <td>172.0</td>\n      <td>15.4</td>\n    </tr>\n    <tr>\n      <th>7808</th>\n      <td>78955</td>\n      <td>블루베리 에그디쉬</td>\n      <td>베이커리</td>\n      <td>간식빵</td>\n      <td>기타 빵류</td>\n      <td>202</td>\n      <td>g</td>\n      <td>202</td>\n      <td>-</td>\n      <td>30.10</td>\n      <td>202.0</td>\n      <td>14.9</td>\n    </tr>\n    <tr>\n      <th>7809</th>\n      <td>78956</td>\n      <td>이탈리안 에그디쉬</td>\n      <td>베이커리</td>\n      <td>간식빵</td>\n      <td>기타 빵류</td>\n      <td>230</td>\n      <td>g</td>\n      <td>230</td>\n      <td>-</td>\n      <td>23.80</td>\n      <td>230.0</td>\n      <td>10.3</td>\n    </tr>\n    <tr>\n      <th>7811</th>\n      <td>78960</td>\n      <td>젤라또 브레드</td>\n      <td>베이커리</td>\n      <td>간식빵</td>\n      <td>기타 빵류</td>\n      <td>345</td>\n      <td>g</td>\n      <td>345</td>\n      <td>-</td>\n      <td>33.00</td>\n      <td>345.0</td>\n      <td>9.6</td>\n    </tr>\n    <tr>\n      <th>7812</th>\n      <td>78966</td>\n      <td>쿠키&amp;크림 번버거</td>\n      <td>베이커리</td>\n      <td>간식빵</td>\n      <td>기타 빵류</td>\n      <td>201</td>\n      <td>g</td>\n      <td>201</td>\n      <td>-</td>\n      <td>34.60</td>\n      <td>201.0</td>\n      <td>17.2</td>\n    </tr>\n    <tr>\n      <th>...</th>\n      <td>...</td>\n      <td>...</td>\n      <td>...</td>\n      <td>...</td>\n      <td>...</td>\n      <td>...</td>\n      <td>...</td>\n      <td>...</td>\n      <td>...</td>\n      <td>...</td>\n      <td>...</td>\n      <td>...</td>\n    </tr>\n    <tr>\n      <th>34330</th>\n      <td>64725</td>\n      <td>라퀴진 큐브감자핫도그</td>\n      <td>베이커리</td>\n      <td>간식빵</td>\n      <td>핫도그</td>\n      <td>90</td>\n      <td>g</td>\n      <td>450</td>\n      <td>-</td>\n      <td>4.00</td>\n      <td>450.0</td>\n      <td>4.4</td>\n    </tr>\n    <tr>\n      <th>34363</th>\n      <td>66295</td>\n      <td>보송보송 카스테라 핫도그</td>\n      <td>베이커리</td>\n      <td>간식빵</td>\n      <td>핫도그</td>\n      <td>100</td>\n      <td>g</td>\n      <td>900</td>\n      <td>-</td>\n      <td>3.68</td>\n      <td>900.0</td>\n      <td>3.7</td>\n    </tr>\n    <tr>\n      <th>34367</th>\n      <td>67113</td>\n      <td>감자핫도그</td>\n      <td>베이커리</td>\n      <td>간식빵</td>\n      <td>핫도그</td>\n      <td>130</td>\n      <td>g</td>\n      <td>1300</td>\n      <td>-</td>\n      <td>4.00</td>\n      <td>1300.0</td>\n      <td>3.1</td>\n    </tr>\n    <tr>\n      <th>34374</th>\n      <td>67834</td>\n      <td>감자핫도그</td>\n      <td>베이커리</td>\n      <td>간식빵</td>\n      <td>핫도그</td>\n      <td>125</td>\n      <td>g</td>\n      <td>625</td>\n      <td>-</td>\n      <td>5.00</td>\n      <td>625.0</td>\n      <td>4.0</td>\n    </tr>\n    <tr>\n      <th>34377</th>\n      <td>67837</td>\n      <td>푸딩분식 옛날감자치즈핫도그</td>\n      <td>베이커리</td>\n      <td>간식빵</td>\n      <td>핫도그</td>\n      <td>150</td>\n      <td>g</td>\n      <td>750</td>\n      <td>-</td>\n      <td>11.00</td>\n      <td>750.0</td>\n      <td>7.3</td>\n    </tr>\n  </tbody>\n</table>\n<p>3521 rows × 12 columns</p>\n</div>"
     },
     "execution_count": 773,
     "metadata": {},
     "output_type": "execute_result"
    }
   ],
   "source": [
    "# 간식빵\n",
    "sheet.loc[(sheet['중분류'] == '간식빵') & (sheet['대분류'] == '베이커리'), :]"
   ],
   "metadata": {
    "collapsed": false,
    "pycharm": {
     "name": "#%%\n"
    }
   }
  },
  {
   "cell_type": "code",
   "execution_count": 774,
   "outputs": [
    {
     "name": "stdout",
     "output_type": "stream",
     "text": [
      "['프레즐', '번', '크레이', '밀', '페스츄리', '맘모스', '콘', '크로와상', '커피', '치즈볼', '고구마', '앙금', '깨찰', '피자빵', '소라', '크레페', '브리오슈', '소보루', '스콘', '크림빵', '브레드', '소보로', '카스타드', '쌀빵', '샌드', '허니볼', '파니니', '카스테라', '단팥빵', '통밀', '감자', '타르트', '경주', '만주', '호빵', '두넛', '피자', '찰떡', '유자', '에그데니쉬', '치즈번', '소시지빵', '슈', '크루아상', '효모빵', '메론', '붕어빵', '롤', '크로아상', '고로케', '찰보리빵', '도너츠', '치즈빵', '에그디쉬', '꽈배기', '팥빵', '만쥬', '찐빵', '모카빵', '밤', '트위스트', '볼', '도넛', '매화']\n"
     ]
    }
   ],
   "source": [
    "간식빵 = ['꽈배기', '허니볼', '스콘', '치즈번', '슈', '허니볼', '번', '타르트', '브리오슈', '롤', '에그데니쉬', '꽈배기', '소보루', '고로케', '파니니', '샌드', '크림빵', '콘', '카스타드', '치즈볼', '도넛', '찐빵', '찰보리빵', '만쥬', '프레즐', '붕어빵', '카스테라', '트위스트', '크레페', '크레이', '페스츄리', '만주', '롤', '볼', '두넛', '도너츠', '크루아상', '크로와상', '크로아상', '단팥빵', '효모빵', '브레드', '에그디쉬', '쌀빵', '소시지빵', '모카빵', '피자빵', '맘모스', '메론', '깨찰', '소보로', '통밀', '고구마', '밀', '경주', '치즈빵', '팥빵', '유자', '소라', '커피', '매화', '감자', '밤', '찰떡', '호빵', '앙금', '경주', '피자']\n",
    "\n",
    "간식빵 = list(set(간식빵))\n",
    "print(간식빵)"
   ],
   "metadata": {
    "collapsed": false,
    "pycharm": {
     "name": "#%%\n"
    }
   }
  },
  {
   "cell_type": "code",
   "execution_count": 775,
   "outputs": [],
   "source": [
    "sheet.loc[(sheet['대분류'] == '베이커리') & (sheet['중분류'] == '간식빵'), '소분류'] = ''\n",
    "\n",
    "꽈배기 = ['꽈배기']\n",
    "허니볼 = ['허니볼']\n",
    "스콘 = ['스콘']\n",
    "슈 = ['슈']\n",
    "번 = ['번', '치즈번']\n",
    "타르트 = ['타르트']\n",
    "브리오슈 = ['브리오슈']\n",
    "롤 = ['롤']\n",
    "에그데니쉬 =['에그데니쉬', '에그디쉬']\n",
    "소보루 =['소보루', '소보로']\n",
    "고로케 = ['고로케']\n",
    "파니니 =['파니니']\n",
    "샌드 = ['샌드']\n",
    "크림빵 = ['크림빵']\n",
    "옥수수빵 = ['옥수수']\n",
    "카스타드 = ['카스타드', '커스터드']\n",
    "치즈볼 = ['치즈볼']\n",
    "찐빵 = ['찐빵']\n",
    "찰보리빵 = ['찰보리빵']\n",
    "만쥬 = ['만쥬', '만주']\n",
    "프레즐 = ['프레즐', '프레첼']\n",
    "붕어빵 = ['붕어빵']\n",
    "카스테라 = ['카스테라']\n",
    "트위스트 = ['트위스트']\n",
    "크레페 = ['크레페']\n",
    "크레이 = ['크레이']\n",
    "페스츄리 = ['페스츄리']\n",
    "볼 =['볼']\n",
    "도넛 = ['도넛', '두넛', '도너츠']\n",
    "크루와상 = ['크루아상', '크로와상', '크로아상']\n",
    "단팥빵 = ['단팥빵']\n",
    "효모빵 = ['효모빵']\n",
    "쌀빵 = ['쌀빵']\n",
    "소시지빵 = ['소시지빵']\n",
    "모카빵 = ['모카빵']\n",
    "피자빵 = ['피자빵', '피자']\n",
    "맘모스 = ['맘모스']\n",
    "메론빵 = ['메론']\n",
    "깨찰빵 = ['깨찰']\n",
    "통밀빵 = ['통밀']\n",
    "고구마빵 = ['고구마']\n",
    "밀빵 = ['밀']\n",
    "경주빵 = ['경주']\n",
    "치즈빵 = ['치즈빵']\n",
    "팥빵 = ['팥빵']\n",
    "유자빵 = ['유자']\n",
    "소라빵 = ['소라']\n",
    "커피빵 = ['커피']\n",
    "매화빵 = ['매화']\n",
    "감자빵 = ['감자']\n",
    "밤빵 = ['밤']\n",
    "찰떡빵 = ['찰떡']\n",
    "호빵 = ['호빵']\n",
    "앙금빵 = ['앙금']\n",
    "\n",
    "\n",
    "간식빵종류 = {\n",
    "\"꽈배기\":꽈배기,\n",
    "\"허니볼\":허니볼,\n",
    "\"스콘\":스콘,\n",
    "\"슈\":슈,\n",
    "\"번\":번,\n",
    "\"타르트\":타르트,\n",
    "\"브리오슈\":브리오슈,\n",
    "\"롤\":롤,\n",
    "\"에그데니쉬\":에그데니쉬,\n",
    "\"소보루\":소보루,\n",
    "\"고로케\":고로케,\n",
    "\"파니니\":파니니,\n",
    "\"샌드\":샌드,\n",
    "\"크림빵\":크림빵,\n",
    "\"옥수수빵\":옥수수빵,\n",
    "\"카스타드\":카스타드,\n",
    "\"치즈볼\":치즈볼,\n",
    "\"찐빵\":찐빵,\n",
    "\"찰보리빵\":찰보리빵,\n",
    "\"만쥬\":만쥬,\n",
    "\"프레즐\":프레즐,\n",
    "\"붕어빵\":붕어빵,\n",
    "\"카스테라\":카스테라,\n",
    "\"트위스트\":트위스트,\n",
    "\"크레페\":크레페,\n",
    "\"크레이\":크레이,\n",
    "\"페스츄리\":페스츄리,\n",
    "\"볼\":볼,\n",
    "\"도넛\":도넛,\n",
    "\"크루와상\":크루와상,\n",
    "\"단팥빵\":단팥빵,\n",
    "\"효모빵\":효모빵,\n",
    "\"쌀빵\":쌀빵,\n",
    "\"소시지빵\":소시지빵,\n",
    "\"모카빵\":모카빵,\n",
    "\"피자빵\":피자빵,\n",
    "\"맘모스\":맘모스,\n",
    "\"메론빵\":메론빵,\n",
    "\"깨찰빵\":깨찰빵,\n",
    "\"통밀빵\":통밀빵,\n",
    "\"고구마빵\":고구마빵,\n",
    "\"밀빵\":밀빵,\n",
    "\"경주빵\":경주빵,\n",
    "\"치즈빵\":치즈빵,\n",
    "\"팥빵\":팥빵,\n",
    "\"유자빵\":유자빵,\n",
    "\"소라빵\":소라빵,\n",
    "\"커피빵\":커피빵,\n",
    "\"매화빵\":매화빵,\n",
    "\"감자빵\":감자빵,\n",
    "\"밤빵\":밤빵,\n",
    "\"찰떡빵\":찰떡빵,\n",
    "\"호빵\":호빵,\n",
    "\"앙금빵\":앙금빵,\n",
    "}\n",
    "\n",
    "seperated_category('간식빵', 간식빵종류)"
   ],
   "metadata": {
    "collapsed": false,
    "pycharm": {
     "name": "#%%\n"
    }
   }
  },
  {
   "cell_type": "code",
   "execution_count": 776,
   "outputs": [
    {
     "data": {
      "text/plain": "          No                식품명   대분류  중분류 소분류  1회 제공량 용량 총내용량(g) 총내용량(ml)  \\\n7811   78960            젤라또 브레드  베이커리  간식빵         345  g     345        -   \n7827   79225          콘 어니언 핫도그  베이커리  간식빵         140  g     140        -   \n7841   79967         시나몬 멜츠 브레드  베이커리  간식빵         110  g     110        -   \n7842   79968            리치골드브레드  베이커리  간식빵         409  g     409        -   \n7855   80001            피넛버터브레드  베이커리  간식빵         297  g     297        -   \n...      ...                ...   ...  ...  ..     ... ..     ...      ...   \n32843  83901       크림가득 인절미 브레드  베이커리  간식빵         133  g     133        -   \n32845  83914        퀸즈 브리오쉬 브레드  베이커리  간식빵         254  g     254        -   \n34220  52245  우리아이가좋아하는콘후레이크핫도그  베이커리  간식빵          50  g     500        -   \n34229  52254          콘후레이크 핫도그  베이커리  간식빵          50  g     500        -   \n34244  56196      눈꽃치즈 콘어니언 핫도그  베이커리  간식빵         155  g     155        -   \n\n       총당류(g)   총내용량  단위용량 대비 설탕 비율  \n7811     33.0  345.0            9.6  \n7827     11.0  140.0            7.9  \n7841     31.0  110.0           28.2  \n7842     32.9  409.0            8.0  \n7855     23.6  297.0            7.9  \n...       ...    ...            ...  \n32843    26.0  133.0           19.5  \n32845    53.0  254.0           20.9  \n34220     5.0  500.0           10.0  \n34229     5.0  500.0           10.0  \n34244    10.0  155.0            6.5  \n\n[147 rows x 12 columns]",
      "text/html": "<div>\n<style scoped>\n    .dataframe tbody tr th:only-of-type {\n        vertical-align: middle;\n    }\n\n    .dataframe tbody tr th {\n        vertical-align: top;\n    }\n\n    .dataframe thead th {\n        text-align: right;\n    }\n</style>\n<table border=\"1\" class=\"dataframe\">\n  <thead>\n    <tr style=\"text-align: right;\">\n      <th></th>\n      <th>No</th>\n      <th>식품명</th>\n      <th>대분류</th>\n      <th>중분류</th>\n      <th>소분류</th>\n      <th>1회 제공량</th>\n      <th>용량</th>\n      <th>총내용량(g)</th>\n      <th>총내용량(ml)</th>\n      <th>총당류(g)</th>\n      <th>총내용량</th>\n      <th>단위용량 대비 설탕 비율</th>\n    </tr>\n  </thead>\n  <tbody>\n    <tr>\n      <th>7811</th>\n      <td>78960</td>\n      <td>젤라또 브레드</td>\n      <td>베이커리</td>\n      <td>간식빵</td>\n      <td></td>\n      <td>345</td>\n      <td>g</td>\n      <td>345</td>\n      <td>-</td>\n      <td>33.0</td>\n      <td>345.0</td>\n      <td>9.6</td>\n    </tr>\n    <tr>\n      <th>7827</th>\n      <td>79225</td>\n      <td>콘 어니언 핫도그</td>\n      <td>베이커리</td>\n      <td>간식빵</td>\n      <td></td>\n      <td>140</td>\n      <td>g</td>\n      <td>140</td>\n      <td>-</td>\n      <td>11.0</td>\n      <td>140.0</td>\n      <td>7.9</td>\n    </tr>\n    <tr>\n      <th>7841</th>\n      <td>79967</td>\n      <td>시나몬 멜츠 브레드</td>\n      <td>베이커리</td>\n      <td>간식빵</td>\n      <td></td>\n      <td>110</td>\n      <td>g</td>\n      <td>110</td>\n      <td>-</td>\n      <td>31.0</td>\n      <td>110.0</td>\n      <td>28.2</td>\n    </tr>\n    <tr>\n      <th>7842</th>\n      <td>79968</td>\n      <td>리치골드브레드</td>\n      <td>베이커리</td>\n      <td>간식빵</td>\n      <td></td>\n      <td>409</td>\n      <td>g</td>\n      <td>409</td>\n      <td>-</td>\n      <td>32.9</td>\n      <td>409.0</td>\n      <td>8.0</td>\n    </tr>\n    <tr>\n      <th>7855</th>\n      <td>80001</td>\n      <td>피넛버터브레드</td>\n      <td>베이커리</td>\n      <td>간식빵</td>\n      <td></td>\n      <td>297</td>\n      <td>g</td>\n      <td>297</td>\n      <td>-</td>\n      <td>23.6</td>\n      <td>297.0</td>\n      <td>7.9</td>\n    </tr>\n    <tr>\n      <th>...</th>\n      <td>...</td>\n      <td>...</td>\n      <td>...</td>\n      <td>...</td>\n      <td>...</td>\n      <td>...</td>\n      <td>...</td>\n      <td>...</td>\n      <td>...</td>\n      <td>...</td>\n      <td>...</td>\n      <td>...</td>\n    </tr>\n    <tr>\n      <th>32843</th>\n      <td>83901</td>\n      <td>크림가득 인절미 브레드</td>\n      <td>베이커리</td>\n      <td>간식빵</td>\n      <td></td>\n      <td>133</td>\n      <td>g</td>\n      <td>133</td>\n      <td>-</td>\n      <td>26.0</td>\n      <td>133.0</td>\n      <td>19.5</td>\n    </tr>\n    <tr>\n      <th>32845</th>\n      <td>83914</td>\n      <td>퀸즈 브리오쉬 브레드</td>\n      <td>베이커리</td>\n      <td>간식빵</td>\n      <td></td>\n      <td>254</td>\n      <td>g</td>\n      <td>254</td>\n      <td>-</td>\n      <td>53.0</td>\n      <td>254.0</td>\n      <td>20.9</td>\n    </tr>\n    <tr>\n      <th>34220</th>\n      <td>52245</td>\n      <td>우리아이가좋아하는콘후레이크핫도그</td>\n      <td>베이커리</td>\n      <td>간식빵</td>\n      <td></td>\n      <td>50</td>\n      <td>g</td>\n      <td>500</td>\n      <td>-</td>\n      <td>5.0</td>\n      <td>500.0</td>\n      <td>10.0</td>\n    </tr>\n    <tr>\n      <th>34229</th>\n      <td>52254</td>\n      <td>콘후레이크 핫도그</td>\n      <td>베이커리</td>\n      <td>간식빵</td>\n      <td></td>\n      <td>50</td>\n      <td>g</td>\n      <td>500</td>\n      <td>-</td>\n      <td>5.0</td>\n      <td>500.0</td>\n      <td>10.0</td>\n    </tr>\n    <tr>\n      <th>34244</th>\n      <td>56196</td>\n      <td>눈꽃치즈 콘어니언 핫도그</td>\n      <td>베이커리</td>\n      <td>간식빵</td>\n      <td></td>\n      <td>155</td>\n      <td>g</td>\n      <td>155</td>\n      <td>-</td>\n      <td>10.0</td>\n      <td>155.0</td>\n      <td>6.5</td>\n    </tr>\n  </tbody>\n</table>\n<p>147 rows × 12 columns</p>\n</div>"
     },
     "execution_count": 776,
     "metadata": {},
     "output_type": "execute_result"
    }
   ],
   "source": [
    "sheet.loc[(sheet['중분류'] == '간식빵') & (sheet['소분류'] == \"\"), :]"
   ],
   "metadata": {
    "collapsed": false,
    "pycharm": {
     "name": "#%%\n"
    }
   }
  },
  {
   "cell_type": "code",
   "execution_count": 777,
   "outputs": [],
   "source": [
    "erase = list(sheet.loc[(sheet['중분류'] == '간식빵') & (sheet['소분류'] == \"\"), :].index)\n",
    "for value in erase:\n",
    "    sheet = sheet.drop(value, axis=0)"
   ],
   "metadata": {
    "collapsed": false,
    "pycharm": {
     "name": "#%%\n"
    }
   }
  },
  {
   "cell_type": "code",
   "execution_count": 778,
   "outputs": [
    {
     "data": {
      "text/plain": "Empty DataFrame\nColumns: [No, 식품명, 대분류, 중분류, 소분류, 1회 제공량, 용량, 총내용량(g), 총내용량(ml), 총당류(g), 총내용량, 단위용량 대비 설탕 비율]\nIndex: []",
      "text/html": "<div>\n<style scoped>\n    .dataframe tbody tr th:only-of-type {\n        vertical-align: middle;\n    }\n\n    .dataframe tbody tr th {\n        vertical-align: top;\n    }\n\n    .dataframe thead th {\n        text-align: right;\n    }\n</style>\n<table border=\"1\" class=\"dataframe\">\n  <thead>\n    <tr style=\"text-align: right;\">\n      <th></th>\n      <th>No</th>\n      <th>식품명</th>\n      <th>대분류</th>\n      <th>중분류</th>\n      <th>소분류</th>\n      <th>1회 제공량</th>\n      <th>용량</th>\n      <th>총내용량(g)</th>\n      <th>총내용량(ml)</th>\n      <th>총당류(g)</th>\n      <th>총내용량</th>\n      <th>단위용량 대비 설탕 비율</th>\n    </tr>\n  </thead>\n  <tbody>\n  </tbody>\n</table>\n</div>"
     },
     "execution_count": 778,
     "metadata": {},
     "output_type": "execute_result"
    }
   ],
   "source": [
    "sheet.loc[(sheet['중분류'] == '간식빵') & (sheet['소분류'] == \"\"), :]"
   ],
   "metadata": {
    "collapsed": false,
    "pycharm": {
     "name": "#%%\n"
    }
   }
  },
  {
   "cell_type": "code",
   "execution_count": 779,
   "outputs": [
    {
     "data": {
      "text/plain": "          No             식품명   대분류  중분류    소분류  1회 제공량 용량 총내용량(g) 총내용량(ml)  \\\n7807   78954        플레인 에그디쉬  베이커리  간식빵  에그데니쉬     172  g     172        -   \n7808   78955       블루베리 에그디쉬  베이커리  간식빵  에그데니쉬     202  g     202        -   \n7809   78956       이탈리안 에그디쉬  베이커리  간식빵  에그데니쉬     230  g     230        -   \n7812   78966       쿠키&크림 번버거  베이커리  간식빵      번     201  g     201        -   \n7835   79245             허니볼  베이커리  간식빵      볼     200  g     200        -   \n...      ...             ...   ...  ...    ...     ... ..     ...      ...   \n34330  64725     라퀴진 큐브감자핫도그  베이커리  간식빵    감자빵      90  g     450        -   \n34363  66295   보송보송 카스테라 핫도그  베이커리  간식빵   카스테라     100  g     900        -   \n34367  67113           감자핫도그  베이커리  간식빵    감자빵     130  g    1300        -   \n34374  67834           감자핫도그  베이커리  간식빵    감자빵     125  g     625        -   \n34377  67837  푸딩분식 옛날감자치즈핫도그  베이커리  간식빵    감자빵     150  g     750        -   \n\n       총당류(g)    총내용량  단위용량 대비 설탕 비율  \n7807    26.50   172.0           15.4  \n7808    30.10   202.0           14.9  \n7809    23.80   230.0           10.3  \n7812    34.60   201.0           17.2  \n7835     9.00   200.0            4.5  \n...       ...     ...            ...  \n34330    4.00   450.0            4.4  \n34363    3.68   900.0            3.7  \n34367    4.00  1300.0            3.1  \n34374    5.00   625.0            4.0  \n34377   11.00   750.0            7.3  \n\n[3374 rows x 12 columns]",
      "text/html": "<div>\n<style scoped>\n    .dataframe tbody tr th:only-of-type {\n        vertical-align: middle;\n    }\n\n    .dataframe tbody tr th {\n        vertical-align: top;\n    }\n\n    .dataframe thead th {\n        text-align: right;\n    }\n</style>\n<table border=\"1\" class=\"dataframe\">\n  <thead>\n    <tr style=\"text-align: right;\">\n      <th></th>\n      <th>No</th>\n      <th>식품명</th>\n      <th>대분류</th>\n      <th>중분류</th>\n      <th>소분류</th>\n      <th>1회 제공량</th>\n      <th>용량</th>\n      <th>총내용량(g)</th>\n      <th>총내용량(ml)</th>\n      <th>총당류(g)</th>\n      <th>총내용량</th>\n      <th>단위용량 대비 설탕 비율</th>\n    </tr>\n  </thead>\n  <tbody>\n    <tr>\n      <th>7807</th>\n      <td>78954</td>\n      <td>플레인 에그디쉬</td>\n      <td>베이커리</td>\n      <td>간식빵</td>\n      <td>에그데니쉬</td>\n      <td>172</td>\n      <td>g</td>\n      <td>172</td>\n      <td>-</td>\n      <td>26.50</td>\n      <td>172.0</td>\n      <td>15.4</td>\n    </tr>\n    <tr>\n      <th>7808</th>\n      <td>78955</td>\n      <td>블루베리 에그디쉬</td>\n      <td>베이커리</td>\n      <td>간식빵</td>\n      <td>에그데니쉬</td>\n      <td>202</td>\n      <td>g</td>\n      <td>202</td>\n      <td>-</td>\n      <td>30.10</td>\n      <td>202.0</td>\n      <td>14.9</td>\n    </tr>\n    <tr>\n      <th>7809</th>\n      <td>78956</td>\n      <td>이탈리안 에그디쉬</td>\n      <td>베이커리</td>\n      <td>간식빵</td>\n      <td>에그데니쉬</td>\n      <td>230</td>\n      <td>g</td>\n      <td>230</td>\n      <td>-</td>\n      <td>23.80</td>\n      <td>230.0</td>\n      <td>10.3</td>\n    </tr>\n    <tr>\n      <th>7812</th>\n      <td>78966</td>\n      <td>쿠키&amp;크림 번버거</td>\n      <td>베이커리</td>\n      <td>간식빵</td>\n      <td>번</td>\n      <td>201</td>\n      <td>g</td>\n      <td>201</td>\n      <td>-</td>\n      <td>34.60</td>\n      <td>201.0</td>\n      <td>17.2</td>\n    </tr>\n    <tr>\n      <th>7835</th>\n      <td>79245</td>\n      <td>허니볼</td>\n      <td>베이커리</td>\n      <td>간식빵</td>\n      <td>볼</td>\n      <td>200</td>\n      <td>g</td>\n      <td>200</td>\n      <td>-</td>\n      <td>9.00</td>\n      <td>200.0</td>\n      <td>4.5</td>\n    </tr>\n    <tr>\n      <th>...</th>\n      <td>...</td>\n      <td>...</td>\n      <td>...</td>\n      <td>...</td>\n      <td>...</td>\n      <td>...</td>\n      <td>...</td>\n      <td>...</td>\n      <td>...</td>\n      <td>...</td>\n      <td>...</td>\n      <td>...</td>\n    </tr>\n    <tr>\n      <th>34330</th>\n      <td>64725</td>\n      <td>라퀴진 큐브감자핫도그</td>\n      <td>베이커리</td>\n      <td>간식빵</td>\n      <td>감자빵</td>\n      <td>90</td>\n      <td>g</td>\n      <td>450</td>\n      <td>-</td>\n      <td>4.00</td>\n      <td>450.0</td>\n      <td>4.4</td>\n    </tr>\n    <tr>\n      <th>34363</th>\n      <td>66295</td>\n      <td>보송보송 카스테라 핫도그</td>\n      <td>베이커리</td>\n      <td>간식빵</td>\n      <td>카스테라</td>\n      <td>100</td>\n      <td>g</td>\n      <td>900</td>\n      <td>-</td>\n      <td>3.68</td>\n      <td>900.0</td>\n      <td>3.7</td>\n    </tr>\n    <tr>\n      <th>34367</th>\n      <td>67113</td>\n      <td>감자핫도그</td>\n      <td>베이커리</td>\n      <td>간식빵</td>\n      <td>감자빵</td>\n      <td>130</td>\n      <td>g</td>\n      <td>1300</td>\n      <td>-</td>\n      <td>4.00</td>\n      <td>1300.0</td>\n      <td>3.1</td>\n    </tr>\n    <tr>\n      <th>34374</th>\n      <td>67834</td>\n      <td>감자핫도그</td>\n      <td>베이커리</td>\n      <td>간식빵</td>\n      <td>감자빵</td>\n      <td>125</td>\n      <td>g</td>\n      <td>625</td>\n      <td>-</td>\n      <td>5.00</td>\n      <td>625.0</td>\n      <td>4.0</td>\n    </tr>\n    <tr>\n      <th>34377</th>\n      <td>67837</td>\n      <td>푸딩분식 옛날감자치즈핫도그</td>\n      <td>베이커리</td>\n      <td>간식빵</td>\n      <td>감자빵</td>\n      <td>150</td>\n      <td>g</td>\n      <td>750</td>\n      <td>-</td>\n      <td>11.00</td>\n      <td>750.0</td>\n      <td>7.3</td>\n    </tr>\n  </tbody>\n</table>\n<p>3374 rows × 12 columns</p>\n</div>"
     },
     "execution_count": 779,
     "metadata": {},
     "output_type": "execute_result"
    }
   ],
   "source": [
    "sheet.loc[(sheet['중분류'] == '간식빵') & (sheet['대분류'] == '베이커리'), :]"
   ],
   "metadata": {
    "collapsed": false,
    "pycharm": {
     "name": "#%%\n"
    }
   }
  },
  {
   "cell_type": "code",
   "execution_count": 780,
   "outputs": [
    {
     "name": "stdout",
     "output_type": "stream",
     "text": [
      "{'감자빵': 64,\n",
      " '경주빵': 26,\n",
      " '고구마빵': 68,\n",
      " '고로케': 35,\n",
      " '깨찰빵': 10,\n",
      " '꽈배기': 6,\n",
      " '도넛': 147,\n",
      " '롤': 327,\n",
      " '만쥬': 62,\n",
      " '맘모스': 11,\n",
      " '매화빵': 4,\n",
      " '메론빵': 8,\n",
      " '모카빵': 12,\n",
      " '밀빵': 260,\n",
      " '밤빵': 38,\n",
      " '번': 78,\n",
      " '볼': 208,\n",
      " '붕어빵': 34,\n",
      " '브리오슈': 18,\n",
      " '샌드': 103,\n",
      " '소라빵': 15,\n",
      " '소보루': 97,\n",
      " '소시지빵': 6,\n",
      " '슈': 250,\n",
      " '스콘': 137,\n",
      " '쌀빵': 16,\n",
      " '앙금빵': 29,\n",
      " '에그데니쉬': 6,\n",
      " '옥수수빵': 25,\n",
      " '유자빵': 17,\n",
      " '찐빵': 117,\n",
      " '찰떡빵': 6,\n",
      " '찰보리빵': 45,\n",
      " '치즈빵': 18,\n",
      " '카스타드': 23,\n",
      " '카스테라': 169,\n",
      " '커피빵': 28,\n",
      " '크레이': 16,\n",
      " '크레페': 13,\n",
      " '크루와상': 190,\n",
      " '크림빵': 116,\n",
      " '타르트': 147,\n",
      " '트위스트': 31,\n",
      " '파니니': 20,\n",
      " '팥빵': 113,\n",
      " '페스츄리': 22,\n",
      " '프레즐': 26,\n",
      " '피자빵': 75,\n",
      " '호빵': 74,\n",
      " '효모빵': 14}\n"
     ]
    }
   ],
   "source": [
    "final_bread_category = list(sheet.loc[sheet['중분류'] == '간식빵', '소분류'].unique())\n",
    "bp_dict = {}\n",
    "for value in final_bread_category:\n",
    "    bp_dict[value] = len(sheet.loc[(sheet['중분류'] == '간식빵') & (sheet['소분류'] == value), :])\n",
    "pp.pprint(bp_dict)"
   ],
   "metadata": {
    "collapsed": false,
    "pycharm": {
     "name": "#%%\n"
    }
   }
  },
  {
   "cell_type": "code",
   "execution_count": 781,
   "outputs": [],
   "source": [
    "# sheet.loc[(sheet['중분류'] == '간식빵') & (sheet['식품명'].str.contains('도너츠')), '소분류'] = '도넛'\n",
    "# sheet.loc[(sheet['중분류'] == '간식빵') & (sheet['식품명'].str.contains('두넛')), '소분류'] = '도넛'\n",
    "# sheet.loc[(sheet['중분류'] == '간식빵') & (sheet['식품명'].str.contains('에그디쉬')), '소분류'] = '에그데니쉬'\n",
    "# sheet.loc[(sheet['중분류'] == '간식빵') & (sheet['식품명'].str.contains('크루아상')), '소분류'] = '크루와상'\n",
    "# sheet.loc[(sheet['중분류'] == '간식빵') & (sheet['식품명'].str.contains('크로아상')), '소분류'] = '크루와상'\n",
    "# sheet.loc[(sheet['중분류'] == '간식빵') & (sheet['식품명'].str.contains('만주')), '소분류'] = '만쥬'"
   ],
   "metadata": {
    "collapsed": false,
    "pycharm": {
     "name": "#%%\n"
    }
   }
  },
  {
   "cell_type": "code",
   "execution_count": 781,
   "outputs": [],
   "source": [],
   "metadata": {
    "collapsed": false,
    "pycharm": {
     "name": "#%%\n"
    }
   }
  },
  {
   "cell_type": "code",
   "execution_count": 782,
   "outputs": [],
   "source": [
    "# 식사빵"
   ],
   "metadata": {
    "collapsed": false,
    "pycharm": {
     "name": "#%%\n"
    }
   }
  },
  {
   "cell_type": "code",
   "execution_count": 783,
   "outputs": [
    {
     "data": {
      "text/plain": "          No             식품명   대분류  중분류    소분류  1회 제공량 용량 총내용량(g) 총내용량(ml)  \\\n7803   78740       치즈볼&바게트스틱  베이커리  식사빵  기타 빵류     290  g     290        -   \n7804   78742           바게트스틱  베이커리  식사빵  기타 빵류      85  g      85        -   \n7805   78750           브래드스틱  베이커리  식사빵  기타 빵류     220  g     220        -   \n7824   78997        못난이찹쌀꽈배기  베이커리  식사빵  기타 빵류      55  g      55        -   \n7825   79001        못난이찹쌀핫도그  베이커리  식사빵  기타 빵류      95  g      95        -   \n...      ...             ...   ...  ...    ...     ... ..     ...      ...   \n33758  48772     롤피자스틱 콤비네이션  베이커리  식사빵     피자      80  g      80        -   \n34040  83279       피자스틱(고구마)  베이커리  식사빵    피자류       8  g       8        -   \n34041  83280        피자스틱(감자)  베이커리  식사빵    피자류       4  g       4        -   \n34042  83281       피자스틱(단호박)  베이커리  식사빵    피자류       5  g       5        -   \n34295  62327  고구마치즈 만난 감자핫도그  베이커리  식사빵    핫도그      70  g     600        -   \n\n       총당류(g)   총내용량  단위용량 대비 설탕 비율  \n7803     39.0  290.0           13.4  \n7804     11.0   85.0           12.9  \n7805      8.0  220.0            3.6  \n7824      6.1   55.0           11.1  \n7825      7.5   95.0            7.9  \n...       ...    ...            ...  \n33758     5.0   80.0            6.2  \n34040    20.0    8.0          250.0  \n34041    20.0    4.0          500.0  \n34042    22.0    5.0          440.0  \n34295     8.0  600.0           11.4  \n\n[948 rows x 12 columns]",
      "text/html": "<div>\n<style scoped>\n    .dataframe tbody tr th:only-of-type {\n        vertical-align: middle;\n    }\n\n    .dataframe tbody tr th {\n        vertical-align: top;\n    }\n\n    .dataframe thead th {\n        text-align: right;\n    }\n</style>\n<table border=\"1\" class=\"dataframe\">\n  <thead>\n    <tr style=\"text-align: right;\">\n      <th></th>\n      <th>No</th>\n      <th>식품명</th>\n      <th>대분류</th>\n      <th>중분류</th>\n      <th>소분류</th>\n      <th>1회 제공량</th>\n      <th>용량</th>\n      <th>총내용량(g)</th>\n      <th>총내용량(ml)</th>\n      <th>총당류(g)</th>\n      <th>총내용량</th>\n      <th>단위용량 대비 설탕 비율</th>\n    </tr>\n  </thead>\n  <tbody>\n    <tr>\n      <th>7803</th>\n      <td>78740</td>\n      <td>치즈볼&amp;바게트스틱</td>\n      <td>베이커리</td>\n      <td>식사빵</td>\n      <td>기타 빵류</td>\n      <td>290</td>\n      <td>g</td>\n      <td>290</td>\n      <td>-</td>\n      <td>39.0</td>\n      <td>290.0</td>\n      <td>13.4</td>\n    </tr>\n    <tr>\n      <th>7804</th>\n      <td>78742</td>\n      <td>바게트스틱</td>\n      <td>베이커리</td>\n      <td>식사빵</td>\n      <td>기타 빵류</td>\n      <td>85</td>\n      <td>g</td>\n      <td>85</td>\n      <td>-</td>\n      <td>11.0</td>\n      <td>85.0</td>\n      <td>12.9</td>\n    </tr>\n    <tr>\n      <th>7805</th>\n      <td>78750</td>\n      <td>브래드스틱</td>\n      <td>베이커리</td>\n      <td>식사빵</td>\n      <td>기타 빵류</td>\n      <td>220</td>\n      <td>g</td>\n      <td>220</td>\n      <td>-</td>\n      <td>8.0</td>\n      <td>220.0</td>\n      <td>3.6</td>\n    </tr>\n    <tr>\n      <th>7824</th>\n      <td>78997</td>\n      <td>못난이찹쌀꽈배기</td>\n      <td>베이커리</td>\n      <td>식사빵</td>\n      <td>기타 빵류</td>\n      <td>55</td>\n      <td>g</td>\n      <td>55</td>\n      <td>-</td>\n      <td>6.1</td>\n      <td>55.0</td>\n      <td>11.1</td>\n    </tr>\n    <tr>\n      <th>7825</th>\n      <td>79001</td>\n      <td>못난이찹쌀핫도그</td>\n      <td>베이커리</td>\n      <td>식사빵</td>\n      <td>기타 빵류</td>\n      <td>95</td>\n      <td>g</td>\n      <td>95</td>\n      <td>-</td>\n      <td>7.5</td>\n      <td>95.0</td>\n      <td>7.9</td>\n    </tr>\n    <tr>\n      <th>...</th>\n      <td>...</td>\n      <td>...</td>\n      <td>...</td>\n      <td>...</td>\n      <td>...</td>\n      <td>...</td>\n      <td>...</td>\n      <td>...</td>\n      <td>...</td>\n      <td>...</td>\n      <td>...</td>\n      <td>...</td>\n    </tr>\n    <tr>\n      <th>33758</th>\n      <td>48772</td>\n      <td>롤피자스틱 콤비네이션</td>\n      <td>베이커리</td>\n      <td>식사빵</td>\n      <td>피자</td>\n      <td>80</td>\n      <td>g</td>\n      <td>80</td>\n      <td>-</td>\n      <td>5.0</td>\n      <td>80.0</td>\n      <td>6.2</td>\n    </tr>\n    <tr>\n      <th>34040</th>\n      <td>83279</td>\n      <td>피자스틱(고구마)</td>\n      <td>베이커리</td>\n      <td>식사빵</td>\n      <td>피자류</td>\n      <td>8</td>\n      <td>g</td>\n      <td>8</td>\n      <td>-</td>\n      <td>20.0</td>\n      <td>8.0</td>\n      <td>250.0</td>\n    </tr>\n    <tr>\n      <th>34041</th>\n      <td>83280</td>\n      <td>피자스틱(감자)</td>\n      <td>베이커리</td>\n      <td>식사빵</td>\n      <td>피자류</td>\n      <td>4</td>\n      <td>g</td>\n      <td>4</td>\n      <td>-</td>\n      <td>20.0</td>\n      <td>4.0</td>\n      <td>500.0</td>\n    </tr>\n    <tr>\n      <th>34042</th>\n      <td>83281</td>\n      <td>피자스틱(단호박)</td>\n      <td>베이커리</td>\n      <td>식사빵</td>\n      <td>피자류</td>\n      <td>5</td>\n      <td>g</td>\n      <td>5</td>\n      <td>-</td>\n      <td>22.0</td>\n      <td>5.0</td>\n      <td>440.0</td>\n    </tr>\n    <tr>\n      <th>34295</th>\n      <td>62327</td>\n      <td>고구마치즈 만난 감자핫도그</td>\n      <td>베이커리</td>\n      <td>식사빵</td>\n      <td>핫도그</td>\n      <td>70</td>\n      <td>g</td>\n      <td>600</td>\n      <td>-</td>\n      <td>8.0</td>\n      <td>600.0</td>\n      <td>11.4</td>\n    </tr>\n  </tbody>\n</table>\n<p>948 rows × 12 columns</p>\n</div>"
     },
     "execution_count": 783,
     "metadata": {},
     "output_type": "execute_result"
    }
   ],
   "source": [
    "sheet.loc[(sheet['대분류'] == '베이커리') & (sheet['중분류'] == '식사빵'), :]"
   ],
   "metadata": {
    "collapsed": false,
    "pycharm": {
     "name": "#%%\n"
    }
   }
  },
  {
   "cell_type": "code",
   "execution_count": 784,
   "outputs": [
    {
     "data": {
      "text/plain": "Empty DataFrame\nColumns: [No, 식품명, 대분류, 중분류, 소분류, 1회 제공량, 용량, 총내용량(g), 총내용량(ml), 총당류(g), 총내용량, 단위용량 대비 설탕 비율]\nIndex: []",
      "text/html": "<div>\n<style scoped>\n    .dataframe tbody tr th:only-of-type {\n        vertical-align: middle;\n    }\n\n    .dataframe tbody tr th {\n        vertical-align: top;\n    }\n\n    .dataframe thead th {\n        text-align: right;\n    }\n</style>\n<table border=\"1\" class=\"dataframe\">\n  <thead>\n    <tr style=\"text-align: right;\">\n      <th></th>\n      <th>No</th>\n      <th>식품명</th>\n      <th>대분류</th>\n      <th>중분류</th>\n      <th>소분류</th>\n      <th>1회 제공량</th>\n      <th>용량</th>\n      <th>총내용량(g)</th>\n      <th>총내용량(ml)</th>\n      <th>총당류(g)</th>\n      <th>총내용량</th>\n      <th>단위용량 대비 설탕 비율</th>\n    </tr>\n  </thead>\n  <tbody>\n  </tbody>\n</table>\n</div>"
     },
     "execution_count": 784,
     "metadata": {},
     "output_type": "execute_result"
    }
   ],
   "source": [
    "sheet.loc[(sheet['중분류'] == '식사빵') & (sheet['대분류'] == '베이커리'), '소분류'] = ''\n",
    "\n",
    "토스트 = [\"토스트\"]\n",
    "베이글 = [\"베이글\"]\n",
    "또띠아 = [\"또띠아\"]\n",
    "포카챠 = [\"포카챠\"]\n",
    "스틱 = [\"스틱\"]\n",
    "바게트 = [\"바게트\", \"바게뜨\"]\n",
    "난 = [\"난\"]\n",
    "식빵 = [\"식빵\"]\n",
    "모닝빵 = [\"모닝빵\"]\n",
    "\n",
    "식사빵종류 = {\n",
    "    \"토스트\":토스트,\n",
    "    \"베이글\":베이글,\n",
    "    \"또띠아\":또띠아,\n",
    "    \"포카챠\":포카챠,\n",
    "    \"스틱\":스틱,\n",
    "    \"바게트\":바게트,\n",
    "    \"난\":난,\n",
    "    \"식빵\":식빵,\n",
    "    \"모닝빵\":모닝빵,\n",
    "}\n",
    "\n",
    "seperated_category('식사빵', 식사빵종류)\n",
    "\n",
    "sheet.loc[(sheet['중분류'] == '식사빵') & (sheet['소분류'] == \"\"), :]"
   ],
   "metadata": {
    "collapsed": false,
    "pycharm": {
     "name": "#%%\n"
    }
   }
  },
  {
   "cell_type": "code",
   "execution_count": 785,
   "outputs": [
    {
     "data": {
      "text/plain": "          No             식품명   대분류  중분류  소분류  1회 제공량 용량 총내용량(g) 총내용량(ml)  \\\n7803   78740       치즈볼&바게트스틱  베이커리  식사빵  바게트     290  g     290        -   \n7804   78742           바게트스틱  베이커리  식사빵  바게트      85  g      85        -   \n7805   78750           브래드스틱  베이커리  식사빵   스틱     220  g     220        -   \n7824   78997        못난이찹쌀꽈배기  베이커리  식사빵    난      55  g      55        -   \n7825   79001        못난이찹쌀핫도그  베이커리  식사빵    난      95  g      95        -   \n...      ...             ...   ...  ...  ...     ... ..     ...      ...   \n33758  48772     롤피자스틱 콤비네이션  베이커리  식사빵   스틱      80  g      80        -   \n34040  83279       피자스틱(고구마)  베이커리  식사빵   스틱       8  g       8        -   \n34041  83280        피자스틱(감자)  베이커리  식사빵   스틱       4  g       4        -   \n34042  83281       피자스틱(단호박)  베이커리  식사빵   스틱       5  g       5        -   \n34295  62327  고구마치즈 만난 감자핫도그  베이커리  식사빵    난      70  g     600        -   \n\n       총당류(g)   총내용량  단위용량 대비 설탕 비율  \n7803     39.0  290.0           13.4  \n7804     11.0   85.0           12.9  \n7805      8.0  220.0            3.6  \n7824      6.1   55.0           11.1  \n7825      7.5   95.0            7.9  \n...       ...    ...            ...  \n33758     5.0   80.0            6.2  \n34040    20.0    8.0          250.0  \n34041    20.0    4.0          500.0  \n34042    22.0    5.0          440.0  \n34295     8.0  600.0           11.4  \n\n[948 rows x 12 columns]",
      "text/html": "<div>\n<style scoped>\n    .dataframe tbody tr th:only-of-type {\n        vertical-align: middle;\n    }\n\n    .dataframe tbody tr th {\n        vertical-align: top;\n    }\n\n    .dataframe thead th {\n        text-align: right;\n    }\n</style>\n<table border=\"1\" class=\"dataframe\">\n  <thead>\n    <tr style=\"text-align: right;\">\n      <th></th>\n      <th>No</th>\n      <th>식품명</th>\n      <th>대분류</th>\n      <th>중분류</th>\n      <th>소분류</th>\n      <th>1회 제공량</th>\n      <th>용량</th>\n      <th>총내용량(g)</th>\n      <th>총내용량(ml)</th>\n      <th>총당류(g)</th>\n      <th>총내용량</th>\n      <th>단위용량 대비 설탕 비율</th>\n    </tr>\n  </thead>\n  <tbody>\n    <tr>\n      <th>7803</th>\n      <td>78740</td>\n      <td>치즈볼&amp;바게트스틱</td>\n      <td>베이커리</td>\n      <td>식사빵</td>\n      <td>바게트</td>\n      <td>290</td>\n      <td>g</td>\n      <td>290</td>\n      <td>-</td>\n      <td>39.0</td>\n      <td>290.0</td>\n      <td>13.4</td>\n    </tr>\n    <tr>\n      <th>7804</th>\n      <td>78742</td>\n      <td>바게트스틱</td>\n      <td>베이커리</td>\n      <td>식사빵</td>\n      <td>바게트</td>\n      <td>85</td>\n      <td>g</td>\n      <td>85</td>\n      <td>-</td>\n      <td>11.0</td>\n      <td>85.0</td>\n      <td>12.9</td>\n    </tr>\n    <tr>\n      <th>7805</th>\n      <td>78750</td>\n      <td>브래드스틱</td>\n      <td>베이커리</td>\n      <td>식사빵</td>\n      <td>스틱</td>\n      <td>220</td>\n      <td>g</td>\n      <td>220</td>\n      <td>-</td>\n      <td>8.0</td>\n      <td>220.0</td>\n      <td>3.6</td>\n    </tr>\n    <tr>\n      <th>7824</th>\n      <td>78997</td>\n      <td>못난이찹쌀꽈배기</td>\n      <td>베이커리</td>\n      <td>식사빵</td>\n      <td>난</td>\n      <td>55</td>\n      <td>g</td>\n      <td>55</td>\n      <td>-</td>\n      <td>6.1</td>\n      <td>55.0</td>\n      <td>11.1</td>\n    </tr>\n    <tr>\n      <th>7825</th>\n      <td>79001</td>\n      <td>못난이찹쌀핫도그</td>\n      <td>베이커리</td>\n      <td>식사빵</td>\n      <td>난</td>\n      <td>95</td>\n      <td>g</td>\n      <td>95</td>\n      <td>-</td>\n      <td>7.5</td>\n      <td>95.0</td>\n      <td>7.9</td>\n    </tr>\n    <tr>\n      <th>...</th>\n      <td>...</td>\n      <td>...</td>\n      <td>...</td>\n      <td>...</td>\n      <td>...</td>\n      <td>...</td>\n      <td>...</td>\n      <td>...</td>\n      <td>...</td>\n      <td>...</td>\n      <td>...</td>\n      <td>...</td>\n    </tr>\n    <tr>\n      <th>33758</th>\n      <td>48772</td>\n      <td>롤피자스틱 콤비네이션</td>\n      <td>베이커리</td>\n      <td>식사빵</td>\n      <td>스틱</td>\n      <td>80</td>\n      <td>g</td>\n      <td>80</td>\n      <td>-</td>\n      <td>5.0</td>\n      <td>80.0</td>\n      <td>6.2</td>\n    </tr>\n    <tr>\n      <th>34040</th>\n      <td>83279</td>\n      <td>피자스틱(고구마)</td>\n      <td>베이커리</td>\n      <td>식사빵</td>\n      <td>스틱</td>\n      <td>8</td>\n      <td>g</td>\n      <td>8</td>\n      <td>-</td>\n      <td>20.0</td>\n      <td>8.0</td>\n      <td>250.0</td>\n    </tr>\n    <tr>\n      <th>34041</th>\n      <td>83280</td>\n      <td>피자스틱(감자)</td>\n      <td>베이커리</td>\n      <td>식사빵</td>\n      <td>스틱</td>\n      <td>4</td>\n      <td>g</td>\n      <td>4</td>\n      <td>-</td>\n      <td>20.0</td>\n      <td>4.0</td>\n      <td>500.0</td>\n    </tr>\n    <tr>\n      <th>34042</th>\n      <td>83281</td>\n      <td>피자스틱(단호박)</td>\n      <td>베이커리</td>\n      <td>식사빵</td>\n      <td>스틱</td>\n      <td>5</td>\n      <td>g</td>\n      <td>5</td>\n      <td>-</td>\n      <td>22.0</td>\n      <td>5.0</td>\n      <td>440.0</td>\n    </tr>\n    <tr>\n      <th>34295</th>\n      <td>62327</td>\n      <td>고구마치즈 만난 감자핫도그</td>\n      <td>베이커리</td>\n      <td>식사빵</td>\n      <td>난</td>\n      <td>70</td>\n      <td>g</td>\n      <td>600</td>\n      <td>-</td>\n      <td>8.0</td>\n      <td>600.0</td>\n      <td>11.4</td>\n    </tr>\n  </tbody>\n</table>\n<p>948 rows × 12 columns</p>\n</div>"
     },
     "execution_count": 785,
     "metadata": {},
     "output_type": "execute_result"
    }
   ],
   "source": [
    "sheet.loc[(sheet['대분류'] == '베이커리') & (sheet['중분류'] == '식사빵'), :]"
   ],
   "metadata": {
    "collapsed": false,
    "pycharm": {
     "name": "#%%\n"
    }
   }
  },
  {
   "cell_type": "code",
   "execution_count": 786,
   "outputs": [
    {
     "name": "stdout",
     "output_type": "stream",
     "text": [
      "{'난': 26,\n",
      " '또띠아': 29,\n",
      " '모닝빵': 39,\n",
      " '바게트': 40,\n",
      " '베이글': 227,\n",
      " '스틱': 102,\n",
      " '식빵': 410,\n",
      " '토스트': 70,\n",
      " '포카챠': 7}\n"
     ]
    }
   ],
   "source": [
    "final_main_bread_category = list(sheet.loc[sheet['중분류'] == '식사빵', '소분류'].unique())\n",
    "fmb_dict = {}\n",
    "for value in final_main_bread_category:\n",
    "    fmb_dict[value] = len(sheet.loc[(sheet['중분류'] == '식사빵') & (sheet['소분류'] == value), :])\n",
    "pp.pprint(fmb_dict)"
   ],
   "metadata": {
    "collapsed": false,
    "pycharm": {
     "name": "#%%\n"
    }
   }
  },
  {
   "cell_type": "code",
   "execution_count": 787,
   "outputs": [
    {
     "data": {
      "text/plain": "          No                     식품명   대분류  중분류 소분류  1회 제공량 용량 총내용량(g)  \\\n9860   64573            컵케익 모양 마쉬멜로우  베이커리  케이크         100  g     115   \n11048  48870             쵸코케익홀 냉동도너츠  베이커리  케이크         100  g     500   \n11099  63577               비엔 도넛 케이크  베이커리  케이크          40  g      40   \n11133  83722               오리지널케익먼치킨  베이커리  케이크          52  g      52   \n14094  10247                  옥수수맛케익  베이커리  케이크          90  g      90   \n...      ...                     ...   ...  ...  ..     ... ..     ...   \n31540  84175  new 6호 3단 화이트케이크(다리포함)  베이커리  케이크          64  g      64   \n31554  84334                 라푼젤 케이크  베이커리  케이크         940  g       -   \n31559  84524                캐롯 스틱케이크  베이커리  케이크          50  g      50   \n33739  83386                 핫케익 3조각  베이커리  케이크         150  g     150   \n33740  83387                 핫케익 2조각  베이커리  케이크         100  g     100   \n\n      총내용량(ml)  총당류(g)   총내용량  단위용량 대비 설탕 비율  \n9860         -    75.0  115.0           75.0  \n11048        -    15.3  500.0           15.3  \n11099        -    12.0   40.0           30.0  \n11133        -    12.0   52.0           23.1  \n14094        -    32.0   90.0           35.6  \n...        ...     ...    ...            ...  \n31540        -    18.0   64.0           28.1  \n31554      940    21.0  940.0            2.2  \n31559        -     6.0   50.0           12.0  \n33739        -    13.0  150.0            8.7  \n33740        -     9.0  100.0            9.0  \n\n[265 rows x 12 columns]",
      "text/html": "<div>\n<style scoped>\n    .dataframe tbody tr th:only-of-type {\n        vertical-align: middle;\n    }\n\n    .dataframe tbody tr th {\n        vertical-align: top;\n    }\n\n    .dataframe thead th {\n        text-align: right;\n    }\n</style>\n<table border=\"1\" class=\"dataframe\">\n  <thead>\n    <tr style=\"text-align: right;\">\n      <th></th>\n      <th>No</th>\n      <th>식품명</th>\n      <th>대분류</th>\n      <th>중분류</th>\n      <th>소분류</th>\n      <th>1회 제공량</th>\n      <th>용량</th>\n      <th>총내용량(g)</th>\n      <th>총내용량(ml)</th>\n      <th>총당류(g)</th>\n      <th>총내용량</th>\n      <th>단위용량 대비 설탕 비율</th>\n    </tr>\n  </thead>\n  <tbody>\n    <tr>\n      <th>9860</th>\n      <td>64573</td>\n      <td>컵케익 모양 마쉬멜로우</td>\n      <td>베이커리</td>\n      <td>케이크</td>\n      <td></td>\n      <td>100</td>\n      <td>g</td>\n      <td>115</td>\n      <td>-</td>\n      <td>75.0</td>\n      <td>115.0</td>\n      <td>75.0</td>\n    </tr>\n    <tr>\n      <th>11048</th>\n      <td>48870</td>\n      <td>쵸코케익홀 냉동도너츠</td>\n      <td>베이커리</td>\n      <td>케이크</td>\n      <td></td>\n      <td>100</td>\n      <td>g</td>\n      <td>500</td>\n      <td>-</td>\n      <td>15.3</td>\n      <td>500.0</td>\n      <td>15.3</td>\n    </tr>\n    <tr>\n      <th>11099</th>\n      <td>63577</td>\n      <td>비엔 도넛 케이크</td>\n      <td>베이커리</td>\n      <td>케이크</td>\n      <td></td>\n      <td>40</td>\n      <td>g</td>\n      <td>40</td>\n      <td>-</td>\n      <td>12.0</td>\n      <td>40.0</td>\n      <td>30.0</td>\n    </tr>\n    <tr>\n      <th>11133</th>\n      <td>83722</td>\n      <td>오리지널케익먼치킨</td>\n      <td>베이커리</td>\n      <td>케이크</td>\n      <td></td>\n      <td>52</td>\n      <td>g</td>\n      <td>52</td>\n      <td>-</td>\n      <td>12.0</td>\n      <td>52.0</td>\n      <td>23.1</td>\n    </tr>\n    <tr>\n      <th>14094</th>\n      <td>10247</td>\n      <td>옥수수맛케익</td>\n      <td>베이커리</td>\n      <td>케이크</td>\n      <td></td>\n      <td>90</td>\n      <td>g</td>\n      <td>90</td>\n      <td>-</td>\n      <td>32.0</td>\n      <td>90.0</td>\n      <td>35.6</td>\n    </tr>\n    <tr>\n      <th>...</th>\n      <td>...</td>\n      <td>...</td>\n      <td>...</td>\n      <td>...</td>\n      <td>...</td>\n      <td>...</td>\n      <td>...</td>\n      <td>...</td>\n      <td>...</td>\n      <td>...</td>\n      <td>...</td>\n      <td>...</td>\n    </tr>\n    <tr>\n      <th>31540</th>\n      <td>84175</td>\n      <td>new 6호 3단 화이트케이크(다리포함)</td>\n      <td>베이커리</td>\n      <td>케이크</td>\n      <td></td>\n      <td>64</td>\n      <td>g</td>\n      <td>64</td>\n      <td>-</td>\n      <td>18.0</td>\n      <td>64.0</td>\n      <td>28.1</td>\n    </tr>\n    <tr>\n      <th>31554</th>\n      <td>84334</td>\n      <td>라푼젤 케이크</td>\n      <td>베이커리</td>\n      <td>케이크</td>\n      <td></td>\n      <td>940</td>\n      <td>g</td>\n      <td>-</td>\n      <td>940</td>\n      <td>21.0</td>\n      <td>940.0</td>\n      <td>2.2</td>\n    </tr>\n    <tr>\n      <th>31559</th>\n      <td>84524</td>\n      <td>캐롯 스틱케이크</td>\n      <td>베이커리</td>\n      <td>케이크</td>\n      <td></td>\n      <td>50</td>\n      <td>g</td>\n      <td>50</td>\n      <td>-</td>\n      <td>6.0</td>\n      <td>50.0</td>\n      <td>12.0</td>\n    </tr>\n    <tr>\n      <th>33739</th>\n      <td>83386</td>\n      <td>핫케익 3조각</td>\n      <td>베이커리</td>\n      <td>케이크</td>\n      <td></td>\n      <td>150</td>\n      <td>g</td>\n      <td>150</td>\n      <td>-</td>\n      <td>13.0</td>\n      <td>150.0</td>\n      <td>8.7</td>\n    </tr>\n    <tr>\n      <th>33740</th>\n      <td>83387</td>\n      <td>핫케익 2조각</td>\n      <td>베이커리</td>\n      <td>케이크</td>\n      <td></td>\n      <td>100</td>\n      <td>g</td>\n      <td>100</td>\n      <td>-</td>\n      <td>9.0</td>\n      <td>100.0</td>\n      <td>9.0</td>\n    </tr>\n  </tbody>\n</table>\n<p>265 rows × 12 columns</p>\n</div>"
     },
     "execution_count": 787,
     "metadata": {},
     "output_type": "execute_result"
    }
   ],
   "source": [
    "sheet.loc[(sheet['중분류'] == '케이크') & (sheet['대분류'] == '베이커리'), '소분류'] = ''\n",
    "# 케이크\n",
    "초콜릿케이크 = [\"가나슈\", \"초콜릿\", \"쵸콜릿\", \"초코\"]\n",
    "고구마케이크 = [\"고구마\"]\n",
    "녹차케이크 = [\"녹차\"]\n",
    "당근케이크 = [\"당근\"]\n",
    "레드벨벳케이크 = [\"레드벨벳\"]\n",
    "롤케이크 = [\"롤\"]\n",
    "바움쿠헨 = [\"바움쿠헨\"]\n",
    "생크림케이크 = [\"생크림\"]\n",
    "쉬폰케이크 = [\"쉬폰\"]\n",
    "쌀케이크 = [\"쌀\"]\n",
    "치즈케이크 = [\"치즈\"]\n",
    "파운드케이크 = [\"파운드\"]\n",
    "팬케이크 = [\"팬케이크\"]\n",
    "오렌지케이크 = [\"오렌지\"]\n",
    "레몬케이크 = [\"레몬\"]\n",
    "기타과일케이크 = [\"애플\", \"사과\", \"바나나\", \"망고\", \"파인애플\", \"황도\", \"한라봉\", \"유자\"]\n",
    "딸기케이크 = [\"딸기\", \"스트로베리\"]\n",
    "블루베리케이크 = [\"블루베리\"]\n",
    "크레이프케이크 = ['크레이프']\n",
    "밀크케이크 = ['우유', '밀크']\n",
    "\n",
    "케이크종류 = {\n",
    "\"초콜릿케이크\":초콜릿케이크,\n",
    "\"고구마케이크\":고구마케이크,\n",
    "\"녹차케이크\":녹차케이크,\n",
    "\"당근케이크\":당근케이크,\n",
    "\"레드벨벳케이크\":레드벨벳케이크,\n",
    "\"롤케이크\":롤케이크,\n",
    "\"바움쿠헨\":바움쿠헨,\n",
    "\"생크림케이크\":생크림케이크,\n",
    "\"쉬폰케이크\":쉬폰케이크,\n",
    "\"쌀케이크\":쌀케이크,\n",
    "\"치즈케이크\":치즈케이크,\n",
    "\"파운드케이크\":파운드케이크,\n",
    "\"팬케이크\":팬케이크,\n",
    "\"오렌지케이크\":오렌지케이크,\n",
    "\"레몬케이크\":레몬케이크,\n",
    "\"기타과일케이크\":기타과일케이크,\n",
    "\"딸기케이크\":딸기케이크,\n",
    "\"블루베리케이크\":블루베리케이크,\n",
    "\"크레이프케이크\":크레이프케이크,\n",
    "\"밀크케이크\":밀크케이크\n",
    "}\n",
    "\n",
    "seperated_category('케이크', 케이크종류)\n",
    "sheet.loc[(sheet['중분류'] == '케이크') & (sheet['소분류'] == \"\"), :]"
   ],
   "metadata": {
    "collapsed": false,
    "pycharm": {
     "name": "#%%\n"
    }
   }
  },
  {
   "cell_type": "code",
   "execution_count": 788,
   "outputs": [],
   "source": [
    "erase = list(sheet.loc[(sheet['중분류'] == '케이크') & (sheet['소분류'] == \"\"), :].index)\n",
    "for value in erase:\n",
    "    sheet = sheet.drop(value, axis=0)"
   ],
   "metadata": {
    "collapsed": false,
    "pycharm": {
     "name": "#%%\n"
    }
   }
  },
  {
   "cell_type": "code",
   "execution_count": 789,
   "outputs": [
    {
     "data": {
      "text/plain": "          No                  식품명   대분류  중분류      소분류  1회 제공량 용량 총내용량(g)  \\\n8285   16885              미니딸기파운드  베이커리  케이크    딸기케이크      85  g      85   \n8286   16886             미니바나나파운드  베이커리  케이크  기타과일케이크      85  g      85   \n8287   16888              미니초코파운드  베이커리  케이크   파운드케이크      85  g      85   \n8306   46543          마담정 쌀큐브 파운드  베이커리  케이크   파운드케이크     180  g     180   \n8343   47080  컴파운드케이K 발효홍삼정진액 타블렛  베이커리  케이크   파운드케이크      42  g      42   \n...      ...                  ...   ...  ...      ...     ... ..     ...   \n31552  84198      맛있게 뜯어먹는 순우유 쉬폰  베이커리  케이크    밀크케이크      62  g      62   \n31555  84336    띠띠뽀띠띠뽀 우유듬뿍 치즈케이크  베이커리  케이크    밀크케이크      34  g       -   \n31556  84521             치즈 스틱케이크  베이커리  케이크    치즈케이크      50  g      50   \n31557  84522             초코 스틱케이크  베이커리  케이크   초콜릿케이크      50  g      50   \n31558  84523           레드벨벳 스틱케이크  베이커리  케이크  레드벨벳케이크      30  g      30   \n\n      총내용량(ml)  총당류(g)   총내용량  단위용량 대비 설탕 비율  \n8285         -    25.0   85.0           29.4  \n8286         -    24.0   85.0           28.2  \n8287         -    26.0   85.0           30.6  \n8306         -    52.3  180.0           29.1  \n8343         -     3.0   42.0            7.1  \n...        ...     ...    ...            ...  \n31552        -    17.0   62.0           27.4  \n31555       34     7.0   34.0           20.6  \n31556        -     2.0   50.0            4.0  \n31557        -    12.0   50.0           24.0  \n31558        -     5.0   30.0           16.7  \n\n[1314 rows x 12 columns]",
      "text/html": "<div>\n<style scoped>\n    .dataframe tbody tr th:only-of-type {\n        vertical-align: middle;\n    }\n\n    .dataframe tbody tr th {\n        vertical-align: top;\n    }\n\n    .dataframe thead th {\n        text-align: right;\n    }\n</style>\n<table border=\"1\" class=\"dataframe\">\n  <thead>\n    <tr style=\"text-align: right;\">\n      <th></th>\n      <th>No</th>\n      <th>식품명</th>\n      <th>대분류</th>\n      <th>중분류</th>\n      <th>소분류</th>\n      <th>1회 제공량</th>\n      <th>용량</th>\n      <th>총내용량(g)</th>\n      <th>총내용량(ml)</th>\n      <th>총당류(g)</th>\n      <th>총내용량</th>\n      <th>단위용량 대비 설탕 비율</th>\n    </tr>\n  </thead>\n  <tbody>\n    <tr>\n      <th>8285</th>\n      <td>16885</td>\n      <td>미니딸기파운드</td>\n      <td>베이커리</td>\n      <td>케이크</td>\n      <td>딸기케이크</td>\n      <td>85</td>\n      <td>g</td>\n      <td>85</td>\n      <td>-</td>\n      <td>25.0</td>\n      <td>85.0</td>\n      <td>29.4</td>\n    </tr>\n    <tr>\n      <th>8286</th>\n      <td>16886</td>\n      <td>미니바나나파운드</td>\n      <td>베이커리</td>\n      <td>케이크</td>\n      <td>기타과일케이크</td>\n      <td>85</td>\n      <td>g</td>\n      <td>85</td>\n      <td>-</td>\n      <td>24.0</td>\n      <td>85.0</td>\n      <td>28.2</td>\n    </tr>\n    <tr>\n      <th>8287</th>\n      <td>16888</td>\n      <td>미니초코파운드</td>\n      <td>베이커리</td>\n      <td>케이크</td>\n      <td>파운드케이크</td>\n      <td>85</td>\n      <td>g</td>\n      <td>85</td>\n      <td>-</td>\n      <td>26.0</td>\n      <td>85.0</td>\n      <td>30.6</td>\n    </tr>\n    <tr>\n      <th>8306</th>\n      <td>46543</td>\n      <td>마담정 쌀큐브 파운드</td>\n      <td>베이커리</td>\n      <td>케이크</td>\n      <td>파운드케이크</td>\n      <td>180</td>\n      <td>g</td>\n      <td>180</td>\n      <td>-</td>\n      <td>52.3</td>\n      <td>180.0</td>\n      <td>29.1</td>\n    </tr>\n    <tr>\n      <th>8343</th>\n      <td>47080</td>\n      <td>컴파운드케이K 발효홍삼정진액 타블렛</td>\n      <td>베이커리</td>\n      <td>케이크</td>\n      <td>파운드케이크</td>\n      <td>42</td>\n      <td>g</td>\n      <td>42</td>\n      <td>-</td>\n      <td>3.0</td>\n      <td>42.0</td>\n      <td>7.1</td>\n    </tr>\n    <tr>\n      <th>...</th>\n      <td>...</td>\n      <td>...</td>\n      <td>...</td>\n      <td>...</td>\n      <td>...</td>\n      <td>...</td>\n      <td>...</td>\n      <td>...</td>\n      <td>...</td>\n      <td>...</td>\n      <td>...</td>\n      <td>...</td>\n    </tr>\n    <tr>\n      <th>31552</th>\n      <td>84198</td>\n      <td>맛있게 뜯어먹는 순우유 쉬폰</td>\n      <td>베이커리</td>\n      <td>케이크</td>\n      <td>밀크케이크</td>\n      <td>62</td>\n      <td>g</td>\n      <td>62</td>\n      <td>-</td>\n      <td>17.0</td>\n      <td>62.0</td>\n      <td>27.4</td>\n    </tr>\n    <tr>\n      <th>31555</th>\n      <td>84336</td>\n      <td>띠띠뽀띠띠뽀 우유듬뿍 치즈케이크</td>\n      <td>베이커리</td>\n      <td>케이크</td>\n      <td>밀크케이크</td>\n      <td>34</td>\n      <td>g</td>\n      <td>-</td>\n      <td>34</td>\n      <td>7.0</td>\n      <td>34.0</td>\n      <td>20.6</td>\n    </tr>\n    <tr>\n      <th>31556</th>\n      <td>84521</td>\n      <td>치즈 스틱케이크</td>\n      <td>베이커리</td>\n      <td>케이크</td>\n      <td>치즈케이크</td>\n      <td>50</td>\n      <td>g</td>\n      <td>50</td>\n      <td>-</td>\n      <td>2.0</td>\n      <td>50.0</td>\n      <td>4.0</td>\n    </tr>\n    <tr>\n      <th>31557</th>\n      <td>84522</td>\n      <td>초코 스틱케이크</td>\n      <td>베이커리</td>\n      <td>케이크</td>\n      <td>초콜릿케이크</td>\n      <td>50</td>\n      <td>g</td>\n      <td>50</td>\n      <td>-</td>\n      <td>12.0</td>\n      <td>50.0</td>\n      <td>24.0</td>\n    </tr>\n    <tr>\n      <th>31558</th>\n      <td>84523</td>\n      <td>레드벨벳 스틱케이크</td>\n      <td>베이커리</td>\n      <td>케이크</td>\n      <td>레드벨벳케이크</td>\n      <td>30</td>\n      <td>g</td>\n      <td>30</td>\n      <td>-</td>\n      <td>5.0</td>\n      <td>30.0</td>\n      <td>16.7</td>\n    </tr>\n  </tbody>\n</table>\n<p>1314 rows × 12 columns</p>\n</div>"
     },
     "execution_count": 789,
     "metadata": {},
     "output_type": "execute_result"
    }
   ],
   "source": [
    "sheet.loc[(sheet['중분류'] == '케이크') , :]"
   ],
   "metadata": {
    "collapsed": false,
    "pycharm": {
     "name": "#%%\n"
    }
   }
  },
  {
   "cell_type": "code",
   "execution_count": 790,
   "outputs": [],
   "source": [
    "def category_count_fn(middle_category):\n",
    "    dict = {}\n",
    "    for value in list(sheet.loc[sheet['중분류'] == middle_category, '소분류'].unique()):\n",
    "        dict[value] = len(sheet.loc[(sheet['중분류'] == middle_category) & (sheet['소분류'] == value), :])\n",
    "    return dict"
   ],
   "metadata": {
    "collapsed": false,
    "pycharm": {
     "name": "#%%\n"
    }
   }
  },
  {
   "cell_type": "code",
   "execution_count": 791,
   "outputs": [
    {
     "name": "stdout",
     "output_type": "stream",
     "text": [
      "{'고구마케이크': 38,\n",
      " '기타과일케이크': 92,\n",
      " '녹차케이크': 12,\n",
      " '당근케이크': 26,\n",
      " '딸기케이크': 98,\n",
      " '레드벨벳케이크': 11,\n",
      " '레몬케이크': 35,\n",
      " '롤케이크': 125,\n",
      " '밀크케이크': 57,\n",
      " '바움쿠헨': 30,\n",
      " '블루베리케이크': 61,\n",
      " '생크림케이크': 60,\n",
      " '쉬폰케이크': 33,\n",
      " '쌀케이크': 17,\n",
      " '오렌지케이크': 13,\n",
      " '초콜릿케이크': 125,\n",
      " '치즈케이크': 302,\n",
      " '크레이프케이크': 26,\n",
      " '파운드케이크': 153}\n"
     ]
    }
   ],
   "source": [
    "pp.pprint(category_count_fn('케이크'))"
   ],
   "metadata": {
    "collapsed": false,
    "pycharm": {
     "name": "#%%\n"
    }
   }
  },
  {
   "cell_type": "code",
   "execution_count": 792,
   "outputs": [
    {
     "data": {
      "text/plain": "Empty DataFrame\nColumns: [No, 식품명, 대분류, 중분류, 소분류, 1회 제공량, 용량, 총내용량(g), 총내용량(ml), 총당류(g), 총내용량, 단위용량 대비 설탕 비율]\nIndex: []",
      "text/html": "<div>\n<style scoped>\n    .dataframe tbody tr th:only-of-type {\n        vertical-align: middle;\n    }\n\n    .dataframe tbody tr th {\n        vertical-align: top;\n    }\n\n    .dataframe thead th {\n        text-align: right;\n    }\n</style>\n<table border=\"1\" class=\"dataframe\">\n  <thead>\n    <tr style=\"text-align: right;\">\n      <th></th>\n      <th>No</th>\n      <th>식품명</th>\n      <th>대분류</th>\n      <th>중분류</th>\n      <th>소분류</th>\n      <th>1회 제공량</th>\n      <th>용량</th>\n      <th>총내용량(g)</th>\n      <th>총내용량(ml)</th>\n      <th>총당류(g)</th>\n      <th>총내용량</th>\n      <th>단위용량 대비 설탕 비율</th>\n    </tr>\n  </thead>\n  <tbody>\n  </tbody>\n</table>\n</div>"
     },
     "execution_count": 792,
     "metadata": {},
     "output_type": "execute_result"
    }
   ],
   "source": [
    "sheet.loc[(sheet['중분류'] == '디저트') & (sheet['대분류'] == '베이커리'), '소분류'] = ''\n",
    "\n",
    "와플 = [\"와플\"]\n",
    "허니브레드 = [\"허니브레드\"]\n",
    "브라우니 = [\"브라우니\"]\n",
    "크럼블 = [\"크럼블\"]\n",
    "티라미수 = [\"티라미수\",\"티라미스\"]\n",
    "수플레 = [\"수플레\"]\n",
    "크로플 = [\"크로플\"]\n",
    "다쿠아즈 = [\"다쿠아즈\"]\n",
    "까눌레 = [\"까눌레\"]\n",
    "빨미까레 = [\"빨미까레\"]\n",
    "쇼콜라 = [\"쇼콜라\"]\n",
    "마들렌 = [\"마들렌\"]\n",
    "휘낭시에 = [\"휘낭시에\",\"피낭시에\"]\n",
    "파이 = [\"파이\"]\n",
    "마들렌 = [\"마들렌\"]\n",
    "팬케이크 = [\"팬케이크\"]\n",
    "모나카 = [\"모나카\"]\n",
    "머핀 = [\"머핀\"]\n",
    "무스 = [\"무스\"]\n",
    "마카롱 = [\"마카롱\",\"뚱카롱\"]\n",
    "호떡 = [\"호떡\"]\n",
    "앙버터 = [\"앙버터\"]\n",
    "마쉬멜로우 = ['마쉬멜로우']\n",
    "\n",
    "디저트종류 = {\n",
    "\"와플\":와플,\n",
    "\"허니브레드\":허니브레드,\n",
    "\"브라우니\":브라우니,\n",
    "\"크럼블\":크럼블,\n",
    "\"티라미수\":티라미수,\n",
    "\"수플레\":수플레,\n",
    "\"크로플\":크로플,\n",
    "\"다쿠아즈\":다쿠아즈,\n",
    "\"까눌레\":까눌레,\n",
    "\"빨미까레\":빨미까레,\n",
    "\"쇼콜라\":쇼콜라,\n",
    "\"마들렌\":마들렌,\n",
    "\"휘낭시에\":휘낭시에,\n",
    "\"파이\":파이,\n",
    "\"마들렌\":마들렌,\n",
    "\"팬케이크\":팬케이크,\n",
    "\"모나카\":모나카,\n",
    "\"머핀\":머핀,\n",
    "\"무스\":무스,\n",
    "\"마카롱\":마카롱,\n",
    "\"호떡\":호떡,\n",
    "\"앙버터\":앙버터,\n",
    "}\n",
    "\n",
    "\n",
    "seperated_category('디저트', 디저트종류)\n",
    "sheet.loc[(sheet['중분류'] == '디저트') & (sheet['소분류'] == \"\"), :]"
   ],
   "metadata": {
    "collapsed": false,
    "pycharm": {
     "name": "#%%\n"
    }
   }
  },
  {
   "cell_type": "code",
   "execution_count": 793,
   "outputs": [
    {
     "data": {
      "text/plain": "          No          식품명   대분류  중분류    소분류  1회 제공량 용량 총내용량(g) 총내용량(ml)  \\\n7810   78959        허니브레드  베이커리  디저트  허니브레드     245  g     245        -   \n7813   78967     티라미수 번버거  베이커리  디저트   티라미수     191  g     191        -   \n7814   78975      티라미수 샌디  베이커리  디저트   티라미수     297  g     297        -   \n7817   78978   클래식 플레인 와플  베이커리  디저트     와플     379  g     379        -   \n7818   78979  클래식 블루베리 와플  베이커리  디저트     와플     448  g     448        -   \n...      ...          ...   ...  ...    ...     ... ..     ...      ...   \n34047  85263   핫앤스파이시(BL)  베이커리  디저트     파이     165  g    1974        -   \n34048  85264    핫앤스파이시(L)  베이커리  디저트     파이     140  g    1118        -   \n34049  85265    핫앤스파이시(M)  베이커리  디저트     파이     121  g     725        -   \n34302  62334    딸기머핀치즈만도그  베이커리  디저트     머핀     100  g     500        -   \n34303  62335      딸기머핀핫도그  베이커리  디저트     머핀     100  g     700        -   \n\n       총당류(g)    총내용량  단위용량 대비 설탕 비율  \n7810     18.4   245.0            7.5  \n7813     30.5   191.0           16.0  \n7814     48.7   297.0           16.4  \n7817     70.9   379.0           18.7  \n7818     87.0   448.0           19.4  \n...       ...     ...            ...  \n34047     7.0  1974.0            4.2  \n34048     6.0  1118.0            4.3  \n34049     5.0   725.0            4.1  \n34302    13.0   500.0           13.0  \n34303    12.0   700.0           12.0  \n\n[1835 rows x 12 columns]",
      "text/html": "<div>\n<style scoped>\n    .dataframe tbody tr th:only-of-type {\n        vertical-align: middle;\n    }\n\n    .dataframe tbody tr th {\n        vertical-align: top;\n    }\n\n    .dataframe thead th {\n        text-align: right;\n    }\n</style>\n<table border=\"1\" class=\"dataframe\">\n  <thead>\n    <tr style=\"text-align: right;\">\n      <th></th>\n      <th>No</th>\n      <th>식품명</th>\n      <th>대분류</th>\n      <th>중분류</th>\n      <th>소분류</th>\n      <th>1회 제공량</th>\n      <th>용량</th>\n      <th>총내용량(g)</th>\n      <th>총내용량(ml)</th>\n      <th>총당류(g)</th>\n      <th>총내용량</th>\n      <th>단위용량 대비 설탕 비율</th>\n    </tr>\n  </thead>\n  <tbody>\n    <tr>\n      <th>7810</th>\n      <td>78959</td>\n      <td>허니브레드</td>\n      <td>베이커리</td>\n      <td>디저트</td>\n      <td>허니브레드</td>\n      <td>245</td>\n      <td>g</td>\n      <td>245</td>\n      <td>-</td>\n      <td>18.4</td>\n      <td>245.0</td>\n      <td>7.5</td>\n    </tr>\n    <tr>\n      <th>7813</th>\n      <td>78967</td>\n      <td>티라미수 번버거</td>\n      <td>베이커리</td>\n      <td>디저트</td>\n      <td>티라미수</td>\n      <td>191</td>\n      <td>g</td>\n      <td>191</td>\n      <td>-</td>\n      <td>30.5</td>\n      <td>191.0</td>\n      <td>16.0</td>\n    </tr>\n    <tr>\n      <th>7814</th>\n      <td>78975</td>\n      <td>티라미수 샌디</td>\n      <td>베이커리</td>\n      <td>디저트</td>\n      <td>티라미수</td>\n      <td>297</td>\n      <td>g</td>\n      <td>297</td>\n      <td>-</td>\n      <td>48.7</td>\n      <td>297.0</td>\n      <td>16.4</td>\n    </tr>\n    <tr>\n      <th>7817</th>\n      <td>78978</td>\n      <td>클래식 플레인 와플</td>\n      <td>베이커리</td>\n      <td>디저트</td>\n      <td>와플</td>\n      <td>379</td>\n      <td>g</td>\n      <td>379</td>\n      <td>-</td>\n      <td>70.9</td>\n      <td>379.0</td>\n      <td>18.7</td>\n    </tr>\n    <tr>\n      <th>7818</th>\n      <td>78979</td>\n      <td>클래식 블루베리 와플</td>\n      <td>베이커리</td>\n      <td>디저트</td>\n      <td>와플</td>\n      <td>448</td>\n      <td>g</td>\n      <td>448</td>\n      <td>-</td>\n      <td>87.0</td>\n      <td>448.0</td>\n      <td>19.4</td>\n    </tr>\n    <tr>\n      <th>...</th>\n      <td>...</td>\n      <td>...</td>\n      <td>...</td>\n      <td>...</td>\n      <td>...</td>\n      <td>...</td>\n      <td>...</td>\n      <td>...</td>\n      <td>...</td>\n      <td>...</td>\n      <td>...</td>\n      <td>...</td>\n    </tr>\n    <tr>\n      <th>34047</th>\n      <td>85263</td>\n      <td>핫앤스파이시(BL)</td>\n      <td>베이커리</td>\n      <td>디저트</td>\n      <td>파이</td>\n      <td>165</td>\n      <td>g</td>\n      <td>1974</td>\n      <td>-</td>\n      <td>7.0</td>\n      <td>1974.0</td>\n      <td>4.2</td>\n    </tr>\n    <tr>\n      <th>34048</th>\n      <td>85264</td>\n      <td>핫앤스파이시(L)</td>\n      <td>베이커리</td>\n      <td>디저트</td>\n      <td>파이</td>\n      <td>140</td>\n      <td>g</td>\n      <td>1118</td>\n      <td>-</td>\n      <td>6.0</td>\n      <td>1118.0</td>\n      <td>4.3</td>\n    </tr>\n    <tr>\n      <th>34049</th>\n      <td>85265</td>\n      <td>핫앤스파이시(M)</td>\n      <td>베이커리</td>\n      <td>디저트</td>\n      <td>파이</td>\n      <td>121</td>\n      <td>g</td>\n      <td>725</td>\n      <td>-</td>\n      <td>5.0</td>\n      <td>725.0</td>\n      <td>4.1</td>\n    </tr>\n    <tr>\n      <th>34302</th>\n      <td>62334</td>\n      <td>딸기머핀치즈만도그</td>\n      <td>베이커리</td>\n      <td>디저트</td>\n      <td>머핀</td>\n      <td>100</td>\n      <td>g</td>\n      <td>500</td>\n      <td>-</td>\n      <td>13.0</td>\n      <td>500.0</td>\n      <td>13.0</td>\n    </tr>\n    <tr>\n      <th>34303</th>\n      <td>62335</td>\n      <td>딸기머핀핫도그</td>\n      <td>베이커리</td>\n      <td>디저트</td>\n      <td>머핀</td>\n      <td>100</td>\n      <td>g</td>\n      <td>700</td>\n      <td>-</td>\n      <td>12.0</td>\n      <td>700.0</td>\n      <td>12.0</td>\n    </tr>\n  </tbody>\n</table>\n<p>1835 rows × 12 columns</p>\n</div>"
     },
     "execution_count": 793,
     "metadata": {},
     "output_type": "execute_result"
    }
   ],
   "source": [
    "sheet.loc[(sheet['중분류'] == '디저트') , :]"
   ],
   "metadata": {
    "collapsed": false,
    "pycharm": {
     "name": "#%%\n"
    }
   }
  },
  {
   "cell_type": "code",
   "execution_count": 794,
   "outputs": [],
   "source": [
    "erase = list(sheet.loc[(sheet['중분류'] == '케이크') & (sheet['소분류'] == \"\"), :].index)\n",
    "for value in erase:\n",
    "    sheet = sheet.drop(value, axis=0)"
   ],
   "metadata": {
    "collapsed": false,
    "pycharm": {
     "name": "#%%\n"
    }
   }
  },
  {
   "cell_type": "code",
   "execution_count": 795,
   "outputs": [],
   "source": [
    "sheet.loc[(sheet['대분류'] == '베이커리') & (sheet['식품명'].str.contains('마쉬멜로우')), '소분류'] = '마쉬멜로우'\n",
    "sheet.loc[(sheet['대분류'] == '베이커리') & (sheet['식품명'].str.contains('마쉬멜로우')), '중분류'] = '디저트'\n",
    "# sheet.loc[(sheet['중분류'] == '디저트') & (sheet['식품명'].str.contains('티라미스')), '소분류'] = '티라미수'\n",
    "# sheet.loc[(sheet['중분류'] == '디저트') & (sheet['식품명'].str.contains('뚱카롱')), '소분류'] = '마카롱'"
   ],
   "metadata": {
    "collapsed": false,
    "pycharm": {
     "name": "#%%\n"
    }
   }
  },
  {
   "cell_type": "code",
   "execution_count": 796,
   "outputs": [
    {
     "name": "stdout",
     "output_type": "stream",
     "text": [
      "{'까눌레': 10,\n",
      " '다쿠아즈': 29,\n",
      " '마들렌': 86,\n",
      " '마쉬멜로우': 1,\n",
      " '마카롱': 322,\n",
      " '머핀': 232,\n",
      " '모나카': 29,\n",
      " '무스': 98,\n",
      " '브라우니': 80,\n",
      " '빨미까레': 9,\n",
      " '쇼콜라': 144,\n",
      " '수플레': 21,\n",
      " '앙버터': 19,\n",
      " '와플': 75,\n",
      " '크럼블': 6,\n",
      " '크로플': 16,\n",
      " '티라미수': 161,\n",
      " '파이': 311,\n",
      " '팬케이크': 16,\n",
      " '허니브레드': 22,\n",
      " '호떡': 104,\n",
      " '휘낭시에': 45}\n"
     ]
    }
   ],
   "source": [
    "pp.pprint(category_count_fn('디저트'))"
   ],
   "metadata": {
    "collapsed": false,
    "pycharm": {
     "name": "#%%\n"
    }
   }
  },
  {
   "cell_type": "code",
   "execution_count": 797,
   "outputs": [
    {
     "data": {
      "text/plain": "Empty DataFrame\nColumns: [No, 식품명, 대분류, 중분류, 소분류, 1회 제공량, 용량, 총내용량(g), 총내용량(ml), 총당류(g), 총내용량, 단위용량 대비 설탕 비율]\nIndex: []",
      "text/html": "<div>\n<style scoped>\n    .dataframe tbody tr th:only-of-type {\n        vertical-align: middle;\n    }\n\n    .dataframe tbody tr th {\n        vertical-align: top;\n    }\n\n    .dataframe thead th {\n        text-align: right;\n    }\n</style>\n<table border=\"1\" class=\"dataframe\">\n  <thead>\n    <tr style=\"text-align: right;\">\n      <th></th>\n      <th>No</th>\n      <th>식품명</th>\n      <th>대분류</th>\n      <th>중분류</th>\n      <th>소분류</th>\n      <th>1회 제공량</th>\n      <th>용량</th>\n      <th>총내용량(g)</th>\n      <th>총내용량(ml)</th>\n      <th>총당류(g)</th>\n      <th>총내용량</th>\n      <th>단위용량 대비 설탕 비율</th>\n    </tr>\n  </thead>\n  <tbody>\n  </tbody>\n</table>\n</div>"
     },
     "execution_count": 797,
     "metadata": {},
     "output_type": "execute_result"
    }
   ],
   "source": [
    "샌드위치 = ['샌드위치']\n",
    "\n",
    "for value in 샌드위치:\n",
    "    sheet.loc[(sheet['중분류'] == '샌드위치') & (sheet['식품명'].str.contains(value)), '소분류'] = value\n",
    "\n",
    "sheet.loc[(sheet['중분류'] == '샌드위치') & (sheet['소분류'] == \"\"), :]"
   ],
   "metadata": {
    "collapsed": false,
    "pycharm": {
     "name": "#%%\n"
    }
   }
  },
  {
   "cell_type": "code",
   "execution_count": 798,
   "outputs": [
    {
     "name": "stdout",
     "output_type": "stream",
     "text": [
      "{'샌드위치': 124}\n"
     ]
    }
   ],
   "source": [
    "pp.pprint(category_count_fn('샌드위치'))"
   ],
   "metadata": {
    "collapsed": false,
    "pycharm": {
     "name": "#%%\n"
    }
   }
  },
  {
   "cell_type": "code",
   "execution_count": 799,
   "outputs": [
    {
     "data": {
      "text/plain": "          No             식품명   대분류  중분류    소분류  1회 제공량 용량 총내용량(g) 총내용량(ml)  \\\n7803   78740       치즈볼&바게트스틱  베이커리  식사빵    바게트     290  g     290        -   \n7804   78742           바게트스틱  베이커리  식사빵    바게트      85  g      85        -   \n7805   78750           브래드스틱  베이커리  식사빵     스틱     220  g     220        -   \n7807   78954        플레인 에그디쉬  베이커리  간식빵  에그데니쉬     172  g     172        -   \n7808   78955       블루베리 에그디쉬  베이커리  간식빵  에그데니쉬     202  g     202        -   \n...      ...             ...   ...  ...    ...     ... ..     ...      ...   \n34330  64725     라퀴진 큐브감자핫도그  베이커리  간식빵    감자빵      90  g     450        -   \n34363  66295   보송보송 카스테라 핫도그  베이커리  간식빵   카스테라     100  g     900        -   \n34367  67113           감자핫도그  베이커리  간식빵    감자빵     130  g    1300        -   \n34374  67834           감자핫도그  베이커리  간식빵    감자빵     125  g     625        -   \n34377  67837  푸딩분식 옛날감자치즈핫도그  베이커리  간식빵    감자빵     150  g     750        -   \n\n       총당류(g)    총내용량  단위용량 대비 설탕 비율  \n7803    39.00   290.0           13.4  \n7804    11.00    85.0           12.9  \n7805     8.00   220.0            3.6  \n7807    26.50   172.0           15.4  \n7808    30.10   202.0           14.9  \n...       ...     ...            ...  \n34330    4.00   450.0            4.4  \n34363    3.68   900.0            3.7  \n34367    4.00  1300.0            3.1  \n34374    5.00   625.0            4.0  \n34377   11.00   750.0            7.3  \n\n[7595 rows x 12 columns]",
      "text/html": "<div>\n<style scoped>\n    .dataframe tbody tr th:only-of-type {\n        vertical-align: middle;\n    }\n\n    .dataframe tbody tr th {\n        vertical-align: top;\n    }\n\n    .dataframe thead th {\n        text-align: right;\n    }\n</style>\n<table border=\"1\" class=\"dataframe\">\n  <thead>\n    <tr style=\"text-align: right;\">\n      <th></th>\n      <th>No</th>\n      <th>식품명</th>\n      <th>대분류</th>\n      <th>중분류</th>\n      <th>소분류</th>\n      <th>1회 제공량</th>\n      <th>용량</th>\n      <th>총내용량(g)</th>\n      <th>총내용량(ml)</th>\n      <th>총당류(g)</th>\n      <th>총내용량</th>\n      <th>단위용량 대비 설탕 비율</th>\n    </tr>\n  </thead>\n  <tbody>\n    <tr>\n      <th>7803</th>\n      <td>78740</td>\n      <td>치즈볼&amp;바게트스틱</td>\n      <td>베이커리</td>\n      <td>식사빵</td>\n      <td>바게트</td>\n      <td>290</td>\n      <td>g</td>\n      <td>290</td>\n      <td>-</td>\n      <td>39.00</td>\n      <td>290.0</td>\n      <td>13.4</td>\n    </tr>\n    <tr>\n      <th>7804</th>\n      <td>78742</td>\n      <td>바게트스틱</td>\n      <td>베이커리</td>\n      <td>식사빵</td>\n      <td>바게트</td>\n      <td>85</td>\n      <td>g</td>\n      <td>85</td>\n      <td>-</td>\n      <td>11.00</td>\n      <td>85.0</td>\n      <td>12.9</td>\n    </tr>\n    <tr>\n      <th>7805</th>\n      <td>78750</td>\n      <td>브래드스틱</td>\n      <td>베이커리</td>\n      <td>식사빵</td>\n      <td>스틱</td>\n      <td>220</td>\n      <td>g</td>\n      <td>220</td>\n      <td>-</td>\n      <td>8.00</td>\n      <td>220.0</td>\n      <td>3.6</td>\n    </tr>\n    <tr>\n      <th>7807</th>\n      <td>78954</td>\n      <td>플레인 에그디쉬</td>\n      <td>베이커리</td>\n      <td>간식빵</td>\n      <td>에그데니쉬</td>\n      <td>172</td>\n      <td>g</td>\n      <td>172</td>\n      <td>-</td>\n      <td>26.50</td>\n      <td>172.0</td>\n      <td>15.4</td>\n    </tr>\n    <tr>\n      <th>7808</th>\n      <td>78955</td>\n      <td>블루베리 에그디쉬</td>\n      <td>베이커리</td>\n      <td>간식빵</td>\n      <td>에그데니쉬</td>\n      <td>202</td>\n      <td>g</td>\n      <td>202</td>\n      <td>-</td>\n      <td>30.10</td>\n      <td>202.0</td>\n      <td>14.9</td>\n    </tr>\n    <tr>\n      <th>...</th>\n      <td>...</td>\n      <td>...</td>\n      <td>...</td>\n      <td>...</td>\n      <td>...</td>\n      <td>...</td>\n      <td>...</td>\n      <td>...</td>\n      <td>...</td>\n      <td>...</td>\n      <td>...</td>\n      <td>...</td>\n    </tr>\n    <tr>\n      <th>34330</th>\n      <td>64725</td>\n      <td>라퀴진 큐브감자핫도그</td>\n      <td>베이커리</td>\n      <td>간식빵</td>\n      <td>감자빵</td>\n      <td>90</td>\n      <td>g</td>\n      <td>450</td>\n      <td>-</td>\n      <td>4.00</td>\n      <td>450.0</td>\n      <td>4.4</td>\n    </tr>\n    <tr>\n      <th>34363</th>\n      <td>66295</td>\n      <td>보송보송 카스테라 핫도그</td>\n      <td>베이커리</td>\n      <td>간식빵</td>\n      <td>카스테라</td>\n      <td>100</td>\n      <td>g</td>\n      <td>900</td>\n      <td>-</td>\n      <td>3.68</td>\n      <td>900.0</td>\n      <td>3.7</td>\n    </tr>\n    <tr>\n      <th>34367</th>\n      <td>67113</td>\n      <td>감자핫도그</td>\n      <td>베이커리</td>\n      <td>간식빵</td>\n      <td>감자빵</td>\n      <td>130</td>\n      <td>g</td>\n      <td>1300</td>\n      <td>-</td>\n      <td>4.00</td>\n      <td>1300.0</td>\n      <td>3.1</td>\n    </tr>\n    <tr>\n      <th>34374</th>\n      <td>67834</td>\n      <td>감자핫도그</td>\n      <td>베이커리</td>\n      <td>간식빵</td>\n      <td>감자빵</td>\n      <td>125</td>\n      <td>g</td>\n      <td>625</td>\n      <td>-</td>\n      <td>5.00</td>\n      <td>625.0</td>\n      <td>4.0</td>\n    </tr>\n    <tr>\n      <th>34377</th>\n      <td>67837</td>\n      <td>푸딩분식 옛날감자치즈핫도그</td>\n      <td>베이커리</td>\n      <td>간식빵</td>\n      <td>감자빵</td>\n      <td>150</td>\n      <td>g</td>\n      <td>750</td>\n      <td>-</td>\n      <td>11.00</td>\n      <td>750.0</td>\n      <td>7.3</td>\n    </tr>\n  </tbody>\n</table>\n<p>7595 rows × 12 columns</p>\n</div>"
     },
     "execution_count": 799,
     "metadata": {},
     "output_type": "execute_result"
    }
   ],
   "source": [
    "sheet.loc[(sheet['대분류'] == '베이커리'), :]"
   ],
   "metadata": {
    "collapsed": false,
    "pycharm": {
     "name": "#%%\n"
    }
   }
  },
  {
   "cell_type": "code",
   "execution_count": 800,
   "outputs": [
    {
     "data": {
      "text/plain": "Empty DataFrame\nColumns: [No, 식품명, 대분류, 중분류, 소분류, 1회 제공량, 용량, 총내용량(g), 총내용량(ml), 총당류(g), 총내용량, 단위용량 대비 설탕 비율]\nIndex: []",
      "text/html": "<div>\n<style scoped>\n    .dataframe tbody tr th:only-of-type {\n        vertical-align: middle;\n    }\n\n    .dataframe tbody tr th {\n        vertical-align: top;\n    }\n\n    .dataframe thead th {\n        text-align: right;\n    }\n</style>\n<table border=\"1\" class=\"dataframe\">\n  <thead>\n    <tr style=\"text-align: right;\">\n      <th></th>\n      <th>No</th>\n      <th>식품명</th>\n      <th>대분류</th>\n      <th>중분류</th>\n      <th>소분류</th>\n      <th>1회 제공량</th>\n      <th>용량</th>\n      <th>총내용량(g)</th>\n      <th>총내용량(ml)</th>\n      <th>총당류(g)</th>\n      <th>총내용량</th>\n      <th>단위용량 대비 설탕 비율</th>\n    </tr>\n  </thead>\n  <tbody>\n  </tbody>\n</table>\n</div>"
     },
     "execution_count": 800,
     "metadata": {},
     "output_type": "execute_result"
    }
   ],
   "source": [
    "sheet.loc[(sheet['대분류'] == '베이커리' ) & (sheet['소분류'] == '소보로'), :]"
   ],
   "metadata": {
    "collapsed": false,
    "pycharm": {
     "name": "#%%\n"
    }
   }
  },
  {
   "cell_type": "code",
   "execution_count": 801,
   "outputs": [
    {
     "data": {
      "text/plain": "array(['에그데니쉬', '번', '볼', '슈', '스콘', '옥수수빵', '타르트', '브리오슈', '롤', '쌀빵',\n       '소보루', '꽈배기', '치즈빵', '밀빵', '고로케', '효모빵', '피자빵', '파니니', '소시지빵',\n       '고구마빵', '밤빵', '커피빵', '찰떡빵', '모카빵', '맘모스', '메론빵', '깨찰빵', '트위스트',\n       '감자빵', '찐빵', '팥빵', '크림빵', '앙금빵', '경주빵', '크레이', '샌드', '페스츄리', '소라빵',\n       '만쥬', '유자빵', '카스타드', '호빵', '찰보리빵', '크레페', '도넛', '매화빵', '크루와상',\n       '붕어빵', '카스테라', '프레즐'], dtype=object)"
     },
     "execution_count": 801,
     "metadata": {},
     "output_type": "execute_result"
    }
   ],
   "source": [
    "sheet.loc[(sheet['대분류'] == '베이커리' ) & (sheet['중분류'] == '간식빵'), '소분류'].unique()"
   ],
   "metadata": {
    "collapsed": false,
    "pycharm": {
     "name": "#%%\n"
    }
   }
  },
  {
   "cell_type": "code",
   "execution_count": 802,
   "outputs": [],
   "source": [
    "# sheet.loc[(sheet['대분류'] == '베이커리' ) & (sheet['소분류'] == '크레이'), '소분류'] = '크레페'\n",
    "# sheet.loc[(sheet['대분류'] == '베이커리' ) & (sheet['소분류'] == '크로와상'), '소분류'] = '크루와상'\n",
    "# sheet.loc[(sheet['대분류'] == '베이커리' ) & (sheet['소분류'] == '소보루'), '소분류'] = '소보로'"
   ],
   "metadata": {
    "collapsed": false,
    "pycharm": {
     "name": "#%%\n"
    }
   }
  },
  {
   "cell_type": "code",
   "execution_count": 803,
   "outputs": [],
   "source": [
    "# delete = list(sheet.loc[(sheet['대분류'] == '베이커리' ) & (sheet['소분류'] == '콘'), :].index)\n",
    "# for value in delete:\n",
    "#     sheet = sheet.drop(value, axis=0)"
   ],
   "metadata": {
    "collapsed": false,
    "pycharm": {
     "name": "#%%\n"
    }
   }
  },
  {
   "cell_type": "code",
   "execution_count": 804,
   "outputs": [
    {
     "data": {
      "text/plain": "          No             식품명   대분류  중분류    소분류  1회 제공량 용량 총내용량(g) 총내용량(ml)  \\\n7803   78740       치즈볼&바게트스틱  베이커리  식사빵    바게트     290  g     290        -   \n7804   78742           바게트스틱  베이커리  식사빵    바게트      85  g      85        -   \n7805   78750           브래드스틱  베이커리  식사빵     스틱     220  g     220        -   \n7807   78954        플레인 에그디쉬  베이커리  간식빵  에그데니쉬     172  g     172        -   \n7808   78955       블루베리 에그디쉬  베이커리  간식빵  에그데니쉬     202  g     202        -   \n...      ...             ...   ...  ...    ...     ... ..     ...      ...   \n34330  64725     라퀴진 큐브감자핫도그  베이커리  간식빵    감자빵      90  g     450        -   \n34363  66295   보송보송 카스테라 핫도그  베이커리  간식빵   카스테라     100  g     900        -   \n34367  67113           감자핫도그  베이커리  간식빵    감자빵     130  g    1300        -   \n34374  67834           감자핫도그  베이커리  간식빵    감자빵     125  g     625        -   \n34377  67837  푸딩분식 옛날감자치즈핫도그  베이커리  간식빵    감자빵     150  g     750        -   \n\n       총당류(g)    총내용량  단위용량 대비 설탕 비율  \n7803    39.00   290.0           13.4  \n7804    11.00    85.0           12.9  \n7805     8.00   220.0            3.6  \n7807    26.50   172.0           15.4  \n7808    30.10   202.0           14.9  \n...       ...     ...            ...  \n34330    4.00   450.0            4.4  \n34363    3.68   900.0            3.7  \n34367    4.00  1300.0            3.1  \n34374    5.00   625.0            4.0  \n34377   11.00   750.0            7.3  \n\n[7595 rows x 12 columns]",
      "text/html": "<div>\n<style scoped>\n    .dataframe tbody tr th:only-of-type {\n        vertical-align: middle;\n    }\n\n    .dataframe tbody tr th {\n        vertical-align: top;\n    }\n\n    .dataframe thead th {\n        text-align: right;\n    }\n</style>\n<table border=\"1\" class=\"dataframe\">\n  <thead>\n    <tr style=\"text-align: right;\">\n      <th></th>\n      <th>No</th>\n      <th>식품명</th>\n      <th>대분류</th>\n      <th>중분류</th>\n      <th>소분류</th>\n      <th>1회 제공량</th>\n      <th>용량</th>\n      <th>총내용량(g)</th>\n      <th>총내용량(ml)</th>\n      <th>총당류(g)</th>\n      <th>총내용량</th>\n      <th>단위용량 대비 설탕 비율</th>\n    </tr>\n  </thead>\n  <tbody>\n    <tr>\n      <th>7803</th>\n      <td>78740</td>\n      <td>치즈볼&amp;바게트스틱</td>\n      <td>베이커리</td>\n      <td>식사빵</td>\n      <td>바게트</td>\n      <td>290</td>\n      <td>g</td>\n      <td>290</td>\n      <td>-</td>\n      <td>39.00</td>\n      <td>290.0</td>\n      <td>13.4</td>\n    </tr>\n    <tr>\n      <th>7804</th>\n      <td>78742</td>\n      <td>바게트스틱</td>\n      <td>베이커리</td>\n      <td>식사빵</td>\n      <td>바게트</td>\n      <td>85</td>\n      <td>g</td>\n      <td>85</td>\n      <td>-</td>\n      <td>11.00</td>\n      <td>85.0</td>\n      <td>12.9</td>\n    </tr>\n    <tr>\n      <th>7805</th>\n      <td>78750</td>\n      <td>브래드스틱</td>\n      <td>베이커리</td>\n      <td>식사빵</td>\n      <td>스틱</td>\n      <td>220</td>\n      <td>g</td>\n      <td>220</td>\n      <td>-</td>\n      <td>8.00</td>\n      <td>220.0</td>\n      <td>3.6</td>\n    </tr>\n    <tr>\n      <th>7807</th>\n      <td>78954</td>\n      <td>플레인 에그디쉬</td>\n      <td>베이커리</td>\n      <td>간식빵</td>\n      <td>에그데니쉬</td>\n      <td>172</td>\n      <td>g</td>\n      <td>172</td>\n      <td>-</td>\n      <td>26.50</td>\n      <td>172.0</td>\n      <td>15.4</td>\n    </tr>\n    <tr>\n      <th>7808</th>\n      <td>78955</td>\n      <td>블루베리 에그디쉬</td>\n      <td>베이커리</td>\n      <td>간식빵</td>\n      <td>에그데니쉬</td>\n      <td>202</td>\n      <td>g</td>\n      <td>202</td>\n      <td>-</td>\n      <td>30.10</td>\n      <td>202.0</td>\n      <td>14.9</td>\n    </tr>\n    <tr>\n      <th>...</th>\n      <td>...</td>\n      <td>...</td>\n      <td>...</td>\n      <td>...</td>\n      <td>...</td>\n      <td>...</td>\n      <td>...</td>\n      <td>...</td>\n      <td>...</td>\n      <td>...</td>\n      <td>...</td>\n      <td>...</td>\n    </tr>\n    <tr>\n      <th>34330</th>\n      <td>64725</td>\n      <td>라퀴진 큐브감자핫도그</td>\n      <td>베이커리</td>\n      <td>간식빵</td>\n      <td>감자빵</td>\n      <td>90</td>\n      <td>g</td>\n      <td>450</td>\n      <td>-</td>\n      <td>4.00</td>\n      <td>450.0</td>\n      <td>4.4</td>\n    </tr>\n    <tr>\n      <th>34363</th>\n      <td>66295</td>\n      <td>보송보송 카스테라 핫도그</td>\n      <td>베이커리</td>\n      <td>간식빵</td>\n      <td>카스테라</td>\n      <td>100</td>\n      <td>g</td>\n      <td>900</td>\n      <td>-</td>\n      <td>3.68</td>\n      <td>900.0</td>\n      <td>3.7</td>\n    </tr>\n    <tr>\n      <th>34367</th>\n      <td>67113</td>\n      <td>감자핫도그</td>\n      <td>베이커리</td>\n      <td>간식빵</td>\n      <td>감자빵</td>\n      <td>130</td>\n      <td>g</td>\n      <td>1300</td>\n      <td>-</td>\n      <td>4.00</td>\n      <td>1300.0</td>\n      <td>3.1</td>\n    </tr>\n    <tr>\n      <th>34374</th>\n      <td>67834</td>\n      <td>감자핫도그</td>\n      <td>베이커리</td>\n      <td>간식빵</td>\n      <td>감자빵</td>\n      <td>125</td>\n      <td>g</td>\n      <td>625</td>\n      <td>-</td>\n      <td>5.00</td>\n      <td>625.0</td>\n      <td>4.0</td>\n    </tr>\n    <tr>\n      <th>34377</th>\n      <td>67837</td>\n      <td>푸딩분식 옛날감자치즈핫도그</td>\n      <td>베이커리</td>\n      <td>간식빵</td>\n      <td>감자빵</td>\n      <td>150</td>\n      <td>g</td>\n      <td>750</td>\n      <td>-</td>\n      <td>11.00</td>\n      <td>750.0</td>\n      <td>7.3</td>\n    </tr>\n  </tbody>\n</table>\n<p>7595 rows × 12 columns</p>\n</div>"
     },
     "execution_count": 804,
     "metadata": {},
     "output_type": "execute_result"
    }
   ],
   "source": [
    "sheet[sheet['대분류'] == '베이커리']"
   ],
   "metadata": {
    "collapsed": false,
    "pycharm": {
     "name": "#%%\n"
    }
   }
  },
  {
   "cell_type": "code",
   "execution_count": 804,
   "outputs": [],
   "source": [],
   "metadata": {
    "collapsed": false,
    "pycharm": {
     "name": "#%%\n"
    }
   }
  },
  {
   "cell_type": "code",
   "execution_count": 805,
   "outputs": [],
   "source": [
    "sheet.to_csv('../../베이커리정제(final).csv')"
   ],
   "metadata": {
    "collapsed": false,
    "pycharm": {
     "name": "#%%\n"
    }
   }
  },
  {
   "cell_type": "code",
   "execution_count": 805,
   "outputs": [],
   "source": [],
   "metadata": {
    "collapsed": false,
    "pycharm": {
     "name": "#%%\n"
    }
   }
  },
  {
   "cell_type": "code",
   "execution_count": 545,
   "outputs": [],
   "source": [],
   "metadata": {
    "collapsed": false,
    "pycharm": {
     "name": "#%%\n"
    }
   }
  },
  {
   "cell_type": "code",
   "execution_count": 545,
   "outputs": [],
   "source": [],
   "metadata": {
    "collapsed": false,
    "pycharm": {
     "name": "#%%\n"
    }
   }
  },
  {
   "cell_type": "code",
   "execution_count": null,
   "outputs": [],
   "source": [],
   "metadata": {
    "collapsed": false,
    "pycharm": {
     "name": "#%%\n"
    }
   }
  }
 ],
 "metadata": {
  "kernelspec": {
   "display_name": "Python 3",
   "language": "python",
   "name": "python3"
  },
  "language_info": {
   "codemirror_mode": {
    "name": "ipython",
    "version": 2
   },
   "file_extension": ".py",
   "mimetype": "text/x-python",
   "name": "python",
   "nbconvert_exporter": "python",
   "pygments_lexer": "ipython2",
   "version": "2.7.6"
  }
 },
 "nbformat": 4,
 "nbformat_minor": 0
}