{
 "cells": [
  {
   "cell_type": "code",
   "execution_count": 505,
   "outputs": [
    {
     "name": "stdout",
     "output_type": "stream",
     "text": [
      "<class 'pandas.core.frame.DataFrame'>\n",
      "RangeIndex: 36455 entries, 0 to 36454\n",
      "Data columns (total 13 columns):\n",
      " #   Column         Non-Null Count  Dtype  \n",
      "---  ------         --------------  -----  \n",
      " 0   No             36455 non-null  int64  \n",
      " 1   식품명            36455 non-null  object \n",
      " 2   대분류            36455 non-null  object \n",
      " 3   중분류            36455 non-null  object \n",
      " 4   소분류            36455 non-null  object \n",
      " 5   1회 제공량         36455 non-null  int64  \n",
      " 6   용량             36455 non-null  object \n",
      " 7   총내용량(g)        36455 non-null  object \n",
      " 8   총내용량(ml)       36455 non-null  object \n",
      " 9   총당류(g)         36455 non-null  float64\n",
      " 10  총내용량           36455 non-null  float64\n",
      " 11  단위용량 대비 설탕 비율  36455 non-null  float64\n",
      " 12  설탕비율의 소분류 평균값  36455 non-null  float64\n",
      "dtypes: float64(4), int64(2), object(7)\n",
      "memory usage: 3.6+ MB\n"
     ]
    }
   ],
   "source": [
    "import pandas as pd\n",
    "import numpy as np\n",
    "\n",
    "import pprint as pp\n",
    "\n",
    "sheet = pd.read_csv(\"/Users/raven/Desktop/programming/유가공품정제(final).csv\")\n",
    "sheet = sheet.drop('Unnamed: 0', axis=1)\n",
    "\n",
    "\n",
    "def category_count_fn(middle_category):\n",
    "    dict = {}\n",
    "    for value in list(sheet.loc[sheet['중분류'] == middle_category, '소분류'].unique()):\n",
    "        dict[value] = len(sheet.loc[(sheet['중분류'] == middle_category) & (sheet['소분류'] == value), :])\n",
    "    return dict\n",
    "\n",
    "def top_category_count_fn(top_category):\n",
    "    dict = {}\n",
    "    for value in list(sheet.loc[sheet['대분류'] == top_category, '중분류'].unique()):\n",
    "        dict[value] = len(sheet.loc[(sheet['대분류'] == top_category) & (sheet['중분류'] == value), :])\n",
    "    return dict\n",
    "\n",
    "sheet.info()"
   ],
   "metadata": {
    "collapsed": false,
    "pycharm": {
     "name": "#%%\n"
    }
   }
  },
  {
   "cell_type": "code",
   "execution_count": 506,
   "outputs": [
    {
     "data": {
      "text/plain": "          No                   식품명                   대분류  중분류     소분류  1회 제공량  \\\n0      10397             삼육두유검은콩칼슘                    음료   두유    가공두유     190   \n1      10398           베지밀검은콩두유고칼슘                    음료   두유    가공두유     190   \n2      10399               달콤한베지밀비                    음료  유제품      두유     100   \n3      10400         삼육두유검은콩호두와아몬드                    음료   두유    가공두유     140   \n4      10401              담백한베지밀에이                    음료  유제품      두유     190   \n...      ...                   ...                   ...  ...     ...     ...   \n36450  59687       모리나가 다스 화이트 초콜릿  캔디, 초콜릿, 젤리, 캐러멜, 양갱  초콜릿  화이트초콜릿      42   \n36451  60615                화이트보뇌르  캔디, 초콜릿, 젤리, 캐러멜, 양갱  초콜릿  화이트초콜릿      30   \n36452  61033       토블론 스위스 화이트 초콜릿  캔디, 초콜릿, 젤리, 캐러멜, 양갱  초콜릿  화이트초콜릿     100   \n36453  61439          명인명촌 현미칩 초콜릿  캔디, 초콜릿, 젤리, 캐러멜, 양갱  초콜릿  화이트초콜릿      65   \n36454  64772  바이오 화이트 초콜릿 요거트 & 딸기  캔디, 초콜릿, 젤리, 캐러멜, 양갱  초콜릿  화이트초콜릿     100   \n\n       용량 총내용량(g) 총내용량(ml)  총당류(g)   총내용량  단위용량 대비 설탕 비율  설탕비율의 소분류 평균값  \n0      mL       -      190    10.0  190.0            5.3            0.0  \n1      mL       -      190    10.0  190.0            5.3            0.0  \n2      mL       -      950     5.0  950.0            5.0            4.1  \n3      mL       -      140    10.0  140.0            7.1            0.0  \n4      mL       -      190     6.0  190.0            3.2            4.1  \n...    ..     ...      ...     ...    ...            ...            ...  \n36450   g      42        -    20.4   42.0           48.6            0.0  \n36451   g      50        -    13.0   50.0           43.3            0.0  \n36452   g     100        -    63.0  100.0           63.0            0.0  \n36453   g      65        -    26.0   65.0           40.0            0.0  \n36454   g     100        -    51.7  100.0           51.7            0.0  \n\n[36455 rows x 13 columns]",
      "text/html": "<div>\n<style scoped>\n    .dataframe tbody tr th:only-of-type {\n        vertical-align: middle;\n    }\n\n    .dataframe tbody tr th {\n        vertical-align: top;\n    }\n\n    .dataframe thead th {\n        text-align: right;\n    }\n</style>\n<table border=\"1\" class=\"dataframe\">\n  <thead>\n    <tr style=\"text-align: right;\">\n      <th></th>\n      <th>No</th>\n      <th>식품명</th>\n      <th>대분류</th>\n      <th>중분류</th>\n      <th>소분류</th>\n      <th>1회 제공량</th>\n      <th>용량</th>\n      <th>총내용량(g)</th>\n      <th>총내용량(ml)</th>\n      <th>총당류(g)</th>\n      <th>총내용량</th>\n      <th>단위용량 대비 설탕 비율</th>\n      <th>설탕비율의 소분류 평균값</th>\n    </tr>\n  </thead>\n  <tbody>\n    <tr>\n      <th>0</th>\n      <td>10397</td>\n      <td>삼육두유검은콩칼슘</td>\n      <td>음료</td>\n      <td>두유</td>\n      <td>가공두유</td>\n      <td>190</td>\n      <td>mL</td>\n      <td>-</td>\n      <td>190</td>\n      <td>10.0</td>\n      <td>190.0</td>\n      <td>5.3</td>\n      <td>0.0</td>\n    </tr>\n    <tr>\n      <th>1</th>\n      <td>10398</td>\n      <td>베지밀검은콩두유고칼슘</td>\n      <td>음료</td>\n      <td>두유</td>\n      <td>가공두유</td>\n      <td>190</td>\n      <td>mL</td>\n      <td>-</td>\n      <td>190</td>\n      <td>10.0</td>\n      <td>190.0</td>\n      <td>5.3</td>\n      <td>0.0</td>\n    </tr>\n    <tr>\n      <th>2</th>\n      <td>10399</td>\n      <td>달콤한베지밀비</td>\n      <td>음료</td>\n      <td>유제품</td>\n      <td>두유</td>\n      <td>100</td>\n      <td>mL</td>\n      <td>-</td>\n      <td>950</td>\n      <td>5.0</td>\n      <td>950.0</td>\n      <td>5.0</td>\n      <td>4.1</td>\n    </tr>\n    <tr>\n      <th>3</th>\n      <td>10400</td>\n      <td>삼육두유검은콩호두와아몬드</td>\n      <td>음료</td>\n      <td>두유</td>\n      <td>가공두유</td>\n      <td>140</td>\n      <td>mL</td>\n      <td>-</td>\n      <td>140</td>\n      <td>10.0</td>\n      <td>140.0</td>\n      <td>7.1</td>\n      <td>0.0</td>\n    </tr>\n    <tr>\n      <th>4</th>\n      <td>10401</td>\n      <td>담백한베지밀에이</td>\n      <td>음료</td>\n      <td>유제품</td>\n      <td>두유</td>\n      <td>190</td>\n      <td>mL</td>\n      <td>-</td>\n      <td>190</td>\n      <td>6.0</td>\n      <td>190.0</td>\n      <td>3.2</td>\n      <td>4.1</td>\n    </tr>\n    <tr>\n      <th>...</th>\n      <td>...</td>\n      <td>...</td>\n      <td>...</td>\n      <td>...</td>\n      <td>...</td>\n      <td>...</td>\n      <td>...</td>\n      <td>...</td>\n      <td>...</td>\n      <td>...</td>\n      <td>...</td>\n      <td>...</td>\n      <td>...</td>\n    </tr>\n    <tr>\n      <th>36450</th>\n      <td>59687</td>\n      <td>모리나가 다스 화이트 초콜릿</td>\n      <td>캔디, 초콜릿, 젤리, 캐러멜, 양갱</td>\n      <td>초콜릿</td>\n      <td>화이트초콜릿</td>\n      <td>42</td>\n      <td>g</td>\n      <td>42</td>\n      <td>-</td>\n      <td>20.4</td>\n      <td>42.0</td>\n      <td>48.6</td>\n      <td>0.0</td>\n    </tr>\n    <tr>\n      <th>36451</th>\n      <td>60615</td>\n      <td>화이트보뇌르</td>\n      <td>캔디, 초콜릿, 젤리, 캐러멜, 양갱</td>\n      <td>초콜릿</td>\n      <td>화이트초콜릿</td>\n      <td>30</td>\n      <td>g</td>\n      <td>50</td>\n      <td>-</td>\n      <td>13.0</td>\n      <td>50.0</td>\n      <td>43.3</td>\n      <td>0.0</td>\n    </tr>\n    <tr>\n      <th>36452</th>\n      <td>61033</td>\n      <td>토블론 스위스 화이트 초콜릿</td>\n      <td>캔디, 초콜릿, 젤리, 캐러멜, 양갱</td>\n      <td>초콜릿</td>\n      <td>화이트초콜릿</td>\n      <td>100</td>\n      <td>g</td>\n      <td>100</td>\n      <td>-</td>\n      <td>63.0</td>\n      <td>100.0</td>\n      <td>63.0</td>\n      <td>0.0</td>\n    </tr>\n    <tr>\n      <th>36453</th>\n      <td>61439</td>\n      <td>명인명촌 현미칩 초콜릿</td>\n      <td>캔디, 초콜릿, 젤리, 캐러멜, 양갱</td>\n      <td>초콜릿</td>\n      <td>화이트초콜릿</td>\n      <td>65</td>\n      <td>g</td>\n      <td>65</td>\n      <td>-</td>\n      <td>26.0</td>\n      <td>65.0</td>\n      <td>40.0</td>\n      <td>0.0</td>\n    </tr>\n    <tr>\n      <th>36454</th>\n      <td>64772</td>\n      <td>바이오 화이트 초콜릿 요거트 &amp; 딸기</td>\n      <td>캔디, 초콜릿, 젤리, 캐러멜, 양갱</td>\n      <td>초콜릿</td>\n      <td>화이트초콜릿</td>\n      <td>100</td>\n      <td>g</td>\n      <td>100</td>\n      <td>-</td>\n      <td>51.7</td>\n      <td>100.0</td>\n      <td>51.7</td>\n      <td>0.0</td>\n    </tr>\n  </tbody>\n</table>\n<p>36455 rows × 13 columns</p>\n</div>"
     },
     "execution_count": 506,
     "metadata": {},
     "output_type": "execute_result"
    }
   ],
   "source": [
    "sheet"
   ],
   "metadata": {
    "collapsed": false,
    "pycharm": {
     "name": "#%%\n"
    }
   }
  },
  {
   "cell_type": "code",
   "execution_count": 507,
   "outputs": [],
   "source": [
    "# 구\n",
    "# 캔디, 초콜릿, 젤리, 캐러멜, 양갱\n",
    "# 떡, 시리얼, 견과류\n",
    "\n",
    "# 신\n",
    "# 캔디,젤리\n",
    "# 초콜릿\n",
    "# 캐러멜, 양갱\n",
    "# 떡, 견과류"
   ],
   "metadata": {
    "collapsed": false,
    "pycharm": {
     "name": "#%%\n"
    }
   }
  },
  {
   "cell_type": "code",
   "execution_count": 508,
   "outputs": [
    {
     "data": {
      "text/plain": "          No                   식품명                   대분류  중분류        소분류  \\\n8331    9776               제티 쵸코렛맛  캔디, 초콜릿, 젤리, 캐러멜, 양갱  초콜릿  기타 코코아가공품   \n8332    9777           미떼 핫초코 오리지날  캔디, 초콜릿, 젤리, 캐러멜, 양갱  초콜릿  기타 코코아가공품   \n8333    9779                 코코렛소스  캔디, 초콜릿, 젤리, 캐러멜, 양갱  초콜릿  기타 코코아가공품   \n8334    9781            미떼 핫초코 마일드  캔디, 초콜릿, 젤리, 캐러멜, 양갱  초콜릿  기타 코코아가공품   \n8335    9783            뉴얼려먹는초코만들기  캔디, 초콜릿, 젤리, 캐러멜, 양갱  초콜릿  기타 코코아가공품   \n...      ...                   ...                   ...  ...        ...   \n36450  59687       모리나가 다스 화이트 초콜릿  캔디, 초콜릿, 젤리, 캐러멜, 양갱  초콜릿     화이트초콜릿   \n36451  60615                화이트보뇌르  캔디, 초콜릿, 젤리, 캐러멜, 양갱  초콜릿     화이트초콜릿   \n36452  61033       토블론 스위스 화이트 초콜릿  캔디, 초콜릿, 젤리, 캐러멜, 양갱  초콜릿     화이트초콜릿   \n36453  61439          명인명촌 현미칩 초콜릿  캔디, 초콜릿, 젤리, 캐러멜, 양갱  초콜릿     화이트초콜릿   \n36454  64772  바이오 화이트 초콜릿 요거트 & 딸기  캔디, 초콜릿, 젤리, 캐러멜, 양갱  초콜릿     화이트초콜릿   \n\n       1회 제공량 용량 총내용량(g) 총내용량(ml)  총당류(g)    총내용량  단위용량 대비 설탕 비율  \\\n8331       17  g    1360        -    14.0  1360.0           82.4   \n8332       17  g     680        -     9.5   680.0           55.9   \n8333      100  g    2000        -    50.0  2000.0           50.0   \n8334       30  g     300        -    16.9   300.0           56.3   \n8335       36  g      36        -    14.0    36.0           38.9   \n...       ... ..     ...      ...     ...     ...            ...   \n36450      42  g      42        -    20.4    42.0           48.6   \n36451      30  g      50        -    13.0    50.0           43.3   \n36452     100  g     100        -    63.0   100.0           63.0   \n36453      65  g      65        -    26.0    65.0           40.0   \n36454     100  g     100        -    51.7   100.0           51.7   \n\n       설탕비율의 소분류 평균값  \n8331             0.0  \n8332             0.0  \n8333             0.0  \n8334             0.0  \n8335             0.0  \n...              ...  \n36450            0.0  \n36451            0.0  \n36452            0.0  \n36453            0.0  \n36454            0.0  \n\n[6459 rows x 13 columns]",
      "text/html": "<div>\n<style scoped>\n    .dataframe tbody tr th:only-of-type {\n        vertical-align: middle;\n    }\n\n    .dataframe tbody tr th {\n        vertical-align: top;\n    }\n\n    .dataframe thead th {\n        text-align: right;\n    }\n</style>\n<table border=\"1\" class=\"dataframe\">\n  <thead>\n    <tr style=\"text-align: right;\">\n      <th></th>\n      <th>No</th>\n      <th>식품명</th>\n      <th>대분류</th>\n      <th>중분류</th>\n      <th>소분류</th>\n      <th>1회 제공량</th>\n      <th>용량</th>\n      <th>총내용량(g)</th>\n      <th>총내용량(ml)</th>\n      <th>총당류(g)</th>\n      <th>총내용량</th>\n      <th>단위용량 대비 설탕 비율</th>\n      <th>설탕비율의 소분류 평균값</th>\n    </tr>\n  </thead>\n  <tbody>\n    <tr>\n      <th>8331</th>\n      <td>9776</td>\n      <td>제티 쵸코렛맛</td>\n      <td>캔디, 초콜릿, 젤리, 캐러멜, 양갱</td>\n      <td>초콜릿</td>\n      <td>기타 코코아가공품</td>\n      <td>17</td>\n      <td>g</td>\n      <td>1360</td>\n      <td>-</td>\n      <td>14.0</td>\n      <td>1360.0</td>\n      <td>82.4</td>\n      <td>0.0</td>\n    </tr>\n    <tr>\n      <th>8332</th>\n      <td>9777</td>\n      <td>미떼 핫초코 오리지날</td>\n      <td>캔디, 초콜릿, 젤리, 캐러멜, 양갱</td>\n      <td>초콜릿</td>\n      <td>기타 코코아가공품</td>\n      <td>17</td>\n      <td>g</td>\n      <td>680</td>\n      <td>-</td>\n      <td>9.5</td>\n      <td>680.0</td>\n      <td>55.9</td>\n      <td>0.0</td>\n    </tr>\n    <tr>\n      <th>8333</th>\n      <td>9779</td>\n      <td>코코렛소스</td>\n      <td>캔디, 초콜릿, 젤리, 캐러멜, 양갱</td>\n      <td>초콜릿</td>\n      <td>기타 코코아가공품</td>\n      <td>100</td>\n      <td>g</td>\n      <td>2000</td>\n      <td>-</td>\n      <td>50.0</td>\n      <td>2000.0</td>\n      <td>50.0</td>\n      <td>0.0</td>\n    </tr>\n    <tr>\n      <th>8334</th>\n      <td>9781</td>\n      <td>미떼 핫초코 마일드</td>\n      <td>캔디, 초콜릿, 젤리, 캐러멜, 양갱</td>\n      <td>초콜릿</td>\n      <td>기타 코코아가공품</td>\n      <td>30</td>\n      <td>g</td>\n      <td>300</td>\n      <td>-</td>\n      <td>16.9</td>\n      <td>300.0</td>\n      <td>56.3</td>\n      <td>0.0</td>\n    </tr>\n    <tr>\n      <th>8335</th>\n      <td>9783</td>\n      <td>뉴얼려먹는초코만들기</td>\n      <td>캔디, 초콜릿, 젤리, 캐러멜, 양갱</td>\n      <td>초콜릿</td>\n      <td>기타 코코아가공품</td>\n      <td>36</td>\n      <td>g</td>\n      <td>36</td>\n      <td>-</td>\n      <td>14.0</td>\n      <td>36.0</td>\n      <td>38.9</td>\n      <td>0.0</td>\n    </tr>\n    <tr>\n      <th>...</th>\n      <td>...</td>\n      <td>...</td>\n      <td>...</td>\n      <td>...</td>\n      <td>...</td>\n      <td>...</td>\n      <td>...</td>\n      <td>...</td>\n      <td>...</td>\n      <td>...</td>\n      <td>...</td>\n      <td>...</td>\n      <td>...</td>\n    </tr>\n    <tr>\n      <th>36450</th>\n      <td>59687</td>\n      <td>모리나가 다스 화이트 초콜릿</td>\n      <td>캔디, 초콜릿, 젤리, 캐러멜, 양갱</td>\n      <td>초콜릿</td>\n      <td>화이트초콜릿</td>\n      <td>42</td>\n      <td>g</td>\n      <td>42</td>\n      <td>-</td>\n      <td>20.4</td>\n      <td>42.0</td>\n      <td>48.6</td>\n      <td>0.0</td>\n    </tr>\n    <tr>\n      <th>36451</th>\n      <td>60615</td>\n      <td>화이트보뇌르</td>\n      <td>캔디, 초콜릿, 젤리, 캐러멜, 양갱</td>\n      <td>초콜릿</td>\n      <td>화이트초콜릿</td>\n      <td>30</td>\n      <td>g</td>\n      <td>50</td>\n      <td>-</td>\n      <td>13.0</td>\n      <td>50.0</td>\n      <td>43.3</td>\n      <td>0.0</td>\n    </tr>\n    <tr>\n      <th>36452</th>\n      <td>61033</td>\n      <td>토블론 스위스 화이트 초콜릿</td>\n      <td>캔디, 초콜릿, 젤리, 캐러멜, 양갱</td>\n      <td>초콜릿</td>\n      <td>화이트초콜릿</td>\n      <td>100</td>\n      <td>g</td>\n      <td>100</td>\n      <td>-</td>\n      <td>63.0</td>\n      <td>100.0</td>\n      <td>63.0</td>\n      <td>0.0</td>\n    </tr>\n    <tr>\n      <th>36453</th>\n      <td>61439</td>\n      <td>명인명촌 현미칩 초콜릿</td>\n      <td>캔디, 초콜릿, 젤리, 캐러멜, 양갱</td>\n      <td>초콜릿</td>\n      <td>화이트초콜릿</td>\n      <td>65</td>\n      <td>g</td>\n      <td>65</td>\n      <td>-</td>\n      <td>26.0</td>\n      <td>65.0</td>\n      <td>40.0</td>\n      <td>0.0</td>\n    </tr>\n    <tr>\n      <th>36454</th>\n      <td>64772</td>\n      <td>바이오 화이트 초콜릿 요거트 &amp; 딸기</td>\n      <td>캔디, 초콜릿, 젤리, 캐러멜, 양갱</td>\n      <td>초콜릿</td>\n      <td>화이트초콜릿</td>\n      <td>100</td>\n      <td>g</td>\n      <td>100</td>\n      <td>-</td>\n      <td>51.7</td>\n      <td>100.0</td>\n      <td>51.7</td>\n      <td>0.0</td>\n    </tr>\n  </tbody>\n</table>\n<p>6459 rows × 13 columns</p>\n</div>"
     },
     "execution_count": 508,
     "metadata": {},
     "output_type": "execute_result"
    }
   ],
   "source": [
    "sheet.loc[sheet['대분류'] == '캔디, 초콜릿, 젤리, 캐러멜, 양갱', :]"
   ],
   "metadata": {
    "collapsed": false,
    "pycharm": {
     "name": "#%%\n"
    }
   }
  },
  {
   "cell_type": "code",
   "execution_count": 509,
   "outputs": [],
   "source": [
    "sheet.loc[sheet['중분류'] == '캔디', \"대분류\"] = '캔디, 젤리'\n",
    "sheet.loc[sheet['중분류'] == '젤리', \"대분류\"] = '캔디, 젤리'\n",
    "\n",
    "sheet.loc[sheet['중분류'] == '초콜릿', \"대분류\"] = '초콜릿'\n",
    "\n",
    "sheet.loc[sheet['중분류'] == '캐러멜', \"대분류\"] = '캐러멜, 양갱'\n",
    "sheet.loc[sheet['중분류'] == '양갱', \"대분류\"] = '캐러멜, 양갱'\n",
    "\n",
    "\n",
    "sheet.loc[sheet['중분류'] == '떡', \"대분류\"] = '떡, 견과류'\n",
    "sheet.loc[sheet['중분류'] == '견과류', \"대분류\"] = '떡, 견과류'"
   ],
   "metadata": {
    "collapsed": false,
    "pycharm": {
     "name": "#%%\n"
    }
   }
  },
  {
   "cell_type": "code",
   "execution_count": 510,
   "outputs": [
    {
     "data": {
      "text/plain": "array(['음료', '유가공품', '캔디, 젤리', '과자', '베이커리', '초콜릿', '캐러멜, 양갱', '떡, 견과류',\n       '아이스크림', '떡, 시리얼, 견과류'], dtype=object)"
     },
     "execution_count": 510,
     "metadata": {},
     "output_type": "execute_result"
    }
   ],
   "source": [
    "sheet['대분류'].unique()"
   ],
   "metadata": {
    "collapsed": false,
    "pycharm": {
     "name": "#%%\n"
    }
   }
  },
  {
   "cell_type": "code",
   "execution_count": 511,
   "outputs": [],
   "source": [
    "# 캔디, 젤리"
   ],
   "metadata": {
    "collapsed": false,
    "pycharm": {
     "name": "#%%\n"
    }
   }
  },
  {
   "cell_type": "code",
   "execution_count": 512,
   "outputs": [
    {
     "data": {
      "text/plain": "          No              식품명     대분류 중분류        소분류  1회 제공량 용량 총내용량(g)  \\\n8410   41174  스타벅스 마쉬멜로우 핫코코아  캔디, 젤리  캔디  기타 코코아가공품     100  g     198   \n10256  13422       스카치캔디 세가지맛  캔디, 젤리  캔디      기타캔디류       9  g     317   \n10257  13455         스카치캔디 커피  캔디, 젤리  캔디      기타캔디류     317  g     317   \n10258  13471         라임민트 목캔디  캔디, 젤리  캔디      기타캔디류      38  g      38   \n10259  13516    아이셔 츄잉캔디 청사과맛  캔디, 젤리  캔디      기타캔디류      42  g      42   \n...      ...              ...     ...  ..        ...     ... ..     ...   \n29753  45981           누가-커피맛  캔디, 젤리  캔디        캔디류     100  g    8000   \n29754  45982         누가-크랜베리향  캔디, 젤리  캔디        캔디류     100  g    8000   \n29755  45983         누가-파인애플향  캔디, 젤리  캔디        캔디류     100  g    8000   \n29756  46097           스위트 캔디  캔디, 젤리  캔디        캔디류     100  g    2500   \n29757  46105         미니 캔디 케인  캔디, 젤리  캔디        캔디류     100  g    1200   \n\n      총내용량(ml)  총당류(g)    총내용량  단위용량 대비 설탕 비율  설탕비율의 소분류 평균값  \n8410         -    59.0   198.0           59.0            0.0  \n10256        -     6.0   317.0           66.7            0.0  \n10257        -   219.0   317.0           69.1            0.0  \n10258        -    23.0    38.0           60.5            0.0  \n10259        -    30.0    42.0           71.4            0.0  \n...        ...     ...     ...            ...            ...  \n29753        -    31.0  8000.0           31.0            0.0  \n29754        -    31.0  8000.0           31.0            0.0  \n29755        -    33.0  8000.0           33.0            0.0  \n29756        -    12.0  2500.0           12.0            0.0  \n29757        -    68.0  1200.0           68.0            0.0  \n\n[1447 rows x 13 columns]",
      "text/html": "<div>\n<style scoped>\n    .dataframe tbody tr th:only-of-type {\n        vertical-align: middle;\n    }\n\n    .dataframe tbody tr th {\n        vertical-align: top;\n    }\n\n    .dataframe thead th {\n        text-align: right;\n    }\n</style>\n<table border=\"1\" class=\"dataframe\">\n  <thead>\n    <tr style=\"text-align: right;\">\n      <th></th>\n      <th>No</th>\n      <th>식품명</th>\n      <th>대분류</th>\n      <th>중분류</th>\n      <th>소분류</th>\n      <th>1회 제공량</th>\n      <th>용량</th>\n      <th>총내용량(g)</th>\n      <th>총내용량(ml)</th>\n      <th>총당류(g)</th>\n      <th>총내용량</th>\n      <th>단위용량 대비 설탕 비율</th>\n      <th>설탕비율의 소분류 평균값</th>\n    </tr>\n  </thead>\n  <tbody>\n    <tr>\n      <th>8410</th>\n      <td>41174</td>\n      <td>스타벅스 마쉬멜로우 핫코코아</td>\n      <td>캔디, 젤리</td>\n      <td>캔디</td>\n      <td>기타 코코아가공품</td>\n      <td>100</td>\n      <td>g</td>\n      <td>198</td>\n      <td>-</td>\n      <td>59.0</td>\n      <td>198.0</td>\n      <td>59.0</td>\n      <td>0.0</td>\n    </tr>\n    <tr>\n      <th>10256</th>\n      <td>13422</td>\n      <td>스카치캔디 세가지맛</td>\n      <td>캔디, 젤리</td>\n      <td>캔디</td>\n      <td>기타캔디류</td>\n      <td>9</td>\n      <td>g</td>\n      <td>317</td>\n      <td>-</td>\n      <td>6.0</td>\n      <td>317.0</td>\n      <td>66.7</td>\n      <td>0.0</td>\n    </tr>\n    <tr>\n      <th>10257</th>\n      <td>13455</td>\n      <td>스카치캔디 커피</td>\n      <td>캔디, 젤리</td>\n      <td>캔디</td>\n      <td>기타캔디류</td>\n      <td>317</td>\n      <td>g</td>\n      <td>317</td>\n      <td>-</td>\n      <td>219.0</td>\n      <td>317.0</td>\n      <td>69.1</td>\n      <td>0.0</td>\n    </tr>\n    <tr>\n      <th>10258</th>\n      <td>13471</td>\n      <td>라임민트 목캔디</td>\n      <td>캔디, 젤리</td>\n      <td>캔디</td>\n      <td>기타캔디류</td>\n      <td>38</td>\n      <td>g</td>\n      <td>38</td>\n      <td>-</td>\n      <td>23.0</td>\n      <td>38.0</td>\n      <td>60.5</td>\n      <td>0.0</td>\n    </tr>\n    <tr>\n      <th>10259</th>\n      <td>13516</td>\n      <td>아이셔 츄잉캔디 청사과맛</td>\n      <td>캔디, 젤리</td>\n      <td>캔디</td>\n      <td>기타캔디류</td>\n      <td>42</td>\n      <td>g</td>\n      <td>42</td>\n      <td>-</td>\n      <td>30.0</td>\n      <td>42.0</td>\n      <td>71.4</td>\n      <td>0.0</td>\n    </tr>\n    <tr>\n      <th>...</th>\n      <td>...</td>\n      <td>...</td>\n      <td>...</td>\n      <td>...</td>\n      <td>...</td>\n      <td>...</td>\n      <td>...</td>\n      <td>...</td>\n      <td>...</td>\n      <td>...</td>\n      <td>...</td>\n      <td>...</td>\n      <td>...</td>\n    </tr>\n    <tr>\n      <th>29753</th>\n      <td>45981</td>\n      <td>누가-커피맛</td>\n      <td>캔디, 젤리</td>\n      <td>캔디</td>\n      <td>캔디류</td>\n      <td>100</td>\n      <td>g</td>\n      <td>8000</td>\n      <td>-</td>\n      <td>31.0</td>\n      <td>8000.0</td>\n      <td>31.0</td>\n      <td>0.0</td>\n    </tr>\n    <tr>\n      <th>29754</th>\n      <td>45982</td>\n      <td>누가-크랜베리향</td>\n      <td>캔디, 젤리</td>\n      <td>캔디</td>\n      <td>캔디류</td>\n      <td>100</td>\n      <td>g</td>\n      <td>8000</td>\n      <td>-</td>\n      <td>31.0</td>\n      <td>8000.0</td>\n      <td>31.0</td>\n      <td>0.0</td>\n    </tr>\n    <tr>\n      <th>29755</th>\n      <td>45983</td>\n      <td>누가-파인애플향</td>\n      <td>캔디, 젤리</td>\n      <td>캔디</td>\n      <td>캔디류</td>\n      <td>100</td>\n      <td>g</td>\n      <td>8000</td>\n      <td>-</td>\n      <td>33.0</td>\n      <td>8000.0</td>\n      <td>33.0</td>\n      <td>0.0</td>\n    </tr>\n    <tr>\n      <th>29756</th>\n      <td>46097</td>\n      <td>스위트 캔디</td>\n      <td>캔디, 젤리</td>\n      <td>캔디</td>\n      <td>캔디류</td>\n      <td>100</td>\n      <td>g</td>\n      <td>2500</td>\n      <td>-</td>\n      <td>12.0</td>\n      <td>2500.0</td>\n      <td>12.0</td>\n      <td>0.0</td>\n    </tr>\n    <tr>\n      <th>29757</th>\n      <td>46105</td>\n      <td>미니 캔디 케인</td>\n      <td>캔디, 젤리</td>\n      <td>캔디</td>\n      <td>캔디류</td>\n      <td>100</td>\n      <td>g</td>\n      <td>1200</td>\n      <td>-</td>\n      <td>68.0</td>\n      <td>1200.0</td>\n      <td>68.0</td>\n      <td>0.0</td>\n    </tr>\n  </tbody>\n</table>\n<p>1447 rows × 13 columns</p>\n</div>"
     },
     "execution_count": 512,
     "metadata": {},
     "output_type": "execute_result"
    }
   ],
   "source": [
    "sheet.loc[(sheet['대분류'] == '캔디, 젤리') & (sheet['중분류'] == '캔디'), :]"
   ],
   "metadata": {
    "collapsed": false,
    "pycharm": {
     "name": "#%%\n"
    }
   }
  },
  {
   "cell_type": "code",
   "execution_count": 513,
   "outputs": [],
   "source": [
    "구미 = ['구미']\n",
    "초코 = ['초코', '가나슈', '브라우니', '쵸코', '초콜릿', '코코아', '쇼콜라']\n",
    "곡류 = ['쌀', '통밀', '옥수수', '흑미', '보리', '밀', '콘', '오곡', '피넛', '깨', '콩', '완두', '누룽지']\n",
    "견과류 = ['땅콩', '아몬드', '호두', '헤이즐넛', '잣', '마카다미아']\n",
    "차 = ['말차', '홍차', '녹차', '계피']\n",
    "카라멜 = ['카라멜']\n",
    "과일 = ['블루베리', '크랜베리', '딸기', '코코넛', '리치', '레몬', '한라봉', '딸기', '비트', '애플', '유자', '오렌지', '사과', '매실', '크린베리', '스트로베리', '올리브', '망고', '복숭아', '바나나', '라즈베리', '감귤', '과일', '청포도', '복분자', '후르츠', '자두', '포도']\n",
    "야채 = ['단호박', '고구마', '호박', '당근', '양파', '마늘', '야채', '채', '페퍼', '토마토', '감자', '시금 ']\n",
    "스카치 = ['스카치']\n",
    "홍삼 = ['홍삼']\n",
    "박하 = ['박하', '민트']\n",
    "커피 = ['커피', '카푸치']\n",
    "머쉬멜로우 = ['머쉬멜로우', '마쉬멜로우']\n",
    "\n",
    "\n",
    "sheet.loc[(sheet['중분류'] == '캔디'), '소분류'] = ''\n",
    "\n",
    "\n",
    "for value in 구미:\n",
    "    sheet.loc[(sheet['중분류'] == '캔디') & (sheet['식품명'].str.contains(value)), '소분류'] = '구미'\n",
    "for value in 초코:\n",
    "    sheet.loc[(sheet['중분류'] == '캔디') & (sheet['식품명'].str.contains(value)), '소분류'] = '초코'\n",
    "for value in 곡류:\n",
    "    sheet.loc[(sheet['중분류'] == '캔디') & (sheet['식품명'].str.contains(value)), '소분류'] = '곡류'\n",
    "for value in 견과류:\n",
    "    sheet.loc[(sheet['중분류'] == '캔디') & (sheet['식품명'].str.contains(value)), '소분류'] = '견과류'\n",
    "for value in 차:\n",
    "    sheet.loc[(sheet['중분류'] == '캔디') & (sheet['식품명'].str.contains(value)), '소분류'] = '차'\n",
    "for value in 카라멜:\n",
    "    sheet.loc[(sheet['중분류'] == '캔디') & (sheet['식품명'].str.contains(value)), '소분류'] = '카라멜'\n",
    "for value in 과일:\n",
    "    sheet.loc[(sheet['중분류'] == '캔디') & (sheet['식품명'].str.contains(value)), '소분류'] = '과일'\n",
    "for value in 야채:\n",
    "    sheet.loc[(sheet['중분류'] == '캔디') & (sheet['식품명'].str.contains(value)), '소분류'] = '야채'\n",
    "for value in 스카치:\n",
    "    sheet.loc[(sheet['중분류'] == '캔디') & (sheet['식품명'].str.contains(value)), '소분류'] = '스카치'\n",
    "for value in 홍삼:\n",
    "    sheet.loc[(sheet['중분류'] == '캔디') & (sheet['식품명'].str.contains(value)), '소분류'] = '홍삼'\n",
    "for value in 박하:\n",
    "    sheet.loc[(sheet['중분류'] == '캔디') & (sheet['식품명'].str.contains(value)), '소분류'] = '박하'\n",
    "for value in 커피:\n",
    "    sheet.loc[(sheet['중분류'] == '캔디') & (sheet['식품명'].str.contains(value)), '소분류'] = '커피'\n",
    "for value in 머쉬멜로우:\n",
    "    sheet.loc[(sheet['중분류'] == '캔디') & (sheet['식품명'].str.contains(value)), '소분류'] = '마쉬멜로우'\n",
    "\n",
    "\n",
    "sheet.loc[(sheet['중분류'] == '캔디') & (sheet['소분류'] == ''), '소분류'] = '기타'"
   ],
   "metadata": {
    "collapsed": false,
    "pycharm": {
     "name": "#%%\n"
    }
   }
  },
  {
   "cell_type": "code",
   "execution_count": 514,
   "outputs": [
    {
     "name": "stdout",
     "output_type": "stream",
     "text": [
      "{'견과류': 36,\n",
      " '곡류': 93,\n",
      " '과일': 330,\n",
      " '구미': 125,\n",
      " '기타': 557,\n",
      " '마쉬멜로우': 30,\n",
      " '박하': 71,\n",
      " '스카치': 3,\n",
      " '야채': 13,\n",
      " '차': 32,\n",
      " '초코': 6,\n",
      " '커피': 63,\n",
      " '홍삼': 88}\n"
     ]
    }
   ],
   "source": [
    "pp.pprint(category_count_fn('캔디'))"
   ],
   "metadata": {
    "collapsed": false,
    "pycharm": {
     "name": "#%%\n"
    }
   }
  },
  {
   "cell_type": "code",
   "execution_count": 515,
   "outputs": [
    {
     "data": {
      "text/plain": "          No               식품명     대분류 중분류 소분류  1회 제공량  용량 총내용량(g) 총내용량(ml)  \\\n1070   16132       쁘띠첼 워터젤리 포도  캔디, 젤리  젤리  과일     130  mL       -      130   \n1088   16152      쁘띠첼 워터젤리 복숭아  캔디, 젤리  젤리  과일     130  mL       -      130   \n1106   16170          워터젤리 청포도  캔디, 젤리  젤리  과일     170  mL       -      170   \n1110   16174   쁘띠첼 워터젤리 플러스 포도  캔디, 젤리  젤리  과일     170  mL       -      170   \n1122   16187       쁘띠첼 워터젤리 사과  캔디, 젤리  젤리  과일     130  mL       -      130   \n...      ...               ...     ...  ..  ..     ...  ..     ...      ...   \n35901  60910         미스핏상아석류젤리  캔디, 젤리  젤리  과일      20   g     600        -   \n36130  65559  몸이 반한 곤약 젤리 청포도맛  캔디, 젤리  젤리  곤약     130   g     130        -   \n36131  65563   몸이반한 곤약젤리(복숭아맛)  캔디, 젤리  젤리  곤약     130   g     130        -   \n36132  65564    몸이반한 곤약젤리(사과맛)  캔디, 젤리  젤리  곤약     130   g     130        -   \n36133  65569       감귤이 반한 곤약젤리  캔디, 젤리  젤리  곤약     130   g     130        -   \n\n       총당류(g)   총내용량  단위용량 대비 설탕 비율  설탕비율의 소분류 평균값  \n1070    13.00  130.0           10.0            0.0  \n1088    15.00  130.0           11.5            0.0  \n1106    30.00  170.0           17.6            0.0  \n1110    19.00  170.0           11.2            0.0  \n1122    12.00  130.0            9.2            0.0  \n...       ...    ...            ...            ...  \n35901    3.68  600.0           18.4            0.0  \n36130    7.00  130.0            5.4            0.0  \n36131    7.00  130.0            5.4            0.0  \n36132    7.00  130.0            5.4            0.0  \n36133    4.00  130.0            3.1            0.0  \n\n[1298 rows x 13 columns]",
      "text/html": "<div>\n<style scoped>\n    .dataframe tbody tr th:only-of-type {\n        vertical-align: middle;\n    }\n\n    .dataframe tbody tr th {\n        vertical-align: top;\n    }\n\n    .dataframe thead th {\n        text-align: right;\n    }\n</style>\n<table border=\"1\" class=\"dataframe\">\n  <thead>\n    <tr style=\"text-align: right;\">\n      <th></th>\n      <th>No</th>\n      <th>식품명</th>\n      <th>대분류</th>\n      <th>중분류</th>\n      <th>소분류</th>\n      <th>1회 제공량</th>\n      <th>용량</th>\n      <th>총내용량(g)</th>\n      <th>총내용량(ml)</th>\n      <th>총당류(g)</th>\n      <th>총내용량</th>\n      <th>단위용량 대비 설탕 비율</th>\n      <th>설탕비율의 소분류 평균값</th>\n    </tr>\n  </thead>\n  <tbody>\n    <tr>\n      <th>1070</th>\n      <td>16132</td>\n      <td>쁘띠첼 워터젤리 포도</td>\n      <td>캔디, 젤리</td>\n      <td>젤리</td>\n      <td>과일</td>\n      <td>130</td>\n      <td>mL</td>\n      <td>-</td>\n      <td>130</td>\n      <td>13.00</td>\n      <td>130.0</td>\n      <td>10.0</td>\n      <td>0.0</td>\n    </tr>\n    <tr>\n      <th>1088</th>\n      <td>16152</td>\n      <td>쁘띠첼 워터젤리 복숭아</td>\n      <td>캔디, 젤리</td>\n      <td>젤리</td>\n      <td>과일</td>\n      <td>130</td>\n      <td>mL</td>\n      <td>-</td>\n      <td>130</td>\n      <td>15.00</td>\n      <td>130.0</td>\n      <td>11.5</td>\n      <td>0.0</td>\n    </tr>\n    <tr>\n      <th>1106</th>\n      <td>16170</td>\n      <td>워터젤리 청포도</td>\n      <td>캔디, 젤리</td>\n      <td>젤리</td>\n      <td>과일</td>\n      <td>170</td>\n      <td>mL</td>\n      <td>-</td>\n      <td>170</td>\n      <td>30.00</td>\n      <td>170.0</td>\n      <td>17.6</td>\n      <td>0.0</td>\n    </tr>\n    <tr>\n      <th>1110</th>\n      <td>16174</td>\n      <td>쁘띠첼 워터젤리 플러스 포도</td>\n      <td>캔디, 젤리</td>\n      <td>젤리</td>\n      <td>과일</td>\n      <td>170</td>\n      <td>mL</td>\n      <td>-</td>\n      <td>170</td>\n      <td>19.00</td>\n      <td>170.0</td>\n      <td>11.2</td>\n      <td>0.0</td>\n    </tr>\n    <tr>\n      <th>1122</th>\n      <td>16187</td>\n      <td>쁘띠첼 워터젤리 사과</td>\n      <td>캔디, 젤리</td>\n      <td>젤리</td>\n      <td>과일</td>\n      <td>130</td>\n      <td>mL</td>\n      <td>-</td>\n      <td>130</td>\n      <td>12.00</td>\n      <td>130.0</td>\n      <td>9.2</td>\n      <td>0.0</td>\n    </tr>\n    <tr>\n      <th>...</th>\n      <td>...</td>\n      <td>...</td>\n      <td>...</td>\n      <td>...</td>\n      <td>...</td>\n      <td>...</td>\n      <td>...</td>\n      <td>...</td>\n      <td>...</td>\n      <td>...</td>\n      <td>...</td>\n      <td>...</td>\n      <td>...</td>\n    </tr>\n    <tr>\n      <th>35901</th>\n      <td>60910</td>\n      <td>미스핏상아석류젤리</td>\n      <td>캔디, 젤리</td>\n      <td>젤리</td>\n      <td>과일</td>\n      <td>20</td>\n      <td>g</td>\n      <td>600</td>\n      <td>-</td>\n      <td>3.68</td>\n      <td>600.0</td>\n      <td>18.4</td>\n      <td>0.0</td>\n    </tr>\n    <tr>\n      <th>36130</th>\n      <td>65559</td>\n      <td>몸이 반한 곤약 젤리 청포도맛</td>\n      <td>캔디, 젤리</td>\n      <td>젤리</td>\n      <td>곤약</td>\n      <td>130</td>\n      <td>g</td>\n      <td>130</td>\n      <td>-</td>\n      <td>7.00</td>\n      <td>130.0</td>\n      <td>5.4</td>\n      <td>0.0</td>\n    </tr>\n    <tr>\n      <th>36131</th>\n      <td>65563</td>\n      <td>몸이반한 곤약젤리(복숭아맛)</td>\n      <td>캔디, 젤리</td>\n      <td>젤리</td>\n      <td>곤약</td>\n      <td>130</td>\n      <td>g</td>\n      <td>130</td>\n      <td>-</td>\n      <td>7.00</td>\n      <td>130.0</td>\n      <td>5.4</td>\n      <td>0.0</td>\n    </tr>\n    <tr>\n      <th>36132</th>\n      <td>65564</td>\n      <td>몸이반한 곤약젤리(사과맛)</td>\n      <td>캔디, 젤리</td>\n      <td>젤리</td>\n      <td>곤약</td>\n      <td>130</td>\n      <td>g</td>\n      <td>130</td>\n      <td>-</td>\n      <td>7.00</td>\n      <td>130.0</td>\n      <td>5.4</td>\n      <td>0.0</td>\n    </tr>\n    <tr>\n      <th>36133</th>\n      <td>65569</td>\n      <td>감귤이 반한 곤약젤리</td>\n      <td>캔디, 젤리</td>\n      <td>젤리</td>\n      <td>곤약</td>\n      <td>130</td>\n      <td>g</td>\n      <td>130</td>\n      <td>-</td>\n      <td>4.00</td>\n      <td>130.0</td>\n      <td>3.1</td>\n      <td>0.0</td>\n    </tr>\n  </tbody>\n</table>\n<p>1298 rows × 13 columns</p>\n</div>"
     },
     "execution_count": 515,
     "metadata": {},
     "output_type": "execute_result"
    }
   ],
   "source": [
    "sheet.loc[(sheet['대분류'] == '캔디, 젤리') & (sheet['중분류'] == '젤리'), :]"
   ],
   "metadata": {
    "collapsed": false,
    "pycharm": {
     "name": "#%%\n"
    }
   }
  },
  {
   "cell_type": "code",
   "execution_count": 516,
   "outputs": [],
   "source": [
    "초코 = ['초코', '가나슈', '브라우니', '쵸코', '초콜릿', '코코아', '쇼콜라']\n",
    "곡류 = ['쌀', '통밀', '옥수수', '흑미', '보리', '밀', '콘', '오곡', '피넛', '깨', '콩', '완두', '누룽지']\n",
    "견과류 = ['땅콩', '아몬드', '호두', '헤이즐넛', '잣', '마카다미아']\n",
    "차 = ['말차', '홍차', '녹차', '계피']\n",
    "카라멜 = ['카라멜']\n",
    "과일 = ['블루베리', '크랜베리', '딸기', '코코넛', '리치', '레몬', '한라봉', '딸기', '비트', '애플', '유자', '오렌지', '사과', '매실', '크린베리', '스트로베리', '올리브', '망고', '복숭아', '바나나', '라즈베리', '감귤', '과일', '청포도', '복분자', '후르츠', '자두', '포도', '자몽', '석류', '키위', '멜론', '레모네이드', '깔라만시', '아로니아', '석류', '수박']\n",
    "야채 = ['단호박', '고구마', '호박', '당근', '양파', '마늘', '야채', '채', '페퍼', '토마토', '감자', '시금']\n",
    "푸딩 = ['푸딩']\n",
    "요거트 = ['요거트', '요구르트']\n",
    "콜라 = ['콜라']\n",
    "건강젤리 = ['홍삼', '녹용', '생강', '곤약']\n",
    "\n",
    "sheet.loc[(sheet['중분류'] == '젤리'), '소분류'] = ''\n",
    "\n",
    "\n",
    "for value in 초코:\n",
    "    sheet.loc[(sheet['중분류'] == '젤리') & (sheet['식품명'].str.contains(value)), '소분류'] = '초코'\n",
    "for value in 곡류:\n",
    "    sheet.loc[(sheet['중분류'] == '젤리') & (sheet['식품명'].str.contains(value)), '소분류'] = '곡류'\n",
    "for value in 견과류:\n",
    "    sheet.loc[(sheet['중분류'] == '젤리') & (sheet['식품명'].str.contains(value)), '소분류'] = '견과류'\n",
    "for value in 차:\n",
    "    sheet.loc[(sheet['중분류'] == '젤리') & (sheet['식품명'].str.contains(value)), '소분류'] = '차'\n",
    "for value in 카라멜:\n",
    "    sheet.loc[(sheet['중분류'] == '젤리') & (sheet['식품명'].str.contains(value)), '소분류'] = '카라멜'\n",
    "for value in 과일:\n",
    "    sheet.loc[(sheet['중분류'] == '젤리') & (sheet['식품명'].str.contains(value)), '소분류'] = '과일'\n",
    "for value in 야채:\n",
    "    sheet.loc[(sheet['중분류'] == '젤리') & (sheet['식품명'].str.contains(value)), '소분류'] = '야채'\n",
    "for value in 푸딩:\n",
    "    sheet.loc[(sheet['중분류'] == '젤리') & (sheet['식품명'].str.contains(value)), '소분류'] = '푸딩'\n",
    "for value in 요거트:\n",
    "    sheet.loc[(sheet['중분류'] == '젤리') & (sheet['식품명'].str.contains(value)), '소분류'] = '요거트'\n",
    "for value in 콜라:\n",
    "    sheet.loc[(sheet['중분류'] == '젤리') & (sheet['식품명'].str.contains(value)), '소분류'] = '콜라'\n",
    "for value in 건강젤리:\n",
    "    sheet.loc[(sheet['중분류'] == '젤리') & (sheet['식품명'].str.contains(value)), '소분류'] = '홍삼, 생강, 녹용, 곤약'\n",
    "\n",
    "\n",
    "sheet.loc[(sheet['중분류'] == '젤리') & (sheet['소분류'] == ''), '소분류'] = '기타'"
   ],
   "metadata": {
    "collapsed": false,
    "pycharm": {
     "name": "#%%\n"
    }
   }
  },
  {
   "cell_type": "code",
   "execution_count": 517,
   "outputs": [
    {
     "name": "stdout",
     "output_type": "stream",
     "text": [
      "{'견과류': 8,\n",
      " '곡류': 24,\n",
      " '과일': 533,\n",
      " '기타': 475,\n",
      " '야채': 17,\n",
      " '요거트': 37,\n",
      " '초코': 4,\n",
      " '콜라': 62,\n",
      " '푸딩': 52,\n",
      " '홍삼, 생강, 녹용, 곤약': 86}\n"
     ]
    }
   ],
   "source": [
    "pp.pprint(category_count_fn('젤리'))"
   ],
   "metadata": {
    "collapsed": false,
    "pycharm": {
     "name": "#%%\n"
    }
   }
  },
  {
   "cell_type": "code",
   "execution_count": 518,
   "outputs": [
    {
     "data": {
      "text/plain": "array(['기타 코코아가공품', '밀크초콜릿', '사탕', '젤리', '준초콜릿', '초콜릿', '초콜릿가공품', '캐러멜',\n       '캔디류', '화이트초콜릿'], dtype=object)"
     },
     "execution_count": 518,
     "metadata": {},
     "output_type": "execute_result"
    }
   ],
   "source": [
    "# 초콜릿\n",
    "# sheet.loc[(sheet['대분류'] == '초콜릿') , '중분류'].unique()\n",
    "sheet.loc[(sheet['대분류'] == '초콜릿') & (sheet['중분류'] == '초콜릿'), '소분류'].unique()\n",
    "\n"
   ],
   "metadata": {
    "collapsed": false,
    "pycharm": {
     "name": "#%%\n"
    }
   }
  },
  {
   "cell_type": "code",
   "execution_count": 519,
   "outputs": [
    {
     "data": {
      "text/plain": "          No                   식품명  대분류  중분류        소분류  1회 제공량 용량 총내용량(g)  \\\n8331    9776               제티 쵸코렛맛  초콜릿  초콜릿  기타 코코아가공품      17  g    1360   \n8332    9777           미떼 핫초코 오리지날  초콜릿  초콜릿  기타 코코아가공품      17  g     680   \n8333    9779                 코코렛소스  초콜릿  초콜릿  기타 코코아가공품     100  g    2000   \n8334    9781            미떼 핫초코 마일드  초콜릿  초콜릿  기타 코코아가공품      30  g     300   \n8335    9783            뉴얼려먹는초코만들기  초콜릿  초콜릿  기타 코코아가공품      36  g      36   \n...      ...                   ...  ...  ...        ...     ... ..     ...   \n36450  59687       모리나가 다스 화이트 초콜릿  초콜릿  초콜릿     화이트초콜릿      42  g      42   \n36451  60615                화이트보뇌르  초콜릿  초콜릿     화이트초콜릿      30  g      50   \n36452  61033       토블론 스위스 화이트 초콜릿  초콜릿  초콜릿     화이트초콜릿     100  g     100   \n36453  61439          명인명촌 현미칩 초콜릿  초콜릿  초콜릿     화이트초콜릿      65  g      65   \n36454  64772  바이오 화이트 초콜릿 요거트 & 딸기  초콜릿  초콜릿     화이트초콜릿     100  g     100   \n\n      총내용량(ml)  총당류(g)    총내용량  단위용량 대비 설탕 비율  설탕비율의 소분류 평균값  \n8331         -    14.0  1360.0           82.4            0.0  \n8332         -     9.5   680.0           55.9            0.0  \n8333         -    50.0  2000.0           50.0            0.0  \n8334         -    16.9   300.0           56.3            0.0  \n8335         -    14.0    36.0           38.9            0.0  \n...        ...     ...     ...            ...            ...  \n36450        -    20.4    42.0           48.6            0.0  \n36451        -    13.0    50.0           43.3            0.0  \n36452        -    63.0   100.0           63.0            0.0  \n36453        -    26.0    65.0           40.0            0.0  \n36454        -    51.7   100.0           51.7            0.0  \n\n[3457 rows x 13 columns]",
      "text/html": "<div>\n<style scoped>\n    .dataframe tbody tr th:only-of-type {\n        vertical-align: middle;\n    }\n\n    .dataframe tbody tr th {\n        vertical-align: top;\n    }\n\n    .dataframe thead th {\n        text-align: right;\n    }\n</style>\n<table border=\"1\" class=\"dataframe\">\n  <thead>\n    <tr style=\"text-align: right;\">\n      <th></th>\n      <th>No</th>\n      <th>식품명</th>\n      <th>대분류</th>\n      <th>중분류</th>\n      <th>소분류</th>\n      <th>1회 제공량</th>\n      <th>용량</th>\n      <th>총내용량(g)</th>\n      <th>총내용량(ml)</th>\n      <th>총당류(g)</th>\n      <th>총내용량</th>\n      <th>단위용량 대비 설탕 비율</th>\n      <th>설탕비율의 소분류 평균값</th>\n    </tr>\n  </thead>\n  <tbody>\n    <tr>\n      <th>8331</th>\n      <td>9776</td>\n      <td>제티 쵸코렛맛</td>\n      <td>초콜릿</td>\n      <td>초콜릿</td>\n      <td>기타 코코아가공품</td>\n      <td>17</td>\n      <td>g</td>\n      <td>1360</td>\n      <td>-</td>\n      <td>14.0</td>\n      <td>1360.0</td>\n      <td>82.4</td>\n      <td>0.0</td>\n    </tr>\n    <tr>\n      <th>8332</th>\n      <td>9777</td>\n      <td>미떼 핫초코 오리지날</td>\n      <td>초콜릿</td>\n      <td>초콜릿</td>\n      <td>기타 코코아가공품</td>\n      <td>17</td>\n      <td>g</td>\n      <td>680</td>\n      <td>-</td>\n      <td>9.5</td>\n      <td>680.0</td>\n      <td>55.9</td>\n      <td>0.0</td>\n    </tr>\n    <tr>\n      <th>8333</th>\n      <td>9779</td>\n      <td>코코렛소스</td>\n      <td>초콜릿</td>\n      <td>초콜릿</td>\n      <td>기타 코코아가공품</td>\n      <td>100</td>\n      <td>g</td>\n      <td>2000</td>\n      <td>-</td>\n      <td>50.0</td>\n      <td>2000.0</td>\n      <td>50.0</td>\n      <td>0.0</td>\n    </tr>\n    <tr>\n      <th>8334</th>\n      <td>9781</td>\n      <td>미떼 핫초코 마일드</td>\n      <td>초콜릿</td>\n      <td>초콜릿</td>\n      <td>기타 코코아가공품</td>\n      <td>30</td>\n      <td>g</td>\n      <td>300</td>\n      <td>-</td>\n      <td>16.9</td>\n      <td>300.0</td>\n      <td>56.3</td>\n      <td>0.0</td>\n    </tr>\n    <tr>\n      <th>8335</th>\n      <td>9783</td>\n      <td>뉴얼려먹는초코만들기</td>\n      <td>초콜릿</td>\n      <td>초콜릿</td>\n      <td>기타 코코아가공품</td>\n      <td>36</td>\n      <td>g</td>\n      <td>36</td>\n      <td>-</td>\n      <td>14.0</td>\n      <td>36.0</td>\n      <td>38.9</td>\n      <td>0.0</td>\n    </tr>\n    <tr>\n      <th>...</th>\n      <td>...</td>\n      <td>...</td>\n      <td>...</td>\n      <td>...</td>\n      <td>...</td>\n      <td>...</td>\n      <td>...</td>\n      <td>...</td>\n      <td>...</td>\n      <td>...</td>\n      <td>...</td>\n      <td>...</td>\n      <td>...</td>\n    </tr>\n    <tr>\n      <th>36450</th>\n      <td>59687</td>\n      <td>모리나가 다스 화이트 초콜릿</td>\n      <td>초콜릿</td>\n      <td>초콜릿</td>\n      <td>화이트초콜릿</td>\n      <td>42</td>\n      <td>g</td>\n      <td>42</td>\n      <td>-</td>\n      <td>20.4</td>\n      <td>42.0</td>\n      <td>48.6</td>\n      <td>0.0</td>\n    </tr>\n    <tr>\n      <th>36451</th>\n      <td>60615</td>\n      <td>화이트보뇌르</td>\n      <td>초콜릿</td>\n      <td>초콜릿</td>\n      <td>화이트초콜릿</td>\n      <td>30</td>\n      <td>g</td>\n      <td>50</td>\n      <td>-</td>\n      <td>13.0</td>\n      <td>50.0</td>\n      <td>43.3</td>\n      <td>0.0</td>\n    </tr>\n    <tr>\n      <th>36452</th>\n      <td>61033</td>\n      <td>토블론 스위스 화이트 초콜릿</td>\n      <td>초콜릿</td>\n      <td>초콜릿</td>\n      <td>화이트초콜릿</td>\n      <td>100</td>\n      <td>g</td>\n      <td>100</td>\n      <td>-</td>\n      <td>63.0</td>\n      <td>100.0</td>\n      <td>63.0</td>\n      <td>0.0</td>\n    </tr>\n    <tr>\n      <th>36453</th>\n      <td>61439</td>\n      <td>명인명촌 현미칩 초콜릿</td>\n      <td>초콜릿</td>\n      <td>초콜릿</td>\n      <td>화이트초콜릿</td>\n      <td>65</td>\n      <td>g</td>\n      <td>65</td>\n      <td>-</td>\n      <td>26.0</td>\n      <td>65.0</td>\n      <td>40.0</td>\n      <td>0.0</td>\n    </tr>\n    <tr>\n      <th>36454</th>\n      <td>64772</td>\n      <td>바이오 화이트 초콜릿 요거트 &amp; 딸기</td>\n      <td>초콜릿</td>\n      <td>초콜릿</td>\n      <td>화이트초콜릿</td>\n      <td>100</td>\n      <td>g</td>\n      <td>100</td>\n      <td>-</td>\n      <td>51.7</td>\n      <td>100.0</td>\n      <td>51.7</td>\n      <td>0.0</td>\n    </tr>\n  </tbody>\n</table>\n<p>3457 rows × 13 columns</p>\n</div>"
     },
     "execution_count": 519,
     "metadata": {},
     "output_type": "execute_result"
    }
   ],
   "source": [
    "sheet.loc[(sheet['대분류'] == '초콜릿') & (sheet['중분류'] == '초콜릿'), :]"
   ],
   "metadata": {
    "collapsed": false,
    "pycharm": {
     "name": "#%%\n"
    }
   }
  },
  {
   "cell_type": "code",
   "execution_count": 520,
   "outputs": [],
   "source": [
    "# 중분류\n",
    "\n",
    "# 일반\n",
    "# 다크\n",
    "# 밀크\n",
    "# 화이트"
   ],
   "metadata": {
    "collapsed": false,
    "pycharm": {
     "name": "#%%\n"
    }
   }
  },
  {
   "cell_type": "code",
   "execution_count": 521,
   "outputs": [],
   "source": [
    "# 일반 = ['초코', '가나슈', '브라우니', '쵸코', '초콜릿', '코코아', '쇼콜라']\n",
    "다크 = ['다크']\n",
    "밀크 = ['밀크']\n",
    "화이트 = ['화이트']\n",
    "\n",
    "# sheet.loc[(sheet['중분류'] == '젤리'), '소분류'] = ''\n",
    "\n",
    "for value in 다크:\n",
    "    sheet.loc[(sheet['대분류'] == '초콜릿') & (sheet['식품명'].str.contains(value)), '중분류'] = '다크초콜릿'\n",
    "for value in 밀크:\n",
    "    sheet.loc[(sheet['대분류'] == '초콜릿') & (sheet['식품명'].str.contains(value)), '중분류'] = '밀크초콜릿'\n",
    "for value in 화이트:\n",
    "    sheet.loc[(sheet['대분류'] == '초콜릿') & (sheet['식품명'].str.contains(value)), '중분류'] = '화이트초콜릿'"
   ],
   "metadata": {
    "collapsed": false,
    "pycharm": {
     "name": "#%%\n"
    }
   }
  },
  {
   "cell_type": "code",
   "execution_count": 522,
   "outputs": [
    {
     "data": {
      "text/plain": "          No                   식품명  대분류     중분류        소분류  1회 제공량 용량 총내용량(g)  \\\n8331    9776               제티 쵸코렛맛  초콜릿     초콜릿  기타 코코아가공품      17  g    1360   \n8332    9777           미떼 핫초코 오리지날  초콜릿     초콜릿  기타 코코아가공품      17  g     680   \n8333    9779                 코코렛소스  초콜릿     초콜릿  기타 코코아가공품     100  g    2000   \n8334    9781            미떼 핫초코 마일드  초콜릿     초콜릿  기타 코코아가공품      30  g     300   \n8335    9783            뉴얼려먹는초코만들기  초콜릿     초콜릿  기타 코코아가공품      36  g      36   \n...      ...                   ...  ...     ...        ...     ... ..     ...   \n36450  59687       모리나가 다스 화이트 초콜릿  초콜릿  화이트초콜릿     화이트초콜릿      42  g      42   \n36451  60615                화이트보뇌르  초콜릿  화이트초콜릿     화이트초콜릿      30  g      50   \n36452  61033       토블론 스위스 화이트 초콜릿  초콜릿  화이트초콜릿     화이트초콜릿     100  g     100   \n36453  61439          명인명촌 현미칩 초콜릿  초콜릿     초콜릿     화이트초콜릿      65  g      65   \n36454  64772  바이오 화이트 초콜릿 요거트 & 딸기  초콜릿  화이트초콜릿     화이트초콜릿     100  g     100   \n\n      총내용량(ml)  총당류(g)    총내용량  단위용량 대비 설탕 비율  설탕비율의 소분류 평균값  \n8331         -    14.0  1360.0           82.4            0.0  \n8332         -     9.5   680.0           55.9            0.0  \n8333         -    50.0  2000.0           50.0            0.0  \n8334         -    16.9   300.0           56.3            0.0  \n8335         -    14.0    36.0           38.9            0.0  \n...        ...     ...     ...            ...            ...  \n36450        -    20.4    42.0           48.6            0.0  \n36451        -    13.0    50.0           43.3            0.0  \n36452        -    63.0   100.0           63.0            0.0  \n36453        -    26.0    65.0           40.0            0.0  \n36454        -    51.7   100.0           51.7            0.0  \n\n[3457 rows x 13 columns]",
      "text/html": "<div>\n<style scoped>\n    .dataframe tbody tr th:only-of-type {\n        vertical-align: middle;\n    }\n\n    .dataframe tbody tr th {\n        vertical-align: top;\n    }\n\n    .dataframe thead th {\n        text-align: right;\n    }\n</style>\n<table border=\"1\" class=\"dataframe\">\n  <thead>\n    <tr style=\"text-align: right;\">\n      <th></th>\n      <th>No</th>\n      <th>식품명</th>\n      <th>대분류</th>\n      <th>중분류</th>\n      <th>소분류</th>\n      <th>1회 제공량</th>\n      <th>용량</th>\n      <th>총내용량(g)</th>\n      <th>총내용량(ml)</th>\n      <th>총당류(g)</th>\n      <th>총내용량</th>\n      <th>단위용량 대비 설탕 비율</th>\n      <th>설탕비율의 소분류 평균값</th>\n    </tr>\n  </thead>\n  <tbody>\n    <tr>\n      <th>8331</th>\n      <td>9776</td>\n      <td>제티 쵸코렛맛</td>\n      <td>초콜릿</td>\n      <td>초콜릿</td>\n      <td>기타 코코아가공품</td>\n      <td>17</td>\n      <td>g</td>\n      <td>1360</td>\n      <td>-</td>\n      <td>14.0</td>\n      <td>1360.0</td>\n      <td>82.4</td>\n      <td>0.0</td>\n    </tr>\n    <tr>\n      <th>8332</th>\n      <td>9777</td>\n      <td>미떼 핫초코 오리지날</td>\n      <td>초콜릿</td>\n      <td>초콜릿</td>\n      <td>기타 코코아가공품</td>\n      <td>17</td>\n      <td>g</td>\n      <td>680</td>\n      <td>-</td>\n      <td>9.5</td>\n      <td>680.0</td>\n      <td>55.9</td>\n      <td>0.0</td>\n    </tr>\n    <tr>\n      <th>8333</th>\n      <td>9779</td>\n      <td>코코렛소스</td>\n      <td>초콜릿</td>\n      <td>초콜릿</td>\n      <td>기타 코코아가공품</td>\n      <td>100</td>\n      <td>g</td>\n      <td>2000</td>\n      <td>-</td>\n      <td>50.0</td>\n      <td>2000.0</td>\n      <td>50.0</td>\n      <td>0.0</td>\n    </tr>\n    <tr>\n      <th>8334</th>\n      <td>9781</td>\n      <td>미떼 핫초코 마일드</td>\n      <td>초콜릿</td>\n      <td>초콜릿</td>\n      <td>기타 코코아가공품</td>\n      <td>30</td>\n      <td>g</td>\n      <td>300</td>\n      <td>-</td>\n      <td>16.9</td>\n      <td>300.0</td>\n      <td>56.3</td>\n      <td>0.0</td>\n    </tr>\n    <tr>\n      <th>8335</th>\n      <td>9783</td>\n      <td>뉴얼려먹는초코만들기</td>\n      <td>초콜릿</td>\n      <td>초콜릿</td>\n      <td>기타 코코아가공품</td>\n      <td>36</td>\n      <td>g</td>\n      <td>36</td>\n      <td>-</td>\n      <td>14.0</td>\n      <td>36.0</td>\n      <td>38.9</td>\n      <td>0.0</td>\n    </tr>\n    <tr>\n      <th>...</th>\n      <td>...</td>\n      <td>...</td>\n      <td>...</td>\n      <td>...</td>\n      <td>...</td>\n      <td>...</td>\n      <td>...</td>\n      <td>...</td>\n      <td>...</td>\n      <td>...</td>\n      <td>...</td>\n      <td>...</td>\n      <td>...</td>\n    </tr>\n    <tr>\n      <th>36450</th>\n      <td>59687</td>\n      <td>모리나가 다스 화이트 초콜릿</td>\n      <td>초콜릿</td>\n      <td>화이트초콜릿</td>\n      <td>화이트초콜릿</td>\n      <td>42</td>\n      <td>g</td>\n      <td>42</td>\n      <td>-</td>\n      <td>20.4</td>\n      <td>42.0</td>\n      <td>48.6</td>\n      <td>0.0</td>\n    </tr>\n    <tr>\n      <th>36451</th>\n      <td>60615</td>\n      <td>화이트보뇌르</td>\n      <td>초콜릿</td>\n      <td>화이트초콜릿</td>\n      <td>화이트초콜릿</td>\n      <td>30</td>\n      <td>g</td>\n      <td>50</td>\n      <td>-</td>\n      <td>13.0</td>\n      <td>50.0</td>\n      <td>43.3</td>\n      <td>0.0</td>\n    </tr>\n    <tr>\n      <th>36452</th>\n      <td>61033</td>\n      <td>토블론 스위스 화이트 초콜릿</td>\n      <td>초콜릿</td>\n      <td>화이트초콜릿</td>\n      <td>화이트초콜릿</td>\n      <td>100</td>\n      <td>g</td>\n      <td>100</td>\n      <td>-</td>\n      <td>63.0</td>\n      <td>100.0</td>\n      <td>63.0</td>\n      <td>0.0</td>\n    </tr>\n    <tr>\n      <th>36453</th>\n      <td>61439</td>\n      <td>명인명촌 현미칩 초콜릿</td>\n      <td>초콜릿</td>\n      <td>초콜릿</td>\n      <td>화이트초콜릿</td>\n      <td>65</td>\n      <td>g</td>\n      <td>65</td>\n      <td>-</td>\n      <td>26.0</td>\n      <td>65.0</td>\n      <td>40.0</td>\n      <td>0.0</td>\n    </tr>\n    <tr>\n      <th>36454</th>\n      <td>64772</td>\n      <td>바이오 화이트 초콜릿 요거트 &amp; 딸기</td>\n      <td>초콜릿</td>\n      <td>화이트초콜릿</td>\n      <td>화이트초콜릿</td>\n      <td>100</td>\n      <td>g</td>\n      <td>100</td>\n      <td>-</td>\n      <td>51.7</td>\n      <td>100.0</td>\n      <td>51.7</td>\n      <td>0.0</td>\n    </tr>\n  </tbody>\n</table>\n<p>3457 rows × 13 columns</p>\n</div>"
     },
     "execution_count": 522,
     "metadata": {},
     "output_type": "execute_result"
    }
   ],
   "source": [
    "sheet.loc[(sheet['대분류'] == '초콜릿'), :]"
   ],
   "metadata": {
    "collapsed": false,
    "pycharm": {
     "name": "#%%\n"
    }
   }
  },
  {
   "cell_type": "code",
   "execution_count": 523,
   "outputs": [
    {
     "name": "stdout",
     "output_type": "stream",
     "text": [
      "{'다크초콜릿': 445, '밀크초콜릿': 374, '초콜릿': 2458, '화이트초콜릿': 180}\n"
     ]
    }
   ],
   "source": [
    "pp.pprint(top_category_count_fn('초콜릿'))"
   ],
   "metadata": {
    "collapsed": false,
    "pycharm": {
     "name": "#%%\n"
    }
   }
  },
  {
   "cell_type": "code",
   "execution_count": 524,
   "outputs": [],
   "source": [
    "sheet.loc[(sheet['대분류'] == '초콜릿') & (sheet['소분류'] == '화이트초콜릿'), '중분류'] = '화이트초콜릿'\n",
    "sheet.loc[(sheet['대분류'] == '초콜릿') & (sheet['소분류'] == '밀크초콜릿'), '중분류'] = '밀크초콜릿'"
   ],
   "metadata": {
    "collapsed": false,
    "pycharm": {
     "name": "#%%\n"
    }
   }
  },
  {
   "cell_type": "code",
   "execution_count": 525,
   "outputs": [
    {
     "name": "stdout",
     "output_type": "stream",
     "text": [
      "{'다크초콜릿': 441, '밀크초콜릿': 488, '초콜릿': 2294, '화이트초콜릿': 234}\n"
     ]
    }
   ],
   "source": [
    "pp.pprint(top_category_count_fn('초콜릿'))"
   ],
   "metadata": {
    "collapsed": false,
    "pycharm": {
     "name": "#%%\n"
    }
   }
  },
  {
   "cell_type": "code",
   "execution_count": 526,
   "outputs": [],
   "source": [
    "sheet.loc[(sheet['대분류'] == '초콜릿') & (sheet['중분류'] == '초콜릿'), '중분류'] = '일반'"
   ],
   "metadata": {
    "collapsed": false,
    "pycharm": {
     "name": "#%%\n"
    }
   }
  },
  {
   "cell_type": "code",
   "execution_count": 527,
   "outputs": [
    {
     "name": "stdout",
     "output_type": "stream",
     "text": [
      "{'다크초콜릿': 441, '밀크초콜릿': 488, '일반': 2294, '화이트초콜릿': 234}\n"
     ]
    }
   ],
   "source": [
    "pp.pprint(top_category_count_fn('초콜릿'))"
   ],
   "metadata": {
    "collapsed": false,
    "pycharm": {
     "name": "#%%\n"
    }
   }
  },
  {
   "cell_type": "code",
   "execution_count": 528,
   "outputs": [
    {
     "data": {
      "text/plain": "          No           식품명  대분류    중분류        소분류  1회 제공량 용량 총내용량(g) 총내용량(ml)  \\\n8343    9799   타코 카페 다크초콜릿  초콜릿  다크초콜릿  기타 코코아가공품      30  g    1000        -   \n8349    9813       제주다크크런치  초콜릿  다크초콜릿  기타 코코아가공품      30  g     240        -   \n8354    9823     아임요다크초코믹스  초콜릿  다크초콜릿  기타 코코아가공품      30  g     800        -   \n8365    9847    제주하르방다크초콜릿  초콜릿  다크초콜릿  기타 코코아가공품      72  g      72        -   \n8400   16583      다크초콜릿파우더  초콜릿  다크초콜릿  기타 코코아가공품      56  g      56        -   \n...      ...           ...  ...    ...        ...     ... ..     ...      ...   \n28021  66394  아인스 카카오 (다크)  초콜릿  다크초콜릿     초콜릿가공품     100  g     130        -   \n28029  66430        다크생초콜릿  초콜릿  다크초콜릿     초콜릿가공품     100  g     160        -   \n28032  66586        다크생초콜릿  초콜릿  다크초콜릿     초콜릿가공품     132  g     132        -   \n28067  67320       리얼다크초코볼  초콜릿  다크초콜릿     초콜릿가공품      30  g      30        -   \n28068  67513       몰티져스 다크  초콜릿  다크초콜릿     초콜릿가공품      37  g      37        -   \n\n       총당류(g)    총내용량  단위용량 대비 설탕 비율  설탕비율의 소분류 평균값  \n8343     15.0  1000.0           50.0            0.0  \n8349     16.2   240.0           54.0            0.0  \n8354     17.0   800.0           56.7            0.0  \n8365     36.7    72.0           51.0            0.0  \n8400     35.0    56.0           62.5            0.0  \n...       ...     ...            ...            ...  \n28021    34.0   130.0           34.0            0.0  \n28029    31.0   160.0           31.0            0.0  \n28032    42.0   132.0           31.8            0.0  \n28067     9.0    30.0           30.0            0.0  \n28068    18.0    37.0           48.6            0.0  \n\n[441 rows x 13 columns]",
      "text/html": "<div>\n<style scoped>\n    .dataframe tbody tr th:only-of-type {\n        vertical-align: middle;\n    }\n\n    .dataframe tbody tr th {\n        vertical-align: top;\n    }\n\n    .dataframe thead th {\n        text-align: right;\n    }\n</style>\n<table border=\"1\" class=\"dataframe\">\n  <thead>\n    <tr style=\"text-align: right;\">\n      <th></th>\n      <th>No</th>\n      <th>식품명</th>\n      <th>대분류</th>\n      <th>중분류</th>\n      <th>소분류</th>\n      <th>1회 제공량</th>\n      <th>용량</th>\n      <th>총내용량(g)</th>\n      <th>총내용량(ml)</th>\n      <th>총당류(g)</th>\n      <th>총내용량</th>\n      <th>단위용량 대비 설탕 비율</th>\n      <th>설탕비율의 소분류 평균값</th>\n    </tr>\n  </thead>\n  <tbody>\n    <tr>\n      <th>8343</th>\n      <td>9799</td>\n      <td>타코 카페 다크초콜릿</td>\n      <td>초콜릿</td>\n      <td>다크초콜릿</td>\n      <td>기타 코코아가공품</td>\n      <td>30</td>\n      <td>g</td>\n      <td>1000</td>\n      <td>-</td>\n      <td>15.0</td>\n      <td>1000.0</td>\n      <td>50.0</td>\n      <td>0.0</td>\n    </tr>\n    <tr>\n      <th>8349</th>\n      <td>9813</td>\n      <td>제주다크크런치</td>\n      <td>초콜릿</td>\n      <td>다크초콜릿</td>\n      <td>기타 코코아가공품</td>\n      <td>30</td>\n      <td>g</td>\n      <td>240</td>\n      <td>-</td>\n      <td>16.2</td>\n      <td>240.0</td>\n      <td>54.0</td>\n      <td>0.0</td>\n    </tr>\n    <tr>\n      <th>8354</th>\n      <td>9823</td>\n      <td>아임요다크초코믹스</td>\n      <td>초콜릿</td>\n      <td>다크초콜릿</td>\n      <td>기타 코코아가공품</td>\n      <td>30</td>\n      <td>g</td>\n      <td>800</td>\n      <td>-</td>\n      <td>17.0</td>\n      <td>800.0</td>\n      <td>56.7</td>\n      <td>0.0</td>\n    </tr>\n    <tr>\n      <th>8365</th>\n      <td>9847</td>\n      <td>제주하르방다크초콜릿</td>\n      <td>초콜릿</td>\n      <td>다크초콜릿</td>\n      <td>기타 코코아가공품</td>\n      <td>72</td>\n      <td>g</td>\n      <td>72</td>\n      <td>-</td>\n      <td>36.7</td>\n      <td>72.0</td>\n      <td>51.0</td>\n      <td>0.0</td>\n    </tr>\n    <tr>\n      <th>8400</th>\n      <td>16583</td>\n      <td>다크초콜릿파우더</td>\n      <td>초콜릿</td>\n      <td>다크초콜릿</td>\n      <td>기타 코코아가공품</td>\n      <td>56</td>\n      <td>g</td>\n      <td>56</td>\n      <td>-</td>\n      <td>35.0</td>\n      <td>56.0</td>\n      <td>62.5</td>\n      <td>0.0</td>\n    </tr>\n    <tr>\n      <th>...</th>\n      <td>...</td>\n      <td>...</td>\n      <td>...</td>\n      <td>...</td>\n      <td>...</td>\n      <td>...</td>\n      <td>...</td>\n      <td>...</td>\n      <td>...</td>\n      <td>...</td>\n      <td>...</td>\n      <td>...</td>\n      <td>...</td>\n    </tr>\n    <tr>\n      <th>28021</th>\n      <td>66394</td>\n      <td>아인스 카카오 (다크)</td>\n      <td>초콜릿</td>\n      <td>다크초콜릿</td>\n      <td>초콜릿가공품</td>\n      <td>100</td>\n      <td>g</td>\n      <td>130</td>\n      <td>-</td>\n      <td>34.0</td>\n      <td>130.0</td>\n      <td>34.0</td>\n      <td>0.0</td>\n    </tr>\n    <tr>\n      <th>28029</th>\n      <td>66430</td>\n      <td>다크생초콜릿</td>\n      <td>초콜릿</td>\n      <td>다크초콜릿</td>\n      <td>초콜릿가공품</td>\n      <td>100</td>\n      <td>g</td>\n      <td>160</td>\n      <td>-</td>\n      <td>31.0</td>\n      <td>160.0</td>\n      <td>31.0</td>\n      <td>0.0</td>\n    </tr>\n    <tr>\n      <th>28032</th>\n      <td>66586</td>\n      <td>다크생초콜릿</td>\n      <td>초콜릿</td>\n      <td>다크초콜릿</td>\n      <td>초콜릿가공품</td>\n      <td>132</td>\n      <td>g</td>\n      <td>132</td>\n      <td>-</td>\n      <td>42.0</td>\n      <td>132.0</td>\n      <td>31.8</td>\n      <td>0.0</td>\n    </tr>\n    <tr>\n      <th>28067</th>\n      <td>67320</td>\n      <td>리얼다크초코볼</td>\n      <td>초콜릿</td>\n      <td>다크초콜릿</td>\n      <td>초콜릿가공품</td>\n      <td>30</td>\n      <td>g</td>\n      <td>30</td>\n      <td>-</td>\n      <td>9.0</td>\n      <td>30.0</td>\n      <td>30.0</td>\n      <td>0.0</td>\n    </tr>\n    <tr>\n      <th>28068</th>\n      <td>67513</td>\n      <td>몰티져스 다크</td>\n      <td>초콜릿</td>\n      <td>다크초콜릿</td>\n      <td>초콜릿가공품</td>\n      <td>37</td>\n      <td>g</td>\n      <td>37</td>\n      <td>-</td>\n      <td>18.0</td>\n      <td>37.0</td>\n      <td>48.6</td>\n      <td>0.0</td>\n    </tr>\n  </tbody>\n</table>\n<p>441 rows × 13 columns</p>\n</div>"
     },
     "execution_count": 528,
     "metadata": {},
     "output_type": "execute_result"
    }
   ],
   "source": [
    "sheet.loc[(sheet['대분류'] == '초콜릿') & (sheet['중분류'] == '다크초콜릿'), :]"
   ],
   "metadata": {
    "collapsed": false,
    "pycharm": {
     "name": "#%%\n"
    }
   }
  },
  {
   "cell_type": "code",
   "execution_count": 529,
   "outputs": [],
   "source": [
    "sheet.loc[(sheet['중분류'] == '다크초콜릿') & ((sheet['소분류'] == '기타 코코아가공품') | (sheet['소분류'] == '초콜릿가공품')), '소분류'] = '가공'"
   ],
   "metadata": {
    "collapsed": false,
    "pycharm": {
     "name": "#%%\n"
    }
   }
  },
  {
   "cell_type": "code",
   "execution_count": 530,
   "outputs": [],
   "source": [
    "sheet.loc[(sheet['중분류'] == '다크초콜릿') & ((sheet['소분류'] == '준초콜릿') | (sheet['소분류'] == '초콜릿')), '소분류'] = '수제'"
   ],
   "metadata": {
    "collapsed": false,
    "pycharm": {
     "name": "#%%\n"
    }
   }
  },
  {
   "cell_type": "code",
   "execution_count": 531,
   "outputs": [
    {
     "data": {
      "text/plain": "          No                   식품명  대분류    중분류        소분류  1회 제공량 용량 총내용량(g)  \\\n8387    9888          자판기 밀크코코아 한잔  초콜릿  밀크초콜릿  기타 코코아가공품      19  g     190   \n8404   40557      빠떼아글라세 블롱드(코팅밀크)  초콜릿  밀크초콜릿  기타 코코아가공품     100  g    5000   \n8405   40577          코팅용 밀크 PL100  초콜릿  밀크초콜릿  기타 코코아가공품     100  g   10000   \n8422   44425               커버럭스 밀크  초콜릿  밀크초콜릿  기타 코코아가공품     100  g    5000   \n8431   45525  밀크 초콜릿 핫 코코아 (13220)  초콜릿  밀크초콜릿  기타 코코아가공품     100  g     372   \n...      ...                   ...  ...    ...        ...     ... ..     ...   \n29350  42232             밀크츄 다섯가지향  초콜릿  밀크초콜릿        캔디류     100  g    1000   \n29454  42735               밀크 노 쿠니  초콜릿  밀크초콜릿        캔디류     100  g     115   \n29455  42736               밀크 노 쿠니  초콜릿  밀크초콜릿        캔디류     100  g     115   \n29456  42737                 밀크노쿠니  초콜릿  밀크초콜릿        캔디류     100  g     125   \n29457  42738                 밀크노쿠니  초콜릿  밀크초콜릿        캔디류     100  g     125   \n\n      총내용량(ml)  총당류(g)     총내용량  단위용량 대비 설탕 비율  설탕비율의 소분류 평균값  \n8387         -    12.0    190.0           63.2            0.0  \n8404         -    57.0   5000.0           57.0            0.0  \n8405         -    57.8  10000.0           57.8            0.0  \n8422         -    52.0   5000.0           52.0            0.0  \n8431         -    72.6    372.0           72.6            0.0  \n...        ...     ...      ...            ...            ...  \n29350        -    45.0   1000.0           45.0            0.0  \n29454        -    67.5    115.0           67.5            0.0  \n29455        -    68.0    115.0           68.0            0.0  \n29456        -    75.0    125.0           75.0            0.0  \n29457        -    69.0    125.0           69.0            0.0  \n\n[488 rows x 13 columns]",
      "text/html": "<div>\n<style scoped>\n    .dataframe tbody tr th:only-of-type {\n        vertical-align: middle;\n    }\n\n    .dataframe tbody tr th {\n        vertical-align: top;\n    }\n\n    .dataframe thead th {\n        text-align: right;\n    }\n</style>\n<table border=\"1\" class=\"dataframe\">\n  <thead>\n    <tr style=\"text-align: right;\">\n      <th></th>\n      <th>No</th>\n      <th>식품명</th>\n      <th>대분류</th>\n      <th>중분류</th>\n      <th>소분류</th>\n      <th>1회 제공량</th>\n      <th>용량</th>\n      <th>총내용량(g)</th>\n      <th>총내용량(ml)</th>\n      <th>총당류(g)</th>\n      <th>총내용량</th>\n      <th>단위용량 대비 설탕 비율</th>\n      <th>설탕비율의 소분류 평균값</th>\n    </tr>\n  </thead>\n  <tbody>\n    <tr>\n      <th>8387</th>\n      <td>9888</td>\n      <td>자판기 밀크코코아 한잔</td>\n      <td>초콜릿</td>\n      <td>밀크초콜릿</td>\n      <td>기타 코코아가공품</td>\n      <td>19</td>\n      <td>g</td>\n      <td>190</td>\n      <td>-</td>\n      <td>12.0</td>\n      <td>190.0</td>\n      <td>63.2</td>\n      <td>0.0</td>\n    </tr>\n    <tr>\n      <th>8404</th>\n      <td>40557</td>\n      <td>빠떼아글라세 블롱드(코팅밀크)</td>\n      <td>초콜릿</td>\n      <td>밀크초콜릿</td>\n      <td>기타 코코아가공품</td>\n      <td>100</td>\n      <td>g</td>\n      <td>5000</td>\n      <td>-</td>\n      <td>57.0</td>\n      <td>5000.0</td>\n      <td>57.0</td>\n      <td>0.0</td>\n    </tr>\n    <tr>\n      <th>8405</th>\n      <td>40577</td>\n      <td>코팅용 밀크 PL100</td>\n      <td>초콜릿</td>\n      <td>밀크초콜릿</td>\n      <td>기타 코코아가공품</td>\n      <td>100</td>\n      <td>g</td>\n      <td>10000</td>\n      <td>-</td>\n      <td>57.8</td>\n      <td>10000.0</td>\n      <td>57.8</td>\n      <td>0.0</td>\n    </tr>\n    <tr>\n      <th>8422</th>\n      <td>44425</td>\n      <td>커버럭스 밀크</td>\n      <td>초콜릿</td>\n      <td>밀크초콜릿</td>\n      <td>기타 코코아가공품</td>\n      <td>100</td>\n      <td>g</td>\n      <td>5000</td>\n      <td>-</td>\n      <td>52.0</td>\n      <td>5000.0</td>\n      <td>52.0</td>\n      <td>0.0</td>\n    </tr>\n    <tr>\n      <th>8431</th>\n      <td>45525</td>\n      <td>밀크 초콜릿 핫 코코아 (13220)</td>\n      <td>초콜릿</td>\n      <td>밀크초콜릿</td>\n      <td>기타 코코아가공품</td>\n      <td>100</td>\n      <td>g</td>\n      <td>372</td>\n      <td>-</td>\n      <td>72.6</td>\n      <td>372.0</td>\n      <td>72.6</td>\n      <td>0.0</td>\n    </tr>\n    <tr>\n      <th>...</th>\n      <td>...</td>\n      <td>...</td>\n      <td>...</td>\n      <td>...</td>\n      <td>...</td>\n      <td>...</td>\n      <td>...</td>\n      <td>...</td>\n      <td>...</td>\n      <td>...</td>\n      <td>...</td>\n      <td>...</td>\n      <td>...</td>\n    </tr>\n    <tr>\n      <th>29350</th>\n      <td>42232</td>\n      <td>밀크츄 다섯가지향</td>\n      <td>초콜릿</td>\n      <td>밀크초콜릿</td>\n      <td>캔디류</td>\n      <td>100</td>\n      <td>g</td>\n      <td>1000</td>\n      <td>-</td>\n      <td>45.0</td>\n      <td>1000.0</td>\n      <td>45.0</td>\n      <td>0.0</td>\n    </tr>\n    <tr>\n      <th>29454</th>\n      <td>42735</td>\n      <td>밀크 노 쿠니</td>\n      <td>초콜릿</td>\n      <td>밀크초콜릿</td>\n      <td>캔디류</td>\n      <td>100</td>\n      <td>g</td>\n      <td>115</td>\n      <td>-</td>\n      <td>67.5</td>\n      <td>115.0</td>\n      <td>67.5</td>\n      <td>0.0</td>\n    </tr>\n    <tr>\n      <th>29455</th>\n      <td>42736</td>\n      <td>밀크 노 쿠니</td>\n      <td>초콜릿</td>\n      <td>밀크초콜릿</td>\n      <td>캔디류</td>\n      <td>100</td>\n      <td>g</td>\n      <td>115</td>\n      <td>-</td>\n      <td>68.0</td>\n      <td>115.0</td>\n      <td>68.0</td>\n      <td>0.0</td>\n    </tr>\n    <tr>\n      <th>29456</th>\n      <td>42737</td>\n      <td>밀크노쿠니</td>\n      <td>초콜릿</td>\n      <td>밀크초콜릿</td>\n      <td>캔디류</td>\n      <td>100</td>\n      <td>g</td>\n      <td>125</td>\n      <td>-</td>\n      <td>75.0</td>\n      <td>125.0</td>\n      <td>75.0</td>\n      <td>0.0</td>\n    </tr>\n    <tr>\n      <th>29457</th>\n      <td>42738</td>\n      <td>밀크노쿠니</td>\n      <td>초콜릿</td>\n      <td>밀크초콜릿</td>\n      <td>캔디류</td>\n      <td>100</td>\n      <td>g</td>\n      <td>125</td>\n      <td>-</td>\n      <td>69.0</td>\n      <td>125.0</td>\n      <td>69.0</td>\n      <td>0.0</td>\n    </tr>\n  </tbody>\n</table>\n<p>488 rows × 13 columns</p>\n</div>"
     },
     "execution_count": 531,
     "metadata": {},
     "output_type": "execute_result"
    }
   ],
   "source": [
    "sheet.loc[(sheet['대분류'] == '초콜릿') & (sheet['중분류'] == '밀크초콜릿'), :]"
   ],
   "metadata": {
    "collapsed": false,
    "pycharm": {
     "name": "#%%\n"
    }
   }
  },
  {
   "cell_type": "code",
   "execution_count": 532,
   "outputs": [],
   "source": [
    "delete = [28671, 28979, 29331, 29346, 29450, 29451, 29452, 29453, 24401, 18091, 18075, 18074, 18073]\n",
    "for value in delete:\n",
    "    sheet = sheet.drop(value, axis=0)"
   ],
   "metadata": {
    "collapsed": false,
    "pycharm": {
     "name": "#%%\n"
    }
   }
  },
  {
   "cell_type": "code",
   "execution_count": 533,
   "outputs": [],
   "source": [
    "가공 = ['미니쉘', '라인프렌즈', '미니', '에이비씨', '마켓오', '할로윈', '팬더', '해골모양', '호박모양', '동물농장', '하트모양', '허쉬 밀크', '허쉬', '선물상자', '크리스마스', '밀크 초콜렛', '동물', '헤이즐넛', '이퀄', '정어리' '오레오']\n",
    "\n",
    "# sheet.loc[(sheet['중분류'] == '젤리'), '소분류'] = ''\n",
    "\n",
    "for value in 가공:\n",
    "    sheet.loc[(sheet['중분류'] == '밀크초콜릿') & (sheet['식품명'].str.contains(value)), '소분류'] = '가공'"
   ],
   "metadata": {
    "collapsed": false,
    "pycharm": {
     "name": "#%%\n"
    }
   }
  },
  {
   "cell_type": "code",
   "execution_count": 534,
   "outputs": [
    {
     "data": {
      "text/plain": "array(['기타 코코아가공품', '가공', '밀크초콜릿', '사탕', '젤리', '준초콜릿', '초콜릿', '초콜릿가공품',\n       '캔디류'], dtype=object)"
     },
     "execution_count": 534,
     "metadata": {},
     "output_type": "execute_result"
    }
   ],
   "source": [
    "sheet.loc[(sheet['대분류'] == '초콜릿') & (sheet['중분류'] == '밀크초콜릿'), '소분류'].unique()"
   ],
   "metadata": {
    "collapsed": false,
    "pycharm": {
     "name": "#%%\n"
    }
   }
  },
  {
   "cell_type": "code",
   "execution_count": 535,
   "outputs": [],
   "source": [
    "# 코코아가공품, 초콜릿가공품"
   ],
   "metadata": {
    "collapsed": false,
    "pycharm": {
     "name": "#%%\n"
    }
   }
  },
  {
   "cell_type": "code",
   "execution_count": 536,
   "outputs": [],
   "source": [
    "sheet.loc[(sheet['중분류'] == '밀크초콜릿') & ((sheet['소분류'] == '기타 코코아가공품') | (sheet['소분류'] == '초콜릿가공품')), '소분류'] = '가공'"
   ],
   "metadata": {
    "collapsed": false,
    "pycharm": {
     "name": "#%%\n"
    }
   }
  },
  {
   "cell_type": "code",
   "execution_count": 537,
   "outputs": [],
   "source": [
    "sheet.loc[(sheet['중분류'] == '밀크초콜릿') & ((sheet['소분류'] == '준초콜릿') | (sheet['소분류'] == '초콜릿')| (sheet['소분류'] == '밀크초콜릿')), '소분류'] = '수제'"
   ],
   "metadata": {
    "collapsed": false,
    "pycharm": {
     "name": "#%%\n"
    }
   }
  },
  {
   "cell_type": "code",
   "execution_count": 538,
   "outputs": [
    {
     "data": {
      "text/plain": "array(['가공', '수제', '사탕', '젤리', '캔디류'], dtype=object)"
     },
     "execution_count": 538,
     "metadata": {},
     "output_type": "execute_result"
    }
   ],
   "source": [
    "sheet.loc[(sheet['대분류'] == '초콜릿') & (sheet['중분류'] == '밀크초콜릿'), '소분류'].unique()"
   ],
   "metadata": {
    "collapsed": false,
    "pycharm": {
     "name": "#%%\n"
    }
   }
  },
  {
   "cell_type": "code",
   "execution_count": 539,
   "outputs": [
    {
     "data": {
      "text/plain": "          No                   식품명  대분류    중분류  소분류  1회 제공량 용량 총내용량(g)  \\\n8387    9888          자판기 밀크코코아 한잔  초콜릿  밀크초콜릿   가공      19  g     190   \n8404   40557      빠떼아글라세 블롱드(코팅밀크)  초콜릿  밀크초콜릿   가공     100  g    5000   \n8405   40577          코팅용 밀크 PL100  초콜릿  밀크초콜릿   가공     100  g   10000   \n8422   44425               커버럭스 밀크  초콜릿  밀크초콜릿   가공     100  g    5000   \n8431   45525  밀크 초콜릿 핫 코코아 (13220)  초콜릿  밀크초콜릿   가공     100  g     372   \n...      ...                   ...  ...    ...  ...     ... ..     ...   \n29350  42232             밀크츄 다섯가지향  초콜릿  밀크초콜릿  캔디류     100  g    1000   \n29454  42735               밀크 노 쿠니  초콜릿  밀크초콜릿  캔디류     100  g     115   \n29455  42736               밀크 노 쿠니  초콜릿  밀크초콜릿  캔디류     100  g     115   \n29456  42737                 밀크노쿠니  초콜릿  밀크초콜릿  캔디류     100  g     125   \n29457  42738                 밀크노쿠니  초콜릿  밀크초콜릿  캔디류     100  g     125   \n\n      총내용량(ml)  총당류(g)     총내용량  단위용량 대비 설탕 비율  설탕비율의 소분류 평균값  \n8387         -    12.0    190.0           63.2            0.0  \n8404         -    57.0   5000.0           57.0            0.0  \n8405         -    57.8  10000.0           57.8            0.0  \n8422         -    52.0   5000.0           52.0            0.0  \n8431         -    72.6    372.0           72.6            0.0  \n...        ...     ...      ...            ...            ...  \n29350        -    45.0   1000.0           45.0            0.0  \n29454        -    67.5    115.0           67.5            0.0  \n29455        -    68.0    115.0           68.0            0.0  \n29456        -    75.0    125.0           75.0            0.0  \n29457        -    69.0    125.0           69.0            0.0  \n\n[488 rows x 13 columns]",
      "text/html": "<div>\n<style scoped>\n    .dataframe tbody tr th:only-of-type {\n        vertical-align: middle;\n    }\n\n    .dataframe tbody tr th {\n        vertical-align: top;\n    }\n\n    .dataframe thead th {\n        text-align: right;\n    }\n</style>\n<table border=\"1\" class=\"dataframe\">\n  <thead>\n    <tr style=\"text-align: right;\">\n      <th></th>\n      <th>No</th>\n      <th>식품명</th>\n      <th>대분류</th>\n      <th>중분류</th>\n      <th>소분류</th>\n      <th>1회 제공량</th>\n      <th>용량</th>\n      <th>총내용량(g)</th>\n      <th>총내용량(ml)</th>\n      <th>총당류(g)</th>\n      <th>총내용량</th>\n      <th>단위용량 대비 설탕 비율</th>\n      <th>설탕비율의 소분류 평균값</th>\n    </tr>\n  </thead>\n  <tbody>\n    <tr>\n      <th>8387</th>\n      <td>9888</td>\n      <td>자판기 밀크코코아 한잔</td>\n      <td>초콜릿</td>\n      <td>밀크초콜릿</td>\n      <td>가공</td>\n      <td>19</td>\n      <td>g</td>\n      <td>190</td>\n      <td>-</td>\n      <td>12.0</td>\n      <td>190.0</td>\n      <td>63.2</td>\n      <td>0.0</td>\n    </tr>\n    <tr>\n      <th>8404</th>\n      <td>40557</td>\n      <td>빠떼아글라세 블롱드(코팅밀크)</td>\n      <td>초콜릿</td>\n      <td>밀크초콜릿</td>\n      <td>가공</td>\n      <td>100</td>\n      <td>g</td>\n      <td>5000</td>\n      <td>-</td>\n      <td>57.0</td>\n      <td>5000.0</td>\n      <td>57.0</td>\n      <td>0.0</td>\n    </tr>\n    <tr>\n      <th>8405</th>\n      <td>40577</td>\n      <td>코팅용 밀크 PL100</td>\n      <td>초콜릿</td>\n      <td>밀크초콜릿</td>\n      <td>가공</td>\n      <td>100</td>\n      <td>g</td>\n      <td>10000</td>\n      <td>-</td>\n      <td>57.8</td>\n      <td>10000.0</td>\n      <td>57.8</td>\n      <td>0.0</td>\n    </tr>\n    <tr>\n      <th>8422</th>\n      <td>44425</td>\n      <td>커버럭스 밀크</td>\n      <td>초콜릿</td>\n      <td>밀크초콜릿</td>\n      <td>가공</td>\n      <td>100</td>\n      <td>g</td>\n      <td>5000</td>\n      <td>-</td>\n      <td>52.0</td>\n      <td>5000.0</td>\n      <td>52.0</td>\n      <td>0.0</td>\n    </tr>\n    <tr>\n      <th>8431</th>\n      <td>45525</td>\n      <td>밀크 초콜릿 핫 코코아 (13220)</td>\n      <td>초콜릿</td>\n      <td>밀크초콜릿</td>\n      <td>가공</td>\n      <td>100</td>\n      <td>g</td>\n      <td>372</td>\n      <td>-</td>\n      <td>72.6</td>\n      <td>372.0</td>\n      <td>72.6</td>\n      <td>0.0</td>\n    </tr>\n    <tr>\n      <th>...</th>\n      <td>...</td>\n      <td>...</td>\n      <td>...</td>\n      <td>...</td>\n      <td>...</td>\n      <td>...</td>\n      <td>...</td>\n      <td>...</td>\n      <td>...</td>\n      <td>...</td>\n      <td>...</td>\n      <td>...</td>\n      <td>...</td>\n    </tr>\n    <tr>\n      <th>29350</th>\n      <td>42232</td>\n      <td>밀크츄 다섯가지향</td>\n      <td>초콜릿</td>\n      <td>밀크초콜릿</td>\n      <td>캔디류</td>\n      <td>100</td>\n      <td>g</td>\n      <td>1000</td>\n      <td>-</td>\n      <td>45.0</td>\n      <td>1000.0</td>\n      <td>45.0</td>\n      <td>0.0</td>\n    </tr>\n    <tr>\n      <th>29454</th>\n      <td>42735</td>\n      <td>밀크 노 쿠니</td>\n      <td>초콜릿</td>\n      <td>밀크초콜릿</td>\n      <td>캔디류</td>\n      <td>100</td>\n      <td>g</td>\n      <td>115</td>\n      <td>-</td>\n      <td>67.5</td>\n      <td>115.0</td>\n      <td>67.5</td>\n      <td>0.0</td>\n    </tr>\n    <tr>\n      <th>29455</th>\n      <td>42736</td>\n      <td>밀크 노 쿠니</td>\n      <td>초콜릿</td>\n      <td>밀크초콜릿</td>\n      <td>캔디류</td>\n      <td>100</td>\n      <td>g</td>\n      <td>115</td>\n      <td>-</td>\n      <td>68.0</td>\n      <td>115.0</td>\n      <td>68.0</td>\n      <td>0.0</td>\n    </tr>\n    <tr>\n      <th>29456</th>\n      <td>42737</td>\n      <td>밀크노쿠니</td>\n      <td>초콜릿</td>\n      <td>밀크초콜릿</td>\n      <td>캔디류</td>\n      <td>100</td>\n      <td>g</td>\n      <td>125</td>\n      <td>-</td>\n      <td>75.0</td>\n      <td>125.0</td>\n      <td>75.0</td>\n      <td>0.0</td>\n    </tr>\n    <tr>\n      <th>29457</th>\n      <td>42738</td>\n      <td>밀크노쿠니</td>\n      <td>초콜릿</td>\n      <td>밀크초콜릿</td>\n      <td>캔디류</td>\n      <td>100</td>\n      <td>g</td>\n      <td>125</td>\n      <td>-</td>\n      <td>69.0</td>\n      <td>125.0</td>\n      <td>69.0</td>\n      <td>0.0</td>\n    </tr>\n  </tbody>\n</table>\n<p>488 rows × 13 columns</p>\n</div>"
     },
     "execution_count": 539,
     "metadata": {},
     "output_type": "execute_result"
    }
   ],
   "source": [
    "sheet.loc[(sheet['대분류'] == '초콜릿') & (sheet['중분류'] == '밀크초콜릿'), :]"
   ],
   "metadata": {
    "collapsed": false,
    "pycharm": {
     "name": "#%%\n"
    }
   }
  },
  {
   "cell_type": "code",
   "execution_count": 540,
   "outputs": [
    {
     "data": {
      "text/plain": "          No                   식품명  대분류     중분류        소분류  1회 제공량  용량  \\\n8340    9793        행복한쇼콜라띠에 화이트초코  초콜릿  화이트초콜릿  기타 코코아가공품     100   g   \n8368    9853              화이트코코렛소스  초콜릿  화이트초콜릿  기타 코코아가공품     100   g   \n8375    9867             화이트코코렛파우더  초콜릿  화이트초콜릿  기타 코코아가공품     100   g   \n8407   40593            화이트초코드링크분말  초콜릿  화이트초콜릿  기타 코코아가공품     100  mL   \n24943  10376                디샤 화이트  초콜릿  화이트초콜릿       준초콜릿      38   g   \n...      ...                   ...  ...     ...        ...     ...  ..   \n36450  59687       모리나가 다스 화이트 초콜릿  초콜릿  화이트초콜릿     화이트초콜릿      42   g   \n36451  60615                화이트보뇌르  초콜릿  화이트초콜릿     화이트초콜릿      30   g   \n36452  61033       토블론 스위스 화이트 초콜릿  초콜릿  화이트초콜릿     화이트초콜릿     100   g   \n36453  61439          명인명촌 현미칩 초콜릿  초콜릿  화이트초콜릿     화이트초콜릿      65   g   \n36454  64772  바이오 화이트 초콜릿 요거트 & 딸기  초콜릿  화이트초콜릿     화이트초콜릿     100   g   \n\n      총내용량(g) 총내용량(ml)  총당류(g)    총내용량  단위용량 대비 설탕 비율  설탕비율의 소분류 평균값  \n8340      100        -    48.0   100.0           48.0            0.0  \n8368     2000        -    51.0  2000.0           51.0            0.0  \n8375      800        -    92.0   800.0           92.0            0.0  \n8407      750        -    60.0   750.0           60.0            0.0  \n24943      38        -    15.0    38.0           39.5            0.0  \n...       ...      ...     ...     ...            ...            ...  \n36450      42        -    20.4    42.0           48.6            0.0  \n36451      50        -    13.0    50.0           43.3            0.0  \n36452     100        -    63.0   100.0           63.0            0.0  \n36453      65        -    26.0    65.0           40.0            0.0  \n36454     100        -    51.7   100.0           51.7            0.0  \n\n[234 rows x 13 columns]",
      "text/html": "<div>\n<style scoped>\n    .dataframe tbody tr th:only-of-type {\n        vertical-align: middle;\n    }\n\n    .dataframe tbody tr th {\n        vertical-align: top;\n    }\n\n    .dataframe thead th {\n        text-align: right;\n    }\n</style>\n<table border=\"1\" class=\"dataframe\">\n  <thead>\n    <tr style=\"text-align: right;\">\n      <th></th>\n      <th>No</th>\n      <th>식품명</th>\n      <th>대분류</th>\n      <th>중분류</th>\n      <th>소분류</th>\n      <th>1회 제공량</th>\n      <th>용량</th>\n      <th>총내용량(g)</th>\n      <th>총내용량(ml)</th>\n      <th>총당류(g)</th>\n      <th>총내용량</th>\n      <th>단위용량 대비 설탕 비율</th>\n      <th>설탕비율의 소분류 평균값</th>\n    </tr>\n  </thead>\n  <tbody>\n    <tr>\n      <th>8340</th>\n      <td>9793</td>\n      <td>행복한쇼콜라띠에 화이트초코</td>\n      <td>초콜릿</td>\n      <td>화이트초콜릿</td>\n      <td>기타 코코아가공품</td>\n      <td>100</td>\n      <td>g</td>\n      <td>100</td>\n      <td>-</td>\n      <td>48.0</td>\n      <td>100.0</td>\n      <td>48.0</td>\n      <td>0.0</td>\n    </tr>\n    <tr>\n      <th>8368</th>\n      <td>9853</td>\n      <td>화이트코코렛소스</td>\n      <td>초콜릿</td>\n      <td>화이트초콜릿</td>\n      <td>기타 코코아가공품</td>\n      <td>100</td>\n      <td>g</td>\n      <td>2000</td>\n      <td>-</td>\n      <td>51.0</td>\n      <td>2000.0</td>\n      <td>51.0</td>\n      <td>0.0</td>\n    </tr>\n    <tr>\n      <th>8375</th>\n      <td>9867</td>\n      <td>화이트코코렛파우더</td>\n      <td>초콜릿</td>\n      <td>화이트초콜릿</td>\n      <td>기타 코코아가공품</td>\n      <td>100</td>\n      <td>g</td>\n      <td>800</td>\n      <td>-</td>\n      <td>92.0</td>\n      <td>800.0</td>\n      <td>92.0</td>\n      <td>0.0</td>\n    </tr>\n    <tr>\n      <th>8407</th>\n      <td>40593</td>\n      <td>화이트초코드링크분말</td>\n      <td>초콜릿</td>\n      <td>화이트초콜릿</td>\n      <td>기타 코코아가공품</td>\n      <td>100</td>\n      <td>mL</td>\n      <td>750</td>\n      <td>-</td>\n      <td>60.0</td>\n      <td>750.0</td>\n      <td>60.0</td>\n      <td>0.0</td>\n    </tr>\n    <tr>\n      <th>24943</th>\n      <td>10376</td>\n      <td>디샤 화이트</td>\n      <td>초콜릿</td>\n      <td>화이트초콜릿</td>\n      <td>준초콜릿</td>\n      <td>38</td>\n      <td>g</td>\n      <td>38</td>\n      <td>-</td>\n      <td>15.0</td>\n      <td>38.0</td>\n      <td>39.5</td>\n      <td>0.0</td>\n    </tr>\n    <tr>\n      <th>...</th>\n      <td>...</td>\n      <td>...</td>\n      <td>...</td>\n      <td>...</td>\n      <td>...</td>\n      <td>...</td>\n      <td>...</td>\n      <td>...</td>\n      <td>...</td>\n      <td>...</td>\n      <td>...</td>\n      <td>...</td>\n      <td>...</td>\n    </tr>\n    <tr>\n      <th>36450</th>\n      <td>59687</td>\n      <td>모리나가 다스 화이트 초콜릿</td>\n      <td>초콜릿</td>\n      <td>화이트초콜릿</td>\n      <td>화이트초콜릿</td>\n      <td>42</td>\n      <td>g</td>\n      <td>42</td>\n      <td>-</td>\n      <td>20.4</td>\n      <td>42.0</td>\n      <td>48.6</td>\n      <td>0.0</td>\n    </tr>\n    <tr>\n      <th>36451</th>\n      <td>60615</td>\n      <td>화이트보뇌르</td>\n      <td>초콜릿</td>\n      <td>화이트초콜릿</td>\n      <td>화이트초콜릿</td>\n      <td>30</td>\n      <td>g</td>\n      <td>50</td>\n      <td>-</td>\n      <td>13.0</td>\n      <td>50.0</td>\n      <td>43.3</td>\n      <td>0.0</td>\n    </tr>\n    <tr>\n      <th>36452</th>\n      <td>61033</td>\n      <td>토블론 스위스 화이트 초콜릿</td>\n      <td>초콜릿</td>\n      <td>화이트초콜릿</td>\n      <td>화이트초콜릿</td>\n      <td>100</td>\n      <td>g</td>\n      <td>100</td>\n      <td>-</td>\n      <td>63.0</td>\n      <td>100.0</td>\n      <td>63.0</td>\n      <td>0.0</td>\n    </tr>\n    <tr>\n      <th>36453</th>\n      <td>61439</td>\n      <td>명인명촌 현미칩 초콜릿</td>\n      <td>초콜릿</td>\n      <td>화이트초콜릿</td>\n      <td>화이트초콜릿</td>\n      <td>65</td>\n      <td>g</td>\n      <td>65</td>\n      <td>-</td>\n      <td>26.0</td>\n      <td>65.0</td>\n      <td>40.0</td>\n      <td>0.0</td>\n    </tr>\n    <tr>\n      <th>36454</th>\n      <td>64772</td>\n      <td>바이오 화이트 초콜릿 요거트 &amp; 딸기</td>\n      <td>초콜릿</td>\n      <td>화이트초콜릿</td>\n      <td>화이트초콜릿</td>\n      <td>100</td>\n      <td>g</td>\n      <td>100</td>\n      <td>-</td>\n      <td>51.7</td>\n      <td>100.0</td>\n      <td>51.7</td>\n      <td>0.0</td>\n    </tr>\n  </tbody>\n</table>\n<p>234 rows × 13 columns</p>\n</div>"
     },
     "execution_count": 540,
     "metadata": {},
     "output_type": "execute_result"
    }
   ],
   "source": [
    "sheet.loc[(sheet['대분류'] == '초콜릿') & (sheet['중분류'] == '화이트초콜릿'), :]"
   ],
   "metadata": {
    "collapsed": false,
    "pycharm": {
     "name": "#%%\n"
    }
   }
  },
  {
   "cell_type": "code",
   "execution_count": 541,
   "outputs": [],
   "source": [
    "delete = [8327, 8355, 8362, 8394, 29096, 29234, 29314]\n",
    "for value in delete:\n",
    "    sheet = sheet.drop(value, axis=0)"
   ],
   "metadata": {
    "collapsed": false,
    "pycharm": {
     "name": "#%%\n"
    }
   }
  },
  {
   "cell_type": "code",
   "execution_count": 542,
   "outputs": [],
   "source": [
    "sheet.loc[(sheet['중분류'] == '화이트초콜릿') & ((sheet['소분류'] == '초콜릿가공품') | (sheet['소분류'] == '초콜릿') | (sheet['소분류'] == '준초콜릿')), '소분류'] = '가공'"
   ],
   "metadata": {
    "collapsed": false,
    "pycharm": {
     "name": "#%%\n"
    }
   }
  },
  {
   "cell_type": "code",
   "execution_count": 543,
   "outputs": [],
   "source": [
    "sheet.loc[(sheet['중분류'] == '화이트초콜릿') & (sheet['소분류'] == '화이트초콜릿'), '소분류'] = '수제'"
   ],
   "metadata": {
    "collapsed": false,
    "pycharm": {
     "name": "#%%\n"
    }
   }
  },
  {
   "cell_type": "code",
   "execution_count": 544,
   "outputs": [
    {
     "name": "stdout",
     "output_type": "stream",
     "text": [
      "{'가공': 95, '기타 코코아가공품': 4, '수제': 132, '캔디류': 3}\n"
     ]
    }
   ],
   "source": [
    "pp.pprint(category_count_fn('화이트초콜릿'))"
   ],
   "metadata": {
    "collapsed": false,
    "pycharm": {
     "name": "#%%\n"
    }
   }
  },
  {
   "cell_type": "code",
   "execution_count": 545,
   "outputs": [
    {
     "data": {
      "text/plain": "          No                   식품명  대분류     중분류        소분류  1회 제공량  용량  \\\n8340    9793        행복한쇼콜라띠에 화이트초코  초콜릿  화이트초콜릿  기타 코코아가공품     100   g   \n8368    9853              화이트코코렛소스  초콜릿  화이트초콜릿  기타 코코아가공품     100   g   \n8375    9867             화이트코코렛파우더  초콜릿  화이트초콜릿  기타 코코아가공품     100   g   \n8407   40593            화이트초코드링크분말  초콜릿  화이트초콜릿  기타 코코아가공품     100  mL   \n24943  10376                디샤 화이트  초콜릿  화이트초콜릿         가공      38   g   \n...      ...                   ...  ...     ...        ...     ...  ..   \n36450  59687       모리나가 다스 화이트 초콜릿  초콜릿  화이트초콜릿         수제      42   g   \n36451  60615                화이트보뇌르  초콜릿  화이트초콜릿         수제      30   g   \n36452  61033       토블론 스위스 화이트 초콜릿  초콜릿  화이트초콜릿         수제     100   g   \n36453  61439          명인명촌 현미칩 초콜릿  초콜릿  화이트초콜릿         수제      65   g   \n36454  64772  바이오 화이트 초콜릿 요거트 & 딸기  초콜릿  화이트초콜릿         수제     100   g   \n\n      총내용량(g) 총내용량(ml)  총당류(g)    총내용량  단위용량 대비 설탕 비율  설탕비율의 소분류 평균값  \n8340      100        -    48.0   100.0           48.0            0.0  \n8368     2000        -    51.0  2000.0           51.0            0.0  \n8375      800        -    92.0   800.0           92.0            0.0  \n8407      750        -    60.0   750.0           60.0            0.0  \n24943      38        -    15.0    38.0           39.5            0.0  \n...       ...      ...     ...     ...            ...            ...  \n36450      42        -    20.4    42.0           48.6            0.0  \n36451      50        -    13.0    50.0           43.3            0.0  \n36452     100        -    63.0   100.0           63.0            0.0  \n36453      65        -    26.0    65.0           40.0            0.0  \n36454     100        -    51.7   100.0           51.7            0.0  \n\n[234 rows x 13 columns]",
      "text/html": "<div>\n<style scoped>\n    .dataframe tbody tr th:only-of-type {\n        vertical-align: middle;\n    }\n\n    .dataframe tbody tr th {\n        vertical-align: top;\n    }\n\n    .dataframe thead th {\n        text-align: right;\n    }\n</style>\n<table border=\"1\" class=\"dataframe\">\n  <thead>\n    <tr style=\"text-align: right;\">\n      <th></th>\n      <th>No</th>\n      <th>식품명</th>\n      <th>대분류</th>\n      <th>중분류</th>\n      <th>소분류</th>\n      <th>1회 제공량</th>\n      <th>용량</th>\n      <th>총내용량(g)</th>\n      <th>총내용량(ml)</th>\n      <th>총당류(g)</th>\n      <th>총내용량</th>\n      <th>단위용량 대비 설탕 비율</th>\n      <th>설탕비율의 소분류 평균값</th>\n    </tr>\n  </thead>\n  <tbody>\n    <tr>\n      <th>8340</th>\n      <td>9793</td>\n      <td>행복한쇼콜라띠에 화이트초코</td>\n      <td>초콜릿</td>\n      <td>화이트초콜릿</td>\n      <td>기타 코코아가공품</td>\n      <td>100</td>\n      <td>g</td>\n      <td>100</td>\n      <td>-</td>\n      <td>48.0</td>\n      <td>100.0</td>\n      <td>48.0</td>\n      <td>0.0</td>\n    </tr>\n    <tr>\n      <th>8368</th>\n      <td>9853</td>\n      <td>화이트코코렛소스</td>\n      <td>초콜릿</td>\n      <td>화이트초콜릿</td>\n      <td>기타 코코아가공품</td>\n      <td>100</td>\n      <td>g</td>\n      <td>2000</td>\n      <td>-</td>\n      <td>51.0</td>\n      <td>2000.0</td>\n      <td>51.0</td>\n      <td>0.0</td>\n    </tr>\n    <tr>\n      <th>8375</th>\n      <td>9867</td>\n      <td>화이트코코렛파우더</td>\n      <td>초콜릿</td>\n      <td>화이트초콜릿</td>\n      <td>기타 코코아가공품</td>\n      <td>100</td>\n      <td>g</td>\n      <td>800</td>\n      <td>-</td>\n      <td>92.0</td>\n      <td>800.0</td>\n      <td>92.0</td>\n      <td>0.0</td>\n    </tr>\n    <tr>\n      <th>8407</th>\n      <td>40593</td>\n      <td>화이트초코드링크분말</td>\n      <td>초콜릿</td>\n      <td>화이트초콜릿</td>\n      <td>기타 코코아가공품</td>\n      <td>100</td>\n      <td>mL</td>\n      <td>750</td>\n      <td>-</td>\n      <td>60.0</td>\n      <td>750.0</td>\n      <td>60.0</td>\n      <td>0.0</td>\n    </tr>\n    <tr>\n      <th>24943</th>\n      <td>10376</td>\n      <td>디샤 화이트</td>\n      <td>초콜릿</td>\n      <td>화이트초콜릿</td>\n      <td>가공</td>\n      <td>38</td>\n      <td>g</td>\n      <td>38</td>\n      <td>-</td>\n      <td>15.0</td>\n      <td>38.0</td>\n      <td>39.5</td>\n      <td>0.0</td>\n    </tr>\n    <tr>\n      <th>...</th>\n      <td>...</td>\n      <td>...</td>\n      <td>...</td>\n      <td>...</td>\n      <td>...</td>\n      <td>...</td>\n      <td>...</td>\n      <td>...</td>\n      <td>...</td>\n      <td>...</td>\n      <td>...</td>\n      <td>...</td>\n      <td>...</td>\n    </tr>\n    <tr>\n      <th>36450</th>\n      <td>59687</td>\n      <td>모리나가 다스 화이트 초콜릿</td>\n      <td>초콜릿</td>\n      <td>화이트초콜릿</td>\n      <td>수제</td>\n      <td>42</td>\n      <td>g</td>\n      <td>42</td>\n      <td>-</td>\n      <td>20.4</td>\n      <td>42.0</td>\n      <td>48.6</td>\n      <td>0.0</td>\n    </tr>\n    <tr>\n      <th>36451</th>\n      <td>60615</td>\n      <td>화이트보뇌르</td>\n      <td>초콜릿</td>\n      <td>화이트초콜릿</td>\n      <td>수제</td>\n      <td>30</td>\n      <td>g</td>\n      <td>50</td>\n      <td>-</td>\n      <td>13.0</td>\n      <td>50.0</td>\n      <td>43.3</td>\n      <td>0.0</td>\n    </tr>\n    <tr>\n      <th>36452</th>\n      <td>61033</td>\n      <td>토블론 스위스 화이트 초콜릿</td>\n      <td>초콜릿</td>\n      <td>화이트초콜릿</td>\n      <td>수제</td>\n      <td>100</td>\n      <td>g</td>\n      <td>100</td>\n      <td>-</td>\n      <td>63.0</td>\n      <td>100.0</td>\n      <td>63.0</td>\n      <td>0.0</td>\n    </tr>\n    <tr>\n      <th>36453</th>\n      <td>61439</td>\n      <td>명인명촌 현미칩 초콜릿</td>\n      <td>초콜릿</td>\n      <td>화이트초콜릿</td>\n      <td>수제</td>\n      <td>65</td>\n      <td>g</td>\n      <td>65</td>\n      <td>-</td>\n      <td>26.0</td>\n      <td>65.0</td>\n      <td>40.0</td>\n      <td>0.0</td>\n    </tr>\n    <tr>\n      <th>36454</th>\n      <td>64772</td>\n      <td>바이오 화이트 초콜릿 요거트 &amp; 딸기</td>\n      <td>초콜릿</td>\n      <td>화이트초콜릿</td>\n      <td>수제</td>\n      <td>100</td>\n      <td>g</td>\n      <td>100</td>\n      <td>-</td>\n      <td>51.7</td>\n      <td>100.0</td>\n      <td>51.7</td>\n      <td>0.0</td>\n    </tr>\n  </tbody>\n</table>\n<p>234 rows × 13 columns</p>\n</div>"
     },
     "execution_count": 545,
     "metadata": {},
     "output_type": "execute_result"
    }
   ],
   "source": [
    "sheet.loc[(sheet['대분류'] == '초콜릿') & (sheet['중분류'] == '화이트초콜릿'), :]"
   ],
   "metadata": {
    "collapsed": false,
    "pycharm": {
     "name": "#%%\n"
    }
   }
  },
  {
   "cell_type": "code",
   "execution_count": 546,
   "outputs": [
    {
     "data": {
      "text/plain": "          No                           식품명  대분류 중분류        소분류  1회 제공량 용량  \\\n8331    9776                       제티 쵸코렛맛  초콜릿  일반  기타 코코아가공품      17  g   \n8332    9777                   미떼 핫초코 오리지날  초콜릿  일반  기타 코코아가공품      17  g   \n8333    9779                         코코렛소스  초콜릿  일반  기타 코코아가공품     100  g   \n8334    9781                    미떼 핫초코 마일드  초콜릿  일반  기타 코코아가공품      30  g   \n8335    9783                    뉴얼려먹는초코만들기  초콜릿  일반  기타 코코아가공품      36  g   \n...      ...                           ...  ...  ..        ...     ... ..   \n29576  44700  마쉬멜로 초콜릿맛 1kg 벌크(초콜릿 12% 함유)  초콜릿  일반        캔디류     100  g   \n29630  45444                      허쉬 쿠키앤크림  초콜릿  일반        캔디류     100  g   \n29631  45445                      허쉬 쿠키앤크림  초콜릿  일반        캔디류     100  g   \n29632  45446                허쉬 쿠키앤크림 자이언트바  초콜릿  일반        캔디류     100  g   \n29748  45968          워커스 어쏘티드 토피 앤 초코이클레어  초콜릿  일반        캔디류     100  g   \n\n      총내용량(g) 총내용량(ml)  총당류(g)     총내용량  단위용량 대비 설탕 비율  설탕비율의 소분류 평균값  \n8331     1360        -    14.0   1360.0           82.4            0.0  \n8332      680        -     9.5    680.0           55.9            0.0  \n8333     2000        -    50.0   2000.0           50.0            0.0  \n8334      300        -    16.9    300.0           56.3            0.0  \n8335       36        -    14.0     36.0           38.9            0.0  \n...       ...      ...     ...      ...            ...            ...  \n29576    1000        -    42.5   1000.0           42.5            0.0  \n29630     484        -    48.0    484.0           48.0            0.0  \n29631   15980        -    47.0  15980.0           47.0            0.0  \n29632     184        -    46.0    184.0           46.0            0.0  \n29748    1250        -    71.0   1250.0           71.0            0.0  \n\n[2291 rows x 13 columns]",
      "text/html": "<div>\n<style scoped>\n    .dataframe tbody tr th:only-of-type {\n        vertical-align: middle;\n    }\n\n    .dataframe tbody tr th {\n        vertical-align: top;\n    }\n\n    .dataframe thead th {\n        text-align: right;\n    }\n</style>\n<table border=\"1\" class=\"dataframe\">\n  <thead>\n    <tr style=\"text-align: right;\">\n      <th></th>\n      <th>No</th>\n      <th>식품명</th>\n      <th>대분류</th>\n      <th>중분류</th>\n      <th>소분류</th>\n      <th>1회 제공량</th>\n      <th>용량</th>\n      <th>총내용량(g)</th>\n      <th>총내용량(ml)</th>\n      <th>총당류(g)</th>\n      <th>총내용량</th>\n      <th>단위용량 대비 설탕 비율</th>\n      <th>설탕비율의 소분류 평균값</th>\n    </tr>\n  </thead>\n  <tbody>\n    <tr>\n      <th>8331</th>\n      <td>9776</td>\n      <td>제티 쵸코렛맛</td>\n      <td>초콜릿</td>\n      <td>일반</td>\n      <td>기타 코코아가공품</td>\n      <td>17</td>\n      <td>g</td>\n      <td>1360</td>\n      <td>-</td>\n      <td>14.0</td>\n      <td>1360.0</td>\n      <td>82.4</td>\n      <td>0.0</td>\n    </tr>\n    <tr>\n      <th>8332</th>\n      <td>9777</td>\n      <td>미떼 핫초코 오리지날</td>\n      <td>초콜릿</td>\n      <td>일반</td>\n      <td>기타 코코아가공품</td>\n      <td>17</td>\n      <td>g</td>\n      <td>680</td>\n      <td>-</td>\n      <td>9.5</td>\n      <td>680.0</td>\n      <td>55.9</td>\n      <td>0.0</td>\n    </tr>\n    <tr>\n      <th>8333</th>\n      <td>9779</td>\n      <td>코코렛소스</td>\n      <td>초콜릿</td>\n      <td>일반</td>\n      <td>기타 코코아가공품</td>\n      <td>100</td>\n      <td>g</td>\n      <td>2000</td>\n      <td>-</td>\n      <td>50.0</td>\n      <td>2000.0</td>\n      <td>50.0</td>\n      <td>0.0</td>\n    </tr>\n    <tr>\n      <th>8334</th>\n      <td>9781</td>\n      <td>미떼 핫초코 마일드</td>\n      <td>초콜릿</td>\n      <td>일반</td>\n      <td>기타 코코아가공품</td>\n      <td>30</td>\n      <td>g</td>\n      <td>300</td>\n      <td>-</td>\n      <td>16.9</td>\n      <td>300.0</td>\n      <td>56.3</td>\n      <td>0.0</td>\n    </tr>\n    <tr>\n      <th>8335</th>\n      <td>9783</td>\n      <td>뉴얼려먹는초코만들기</td>\n      <td>초콜릿</td>\n      <td>일반</td>\n      <td>기타 코코아가공품</td>\n      <td>36</td>\n      <td>g</td>\n      <td>36</td>\n      <td>-</td>\n      <td>14.0</td>\n      <td>36.0</td>\n      <td>38.9</td>\n      <td>0.0</td>\n    </tr>\n    <tr>\n      <th>...</th>\n      <td>...</td>\n      <td>...</td>\n      <td>...</td>\n      <td>...</td>\n      <td>...</td>\n      <td>...</td>\n      <td>...</td>\n      <td>...</td>\n      <td>...</td>\n      <td>...</td>\n      <td>...</td>\n      <td>...</td>\n      <td>...</td>\n    </tr>\n    <tr>\n      <th>29576</th>\n      <td>44700</td>\n      <td>마쉬멜로 초콜릿맛 1kg 벌크(초콜릿 12% 함유)</td>\n      <td>초콜릿</td>\n      <td>일반</td>\n      <td>캔디류</td>\n      <td>100</td>\n      <td>g</td>\n      <td>1000</td>\n      <td>-</td>\n      <td>42.5</td>\n      <td>1000.0</td>\n      <td>42.5</td>\n      <td>0.0</td>\n    </tr>\n    <tr>\n      <th>29630</th>\n      <td>45444</td>\n      <td>허쉬 쿠키앤크림</td>\n      <td>초콜릿</td>\n      <td>일반</td>\n      <td>캔디류</td>\n      <td>100</td>\n      <td>g</td>\n      <td>484</td>\n      <td>-</td>\n      <td>48.0</td>\n      <td>484.0</td>\n      <td>48.0</td>\n      <td>0.0</td>\n    </tr>\n    <tr>\n      <th>29631</th>\n      <td>45445</td>\n      <td>허쉬 쿠키앤크림</td>\n      <td>초콜릿</td>\n      <td>일반</td>\n      <td>캔디류</td>\n      <td>100</td>\n      <td>g</td>\n      <td>15980</td>\n      <td>-</td>\n      <td>47.0</td>\n      <td>15980.0</td>\n      <td>47.0</td>\n      <td>0.0</td>\n    </tr>\n    <tr>\n      <th>29632</th>\n      <td>45446</td>\n      <td>허쉬 쿠키앤크림 자이언트바</td>\n      <td>초콜릿</td>\n      <td>일반</td>\n      <td>캔디류</td>\n      <td>100</td>\n      <td>g</td>\n      <td>184</td>\n      <td>-</td>\n      <td>46.0</td>\n      <td>184.0</td>\n      <td>46.0</td>\n      <td>0.0</td>\n    </tr>\n    <tr>\n      <th>29748</th>\n      <td>45968</td>\n      <td>워커스 어쏘티드 토피 앤 초코이클레어</td>\n      <td>초콜릿</td>\n      <td>일반</td>\n      <td>캔디류</td>\n      <td>100</td>\n      <td>g</td>\n      <td>1250</td>\n      <td>-</td>\n      <td>71.0</td>\n      <td>1250.0</td>\n      <td>71.0</td>\n      <td>0.0</td>\n    </tr>\n  </tbody>\n</table>\n<p>2291 rows × 13 columns</p>\n</div>"
     },
     "execution_count": 546,
     "metadata": {},
     "output_type": "execute_result"
    }
   ],
   "source": [
    "sheet.loc[(sheet['대분류'] == '초콜릿') & (sheet['중분류'] == '일반'), :]"
   ],
   "metadata": {
    "collapsed": false,
    "pycharm": {
     "name": "#%%\n"
    }
   }
  },
  {
   "cell_type": "code",
   "execution_count": 547,
   "outputs": [
    {
     "ename": "KeyError",
     "evalue": "'[45445] not found in axis'",
     "output_type": "error",
     "traceback": [
      "\u001B[0;31m---------------------------------------------------------------------------\u001B[0m",
      "\u001B[0;31mKeyError\u001B[0m                                  Traceback (most recent call last)",
      "Input \u001B[0;32mIn [547]\u001B[0m, in \u001B[0;36m<cell line: 2>\u001B[0;34m()\u001B[0m\n\u001B[1;32m      1\u001B[0m delete \u001B[38;5;241m=\u001B[39m [\u001B[38;5;241m17942\u001B[39m, \u001B[38;5;241m18155\u001B[39m, \u001B[38;5;241m18173\u001B[39m, \u001B[38;5;241m24402\u001B[39m, \u001B[38;5;241m28296\u001B[39m, \u001B[38;5;241m45445\u001B[39m, \u001B[38;5;241m45444\u001B[39m, \u001B[38;5;241m44700\u001B[39m]\n\u001B[1;32m      2\u001B[0m \u001B[38;5;28;01mfor\u001B[39;00m value \u001B[38;5;129;01min\u001B[39;00m delete:\n\u001B[0;32m----> 3\u001B[0m     sheet \u001B[38;5;241m=\u001B[39m \u001B[43msheet\u001B[49m\u001B[38;5;241;43m.\u001B[39;49m\u001B[43mdrop\u001B[49m\u001B[43m(\u001B[49m\u001B[43mvalue\u001B[49m\u001B[43m,\u001B[49m\u001B[43m \u001B[49m\u001B[43maxis\u001B[49m\u001B[38;5;241;43m=\u001B[39;49m\u001B[38;5;241;43m0\u001B[39;49m\u001B[43m)\u001B[49m\n",
      "File \u001B[0;32m/opt/homebrew/Cellar/jupyterlab/3.3.2/libexec/lib/python3.9/site-packages/pandas/util/_decorators.py:311\u001B[0m, in \u001B[0;36mdeprecate_nonkeyword_arguments.<locals>.decorate.<locals>.wrapper\u001B[0;34m(*args, **kwargs)\u001B[0m\n\u001B[1;32m    305\u001B[0m \u001B[38;5;28;01mif\u001B[39;00m \u001B[38;5;28mlen\u001B[39m(args) \u001B[38;5;241m>\u001B[39m num_allow_args:\n\u001B[1;32m    306\u001B[0m     warnings\u001B[38;5;241m.\u001B[39mwarn(\n\u001B[1;32m    307\u001B[0m         msg\u001B[38;5;241m.\u001B[39mformat(arguments\u001B[38;5;241m=\u001B[39marguments),\n\u001B[1;32m    308\u001B[0m         \u001B[38;5;167;01mFutureWarning\u001B[39;00m,\n\u001B[1;32m    309\u001B[0m         stacklevel\u001B[38;5;241m=\u001B[39mstacklevel,\n\u001B[1;32m    310\u001B[0m     )\n\u001B[0;32m--> 311\u001B[0m \u001B[38;5;28;01mreturn\u001B[39;00m \u001B[43mfunc\u001B[49m\u001B[43m(\u001B[49m\u001B[38;5;241;43m*\u001B[39;49m\u001B[43margs\u001B[49m\u001B[43m,\u001B[49m\u001B[43m \u001B[49m\u001B[38;5;241;43m*\u001B[39;49m\u001B[38;5;241;43m*\u001B[39;49m\u001B[43mkwargs\u001B[49m\u001B[43m)\u001B[49m\n",
      "File \u001B[0;32m/opt/homebrew/Cellar/jupyterlab/3.3.2/libexec/lib/python3.9/site-packages/pandas/core/frame.py:4954\u001B[0m, in \u001B[0;36mDataFrame.drop\u001B[0;34m(self, labels, axis, index, columns, level, inplace, errors)\u001B[0m\n\u001B[1;32m   4806\u001B[0m \u001B[38;5;129m@deprecate_nonkeyword_arguments\u001B[39m(version\u001B[38;5;241m=\u001B[39m\u001B[38;5;28;01mNone\u001B[39;00m, allowed_args\u001B[38;5;241m=\u001B[39m[\u001B[38;5;124m\"\u001B[39m\u001B[38;5;124mself\u001B[39m\u001B[38;5;124m\"\u001B[39m, \u001B[38;5;124m\"\u001B[39m\u001B[38;5;124mlabels\u001B[39m\u001B[38;5;124m\"\u001B[39m])\n\u001B[1;32m   4807\u001B[0m \u001B[38;5;28;01mdef\u001B[39;00m \u001B[38;5;21mdrop\u001B[39m(\n\u001B[1;32m   4808\u001B[0m     \u001B[38;5;28mself\u001B[39m,\n\u001B[0;32m   (...)\u001B[0m\n\u001B[1;32m   4815\u001B[0m     errors: \u001B[38;5;28mstr\u001B[39m \u001B[38;5;241m=\u001B[39m \u001B[38;5;124m\"\u001B[39m\u001B[38;5;124mraise\u001B[39m\u001B[38;5;124m\"\u001B[39m,\n\u001B[1;32m   4816\u001B[0m ):\n\u001B[1;32m   4817\u001B[0m     \u001B[38;5;124;03m\"\"\"\u001B[39;00m\n\u001B[1;32m   4818\u001B[0m \u001B[38;5;124;03m    Drop specified labels from rows or columns.\u001B[39;00m\n\u001B[1;32m   4819\u001B[0m \n\u001B[0;32m   (...)\u001B[0m\n\u001B[1;32m   4952\u001B[0m \u001B[38;5;124;03m            weight  1.0     0.8\u001B[39;00m\n\u001B[1;32m   4953\u001B[0m \u001B[38;5;124;03m    \"\"\"\u001B[39;00m\n\u001B[0;32m-> 4954\u001B[0m     \u001B[38;5;28;01mreturn\u001B[39;00m \u001B[38;5;28;43msuper\u001B[39;49m\u001B[43m(\u001B[49m\u001B[43m)\u001B[49m\u001B[38;5;241;43m.\u001B[39;49m\u001B[43mdrop\u001B[49m\u001B[43m(\u001B[49m\n\u001B[1;32m   4955\u001B[0m \u001B[43m        \u001B[49m\u001B[43mlabels\u001B[49m\u001B[38;5;241;43m=\u001B[39;49m\u001B[43mlabels\u001B[49m\u001B[43m,\u001B[49m\n\u001B[1;32m   4956\u001B[0m \u001B[43m        \u001B[49m\u001B[43maxis\u001B[49m\u001B[38;5;241;43m=\u001B[39;49m\u001B[43maxis\u001B[49m\u001B[43m,\u001B[49m\n\u001B[1;32m   4957\u001B[0m \u001B[43m        \u001B[49m\u001B[43mindex\u001B[49m\u001B[38;5;241;43m=\u001B[39;49m\u001B[43mindex\u001B[49m\u001B[43m,\u001B[49m\n\u001B[1;32m   4958\u001B[0m \u001B[43m        \u001B[49m\u001B[43mcolumns\u001B[49m\u001B[38;5;241;43m=\u001B[39;49m\u001B[43mcolumns\u001B[49m\u001B[43m,\u001B[49m\n\u001B[1;32m   4959\u001B[0m \u001B[43m        \u001B[49m\u001B[43mlevel\u001B[49m\u001B[38;5;241;43m=\u001B[39;49m\u001B[43mlevel\u001B[49m\u001B[43m,\u001B[49m\n\u001B[1;32m   4960\u001B[0m \u001B[43m        \u001B[49m\u001B[43minplace\u001B[49m\u001B[38;5;241;43m=\u001B[39;49m\u001B[43minplace\u001B[49m\u001B[43m,\u001B[49m\n\u001B[1;32m   4961\u001B[0m \u001B[43m        \u001B[49m\u001B[43merrors\u001B[49m\u001B[38;5;241;43m=\u001B[39;49m\u001B[43merrors\u001B[49m\u001B[43m,\u001B[49m\n\u001B[1;32m   4962\u001B[0m \u001B[43m    \u001B[49m\u001B[43m)\u001B[49m\n",
      "File \u001B[0;32m/opt/homebrew/Cellar/jupyterlab/3.3.2/libexec/lib/python3.9/site-packages/pandas/core/generic.py:4267\u001B[0m, in \u001B[0;36mNDFrame.drop\u001B[0;34m(self, labels, axis, index, columns, level, inplace, errors)\u001B[0m\n\u001B[1;32m   4265\u001B[0m \u001B[38;5;28;01mfor\u001B[39;00m axis, labels \u001B[38;5;129;01min\u001B[39;00m axes\u001B[38;5;241m.\u001B[39mitems():\n\u001B[1;32m   4266\u001B[0m     \u001B[38;5;28;01mif\u001B[39;00m labels \u001B[38;5;129;01mis\u001B[39;00m \u001B[38;5;129;01mnot\u001B[39;00m \u001B[38;5;28;01mNone\u001B[39;00m:\n\u001B[0;32m-> 4267\u001B[0m         obj \u001B[38;5;241m=\u001B[39m \u001B[43mobj\u001B[49m\u001B[38;5;241;43m.\u001B[39;49m\u001B[43m_drop_axis\u001B[49m\u001B[43m(\u001B[49m\u001B[43mlabels\u001B[49m\u001B[43m,\u001B[49m\u001B[43m \u001B[49m\u001B[43maxis\u001B[49m\u001B[43m,\u001B[49m\u001B[43m \u001B[49m\u001B[43mlevel\u001B[49m\u001B[38;5;241;43m=\u001B[39;49m\u001B[43mlevel\u001B[49m\u001B[43m,\u001B[49m\u001B[43m \u001B[49m\u001B[43merrors\u001B[49m\u001B[38;5;241;43m=\u001B[39;49m\u001B[43merrors\u001B[49m\u001B[43m)\u001B[49m\n\u001B[1;32m   4269\u001B[0m \u001B[38;5;28;01mif\u001B[39;00m inplace:\n\u001B[1;32m   4270\u001B[0m     \u001B[38;5;28mself\u001B[39m\u001B[38;5;241m.\u001B[39m_update_inplace(obj)\n",
      "File \u001B[0;32m/opt/homebrew/Cellar/jupyterlab/3.3.2/libexec/lib/python3.9/site-packages/pandas/core/generic.py:4311\u001B[0m, in \u001B[0;36mNDFrame._drop_axis\u001B[0;34m(self, labels, axis, level, errors, consolidate, only_slice)\u001B[0m\n\u001B[1;32m   4309\u001B[0m         new_axis \u001B[38;5;241m=\u001B[39m axis\u001B[38;5;241m.\u001B[39mdrop(labels, level\u001B[38;5;241m=\u001B[39mlevel, errors\u001B[38;5;241m=\u001B[39merrors)\n\u001B[1;32m   4310\u001B[0m     \u001B[38;5;28;01melse\u001B[39;00m:\n\u001B[0;32m-> 4311\u001B[0m         new_axis \u001B[38;5;241m=\u001B[39m \u001B[43maxis\u001B[49m\u001B[38;5;241;43m.\u001B[39;49m\u001B[43mdrop\u001B[49m\u001B[43m(\u001B[49m\u001B[43mlabels\u001B[49m\u001B[43m,\u001B[49m\u001B[43m \u001B[49m\u001B[43merrors\u001B[49m\u001B[38;5;241;43m=\u001B[39;49m\u001B[43merrors\u001B[49m\u001B[43m)\u001B[49m\n\u001B[1;32m   4312\u001B[0m     indexer \u001B[38;5;241m=\u001B[39m axis\u001B[38;5;241m.\u001B[39mget_indexer(new_axis)\n\u001B[1;32m   4314\u001B[0m \u001B[38;5;66;03m# Case for non-unique axis\u001B[39;00m\n\u001B[1;32m   4315\u001B[0m \u001B[38;5;28;01melse\u001B[39;00m:\n",
      "File \u001B[0;32m/opt/homebrew/Cellar/jupyterlab/3.3.2/libexec/lib/python3.9/site-packages/pandas/core/indexes/base.py:6644\u001B[0m, in \u001B[0;36mIndex.drop\u001B[0;34m(self, labels, errors)\u001B[0m\n\u001B[1;32m   6642\u001B[0m \u001B[38;5;28;01mif\u001B[39;00m mask\u001B[38;5;241m.\u001B[39many():\n\u001B[1;32m   6643\u001B[0m     \u001B[38;5;28;01mif\u001B[39;00m errors \u001B[38;5;241m!=\u001B[39m \u001B[38;5;124m\"\u001B[39m\u001B[38;5;124mignore\u001B[39m\u001B[38;5;124m\"\u001B[39m:\n\u001B[0;32m-> 6644\u001B[0m         \u001B[38;5;28;01mraise\u001B[39;00m \u001B[38;5;167;01mKeyError\u001B[39;00m(\u001B[38;5;124mf\u001B[39m\u001B[38;5;124m\"\u001B[39m\u001B[38;5;132;01m{\u001B[39;00m\u001B[38;5;28mlist\u001B[39m(labels[mask])\u001B[38;5;132;01m}\u001B[39;00m\u001B[38;5;124m not found in axis\u001B[39m\u001B[38;5;124m\"\u001B[39m)\n\u001B[1;32m   6645\u001B[0m     indexer \u001B[38;5;241m=\u001B[39m indexer[\u001B[38;5;241m~\u001B[39mmask]\n\u001B[1;32m   6646\u001B[0m \u001B[38;5;28;01mreturn\u001B[39;00m \u001B[38;5;28mself\u001B[39m\u001B[38;5;241m.\u001B[39mdelete(indexer)\n",
      "\u001B[0;31mKeyError\u001B[0m: '[45445] not found in axis'"
     ]
    }
   ],
   "source": [
    "delete = [17942, 18155, 18173, 24402, 28296, 45445, 45444, 44700]\n",
    "for value in delete:\n",
    "    sheet = sheet.drop(value, axis=0)"
   ],
   "metadata": {
    "collapsed": false,
    "pycharm": {
     "name": "#%%\n"
    }
   }
  },
  {
   "cell_type": "code",
   "execution_count": null,
   "outputs": [],
   "source": [
    "delete = list(sheet.loc[(sheet['중분류'] == '일반') & (sheet['소분류'] == '캔디류'), :].index)\n",
    "for value in delete:\n",
    "    sheet = sheet.drop(value, axis=0)"
   ],
   "metadata": {
    "collapsed": false,
    "pycharm": {
     "name": "#%%\n"
    }
   }
  },
  {
   "cell_type": "code",
   "execution_count": null,
   "outputs": [],
   "source": [
    "수제 = ['까레', '리터', '마다가스카르', '에콰도르', '마라카이보', '로이즈', '홀리데이', '이클렛', '페브', '까라끄', '벵끼', '쿠오르', '조론치']\n",
    "파우더 = ['칼리바우트', '파우더', '미떼', '제티', '초코믹스']\n",
    "소스 = ['소스']\n",
    "# sheet.loc[(sheet['중분류'] == '젤리'), '소분류'] = ''\n",
    "\n",
    "for value in 수제:\n",
    "    sheet.loc[(sheet['중분류'] == '일반') & (sheet['식품명'].str.contains(value)), '소분류'] = '수제'\n",
    "for value in 파우더:\n",
    "    sheet.loc[(sheet['중분류'] == '일반') & (sheet['식품명'].str.contains(value)), '소분류'] = '파우더'\n",
    "for value in 소스:\n",
    "    sheet.loc[(sheet['중분류'] == '일반') & (sheet['식품명'].str.contains(value)), '소분류'] = '소스'\n",
    "\n",
    "\n"
   ],
   "metadata": {
    "collapsed": false,
    "pycharm": {
     "name": "#%%\n"
    }
   }
  },
  {
   "cell_type": "code",
   "execution_count": 548,
   "outputs": [
    {
     "data": {
      "text/plain": "array(['기타 코코아가공품', '사탕', '젤리', '준초콜릿', '초콜릿', '초콜릿가공품', '캐러멜', '캔디류'],\n      dtype=object)"
     },
     "execution_count": 548,
     "metadata": {},
     "output_type": "execute_result"
    }
   ],
   "source": [
    "sheet.loc[(sheet['대분류'] == '초콜릿') & (sheet['중분류'] == '일반'), '소분류'].unique()"
   ],
   "metadata": {
    "collapsed": false,
    "pycharm": {
     "name": "#%%\n"
    }
   }
  },
  {
   "cell_type": "code",
   "execution_count": 549,
   "outputs": [
    {
     "name": "stdout",
     "output_type": "stream",
     "text": [
      "{'기타 코코아가공품': 81,\n",
      " '사탕': 3,\n",
      " '젤리': 1,\n",
      " '준초콜릿': 240,\n",
      " '초콜릿': 200,\n",
      " '초콜릿가공품': 1750,\n",
      " '캐러멜': 1,\n",
      " '캔디류': 15}\n"
     ]
    }
   ],
   "source": [
    "pp.pprint(category_count_fn('일반'))"
   ],
   "metadata": {
    "collapsed": false,
    "pycharm": {
     "name": "#%%\n"
    }
   }
  },
  {
   "cell_type": "code",
   "execution_count": 550,
   "outputs": [],
   "source": [
    "sheet.loc[(sheet['대분류'] == '초콜릿') & (sheet['중분류'] == '일반') & ((sheet['소분류'] == '준초콜릿') | (sheet['소분류'] == '초콜릿') | (sheet['소분류'] == '초콜릿가공품') | (sheet['소분류'] == '기타 코코아가공품')), '소분류'] = '가공'"
   ],
   "metadata": {
    "collapsed": false,
    "pycharm": {
     "name": "#%%\n"
    }
   }
  },
  {
   "cell_type": "code",
   "execution_count": 551,
   "outputs": [
    {
     "name": "stdout",
     "output_type": "stream",
     "text": [
      "{'가공': 2271, '사탕': 3, '젤리': 1, '캐러멜': 1, '캔디류': 15}\n"
     ]
    }
   ],
   "source": [
    "pp.pprint(category_count_fn('일반'))"
   ],
   "metadata": {
    "collapsed": false,
    "pycharm": {
     "name": "#%%\n"
    }
   }
  },
  {
   "cell_type": "code",
   "execution_count": 552,
   "outputs": [],
   "source": [
    "# 카라멜 양갱"
   ],
   "metadata": {
    "collapsed": false,
    "pycharm": {
     "name": "#%%\n"
    }
   }
  },
  {
   "cell_type": "code",
   "execution_count": 553,
   "outputs": [
    {
     "data": {
      "text/plain": "array(['음료', '유가공품', '캔디, 젤리', '과자', '베이커리', '초콜릿', '캐러멜, 양갱', '떡, 견과류',\n       '아이스크림', '떡, 시리얼, 견과류'], dtype=object)"
     },
     "execution_count": 553,
     "metadata": {},
     "output_type": "execute_result"
    }
   ],
   "source": [
    "sheet['대분류'].unique()"
   ],
   "metadata": {
    "collapsed": false,
    "pycharm": {
     "name": "#%%\n"
    }
   }
  },
  {
   "cell_type": "code",
   "execution_count": 554,
   "outputs": [
    {
     "data": {
      "text/plain": "          No                         식품명      대분류  중분류        소분류  1회 제공량 용량  \\\n8423   44565                       카라멜 볼  캐러멜, 양갱  캐러멜  기타 코코아가공품     100  g   \n8424   44566                    카라멜향 범킨스  캐러멜, 양갱  캐러멜  기타 코코아가공품     100  g   \n11355  40647                   밀크 캐러멜 드롭  캐러멜, 양갱  캐러멜      밀크초콜릿     100  g   \n11407  42926             초코비쥬 스틱 카라멜향 밀크  캐러멜, 양갱  캐러멜      밀크초콜릿     100  g   \n11452  44718           나마초콜릿 원료조각 -캐러멜리제  캐러멜, 양갱  캐러멜      밀크초콜릿     100  g   \n...      ...                         ...      ...  ...        ...     ... ..   \n29422  42606                    헤븐리피칸카라멜  캐러멜, 양갱  캐러멜        캔디류     100  g   \n29496  43249                      치즈향캐러멜  캐러멜, 양갱  캐러멜        캔디류     100  g   \n29509  43724                     카라멜후레이크  캐러멜, 양갱  캐러멜        캔디류     100  g   \n29601  45204  닥터존스 카라멜향-바닐라향 스월 앤 초콜릿 스월  캐러멜, 양갱  캐러멜        캔디류     100  g   \n29664  45598           카라멜 진저브레드맨모양 구미젤리  캐러멜, 양갱  캐러멜        캔디류     100  g   \n\n      총내용량(g) 총내용량(ml)  총당류(g)     총내용량  단위용량 대비 설탕 비율  설탕비율의 소분류 평균값  \n8423    10880        -    56.0  10880.0           56.0            0.0  \n8424    10880        -    56.0  10880.0           56.0            0.0  \n11355    5000        -    53.0   5000.0           53.0            0.0  \n11407    4000        -    52.0   4000.0           52.0            0.0  \n11452   10000        -    38.6  10000.0           38.6            0.0  \n...       ...      ...     ...      ...            ...            ...  \n29422     133        -    73.0    133.0           73.0            0.0  \n29496    4530        -    50.0   4530.0           50.0            0.0  \n29509   15000        -    58.0  15000.0           58.0            0.0  \n29601   11330        -    94.0  11330.0           94.0            0.0  \n29664     500        -    46.0    500.0           46.0            0.0  \n\n[361 rows x 13 columns]",
      "text/html": "<div>\n<style scoped>\n    .dataframe tbody tr th:only-of-type {\n        vertical-align: middle;\n    }\n\n    .dataframe tbody tr th {\n        vertical-align: top;\n    }\n\n    .dataframe thead th {\n        text-align: right;\n    }\n</style>\n<table border=\"1\" class=\"dataframe\">\n  <thead>\n    <tr style=\"text-align: right;\">\n      <th></th>\n      <th>No</th>\n      <th>식품명</th>\n      <th>대분류</th>\n      <th>중분류</th>\n      <th>소분류</th>\n      <th>1회 제공량</th>\n      <th>용량</th>\n      <th>총내용량(g)</th>\n      <th>총내용량(ml)</th>\n      <th>총당류(g)</th>\n      <th>총내용량</th>\n      <th>단위용량 대비 설탕 비율</th>\n      <th>설탕비율의 소분류 평균값</th>\n    </tr>\n  </thead>\n  <tbody>\n    <tr>\n      <th>8423</th>\n      <td>44565</td>\n      <td>카라멜 볼</td>\n      <td>캐러멜, 양갱</td>\n      <td>캐러멜</td>\n      <td>기타 코코아가공품</td>\n      <td>100</td>\n      <td>g</td>\n      <td>10880</td>\n      <td>-</td>\n      <td>56.0</td>\n      <td>10880.0</td>\n      <td>56.0</td>\n      <td>0.0</td>\n    </tr>\n    <tr>\n      <th>8424</th>\n      <td>44566</td>\n      <td>카라멜향 범킨스</td>\n      <td>캐러멜, 양갱</td>\n      <td>캐러멜</td>\n      <td>기타 코코아가공품</td>\n      <td>100</td>\n      <td>g</td>\n      <td>10880</td>\n      <td>-</td>\n      <td>56.0</td>\n      <td>10880.0</td>\n      <td>56.0</td>\n      <td>0.0</td>\n    </tr>\n    <tr>\n      <th>11355</th>\n      <td>40647</td>\n      <td>밀크 캐러멜 드롭</td>\n      <td>캐러멜, 양갱</td>\n      <td>캐러멜</td>\n      <td>밀크초콜릿</td>\n      <td>100</td>\n      <td>g</td>\n      <td>5000</td>\n      <td>-</td>\n      <td>53.0</td>\n      <td>5000.0</td>\n      <td>53.0</td>\n      <td>0.0</td>\n    </tr>\n    <tr>\n      <th>11407</th>\n      <td>42926</td>\n      <td>초코비쥬 스틱 카라멜향 밀크</td>\n      <td>캐러멜, 양갱</td>\n      <td>캐러멜</td>\n      <td>밀크초콜릿</td>\n      <td>100</td>\n      <td>g</td>\n      <td>4000</td>\n      <td>-</td>\n      <td>52.0</td>\n      <td>4000.0</td>\n      <td>52.0</td>\n      <td>0.0</td>\n    </tr>\n    <tr>\n      <th>11452</th>\n      <td>44718</td>\n      <td>나마초콜릿 원료조각 -캐러멜리제</td>\n      <td>캐러멜, 양갱</td>\n      <td>캐러멜</td>\n      <td>밀크초콜릿</td>\n      <td>100</td>\n      <td>g</td>\n      <td>10000</td>\n      <td>-</td>\n      <td>38.6</td>\n      <td>10000.0</td>\n      <td>38.6</td>\n      <td>0.0</td>\n    </tr>\n    <tr>\n      <th>...</th>\n      <td>...</td>\n      <td>...</td>\n      <td>...</td>\n      <td>...</td>\n      <td>...</td>\n      <td>...</td>\n      <td>...</td>\n      <td>...</td>\n      <td>...</td>\n      <td>...</td>\n      <td>...</td>\n      <td>...</td>\n      <td>...</td>\n    </tr>\n    <tr>\n      <th>29422</th>\n      <td>42606</td>\n      <td>헤븐리피칸카라멜</td>\n      <td>캐러멜, 양갱</td>\n      <td>캐러멜</td>\n      <td>캔디류</td>\n      <td>100</td>\n      <td>g</td>\n      <td>133</td>\n      <td>-</td>\n      <td>73.0</td>\n      <td>133.0</td>\n      <td>73.0</td>\n      <td>0.0</td>\n    </tr>\n    <tr>\n      <th>29496</th>\n      <td>43249</td>\n      <td>치즈향캐러멜</td>\n      <td>캐러멜, 양갱</td>\n      <td>캐러멜</td>\n      <td>캔디류</td>\n      <td>100</td>\n      <td>g</td>\n      <td>4530</td>\n      <td>-</td>\n      <td>50.0</td>\n      <td>4530.0</td>\n      <td>50.0</td>\n      <td>0.0</td>\n    </tr>\n    <tr>\n      <th>29509</th>\n      <td>43724</td>\n      <td>카라멜후레이크</td>\n      <td>캐러멜, 양갱</td>\n      <td>캐러멜</td>\n      <td>캔디류</td>\n      <td>100</td>\n      <td>g</td>\n      <td>15000</td>\n      <td>-</td>\n      <td>58.0</td>\n      <td>15000.0</td>\n      <td>58.0</td>\n      <td>0.0</td>\n    </tr>\n    <tr>\n      <th>29601</th>\n      <td>45204</td>\n      <td>닥터존스 카라멜향-바닐라향 스월 앤 초콜릿 스월</td>\n      <td>캐러멜, 양갱</td>\n      <td>캐러멜</td>\n      <td>캔디류</td>\n      <td>100</td>\n      <td>g</td>\n      <td>11330</td>\n      <td>-</td>\n      <td>94.0</td>\n      <td>11330.0</td>\n      <td>94.0</td>\n      <td>0.0</td>\n    </tr>\n    <tr>\n      <th>29664</th>\n      <td>45598</td>\n      <td>카라멜 진저브레드맨모양 구미젤리</td>\n      <td>캐러멜, 양갱</td>\n      <td>캐러멜</td>\n      <td>캔디류</td>\n      <td>100</td>\n      <td>g</td>\n      <td>500</td>\n      <td>-</td>\n      <td>46.0</td>\n      <td>500.0</td>\n      <td>46.0</td>\n      <td>0.0</td>\n    </tr>\n  </tbody>\n</table>\n<p>361 rows × 13 columns</p>\n</div>"
     },
     "execution_count": 554,
     "metadata": {},
     "output_type": "execute_result"
    }
   ],
   "source": [
    "sheet.loc[(sheet['대분류'] == '캐러멜, 양갱'), :]"
   ],
   "metadata": {
    "collapsed": false,
    "pycharm": {
     "name": "#%%\n"
    }
   }
  },
  {
   "cell_type": "code",
   "execution_count": 555,
   "outputs": [
    {
     "data": {
      "text/plain": "          No             식품명      대분류 중분류  소분류  1회 제공량 용량 총내용량(g) 총내용량(ml)  \\\n23304  13420           해태연양갱  캐러멜, 양갱  양갱   양갱      55  g      55        -   \n23305  13448          7곡 연양갱  캐러멜, 양갱  양갱   양갱      55  g      55        -   \n23306  13453             팥양갱  캐러멜, 양갱  양갱   양갱      50  g      50        -   \n23307  13454             밤양갱  캐러멜, 양갱  양갱   양갱      50  g      50        -   \n23308  13519  애터미 양갱선물세트_팥양갱  캐러멜, 양갱  양갱   양갱      45  g      45        -   \n...      ...             ...      ...  ..  ...     ... ..     ...      ...   \n28860  39372        남이섬복분자양갱  캐러멜, 양갱  양갱  캔디류      45  g      45        -   \n28861  39373         남이섬홍삼양갱  캐러멜, 양갱  양갱  캔디류      45  g      45        -   \n28862  39374        남이섬흑당팥양갱  캐러멜, 양갱  양갱  캔디류      45  g      45        -   \n28885  39403       연양갱 밀크캬라멜  캐러멜, 양갱  양갱  캔디류      50  g      50        -   \n29025  39662            팥알양갱  캐러멜, 양갱  양갱  캔디류     400  g     400        -   \n\n       총당류(g)   총내용량  단위용량 대비 설탕 비율  설탕비율의 소분류 평균값  \n23304    27.0   55.0           49.1            0.0  \n23305    25.0   55.0           45.5            0.0  \n23306    26.0   50.0           52.0            0.0  \n23307    25.0   50.0           50.0            0.0  \n23308    23.0   45.0           51.1            0.0  \n...       ...    ...            ...            ...  \n28860    18.0   45.0           40.0            0.0  \n28861     5.0   45.0           11.1            0.0  \n28862    18.0   45.0           40.0            0.0  \n28885    28.0   50.0           56.0            0.0  \n29025    13.0  400.0            3.2            0.0  \n\n[219 rows x 13 columns]",
      "text/html": "<div>\n<style scoped>\n    .dataframe tbody tr th:only-of-type {\n        vertical-align: middle;\n    }\n\n    .dataframe tbody tr th {\n        vertical-align: top;\n    }\n\n    .dataframe thead th {\n        text-align: right;\n    }\n</style>\n<table border=\"1\" class=\"dataframe\">\n  <thead>\n    <tr style=\"text-align: right;\">\n      <th></th>\n      <th>No</th>\n      <th>식품명</th>\n      <th>대분류</th>\n      <th>중분류</th>\n      <th>소분류</th>\n      <th>1회 제공량</th>\n      <th>용량</th>\n      <th>총내용량(g)</th>\n      <th>총내용량(ml)</th>\n      <th>총당류(g)</th>\n      <th>총내용량</th>\n      <th>단위용량 대비 설탕 비율</th>\n      <th>설탕비율의 소분류 평균값</th>\n    </tr>\n  </thead>\n  <tbody>\n    <tr>\n      <th>23304</th>\n      <td>13420</td>\n      <td>해태연양갱</td>\n      <td>캐러멜, 양갱</td>\n      <td>양갱</td>\n      <td>양갱</td>\n      <td>55</td>\n      <td>g</td>\n      <td>55</td>\n      <td>-</td>\n      <td>27.0</td>\n      <td>55.0</td>\n      <td>49.1</td>\n      <td>0.0</td>\n    </tr>\n    <tr>\n      <th>23305</th>\n      <td>13448</td>\n      <td>7곡 연양갱</td>\n      <td>캐러멜, 양갱</td>\n      <td>양갱</td>\n      <td>양갱</td>\n      <td>55</td>\n      <td>g</td>\n      <td>55</td>\n      <td>-</td>\n      <td>25.0</td>\n      <td>55.0</td>\n      <td>45.5</td>\n      <td>0.0</td>\n    </tr>\n    <tr>\n      <th>23306</th>\n      <td>13453</td>\n      <td>팥양갱</td>\n      <td>캐러멜, 양갱</td>\n      <td>양갱</td>\n      <td>양갱</td>\n      <td>50</td>\n      <td>g</td>\n      <td>50</td>\n      <td>-</td>\n      <td>26.0</td>\n      <td>50.0</td>\n      <td>52.0</td>\n      <td>0.0</td>\n    </tr>\n    <tr>\n      <th>23307</th>\n      <td>13454</td>\n      <td>밤양갱</td>\n      <td>캐러멜, 양갱</td>\n      <td>양갱</td>\n      <td>양갱</td>\n      <td>50</td>\n      <td>g</td>\n      <td>50</td>\n      <td>-</td>\n      <td>25.0</td>\n      <td>50.0</td>\n      <td>50.0</td>\n      <td>0.0</td>\n    </tr>\n    <tr>\n      <th>23308</th>\n      <td>13519</td>\n      <td>애터미 양갱선물세트_팥양갱</td>\n      <td>캐러멜, 양갱</td>\n      <td>양갱</td>\n      <td>양갱</td>\n      <td>45</td>\n      <td>g</td>\n      <td>45</td>\n      <td>-</td>\n      <td>23.0</td>\n      <td>45.0</td>\n      <td>51.1</td>\n      <td>0.0</td>\n    </tr>\n    <tr>\n      <th>...</th>\n      <td>...</td>\n      <td>...</td>\n      <td>...</td>\n      <td>...</td>\n      <td>...</td>\n      <td>...</td>\n      <td>...</td>\n      <td>...</td>\n      <td>...</td>\n      <td>...</td>\n      <td>...</td>\n      <td>...</td>\n      <td>...</td>\n    </tr>\n    <tr>\n      <th>28860</th>\n      <td>39372</td>\n      <td>남이섬복분자양갱</td>\n      <td>캐러멜, 양갱</td>\n      <td>양갱</td>\n      <td>캔디류</td>\n      <td>45</td>\n      <td>g</td>\n      <td>45</td>\n      <td>-</td>\n      <td>18.0</td>\n      <td>45.0</td>\n      <td>40.0</td>\n      <td>0.0</td>\n    </tr>\n    <tr>\n      <th>28861</th>\n      <td>39373</td>\n      <td>남이섬홍삼양갱</td>\n      <td>캐러멜, 양갱</td>\n      <td>양갱</td>\n      <td>캔디류</td>\n      <td>45</td>\n      <td>g</td>\n      <td>45</td>\n      <td>-</td>\n      <td>5.0</td>\n      <td>45.0</td>\n      <td>11.1</td>\n      <td>0.0</td>\n    </tr>\n    <tr>\n      <th>28862</th>\n      <td>39374</td>\n      <td>남이섬흑당팥양갱</td>\n      <td>캐러멜, 양갱</td>\n      <td>양갱</td>\n      <td>캔디류</td>\n      <td>45</td>\n      <td>g</td>\n      <td>45</td>\n      <td>-</td>\n      <td>18.0</td>\n      <td>45.0</td>\n      <td>40.0</td>\n      <td>0.0</td>\n    </tr>\n    <tr>\n      <th>28885</th>\n      <td>39403</td>\n      <td>연양갱 밀크캬라멜</td>\n      <td>캐러멜, 양갱</td>\n      <td>양갱</td>\n      <td>캔디류</td>\n      <td>50</td>\n      <td>g</td>\n      <td>50</td>\n      <td>-</td>\n      <td>28.0</td>\n      <td>50.0</td>\n      <td>56.0</td>\n      <td>0.0</td>\n    </tr>\n    <tr>\n      <th>29025</th>\n      <td>39662</td>\n      <td>팥알양갱</td>\n      <td>캐러멜, 양갱</td>\n      <td>양갱</td>\n      <td>캔디류</td>\n      <td>400</td>\n      <td>g</td>\n      <td>400</td>\n      <td>-</td>\n      <td>13.0</td>\n      <td>400.0</td>\n      <td>3.2</td>\n      <td>0.0</td>\n    </tr>\n  </tbody>\n</table>\n<p>219 rows × 13 columns</p>\n</div>"
     },
     "execution_count": 555,
     "metadata": {},
     "output_type": "execute_result"
    }
   ],
   "source": [
    "# 캐러멜, 양갱\n",
    "sheet.loc[(sheet['중분류'] == '양갱'), :]"
   ],
   "metadata": {
    "collapsed": false,
    "pycharm": {
     "name": "#%%\n"
    }
   }
  },
  {
   "cell_type": "code",
   "execution_count": 556,
   "outputs": [],
   "source": [
    "# 떡, 견과\n",
    "곡류 = ['7곡', '팥', '흑임자', '깨']\n",
    "견과류 = ['밤', '호두']\n",
    "과일 = ['복분자', '감', '유자', '딸기', '망고', '키위', '베리', '바나나', '오디']\n",
    "야채 = ['단호박', '쑥', '고구마', '호박', '배도라지']\n",
    "녹차 = ['녹차', '말차']\n",
    "홍삼 = ['홍삼']\n",
    "초코 = ['초코']\n",
    "흑당 = ['흑당']\n",
    "카라멜 = ['캬라멜', '카라멜']\n",
    "\n",
    "sheet.loc[(sheet['중분류'] == '양갱'), '소분류'] = ''\n",
    "\n",
    "for value in 곡류:\n",
    "    sheet.loc[(sheet['중분류'] == '양갱') & (sheet['식품명'].str.contains(value)), '소분류'] = '곡류'\n",
    "for value in 견과류:\n",
    "    sheet.loc[(sheet['중분류'] == '양갱') & (sheet['식품명'].str.contains(value)), '소분류'] = '견과류'\n",
    "for value in 과일:\n",
    "    sheet.loc[(sheet['중분류'] == '양갱') & (sheet['식품명'].str.contains(value)), '소분류'] = '과일'\n",
    "for value in 야채:\n",
    "    sheet.loc[(sheet['중분류'] == '양갱') & (sheet['식품명'].str.contains(value)), '소분류'] = '야채'\n",
    "for value in 녹차:\n",
    "    sheet.loc[(sheet['중분류'] == '양갱') & (sheet['식품명'].str.contains(value)), '소분류'] = '녹차'\n",
    "for value in 홍삼:\n",
    "    sheet.loc[(sheet['중분류'] == '양갱') & (sheet['식품명'].str.contains(value)), '소분류'] = '홍삼'\n",
    "for value in 초코:\n",
    "    sheet.loc[(sheet['중분류'] == '양갱') & (sheet['식품명'].str.contains(value)), '소분류'] = '초코'\n",
    "for value in 흑당:\n",
    "    sheet.loc[(sheet['중분류'] == '양갱') & (sheet['식품명'].str.contains(value)), '소분류'] = '흑당'\n",
    "for value in 카라멜:\n",
    "    sheet.loc[(sheet['중분류'] == '양갱') & (sheet['식품명'].str.contains(value)), '소분류'] = '카라멜'\n",
    "\n",
    "sheet.loc[(sheet['중분류'] == '양갱') & (sheet['소분류'] == ''), '소분류'] = '기타'"
   ],
   "metadata": {
    "collapsed": false,
    "pycharm": {
     "name": "#%%\n"
    }
   }
  },
  {
   "cell_type": "code",
   "execution_count": 557,
   "outputs": [
    {
     "name": "stdout",
     "output_type": "stream",
     "text": [
      "{'견과류': 11,\n",
      " '곡류': 60,\n",
      " '과일': 32,\n",
      " '기타': 33,\n",
      " '녹차': 10,\n",
      " '야채': 30,\n",
      " '초코': 3,\n",
      " '카라멜': 4,\n",
      " '홍삼': 30,\n",
      " '흑당': 6}\n"
     ]
    }
   ],
   "source": [
    "pp.pprint(category_count_fn('양갱'))"
   ],
   "metadata": {
    "collapsed": false,
    "pycharm": {
     "name": "#%%\n"
    }
   }
  },
  {
   "cell_type": "code",
   "execution_count": 558,
   "outputs": [
    {
     "data": {
      "text/plain": "          No                         식품명      대분류  중분류        소분류  1회 제공량 용량  \\\n8423   44565                       카라멜 볼  캐러멜, 양갱  캐러멜  기타 코코아가공품     100  g   \n8424   44566                    카라멜향 범킨스  캐러멜, 양갱  캐러멜  기타 코코아가공품     100  g   \n11355  40647                   밀크 캐러멜 드롭  캐러멜, 양갱  캐러멜      밀크초콜릿     100  g   \n11407  42926             초코비쥬 스틱 카라멜향 밀크  캐러멜, 양갱  캐러멜      밀크초콜릿     100  g   \n11452  44718           나마초콜릿 원료조각 -캐러멜리제  캐러멜, 양갱  캐러멜      밀크초콜릿     100  g   \n...      ...                         ...      ...  ...        ...     ... ..   \n29422  42606                    헤븐리피칸카라멜  캐러멜, 양갱  캐러멜        캔디류     100  g   \n29496  43249                      치즈향캐러멜  캐러멜, 양갱  캐러멜        캔디류     100  g   \n29509  43724                     카라멜후레이크  캐러멜, 양갱  캐러멜        캔디류     100  g   \n29601  45204  닥터존스 카라멜향-바닐라향 스월 앤 초콜릿 스월  캐러멜, 양갱  캐러멜        캔디류     100  g   \n29664  45598           카라멜 진저브레드맨모양 구미젤리  캐러멜, 양갱  캐러멜        캔디류     100  g   \n\n      총내용량(g) 총내용량(ml)  총당류(g)     총내용량  단위용량 대비 설탕 비율  설탕비율의 소분류 평균값  \n8423    10880        -    56.0  10880.0           56.0            0.0  \n8424    10880        -    56.0  10880.0           56.0            0.0  \n11355    5000        -    53.0   5000.0           53.0            0.0  \n11407    4000        -    52.0   4000.0           52.0            0.0  \n11452   10000        -    38.6  10000.0           38.6            0.0  \n...       ...      ...     ...      ...            ...            ...  \n29422     133        -    73.0    133.0           73.0            0.0  \n29496    4530        -    50.0   4530.0           50.0            0.0  \n29509   15000        -    58.0  15000.0           58.0            0.0  \n29601   11330        -    94.0  11330.0           94.0            0.0  \n29664     500        -    46.0    500.0           46.0            0.0  \n\n[142 rows x 13 columns]",
      "text/html": "<div>\n<style scoped>\n    .dataframe tbody tr th:only-of-type {\n        vertical-align: middle;\n    }\n\n    .dataframe tbody tr th {\n        vertical-align: top;\n    }\n\n    .dataframe thead th {\n        text-align: right;\n    }\n</style>\n<table border=\"1\" class=\"dataframe\">\n  <thead>\n    <tr style=\"text-align: right;\">\n      <th></th>\n      <th>No</th>\n      <th>식품명</th>\n      <th>대분류</th>\n      <th>중분류</th>\n      <th>소분류</th>\n      <th>1회 제공량</th>\n      <th>용량</th>\n      <th>총내용량(g)</th>\n      <th>총내용량(ml)</th>\n      <th>총당류(g)</th>\n      <th>총내용량</th>\n      <th>단위용량 대비 설탕 비율</th>\n      <th>설탕비율의 소분류 평균값</th>\n    </tr>\n  </thead>\n  <tbody>\n    <tr>\n      <th>8423</th>\n      <td>44565</td>\n      <td>카라멜 볼</td>\n      <td>캐러멜, 양갱</td>\n      <td>캐러멜</td>\n      <td>기타 코코아가공품</td>\n      <td>100</td>\n      <td>g</td>\n      <td>10880</td>\n      <td>-</td>\n      <td>56.0</td>\n      <td>10880.0</td>\n      <td>56.0</td>\n      <td>0.0</td>\n    </tr>\n    <tr>\n      <th>8424</th>\n      <td>44566</td>\n      <td>카라멜향 범킨스</td>\n      <td>캐러멜, 양갱</td>\n      <td>캐러멜</td>\n      <td>기타 코코아가공품</td>\n      <td>100</td>\n      <td>g</td>\n      <td>10880</td>\n      <td>-</td>\n      <td>56.0</td>\n      <td>10880.0</td>\n      <td>56.0</td>\n      <td>0.0</td>\n    </tr>\n    <tr>\n      <th>11355</th>\n      <td>40647</td>\n      <td>밀크 캐러멜 드롭</td>\n      <td>캐러멜, 양갱</td>\n      <td>캐러멜</td>\n      <td>밀크초콜릿</td>\n      <td>100</td>\n      <td>g</td>\n      <td>5000</td>\n      <td>-</td>\n      <td>53.0</td>\n      <td>5000.0</td>\n      <td>53.0</td>\n      <td>0.0</td>\n    </tr>\n    <tr>\n      <th>11407</th>\n      <td>42926</td>\n      <td>초코비쥬 스틱 카라멜향 밀크</td>\n      <td>캐러멜, 양갱</td>\n      <td>캐러멜</td>\n      <td>밀크초콜릿</td>\n      <td>100</td>\n      <td>g</td>\n      <td>4000</td>\n      <td>-</td>\n      <td>52.0</td>\n      <td>4000.0</td>\n      <td>52.0</td>\n      <td>0.0</td>\n    </tr>\n    <tr>\n      <th>11452</th>\n      <td>44718</td>\n      <td>나마초콜릿 원료조각 -캐러멜리제</td>\n      <td>캐러멜, 양갱</td>\n      <td>캐러멜</td>\n      <td>밀크초콜릿</td>\n      <td>100</td>\n      <td>g</td>\n      <td>10000</td>\n      <td>-</td>\n      <td>38.6</td>\n      <td>10000.0</td>\n      <td>38.6</td>\n      <td>0.0</td>\n    </tr>\n    <tr>\n      <th>...</th>\n      <td>...</td>\n      <td>...</td>\n      <td>...</td>\n      <td>...</td>\n      <td>...</td>\n      <td>...</td>\n      <td>...</td>\n      <td>...</td>\n      <td>...</td>\n      <td>...</td>\n      <td>...</td>\n      <td>...</td>\n      <td>...</td>\n    </tr>\n    <tr>\n      <th>29422</th>\n      <td>42606</td>\n      <td>헤븐리피칸카라멜</td>\n      <td>캐러멜, 양갱</td>\n      <td>캐러멜</td>\n      <td>캔디류</td>\n      <td>100</td>\n      <td>g</td>\n      <td>133</td>\n      <td>-</td>\n      <td>73.0</td>\n      <td>133.0</td>\n      <td>73.0</td>\n      <td>0.0</td>\n    </tr>\n    <tr>\n      <th>29496</th>\n      <td>43249</td>\n      <td>치즈향캐러멜</td>\n      <td>캐러멜, 양갱</td>\n      <td>캐러멜</td>\n      <td>캔디류</td>\n      <td>100</td>\n      <td>g</td>\n      <td>4530</td>\n      <td>-</td>\n      <td>50.0</td>\n      <td>4530.0</td>\n      <td>50.0</td>\n      <td>0.0</td>\n    </tr>\n    <tr>\n      <th>29509</th>\n      <td>43724</td>\n      <td>카라멜후레이크</td>\n      <td>캐러멜, 양갱</td>\n      <td>캐러멜</td>\n      <td>캔디류</td>\n      <td>100</td>\n      <td>g</td>\n      <td>15000</td>\n      <td>-</td>\n      <td>58.0</td>\n      <td>15000.0</td>\n      <td>58.0</td>\n      <td>0.0</td>\n    </tr>\n    <tr>\n      <th>29601</th>\n      <td>45204</td>\n      <td>닥터존스 카라멜향-바닐라향 스월 앤 초콜릿 스월</td>\n      <td>캐러멜, 양갱</td>\n      <td>캐러멜</td>\n      <td>캔디류</td>\n      <td>100</td>\n      <td>g</td>\n      <td>11330</td>\n      <td>-</td>\n      <td>94.0</td>\n      <td>11330.0</td>\n      <td>94.0</td>\n      <td>0.0</td>\n    </tr>\n    <tr>\n      <th>29664</th>\n      <td>45598</td>\n      <td>카라멜 진저브레드맨모양 구미젤리</td>\n      <td>캐러멜, 양갱</td>\n      <td>캐러멜</td>\n      <td>캔디류</td>\n      <td>100</td>\n      <td>g</td>\n      <td>500</td>\n      <td>-</td>\n      <td>46.0</td>\n      <td>500.0</td>\n      <td>46.0</td>\n      <td>0.0</td>\n    </tr>\n  </tbody>\n</table>\n<p>142 rows × 13 columns</p>\n</div>"
     },
     "execution_count": 558,
     "metadata": {},
     "output_type": "execute_result"
    }
   ],
   "source": [
    "sheet.loc[(sheet['중분류'] == '캐러멜'), :]"
   ],
   "metadata": {
    "collapsed": false,
    "pycharm": {
     "name": "#%%\n"
    }
   }
  },
  {
   "cell_type": "code",
   "execution_count": 559,
   "outputs": [],
   "source": [
    "# 떡, 견과\n",
    "초코 = ['초콜릿', '초코']\n",
    "밀크 = ['밀크']\n",
    "솔티드 = ['솔티드', '솔트', '소금']\n",
    "견과류 = ['아몬드', '땅콩', '헤이즐넛', '피칸']\n",
    "곡류 = ['참깨', '흑깨']\n",
    "녹차 = ['녹차']\n",
    "과일 = ['사과', '딸기']\n",
    "야채 = ['호박', '고구마']\n",
    "\n",
    "sheet.loc[(sheet['중분류'] == '캐러멜'), '소분류'] = ''\n",
    "\n",
    "for value in 곡류:\n",
    "    sheet.loc[(sheet['중분류'] == '캐러멜') & (sheet['식품명'].str.contains(value)), '소분류'] = '곡류'\n",
    "for value in 밀크:\n",
    "    sheet.loc[(sheet['중분류'] == '캐러멜') & (sheet['식품명'].str.contains(value)), '소분류'] = '밀크'\n",
    "for value in 솔티드:\n",
    "    sheet.loc[(sheet['중분류'] == '캐러멜') & (sheet['식품명'].str.contains(value)), '소분류'] = '솔트'\n",
    "for value in 견과류:\n",
    "    sheet.loc[(sheet['중분류'] == '캐러멜') & (sheet['식품명'].str.contains(value)), '소분류'] = '견과류'\n",
    "for value in 곡류:\n",
    "    sheet.loc[(sheet['중분류'] == '캐러멜') & (sheet['식품명'].str.contains(value)), '소분류'] = '곡류'\n",
    "for value in 녹차:\n",
    "    sheet.loc[(sheet['중분류'] == '캐러멜') & (sheet['식품명'].str.contains(value)), '소분류'] = '녹차'\n",
    "for value in 과일:\n",
    "    sheet.loc[(sheet['중분류'] == '캐러멜') & (sheet['식품명'].str.contains(value)), '소분류'] = '과일'\n",
    "for value in 야채:\n",
    "    sheet.loc[(sheet['중분류'] == '캐러멜') & (sheet['식품명'].str.contains(value)), '소분류'] = '야채'\n",
    "\n",
    "\n",
    "sheet.loc[(sheet['중분류'] == '캐러멜') & (sheet['소분류'] == ''), '소분류'] = '기타'"
   ],
   "metadata": {
    "collapsed": false,
    "pycharm": {
     "name": "#%%\n"
    }
   }
  },
  {
   "cell_type": "code",
   "execution_count": 560,
   "outputs": [
    {
     "name": "stdout",
     "output_type": "stream",
     "text": [
      "{'견과류': 40, '곡류': 3, '과일': 3, '기타': 67, '녹차': 2, '밀크': 12, '솔트': 11, '야채': 4}\n"
     ]
    }
   ],
   "source": [
    "pp.pprint(category_count_fn('캐러멜'))"
   ],
   "metadata": {
    "collapsed": false,
    "pycharm": {
     "name": "#%%\n"
    }
   }
  },
  {
   "cell_type": "code",
   "execution_count": 561,
   "outputs": [
    {
     "data": {
      "text/plain": "          No                         식품명      대분류  중분류  소분류  1회 제공량 용량  \\\n8423   44565                       카라멜 볼  캐러멜, 양갱  캐러멜   기타     100  g   \n8424   44566                    카라멜향 범킨스  캐러멜, 양갱  캐러멜   기타     100  g   \n11355  40647                   밀크 캐러멜 드롭  캐러멜, 양갱  캐러멜   밀크     100  g   \n11407  42926             초코비쥬 스틱 카라멜향 밀크  캐러멜, 양갱  캐러멜   밀크     100  g   \n11452  44718           나마초콜릿 원료조각 -캐러멜리제  캐러멜, 양갱  캐러멜   기타     100  g   \n...      ...                         ...      ...  ...  ...     ... ..   \n29422  42606                    헤븐리피칸카라멜  캐러멜, 양갱  캐러멜  견과류     100  g   \n29496  43249                      치즈향캐러멜  캐러멜, 양갱  캐러멜   기타     100  g   \n29509  43724                     카라멜후레이크  캐러멜, 양갱  캐러멜   기타     100  g   \n29601  45204  닥터존스 카라멜향-바닐라향 스월 앤 초콜릿 스월  캐러멜, 양갱  캐러멜   기타     100  g   \n29664  45598           카라멜 진저브레드맨모양 구미젤리  캐러멜, 양갱  캐러멜   기타     100  g   \n\n      총내용량(g) 총내용량(ml)  총당류(g)     총내용량  단위용량 대비 설탕 비율  설탕비율의 소분류 평균값  \n8423    10880        -    56.0  10880.0           56.0            0.0  \n8424    10880        -    56.0  10880.0           56.0            0.0  \n11355    5000        -    53.0   5000.0           53.0            0.0  \n11407    4000        -    52.0   4000.0           52.0            0.0  \n11452   10000        -    38.6  10000.0           38.6            0.0  \n...       ...      ...     ...      ...            ...            ...  \n29422     133        -    73.0    133.0           73.0            0.0  \n29496    4530        -    50.0   4530.0           50.0            0.0  \n29509   15000        -    58.0  15000.0           58.0            0.0  \n29601   11330        -    94.0  11330.0           94.0            0.0  \n29664     500        -    46.0    500.0           46.0            0.0  \n\n[142 rows x 13 columns]",
      "text/html": "<div>\n<style scoped>\n    .dataframe tbody tr th:only-of-type {\n        vertical-align: middle;\n    }\n\n    .dataframe tbody tr th {\n        vertical-align: top;\n    }\n\n    .dataframe thead th {\n        text-align: right;\n    }\n</style>\n<table border=\"1\" class=\"dataframe\">\n  <thead>\n    <tr style=\"text-align: right;\">\n      <th></th>\n      <th>No</th>\n      <th>식품명</th>\n      <th>대분류</th>\n      <th>중분류</th>\n      <th>소분류</th>\n      <th>1회 제공량</th>\n      <th>용량</th>\n      <th>총내용량(g)</th>\n      <th>총내용량(ml)</th>\n      <th>총당류(g)</th>\n      <th>총내용량</th>\n      <th>단위용량 대비 설탕 비율</th>\n      <th>설탕비율의 소분류 평균값</th>\n    </tr>\n  </thead>\n  <tbody>\n    <tr>\n      <th>8423</th>\n      <td>44565</td>\n      <td>카라멜 볼</td>\n      <td>캐러멜, 양갱</td>\n      <td>캐러멜</td>\n      <td>기타</td>\n      <td>100</td>\n      <td>g</td>\n      <td>10880</td>\n      <td>-</td>\n      <td>56.0</td>\n      <td>10880.0</td>\n      <td>56.0</td>\n      <td>0.0</td>\n    </tr>\n    <tr>\n      <th>8424</th>\n      <td>44566</td>\n      <td>카라멜향 범킨스</td>\n      <td>캐러멜, 양갱</td>\n      <td>캐러멜</td>\n      <td>기타</td>\n      <td>100</td>\n      <td>g</td>\n      <td>10880</td>\n      <td>-</td>\n      <td>56.0</td>\n      <td>10880.0</td>\n      <td>56.0</td>\n      <td>0.0</td>\n    </tr>\n    <tr>\n      <th>11355</th>\n      <td>40647</td>\n      <td>밀크 캐러멜 드롭</td>\n      <td>캐러멜, 양갱</td>\n      <td>캐러멜</td>\n      <td>밀크</td>\n      <td>100</td>\n      <td>g</td>\n      <td>5000</td>\n      <td>-</td>\n      <td>53.0</td>\n      <td>5000.0</td>\n      <td>53.0</td>\n      <td>0.0</td>\n    </tr>\n    <tr>\n      <th>11407</th>\n      <td>42926</td>\n      <td>초코비쥬 스틱 카라멜향 밀크</td>\n      <td>캐러멜, 양갱</td>\n      <td>캐러멜</td>\n      <td>밀크</td>\n      <td>100</td>\n      <td>g</td>\n      <td>4000</td>\n      <td>-</td>\n      <td>52.0</td>\n      <td>4000.0</td>\n      <td>52.0</td>\n      <td>0.0</td>\n    </tr>\n    <tr>\n      <th>11452</th>\n      <td>44718</td>\n      <td>나마초콜릿 원료조각 -캐러멜리제</td>\n      <td>캐러멜, 양갱</td>\n      <td>캐러멜</td>\n      <td>기타</td>\n      <td>100</td>\n      <td>g</td>\n      <td>10000</td>\n      <td>-</td>\n      <td>38.6</td>\n      <td>10000.0</td>\n      <td>38.6</td>\n      <td>0.0</td>\n    </tr>\n    <tr>\n      <th>...</th>\n      <td>...</td>\n      <td>...</td>\n      <td>...</td>\n      <td>...</td>\n      <td>...</td>\n      <td>...</td>\n      <td>...</td>\n      <td>...</td>\n      <td>...</td>\n      <td>...</td>\n      <td>...</td>\n      <td>...</td>\n      <td>...</td>\n    </tr>\n    <tr>\n      <th>29422</th>\n      <td>42606</td>\n      <td>헤븐리피칸카라멜</td>\n      <td>캐러멜, 양갱</td>\n      <td>캐러멜</td>\n      <td>견과류</td>\n      <td>100</td>\n      <td>g</td>\n      <td>133</td>\n      <td>-</td>\n      <td>73.0</td>\n      <td>133.0</td>\n      <td>73.0</td>\n      <td>0.0</td>\n    </tr>\n    <tr>\n      <th>29496</th>\n      <td>43249</td>\n      <td>치즈향캐러멜</td>\n      <td>캐러멜, 양갱</td>\n      <td>캐러멜</td>\n      <td>기타</td>\n      <td>100</td>\n      <td>g</td>\n      <td>4530</td>\n      <td>-</td>\n      <td>50.0</td>\n      <td>4530.0</td>\n      <td>50.0</td>\n      <td>0.0</td>\n    </tr>\n    <tr>\n      <th>29509</th>\n      <td>43724</td>\n      <td>카라멜후레이크</td>\n      <td>캐러멜, 양갱</td>\n      <td>캐러멜</td>\n      <td>기타</td>\n      <td>100</td>\n      <td>g</td>\n      <td>15000</td>\n      <td>-</td>\n      <td>58.0</td>\n      <td>15000.0</td>\n      <td>58.0</td>\n      <td>0.0</td>\n    </tr>\n    <tr>\n      <th>29601</th>\n      <td>45204</td>\n      <td>닥터존스 카라멜향-바닐라향 스월 앤 초콜릿 스월</td>\n      <td>캐러멜, 양갱</td>\n      <td>캐러멜</td>\n      <td>기타</td>\n      <td>100</td>\n      <td>g</td>\n      <td>11330</td>\n      <td>-</td>\n      <td>94.0</td>\n      <td>11330.0</td>\n      <td>94.0</td>\n      <td>0.0</td>\n    </tr>\n    <tr>\n      <th>29664</th>\n      <td>45598</td>\n      <td>카라멜 진저브레드맨모양 구미젤리</td>\n      <td>캐러멜, 양갱</td>\n      <td>캐러멜</td>\n      <td>기타</td>\n      <td>100</td>\n      <td>g</td>\n      <td>500</td>\n      <td>-</td>\n      <td>46.0</td>\n      <td>500.0</td>\n      <td>46.0</td>\n      <td>0.0</td>\n    </tr>\n  </tbody>\n</table>\n<p>142 rows × 13 columns</p>\n</div>"
     },
     "execution_count": 561,
     "metadata": {},
     "output_type": "execute_result"
    }
   ],
   "source": [
    "sheet.loc[(sheet['중분류'] == '캐러멜'), :]"
   ],
   "metadata": {
    "collapsed": false,
    "pycharm": {
     "name": "#%%\n"
    }
   }
  },
  {
   "cell_type": "code",
   "execution_count": 562,
   "outputs": [
    {
     "data": {
      "text/plain": "          No        식품명     대분류 중분류 소분류  1회 제공량 용량 총내용량(g) 총내용량(ml)  총당류(g)  \\\n11255  16570  스타벅스 찹쌀말랑  떡, 견과류   떡  떡류      66  g      66        -    7.00   \n11256  44449        지마구  떡, 견과류   떡  떡류     100  g     700        -   13.00   \n11257  44702  아이모찌 어쏘티드  떡, 견과류   떡  떡류     100  g     750        -   31.00   \n11258  45506        지마구  떡, 견과류   떡  떡류     100  g     700        -   13.39   \n11259  83193         마떡  떡, 견과류   떡  떡류     429  g     429        -   13.30   \n11260  83194       치즈마떡  떡, 견과류   떡  떡류     520  g     520        -   29.59   \n\n        총내용량  단위용량 대비 설탕 비율  설탕비율의 소분류 평균값  \n11255   66.0           10.6            0.0  \n11256  700.0           13.0            0.0  \n11257  750.0           31.0            0.0  \n11258  700.0           13.4            0.0  \n11259  429.0            3.1            0.0  \n11260  520.0            5.7            0.0  ",
      "text/html": "<div>\n<style scoped>\n    .dataframe tbody tr th:only-of-type {\n        vertical-align: middle;\n    }\n\n    .dataframe tbody tr th {\n        vertical-align: top;\n    }\n\n    .dataframe thead th {\n        text-align: right;\n    }\n</style>\n<table border=\"1\" class=\"dataframe\">\n  <thead>\n    <tr style=\"text-align: right;\">\n      <th></th>\n      <th>No</th>\n      <th>식품명</th>\n      <th>대분류</th>\n      <th>중분류</th>\n      <th>소분류</th>\n      <th>1회 제공량</th>\n      <th>용량</th>\n      <th>총내용량(g)</th>\n      <th>총내용량(ml)</th>\n      <th>총당류(g)</th>\n      <th>총내용량</th>\n      <th>단위용량 대비 설탕 비율</th>\n      <th>설탕비율의 소분류 평균값</th>\n    </tr>\n  </thead>\n  <tbody>\n    <tr>\n      <th>11255</th>\n      <td>16570</td>\n      <td>스타벅스 찹쌀말랑</td>\n      <td>떡, 견과류</td>\n      <td>떡</td>\n      <td>떡류</td>\n      <td>66</td>\n      <td>g</td>\n      <td>66</td>\n      <td>-</td>\n      <td>7.00</td>\n      <td>66.0</td>\n      <td>10.6</td>\n      <td>0.0</td>\n    </tr>\n    <tr>\n      <th>11256</th>\n      <td>44449</td>\n      <td>지마구</td>\n      <td>떡, 견과류</td>\n      <td>떡</td>\n      <td>떡류</td>\n      <td>100</td>\n      <td>g</td>\n      <td>700</td>\n      <td>-</td>\n      <td>13.00</td>\n      <td>700.0</td>\n      <td>13.0</td>\n      <td>0.0</td>\n    </tr>\n    <tr>\n      <th>11257</th>\n      <td>44702</td>\n      <td>아이모찌 어쏘티드</td>\n      <td>떡, 견과류</td>\n      <td>떡</td>\n      <td>떡류</td>\n      <td>100</td>\n      <td>g</td>\n      <td>750</td>\n      <td>-</td>\n      <td>31.00</td>\n      <td>750.0</td>\n      <td>31.0</td>\n      <td>0.0</td>\n    </tr>\n    <tr>\n      <th>11258</th>\n      <td>45506</td>\n      <td>지마구</td>\n      <td>떡, 견과류</td>\n      <td>떡</td>\n      <td>떡류</td>\n      <td>100</td>\n      <td>g</td>\n      <td>700</td>\n      <td>-</td>\n      <td>13.39</td>\n      <td>700.0</td>\n      <td>13.4</td>\n      <td>0.0</td>\n    </tr>\n    <tr>\n      <th>11259</th>\n      <td>83193</td>\n      <td>마떡</td>\n      <td>떡, 견과류</td>\n      <td>떡</td>\n      <td>떡류</td>\n      <td>429</td>\n      <td>g</td>\n      <td>429</td>\n      <td>-</td>\n      <td>13.30</td>\n      <td>429.0</td>\n      <td>3.1</td>\n      <td>0.0</td>\n    </tr>\n    <tr>\n      <th>11260</th>\n      <td>83194</td>\n      <td>치즈마떡</td>\n      <td>떡, 견과류</td>\n      <td>떡</td>\n      <td>떡류</td>\n      <td>520</td>\n      <td>g</td>\n      <td>520</td>\n      <td>-</td>\n      <td>29.59</td>\n      <td>520.0</td>\n      <td>5.7</td>\n      <td>0.0</td>\n    </tr>\n  </tbody>\n</table>\n</div>"
     },
     "execution_count": 562,
     "metadata": {},
     "output_type": "execute_result"
    }
   ],
   "source": [
    "sheet.loc[(sheet['중분류'] == '떡'), :]"
   ],
   "metadata": {
    "collapsed": false,
    "pycharm": {
     "name": "#%%\n"
    }
   }
  },
  {
   "cell_type": "code",
   "execution_count": 563,
   "outputs": [],
   "source": [
    "모찌 = ['모찌']\n",
    "찹쌀 = ['찹쌀']\n",
    "치즈 = ['치즈']\n",
    "\n",
    "sheet.loc[(sheet['중분류'] == '떡'), '소분류'] = ''\n",
    "\n",
    "for value in 모찌:\n",
    "    sheet.loc[(sheet['중분류'] == '떡') & (sheet['식품명'].str.contains(value)), '소분류'] = '모찌'\n",
    "for value in 찹쌀:\n",
    "    sheet.loc[(sheet['중분류'] == '떡') & (sheet['식품명'].str.contains(value)), '소분류'] = '찹쌀'\n",
    "for value in 치즈:\n",
    "    sheet.loc[(sheet['중분류'] == '떡') & (sheet['식품명'].str.contains(value)), '소분류'] = '치즈'\n",
    "\n",
    "sheet.loc[(sheet['중분류'] == '떡') & (sheet['소분류'] == ''), '소분류'] = '기타'"
   ],
   "metadata": {
    "collapsed": false,
    "pycharm": {
     "name": "#%%\n"
    }
   }
  },
  {
   "cell_type": "code",
   "execution_count": 564,
   "outputs": [
    {
     "name": "stdout",
     "output_type": "stream",
     "text": [
      "{'기타': 3, '모찌': 1, '찹쌀': 1, '치즈': 1}\n"
     ]
    }
   ],
   "source": [
    "pp.pprint(category_count_fn('떡'))"
   ],
   "metadata": {
    "collapsed": false,
    "pycharm": {
     "name": "#%%\n"
    }
   }
  },
  {
   "cell_type": "code",
   "execution_count": 565,
   "outputs": [
    {
     "data": {
      "text/plain": "          No                       식품명     대분류  중분류           소분류  1회 제공량 용량  \\\n11232  16554                 한 입에 쏙 호두  떡, 견과류  견과류  땅콩 또는 견과류가공품      80  g   \n11233  16565            오도독 건강한 넛&블루베리  떡, 견과류  견과류  땅콩 또는 견과류가공품      30  g   \n11234  40217            아몬드 프로틴 파우더 블랑  떡, 견과류  견과류  땅콩 또는 견과류가공품     100  g   \n11235  40228     단백질이 풍부한 땅콩버터파우더 오리지날  떡, 견과류  견과류  땅콩 또는 견과류가공품     100  g   \n11236  40435            파스타 피스타치오 100%  떡, 견과류  견과류  땅콩 또는 견과류가공품     100  g   \n11237  40436            파스타 피스타치오 100%  떡, 견과류  견과류  땅콩 또는 견과류가공품     100  g   \n11238  41067                 체스트넛 스프레드  떡, 견과류  견과류  땅콩 또는 견과류가공품     100  g   \n11239  41443             마카다미아 넛츠 스프레드  떡, 견과류  견과류  땅콩 또는 견과류가공품     100  g   \n11240  42201                     피넛스토리  떡, 견과류  견과류  땅콩 또는 견과류가공품     100  g   \n11241  42506          커클랜드 시그니춰 아몬드 가루  떡, 견과류  견과류  땅콩 또는 견과류가공품     100  g   \n11242  42813              플랜터스 믹스넛 라이트  떡, 견과류  견과류  땅콩 또는 견과류가공품     100  g   \n11243  42814              플랜터스 믹스넛 라이트  떡, 견과류  견과류  땅콩 또는 견과류가공품     100  g   \n11244  44053  엑스트리버진올리브오일과 아몬드 누가 스프레드  떡, 견과류  견과류  땅콩 또는 견과류가공품     100  g   \n11245  44503                  달콤한 밤의여왕  떡, 견과류  견과류  땅콩 또는 견과류가공품     100  g   \n11246  44504                아이스 유기농 군밤  떡, 견과류  견과류  땅콩 또는 견과류가공품     100  g   \n11247  45294                        맛밤  떡, 견과류  견과류  땅콩 또는 견과류가공품     110  g   \n11248  45347                하베스트 마카다미아  떡, 견과류  견과류  땅콩 또는 견과류가공품     100  g   \n11249  45539                    소프트 투론  떡, 견과류  견과류  땅콩 또는 견과류가공품     100  g   \n11250  45540                    아몬드 투론  떡, 견과류  견과류  땅콩 또는 견과류가공품     100  g   \n11251  45541              아티산 굴라쉬 믹스넛트  떡, 견과류  견과류  땅콩 또는 견과류가공품     100  g   \n11252  45542               아티산 굴라쉬 아몬드  떡, 견과류  견과류  땅콩 또는 견과류가공품     100  g   \n11253  45543               아티산 굴라쉬 헤즐넛  떡, 견과류  견과류  땅콩 또는 견과류가공품     100  g   \n11254  45544               엑설런스 하드 아몬드  떡, 견과류  견과류  땅콩 또는 견과류가공품     100  g   \n\n      총내용량(g) 총내용량(ml)  총당류(g)     총내용량  단위용량 대비 설탕 비율  설탕비율의 소분류 평균값  \n11232      80        -    9.00     80.0           11.2            0.0  \n11233      30        -    5.00     30.0           16.7            0.0  \n11234   24950        -    9.39  24950.0            9.4            0.0  \n11235     184        -   14.00    184.0           14.0            0.0  \n11236    3000        -    6.40   3000.0            6.4            0.0  \n11237    3000        -    6.40   3000.0            6.4            0.0  \n11238    1000        -   50.00   1000.0           50.0            0.0  \n11239     220        -    5.50    220.0            5.5            0.0  \n11240     112        -   25.00    112.0           25.0            0.0  \n11241    1360        -    4.00   1360.0            4.0            0.0  \n11242     292        -    5.00    292.0            5.0            0.0  \n11243     292        -    5.00    292.0            5.0            0.0  \n11244     150        -   48.00    150.0           48.0            0.0  \n11245    1000        -   11.00   1000.0           11.0            0.0  \n11246     100        -   11.00    100.0           11.0            0.0  \n11247     660        -   10.00    660.0            9.1            0.0  \n11248     125        -    4.00    125.0            4.0            0.0  \n11249     150        -   27.00    150.0           27.0            0.0  \n11250     150        -   46.00    150.0           46.0            0.0  \n11251     150        -   44.00    150.0           44.0            0.0  \n11252     150        -   31.00    150.0           31.0            0.0  \n11253     150        -   20.00    150.0           20.0            0.0  \n11254     150        -   30.00    150.0           30.0            0.0  ",
      "text/html": "<div>\n<style scoped>\n    .dataframe tbody tr th:only-of-type {\n        vertical-align: middle;\n    }\n\n    .dataframe tbody tr th {\n        vertical-align: top;\n    }\n\n    .dataframe thead th {\n        text-align: right;\n    }\n</style>\n<table border=\"1\" class=\"dataframe\">\n  <thead>\n    <tr style=\"text-align: right;\">\n      <th></th>\n      <th>No</th>\n      <th>식품명</th>\n      <th>대분류</th>\n      <th>중분류</th>\n      <th>소분류</th>\n      <th>1회 제공량</th>\n      <th>용량</th>\n      <th>총내용량(g)</th>\n      <th>총내용량(ml)</th>\n      <th>총당류(g)</th>\n      <th>총내용량</th>\n      <th>단위용량 대비 설탕 비율</th>\n      <th>설탕비율의 소분류 평균값</th>\n    </tr>\n  </thead>\n  <tbody>\n    <tr>\n      <th>11232</th>\n      <td>16554</td>\n      <td>한 입에 쏙 호두</td>\n      <td>떡, 견과류</td>\n      <td>견과류</td>\n      <td>땅콩 또는 견과류가공품</td>\n      <td>80</td>\n      <td>g</td>\n      <td>80</td>\n      <td>-</td>\n      <td>9.00</td>\n      <td>80.0</td>\n      <td>11.2</td>\n      <td>0.0</td>\n    </tr>\n    <tr>\n      <th>11233</th>\n      <td>16565</td>\n      <td>오도독 건강한 넛&amp;블루베리</td>\n      <td>떡, 견과류</td>\n      <td>견과류</td>\n      <td>땅콩 또는 견과류가공품</td>\n      <td>30</td>\n      <td>g</td>\n      <td>30</td>\n      <td>-</td>\n      <td>5.00</td>\n      <td>30.0</td>\n      <td>16.7</td>\n      <td>0.0</td>\n    </tr>\n    <tr>\n      <th>11234</th>\n      <td>40217</td>\n      <td>아몬드 프로틴 파우더 블랑</td>\n      <td>떡, 견과류</td>\n      <td>견과류</td>\n      <td>땅콩 또는 견과류가공품</td>\n      <td>100</td>\n      <td>g</td>\n      <td>24950</td>\n      <td>-</td>\n      <td>9.39</td>\n      <td>24950.0</td>\n      <td>9.4</td>\n      <td>0.0</td>\n    </tr>\n    <tr>\n      <th>11235</th>\n      <td>40228</td>\n      <td>단백질이 풍부한 땅콩버터파우더 오리지날</td>\n      <td>떡, 견과류</td>\n      <td>견과류</td>\n      <td>땅콩 또는 견과류가공품</td>\n      <td>100</td>\n      <td>g</td>\n      <td>184</td>\n      <td>-</td>\n      <td>14.00</td>\n      <td>184.0</td>\n      <td>14.0</td>\n      <td>0.0</td>\n    </tr>\n    <tr>\n      <th>11236</th>\n      <td>40435</td>\n      <td>파스타 피스타치오 100%</td>\n      <td>떡, 견과류</td>\n      <td>견과류</td>\n      <td>땅콩 또는 견과류가공품</td>\n      <td>100</td>\n      <td>g</td>\n      <td>3000</td>\n      <td>-</td>\n      <td>6.40</td>\n      <td>3000.0</td>\n      <td>6.4</td>\n      <td>0.0</td>\n    </tr>\n    <tr>\n      <th>11237</th>\n      <td>40436</td>\n      <td>파스타 피스타치오 100%</td>\n      <td>떡, 견과류</td>\n      <td>견과류</td>\n      <td>땅콩 또는 견과류가공품</td>\n      <td>100</td>\n      <td>g</td>\n      <td>3000</td>\n      <td>-</td>\n      <td>6.40</td>\n      <td>3000.0</td>\n      <td>6.4</td>\n      <td>0.0</td>\n    </tr>\n    <tr>\n      <th>11238</th>\n      <td>41067</td>\n      <td>체스트넛 스프레드</td>\n      <td>떡, 견과류</td>\n      <td>견과류</td>\n      <td>땅콩 또는 견과류가공품</td>\n      <td>100</td>\n      <td>g</td>\n      <td>1000</td>\n      <td>-</td>\n      <td>50.00</td>\n      <td>1000.0</td>\n      <td>50.0</td>\n      <td>0.0</td>\n    </tr>\n    <tr>\n      <th>11239</th>\n      <td>41443</td>\n      <td>마카다미아 넛츠 스프레드</td>\n      <td>떡, 견과류</td>\n      <td>견과류</td>\n      <td>땅콩 또는 견과류가공품</td>\n      <td>100</td>\n      <td>g</td>\n      <td>220</td>\n      <td>-</td>\n      <td>5.50</td>\n      <td>220.0</td>\n      <td>5.5</td>\n      <td>0.0</td>\n    </tr>\n    <tr>\n      <th>11240</th>\n      <td>42201</td>\n      <td>피넛스토리</td>\n      <td>떡, 견과류</td>\n      <td>견과류</td>\n      <td>땅콩 또는 견과류가공품</td>\n      <td>100</td>\n      <td>g</td>\n      <td>112</td>\n      <td>-</td>\n      <td>25.00</td>\n      <td>112.0</td>\n      <td>25.0</td>\n      <td>0.0</td>\n    </tr>\n    <tr>\n      <th>11241</th>\n      <td>42506</td>\n      <td>커클랜드 시그니춰 아몬드 가루</td>\n      <td>떡, 견과류</td>\n      <td>견과류</td>\n      <td>땅콩 또는 견과류가공품</td>\n      <td>100</td>\n      <td>g</td>\n      <td>1360</td>\n      <td>-</td>\n      <td>4.00</td>\n      <td>1360.0</td>\n      <td>4.0</td>\n      <td>0.0</td>\n    </tr>\n    <tr>\n      <th>11242</th>\n      <td>42813</td>\n      <td>플랜터스 믹스넛 라이트</td>\n      <td>떡, 견과류</td>\n      <td>견과류</td>\n      <td>땅콩 또는 견과류가공품</td>\n      <td>100</td>\n      <td>g</td>\n      <td>292</td>\n      <td>-</td>\n      <td>5.00</td>\n      <td>292.0</td>\n      <td>5.0</td>\n      <td>0.0</td>\n    </tr>\n    <tr>\n      <th>11243</th>\n      <td>42814</td>\n      <td>플랜터스 믹스넛 라이트</td>\n      <td>떡, 견과류</td>\n      <td>견과류</td>\n      <td>땅콩 또는 견과류가공품</td>\n      <td>100</td>\n      <td>g</td>\n      <td>292</td>\n      <td>-</td>\n      <td>5.00</td>\n      <td>292.0</td>\n      <td>5.0</td>\n      <td>0.0</td>\n    </tr>\n    <tr>\n      <th>11244</th>\n      <td>44053</td>\n      <td>엑스트리버진올리브오일과 아몬드 누가 스프레드</td>\n      <td>떡, 견과류</td>\n      <td>견과류</td>\n      <td>땅콩 또는 견과류가공품</td>\n      <td>100</td>\n      <td>g</td>\n      <td>150</td>\n      <td>-</td>\n      <td>48.00</td>\n      <td>150.0</td>\n      <td>48.0</td>\n      <td>0.0</td>\n    </tr>\n    <tr>\n      <th>11245</th>\n      <td>44503</td>\n      <td>달콤한 밤의여왕</td>\n      <td>떡, 견과류</td>\n      <td>견과류</td>\n      <td>땅콩 또는 견과류가공품</td>\n      <td>100</td>\n      <td>g</td>\n      <td>1000</td>\n      <td>-</td>\n      <td>11.00</td>\n      <td>1000.0</td>\n      <td>11.0</td>\n      <td>0.0</td>\n    </tr>\n    <tr>\n      <th>11246</th>\n      <td>44504</td>\n      <td>아이스 유기농 군밤</td>\n      <td>떡, 견과류</td>\n      <td>견과류</td>\n      <td>땅콩 또는 견과류가공품</td>\n      <td>100</td>\n      <td>g</td>\n      <td>100</td>\n      <td>-</td>\n      <td>11.00</td>\n      <td>100.0</td>\n      <td>11.0</td>\n      <td>0.0</td>\n    </tr>\n    <tr>\n      <th>11247</th>\n      <td>45294</td>\n      <td>맛밤</td>\n      <td>떡, 견과류</td>\n      <td>견과류</td>\n      <td>땅콩 또는 견과류가공품</td>\n      <td>110</td>\n      <td>g</td>\n      <td>660</td>\n      <td>-</td>\n      <td>10.00</td>\n      <td>660.0</td>\n      <td>9.1</td>\n      <td>0.0</td>\n    </tr>\n    <tr>\n      <th>11248</th>\n      <td>45347</td>\n      <td>하베스트 마카다미아</td>\n      <td>떡, 견과류</td>\n      <td>견과류</td>\n      <td>땅콩 또는 견과류가공품</td>\n      <td>100</td>\n      <td>g</td>\n      <td>125</td>\n      <td>-</td>\n      <td>4.00</td>\n      <td>125.0</td>\n      <td>4.0</td>\n      <td>0.0</td>\n    </tr>\n    <tr>\n      <th>11249</th>\n      <td>45539</td>\n      <td>소프트 투론</td>\n      <td>떡, 견과류</td>\n      <td>견과류</td>\n      <td>땅콩 또는 견과류가공품</td>\n      <td>100</td>\n      <td>g</td>\n      <td>150</td>\n      <td>-</td>\n      <td>27.00</td>\n      <td>150.0</td>\n      <td>27.0</td>\n      <td>0.0</td>\n    </tr>\n    <tr>\n      <th>11250</th>\n      <td>45540</td>\n      <td>아몬드 투론</td>\n      <td>떡, 견과류</td>\n      <td>견과류</td>\n      <td>땅콩 또는 견과류가공품</td>\n      <td>100</td>\n      <td>g</td>\n      <td>150</td>\n      <td>-</td>\n      <td>46.00</td>\n      <td>150.0</td>\n      <td>46.0</td>\n      <td>0.0</td>\n    </tr>\n    <tr>\n      <th>11251</th>\n      <td>45541</td>\n      <td>아티산 굴라쉬 믹스넛트</td>\n      <td>떡, 견과류</td>\n      <td>견과류</td>\n      <td>땅콩 또는 견과류가공품</td>\n      <td>100</td>\n      <td>g</td>\n      <td>150</td>\n      <td>-</td>\n      <td>44.00</td>\n      <td>150.0</td>\n      <td>44.0</td>\n      <td>0.0</td>\n    </tr>\n    <tr>\n      <th>11252</th>\n      <td>45542</td>\n      <td>아티산 굴라쉬 아몬드</td>\n      <td>떡, 견과류</td>\n      <td>견과류</td>\n      <td>땅콩 또는 견과류가공품</td>\n      <td>100</td>\n      <td>g</td>\n      <td>150</td>\n      <td>-</td>\n      <td>31.00</td>\n      <td>150.0</td>\n      <td>31.0</td>\n      <td>0.0</td>\n    </tr>\n    <tr>\n      <th>11253</th>\n      <td>45543</td>\n      <td>아티산 굴라쉬 헤즐넛</td>\n      <td>떡, 견과류</td>\n      <td>견과류</td>\n      <td>땅콩 또는 견과류가공품</td>\n      <td>100</td>\n      <td>g</td>\n      <td>150</td>\n      <td>-</td>\n      <td>20.00</td>\n      <td>150.0</td>\n      <td>20.0</td>\n      <td>0.0</td>\n    </tr>\n    <tr>\n      <th>11254</th>\n      <td>45544</td>\n      <td>엑설런스 하드 아몬드</td>\n      <td>떡, 견과류</td>\n      <td>견과류</td>\n      <td>땅콩 또는 견과류가공품</td>\n      <td>100</td>\n      <td>g</td>\n      <td>150</td>\n      <td>-</td>\n      <td>30.00</td>\n      <td>150.0</td>\n      <td>30.0</td>\n      <td>0.0</td>\n    </tr>\n  </tbody>\n</table>\n</div>"
     },
     "execution_count": 565,
     "metadata": {},
     "output_type": "execute_result"
    }
   ],
   "source": [
    "sheet.loc[(sheet['중분류'] == '견과류'), :]"
   ],
   "metadata": {
    "collapsed": false,
    "pycharm": {
     "name": "#%%\n"
    }
   }
  },
  {
   "cell_type": "code",
   "execution_count": 566,
   "outputs": [
    {
     "ename": "KeyError",
     "evalue": "'[17942] not found in axis'",
     "output_type": "error",
     "traceback": [
      "\u001B[0;31m---------------------------------------------------------------------------\u001B[0m",
      "\u001B[0;31mKeyError\u001B[0m                                  Traceback (most recent call last)",
      "Input \u001B[0;32mIn [566]\u001B[0m, in \u001B[0;36m<cell line: 2>\u001B[0;34m()\u001B[0m\n\u001B[1;32m      1\u001B[0m delete \u001B[38;5;241m=\u001B[39m [\u001B[38;5;241m17942\u001B[39m, \u001B[38;5;241m18155\u001B[39m, \u001B[38;5;241m18173\u001B[39m, \u001B[38;5;241m24402\u001B[39m, \u001B[38;5;241m28296\u001B[39m, \u001B[38;5;241m45445\u001B[39m, \u001B[38;5;241m45444\u001B[39m, \u001B[38;5;241m44700\u001B[39m]\n\u001B[1;32m      2\u001B[0m \u001B[38;5;28;01mfor\u001B[39;00m value \u001B[38;5;129;01min\u001B[39;00m delete:\n\u001B[0;32m----> 3\u001B[0m     sheet \u001B[38;5;241m=\u001B[39m \u001B[43msheet\u001B[49m\u001B[38;5;241;43m.\u001B[39;49m\u001B[43mdrop\u001B[49m\u001B[43m(\u001B[49m\u001B[43mvalue\u001B[49m\u001B[43m,\u001B[49m\u001B[43m \u001B[49m\u001B[43maxis\u001B[49m\u001B[38;5;241;43m=\u001B[39;49m\u001B[38;5;241;43m0\u001B[39;49m\u001B[43m)\u001B[49m\n",
      "File \u001B[0;32m/opt/homebrew/Cellar/jupyterlab/3.3.2/libexec/lib/python3.9/site-packages/pandas/util/_decorators.py:311\u001B[0m, in \u001B[0;36mdeprecate_nonkeyword_arguments.<locals>.decorate.<locals>.wrapper\u001B[0;34m(*args, **kwargs)\u001B[0m\n\u001B[1;32m    305\u001B[0m \u001B[38;5;28;01mif\u001B[39;00m \u001B[38;5;28mlen\u001B[39m(args) \u001B[38;5;241m>\u001B[39m num_allow_args:\n\u001B[1;32m    306\u001B[0m     warnings\u001B[38;5;241m.\u001B[39mwarn(\n\u001B[1;32m    307\u001B[0m         msg\u001B[38;5;241m.\u001B[39mformat(arguments\u001B[38;5;241m=\u001B[39marguments),\n\u001B[1;32m    308\u001B[0m         \u001B[38;5;167;01mFutureWarning\u001B[39;00m,\n\u001B[1;32m    309\u001B[0m         stacklevel\u001B[38;5;241m=\u001B[39mstacklevel,\n\u001B[1;32m    310\u001B[0m     )\n\u001B[0;32m--> 311\u001B[0m \u001B[38;5;28;01mreturn\u001B[39;00m \u001B[43mfunc\u001B[49m\u001B[43m(\u001B[49m\u001B[38;5;241;43m*\u001B[39;49m\u001B[43margs\u001B[49m\u001B[43m,\u001B[49m\u001B[43m \u001B[49m\u001B[38;5;241;43m*\u001B[39;49m\u001B[38;5;241;43m*\u001B[39;49m\u001B[43mkwargs\u001B[49m\u001B[43m)\u001B[49m\n",
      "File \u001B[0;32m/opt/homebrew/Cellar/jupyterlab/3.3.2/libexec/lib/python3.9/site-packages/pandas/core/frame.py:4954\u001B[0m, in \u001B[0;36mDataFrame.drop\u001B[0;34m(self, labels, axis, index, columns, level, inplace, errors)\u001B[0m\n\u001B[1;32m   4806\u001B[0m \u001B[38;5;129m@deprecate_nonkeyword_arguments\u001B[39m(version\u001B[38;5;241m=\u001B[39m\u001B[38;5;28;01mNone\u001B[39;00m, allowed_args\u001B[38;5;241m=\u001B[39m[\u001B[38;5;124m\"\u001B[39m\u001B[38;5;124mself\u001B[39m\u001B[38;5;124m\"\u001B[39m, \u001B[38;5;124m\"\u001B[39m\u001B[38;5;124mlabels\u001B[39m\u001B[38;5;124m\"\u001B[39m])\n\u001B[1;32m   4807\u001B[0m \u001B[38;5;28;01mdef\u001B[39;00m \u001B[38;5;21mdrop\u001B[39m(\n\u001B[1;32m   4808\u001B[0m     \u001B[38;5;28mself\u001B[39m,\n\u001B[0;32m   (...)\u001B[0m\n\u001B[1;32m   4815\u001B[0m     errors: \u001B[38;5;28mstr\u001B[39m \u001B[38;5;241m=\u001B[39m \u001B[38;5;124m\"\u001B[39m\u001B[38;5;124mraise\u001B[39m\u001B[38;5;124m\"\u001B[39m,\n\u001B[1;32m   4816\u001B[0m ):\n\u001B[1;32m   4817\u001B[0m     \u001B[38;5;124;03m\"\"\"\u001B[39;00m\n\u001B[1;32m   4818\u001B[0m \u001B[38;5;124;03m    Drop specified labels from rows or columns.\u001B[39;00m\n\u001B[1;32m   4819\u001B[0m \n\u001B[0;32m   (...)\u001B[0m\n\u001B[1;32m   4952\u001B[0m \u001B[38;5;124;03m            weight  1.0     0.8\u001B[39;00m\n\u001B[1;32m   4953\u001B[0m \u001B[38;5;124;03m    \"\"\"\u001B[39;00m\n\u001B[0;32m-> 4954\u001B[0m     \u001B[38;5;28;01mreturn\u001B[39;00m \u001B[38;5;28;43msuper\u001B[39;49m\u001B[43m(\u001B[49m\u001B[43m)\u001B[49m\u001B[38;5;241;43m.\u001B[39;49m\u001B[43mdrop\u001B[49m\u001B[43m(\u001B[49m\n\u001B[1;32m   4955\u001B[0m \u001B[43m        \u001B[49m\u001B[43mlabels\u001B[49m\u001B[38;5;241;43m=\u001B[39;49m\u001B[43mlabels\u001B[49m\u001B[43m,\u001B[49m\n\u001B[1;32m   4956\u001B[0m \u001B[43m        \u001B[49m\u001B[43maxis\u001B[49m\u001B[38;5;241;43m=\u001B[39;49m\u001B[43maxis\u001B[49m\u001B[43m,\u001B[49m\n\u001B[1;32m   4957\u001B[0m \u001B[43m        \u001B[49m\u001B[43mindex\u001B[49m\u001B[38;5;241;43m=\u001B[39;49m\u001B[43mindex\u001B[49m\u001B[43m,\u001B[49m\n\u001B[1;32m   4958\u001B[0m \u001B[43m        \u001B[49m\u001B[43mcolumns\u001B[49m\u001B[38;5;241;43m=\u001B[39;49m\u001B[43mcolumns\u001B[49m\u001B[43m,\u001B[49m\n\u001B[1;32m   4959\u001B[0m \u001B[43m        \u001B[49m\u001B[43mlevel\u001B[49m\u001B[38;5;241;43m=\u001B[39;49m\u001B[43mlevel\u001B[49m\u001B[43m,\u001B[49m\n\u001B[1;32m   4960\u001B[0m \u001B[43m        \u001B[49m\u001B[43minplace\u001B[49m\u001B[38;5;241;43m=\u001B[39;49m\u001B[43minplace\u001B[49m\u001B[43m,\u001B[49m\n\u001B[1;32m   4961\u001B[0m \u001B[43m        \u001B[49m\u001B[43merrors\u001B[49m\u001B[38;5;241;43m=\u001B[39;49m\u001B[43merrors\u001B[49m\u001B[43m,\u001B[49m\n\u001B[1;32m   4962\u001B[0m \u001B[43m    \u001B[49m\u001B[43m)\u001B[49m\n",
      "File \u001B[0;32m/opt/homebrew/Cellar/jupyterlab/3.3.2/libexec/lib/python3.9/site-packages/pandas/core/generic.py:4267\u001B[0m, in \u001B[0;36mNDFrame.drop\u001B[0;34m(self, labels, axis, index, columns, level, inplace, errors)\u001B[0m\n\u001B[1;32m   4265\u001B[0m \u001B[38;5;28;01mfor\u001B[39;00m axis, labels \u001B[38;5;129;01min\u001B[39;00m axes\u001B[38;5;241m.\u001B[39mitems():\n\u001B[1;32m   4266\u001B[0m     \u001B[38;5;28;01mif\u001B[39;00m labels \u001B[38;5;129;01mis\u001B[39;00m \u001B[38;5;129;01mnot\u001B[39;00m \u001B[38;5;28;01mNone\u001B[39;00m:\n\u001B[0;32m-> 4267\u001B[0m         obj \u001B[38;5;241m=\u001B[39m \u001B[43mobj\u001B[49m\u001B[38;5;241;43m.\u001B[39;49m\u001B[43m_drop_axis\u001B[49m\u001B[43m(\u001B[49m\u001B[43mlabels\u001B[49m\u001B[43m,\u001B[49m\u001B[43m \u001B[49m\u001B[43maxis\u001B[49m\u001B[43m,\u001B[49m\u001B[43m \u001B[49m\u001B[43mlevel\u001B[49m\u001B[38;5;241;43m=\u001B[39;49m\u001B[43mlevel\u001B[49m\u001B[43m,\u001B[49m\u001B[43m \u001B[49m\u001B[43merrors\u001B[49m\u001B[38;5;241;43m=\u001B[39;49m\u001B[43merrors\u001B[49m\u001B[43m)\u001B[49m\n\u001B[1;32m   4269\u001B[0m \u001B[38;5;28;01mif\u001B[39;00m inplace:\n\u001B[1;32m   4270\u001B[0m     \u001B[38;5;28mself\u001B[39m\u001B[38;5;241m.\u001B[39m_update_inplace(obj)\n",
      "File \u001B[0;32m/opt/homebrew/Cellar/jupyterlab/3.3.2/libexec/lib/python3.9/site-packages/pandas/core/generic.py:4311\u001B[0m, in \u001B[0;36mNDFrame._drop_axis\u001B[0;34m(self, labels, axis, level, errors, consolidate, only_slice)\u001B[0m\n\u001B[1;32m   4309\u001B[0m         new_axis \u001B[38;5;241m=\u001B[39m axis\u001B[38;5;241m.\u001B[39mdrop(labels, level\u001B[38;5;241m=\u001B[39mlevel, errors\u001B[38;5;241m=\u001B[39merrors)\n\u001B[1;32m   4310\u001B[0m     \u001B[38;5;28;01melse\u001B[39;00m:\n\u001B[0;32m-> 4311\u001B[0m         new_axis \u001B[38;5;241m=\u001B[39m \u001B[43maxis\u001B[49m\u001B[38;5;241;43m.\u001B[39;49m\u001B[43mdrop\u001B[49m\u001B[43m(\u001B[49m\u001B[43mlabels\u001B[49m\u001B[43m,\u001B[49m\u001B[43m \u001B[49m\u001B[43merrors\u001B[49m\u001B[38;5;241;43m=\u001B[39;49m\u001B[43merrors\u001B[49m\u001B[43m)\u001B[49m\n\u001B[1;32m   4312\u001B[0m     indexer \u001B[38;5;241m=\u001B[39m axis\u001B[38;5;241m.\u001B[39mget_indexer(new_axis)\n\u001B[1;32m   4314\u001B[0m \u001B[38;5;66;03m# Case for non-unique axis\u001B[39;00m\n\u001B[1;32m   4315\u001B[0m \u001B[38;5;28;01melse\u001B[39;00m:\n",
      "File \u001B[0;32m/opt/homebrew/Cellar/jupyterlab/3.3.2/libexec/lib/python3.9/site-packages/pandas/core/indexes/base.py:6644\u001B[0m, in \u001B[0;36mIndex.drop\u001B[0;34m(self, labels, errors)\u001B[0m\n\u001B[1;32m   6642\u001B[0m \u001B[38;5;28;01mif\u001B[39;00m mask\u001B[38;5;241m.\u001B[39many():\n\u001B[1;32m   6643\u001B[0m     \u001B[38;5;28;01mif\u001B[39;00m errors \u001B[38;5;241m!=\u001B[39m \u001B[38;5;124m\"\u001B[39m\u001B[38;5;124mignore\u001B[39m\u001B[38;5;124m\"\u001B[39m:\n\u001B[0;32m-> 6644\u001B[0m         \u001B[38;5;28;01mraise\u001B[39;00m \u001B[38;5;167;01mKeyError\u001B[39;00m(\u001B[38;5;124mf\u001B[39m\u001B[38;5;124m\"\u001B[39m\u001B[38;5;132;01m{\u001B[39;00m\u001B[38;5;28mlist\u001B[39m(labels[mask])\u001B[38;5;132;01m}\u001B[39;00m\u001B[38;5;124m not found in axis\u001B[39m\u001B[38;5;124m\"\u001B[39m)\n\u001B[1;32m   6645\u001B[0m     indexer \u001B[38;5;241m=\u001B[39m indexer[\u001B[38;5;241m~\u001B[39mmask]\n\u001B[1;32m   6646\u001B[0m \u001B[38;5;28;01mreturn\u001B[39;00m \u001B[38;5;28mself\u001B[39m\u001B[38;5;241m.\u001B[39mdelete(indexer)\n",
      "\u001B[0;31mKeyError\u001B[0m: '[17942] not found in axis'"
     ]
    }
   ],
   "source": [
    "delete = [17942, 18155, 18173, 24402, 28296, 45445, 45444, 44700]\n",
    "for value in delete:\n",
    "    sheet = sheet.drop(value, axis=0)"
   ],
   "metadata": {
    "collapsed": false,
    "pycharm": {
     "name": "#%%\n"
    }
   }
  },
  {
   "cell_type": "code",
   "execution_count": 567,
   "outputs": [],
   "source": [
    "피스타치오 = ['피스타치오']\n",
    "땅콩 = ['피넛', '넛', '땅콩']\n",
    "호두 = ['호두']\n",
    "아몬드 = ['아몬드']\n",
    "파우더 = ['파우더', '가루']\n",
    "밤 = ['밤']\n",
    "마카다미아 = ['밤']\n",
    "\n",
    "sheet.loc[(sheet['중분류'] == '견과류'), '소분류'] = ''\n",
    "\n",
    "for value in 피스타치오:\n",
    "    sheet.loc[(sheet['중분류'] == '견과류') & (sheet['식품명'].str.contains(value)), '소분류'] = '피스타치오'\n",
    "for value in 땅콩:\n",
    "    sheet.loc[(sheet['중분류'] == '견과류') & (sheet['식품명'].str.contains(value)), '소분류'] = '땅콩'\n",
    "for value in 호두:\n",
    "    sheet.loc[(sheet['중분류'] == '견과류') & (sheet['식품명'].str.contains(value)), '소분류'] = '호두'\n",
    "for value in 아몬드:\n",
    "    sheet.loc[(sheet['중분류'] == '견과류') & (sheet['식품명'].str.contains(value)), '소분류'] = '아몬드'\n",
    "for value in 파우더:\n",
    "    sheet.loc[(sheet['중분류'] == '견과류') & (sheet['식품명'].str.contains(value)), '소분류'] = '파우더'\n",
    "for value in 밤:\n",
    "    sheet.loc[(sheet['중분류'] == '견과류') & (sheet['식품명'].str.contains(value)), '소분류'] = '밤'\n",
    "for value in 마카다미아:\n",
    "    sheet.loc[(sheet['중분류'] == '견과류') & (sheet['식품명'].str.contains(value)), '소분류'] = '마카다미아'\n",
    "\n",
    "sheet.loc[(sheet['중분류'] == '견과류') & (sheet['소분류'] == ''), '소분류'] = '기타'"
   ],
   "metadata": {
    "collapsed": false,
    "pycharm": {
     "name": "#%%\n"
    }
   }
  },
  {
   "cell_type": "code",
   "execution_count": 568,
   "outputs": [
    {
     "name": "stdout",
     "output_type": "stream",
     "text": [
      "{'기타': 2, '땅콩': 8, '마카다미아': 3, '아몬드': 4, '파우더': 3, '피스타치오': 2, '호두': 1}\n"
     ]
    }
   ],
   "source": [
    "pp.pprint(category_count_fn('견과류'))"
   ],
   "metadata": {
    "collapsed": false,
    "pycharm": {
     "name": "#%%\n"
    }
   }
  },
  {
   "cell_type": "code",
   "execution_count": 569,
   "outputs": [
    {
     "name": "stdout",
     "output_type": "stream",
     "text": [
      "<class 'pandas.core.frame.DataFrame'>\n",
      "Int64Index: 36430 entries, 0 to 36454\n",
      "Data columns (total 13 columns):\n",
      " #   Column         Non-Null Count  Dtype  \n",
      "---  ------         --------------  -----  \n",
      " 0   No             36430 non-null  int64  \n",
      " 1   식품명            36430 non-null  object \n",
      " 2   대분류            36430 non-null  object \n",
      " 3   중분류            36430 non-null  object \n",
      " 4   소분류            36430 non-null  object \n",
      " 5   1회 제공량         36430 non-null  int64  \n",
      " 6   용량             36430 non-null  object \n",
      " 7   총내용량(g)        36430 non-null  object \n",
      " 8   총내용량(ml)       36430 non-null  object \n",
      " 9   총당류(g)         36430 non-null  float64\n",
      " 10  총내용량           36430 non-null  float64\n",
      " 11  단위용량 대비 설탕 비율  36430 non-null  float64\n",
      " 12  설탕비율의 소분류 평균값  36430 non-null  float64\n",
      "dtypes: float64(4), int64(2), object(7)\n",
      "memory usage: 4.9+ MB\n"
     ]
    }
   ],
   "source": [
    "sheet.info()"
   ],
   "metadata": {
    "collapsed": false,
    "pycharm": {
     "name": "#%%\n"
    }
   }
  },
  {
   "cell_type": "code",
   "execution_count": 570,
   "outputs": [
    {
     "data": {
      "text/plain": "          No                식품명 대분류  중분류   소분류  1회 제공량 용량 총내용량(g) 총내용량(ml)  \\\n20413  12610              콘푸라이트  과자  시리얼  시리얼류      30  g     600        -   \n20414  12611              콘푸로스트  과자  시리얼  시리얼류      30  g     600        -   \n20415  12612       오곡으로 만든 첵스초코  과자  시리얼  시리얼류      30  g     570        -   \n20416  12613        고소한 아몬드후레이크  과자  시리얼  시리얼류      30  g     620        -   \n20417  12614              오곡코코볼  과자  시리얼  시리얼류      30  g     300        -   \n...      ...                ...  ..  ...   ...     ... ..     ...      ...   \n20484  12682  하루꽉찬 통곡물 시리얼 시트러스  과자  시리얼  시리얼류      30  g     300        -   \n20485  12683        시리얼 메이드 카카오  과자  시리얼  시리얼류      30  g     300        -   \n20486  12684       시리얼 메이드 시트러스  과자  시리얼  시리얼류      30  g     300        -   \n20487  12685       시리얼 메이드 오리지널  과자  시리얼  시리얼류      30  g     300        -   \n20488  12686        시리얼 메이드 그린티  과자  시리얼  시리얼류      30  g     300        -   \n\n       총당류(g)   총내용량  단위용량 대비 설탕 비율  설탕비율의 소분류 평균값  \n20413    10.0  600.0           33.3            0.0  \n20414    10.5  600.0           35.0            0.0  \n20415    10.5  570.0           35.0            0.0  \n20416     8.0  620.0           26.7            0.0  \n20417     9.0  300.0           30.0            0.0  \n...       ...    ...            ...            ...  \n20484    10.0  300.0           33.3            0.0  \n20485    11.0  300.0           36.7            0.0  \n20486    11.0  300.0           36.7            0.0  \n20487    11.0  300.0           36.7            0.0  \n20488    11.0  300.0           36.7            0.0  \n\n[76 rows x 13 columns]",
      "text/html": "<div>\n<style scoped>\n    .dataframe tbody tr th:only-of-type {\n        vertical-align: middle;\n    }\n\n    .dataframe tbody tr th {\n        vertical-align: top;\n    }\n\n    .dataframe thead th {\n        text-align: right;\n    }\n</style>\n<table border=\"1\" class=\"dataframe\">\n  <thead>\n    <tr style=\"text-align: right;\">\n      <th></th>\n      <th>No</th>\n      <th>식품명</th>\n      <th>대분류</th>\n      <th>중분류</th>\n      <th>소분류</th>\n      <th>1회 제공량</th>\n      <th>용량</th>\n      <th>총내용량(g)</th>\n      <th>총내용량(ml)</th>\n      <th>총당류(g)</th>\n      <th>총내용량</th>\n      <th>단위용량 대비 설탕 비율</th>\n      <th>설탕비율의 소분류 평균값</th>\n    </tr>\n  </thead>\n  <tbody>\n    <tr>\n      <th>20413</th>\n      <td>12610</td>\n      <td>콘푸라이트</td>\n      <td>과자</td>\n      <td>시리얼</td>\n      <td>시리얼류</td>\n      <td>30</td>\n      <td>g</td>\n      <td>600</td>\n      <td>-</td>\n      <td>10.0</td>\n      <td>600.0</td>\n      <td>33.3</td>\n      <td>0.0</td>\n    </tr>\n    <tr>\n      <th>20414</th>\n      <td>12611</td>\n      <td>콘푸로스트</td>\n      <td>과자</td>\n      <td>시리얼</td>\n      <td>시리얼류</td>\n      <td>30</td>\n      <td>g</td>\n      <td>600</td>\n      <td>-</td>\n      <td>10.5</td>\n      <td>600.0</td>\n      <td>35.0</td>\n      <td>0.0</td>\n    </tr>\n    <tr>\n      <th>20415</th>\n      <td>12612</td>\n      <td>오곡으로 만든 첵스초코</td>\n      <td>과자</td>\n      <td>시리얼</td>\n      <td>시리얼류</td>\n      <td>30</td>\n      <td>g</td>\n      <td>570</td>\n      <td>-</td>\n      <td>10.5</td>\n      <td>570.0</td>\n      <td>35.0</td>\n      <td>0.0</td>\n    </tr>\n    <tr>\n      <th>20416</th>\n      <td>12613</td>\n      <td>고소한 아몬드후레이크</td>\n      <td>과자</td>\n      <td>시리얼</td>\n      <td>시리얼류</td>\n      <td>30</td>\n      <td>g</td>\n      <td>620</td>\n      <td>-</td>\n      <td>8.0</td>\n      <td>620.0</td>\n      <td>26.7</td>\n      <td>0.0</td>\n    </tr>\n    <tr>\n      <th>20417</th>\n      <td>12614</td>\n      <td>오곡코코볼</td>\n      <td>과자</td>\n      <td>시리얼</td>\n      <td>시리얼류</td>\n      <td>30</td>\n      <td>g</td>\n      <td>300</td>\n      <td>-</td>\n      <td>9.0</td>\n      <td>300.0</td>\n      <td>30.0</td>\n      <td>0.0</td>\n    </tr>\n    <tr>\n      <th>...</th>\n      <td>...</td>\n      <td>...</td>\n      <td>...</td>\n      <td>...</td>\n      <td>...</td>\n      <td>...</td>\n      <td>...</td>\n      <td>...</td>\n      <td>...</td>\n      <td>...</td>\n      <td>...</td>\n      <td>...</td>\n      <td>...</td>\n    </tr>\n    <tr>\n      <th>20484</th>\n      <td>12682</td>\n      <td>하루꽉찬 통곡물 시리얼 시트러스</td>\n      <td>과자</td>\n      <td>시리얼</td>\n      <td>시리얼류</td>\n      <td>30</td>\n      <td>g</td>\n      <td>300</td>\n      <td>-</td>\n      <td>10.0</td>\n      <td>300.0</td>\n      <td>33.3</td>\n      <td>0.0</td>\n    </tr>\n    <tr>\n      <th>20485</th>\n      <td>12683</td>\n      <td>시리얼 메이드 카카오</td>\n      <td>과자</td>\n      <td>시리얼</td>\n      <td>시리얼류</td>\n      <td>30</td>\n      <td>g</td>\n      <td>300</td>\n      <td>-</td>\n      <td>11.0</td>\n      <td>300.0</td>\n      <td>36.7</td>\n      <td>0.0</td>\n    </tr>\n    <tr>\n      <th>20486</th>\n      <td>12684</td>\n      <td>시리얼 메이드 시트러스</td>\n      <td>과자</td>\n      <td>시리얼</td>\n      <td>시리얼류</td>\n      <td>30</td>\n      <td>g</td>\n      <td>300</td>\n      <td>-</td>\n      <td>11.0</td>\n      <td>300.0</td>\n      <td>36.7</td>\n      <td>0.0</td>\n    </tr>\n    <tr>\n      <th>20487</th>\n      <td>12685</td>\n      <td>시리얼 메이드 오리지널</td>\n      <td>과자</td>\n      <td>시리얼</td>\n      <td>시리얼류</td>\n      <td>30</td>\n      <td>g</td>\n      <td>300</td>\n      <td>-</td>\n      <td>11.0</td>\n      <td>300.0</td>\n      <td>36.7</td>\n      <td>0.0</td>\n    </tr>\n    <tr>\n      <th>20488</th>\n      <td>12686</td>\n      <td>시리얼 메이드 그린티</td>\n      <td>과자</td>\n      <td>시리얼</td>\n      <td>시리얼류</td>\n      <td>30</td>\n      <td>g</td>\n      <td>300</td>\n      <td>-</td>\n      <td>11.0</td>\n      <td>300.0</td>\n      <td>36.7</td>\n      <td>0.0</td>\n    </tr>\n  </tbody>\n</table>\n<p>76 rows × 13 columns</p>\n</div>"
     },
     "execution_count": 570,
     "metadata": {},
     "output_type": "execute_result"
    }
   ],
   "source": [
    "sheet['대분류'].unique()\n",
    "\n",
    "sheet.loc[sheet['대분류'] == '떡, 시리얼, 견과류', '대분류'] = '과자'\n",
    "sheet.loc[sheet['대분류'] == '떡, 시리얼, 견과류', '중분류'] = '시리얼'\n",
    "\n",
    "sheet.loc[(sheet['중분류'] == '시리얼'), :]"
   ],
   "metadata": {
    "collapsed": false,
    "pycharm": {
     "name": "#%%\n"
    }
   }
  },
  {
   "cell_type": "code",
   "execution_count": 571,
   "outputs": [],
   "source": [
    "곡류 = ['현미', '콘', '곡물', '오곡', '시리얼', '쌀']\n",
    "일반 = ['콘푸라이트', '콘푸로스트']\n",
    "견과류 = ['아몬드', '호두']\n",
    "쿠키 = ['오레오']\n",
    "믹스 = ['그래놀라 크랜베리', '크랜베리 아몬드', '오곡으로 만든 첵스', '오곡으로만든첵스초코', '그래놀라 블루베리', '체리 블러썸', '통곡물 시리얼', '시리얼 메이드']\n",
    "초코 = ['초코', '쵸코']\n",
    "과일 = ['후루트링']\n",
    "\n",
    "sheet.loc[(sheet['중분류'] == '시리얼'), '소분류'] = ''\n",
    "\n",
    "for value in 곡류:\n",
    "    sheet.loc[(sheet['중분류'] == '시리얼') & (sheet['식품명'].str.contains(value)), '소분류'] = '곡류'\n",
    "for value in 일반:\n",
    "    sheet.loc[(sheet['중분류'] == '시리얼') & (sheet['식품명'].str.contains(value)), '소분류'] = '일반'\n",
    "for value in 견과류:\n",
    "    sheet.loc[(sheet['중분류'] == '시리얼') & (sheet['식품명'].str.contains(value)), '소분류'] = '견과류'\n",
    "for value in 쿠키:\n",
    "    sheet.loc[(sheet['중분류'] == '시리얼') & (sheet['식품명'].str.contains(value)), '소분류'] = '쿠키'\n",
    "for value in 믹스:\n",
    "    sheet.loc[(sheet['중분류'] == '시리얼') & (sheet['식품명'].str.contains(value)), '소분류'] = '믹스'\n",
    "for value in 초코:\n",
    "    sheet.loc[(sheet['중분류'] == '시리얼') & (sheet['식품명'].str.contains(value)), '소분류'] = '초코'\n",
    "for value in 과일:\n",
    "    sheet.loc[(sheet['중분류'] == '시리얼') & (sheet['식품명'].str.contains(value)), '소분류'] = '과일'\n",
    "\n",
    "sheet.loc[(sheet['중분류'] == '시리얼') & (sheet['소분류'] == ''), '소분류'] = '기타'"
   ],
   "metadata": {
    "collapsed": false,
    "pycharm": {
     "name": "#%%\n"
    }
   }
  },
  {
   "cell_type": "code",
   "execution_count": 571,
   "outputs": [],
   "source": [],
   "metadata": {
    "collapsed": false,
    "pycharm": {
     "name": "#%%\n"
    }
   }
  },
  {
   "cell_type": "code",
   "execution_count": 572,
   "outputs": [
    {
     "data": {
      "text/plain": "array(['음료', '유가공품', '캔디, 젤리', '과자', '베이커리', '초콜릿', '캐러멜, 양갱', '떡, 견과류',\n       '아이스크림'], dtype=object)"
     },
     "execution_count": 572,
     "metadata": {},
     "output_type": "execute_result"
    }
   ],
   "source": [
    "sheet['대분류'].unique()"
   ],
   "metadata": {
    "collapsed": false,
    "pycharm": {
     "name": "#%%\n"
    }
   }
  },
  {
   "cell_type": "code",
   "execution_count": 573,
   "outputs": [
    {
     "data": {
      "text/plain": "array(['두유', '유제품', '과/채음료', '우유', '발효유', '차', '활력음료', '인삼/홍삼음료', '탄산음료',\n       '젤리', '발효음료', '스무디', '이온음료', '기성품', '디저트', '쿠키', '파이', '전통과자',\n       '팝콘', '식사빵', '간식빵', '일반', '화이트초콜릿', '다크초콜릿', '밀크초콜릿', '캔디', '캐러멜',\n       '케이크', '샌드위치', '견과류', '떡', '빙과', '빙수', '샤베트', '커피류', '시리얼',\n       '유지방아이스크림', '양갱'], dtype=object)"
     },
     "execution_count": 573,
     "metadata": {},
     "output_type": "execute_result"
    }
   ],
   "source": [
    "sheet['중분류'].unique()"
   ],
   "metadata": {
    "collapsed": false,
    "pycharm": {
     "name": "#%%\n"
    }
   }
  },
  {
   "cell_type": "code",
   "execution_count": 574,
   "outputs": [
    {
     "data": {
      "text/plain": "array(['가공두유', '두유', '채소', '기타우유', '과일', '저지방', '초코', '커피', '곡류', '녹차',\n       '농후발효유', '단호박', '견과류', '홍삼', '달고나', '유기농', '강화우유', '분말', '인삼',\n       '홍삼, 생강, 녹용, 곤약', '꽃', '콜라', '기성품', '견과/곡류', '카카오/바닐라', '프로틴',\n       '콜라겐', '허브차', '과일차', '곡물', '과/채음료', '초콜릿', '과/채주스', '기타', '버터',\n       '치즈', '마카롱', '야채', '차', '카라멜', '전병', '모나카', '크래커', '오레오', '머랭',\n       '비스킷', '갈릭', '콘소메', '솔트', '인절미', '바게트', '스틱', '에그데니쉬', '허니브레드',\n       '브레드', '번', '티라미수', '와플', '난', '토스트', '볼', '슈', '스콘', '치즈번', '포카챠',\n       '타르트', '브라우니', '롤', '쌀빵', '크럼블', '파이', '소보로', '바게뜨', '꽈배기', '호떡',\n       '치즈빵', '통밀', '고로케', '효모빵', '밀', '피자', '파니니', '소시지빵', '밤', '찰떡',\n       '모카빵', '앙버터', '또띠아', '쇼콜라', '맘모스', '메론', '깨찰', '트위스트', '밀크티',\n       '기타 음료류', '가공', '기타 코코아가공품', '마쉬멜로우', '발효차', '기타발효음료', '찐빵', '팥빵',\n       '크림빵', '파운드', '머핀', '마들렌', '감자', '고구마', '크로플', '경주', '모닝빵', '크레페',\n       '샌드위치', '앙금', '다쿠아즈', '샌드', '무스', '만쥬', '월병', '페스츄리', '소라', '쉬폰',\n       '유자', '베이글', '카스타드', '수플레', '휘낭시에', '바움쿠헨', '호빵', '빨미까레', '까눌레',\n       '찰보리빵', '도넛', '팬케이크', '매화', '생크림', '크루와상', '스카치', '박하', '요구르트',\n       '요거트', '호두', '땅콩', '파우더', '피스타치오', '아몬드', '마카다미아', '찹쌀', '모찌',\n       '수제', '밀크', '그린티', '소다', '팥', '식빵', '붕어빵', '당근', '카스테라', '프레즐',\n       '가나슈', '레드벨벳', '쌀', '사탕', '바닐라', '민트', '더치', '카푸치노', '아포가토', '일반',\n       '쿠키', '믹스', '쑥', '액상차', '전통차', '흑당', '일반우유', '우유', '원액두유',\n       '유당분해우유', '유산균첨가우유', '푸딩', '구미', '젤리', '차류', '캐러멜', '캔디류', '라떼',\n       '아인슈페너', '연유', '아메리카노', '사이다', '어린이제품', '혼합음료'], dtype=object)"
     },
     "execution_count": 574,
     "metadata": {},
     "output_type": "execute_result"
    }
   ],
   "source": [
    "sheet['소분류'].unique()"
   ],
   "metadata": {
    "collapsed": false,
    "pycharm": {
     "name": "#%%\n"
    }
   }
  },
  {
   "cell_type": "code",
   "execution_count": 575,
   "outputs": [
    {
     "name": "stdout",
     "output_type": "stream",
     "text": [
      "<class 'pandas.core.frame.DataFrame'>\n",
      "Int64Index: 36430 entries, 0 to 36454\n",
      "Data columns (total 13 columns):\n",
      " #   Column         Non-Null Count  Dtype  \n",
      "---  ------         --------------  -----  \n",
      " 0   No             36430 non-null  int64  \n",
      " 1   식품명            36430 non-null  object \n",
      " 2   대분류            36430 non-null  object \n",
      " 3   중분류            36430 non-null  object \n",
      " 4   소분류            36430 non-null  object \n",
      " 5   1회 제공량         36430 non-null  int64  \n",
      " 6   용량             36430 non-null  object \n",
      " 7   총내용량(g)        36430 non-null  object \n",
      " 8   총내용량(ml)       36430 non-null  object \n",
      " 9   총당류(g)         36430 non-null  float64\n",
      " 10  총내용량           36430 non-null  float64\n",
      " 11  단위용량 대비 설탕 비율  36430 non-null  float64\n",
      " 12  설탕비율의 소분류 평균값  36430 non-null  float64\n",
      "dtypes: float64(4), int64(2), object(7)\n",
      "memory usage: 4.9+ MB\n"
     ]
    }
   ],
   "source": [
    "sheet.info()"
   ],
   "metadata": {
    "collapsed": false,
    "pycharm": {
     "name": "#%%\n"
    }
   }
  },
  {
   "cell_type": "code",
   "execution_count": 576,
   "outputs": [
    {
     "data": {
      "text/plain": "          No                  식품명   대분류  중분류   소분류  1회 제공량 용량 총내용량(g)  \\\n8548   16885              미니딸기파운드  베이커리  케이크   파운드      85  g      85   \n8549   16886             미니바나나파운드  베이커리  케이크   파운드      85  g      85   \n8550   16888              미니초코파운드  베이커리  케이크   파운드      85  g      85   \n8567   46543          마담정 쌀큐브 파운드  베이커리  케이크   파운드     180  g     180   \n8602   47080  컴파운드케이K 발효홍삼정진액 타블렛  베이커리  케이크   파운드      42  g      42   \n...      ...                  ...   ...  ...   ...     ... ..     ...   \n31629  84522             초코 스틱케이크  베이커리  케이크   초콜릿      50  g      50   \n31630  84523           레드벨벳 스틱케이크  베이커리  케이크  레드벨벳      30  g      30   \n31631  84524             캐롯 스틱케이크  베이커리  케이크    기타      50  g      50   \n34082  83386              핫케익 3조각  베이커리  케이크    기타     150  g     150   \n34083  83387              핫케익 2조각  베이커리  케이크    기타     100  g     100   \n\n      총내용량(ml)  총당류(g)   총내용량  단위용량 대비 설탕 비율  설탕비율의 소분류 평균값  \n8548         -    25.0   85.0           29.4            0.0  \n8549         -    24.0   85.0           28.2            0.0  \n8550         -    26.0   85.0           30.6            0.0  \n8567         -    52.3  180.0           29.1            0.0  \n8602         -     3.0   42.0            7.1            0.0  \n...        ...     ...    ...            ...            ...  \n31629        -    12.0   50.0           24.0            0.0  \n31630        -     5.0   30.0           16.7            0.0  \n31631        -     6.0   50.0           12.0            0.0  \n34082        -    13.0  150.0            8.7            0.0  \n34083        -     9.0  100.0            9.0            0.0  \n\n[1579 rows x 13 columns]",
      "text/html": "<div>\n<style scoped>\n    .dataframe tbody tr th:only-of-type {\n        vertical-align: middle;\n    }\n\n    .dataframe tbody tr th {\n        vertical-align: top;\n    }\n\n    .dataframe thead th {\n        text-align: right;\n    }\n</style>\n<table border=\"1\" class=\"dataframe\">\n  <thead>\n    <tr style=\"text-align: right;\">\n      <th></th>\n      <th>No</th>\n      <th>식품명</th>\n      <th>대분류</th>\n      <th>중분류</th>\n      <th>소분류</th>\n      <th>1회 제공량</th>\n      <th>용량</th>\n      <th>총내용량(g)</th>\n      <th>총내용량(ml)</th>\n      <th>총당류(g)</th>\n      <th>총내용량</th>\n      <th>단위용량 대비 설탕 비율</th>\n      <th>설탕비율의 소분류 평균값</th>\n    </tr>\n  </thead>\n  <tbody>\n    <tr>\n      <th>8548</th>\n      <td>16885</td>\n      <td>미니딸기파운드</td>\n      <td>베이커리</td>\n      <td>케이크</td>\n      <td>파운드</td>\n      <td>85</td>\n      <td>g</td>\n      <td>85</td>\n      <td>-</td>\n      <td>25.0</td>\n      <td>85.0</td>\n      <td>29.4</td>\n      <td>0.0</td>\n    </tr>\n    <tr>\n      <th>8549</th>\n      <td>16886</td>\n      <td>미니바나나파운드</td>\n      <td>베이커리</td>\n      <td>케이크</td>\n      <td>파운드</td>\n      <td>85</td>\n      <td>g</td>\n      <td>85</td>\n      <td>-</td>\n      <td>24.0</td>\n      <td>85.0</td>\n      <td>28.2</td>\n      <td>0.0</td>\n    </tr>\n    <tr>\n      <th>8550</th>\n      <td>16888</td>\n      <td>미니초코파운드</td>\n      <td>베이커리</td>\n      <td>케이크</td>\n      <td>파운드</td>\n      <td>85</td>\n      <td>g</td>\n      <td>85</td>\n      <td>-</td>\n      <td>26.0</td>\n      <td>85.0</td>\n      <td>30.6</td>\n      <td>0.0</td>\n    </tr>\n    <tr>\n      <th>8567</th>\n      <td>46543</td>\n      <td>마담정 쌀큐브 파운드</td>\n      <td>베이커리</td>\n      <td>케이크</td>\n      <td>파운드</td>\n      <td>180</td>\n      <td>g</td>\n      <td>180</td>\n      <td>-</td>\n      <td>52.3</td>\n      <td>180.0</td>\n      <td>29.1</td>\n      <td>0.0</td>\n    </tr>\n    <tr>\n      <th>8602</th>\n      <td>47080</td>\n      <td>컴파운드케이K 발효홍삼정진액 타블렛</td>\n      <td>베이커리</td>\n      <td>케이크</td>\n      <td>파운드</td>\n      <td>42</td>\n      <td>g</td>\n      <td>42</td>\n      <td>-</td>\n      <td>3.0</td>\n      <td>42.0</td>\n      <td>7.1</td>\n      <td>0.0</td>\n    </tr>\n    <tr>\n      <th>...</th>\n      <td>...</td>\n      <td>...</td>\n      <td>...</td>\n      <td>...</td>\n      <td>...</td>\n      <td>...</td>\n      <td>...</td>\n      <td>...</td>\n      <td>...</td>\n      <td>...</td>\n      <td>...</td>\n      <td>...</td>\n      <td>...</td>\n    </tr>\n    <tr>\n      <th>31629</th>\n      <td>84522</td>\n      <td>초코 스틱케이크</td>\n      <td>베이커리</td>\n      <td>케이크</td>\n      <td>초콜릿</td>\n      <td>50</td>\n      <td>g</td>\n      <td>50</td>\n      <td>-</td>\n      <td>12.0</td>\n      <td>50.0</td>\n      <td>24.0</td>\n      <td>0.0</td>\n    </tr>\n    <tr>\n      <th>31630</th>\n      <td>84523</td>\n      <td>레드벨벳 스틱케이크</td>\n      <td>베이커리</td>\n      <td>케이크</td>\n      <td>레드벨벳</td>\n      <td>30</td>\n      <td>g</td>\n      <td>30</td>\n      <td>-</td>\n      <td>5.0</td>\n      <td>30.0</td>\n      <td>16.7</td>\n      <td>0.0</td>\n    </tr>\n    <tr>\n      <th>31631</th>\n      <td>84524</td>\n      <td>캐롯 스틱케이크</td>\n      <td>베이커리</td>\n      <td>케이크</td>\n      <td>기타</td>\n      <td>50</td>\n      <td>g</td>\n      <td>50</td>\n      <td>-</td>\n      <td>6.0</td>\n      <td>50.0</td>\n      <td>12.0</td>\n      <td>0.0</td>\n    </tr>\n    <tr>\n      <th>34082</th>\n      <td>83386</td>\n      <td>핫케익 3조각</td>\n      <td>베이커리</td>\n      <td>케이크</td>\n      <td>기타</td>\n      <td>150</td>\n      <td>g</td>\n      <td>150</td>\n      <td>-</td>\n      <td>13.0</td>\n      <td>150.0</td>\n      <td>8.7</td>\n      <td>0.0</td>\n    </tr>\n    <tr>\n      <th>34083</th>\n      <td>83387</td>\n      <td>핫케익 2조각</td>\n      <td>베이커리</td>\n      <td>케이크</td>\n      <td>기타</td>\n      <td>100</td>\n      <td>g</td>\n      <td>100</td>\n      <td>-</td>\n      <td>9.0</td>\n      <td>100.0</td>\n      <td>9.0</td>\n      <td>0.0</td>\n    </tr>\n  </tbody>\n</table>\n<p>1579 rows × 13 columns</p>\n</div>"
     },
     "execution_count": 576,
     "metadata": {},
     "output_type": "execute_result"
    }
   ],
   "source": [
    "sheet.loc[(sheet['대분류'] == '베이커리') & (sheet['중분류'] == '케이크'), :]"
   ],
   "metadata": {
    "collapsed": false,
    "pycharm": {
     "name": "#%%\n"
    }
   }
  },
  {
   "cell_type": "code",
   "execution_count": 582,
   "outputs": [
    {
     "data": {
      "text/plain": "          No               식품명 대분류 중분류   소분류  1회 제공량 용량 총내용량(g) 총내용량(ml)  \\\n860    10812          콘후레이크천마차  음료   차    분말      20  g    2200        -   \n862    10814          잣,호두,율무차  음료   차    분말      18  g     270        -   \n863    10815            생강차플러스  음료   차    분말      15  g    1050        -   \n865    10817              궁중한차  음료   차    분말      18  g     270        -   \n867    10819       콘푸레이크포테이토마차  음료   차    분말      22  g     880        -   \n...      ...               ...  ..  ..   ...     ... ..     ...      ...   \n36105  64987         뷰티에너지 필라틴  음료   차  혼합음료     180  g     180        -   \n36180  65772  소스로 데보툴 자스민티(1L)  음료   차   허브차     100  g    1000        -   \n36245  66744           태웅 아이스티  음료   차  혼합음료     190  g     190        -   \n36266  67230       Haewon 해조8차  음료   차  혼합음료     200  g     500        -   \n36300  67706       잇츠온 케어온 엑티브  음료   차  혼합음료     200  g    4000        -   \n\n       총당류(g)    총내용량  단위용량 대비 설탕 비율  설탕비율의 소분류 평균값  \n860       6.0  2200.0           30.0          42.13  \n862       6.0   270.0           33.3          42.13  \n863       9.0  1050.0           60.0          42.13  \n865       9.0   270.0           50.0          42.13  \n867       5.0   880.0           22.7          42.13  \n...       ...     ...            ...            ...  \n36105     2.9   180.0            1.6           0.00  \n36180     7.2  1000.0            7.2           0.00  \n36245    31.0   190.0           16.3           0.00  \n36266    11.0   500.0            5.5           0.00  \n36300    10.0  4000.0            5.0           0.00  \n\n[172 rows x 13 columns]",
      "text/html": "<div>\n<style scoped>\n    .dataframe tbody tr th:only-of-type {\n        vertical-align: middle;\n    }\n\n    .dataframe tbody tr th {\n        vertical-align: top;\n    }\n\n    .dataframe thead th {\n        text-align: right;\n    }\n</style>\n<table border=\"1\" class=\"dataframe\">\n  <thead>\n    <tr style=\"text-align: right;\">\n      <th></th>\n      <th>No</th>\n      <th>식품명</th>\n      <th>대분류</th>\n      <th>중분류</th>\n      <th>소분류</th>\n      <th>1회 제공량</th>\n      <th>용량</th>\n      <th>총내용량(g)</th>\n      <th>총내용량(ml)</th>\n      <th>총당류(g)</th>\n      <th>총내용량</th>\n      <th>단위용량 대비 설탕 비율</th>\n      <th>설탕비율의 소분류 평균값</th>\n    </tr>\n  </thead>\n  <tbody>\n    <tr>\n      <th>860</th>\n      <td>10812</td>\n      <td>콘후레이크천마차</td>\n      <td>음료</td>\n      <td>차</td>\n      <td>분말</td>\n      <td>20</td>\n      <td>g</td>\n      <td>2200</td>\n      <td>-</td>\n      <td>6.0</td>\n      <td>2200.0</td>\n      <td>30.0</td>\n      <td>42.13</td>\n    </tr>\n    <tr>\n      <th>862</th>\n      <td>10814</td>\n      <td>잣,호두,율무차</td>\n      <td>음료</td>\n      <td>차</td>\n      <td>분말</td>\n      <td>18</td>\n      <td>g</td>\n      <td>270</td>\n      <td>-</td>\n      <td>6.0</td>\n      <td>270.0</td>\n      <td>33.3</td>\n      <td>42.13</td>\n    </tr>\n    <tr>\n      <th>863</th>\n      <td>10815</td>\n      <td>생강차플러스</td>\n      <td>음료</td>\n      <td>차</td>\n      <td>분말</td>\n      <td>15</td>\n      <td>g</td>\n      <td>1050</td>\n      <td>-</td>\n      <td>9.0</td>\n      <td>1050.0</td>\n      <td>60.0</td>\n      <td>42.13</td>\n    </tr>\n    <tr>\n      <th>865</th>\n      <td>10817</td>\n      <td>궁중한차</td>\n      <td>음료</td>\n      <td>차</td>\n      <td>분말</td>\n      <td>18</td>\n      <td>g</td>\n      <td>270</td>\n      <td>-</td>\n      <td>9.0</td>\n      <td>270.0</td>\n      <td>50.0</td>\n      <td>42.13</td>\n    </tr>\n    <tr>\n      <th>867</th>\n      <td>10819</td>\n      <td>콘푸레이크포테이토마차</td>\n      <td>음료</td>\n      <td>차</td>\n      <td>분말</td>\n      <td>22</td>\n      <td>g</td>\n      <td>880</td>\n      <td>-</td>\n      <td>5.0</td>\n      <td>880.0</td>\n      <td>22.7</td>\n      <td>42.13</td>\n    </tr>\n    <tr>\n      <th>...</th>\n      <td>...</td>\n      <td>...</td>\n      <td>...</td>\n      <td>...</td>\n      <td>...</td>\n      <td>...</td>\n      <td>...</td>\n      <td>...</td>\n      <td>...</td>\n      <td>...</td>\n      <td>...</td>\n      <td>...</td>\n      <td>...</td>\n    </tr>\n    <tr>\n      <th>36105</th>\n      <td>64987</td>\n      <td>뷰티에너지 필라틴</td>\n      <td>음료</td>\n      <td>차</td>\n      <td>혼합음료</td>\n      <td>180</td>\n      <td>g</td>\n      <td>180</td>\n      <td>-</td>\n      <td>2.9</td>\n      <td>180.0</td>\n      <td>1.6</td>\n      <td>0.00</td>\n    </tr>\n    <tr>\n      <th>36180</th>\n      <td>65772</td>\n      <td>소스로 데보툴 자스민티(1L)</td>\n      <td>음료</td>\n      <td>차</td>\n      <td>허브차</td>\n      <td>100</td>\n      <td>g</td>\n      <td>1000</td>\n      <td>-</td>\n      <td>7.2</td>\n      <td>1000.0</td>\n      <td>7.2</td>\n      <td>0.00</td>\n    </tr>\n    <tr>\n      <th>36245</th>\n      <td>66744</td>\n      <td>태웅 아이스티</td>\n      <td>음료</td>\n      <td>차</td>\n      <td>혼합음료</td>\n      <td>190</td>\n      <td>g</td>\n      <td>190</td>\n      <td>-</td>\n      <td>31.0</td>\n      <td>190.0</td>\n      <td>16.3</td>\n      <td>0.00</td>\n    </tr>\n    <tr>\n      <th>36266</th>\n      <td>67230</td>\n      <td>Haewon 해조8차</td>\n      <td>음료</td>\n      <td>차</td>\n      <td>혼합음료</td>\n      <td>200</td>\n      <td>g</td>\n      <td>500</td>\n      <td>-</td>\n      <td>11.0</td>\n      <td>500.0</td>\n      <td>5.5</td>\n      <td>0.00</td>\n    </tr>\n    <tr>\n      <th>36300</th>\n      <td>67706</td>\n      <td>잇츠온 케어온 엑티브</td>\n      <td>음료</td>\n      <td>차</td>\n      <td>혼합음료</td>\n      <td>200</td>\n      <td>g</td>\n      <td>4000</td>\n      <td>-</td>\n      <td>10.0</td>\n      <td>4000.0</td>\n      <td>5.0</td>\n      <td>0.00</td>\n    </tr>\n  </tbody>\n</table>\n<p>172 rows × 13 columns</p>\n</div>"
     },
     "execution_count": 582,
     "metadata": {},
     "output_type": "execute_result"
    }
   ],
   "source": [
    "sheet.loc[sheet['중분류'] == '차', :]"
   ],
   "metadata": {
    "collapsed": false,
    "pycharm": {
     "name": "#%%\n"
    }
   }
  },
  {
   "cell_type": "code",
   "execution_count": 586,
   "outputs": [
    {
     "name": "stdout",
     "output_type": "stream",
     "text": [
      "['가공두유', '두유', '채소', '분말', '인삼', '홍삼', '커피', '과일', '꽃', '기성품', '견과/곡류', '카카오/바닐라', '프로틴', '콜라겐', '허브차', '과일차', '곡물', '과/채음료', '콜라', '초콜릿', '과/채주스', '밀크티', '기타 음료류', '발효차', '기타발효음료', '요거트', '초코', '카라멜', '녹차', '민트', '견과류', '곡류', '더치', '카푸치노', '아포가토', '액상차', '전통차', '우유', '원액두유', '요구르트', '차류', '라떼', '바닐라', '아인슈페너', '연유', '아메리카노', '사이다', '어린이제품', '혼합음료']\n"
     ]
    }
   ],
   "source": [
    "print(list(sheet.loc[sheet['대분류'] == '음료', '소분류'].unique()))"
   ],
   "metadata": {
    "collapsed": false,
    "pycharm": {
     "name": "#%%\n"
    }
   }
  },
  {
   "cell_type": "code",
   "execution_count": 587,
   "outputs": [
    {
     "data": {
      "text/plain": "          No                 식품명 대분류   중분류   소분류  1회 제공량  용량 총내용량(g) 총내용량(ml)  \\\n0      10397           삼육두유검은콩칼슘  음료    두유  가공두유     190  mL       -      190   \n1      10398         베지밀검은콩두유고칼슘  음료    두유  가공두유     190  mL       -      190   \n2      10399             달콤한베지밀비  음료   유제품    두유     100  mL       -      950   \n3      10400       삼육두유검은콩호두와아몬드  음료    두유  가공두유     140  mL       -      140   \n4      10401            담백한베지밀에이  음료   유제품    두유     190  mL       -      190   \n...      ...                 ...  ..   ...   ...     ...  ..     ...      ...   \n36318  68091       유기농 햇살깃든 현미식혜  음료  발효음료    곡물     100  mL       -      340   \n36319  68092  유기농 햇살깃든 현미자색고구마식혜  음료  발효음료    곡물     100  mL       -      340   \n36320  68099                 비타업  음료  활력음료   기성품     100   g     100        -   \n36321  68100            아로골드D플러스  음료  활력음료   기성품     100   g    1000        -   \n36322  68152        유믹스 모히또맛 에이드  음료  탄산음료   기성품     100   g    1000        -   \n\n       총당류(g)    총내용량  단위용량 대비 설탕 비율  설탕비율의 소분류 평균값  \n0        10.0   190.0            5.3            0.0  \n1        10.0   190.0            5.3            0.0  \n2         5.0   950.0            5.0            4.1  \n3        10.0   140.0            7.1            0.0  \n4         6.0   190.0            3.2            4.1  \n...       ...     ...            ...            ...  \n36318    12.2   340.0           12.2            0.0  \n36319    11.0   340.0           11.0            0.0  \n36320     9.0   100.0            9.0            0.0  \n36321     4.0  1000.0            4.0            0.0  \n36322    11.0  1000.0           11.0            0.0  \n\n[8805 rows x 13 columns]",
      "text/html": "<div>\n<style scoped>\n    .dataframe tbody tr th:only-of-type {\n        vertical-align: middle;\n    }\n\n    .dataframe tbody tr th {\n        vertical-align: top;\n    }\n\n    .dataframe thead th {\n        text-align: right;\n    }\n</style>\n<table border=\"1\" class=\"dataframe\">\n  <thead>\n    <tr style=\"text-align: right;\">\n      <th></th>\n      <th>No</th>\n      <th>식품명</th>\n      <th>대분류</th>\n      <th>중분류</th>\n      <th>소분류</th>\n      <th>1회 제공량</th>\n      <th>용량</th>\n      <th>총내용량(g)</th>\n      <th>총내용량(ml)</th>\n      <th>총당류(g)</th>\n      <th>총내용량</th>\n      <th>단위용량 대비 설탕 비율</th>\n      <th>설탕비율의 소분류 평균값</th>\n    </tr>\n  </thead>\n  <tbody>\n    <tr>\n      <th>0</th>\n      <td>10397</td>\n      <td>삼육두유검은콩칼슘</td>\n      <td>음료</td>\n      <td>두유</td>\n      <td>가공두유</td>\n      <td>190</td>\n      <td>mL</td>\n      <td>-</td>\n      <td>190</td>\n      <td>10.0</td>\n      <td>190.0</td>\n      <td>5.3</td>\n      <td>0.0</td>\n    </tr>\n    <tr>\n      <th>1</th>\n      <td>10398</td>\n      <td>베지밀검은콩두유고칼슘</td>\n      <td>음료</td>\n      <td>두유</td>\n      <td>가공두유</td>\n      <td>190</td>\n      <td>mL</td>\n      <td>-</td>\n      <td>190</td>\n      <td>10.0</td>\n      <td>190.0</td>\n      <td>5.3</td>\n      <td>0.0</td>\n    </tr>\n    <tr>\n      <th>2</th>\n      <td>10399</td>\n      <td>달콤한베지밀비</td>\n      <td>음료</td>\n      <td>유제품</td>\n      <td>두유</td>\n      <td>100</td>\n      <td>mL</td>\n      <td>-</td>\n      <td>950</td>\n      <td>5.0</td>\n      <td>950.0</td>\n      <td>5.0</td>\n      <td>4.1</td>\n    </tr>\n    <tr>\n      <th>3</th>\n      <td>10400</td>\n      <td>삼육두유검은콩호두와아몬드</td>\n      <td>음료</td>\n      <td>두유</td>\n      <td>가공두유</td>\n      <td>140</td>\n      <td>mL</td>\n      <td>-</td>\n      <td>140</td>\n      <td>10.0</td>\n      <td>140.0</td>\n      <td>7.1</td>\n      <td>0.0</td>\n    </tr>\n    <tr>\n      <th>4</th>\n      <td>10401</td>\n      <td>담백한베지밀에이</td>\n      <td>음료</td>\n      <td>유제품</td>\n      <td>두유</td>\n      <td>190</td>\n      <td>mL</td>\n      <td>-</td>\n      <td>190</td>\n      <td>6.0</td>\n      <td>190.0</td>\n      <td>3.2</td>\n      <td>4.1</td>\n    </tr>\n    <tr>\n      <th>...</th>\n      <td>...</td>\n      <td>...</td>\n      <td>...</td>\n      <td>...</td>\n      <td>...</td>\n      <td>...</td>\n      <td>...</td>\n      <td>...</td>\n      <td>...</td>\n      <td>...</td>\n      <td>...</td>\n      <td>...</td>\n      <td>...</td>\n    </tr>\n    <tr>\n      <th>36318</th>\n      <td>68091</td>\n      <td>유기농 햇살깃든 현미식혜</td>\n      <td>음료</td>\n      <td>발효음료</td>\n      <td>곡물</td>\n      <td>100</td>\n      <td>mL</td>\n      <td>-</td>\n      <td>340</td>\n      <td>12.2</td>\n      <td>340.0</td>\n      <td>12.2</td>\n      <td>0.0</td>\n    </tr>\n    <tr>\n      <th>36319</th>\n      <td>68092</td>\n      <td>유기농 햇살깃든 현미자색고구마식혜</td>\n      <td>음료</td>\n      <td>발효음료</td>\n      <td>곡물</td>\n      <td>100</td>\n      <td>mL</td>\n      <td>-</td>\n      <td>340</td>\n      <td>11.0</td>\n      <td>340.0</td>\n      <td>11.0</td>\n      <td>0.0</td>\n    </tr>\n    <tr>\n      <th>36320</th>\n      <td>68099</td>\n      <td>비타업</td>\n      <td>음료</td>\n      <td>활력음료</td>\n      <td>기성품</td>\n      <td>100</td>\n      <td>g</td>\n      <td>100</td>\n      <td>-</td>\n      <td>9.0</td>\n      <td>100.0</td>\n      <td>9.0</td>\n      <td>0.0</td>\n    </tr>\n    <tr>\n      <th>36321</th>\n      <td>68100</td>\n      <td>아로골드D플러스</td>\n      <td>음료</td>\n      <td>활력음료</td>\n      <td>기성품</td>\n      <td>100</td>\n      <td>g</td>\n      <td>1000</td>\n      <td>-</td>\n      <td>4.0</td>\n      <td>1000.0</td>\n      <td>4.0</td>\n      <td>0.0</td>\n    </tr>\n    <tr>\n      <th>36322</th>\n      <td>68152</td>\n      <td>유믹스 모히또맛 에이드</td>\n      <td>음료</td>\n      <td>탄산음료</td>\n      <td>기성품</td>\n      <td>100</td>\n      <td>g</td>\n      <td>1000</td>\n      <td>-</td>\n      <td>11.0</td>\n      <td>1000.0</td>\n      <td>11.0</td>\n      <td>0.0</td>\n    </tr>\n  </tbody>\n</table>\n<p>8805 rows × 13 columns</p>\n</div>"
     },
     "execution_count": 587,
     "metadata": {},
     "output_type": "execute_result"
    }
   ],
   "source": [],
   "metadata": {
    "collapsed": false,
    "pycharm": {
     "name": "#%%\n"
    }
   }
  },
  {
   "cell_type": "code",
   "execution_count": 576,
   "outputs": [],
   "source": [],
   "metadata": {
    "collapsed": false,
    "pycharm": {
     "name": "#%%\n"
    }
   }
  },
  {
   "cell_type": "code",
   "execution_count": 576,
   "outputs": [],
   "source": [],
   "metadata": {
    "collapsed": false,
    "pycharm": {
     "name": "#%%\n"
    }
   }
  },
  {
   "cell_type": "code",
   "execution_count": 576,
   "outputs": [],
   "source": [],
   "metadata": {
    "collapsed": false,
    "pycharm": {
     "name": "#%%\n"
    }
   }
  },
  {
   "cell_type": "code",
   "execution_count": 576,
   "outputs": [],
   "source": [],
   "metadata": {
    "collapsed": false,
    "pycharm": {
     "name": "#%%\n"
    }
   }
  },
  {
   "cell_type": "code",
   "execution_count": 578,
   "outputs": [],
   "source": [
    "sheet.to_csv('../../final_sugar_data.csv')"
   ],
   "metadata": {
    "collapsed": false,
    "pycharm": {
     "name": "#%%\n"
    }
   }
  },
  {
   "cell_type": "code",
   "execution_count": 424,
   "outputs": [],
   "source": [],
   "metadata": {
    "collapsed": false,
    "pycharm": {
     "name": "#%%\n"
    }
   }
  },
  {
   "cell_type": "code",
   "execution_count": 424,
   "outputs": [],
   "source": [],
   "metadata": {
    "collapsed": false,
    "pycharm": {
     "name": "#%%\n"
    }
   }
  },
  {
   "cell_type": "code",
   "execution_count": null,
   "outputs": [],
   "source": [],
   "metadata": {
    "collapsed": false,
    "pycharm": {
     "name": "#%%\n"
    }
   }
  }
 ],
 "metadata": {
  "kernelspec": {
   "display_name": "Python 3",
   "language": "python",
   "name": "python3"
  },
  "language_info": {
   "codemirror_mode": {
    "name": "ipython",
    "version": 2
   },
   "file_extension": ".py",
   "mimetype": "text/x-python",
   "name": "python",
   "nbconvert_exporter": "python",
   "pygments_lexer": "ipython2",
   "version": "2.7.6"
  }
 },
 "nbformat": 4,
 "nbformat_minor": 0
}