{
 "cells": [
  {
   "cell_type": "code",
   "execution_count": 425,
   "metadata": {
    "collapsed": true,
    "pycharm": {
     "name": "#%%\n"
    }
   },
   "outputs": [],
   "source": [
    "import pandas as pd\n",
    "import numpy as np\n",
    "\n",
    "import pprint as pp"
   ]
  },
  {
   "cell_type": "code",
   "execution_count": 426,
   "outputs": [],
   "source": [
    "sheet = pd.read_csv(\"/Users/raven/Desktop/programming/베이커리정제(final).csv\")"
   ],
   "metadata": {
    "collapsed": false,
    "pycharm": {
     "name": "#%%\n"
    }
   }
  },
  {
   "cell_type": "code",
   "execution_count": 427,
   "outputs": [],
   "source": [
    "sheet = sheet.drop('Unnamed: 0', axis=1)"
   ],
   "metadata": {
    "collapsed": false,
    "pycharm": {
     "name": "#%%\n"
    }
   }
  },
  {
   "cell_type": "code",
   "execution_count": 428,
   "outputs": [
    {
     "name": "stdout",
     "output_type": "stream",
     "text": [
      "<class 'pandas.core.frame.DataFrame'>\n",
      "RangeIndex: 34929 entries, 0 to 34928\n",
      "Data columns (total 12 columns):\n",
      " #   Column         Non-Null Count  Dtype  \n",
      "---  ------         --------------  -----  \n",
      " 0   No             34929 non-null  int64  \n",
      " 1   식품명            34929 non-null  object \n",
      " 2   대분류            34929 non-null  object \n",
      " 3   중분류            34870 non-null  object \n",
      " 4   소분류            34929 non-null  object \n",
      " 5   1회 제공량         34929 non-null  int64  \n",
      " 6   용량             34929 non-null  object \n",
      " 7   총내용량(g)        34929 non-null  object \n",
      " 8   총내용량(ml)       34929 non-null  object \n",
      " 9   총당류(g)         34929 non-null  float64\n",
      " 10  총내용량           34929 non-null  float64\n",
      " 11  단위용량 대비 설탕 비율  34929 non-null  float64\n",
      "dtypes: float64(3), int64(2), object(7)\n",
      "memory usage: 3.2+ MB\n"
     ]
    }
   ],
   "source": [
    "sheet.info()"
   ],
   "metadata": {
    "collapsed": false,
    "pycharm": {
     "name": "#%%\n"
    }
   }
  },
  {
   "cell_type": "code",
   "execution_count": 429,
   "outputs": [
    {
     "data": {
      "text/plain": "          No                        식품명 대분류     중분류  소분류  1회 제공량 용량 총내용량(g)  \\\n4906   25622                      해피 타임  과자     기성품   과자      30  g    1500   \n4907   25625                   크리스피 코코넛  과자     기성품   과자     100  g    1000   \n4908   25627                오트 25 텐 그레인  과자     기성품   과자     100  g     200   \n4909   25628                홀그레인 설타나 브란  과자     기성품   과자     100  g     750   \n4910   25634  커클랜드 시그니춰 앤더슨 피넛버터 필드 프리첼  과자     기성품   과자     100  g    1560   \n...      ...                        ...  ..     ...  ...     ... ..     ...   \n33175  84299          양갱세트(뚜레쥬르고구마맛영양갱)  과자     기성품  한과류      40  g      40   \n33176  84300            양갱세트(뚜레쥬르밤맛영양갱)  과자     기성품  한과류      40  g      40   \n33177  84314       우리밀전병세트(우리밀로만든검은깨전병)  과자  곡류&견과류  한과류      27  g      27   \n33178  84315        우리밀전병세트(우리밀로만든땅콩전병)  과자  곡류&견과류  한과류      27  g      27   \n33179  84316        우리밀전병세트(우리밀로만든김맛전병)  과자  곡류&견과류  한과류      27  g      27   \n\n      총내용량(ml)  총당류(g)    총내용량  단위용량 대비 설탕 비율  \n4906         -     8.0  1500.0           26.7  \n4907         -    23.0  1000.0           23.0  \n4908         -    20.0   200.0           20.0  \n4909         -    26.0   750.0           26.0  \n4910         -     4.0  1560.0            4.0  \n...        ...     ...     ...            ...  \n33175        -     6.0    40.0           15.0  \n33176        -     8.0    40.0           20.0  \n33177        -    11.0    27.0           40.7  \n33178        -     9.0    27.0           33.3  \n33179        -    10.0    27.0           37.0  \n\n[7121 rows x 12 columns]",
      "text/html": "<div>\n<style scoped>\n    .dataframe tbody tr th:only-of-type {\n        vertical-align: middle;\n    }\n\n    .dataframe tbody tr th {\n        vertical-align: top;\n    }\n\n    .dataframe thead th {\n        text-align: right;\n    }\n</style>\n<table border=\"1\" class=\"dataframe\">\n  <thead>\n    <tr style=\"text-align: right;\">\n      <th></th>\n      <th>No</th>\n      <th>식품명</th>\n      <th>대분류</th>\n      <th>중분류</th>\n      <th>소분류</th>\n      <th>1회 제공량</th>\n      <th>용량</th>\n      <th>총내용량(g)</th>\n      <th>총내용량(ml)</th>\n      <th>총당류(g)</th>\n      <th>총내용량</th>\n      <th>단위용량 대비 설탕 비율</th>\n    </tr>\n  </thead>\n  <tbody>\n    <tr>\n      <th>4906</th>\n      <td>25622</td>\n      <td>해피 타임</td>\n      <td>과자</td>\n      <td>기성품</td>\n      <td>과자</td>\n      <td>30</td>\n      <td>g</td>\n      <td>1500</td>\n      <td>-</td>\n      <td>8.0</td>\n      <td>1500.0</td>\n      <td>26.7</td>\n    </tr>\n    <tr>\n      <th>4907</th>\n      <td>25625</td>\n      <td>크리스피 코코넛</td>\n      <td>과자</td>\n      <td>기성품</td>\n      <td>과자</td>\n      <td>100</td>\n      <td>g</td>\n      <td>1000</td>\n      <td>-</td>\n      <td>23.0</td>\n      <td>1000.0</td>\n      <td>23.0</td>\n    </tr>\n    <tr>\n      <th>4908</th>\n      <td>25627</td>\n      <td>오트 25 텐 그레인</td>\n      <td>과자</td>\n      <td>기성품</td>\n      <td>과자</td>\n      <td>100</td>\n      <td>g</td>\n      <td>200</td>\n      <td>-</td>\n      <td>20.0</td>\n      <td>200.0</td>\n      <td>20.0</td>\n    </tr>\n    <tr>\n      <th>4909</th>\n      <td>25628</td>\n      <td>홀그레인 설타나 브란</td>\n      <td>과자</td>\n      <td>기성품</td>\n      <td>과자</td>\n      <td>100</td>\n      <td>g</td>\n      <td>750</td>\n      <td>-</td>\n      <td>26.0</td>\n      <td>750.0</td>\n      <td>26.0</td>\n    </tr>\n    <tr>\n      <th>4910</th>\n      <td>25634</td>\n      <td>커클랜드 시그니춰 앤더슨 피넛버터 필드 프리첼</td>\n      <td>과자</td>\n      <td>기성품</td>\n      <td>과자</td>\n      <td>100</td>\n      <td>g</td>\n      <td>1560</td>\n      <td>-</td>\n      <td>4.0</td>\n      <td>1560.0</td>\n      <td>4.0</td>\n    </tr>\n    <tr>\n      <th>...</th>\n      <td>...</td>\n      <td>...</td>\n      <td>...</td>\n      <td>...</td>\n      <td>...</td>\n      <td>...</td>\n      <td>...</td>\n      <td>...</td>\n      <td>...</td>\n      <td>...</td>\n      <td>...</td>\n      <td>...</td>\n    </tr>\n    <tr>\n      <th>33175</th>\n      <td>84299</td>\n      <td>양갱세트(뚜레쥬르고구마맛영양갱)</td>\n      <td>과자</td>\n      <td>기성품</td>\n      <td>한과류</td>\n      <td>40</td>\n      <td>g</td>\n      <td>40</td>\n      <td>-</td>\n      <td>6.0</td>\n      <td>40.0</td>\n      <td>15.0</td>\n    </tr>\n    <tr>\n      <th>33176</th>\n      <td>84300</td>\n      <td>양갱세트(뚜레쥬르밤맛영양갱)</td>\n      <td>과자</td>\n      <td>기성품</td>\n      <td>한과류</td>\n      <td>40</td>\n      <td>g</td>\n      <td>40</td>\n      <td>-</td>\n      <td>8.0</td>\n      <td>40.0</td>\n      <td>20.0</td>\n    </tr>\n    <tr>\n      <th>33177</th>\n      <td>84314</td>\n      <td>우리밀전병세트(우리밀로만든검은깨전병)</td>\n      <td>과자</td>\n      <td>곡류&amp;견과류</td>\n      <td>한과류</td>\n      <td>27</td>\n      <td>g</td>\n      <td>27</td>\n      <td>-</td>\n      <td>11.0</td>\n      <td>27.0</td>\n      <td>40.7</td>\n    </tr>\n    <tr>\n      <th>33178</th>\n      <td>84315</td>\n      <td>우리밀전병세트(우리밀로만든땅콩전병)</td>\n      <td>과자</td>\n      <td>곡류&amp;견과류</td>\n      <td>한과류</td>\n      <td>27</td>\n      <td>g</td>\n      <td>27</td>\n      <td>-</td>\n      <td>9.0</td>\n      <td>27.0</td>\n      <td>33.3</td>\n    </tr>\n    <tr>\n      <th>33179</th>\n      <td>84316</td>\n      <td>우리밀전병세트(우리밀로만든김맛전병)</td>\n      <td>과자</td>\n      <td>곡류&amp;견과류</td>\n      <td>한과류</td>\n      <td>27</td>\n      <td>g</td>\n      <td>27</td>\n      <td>-</td>\n      <td>10.0</td>\n      <td>27.0</td>\n      <td>37.0</td>\n    </tr>\n  </tbody>\n</table>\n<p>7121 rows × 12 columns</p>\n</div>"
     },
     "execution_count": 429,
     "metadata": {},
     "output_type": "execute_result"
    }
   ],
   "source": [
    "sheet.loc[(sheet['대분류'] == '과자'), :]"
   ],
   "metadata": {
    "collapsed": false,
    "pycharm": {
     "name": "#%%\n"
    }
   }
  },
  {
   "cell_type": "code",
   "execution_count": 430,
   "outputs": [],
   "source": [
    "def category_count_fn(middle_category):\n",
    "    dict = {}\n",
    "    for value in list(sheet.loc[sheet['중분류'] == middle_category, '소분류'].unique()):\n",
    "        dict[value] = len(sheet.loc[(sheet['중분류'] == middle_category) & (sheet['소분류'] == value), :])\n",
    "    return dict"
   ],
   "metadata": {
    "collapsed": false,
    "pycharm": {
     "name": "#%%\n"
    }
   }
  },
  {
   "cell_type": "code",
   "execution_count": 431,
   "outputs": [],
   "source": [
    "def seperated_category(middle_category, category_dictionary, *conditions):\n",
    "    for item in category_dictionary.items():\n",
    "        key = item[0]\n",
    "        value = item[1]\n",
    "\n",
    "        if conditions:\n",
    "            for category in value:\n",
    "                sheet.loc[\n",
    "                    (sheet['중분류'] == middle_category) &\n",
    "                    (sheet['식품명'].str.contains(category)) &\n",
    "                    conditions[0]\n",
    "                    , '소분류'] = key\n",
    "        else:\n",
    "            for category in value:\n",
    "                sheet.loc[\n",
    "                    (sheet['중분류'] == middle_category) &\n",
    "                    (sheet['식품명'].str.contains(category))\n",
    "                    , '소분류'] = key"
   ],
   "metadata": {
    "collapsed": false,
    "pycharm": {
     "name": "#%%\n"
    }
   }
  },
  {
   "cell_type": "code",
   "execution_count": 432,
   "outputs": [],
   "source": [
    "sheet.loc[(sheet['대분류'] == '과자') & ((sheet['식품명'].str.contains('전병')) | (sheet['식품명'].str.contains('월병'))), '중분류'] = '전통과자'\n",
    "sheet.loc[(sheet['대분류'] == '과자') & (sheet['식품명'].str.contains('전병')), '소분류'] = '전병'\n",
    "sheet.loc[(sheet['대분류'] == '과자') & (sheet['식품명'].str.contains('월병')), '소분류'] = '월병'"
   ],
   "metadata": {
    "collapsed": false,
    "pycharm": {
     "name": "#%%\n"
    }
   }
  },
  {
   "cell_type": "code",
   "execution_count": 433,
   "outputs": [
    {
     "data": {
      "text/plain": "['기성품', '마카롱', '곡류&견과류', '파이', '전통과자', '쿠키', '팝콘']"
     },
     "execution_count": 433,
     "metadata": {},
     "output_type": "execute_result"
    }
   ],
   "source": [
    "list(sheet.loc[(sheet['대분류'] == '과자'), '중분류'].unique())"
   ],
   "metadata": {
    "collapsed": false,
    "pycharm": {
     "name": "#%%\n"
    }
   }
  },
  {
   "cell_type": "code",
   "execution_count": 434,
   "outputs": [],
   "source": [
    "# 마카롱, 파이 베이커리류로 보내기\n",
    "# 곡류&견과류 확인하고 보내기"
   ],
   "metadata": {
    "collapsed": false,
    "pycharm": {
     "name": "#%%\n"
    }
   }
  },
  {
   "cell_type": "code",
   "execution_count": 435,
   "outputs": [
    {
     "data": {
      "text/plain": "          No                       식품명 대분류 중분류   소분류  1회 제공량 용량 총내용량(g)  \\\n5308   34964                  충주 사과 팝콘  과자  팝콘    과자     100  g      60   \n5413   35080  메가팝콘(Mega Popcorn) 카라멜팝콘  과자  팝콘    과자     100  g     350   \n5414   35081               33한 체다치즈 팝콘  과자  팝콘    과자     100  g     150   \n5415   35082              카라멜 글레이즈드 팝콘  과자  팝콘    과자     100  g     450   \n5445   35117                    카라멜 팝콘  과자  팝콘    과자     100  g     230   \n...      ...                       ...  ..  ..   ...     ... ..     ...   \n18476  26496          유레카 팝콘(사워크림&어니언)  과자  팝콘  스낵과자      70  g      70   \n18477  26497               유레카 팝콘(카라멜)  과자  팝콘  스낵과자      70  g      70   \n18478  26498                유레카 팝콘(치즈)  과자  팝콘  스낵과자      70  g      70   \n19580  80414               카라멜 & 치즈 팝콘  과자  팝콘   스낵류      60  g      60   \n19581  80415                    카라멜 팝콘  과자  팝콘   스낵류      80  g      80   \n\n      총내용량(ml)  총당류(g)   총내용량  단위용량 대비 설탕 비율  \n5308         -   20.75   60.0           20.8  \n5413         -   29.50  350.0           29.5  \n5414         -    4.58  150.0            4.6  \n5415         -   35.00  450.0           35.0  \n5445         -   55.00  230.0           55.0  \n...        ...     ...    ...            ...  \n18476        -   27.00   70.0           38.6  \n18477        -   32.00   70.0           45.7  \n18478        -   29.00   70.0           41.4  \n19580        -   24.00   60.0           40.0  \n19581        -   42.00   80.0           52.5  \n\n[209 rows x 12 columns]",
      "text/html": "<div>\n<style scoped>\n    .dataframe tbody tr th:only-of-type {\n        vertical-align: middle;\n    }\n\n    .dataframe tbody tr th {\n        vertical-align: top;\n    }\n\n    .dataframe thead th {\n        text-align: right;\n    }\n</style>\n<table border=\"1\" class=\"dataframe\">\n  <thead>\n    <tr style=\"text-align: right;\">\n      <th></th>\n      <th>No</th>\n      <th>식품명</th>\n      <th>대분류</th>\n      <th>중분류</th>\n      <th>소분류</th>\n      <th>1회 제공량</th>\n      <th>용량</th>\n      <th>총내용량(g)</th>\n      <th>총내용량(ml)</th>\n      <th>총당류(g)</th>\n      <th>총내용량</th>\n      <th>단위용량 대비 설탕 비율</th>\n    </tr>\n  </thead>\n  <tbody>\n    <tr>\n      <th>5308</th>\n      <td>34964</td>\n      <td>충주 사과 팝콘</td>\n      <td>과자</td>\n      <td>팝콘</td>\n      <td>과자</td>\n      <td>100</td>\n      <td>g</td>\n      <td>60</td>\n      <td>-</td>\n      <td>20.75</td>\n      <td>60.0</td>\n      <td>20.8</td>\n    </tr>\n    <tr>\n      <th>5413</th>\n      <td>35080</td>\n      <td>메가팝콘(Mega Popcorn) 카라멜팝콘</td>\n      <td>과자</td>\n      <td>팝콘</td>\n      <td>과자</td>\n      <td>100</td>\n      <td>g</td>\n      <td>350</td>\n      <td>-</td>\n      <td>29.50</td>\n      <td>350.0</td>\n      <td>29.5</td>\n    </tr>\n    <tr>\n      <th>5414</th>\n      <td>35081</td>\n      <td>33한 체다치즈 팝콘</td>\n      <td>과자</td>\n      <td>팝콘</td>\n      <td>과자</td>\n      <td>100</td>\n      <td>g</td>\n      <td>150</td>\n      <td>-</td>\n      <td>4.58</td>\n      <td>150.0</td>\n      <td>4.6</td>\n    </tr>\n    <tr>\n      <th>5415</th>\n      <td>35082</td>\n      <td>카라멜 글레이즈드 팝콘</td>\n      <td>과자</td>\n      <td>팝콘</td>\n      <td>과자</td>\n      <td>100</td>\n      <td>g</td>\n      <td>450</td>\n      <td>-</td>\n      <td>35.00</td>\n      <td>450.0</td>\n      <td>35.0</td>\n    </tr>\n    <tr>\n      <th>5445</th>\n      <td>35117</td>\n      <td>카라멜 팝콘</td>\n      <td>과자</td>\n      <td>팝콘</td>\n      <td>과자</td>\n      <td>100</td>\n      <td>g</td>\n      <td>230</td>\n      <td>-</td>\n      <td>55.00</td>\n      <td>230.0</td>\n      <td>55.0</td>\n    </tr>\n    <tr>\n      <th>...</th>\n      <td>...</td>\n      <td>...</td>\n      <td>...</td>\n      <td>...</td>\n      <td>...</td>\n      <td>...</td>\n      <td>...</td>\n      <td>...</td>\n      <td>...</td>\n      <td>...</td>\n      <td>...</td>\n      <td>...</td>\n    </tr>\n    <tr>\n      <th>18476</th>\n      <td>26496</td>\n      <td>유레카 팝콘(사워크림&amp;어니언)</td>\n      <td>과자</td>\n      <td>팝콘</td>\n      <td>스낵과자</td>\n      <td>70</td>\n      <td>g</td>\n      <td>70</td>\n      <td>-</td>\n      <td>27.00</td>\n      <td>70.0</td>\n      <td>38.6</td>\n    </tr>\n    <tr>\n      <th>18477</th>\n      <td>26497</td>\n      <td>유레카 팝콘(카라멜)</td>\n      <td>과자</td>\n      <td>팝콘</td>\n      <td>스낵과자</td>\n      <td>70</td>\n      <td>g</td>\n      <td>70</td>\n      <td>-</td>\n      <td>32.00</td>\n      <td>70.0</td>\n      <td>45.7</td>\n    </tr>\n    <tr>\n      <th>18478</th>\n      <td>26498</td>\n      <td>유레카 팝콘(치즈)</td>\n      <td>과자</td>\n      <td>팝콘</td>\n      <td>스낵과자</td>\n      <td>70</td>\n      <td>g</td>\n      <td>70</td>\n      <td>-</td>\n      <td>29.00</td>\n      <td>70.0</td>\n      <td>41.4</td>\n    </tr>\n    <tr>\n      <th>19580</th>\n      <td>80414</td>\n      <td>카라멜 &amp; 치즈 팝콘</td>\n      <td>과자</td>\n      <td>팝콘</td>\n      <td>스낵류</td>\n      <td>60</td>\n      <td>g</td>\n      <td>60</td>\n      <td>-</td>\n      <td>24.00</td>\n      <td>60.0</td>\n      <td>40.0</td>\n    </tr>\n    <tr>\n      <th>19581</th>\n      <td>80415</td>\n      <td>카라멜 팝콘</td>\n      <td>과자</td>\n      <td>팝콘</td>\n      <td>스낵류</td>\n      <td>80</td>\n      <td>g</td>\n      <td>80</td>\n      <td>-</td>\n      <td>42.00</td>\n      <td>80.0</td>\n      <td>52.5</td>\n    </tr>\n  </tbody>\n</table>\n<p>209 rows × 12 columns</p>\n</div>"
     },
     "execution_count": 435,
     "metadata": {},
     "output_type": "execute_result"
    }
   ],
   "source": [
    "sheet.loc[(sheet['대분류'] == '과자') & (sheet['중분류'] == '팝콘'), :]"
   ],
   "metadata": {
    "collapsed": false,
    "pycharm": {
     "name": "#%%\n"
    }
   }
  },
  {
   "cell_type": "code",
   "execution_count": 436,
   "outputs": [
    {
     "data": {
      "text/plain": "          No                식품명 대분류 중분류 소분류  1회 제공량 용량 총내용량(g) 총내용량(ml)  \\\n5736   35451               믹스팝콘  과자  팝콘          30  g     210        -   \n5858   35616   darda by커널스 단풍팝콘  과자  팝콘          60  g      60        -   \n5896   35663          인디팝콘 밀크초코  과자  팝콘          50  g     250        -   \n6282   36113       리얼 초코 바닐라 팝콘  과자  팝콘          30  g     120        -   \n6410   36304  고소하고 매콤 달콤한 고추 팝콘  과자  팝콘          60  g      60        -   \n...      ...                ...  ..  ..  ..     ... ..     ...      ...   \n12511  59274      유레카 팝콘(와사비 맛)  과자  팝콘          70  g      70        -   \n12514  59277    유레카 팝콘(코코아몰트 맛)  과자  팝콘          80  g      80        -   \n12515  59278      유레카 팝콘(토마토 맛)  과자  팝콘          70  g      70        -   \n18356  25664  붐 치카팝 스위트 앤 솔티 팝콘  과자  팝콘         100  g     652        -   \n18475  26495   유레카 팝콘(오리지널 씨쏠트)  과자  팝콘          70  g      70        -   \n\n       총당류(g)   총내용량  단위용량 대비 설탕 비율  \n5736     5.00  210.0           16.7  \n5858    17.00   60.0           28.3  \n5896    23.00  250.0           46.0  \n6282    11.00  120.0           36.7  \n6410    15.45   60.0           25.8  \n...       ...    ...            ...  \n12511   27.00   70.0           38.6  \n12514   34.00   80.0           42.5  \n12515   29.00   70.0           41.4  \n18356   27.00  652.0           27.0  \n18475   24.00   70.0           34.3  \n\n[66 rows x 12 columns]",
      "text/html": "<div>\n<style scoped>\n    .dataframe tbody tr th:only-of-type {\n        vertical-align: middle;\n    }\n\n    .dataframe tbody tr th {\n        vertical-align: top;\n    }\n\n    .dataframe thead th {\n        text-align: right;\n    }\n</style>\n<table border=\"1\" class=\"dataframe\">\n  <thead>\n    <tr style=\"text-align: right;\">\n      <th></th>\n      <th>No</th>\n      <th>식품명</th>\n      <th>대분류</th>\n      <th>중분류</th>\n      <th>소분류</th>\n      <th>1회 제공량</th>\n      <th>용량</th>\n      <th>총내용량(g)</th>\n      <th>총내용량(ml)</th>\n      <th>총당류(g)</th>\n      <th>총내용량</th>\n      <th>단위용량 대비 설탕 비율</th>\n    </tr>\n  </thead>\n  <tbody>\n    <tr>\n      <th>5736</th>\n      <td>35451</td>\n      <td>믹스팝콘</td>\n      <td>과자</td>\n      <td>팝콘</td>\n      <td></td>\n      <td>30</td>\n      <td>g</td>\n      <td>210</td>\n      <td>-</td>\n      <td>5.00</td>\n      <td>210.0</td>\n      <td>16.7</td>\n    </tr>\n    <tr>\n      <th>5858</th>\n      <td>35616</td>\n      <td>darda by커널스 단풍팝콘</td>\n      <td>과자</td>\n      <td>팝콘</td>\n      <td></td>\n      <td>60</td>\n      <td>g</td>\n      <td>60</td>\n      <td>-</td>\n      <td>17.00</td>\n      <td>60.0</td>\n      <td>28.3</td>\n    </tr>\n    <tr>\n      <th>5896</th>\n      <td>35663</td>\n      <td>인디팝콘 밀크초코</td>\n      <td>과자</td>\n      <td>팝콘</td>\n      <td></td>\n      <td>50</td>\n      <td>g</td>\n      <td>250</td>\n      <td>-</td>\n      <td>23.00</td>\n      <td>250.0</td>\n      <td>46.0</td>\n    </tr>\n    <tr>\n      <th>6282</th>\n      <td>36113</td>\n      <td>리얼 초코 바닐라 팝콘</td>\n      <td>과자</td>\n      <td>팝콘</td>\n      <td></td>\n      <td>30</td>\n      <td>g</td>\n      <td>120</td>\n      <td>-</td>\n      <td>11.00</td>\n      <td>120.0</td>\n      <td>36.7</td>\n    </tr>\n    <tr>\n      <th>6410</th>\n      <td>36304</td>\n      <td>고소하고 매콤 달콤한 고추 팝콘</td>\n      <td>과자</td>\n      <td>팝콘</td>\n      <td></td>\n      <td>60</td>\n      <td>g</td>\n      <td>60</td>\n      <td>-</td>\n      <td>15.45</td>\n      <td>60.0</td>\n      <td>25.8</td>\n    </tr>\n    <tr>\n      <th>...</th>\n      <td>...</td>\n      <td>...</td>\n      <td>...</td>\n      <td>...</td>\n      <td>...</td>\n      <td>...</td>\n      <td>...</td>\n      <td>...</td>\n      <td>...</td>\n      <td>...</td>\n      <td>...</td>\n      <td>...</td>\n    </tr>\n    <tr>\n      <th>12511</th>\n      <td>59274</td>\n      <td>유레카 팝콘(와사비 맛)</td>\n      <td>과자</td>\n      <td>팝콘</td>\n      <td></td>\n      <td>70</td>\n      <td>g</td>\n      <td>70</td>\n      <td>-</td>\n      <td>27.00</td>\n      <td>70.0</td>\n      <td>38.6</td>\n    </tr>\n    <tr>\n      <th>12514</th>\n      <td>59277</td>\n      <td>유레카 팝콘(코코아몰트 맛)</td>\n      <td>과자</td>\n      <td>팝콘</td>\n      <td></td>\n      <td>80</td>\n      <td>g</td>\n      <td>80</td>\n      <td>-</td>\n      <td>34.00</td>\n      <td>80.0</td>\n      <td>42.5</td>\n    </tr>\n    <tr>\n      <th>12515</th>\n      <td>59278</td>\n      <td>유레카 팝콘(토마토 맛)</td>\n      <td>과자</td>\n      <td>팝콘</td>\n      <td></td>\n      <td>70</td>\n      <td>g</td>\n      <td>70</td>\n      <td>-</td>\n      <td>29.00</td>\n      <td>70.0</td>\n      <td>41.4</td>\n    </tr>\n    <tr>\n      <th>18356</th>\n      <td>25664</td>\n      <td>붐 치카팝 스위트 앤 솔티 팝콘</td>\n      <td>과자</td>\n      <td>팝콘</td>\n      <td></td>\n      <td>100</td>\n      <td>g</td>\n      <td>652</td>\n      <td>-</td>\n      <td>27.00</td>\n      <td>652.0</td>\n      <td>27.0</td>\n    </tr>\n    <tr>\n      <th>18475</th>\n      <td>26495</td>\n      <td>유레카 팝콘(오리지널 씨쏠트)</td>\n      <td>과자</td>\n      <td>팝콘</td>\n      <td></td>\n      <td>70</td>\n      <td>g</td>\n      <td>70</td>\n      <td>-</td>\n      <td>24.00</td>\n      <td>70.0</td>\n      <td>34.3</td>\n    </tr>\n  </tbody>\n</table>\n<p>66 rows × 12 columns</p>\n</div>"
     },
     "execution_count": 436,
     "metadata": {},
     "output_type": "execute_result"
    }
   ],
   "source": [
    "sheet.loc[(sheet['중분류'] == '팝콘'), '소분류'] = ''\n",
    "\n",
    "\n",
    "과일팝콘 = [\"사과\", \"딸기\", \"바나나\", \"베리\", \"청포도\", \"망고\"]\n",
    "카라멜팝콘 = [\"카라멜\"]\n",
    "치즈팝콘 = [\"치즈\"]\n",
    "버터팝콘 = [\"버터\"]\n",
    "초콜릿팝콘 = [\"초콜릿\"]\n",
    "콘소메팝콘 = [\"콘소메\"]\n",
    "솔트팝콘 = [\"솔트\"]\n",
    "인절미팝콘 = [\"인절미\"]\n",
    "갈릭팝콘 = [\"갈릭\"]\n",
    "어니언팝콘 = [\"어니언\"]\n",
    "\n",
    "\n",
    "\n",
    "팝콘종류 = {\n",
    "\"과일팝콘\":과일팝콘,\n",
    "\"카라멜팝콘\":카라멜팝콘,\n",
    "\"치즈팝콘\":치즈팝콘,\n",
    "\"버터팝콘\":버터팝콘,\n",
    "\"초콜릿팝콘\":초콜릿팝콘,\n",
    "\"콘소메팝콘\":콘소메팝콘,\n",
    "\"솔트팝콘\":솔트팝콘,\n",
    "\"인절미팝콘\":인절미팝콘,\n",
    "\"갈릭팝콘\":갈릭팝콘,\n",
    "\"어니언팝콘\":어니언팝콘,\n",
    "}\n",
    "\n",
    "seperated_category('팝콘', 팝콘종류)\n",
    "\n",
    "sheet.loc[(sheet['중분류'] == '팝콘') & (sheet['소분류'] == \"\"), :]"
   ],
   "metadata": {
    "collapsed": false,
    "pycharm": {
     "name": "#%%\n"
    }
   }
  },
  {
   "cell_type": "code",
   "execution_count": 437,
   "outputs": [],
   "source": [
    "erase = list(sheet.loc[(sheet['중분류'] == '팝콘') & (sheet['소분류'] == \"\"), :].index)\n",
    "for value in erase:\n",
    "    sheet = sheet.drop(value, axis=0)"
   ],
   "metadata": {
    "collapsed": false,
    "pycharm": {
     "name": "#%%\n"
    }
   }
  },
  {
   "cell_type": "code",
   "execution_count": 438,
   "outputs": [
    {
     "data": {
      "text/plain": "array(['과일팝콘', '카라멜팝콘', '치즈팝콘', '어니언팝콘', '버터팝콘', '초콜릿팝콘', '갈릭팝콘', '콘소메팝콘',\n       '솔트팝콘', '인절미팝콘'], dtype=object)"
     },
     "execution_count": 438,
     "metadata": {},
     "output_type": "execute_result"
    }
   ],
   "source": [
    "sheet.loc[(sheet['중분류'] == '팝콘'), '소분류'].unique()"
   ],
   "metadata": {
    "collapsed": false,
    "pycharm": {
     "name": "#%%\n"
    }
   }
  },
  {
   "cell_type": "code",
   "execution_count": 439,
   "outputs": [
    {
     "data": {
      "text/plain": "          No          식품명 대분류 중분류  소분류  1회 제공량 용량 총내용량(g) 총내용량(ml)  총당류(g)  \\\n5274   34918       통밀참깨쿠키  과자  쿠키   과자     100  g     150        -    20.0   \n5275   34919       통밀땅콩쿠키  과자  쿠키   과자     100  g     150        -    19.0   \n5276   34920       통밀들깨쿠키  과자  쿠키   과자     100  g     150        -    21.0   \n5282   34931    수제통밀쵸코칩쿠키  과자  쿠키   과자     100  g     115        -     9.0   \n5315   34974  복애플아몬드 잼볼쿠키  과자  쿠키   과자     100  g      80        -    18.2   \n...      ...          ...  ..  ..  ...     ... ..     ...      ...     ...   \n33156  25650       유자 모나카  과자  쿠키  한과류     100  g    4500        -    70.0   \n33157  25651        삼색모나카  과자  쿠키  한과류     100  g     220        -    17.0   \n33160  25723     아지고코로모나카  과자  쿠키  한과류     100  g     300        -    67.0   \n33161  25724       믹스 모나카  과자  쿠키  한과류     100  g     230        -    34.0   \n33171  26341        삼미모나카  과자  쿠키  한과류     100  g     130        -    46.0   \n\n         총내용량  단위용량 대비 설탕 비율  \n5274    150.0           20.0  \n5275    150.0           19.0  \n5276    150.0           21.0  \n5282    115.0            9.0  \n5315     80.0           18.2  \n...       ...            ...  \n33156  4500.0           70.0  \n33157   220.0           17.0  \n33160   300.0           67.0  \n33161   230.0           34.0  \n33171   130.0           46.0  \n\n[1471 rows x 12 columns]",
      "text/html": "<div>\n<style scoped>\n    .dataframe tbody tr th:only-of-type {\n        vertical-align: middle;\n    }\n\n    .dataframe tbody tr th {\n        vertical-align: top;\n    }\n\n    .dataframe thead th {\n        text-align: right;\n    }\n</style>\n<table border=\"1\" class=\"dataframe\">\n  <thead>\n    <tr style=\"text-align: right;\">\n      <th></th>\n      <th>No</th>\n      <th>식품명</th>\n      <th>대분류</th>\n      <th>중분류</th>\n      <th>소분류</th>\n      <th>1회 제공량</th>\n      <th>용량</th>\n      <th>총내용량(g)</th>\n      <th>총내용량(ml)</th>\n      <th>총당류(g)</th>\n      <th>총내용량</th>\n      <th>단위용량 대비 설탕 비율</th>\n    </tr>\n  </thead>\n  <tbody>\n    <tr>\n      <th>5274</th>\n      <td>34918</td>\n      <td>통밀참깨쿠키</td>\n      <td>과자</td>\n      <td>쿠키</td>\n      <td>과자</td>\n      <td>100</td>\n      <td>g</td>\n      <td>150</td>\n      <td>-</td>\n      <td>20.0</td>\n      <td>150.0</td>\n      <td>20.0</td>\n    </tr>\n    <tr>\n      <th>5275</th>\n      <td>34919</td>\n      <td>통밀땅콩쿠키</td>\n      <td>과자</td>\n      <td>쿠키</td>\n      <td>과자</td>\n      <td>100</td>\n      <td>g</td>\n      <td>150</td>\n      <td>-</td>\n      <td>19.0</td>\n      <td>150.0</td>\n      <td>19.0</td>\n    </tr>\n    <tr>\n      <th>5276</th>\n      <td>34920</td>\n      <td>통밀들깨쿠키</td>\n      <td>과자</td>\n      <td>쿠키</td>\n      <td>과자</td>\n      <td>100</td>\n      <td>g</td>\n      <td>150</td>\n      <td>-</td>\n      <td>21.0</td>\n      <td>150.0</td>\n      <td>21.0</td>\n    </tr>\n    <tr>\n      <th>5282</th>\n      <td>34931</td>\n      <td>수제통밀쵸코칩쿠키</td>\n      <td>과자</td>\n      <td>쿠키</td>\n      <td>과자</td>\n      <td>100</td>\n      <td>g</td>\n      <td>115</td>\n      <td>-</td>\n      <td>9.0</td>\n      <td>115.0</td>\n      <td>9.0</td>\n    </tr>\n    <tr>\n      <th>5315</th>\n      <td>34974</td>\n      <td>복애플아몬드 잼볼쿠키</td>\n      <td>과자</td>\n      <td>쿠키</td>\n      <td>과자</td>\n      <td>100</td>\n      <td>g</td>\n      <td>80</td>\n      <td>-</td>\n      <td>18.2</td>\n      <td>80.0</td>\n      <td>18.2</td>\n    </tr>\n    <tr>\n      <th>...</th>\n      <td>...</td>\n      <td>...</td>\n      <td>...</td>\n      <td>...</td>\n      <td>...</td>\n      <td>...</td>\n      <td>...</td>\n      <td>...</td>\n      <td>...</td>\n      <td>...</td>\n      <td>...</td>\n      <td>...</td>\n    </tr>\n    <tr>\n      <th>33156</th>\n      <td>25650</td>\n      <td>유자 모나카</td>\n      <td>과자</td>\n      <td>쿠키</td>\n      <td>한과류</td>\n      <td>100</td>\n      <td>g</td>\n      <td>4500</td>\n      <td>-</td>\n      <td>70.0</td>\n      <td>4500.0</td>\n      <td>70.0</td>\n    </tr>\n    <tr>\n      <th>33157</th>\n      <td>25651</td>\n      <td>삼색모나카</td>\n      <td>과자</td>\n      <td>쿠키</td>\n      <td>한과류</td>\n      <td>100</td>\n      <td>g</td>\n      <td>220</td>\n      <td>-</td>\n      <td>17.0</td>\n      <td>220.0</td>\n      <td>17.0</td>\n    </tr>\n    <tr>\n      <th>33160</th>\n      <td>25723</td>\n      <td>아지고코로모나카</td>\n      <td>과자</td>\n      <td>쿠키</td>\n      <td>한과류</td>\n      <td>100</td>\n      <td>g</td>\n      <td>300</td>\n      <td>-</td>\n      <td>67.0</td>\n      <td>300.0</td>\n      <td>67.0</td>\n    </tr>\n    <tr>\n      <th>33161</th>\n      <td>25724</td>\n      <td>믹스 모나카</td>\n      <td>과자</td>\n      <td>쿠키</td>\n      <td>한과류</td>\n      <td>100</td>\n      <td>g</td>\n      <td>230</td>\n      <td>-</td>\n      <td>34.0</td>\n      <td>230.0</td>\n      <td>34.0</td>\n    </tr>\n    <tr>\n      <th>33171</th>\n      <td>26341</td>\n      <td>삼미모나카</td>\n      <td>과자</td>\n      <td>쿠키</td>\n      <td>한과류</td>\n      <td>100</td>\n      <td>g</td>\n      <td>130</td>\n      <td>-</td>\n      <td>46.0</td>\n      <td>130.0</td>\n      <td>46.0</td>\n    </tr>\n  </tbody>\n</table>\n<p>1471 rows × 12 columns</p>\n</div>"
     },
     "execution_count": 439,
     "metadata": {},
     "output_type": "execute_result"
    }
   ],
   "source": [
    "sheet.loc[(sheet['대분류'] == '과자') & (sheet['중분류'] == '쿠키'), :]"
   ],
   "metadata": {
    "collapsed": false,
    "pycharm": {
     "name": "#%%\n"
    }
   }
  },
  {
   "cell_type": "code",
   "execution_count": 440,
   "outputs": [
    {
     "data": {
      "text/plain": "          No                 식품명 대분류 중분류 소분류  1회 제공량 용량 총내용량(g) 총내용량(ml)  \\\n5178   26409  피스타치오 칸투치 (153052)  과자  쿠키         100  g     200        -   \n5269   34913             NEW튀김건빵  과자  쿠키         100  g     270        -   \n5320   34979                종합쿠키  과자  쿠키         100  g     130        -   \n5329   34988               종합모나카  과자  쿠키         100  g     350        -   \n5331   34990          초이스엘 종합모나카  과자  쿠키         100  g     350        -   \n...      ...                 ...  ..  ..  ..     ... ..     ...      ...   \n33155  25648            사쿠라향 모나카  과자  쿠키         100  g    4500        -   \n33157  25651               삼색모나카  과자  쿠키         100  g     220        -   \n33160  25723            아지고코로모나카  과자  쿠키         100  g     300        -   \n33161  25724              믹스 모나카  과자  쿠키         100  g     230        -   \n33171  26341               삼미모나카  과자  쿠키         100  g     130        -   \n\n       총당류(g)    총내용량  단위용량 대비 설탕 비율  \n5178     28.0   200.0           28.0  \n5269     15.2   270.0           15.2  \n5320     57.0   130.0           57.0  \n5329     48.0   350.0           48.0  \n5331     48.0   350.0           48.0  \n...       ...     ...            ...  \n33155    70.0  4500.0           70.0  \n33157    17.0   220.0           17.0  \n33160    67.0   300.0           67.0  \n33161    34.0   230.0           34.0  \n33171    46.0   130.0           46.0  \n\n[374 rows x 12 columns]",
      "text/html": "<div>\n<style scoped>\n    .dataframe tbody tr th:only-of-type {\n        vertical-align: middle;\n    }\n\n    .dataframe tbody tr th {\n        vertical-align: top;\n    }\n\n    .dataframe thead th {\n        text-align: right;\n    }\n</style>\n<table border=\"1\" class=\"dataframe\">\n  <thead>\n    <tr style=\"text-align: right;\">\n      <th></th>\n      <th>No</th>\n      <th>식품명</th>\n      <th>대분류</th>\n      <th>중분류</th>\n      <th>소분류</th>\n      <th>1회 제공량</th>\n      <th>용량</th>\n      <th>총내용량(g)</th>\n      <th>총내용량(ml)</th>\n      <th>총당류(g)</th>\n      <th>총내용량</th>\n      <th>단위용량 대비 설탕 비율</th>\n    </tr>\n  </thead>\n  <tbody>\n    <tr>\n      <th>5178</th>\n      <td>26409</td>\n      <td>피스타치오 칸투치 (153052)</td>\n      <td>과자</td>\n      <td>쿠키</td>\n      <td></td>\n      <td>100</td>\n      <td>g</td>\n      <td>200</td>\n      <td>-</td>\n      <td>28.0</td>\n      <td>200.0</td>\n      <td>28.0</td>\n    </tr>\n    <tr>\n      <th>5269</th>\n      <td>34913</td>\n      <td>NEW튀김건빵</td>\n      <td>과자</td>\n      <td>쿠키</td>\n      <td></td>\n      <td>100</td>\n      <td>g</td>\n      <td>270</td>\n      <td>-</td>\n      <td>15.2</td>\n      <td>270.0</td>\n      <td>15.2</td>\n    </tr>\n    <tr>\n      <th>5320</th>\n      <td>34979</td>\n      <td>종합쿠키</td>\n      <td>과자</td>\n      <td>쿠키</td>\n      <td></td>\n      <td>100</td>\n      <td>g</td>\n      <td>130</td>\n      <td>-</td>\n      <td>57.0</td>\n      <td>130.0</td>\n      <td>57.0</td>\n    </tr>\n    <tr>\n      <th>5329</th>\n      <td>34988</td>\n      <td>종합모나카</td>\n      <td>과자</td>\n      <td>쿠키</td>\n      <td></td>\n      <td>100</td>\n      <td>g</td>\n      <td>350</td>\n      <td>-</td>\n      <td>48.0</td>\n      <td>350.0</td>\n      <td>48.0</td>\n    </tr>\n    <tr>\n      <th>5331</th>\n      <td>34990</td>\n      <td>초이스엘 종합모나카</td>\n      <td>과자</td>\n      <td>쿠키</td>\n      <td></td>\n      <td>100</td>\n      <td>g</td>\n      <td>350</td>\n      <td>-</td>\n      <td>48.0</td>\n      <td>350.0</td>\n      <td>48.0</td>\n    </tr>\n    <tr>\n      <th>...</th>\n      <td>...</td>\n      <td>...</td>\n      <td>...</td>\n      <td>...</td>\n      <td>...</td>\n      <td>...</td>\n      <td>...</td>\n      <td>...</td>\n      <td>...</td>\n      <td>...</td>\n      <td>...</td>\n      <td>...</td>\n    </tr>\n    <tr>\n      <th>33155</th>\n      <td>25648</td>\n      <td>사쿠라향 모나카</td>\n      <td>과자</td>\n      <td>쿠키</td>\n      <td></td>\n      <td>100</td>\n      <td>g</td>\n      <td>4500</td>\n      <td>-</td>\n      <td>70.0</td>\n      <td>4500.0</td>\n      <td>70.0</td>\n    </tr>\n    <tr>\n      <th>33157</th>\n      <td>25651</td>\n      <td>삼색모나카</td>\n      <td>과자</td>\n      <td>쿠키</td>\n      <td></td>\n      <td>100</td>\n      <td>g</td>\n      <td>220</td>\n      <td>-</td>\n      <td>17.0</td>\n      <td>220.0</td>\n      <td>17.0</td>\n    </tr>\n    <tr>\n      <th>33160</th>\n      <td>25723</td>\n      <td>아지고코로모나카</td>\n      <td>과자</td>\n      <td>쿠키</td>\n      <td></td>\n      <td>100</td>\n      <td>g</td>\n      <td>300</td>\n      <td>-</td>\n      <td>67.0</td>\n      <td>300.0</td>\n      <td>67.0</td>\n    </tr>\n    <tr>\n      <th>33161</th>\n      <td>25724</td>\n      <td>믹스 모나카</td>\n      <td>과자</td>\n      <td>쿠키</td>\n      <td></td>\n      <td>100</td>\n      <td>g</td>\n      <td>230</td>\n      <td>-</td>\n      <td>34.0</td>\n      <td>230.0</td>\n      <td>34.0</td>\n    </tr>\n    <tr>\n      <th>33171</th>\n      <td>26341</td>\n      <td>삼미모나카</td>\n      <td>과자</td>\n      <td>쿠키</td>\n      <td></td>\n      <td>100</td>\n      <td>g</td>\n      <td>130</td>\n      <td>-</td>\n      <td>46.0</td>\n      <td>130.0</td>\n      <td>46.0</td>\n    </tr>\n  </tbody>\n</table>\n<p>374 rows × 12 columns</p>\n</div>"
     },
     "execution_count": 440,
     "metadata": {},
     "output_type": "execute_result"
    }
   ],
   "source": [
    "sheet.loc[(sheet['중분류'] == '곡류&견과류'), '중분류'] = '쿠키'\n",
    "sheet.loc[(sheet['중분류'] == '쿠키'), '소분류'] = ''\n",
    "\n",
    "\n",
    "초콜릿쿠키 = [\"초코\", \"가나슈\", \"브라우니\", \"쵸코\", \"초콜릿\", '쇼콜라', '초콜렛']\n",
    "통밀쿠키 = [\"통밀\", \"밀\"]\n",
    "곡물쿠키 = [\"쌀\", \"흑미\", \"보리\", \"오곡\", \"깨\", \"콩\", '현미']\n",
    "옥수수쿠키 = [\"옥수수\", \"콘\"]\n",
    "땅콩쿠키 = [\"땅콩\", \"콩\", \"피넛\"]\n",
    "견과쿠키 = [\"아몬드\", \"호두\", \"헤이즐넛\", \"잣\", '피칸', '월넛']\n",
    "사과쿠키 = [\"사과\", \"애플\"]\n",
    "야채쿠키 = [\"야채\", \"채\"]\n",
    "후추쿠키 = [\"후추\", \"페퍼\"]\n",
    "녹차쿠키 = [\"녹차\", \"말차\"]\n",
    "홍차쿠키 = [\"홍차\"]\n",
    "카라멜쿠키 = [\"카라멜\", \"캐러멜\"]\n",
    "블루베리쿠키 = [\"블루베리\", \"크랜베리\"]\n",
    "코코넛쿠키 = [\"코코넛\"]\n",
    "레몬쿠키 = [\"레몬\"]\n",
    "한라봉쿠키 = [\"한라봉\"]\n",
    "기타과일쿠키 = [\"딸기\", \"리치\", \"비트\", \"유자\", \"오렌지\", \"매실\", '크린베']\n",
    "야채쿠키 = [\"단호박\", \"고구마\", \"호박\", \"당근\", \"양파\", \"마늘\", \"야채\", \"채\"]\n",
    "치즈쿠키 = [\"치즈\"]\n",
    "머랭쿠키 = [\"머랭\"]\n",
    "비스킷 = [\"비스킷\"]\n",
    "버터쿠키 = [\"버터\"]\n",
    "오레오쿠키 = [\"오레오\"]\n",
    "\n",
    "\n",
    "\n",
    "쿠키종류 = {\n",
    "\"초콜릿쿠키\":초콜릿쿠키,\n",
    "\"통밀쿠키\":통밀쿠키,\n",
    "\"곡물쿠키\":곡물쿠키,\n",
    "\"옥수수쿠키\":옥수수쿠키,\n",
    "\"땅콩쿠키\":땅콩쿠키,\n",
    "\"견과쿠키\":견과쿠키,\n",
    "\"사과쿠키\":사과쿠키,\n",
    "\"야채쿠키\":야채쿠키,\n",
    "\"후추쿠키\":후추쿠키,\n",
    "\"녹차쿠키\":녹차쿠키,\n",
    "\"홍차쿠키\":홍차쿠키,\n",
    "\"카라멜쿠키\":카라멜쿠키,\n",
    "\"블루베리쿠키\":블루베리쿠키,\n",
    "\"코코넛쿠키\":코코넛쿠키,\n",
    "\"레몬쿠키\":레몬쿠키,\n",
    "\"한라봉쿠키\":한라봉쿠키,\n",
    "\"기타과일쿠키\":기타과일쿠키,\n",
    "\"야채쿠키\":야채쿠키,\n",
    "\"치즈쿠키\":치즈쿠키,\n",
    "\"머랭쿠키\":머랭쿠키,\n",
    "\"비스킷\":비스킷,\n",
    "\"버터쿠키\":버터쿠키,\n",
    "\"오레오쿠키\":오레오쿠키,\n",
    "}\n",
    "\n",
    "seperated_category('쿠키', 쿠키종류)\n",
    "\n",
    "sheet.loc[(sheet['중분류'] == '쿠키') & (sheet['소분류'] == ''), :]"
   ],
   "metadata": {
    "collapsed": false,
    "pycharm": {
     "name": "#%%\n"
    }
   }
  },
  {
   "cell_type": "code",
   "execution_count": 441,
   "outputs": [],
   "source": [
    "sheet.loc[(sheet['중분류'] == '쿠키') & (sheet['식품명'].str.contains('모나카')), '중분류'] = '기성품'\n",
    "sheet.loc[(sheet['중분류'] == '기성품') & (sheet['식품명'].str.contains('모나카')), '소분류'] = '모나카'"
   ],
   "metadata": {
    "collapsed": false,
    "pycharm": {
     "name": "#%%\n"
    }
   }
  },
  {
   "cell_type": "code",
   "execution_count": 442,
   "outputs": [
    {
     "data": {
      "text/plain": "Empty DataFrame\nColumns: [No, 식품명, 대분류, 중분류, 소분류, 1회 제공량, 용량, 총내용량(g), 총내용량(ml), 총당류(g), 총내용량, 단위용량 대비 설탕 비율]\nIndex: []",
      "text/html": "<div>\n<style scoped>\n    .dataframe tbody tr th:only-of-type {\n        vertical-align: middle;\n    }\n\n    .dataframe tbody tr th {\n        vertical-align: top;\n    }\n\n    .dataframe thead th {\n        text-align: right;\n    }\n</style>\n<table border=\"1\" class=\"dataframe\">\n  <thead>\n    <tr style=\"text-align: right;\">\n      <th></th>\n      <th>No</th>\n      <th>식품명</th>\n      <th>대분류</th>\n      <th>중분류</th>\n      <th>소분류</th>\n      <th>1회 제공량</th>\n      <th>용량</th>\n      <th>총내용량(g)</th>\n      <th>총내용량(ml)</th>\n      <th>총당류(g)</th>\n      <th>총내용량</th>\n      <th>단위용량 대비 설탕 비율</th>\n    </tr>\n  </thead>\n  <tbody>\n  </tbody>\n</table>\n</div>"
     },
     "execution_count": 442,
     "metadata": {},
     "output_type": "execute_result"
    }
   ],
   "source": [
    "sheet.loc[(sheet['대분류'] == '과자') & (sheet['식품명'].str.contains('약과')), '중분류'] = '전통과자'\n",
    "sheet.loc[(sheet['대분류'] == '과자') & (sheet['식품명'].str.contains('쌀과자')), '중분류'] = '전통과자'\n",
    "sheet.loc[(sheet['대분류'] == '과자') & (sheet['식품명'].str.contains('건빵')), '중분류'] = '전통과자'\n",
    "\n",
    "sheet.loc[(sheet['중분류'] == '전통과자') & (sheet['소분류'] == ''), '소분류'] = ''\n",
    "\n",
    "약과 = ['약과']\n",
    "쌀과자 = ['쌀과자']\n",
    "건빵 = ['건빵']\n",
    "\n",
    "전통쿠키종류 = {\n",
    "\"약과\":약과,\n",
    "\"쌀과자\":쌀과자,\n",
    "\"건빵\":건빵,\n",
    "}\n",
    "\n",
    "seperated_category('전통과자', 전통쿠키종류)\n",
    "\n",
    "sheet.loc[(sheet['중분류'] == '전통과자') & (sheet['소분류'] == ''), :]"
   ],
   "metadata": {
    "collapsed": false,
    "pycharm": {
     "name": "#%%\n"
    }
   }
  },
  {
   "cell_type": "code",
   "execution_count": 442,
   "outputs": [],
   "source": [],
   "metadata": {
    "collapsed": false,
    "pycharm": {
     "name": "#%%\n"
    }
   }
  },
  {
   "cell_type": "code",
   "execution_count": 443,
   "outputs": [
    {
     "data": {
      "text/plain": "          No                      식품명 대분류   중분류 소분류  1회 제공량 용량 총내용량(g)  \\\n5255   34899                     땅콩전병  과자  전통과자  전병     100  g     330   \n5256   34900                     참깨전병  과자  전통과자  전병     100  g     330   \n5257   34901                     종합전병  과자  전통과자  전병     100  g     150   \n5267   34911                     개성약과  과자  전통과자  약과     100  g     120   \n5269   34913                  NEW튀김건빵  과자  전통과자  건빵     100  g     270   \n...      ...                      ...  ..   ...  ..     ... ..     ...   \n33172  82912  3mm 황금비율로 바삭하고 고소한 전병세트  과자  전통과자  전병     100  g     270   \n33173  82924                     월병명가  과자  전통과자  월병      70  g     840   \n33177  84314     우리밀전병세트(우리밀로만든검은깨전병)  과자  전통과자  전병      27  g      27   \n33178  84315      우리밀전병세트(우리밀로만든땅콩전병)  과자  전통과자  전병      27  g      27   \n33179  84316      우리밀전병세트(우리밀로만든김맛전병)  과자  전통과자  전병      27  g      27   \n\n      총내용량(ml)  총당류(g)   총내용량  단위용량 대비 설탕 비율  \n5255         -   37.00  330.0           37.0  \n5256         -   35.00  330.0           35.0  \n5257         -   26.00  150.0           26.0  \n5267         -    9.05  120.0            9.0  \n5269         -   15.20  270.0           15.2  \n...        ...     ...    ...            ...  \n33172        -   26.00  270.0           26.0  \n33173        -   20.00  840.0           28.6  \n33177        -   11.00   27.0           40.7  \n33178        -    9.00   27.0           33.3  \n33179        -   10.00   27.0           37.0  \n\n[480 rows x 12 columns]",
      "text/html": "<div>\n<style scoped>\n    .dataframe tbody tr th:only-of-type {\n        vertical-align: middle;\n    }\n\n    .dataframe tbody tr th {\n        vertical-align: top;\n    }\n\n    .dataframe thead th {\n        text-align: right;\n    }\n</style>\n<table border=\"1\" class=\"dataframe\">\n  <thead>\n    <tr style=\"text-align: right;\">\n      <th></th>\n      <th>No</th>\n      <th>식품명</th>\n      <th>대분류</th>\n      <th>중분류</th>\n      <th>소분류</th>\n      <th>1회 제공량</th>\n      <th>용량</th>\n      <th>총내용량(g)</th>\n      <th>총내용량(ml)</th>\n      <th>총당류(g)</th>\n      <th>총내용량</th>\n      <th>단위용량 대비 설탕 비율</th>\n    </tr>\n  </thead>\n  <tbody>\n    <tr>\n      <th>5255</th>\n      <td>34899</td>\n      <td>땅콩전병</td>\n      <td>과자</td>\n      <td>전통과자</td>\n      <td>전병</td>\n      <td>100</td>\n      <td>g</td>\n      <td>330</td>\n      <td>-</td>\n      <td>37.00</td>\n      <td>330.0</td>\n      <td>37.0</td>\n    </tr>\n    <tr>\n      <th>5256</th>\n      <td>34900</td>\n      <td>참깨전병</td>\n      <td>과자</td>\n      <td>전통과자</td>\n      <td>전병</td>\n      <td>100</td>\n      <td>g</td>\n      <td>330</td>\n      <td>-</td>\n      <td>35.00</td>\n      <td>330.0</td>\n      <td>35.0</td>\n    </tr>\n    <tr>\n      <th>5257</th>\n      <td>34901</td>\n      <td>종합전병</td>\n      <td>과자</td>\n      <td>전통과자</td>\n      <td>전병</td>\n      <td>100</td>\n      <td>g</td>\n      <td>150</td>\n      <td>-</td>\n      <td>26.00</td>\n      <td>150.0</td>\n      <td>26.0</td>\n    </tr>\n    <tr>\n      <th>5267</th>\n      <td>34911</td>\n      <td>개성약과</td>\n      <td>과자</td>\n      <td>전통과자</td>\n      <td>약과</td>\n      <td>100</td>\n      <td>g</td>\n      <td>120</td>\n      <td>-</td>\n      <td>9.05</td>\n      <td>120.0</td>\n      <td>9.0</td>\n    </tr>\n    <tr>\n      <th>5269</th>\n      <td>34913</td>\n      <td>NEW튀김건빵</td>\n      <td>과자</td>\n      <td>전통과자</td>\n      <td>건빵</td>\n      <td>100</td>\n      <td>g</td>\n      <td>270</td>\n      <td>-</td>\n      <td>15.20</td>\n      <td>270.0</td>\n      <td>15.2</td>\n    </tr>\n    <tr>\n      <th>...</th>\n      <td>...</td>\n      <td>...</td>\n      <td>...</td>\n      <td>...</td>\n      <td>...</td>\n      <td>...</td>\n      <td>...</td>\n      <td>...</td>\n      <td>...</td>\n      <td>...</td>\n      <td>...</td>\n      <td>...</td>\n    </tr>\n    <tr>\n      <th>33172</th>\n      <td>82912</td>\n      <td>3mm 황금비율로 바삭하고 고소한 전병세트</td>\n      <td>과자</td>\n      <td>전통과자</td>\n      <td>전병</td>\n      <td>100</td>\n      <td>g</td>\n      <td>270</td>\n      <td>-</td>\n      <td>26.00</td>\n      <td>270.0</td>\n      <td>26.0</td>\n    </tr>\n    <tr>\n      <th>33173</th>\n      <td>82924</td>\n      <td>월병명가</td>\n      <td>과자</td>\n      <td>전통과자</td>\n      <td>월병</td>\n      <td>70</td>\n      <td>g</td>\n      <td>840</td>\n      <td>-</td>\n      <td>20.00</td>\n      <td>840.0</td>\n      <td>28.6</td>\n    </tr>\n    <tr>\n      <th>33177</th>\n      <td>84314</td>\n      <td>우리밀전병세트(우리밀로만든검은깨전병)</td>\n      <td>과자</td>\n      <td>전통과자</td>\n      <td>전병</td>\n      <td>27</td>\n      <td>g</td>\n      <td>27</td>\n      <td>-</td>\n      <td>11.00</td>\n      <td>27.0</td>\n      <td>40.7</td>\n    </tr>\n    <tr>\n      <th>33178</th>\n      <td>84315</td>\n      <td>우리밀전병세트(우리밀로만든땅콩전병)</td>\n      <td>과자</td>\n      <td>전통과자</td>\n      <td>전병</td>\n      <td>27</td>\n      <td>g</td>\n      <td>27</td>\n      <td>-</td>\n      <td>9.00</td>\n      <td>27.0</td>\n      <td>33.3</td>\n    </tr>\n    <tr>\n      <th>33179</th>\n      <td>84316</td>\n      <td>우리밀전병세트(우리밀로만든김맛전병)</td>\n      <td>과자</td>\n      <td>전통과자</td>\n      <td>전병</td>\n      <td>27</td>\n      <td>g</td>\n      <td>27</td>\n      <td>-</td>\n      <td>10.00</td>\n      <td>27.0</td>\n      <td>37.0</td>\n    </tr>\n  </tbody>\n</table>\n<p>480 rows × 12 columns</p>\n</div>"
     },
     "execution_count": 443,
     "metadata": {},
     "output_type": "execute_result"
    }
   ],
   "source": [
    "sheet.loc[(sheet['중분류'] == '전통과자'), :]"
   ],
   "metadata": {
    "collapsed": false,
    "pycharm": {
     "name": "#%%\n"
    }
   }
  },
  {
   "cell_type": "code",
   "execution_count": 444,
   "outputs": [
    {
     "data": {
      "text/plain": "          No                 식품명 대분류 중분류 소분류  1회 제공량 용량 총내용량(g) 총내용량(ml)  \\\n5178   26409  피스타치오 칸투치 (153052)  과자  쿠키         100  g     200        -   \n5320   34979                종합쿠키  과자  쿠키         100  g     130        -   \n5358   35019                쿠키크럼  과자  쿠키         100  g     800        -   \n5359   35020               쿠키파우더  과자  쿠키         100  g     800        -   \n5458   35131         쿠키 스푼 멀티그레인  과자  쿠키         100  g     240        -   \n...      ...                 ...  ..  ..  ..     ... ..     ...      ...   \n31674  84313            랑그드샤쿠키세트  과자  쿠키         100  g     100        -   \n31675  84317               쿠키컬렉션  과자  쿠키         100  g     100        -   \n31676  84318               쿠키블라썸  과자  쿠키         100  g     100        -   \n31679  84551           마카다미아넛 쿠키  과자  쿠키          35  g      35        -   \n31680  84552             록키로드 쿠키  과자  쿠키          35  g      35        -   \n\n       총당류(g)   총내용량  단위용량 대비 설탕 비율  \n5178     28.0  200.0           28.0  \n5320     57.0  130.0           57.0  \n5358     27.0  800.0           27.0  \n5359     27.0  800.0           27.0  \n5458     18.0  240.0           18.0  \n...       ...    ...            ...  \n31674    39.0  100.0           39.0  \n31675    22.0  100.0           22.0  \n31676    23.0  100.0           23.0  \n31679    11.0   35.0           31.4  \n31680    14.0   35.0           40.0  \n\n[328 rows x 12 columns]",
      "text/html": "<div>\n<style scoped>\n    .dataframe tbody tr th:only-of-type {\n        vertical-align: middle;\n    }\n\n    .dataframe tbody tr th {\n        vertical-align: top;\n    }\n\n    .dataframe thead th {\n        text-align: right;\n    }\n</style>\n<table border=\"1\" class=\"dataframe\">\n  <thead>\n    <tr style=\"text-align: right;\">\n      <th></th>\n      <th>No</th>\n      <th>식품명</th>\n      <th>대분류</th>\n      <th>중분류</th>\n      <th>소분류</th>\n      <th>1회 제공량</th>\n      <th>용량</th>\n      <th>총내용량(g)</th>\n      <th>총내용량(ml)</th>\n      <th>총당류(g)</th>\n      <th>총내용량</th>\n      <th>단위용량 대비 설탕 비율</th>\n    </tr>\n  </thead>\n  <tbody>\n    <tr>\n      <th>5178</th>\n      <td>26409</td>\n      <td>피스타치오 칸투치 (153052)</td>\n      <td>과자</td>\n      <td>쿠키</td>\n      <td></td>\n      <td>100</td>\n      <td>g</td>\n      <td>200</td>\n      <td>-</td>\n      <td>28.0</td>\n      <td>200.0</td>\n      <td>28.0</td>\n    </tr>\n    <tr>\n      <th>5320</th>\n      <td>34979</td>\n      <td>종합쿠키</td>\n      <td>과자</td>\n      <td>쿠키</td>\n      <td></td>\n      <td>100</td>\n      <td>g</td>\n      <td>130</td>\n      <td>-</td>\n      <td>57.0</td>\n      <td>130.0</td>\n      <td>57.0</td>\n    </tr>\n    <tr>\n      <th>5358</th>\n      <td>35019</td>\n      <td>쿠키크럼</td>\n      <td>과자</td>\n      <td>쿠키</td>\n      <td></td>\n      <td>100</td>\n      <td>g</td>\n      <td>800</td>\n      <td>-</td>\n      <td>27.0</td>\n      <td>800.0</td>\n      <td>27.0</td>\n    </tr>\n    <tr>\n      <th>5359</th>\n      <td>35020</td>\n      <td>쿠키파우더</td>\n      <td>과자</td>\n      <td>쿠키</td>\n      <td></td>\n      <td>100</td>\n      <td>g</td>\n      <td>800</td>\n      <td>-</td>\n      <td>27.0</td>\n      <td>800.0</td>\n      <td>27.0</td>\n    </tr>\n    <tr>\n      <th>5458</th>\n      <td>35131</td>\n      <td>쿠키 스푼 멀티그레인</td>\n      <td>과자</td>\n      <td>쿠키</td>\n      <td></td>\n      <td>100</td>\n      <td>g</td>\n      <td>240</td>\n      <td>-</td>\n      <td>18.0</td>\n      <td>240.0</td>\n      <td>18.0</td>\n    </tr>\n    <tr>\n      <th>...</th>\n      <td>...</td>\n      <td>...</td>\n      <td>...</td>\n      <td>...</td>\n      <td>...</td>\n      <td>...</td>\n      <td>...</td>\n      <td>...</td>\n      <td>...</td>\n      <td>...</td>\n      <td>...</td>\n      <td>...</td>\n    </tr>\n    <tr>\n      <th>31674</th>\n      <td>84313</td>\n      <td>랑그드샤쿠키세트</td>\n      <td>과자</td>\n      <td>쿠키</td>\n      <td></td>\n      <td>100</td>\n      <td>g</td>\n      <td>100</td>\n      <td>-</td>\n      <td>39.0</td>\n      <td>100.0</td>\n      <td>39.0</td>\n    </tr>\n    <tr>\n      <th>31675</th>\n      <td>84317</td>\n      <td>쿠키컬렉션</td>\n      <td>과자</td>\n      <td>쿠키</td>\n      <td></td>\n      <td>100</td>\n      <td>g</td>\n      <td>100</td>\n      <td>-</td>\n      <td>22.0</td>\n      <td>100.0</td>\n      <td>22.0</td>\n    </tr>\n    <tr>\n      <th>31676</th>\n      <td>84318</td>\n      <td>쿠키블라썸</td>\n      <td>과자</td>\n      <td>쿠키</td>\n      <td></td>\n      <td>100</td>\n      <td>g</td>\n      <td>100</td>\n      <td>-</td>\n      <td>23.0</td>\n      <td>100.0</td>\n      <td>23.0</td>\n    </tr>\n    <tr>\n      <th>31679</th>\n      <td>84551</td>\n      <td>마카다미아넛 쿠키</td>\n      <td>과자</td>\n      <td>쿠키</td>\n      <td></td>\n      <td>35</td>\n      <td>g</td>\n      <td>35</td>\n      <td>-</td>\n      <td>11.0</td>\n      <td>35.0</td>\n      <td>31.4</td>\n    </tr>\n    <tr>\n      <th>31680</th>\n      <td>84552</td>\n      <td>록키로드 쿠키</td>\n      <td>과자</td>\n      <td>쿠키</td>\n      <td></td>\n      <td>35</td>\n      <td>g</td>\n      <td>35</td>\n      <td>-</td>\n      <td>14.0</td>\n      <td>35.0</td>\n      <td>40.0</td>\n    </tr>\n  </tbody>\n</table>\n<p>328 rows × 12 columns</p>\n</div>"
     },
     "execution_count": 444,
     "metadata": {},
     "output_type": "execute_result"
    }
   ],
   "source": [
    "sheet.loc[(sheet['중분류'] == '쿠키') & (sheet['소분류'] == ''), :]"
   ],
   "metadata": {
    "collapsed": false,
    "pycharm": {
     "name": "#%%\n"
    }
   }
  },
  {
   "cell_type": "code",
   "execution_count": 445,
   "outputs": [],
   "source": [
    "erase = list(sheet.loc[(sheet['중분류'] == '쿠키') & (sheet['소분류'] == \"\"), :].index)\n",
    "for value in erase:\n",
    "    sheet = sheet.drop(value, axis=0)"
   ],
   "metadata": {
    "collapsed": false,
    "pycharm": {
     "name": "#%%\n"
    }
   }
  },
  {
   "cell_type": "code",
   "execution_count": 446,
   "outputs": [
    {
     "name": "stdout",
     "output_type": "stream",
     "text": [
      "{'견과쿠키': 113,\n",
      " '곡물쿠키': 107,\n",
      " '기타과일쿠키': 54,\n",
      " '녹차쿠키': 23,\n",
      " '땅콩쿠키': 36,\n",
      " '레몬쿠키': 14,\n",
      " '머랭쿠키': 54,\n",
      " '버터쿠키': 98,\n",
      " '블루베리쿠키': 52,\n",
      " '비스킷': 176,\n",
      " '사과쿠키': 25,\n",
      " '야채쿠키': 54,\n",
      " '오레오쿠키': 31,\n",
      " '옥수수쿠키': 13,\n",
      " '초콜릿쿠키': 246,\n",
      " '치즈쿠키': 56,\n",
      " '카라멜쿠키': 9,\n",
      " '코코넛쿠키': 33,\n",
      " '통밀쿠키': 95,\n",
      " '한라봉쿠키': 4,\n",
      " '홍차쿠키': 3,\n",
      " '후추쿠키': 2}\n"
     ]
    }
   ],
   "source": [
    "pp.pprint(category_count_fn('쿠키'))"
   ],
   "metadata": {
    "collapsed": false,
    "pycharm": {
     "name": "#%%\n"
    }
   }
  },
  {
   "cell_type": "code",
   "execution_count": 447,
   "outputs": [],
   "source": [
    "sheet.loc[(sheet['대분류'] == '과자') & (sheet['중분류'] == '파이'), '소분류'] = '파이'\n",
    "sheet.loc[(sheet['대분류'] == '과자') & (sheet['중분류'] == '파이'), '중분류'] = '기성품'"
   ],
   "metadata": {
    "collapsed": false,
    "pycharm": {
     "name": "#%%\n"
    }
   }
  },
  {
   "cell_type": "code",
   "execution_count": 448,
   "outputs": [
    {
     "data": {
      "text/plain": "Empty DataFrame\nColumns: [No, 식품명, 대분류, 중분류, 소분류, 1회 제공량, 용량, 총내용량(g), 총내용량(ml), 총당류(g), 총내용량, 단위용량 대비 설탕 비율]\nIndex: []",
      "text/html": "<div>\n<style scoped>\n    .dataframe tbody tr th:only-of-type {\n        vertical-align: middle;\n    }\n\n    .dataframe tbody tr th {\n        vertical-align: top;\n    }\n\n    .dataframe thead th {\n        text-align: right;\n    }\n</style>\n<table border=\"1\" class=\"dataframe\">\n  <thead>\n    <tr style=\"text-align: right;\">\n      <th></th>\n      <th>No</th>\n      <th>식품명</th>\n      <th>대분류</th>\n      <th>중분류</th>\n      <th>소분류</th>\n      <th>1회 제공량</th>\n      <th>용량</th>\n      <th>총내용량(g)</th>\n      <th>총내용량(ml)</th>\n      <th>총당류(g)</th>\n      <th>총내용량</th>\n      <th>단위용량 대비 설탕 비율</th>\n    </tr>\n  </thead>\n  <tbody>\n  </tbody>\n</table>\n</div>"
     },
     "execution_count": 448,
     "metadata": {},
     "output_type": "execute_result"
    }
   ],
   "source": [
    "sheet.loc[(sheet['대분류'] == '과자') & (sheet['중분류'] == '곡류&견과류'), :]"
   ],
   "metadata": {
    "collapsed": false,
    "pycharm": {
     "name": "#%%\n"
    }
   }
  },
  {
   "cell_type": "code",
   "execution_count": 449,
   "outputs": [],
   "source": [
    "# 곡류 = ['오트밀', '찹쌀', '현미', '건빵']\n",
    "# 견과류 = ['아몬드', '월넛', '피칸', '피스타치오']\n",
    "#\n",
    "# for value in 곡류:\n",
    "#     sheet.loc[(sheet['중분류'] == '곡류&견과류') & (sheet['식품명'].str.contains(value)), '소분류'] = '곡류'\n",
    "# for value in 견과류:\n",
    "#     sheet.loc[(sheet['중분류'] == '곡류&견과류') & (sheet['식품명'].str.contains(value)), '소분류'] = '견과류'\n",
    "#\n",
    "# sheet.loc[(sheet['대분류'] == '과자') & (sheet['중분류'] == '곡류&견과류'), '중분류'] = '쿠키'"
   ],
   "metadata": {
    "collapsed": false,
    "pycharm": {
     "name": "#%%\n"
    }
   }
  },
  {
   "cell_type": "code",
   "execution_count": 450,
   "outputs": [
    {
     "data": {
      "text/plain": "array(['기성품', '마카롱', '쿠키', '전통과자', '팝콘'], dtype=object)"
     },
     "execution_count": 450,
     "metadata": {},
     "output_type": "execute_result"
    }
   ],
   "source": [
    "sheet.loc[(sheet['대분류'] == '과자'), '중분류'].unique()"
   ],
   "metadata": {
    "collapsed": false,
    "pycharm": {
     "name": "#%%\n"
    }
   }
  },
  {
   "cell_type": "code",
   "execution_count": 451,
   "outputs": [],
   "source": [
    "# sheet.loc[(sheet['중분류'] == '마카롱') & (sheet['식품명'].str.contains('마카롱')), '소분류'] = '마카롱'\n",
    "# sheet.loc[(sheet['중분류'] == '마카롱') & (sheet['식품명'].str.contains('뚱카롱')), '소분류'] = '마카롱'\n",
    "\n",
    "sheet.loc[(sheet['대분류'] == '과자') & (sheet['중분류'] == '마카롱'), '중분류'] = '디저트'\n",
    "sheet.loc[(sheet['대분류'] == '과자') & (sheet['중분류'] == '디저트'), '대분류'] = '베이커리'"
   ],
   "metadata": {
    "collapsed": false,
    "pycharm": {
     "name": "#%%\n"
    }
   }
  },
  {
   "cell_type": "code",
   "execution_count": 452,
   "outputs": [
    {
     "data": {
      "text/plain": "          No               식품명   대분류  중분류  소분류  1회 제공량 용량 총내용량(g) 총내용량(ml)  \\\n10832  83991           딸기마카롱도넛  베이커리  디저트  마카롱      52  g      52        -   \n10834  83993           초코마카롱도넛  베이커리  디저트  마카롱      52  g      52        -   \n13916  31991         자이언트레몬마카롱  베이커리  디저트  마카롱      55  g      55        -   \n14010  32140          크림치즈 마카롱  베이커리  디저트  마카롱      25  g      25        -   \n14568  33029           달콤폭발마카롱  베이커리  디저트  마카롱      70  g      70        -   \n...      ...               ...   ...  ...  ...     ... ..     ...      ...   \n29501  46524             마카롱케익  베이커리  디저트  마카롱      70  g     520        -   \n29929  57844            마카롱케이크  베이커리  디저트  마카롱     150  g     150        -   \n30241  65467  레드벨벳 마카롱 케이크 DIY  베이커리  디저트  마카롱      75  g     750        -   \n30479  82844            마카롱쇼콜라  베이커리  디저트  마카롱      70  g     480        -   \n30502  82889         딸기마카롱 케이크  베이커리  디저트  마카롱      70  g     500        -   \n\n       총당류(g)   총내용량  단위용량 대비 설탕 비율  \n10832     3.0   52.0            5.8  \n10834     3.0   52.0            5.8  \n13916    11.0   55.0           20.0  \n14010     7.0   25.0           28.0  \n14568    14.0   70.0           20.0  \n...       ...    ...            ...  \n29501    13.0  520.0           18.6  \n29929    25.0  150.0           16.7  \n30241    11.0  750.0           14.7  \n30479    17.0  480.0           24.3  \n30502    16.0  500.0           22.9  \n\n[322 rows x 12 columns]",
      "text/html": "<div>\n<style scoped>\n    .dataframe tbody tr th:only-of-type {\n        vertical-align: middle;\n    }\n\n    .dataframe tbody tr th {\n        vertical-align: top;\n    }\n\n    .dataframe thead th {\n        text-align: right;\n    }\n</style>\n<table border=\"1\" class=\"dataframe\">\n  <thead>\n    <tr style=\"text-align: right;\">\n      <th></th>\n      <th>No</th>\n      <th>식품명</th>\n      <th>대분류</th>\n      <th>중분류</th>\n      <th>소분류</th>\n      <th>1회 제공량</th>\n      <th>용량</th>\n      <th>총내용량(g)</th>\n      <th>총내용량(ml)</th>\n      <th>총당류(g)</th>\n      <th>총내용량</th>\n      <th>단위용량 대비 설탕 비율</th>\n    </tr>\n  </thead>\n  <tbody>\n    <tr>\n      <th>10832</th>\n      <td>83991</td>\n      <td>딸기마카롱도넛</td>\n      <td>베이커리</td>\n      <td>디저트</td>\n      <td>마카롱</td>\n      <td>52</td>\n      <td>g</td>\n      <td>52</td>\n      <td>-</td>\n      <td>3.0</td>\n      <td>52.0</td>\n      <td>5.8</td>\n    </tr>\n    <tr>\n      <th>10834</th>\n      <td>83993</td>\n      <td>초코마카롱도넛</td>\n      <td>베이커리</td>\n      <td>디저트</td>\n      <td>마카롱</td>\n      <td>52</td>\n      <td>g</td>\n      <td>52</td>\n      <td>-</td>\n      <td>3.0</td>\n      <td>52.0</td>\n      <td>5.8</td>\n    </tr>\n    <tr>\n      <th>13916</th>\n      <td>31991</td>\n      <td>자이언트레몬마카롱</td>\n      <td>베이커리</td>\n      <td>디저트</td>\n      <td>마카롱</td>\n      <td>55</td>\n      <td>g</td>\n      <td>55</td>\n      <td>-</td>\n      <td>11.0</td>\n      <td>55.0</td>\n      <td>20.0</td>\n    </tr>\n    <tr>\n      <th>14010</th>\n      <td>32140</td>\n      <td>크림치즈 마카롱</td>\n      <td>베이커리</td>\n      <td>디저트</td>\n      <td>마카롱</td>\n      <td>25</td>\n      <td>g</td>\n      <td>25</td>\n      <td>-</td>\n      <td>7.0</td>\n      <td>25.0</td>\n      <td>28.0</td>\n    </tr>\n    <tr>\n      <th>14568</th>\n      <td>33029</td>\n      <td>달콤폭발마카롱</td>\n      <td>베이커리</td>\n      <td>디저트</td>\n      <td>마카롱</td>\n      <td>70</td>\n      <td>g</td>\n      <td>70</td>\n      <td>-</td>\n      <td>14.0</td>\n      <td>70.0</td>\n      <td>20.0</td>\n    </tr>\n    <tr>\n      <th>...</th>\n      <td>...</td>\n      <td>...</td>\n      <td>...</td>\n      <td>...</td>\n      <td>...</td>\n      <td>...</td>\n      <td>...</td>\n      <td>...</td>\n      <td>...</td>\n      <td>...</td>\n      <td>...</td>\n      <td>...</td>\n    </tr>\n    <tr>\n      <th>29501</th>\n      <td>46524</td>\n      <td>마카롱케익</td>\n      <td>베이커리</td>\n      <td>디저트</td>\n      <td>마카롱</td>\n      <td>70</td>\n      <td>g</td>\n      <td>520</td>\n      <td>-</td>\n      <td>13.0</td>\n      <td>520.0</td>\n      <td>18.6</td>\n    </tr>\n    <tr>\n      <th>29929</th>\n      <td>57844</td>\n      <td>마카롱케이크</td>\n      <td>베이커리</td>\n      <td>디저트</td>\n      <td>마카롱</td>\n      <td>150</td>\n      <td>g</td>\n      <td>150</td>\n      <td>-</td>\n      <td>25.0</td>\n      <td>150.0</td>\n      <td>16.7</td>\n    </tr>\n    <tr>\n      <th>30241</th>\n      <td>65467</td>\n      <td>레드벨벳 마카롱 케이크 DIY</td>\n      <td>베이커리</td>\n      <td>디저트</td>\n      <td>마카롱</td>\n      <td>75</td>\n      <td>g</td>\n      <td>750</td>\n      <td>-</td>\n      <td>11.0</td>\n      <td>750.0</td>\n      <td>14.7</td>\n    </tr>\n    <tr>\n      <th>30479</th>\n      <td>82844</td>\n      <td>마카롱쇼콜라</td>\n      <td>베이커리</td>\n      <td>디저트</td>\n      <td>마카롱</td>\n      <td>70</td>\n      <td>g</td>\n      <td>480</td>\n      <td>-</td>\n      <td>17.0</td>\n      <td>480.0</td>\n      <td>24.3</td>\n    </tr>\n    <tr>\n      <th>30502</th>\n      <td>82889</td>\n      <td>딸기마카롱 케이크</td>\n      <td>베이커리</td>\n      <td>디저트</td>\n      <td>마카롱</td>\n      <td>70</td>\n      <td>g</td>\n      <td>500</td>\n      <td>-</td>\n      <td>16.0</td>\n      <td>500.0</td>\n      <td>22.9</td>\n    </tr>\n  </tbody>\n</table>\n<p>322 rows × 12 columns</p>\n</div>"
     },
     "execution_count": 452,
     "metadata": {},
     "output_type": "execute_result"
    }
   ],
   "source": [
    "sheet.loc[(sheet['대분류'] == '베이커리') & (sheet['소분류'] == '마카롱'), :]"
   ],
   "metadata": {
    "collapsed": false,
    "pycharm": {
     "name": "#%%\n"
    }
   }
  },
  {
   "cell_type": "code",
   "execution_count": 453,
   "outputs": [
    {
     "data": {
      "text/plain": "          No                        식품명 대분류  중분류  소분류  1회 제공량 용량 총내용량(g)  \\\n4906   25622                      해피 타임  과자  기성품   과자      30  g    1500   \n4907   25625                   크리스피 코코넛  과자  기성품   과자     100  g    1000   \n4908   25627                오트 25 텐 그레인  과자  기성품   과자     100  g     200   \n4909   25628                홀그레인 설타나 브란  과자  기성품   과자     100  g     750   \n4910   25634  커클랜드 시그니춰 앤더슨 피넛버터 필드 프리첼  과자  기성품   과자     100  g    1560   \n...      ...                        ...  ..  ...  ...     ... ..     ...   \n33170  26320                참쌀선과 (115G)  과자  기성품  한과류     100  g     115   \n33171  26341                      삼미모나카  과자  기성품  모나카     100  g     130   \n33174  84298            양갱세트(뚜레쥬르팥맛영양갱)  과자  기성품  한과류      40  g      40   \n33175  84299          양갱세트(뚜레쥬르고구마맛영양갱)  과자  기성품  한과류      40  g      40   \n33176  84300            양갱세트(뚜레쥬르밤맛영양갱)  과자  기성품  한과류      40  g      40   \n\n      총내용량(ml)  총당류(g)    총내용량  단위용량 대비 설탕 비율  \n4906         -     8.0  1500.0           26.7  \n4907         -    23.0  1000.0           23.0  \n4908         -    20.0   200.0           20.0  \n4909         -    26.0   750.0           26.0  \n4910         -     4.0  1560.0            4.0  \n...        ...     ...     ...            ...  \n33170        -    14.0   115.0           14.0  \n33171        -    46.0   130.0           46.0  \n33174        -     4.0    40.0           10.0  \n33175        -     6.0    40.0           15.0  \n33176        -     8.0    40.0           20.0  \n\n[4606 rows x 12 columns]",
      "text/html": "<div>\n<style scoped>\n    .dataframe tbody tr th:only-of-type {\n        vertical-align: middle;\n    }\n\n    .dataframe tbody tr th {\n        vertical-align: top;\n    }\n\n    .dataframe thead th {\n        text-align: right;\n    }\n</style>\n<table border=\"1\" class=\"dataframe\">\n  <thead>\n    <tr style=\"text-align: right;\">\n      <th></th>\n      <th>No</th>\n      <th>식품명</th>\n      <th>대분류</th>\n      <th>중분류</th>\n      <th>소분류</th>\n      <th>1회 제공량</th>\n      <th>용량</th>\n      <th>총내용량(g)</th>\n      <th>총내용량(ml)</th>\n      <th>총당류(g)</th>\n      <th>총내용량</th>\n      <th>단위용량 대비 설탕 비율</th>\n    </tr>\n  </thead>\n  <tbody>\n    <tr>\n      <th>4906</th>\n      <td>25622</td>\n      <td>해피 타임</td>\n      <td>과자</td>\n      <td>기성품</td>\n      <td>과자</td>\n      <td>30</td>\n      <td>g</td>\n      <td>1500</td>\n      <td>-</td>\n      <td>8.0</td>\n      <td>1500.0</td>\n      <td>26.7</td>\n    </tr>\n    <tr>\n      <th>4907</th>\n      <td>25625</td>\n      <td>크리스피 코코넛</td>\n      <td>과자</td>\n      <td>기성품</td>\n      <td>과자</td>\n      <td>100</td>\n      <td>g</td>\n      <td>1000</td>\n      <td>-</td>\n      <td>23.0</td>\n      <td>1000.0</td>\n      <td>23.0</td>\n    </tr>\n    <tr>\n      <th>4908</th>\n      <td>25627</td>\n      <td>오트 25 텐 그레인</td>\n      <td>과자</td>\n      <td>기성품</td>\n      <td>과자</td>\n      <td>100</td>\n      <td>g</td>\n      <td>200</td>\n      <td>-</td>\n      <td>20.0</td>\n      <td>200.0</td>\n      <td>20.0</td>\n    </tr>\n    <tr>\n      <th>4909</th>\n      <td>25628</td>\n      <td>홀그레인 설타나 브란</td>\n      <td>과자</td>\n      <td>기성품</td>\n      <td>과자</td>\n      <td>100</td>\n      <td>g</td>\n      <td>750</td>\n      <td>-</td>\n      <td>26.0</td>\n      <td>750.0</td>\n      <td>26.0</td>\n    </tr>\n    <tr>\n      <th>4910</th>\n      <td>25634</td>\n      <td>커클랜드 시그니춰 앤더슨 피넛버터 필드 프리첼</td>\n      <td>과자</td>\n      <td>기성품</td>\n      <td>과자</td>\n      <td>100</td>\n      <td>g</td>\n      <td>1560</td>\n      <td>-</td>\n      <td>4.0</td>\n      <td>1560.0</td>\n      <td>4.0</td>\n    </tr>\n    <tr>\n      <th>...</th>\n      <td>...</td>\n      <td>...</td>\n      <td>...</td>\n      <td>...</td>\n      <td>...</td>\n      <td>...</td>\n      <td>...</td>\n      <td>...</td>\n      <td>...</td>\n      <td>...</td>\n      <td>...</td>\n      <td>...</td>\n    </tr>\n    <tr>\n      <th>33170</th>\n      <td>26320</td>\n      <td>참쌀선과 (115G)</td>\n      <td>과자</td>\n      <td>기성품</td>\n      <td>한과류</td>\n      <td>100</td>\n      <td>g</td>\n      <td>115</td>\n      <td>-</td>\n      <td>14.0</td>\n      <td>115.0</td>\n      <td>14.0</td>\n    </tr>\n    <tr>\n      <th>33171</th>\n      <td>26341</td>\n      <td>삼미모나카</td>\n      <td>과자</td>\n      <td>기성품</td>\n      <td>모나카</td>\n      <td>100</td>\n      <td>g</td>\n      <td>130</td>\n      <td>-</td>\n      <td>46.0</td>\n      <td>130.0</td>\n      <td>46.0</td>\n    </tr>\n    <tr>\n      <th>33174</th>\n      <td>84298</td>\n      <td>양갱세트(뚜레쥬르팥맛영양갱)</td>\n      <td>과자</td>\n      <td>기성품</td>\n      <td>한과류</td>\n      <td>40</td>\n      <td>g</td>\n      <td>40</td>\n      <td>-</td>\n      <td>4.0</td>\n      <td>40.0</td>\n      <td>10.0</td>\n    </tr>\n    <tr>\n      <th>33175</th>\n      <td>84299</td>\n      <td>양갱세트(뚜레쥬르고구마맛영양갱)</td>\n      <td>과자</td>\n      <td>기성품</td>\n      <td>한과류</td>\n      <td>40</td>\n      <td>g</td>\n      <td>40</td>\n      <td>-</td>\n      <td>6.0</td>\n      <td>40.0</td>\n      <td>15.0</td>\n    </tr>\n    <tr>\n      <th>33176</th>\n      <td>84300</td>\n      <td>양갱세트(뚜레쥬르밤맛영양갱)</td>\n      <td>과자</td>\n      <td>기성품</td>\n      <td>한과류</td>\n      <td>40</td>\n      <td>g</td>\n      <td>40</td>\n      <td>-</td>\n      <td>8.0</td>\n      <td>40.0</td>\n      <td>20.0</td>\n    </tr>\n  </tbody>\n</table>\n<p>4606 rows × 12 columns</p>\n</div>"
     },
     "execution_count": 453,
     "metadata": {},
     "output_type": "execute_result"
    }
   ],
   "source": [
    "sheet.loc[(sheet['대분류'] == '과자') & (sheet['중분류'] == '기성품'), :]"
   ],
   "metadata": {
    "collapsed": false,
    "pycharm": {
     "name": "#%%\n"
    }
   }
  },
  {
   "cell_type": "markdown",
   "source": [],
   "metadata": {
    "collapsed": false,
    "pycharm": {
     "name": "#%% md\n"
    }
   }
  },
  {
   "cell_type": "code",
   "execution_count": 454,
   "outputs": [
    {
     "data": {
      "text/plain": "Empty DataFrame\nColumns: [No, 식품명, 대분류, 중분류, 소분류, 1회 제공량, 용량, 총내용량(g), 총내용량(ml), 총당류(g), 총내용량, 단위용량 대비 설탕 비율]\nIndex: []",
      "text/html": "<div>\n<style scoped>\n    .dataframe tbody tr th:only-of-type {\n        vertical-align: middle;\n    }\n\n    .dataframe tbody tr th {\n        vertical-align: top;\n    }\n\n    .dataframe thead th {\n        text-align: right;\n    }\n</style>\n<table border=\"1\" class=\"dataframe\">\n  <thead>\n    <tr style=\"text-align: right;\">\n      <th></th>\n      <th>No</th>\n      <th>식품명</th>\n      <th>대분류</th>\n      <th>중분류</th>\n      <th>소분류</th>\n      <th>1회 제공량</th>\n      <th>용량</th>\n      <th>총내용량(g)</th>\n      <th>총내용량(ml)</th>\n      <th>총당류(g)</th>\n      <th>총내용량</th>\n      <th>단위용량 대비 설탕 비율</th>\n    </tr>\n  </thead>\n  <tbody>\n  </tbody>\n</table>\n</div>"
     },
     "execution_count": 454,
     "metadata": {},
     "output_type": "execute_result"
    }
   ],
   "source": [
    "sheet.loc[(sheet['중분류'] == '기성품') & (sheet['소분류'] == '기타'), :]"
   ],
   "metadata": {
    "collapsed": false,
    "pycharm": {
     "name": "#%%\n"
    }
   }
  },
  {
   "cell_type": "code",
   "execution_count": 455,
   "outputs": [],
   "source": [
    "sheet.loc[(sheet['대분류'] == '과자') & (sheet['중분류'] == '기성품'), '소분류'] = ''\n",
    "\n",
    "초코과자 = ['초코', '가나슈', '브라우니', '쵸코', '초콜릿', '코코아', '쇼콜라']\n",
    "통밀과자 = ['통밀']\n",
    "옥수수과자 = ['옥수수', '콘']\n",
    "흑미과자 = ['흑미']\n",
    "보리과자 = ['보리']\n",
    "밀과자 = ['밀']\n",
    "오곡과자 = ['오곡']\n",
    "땅콩과자 = ['피넛', '땅콩']\n",
    "깨과자 = ['깨']\n",
    "콩과자 = ['완두', '콩']\n",
    "아몬드과자 = ['아몬드']\n",
    "호두과자 = ['호두']\n",
    "헤이즐넛과자 = ['헤이즐넛']\n",
    "잣과자 = ['잣']\n",
    "마카다미아과자 = ['마카다미아']\n",
    "말차과자 = ['말차', '녹차']\n",
    "홍차과자 = ['홍차']\n",
    "카라멜과자 = ['카라멜']\n",
    "블루베리과자 = ['블루베리']\n",
    "크랜베리과자 = ['크랜베리']\n",
    "딸기과자 = ['딸기', '스트로베리']\n",
    "코코넛과자 = ['코코넛']\n",
    "리치과자 = ['리치']\n",
    "레몬과자 = ['레몬']\n",
    "한라봉과자 = ['한라봉']\n",
    "사과과자 = ['애플', \"사과\"]\n",
    "유자과자 = ['유자']\n",
    "오렌지과자 = ['오렌지']\n",
    "매실과자 = ['매실']\n",
    "올리브과자 = ['올리브']\n",
    "망고과자 = ['망고']\n",
    "복숭아과자 = ['복숭아', '피치']\n",
    "바나나과자 = ['바나나']\n",
    "라즈베리과자 = ['라즈베리']\n",
    "감귤과자 = ['감귤']\n",
    "단호박과자 = ['단호박']\n",
    "고구마과자 = ['고구마']\n",
    "호박과자 = ['호박']\n",
    "야채크래커 = ['당근', '양파', '마늘', '야채', '페퍼', '토마토', '감자', '시금', '비트']\n",
    "치즈과자 = ['치즈']\n",
    "파이 = ['파이']\n",
    "\n",
    "\n",
    "기성품쿠키종류 = {\n",
    "\"초코과자\":초코과자,\n",
    "\"통밀과자\":통밀과자,\n",
    "\"옥수수과자\":옥수수과자,\n",
    "\"흑미과자\":흑미과자,\n",
    "\"보리과자\":보리과자,\n",
    "\"밀과자\":밀과자,\n",
    "\"오곡과자\":오곡과자,\n",
    "\"땅콩과자\":땅콩과자,\n",
    "\"깨과자\":깨과자,\n",
    "\"콩과자\":콩과자,\n",
    "\"아몬드과자\":아몬드과자,\n",
    "\"호두과자\":호두과자,\n",
    "\"헤이즐넛과자\":헤이즐넛과자,\n",
    "\"잣과자\":잣과자,\n",
    "\"마카다미아과자\":마카다미아과자,\n",
    "\"말차과자\":말차과자,\n",
    "\"홍차과자\":홍차과자,\n",
    "\"카라멜과자\":카라멜과자,\n",
    "\"블루베리과자\":블루베리과자,\n",
    "\"크랜베리과자\":크랜베리과자,\n",
    "\"딸기과자\":딸기과자,\n",
    "\"코코넛과자\":코코넛과자,\n",
    "\"리치과자\":리치과자,\n",
    "\"레몬과자\":레몬과자,\n",
    "\"한라봉과자\":한라봉과자,\n",
    "\"사과과자\":사과과자,\n",
    "\"유자과자\":유자과자,\n",
    "\"오렌지과자\":오렌지과자,\n",
    "\"매실과자\":매실과자,\n",
    "\"올리브과자\":올리브과자,\n",
    "\"망고과자\":망고과자,\n",
    "\"복숭아과자\":복숭아과자,\n",
    "\"바나나과자\":바나나과자,\n",
    "\"라즈베리과자\":라즈베리과자,\n",
    "\"감귤과자\":감귤과자,\n",
    "\"단호박과자\":단호박과자,\n",
    "\"고구마과자\":고구마과자,\n",
    "\"호박과자\":호박과자,\n",
    "\"야채크래커\":야채크래커,\n",
    "\"치즈과자\":치즈과자,\n",
    "\"파이\":파이\n",
    "}\n",
    "\n",
    "seperated_category('기성품', 기성품쿠키종류)\n",
    "\n",
    "sheet.loc[(sheet['중분류'] == '기성품') & (sheet['소분류'] == ''), '소분류'] = '기타과자'"
   ],
   "metadata": {
    "collapsed": false,
    "pycharm": {
     "name": "#%%\n"
    }
   }
  },
  {
   "cell_type": "code",
   "execution_count": 456,
   "outputs": [],
   "source": [
    "delete = [5018, 7475, 31900, 31901, 31902]\n",
    "for value in delete:\n",
    "    sheet = sheet.drop(value, axis=0)"
   ],
   "metadata": {
    "collapsed": false,
    "pycharm": {
     "name": "#%%\n"
    }
   }
  },
  {
   "cell_type": "code",
   "execution_count": 457,
   "outputs": [
    {
     "name": "stdout",
     "output_type": "stream",
     "text": [
      "{'감귤과자': 23,\n",
      " '고구마과자': 114,\n",
      " '기타과자': 2406,\n",
      " '깨과자': 78,\n",
      " '딸기과자': 133,\n",
      " '땅콩과자': 24,\n",
      " '라즈베리과자': 10,\n",
      " '레몬과자': 20,\n",
      " '리치과자': 4,\n",
      " '마카다미아과자': 4,\n",
      " '말차과자': 29,\n",
      " '망고과자': 18,\n",
      " '밀과자': 184,\n",
      " '바나나과자': 88,\n",
      " '보리과자': 15,\n",
      " '복숭아과자': 7,\n",
      " '블루베리과자': 44,\n",
      " '사과과자': 33,\n",
      " '아몬드과자': 48,\n",
      " '야채크래커': 222,\n",
      " '오곡과자': 15,\n",
      " '오렌지과자': 13,\n",
      " '옥수수과자': 189,\n",
      " '올리브과자': 10,\n",
      " '유자과자': 7,\n",
      " '잣과자': 4,\n",
      " '초코과자': 220,\n",
      " '치즈과자': 248,\n",
      " '카라멜과자': 36,\n",
      " '코코넛과자': 60,\n",
      " '콩과자': 138,\n",
      " '크랜베리과자': 18,\n",
      " '파이': 45,\n",
      " '한라봉과자': 10,\n",
      " '헤이즐넛과자': 15,\n",
      " '호두과자': 9,\n",
      " '호박과자': 52,\n",
      " '홍차과자': 2,\n",
      " '흑미과자': 7}\n"
     ]
    }
   ],
   "source": [
    "pp.pprint(category_count_fn('기성품'))"
   ],
   "metadata": {
    "collapsed": false,
    "pycharm": {
     "name": "#%%\n"
    }
   }
  },
  {
   "cell_type": "code",
   "execution_count": 458,
   "outputs": [
    {
     "data": {
      "text/plain": "array(['기성품', '쿠키', '전통과자', '팝콘'], dtype=object)"
     },
     "execution_count": 458,
     "metadata": {},
     "output_type": "execute_result"
    }
   ],
   "source": [
    "sheet[(sheet['대분류'] == '과자')]['중분류'].unique()"
   ],
   "metadata": {
    "collapsed": false,
    "pycharm": {
     "name": "#%%\n"
    }
   }
  },
  {
   "cell_type": "code",
   "execution_count": 459,
   "outputs": [
    {
     "data": {
      "text/plain": "array(['기타과자', '코코넛과자', '땅콩과자', '옥수수과자', '밀과자', '치즈과자', '호박과자', '레몬과자',\n       '고구마과자', '견과쿠키', '사과과자', '초코과자', '망고과자', '딸기과자', '아몬드과자',\n       '마카다미아과자', '콩과자', '크랜베리과자', '파이', '헤이즐넛과자', '오렌지과자', '리치과자',\n       '말차과자', '바나나과자', '올리브과자', '호두과자', '깨과자', '라즈베리과자', '블루베리과자',\n       '야채크래커', '카라멜과자', '곡물쿠키', '전병', '약과', '건빵', '땅콩쿠키', '통밀쿠키', '과일팝콘',\n       '사과쿠키', '감귤과자', '기타과일쿠키', '쌀과자', '녹차쿠키', '옥수수쿠키', '초콜릿쿠키', '카라멜팝콘',\n       '치즈팝콘', '카라멜쿠키', '오레오쿠키', '치즈쿠키', '머랭쿠키', '한라봉과자', '유자과자',\n       '블루베리쿠키', '버터쿠키', '보리과자', '야채쿠키', '비스킷', '어니언팝콘', '코코넛쿠키', '잣과자',\n       '홍차쿠키', '오곡과자', '흑미과자', '버터팝콘', '초콜릿팝콘', '레몬쿠키', '한라봉쿠키', '갈릭팝콘',\n       '복숭아과자', '후추쿠키', '콘소메팝콘', '솔트팝콘', '인절미팝콘', '홍차과자', '월병'],\n      dtype=object)"
     },
     "execution_count": 459,
     "metadata": {},
     "output_type": "execute_result"
    }
   ],
   "source": [
    "sheet[(sheet['대분류'] == '과자')]['소분류'].unique()"
   ],
   "metadata": {
    "collapsed": false,
    "pycharm": {
     "name": "#%%\n"
    }
   }
  },
  {
   "cell_type": "code",
   "execution_count": 461,
   "outputs": [
    {
     "data": {
      "text/plain": "          No                        식품명 대분류   중분류    소분류  1회 제공량 용량 총내용량(g)  \\\n4906   25622                      해피 타임  과자   기성품   기타과자      30  g    1500   \n4907   25625                   크리스피 코코넛  과자   기성품  코코넛과자     100  g    1000   \n4908   25627                오트 25 텐 그레인  과자   기성품   기타과자     100  g     200   \n4909   25628                홀그레인 설타나 브란  과자   기성품   기타과자     100  g     750   \n4910   25634  커클랜드 시그니춰 앤더슨 피넛버터 필드 프리첼  과자   기성품   땅콩과자     100  g    1560   \n...      ...                        ...  ..   ...    ...     ... ..     ...   \n33175  84299          양갱세트(뚜레쥬르고구마맛영양갱)  과자   기성품  고구마과자      40  g      40   \n33176  84300            양갱세트(뚜레쥬르밤맛영양갱)  과자   기성품   기타과자      40  g      40   \n33177  84314       우리밀전병세트(우리밀로만든검은깨전병)  과자  전통과자     전병      27  g      27   \n33178  84315        우리밀전병세트(우리밀로만든땅콩전병)  과자  전통과자     전병      27  g      27   \n33179  84316        우리밀전병세트(우리밀로만든김맛전병)  과자  전통과자     전병      27  g      27   \n\n      총내용량(ml)  총당류(g)    총내용량  단위용량 대비 설탕 비율  \n4906         -     8.0  1500.0           26.7  \n4907         -    23.0  1000.0           23.0  \n4908         -    20.0   200.0           20.0  \n4909         -    26.0   750.0           26.0  \n4910         -     4.0  1560.0            4.0  \n...        ...     ...     ...            ...  \n33175        -     6.0    40.0           15.0  \n33176        -     8.0    40.0           20.0  \n33177        -    11.0    27.0           40.7  \n33178        -     9.0    27.0           33.3  \n33179        -    10.0    27.0           37.0  \n\n[6522 rows x 12 columns]",
      "text/html": "<div>\n<style scoped>\n    .dataframe tbody tr th:only-of-type {\n        vertical-align: middle;\n    }\n\n    .dataframe tbody tr th {\n        vertical-align: top;\n    }\n\n    .dataframe thead th {\n        text-align: right;\n    }\n</style>\n<table border=\"1\" class=\"dataframe\">\n  <thead>\n    <tr style=\"text-align: right;\">\n      <th></th>\n      <th>No</th>\n      <th>식품명</th>\n      <th>대분류</th>\n      <th>중분류</th>\n      <th>소분류</th>\n      <th>1회 제공량</th>\n      <th>용량</th>\n      <th>총내용량(g)</th>\n      <th>총내용량(ml)</th>\n      <th>총당류(g)</th>\n      <th>총내용량</th>\n      <th>단위용량 대비 설탕 비율</th>\n    </tr>\n  </thead>\n  <tbody>\n    <tr>\n      <th>4906</th>\n      <td>25622</td>\n      <td>해피 타임</td>\n      <td>과자</td>\n      <td>기성품</td>\n      <td>기타과자</td>\n      <td>30</td>\n      <td>g</td>\n      <td>1500</td>\n      <td>-</td>\n      <td>8.0</td>\n      <td>1500.0</td>\n      <td>26.7</td>\n    </tr>\n    <tr>\n      <th>4907</th>\n      <td>25625</td>\n      <td>크리스피 코코넛</td>\n      <td>과자</td>\n      <td>기성품</td>\n      <td>코코넛과자</td>\n      <td>100</td>\n      <td>g</td>\n      <td>1000</td>\n      <td>-</td>\n      <td>23.0</td>\n      <td>1000.0</td>\n      <td>23.0</td>\n    </tr>\n    <tr>\n      <th>4908</th>\n      <td>25627</td>\n      <td>오트 25 텐 그레인</td>\n      <td>과자</td>\n      <td>기성품</td>\n      <td>기타과자</td>\n      <td>100</td>\n      <td>g</td>\n      <td>200</td>\n      <td>-</td>\n      <td>20.0</td>\n      <td>200.0</td>\n      <td>20.0</td>\n    </tr>\n    <tr>\n      <th>4909</th>\n      <td>25628</td>\n      <td>홀그레인 설타나 브란</td>\n      <td>과자</td>\n      <td>기성품</td>\n      <td>기타과자</td>\n      <td>100</td>\n      <td>g</td>\n      <td>750</td>\n      <td>-</td>\n      <td>26.0</td>\n      <td>750.0</td>\n      <td>26.0</td>\n    </tr>\n    <tr>\n      <th>4910</th>\n      <td>25634</td>\n      <td>커클랜드 시그니춰 앤더슨 피넛버터 필드 프리첼</td>\n      <td>과자</td>\n      <td>기성품</td>\n      <td>땅콩과자</td>\n      <td>100</td>\n      <td>g</td>\n      <td>1560</td>\n      <td>-</td>\n      <td>4.0</td>\n      <td>1560.0</td>\n      <td>4.0</td>\n    </tr>\n    <tr>\n      <th>...</th>\n      <td>...</td>\n      <td>...</td>\n      <td>...</td>\n      <td>...</td>\n      <td>...</td>\n      <td>...</td>\n      <td>...</td>\n      <td>...</td>\n      <td>...</td>\n      <td>...</td>\n      <td>...</td>\n      <td>...</td>\n    </tr>\n    <tr>\n      <th>33175</th>\n      <td>84299</td>\n      <td>양갱세트(뚜레쥬르고구마맛영양갱)</td>\n      <td>과자</td>\n      <td>기성품</td>\n      <td>고구마과자</td>\n      <td>40</td>\n      <td>g</td>\n      <td>40</td>\n      <td>-</td>\n      <td>6.0</td>\n      <td>40.0</td>\n      <td>15.0</td>\n    </tr>\n    <tr>\n      <th>33176</th>\n      <td>84300</td>\n      <td>양갱세트(뚜레쥬르밤맛영양갱)</td>\n      <td>과자</td>\n      <td>기성품</td>\n      <td>기타과자</td>\n      <td>40</td>\n      <td>g</td>\n      <td>40</td>\n      <td>-</td>\n      <td>8.0</td>\n      <td>40.0</td>\n      <td>20.0</td>\n    </tr>\n    <tr>\n      <th>33177</th>\n      <td>84314</td>\n      <td>우리밀전병세트(우리밀로만든검은깨전병)</td>\n      <td>과자</td>\n      <td>전통과자</td>\n      <td>전병</td>\n      <td>27</td>\n      <td>g</td>\n      <td>27</td>\n      <td>-</td>\n      <td>11.0</td>\n      <td>27.0</td>\n      <td>40.7</td>\n    </tr>\n    <tr>\n      <th>33178</th>\n      <td>84315</td>\n      <td>우리밀전병세트(우리밀로만든땅콩전병)</td>\n      <td>과자</td>\n      <td>전통과자</td>\n      <td>전병</td>\n      <td>27</td>\n      <td>g</td>\n      <td>27</td>\n      <td>-</td>\n      <td>9.0</td>\n      <td>27.0</td>\n      <td>33.3</td>\n    </tr>\n    <tr>\n      <th>33179</th>\n      <td>84316</td>\n      <td>우리밀전병세트(우리밀로만든김맛전병)</td>\n      <td>과자</td>\n      <td>전통과자</td>\n      <td>전병</td>\n      <td>27</td>\n      <td>g</td>\n      <td>27</td>\n      <td>-</td>\n      <td>10.0</td>\n      <td>27.0</td>\n      <td>37.0</td>\n    </tr>\n  </tbody>\n</table>\n<p>6522 rows × 12 columns</p>\n</div>"
     },
     "execution_count": 461,
     "metadata": {},
     "output_type": "execute_result"
    }
   ],
   "source": [
    "sheet[sheet['대분류'] == '과자']"
   ],
   "metadata": {
    "collapsed": false,
    "pycharm": {
     "name": "#%%\n"
    }
   }
  },
  {
   "cell_type": "code",
   "execution_count": 461,
   "outputs": [],
   "source": [],
   "metadata": {
    "collapsed": false,
    "pycharm": {
     "name": "#%%\n"
    }
   }
  },
  {
   "cell_type": "code",
   "execution_count": 461,
   "outputs": [],
   "source": [],
   "metadata": {
    "collapsed": false,
    "pycharm": {
     "name": "#%%\n"
    }
   }
  },
  {
   "cell_type": "code",
   "execution_count": 461,
   "outputs": [],
   "source": [],
   "metadata": {
    "collapsed": false,
    "pycharm": {
     "name": "#%%\n"
    }
   }
  },
  {
   "cell_type": "code",
   "execution_count": 461,
   "outputs": [],
   "source": [],
   "metadata": {
    "collapsed": false,
    "pycharm": {
     "name": "#%%\n"
    }
   }
  },
  {
   "cell_type": "code",
   "execution_count": 461,
   "outputs": [],
   "source": [],
   "metadata": {
    "collapsed": false,
    "pycharm": {
     "name": "#%%\n"
    }
   }
  },
  {
   "cell_type": "code",
   "execution_count": 462,
   "outputs": [],
   "source": [
    "sheet.to_csv('../../과자정제(final).csv')"
   ],
   "metadata": {
    "collapsed": false,
    "pycharm": {
     "name": "#%%\n"
    }
   }
  },
  {
   "cell_type": "code",
   "execution_count": 193,
   "outputs": [],
   "source": [],
   "metadata": {
    "collapsed": false,
    "pycharm": {
     "name": "#%%\n"
    }
   }
  },
  {
   "cell_type": "code",
   "execution_count": 193,
   "outputs": [],
   "source": [],
   "metadata": {
    "collapsed": false,
    "pycharm": {
     "name": "#%%\n"
    }
   }
  },
  {
   "cell_type": "code",
   "execution_count": 193,
   "outputs": [],
   "source": [],
   "metadata": {
    "collapsed": false,
    "pycharm": {
     "name": "#%%\n"
    }
   }
  },
  {
   "cell_type": "code",
   "execution_count": 193,
   "outputs": [],
   "source": [],
   "metadata": {
    "collapsed": false,
    "pycharm": {
     "name": "#%%\n"
    }
   }
  },
  {
   "cell_type": "code",
   "execution_count": 137,
   "outputs": [],
   "source": [],
   "metadata": {
    "collapsed": false,
    "pycharm": {
     "name": "#%%\n"
    }
   }
  },
  {
   "cell_type": "code",
   "execution_count": null,
   "outputs": [],
   "source": [],
   "metadata": {
    "collapsed": false,
    "pycharm": {
     "name": "#%%\n"
    }
   }
  }
 ],
 "metadata": {
  "kernelspec": {
   "display_name": "Python 3",
   "language": "python",
   "name": "python3"
  },
  "language_info": {
   "codemirror_mode": {
    "name": "ipython",
    "version": 2
   },
   "file_extension": ".py",
   "mimetype": "text/x-python",
   "name": "python",
   "nbconvert_exporter": "python",
   "pygments_lexer": "ipython2",
   "version": "2.7.6"
  }
 },
 "nbformat": 4,
 "nbformat_minor": 0
}